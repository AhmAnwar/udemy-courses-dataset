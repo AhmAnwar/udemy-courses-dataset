{
 "cells": [
  {
   "cell_type": "markdown",
   "id": "aff90008",
   "metadata": {
    "id": "dgI3ZvHOv7lP",
    "papermill": {
     "duration": 0.038405,
     "end_time": "2023-07-24T06:44:45.715601",
     "exception": false,
     "start_time": "2023-07-24T06:44:45.677196",
     "status": "completed"
    },
    "tags": []
   },
   "source": [
    "# Udemy Courses Analysis Project"
   ]
  },
  {
   "cell_type": "markdown",
   "id": "3d40eb0a",
   "metadata": {
    "id": "_SRl18IUwMkD",
    "papermill": {
     "duration": 0.038556,
     "end_time": "2023-07-24T06:44:48.230007",
     "exception": false,
     "start_time": "2023-07-24T06:44:48.191451",
     "status": "completed"
    },
    "tags": []
   },
   "source": [
    "# Import libraries"
   ]
  },
  {
   "cell_type": "code",
   "execution_count": 2,
   "id": "9ae77662",
   "metadata": {
    "execution": {
     "iopub.execute_input": "2023-07-24T06:44:45.795266Z",
     "iopub.status.busy": "2023-07-24T06:44:45.794574Z",
     "iopub.status.idle": "2023-07-24T06:44:48.149542Z",
     "shell.execute_reply": "2023-07-24T06:44:48.148346Z"
    },
    "papermill": {
     "duration": 2.399607,
     "end_time": "2023-07-24T06:44:48.153220",
     "exception": false,
     "start_time": "2023-07-24T06:44:45.753613",
     "status": "completed"
    },
    "tags": []
   },
   "outputs": [],
   "source": [
    "import numpy as np # linear algebra\n",
    "import pandas as pd # data processing, CSV file I/O (e.g. pd.read_csv)\n",
    "import matplotlib.pyplot as plt\n",
    "%matplotlib inline\n",
    "import seaborn as sns\n",
    "import plotly.express as px"
   ]
  },
  {
   "cell_type": "markdown",
   "id": "2429b5c1",
   "metadata": {
    "id": "w_HckFcLw_D_",
    "papermill": {
     "duration": 0.037586,
     "end_time": "2023-07-24T06:44:48.305725",
     "exception": false,
     "start_time": "2023-07-24T06:44:48.268139",
     "status": "completed"
    },
    "tags": []
   },
   "source": [
    "# Import Dataset"
   ]
  },
  {
   "cell_type": "code",
   "execution_count": 3,
   "id": "efdb355e",
   "metadata": {
    "execution": {
     "iopub.execute_input": "2023-07-24T06:44:48.383213Z",
     "iopub.status.busy": "2023-07-24T06:44:48.382566Z",
     "iopub.status.idle": "2023-07-24T06:44:48.451091Z",
     "shell.execute_reply": "2023-07-24T06:44:48.450030Z"
    },
    "id": "p1T4fUSyxEO6",
    "outputId": "6be811e9-6ba1-40d6-beb8-5cc7a8181c3f",
    "papermill": {
     "duration": 0.110394,
     "end_time": "2023-07-24T06:44:48.453686",
     "exception": false,
     "start_time": "2023-07-24T06:44:48.343292",
     "status": "completed"
    },
    "tags": []
   },
   "outputs": [
    {
     "data": {
      "text/html": [
       "<div>\n",
       "<style scoped>\n",
       "    .dataframe tbody tr th:only-of-type {\n",
       "        vertical-align: middle;\n",
       "    }\n",
       "\n",
       "    .dataframe tbody tr th {\n",
       "        vertical-align: top;\n",
       "    }\n",
       "\n",
       "    .dataframe thead th {\n",
       "        text-align: right;\n",
       "    }\n",
       "</style>\n",
       "<table border=\"1\" class=\"dataframe\">\n",
       "  <thead>\n",
       "    <tr style=\"text-align: right;\">\n",
       "      <th></th>\n",
       "      <th>course_id</th>\n",
       "      <th>course_title</th>\n",
       "      <th>url</th>\n",
       "      <th>is_paid</th>\n",
       "      <th>price</th>\n",
       "      <th>num_subscribers</th>\n",
       "      <th>num_reviews</th>\n",
       "      <th>num_lectures</th>\n",
       "      <th>level</th>\n",
       "      <th>content_duration</th>\n",
       "      <th>published_timestamp</th>\n",
       "      <th>subject</th>\n",
       "    </tr>\n",
       "  </thead>\n",
       "  <tbody>\n",
       "    <tr>\n",
       "      <th>0</th>\n",
       "      <td>1070968</td>\n",
       "      <td>Ultimate Investment Banking Course</td>\n",
       "      <td>https://www.udemy.com/ultimate-investment-bank...</td>\n",
       "      <td>True</td>\n",
       "      <td>200</td>\n",
       "      <td>2147</td>\n",
       "      <td>23</td>\n",
       "      <td>51</td>\n",
       "      <td>All Levels</td>\n",
       "      <td>1.5</td>\n",
       "      <td>2017-01-18T20:58:58Z</td>\n",
       "      <td>Business Finance</td>\n",
       "    </tr>\n",
       "    <tr>\n",
       "      <th>1</th>\n",
       "      <td>1113822</td>\n",
       "      <td>Complete GST Course &amp; Certification - Grow You...</td>\n",
       "      <td>https://www.udemy.com/goods-and-services-tax/</td>\n",
       "      <td>True</td>\n",
       "      <td>75</td>\n",
       "      <td>2792</td>\n",
       "      <td>923</td>\n",
       "      <td>274</td>\n",
       "      <td>All Levels</td>\n",
       "      <td>39.0</td>\n",
       "      <td>2017-03-09T16:34:20Z</td>\n",
       "      <td>Business Finance</td>\n",
       "    </tr>\n",
       "    <tr>\n",
       "      <th>2</th>\n",
       "      <td>1006314</td>\n",
       "      <td>Financial Modeling for Business Analysts and C...</td>\n",
       "      <td>https://www.udemy.com/financial-modeling-for-b...</td>\n",
       "      <td>True</td>\n",
       "      <td>45</td>\n",
       "      <td>2174</td>\n",
       "      <td>74</td>\n",
       "      <td>51</td>\n",
       "      <td>Intermediate Level</td>\n",
       "      <td>2.5</td>\n",
       "      <td>2016-12-19T19:26:30Z</td>\n",
       "      <td>Business Finance</td>\n",
       "    </tr>\n",
       "    <tr>\n",
       "      <th>3</th>\n",
       "      <td>1210588</td>\n",
       "      <td>Beginner to Pro - Financial Analysis in Excel ...</td>\n",
       "      <td>https://www.udemy.com/complete-excel-finance-c...</td>\n",
       "      <td>True</td>\n",
       "      <td>95</td>\n",
       "      <td>2451</td>\n",
       "      <td>11</td>\n",
       "      <td>36</td>\n",
       "      <td>All Levels</td>\n",
       "      <td>3.0</td>\n",
       "      <td>2017-05-30T20:07:24Z</td>\n",
       "      <td>Business Finance</td>\n",
       "    </tr>\n",
       "    <tr>\n",
       "      <th>4</th>\n",
       "      <td>1011058</td>\n",
       "      <td>How To Maximize Your Profits Trading Options</td>\n",
       "      <td>https://www.udemy.com/how-to-maximize-your-pro...</td>\n",
       "      <td>True</td>\n",
       "      <td>200</td>\n",
       "      <td>1276</td>\n",
       "      <td>45</td>\n",
       "      <td>26</td>\n",
       "      <td>Intermediate Level</td>\n",
       "      <td>2.0</td>\n",
       "      <td>2016-12-13T14:57:18Z</td>\n",
       "      <td>Business Finance</td>\n",
       "    </tr>\n",
       "  </tbody>\n",
       "</table>\n",
       "</div>"
      ],
      "text/plain": [
       "   course_id                                       course_title  \\\n",
       "0    1070968                 Ultimate Investment Banking Course   \n",
       "1    1113822  Complete GST Course & Certification - Grow You...   \n",
       "2    1006314  Financial Modeling for Business Analysts and C...   \n",
       "3    1210588  Beginner to Pro - Financial Analysis in Excel ...   \n",
       "4    1011058       How To Maximize Your Profits Trading Options   \n",
       "\n",
       "                                                 url  is_paid  price  \\\n",
       "0  https://www.udemy.com/ultimate-investment-bank...     True    200   \n",
       "1      https://www.udemy.com/goods-and-services-tax/     True     75   \n",
       "2  https://www.udemy.com/financial-modeling-for-b...     True     45   \n",
       "3  https://www.udemy.com/complete-excel-finance-c...     True     95   \n",
       "4  https://www.udemy.com/how-to-maximize-your-pro...     True    200   \n",
       "\n",
       "   num_subscribers  num_reviews  num_lectures               level  \\\n",
       "0             2147           23            51          All Levels   \n",
       "1             2792          923           274          All Levels   \n",
       "2             2174           74            51  Intermediate Level   \n",
       "3             2451           11            36          All Levels   \n",
       "4             1276           45            26  Intermediate Level   \n",
       "\n",
       "   content_duration   published_timestamp           subject  \n",
       "0               1.5  2017-01-18T20:58:58Z  Business Finance  \n",
       "1              39.0  2017-03-09T16:34:20Z  Business Finance  \n",
       "2               2.5  2016-12-19T19:26:30Z  Business Finance  \n",
       "3               3.0  2017-05-30T20:07:24Z  Business Finance  \n",
       "4               2.0  2016-12-13T14:57:18Z  Business Finance  "
      ]
     },
     "execution_count": 3,
     "metadata": {},
     "output_type": "execute_result"
    }
   ],
   "source": [
    "# https://drive.google.com/file/d/1yWF1T0foQ1sZh2SWRrn7zOw64BTjtJ_s/view?usp=drive_link\n",
    "url = 'https://drive.google.com/uc?id='\n",
    "data = '1yWF1T0foQ1sZh2SWRrn7zOw64BTjtJ_s'\n",
    "\n",
    "df = pd.read_csv(url + data)\n",
    "df.head()"
   ]
  },
  {
   "cell_type": "markdown",
   "id": "9280fa08",
   "metadata": {
    "id": "RcrADrsg3qKe",
    "papermill": {
     "duration": 0.03766,
     "end_time": "2023-07-24T06:44:48.529470",
     "exception": false,
     "start_time": "2023-07-24T06:44:48.491810",
     "status": "completed"
    },
    "tags": []
   },
   "source": [
    "# Data Cleaning"
   ]
  },
  {
   "cell_type": "markdown",
   "id": "6107ad67",
   "metadata": {
    "id": "6cdb2R1d38ku",
    "papermill": {
     "duration": 0.0376,
     "end_time": "2023-07-24T06:44:48.604954",
     "exception": false,
     "start_time": "2023-07-24T06:44:48.567354",
     "status": "completed"
    },
    "tags": []
   },
   "source": [
    "# check of data type"
   ]
  },
  {
   "cell_type": "code",
   "execution_count": 3,
   "id": "8ecc236c",
   "metadata": {
    "execution": {
     "iopub.execute_input": "2023-07-24T06:44:48.684399Z",
     "iopub.status.busy": "2023-07-24T06:44:48.683680Z",
     "iopub.status.idle": "2023-07-24T06:44:48.690853Z",
     "shell.execute_reply": "2023-07-24T06:44:48.690102Z"
    },
    "id": "RSGbyg739Ooe",
    "outputId": "66f5d5ec-d715-48ae-cb04-1cdecc5af4df",
    "papermill": {
     "duration": 0.048999,
     "end_time": "2023-07-24T06:44:48.692885",
     "exception": false,
     "start_time": "2023-07-24T06:44:48.643886",
     "status": "completed"
    },
    "tags": []
   },
   "outputs": [
    {
     "data": {
      "text/plain": [
       "course_id                int64\n",
       "course_title            object\n",
       "url                     object\n",
       "is_paid                   bool\n",
       "price                    int64\n",
       "num_subscribers          int64\n",
       "num_reviews              int64\n",
       "num_lectures             int64\n",
       "level                   object\n",
       "content_duration       float64\n",
       "published_timestamp     object\n",
       "subject                 object\n",
       "dtype: object"
      ]
     },
     "execution_count": 3,
     "metadata": {},
     "output_type": "execute_result"
    }
   ],
   "source": [
    "df.dtypes"
   ]
  },
  {
   "cell_type": "code",
   "execution_count": 4,
   "id": "67667fa0",
   "metadata": {
    "execution": {
     "iopub.execute_input": "2023-07-24T06:44:48.772358Z",
     "iopub.status.busy": "2023-07-24T06:44:48.771962Z",
     "iopub.status.idle": "2023-07-24T06:44:48.782526Z",
     "shell.execute_reply": "2023-07-24T06:44:48.781441Z"
    },
    "id": "-BBLHsZx5IMk",
    "papermill": {
     "duration": 0.052852,
     "end_time": "2023-07-24T06:44:48.784889",
     "exception": false,
     "start_time": "2023-07-24T06:44:48.732037",
     "status": "completed"
    },
    "tags": []
   },
   "outputs": [],
   "source": [
    "# convert published_timestamp column from object to datetime\n",
    "\n",
    "df['published_timestamp'] = pd.to_datetime(df['published_timestamp'])"
   ]
  },
  {
   "cell_type": "code",
   "execution_count": 5,
   "id": "83430190",
   "metadata": {
    "execution": {
     "iopub.execute_input": "2023-07-24T06:44:48.864685Z",
     "iopub.status.busy": "2023-07-24T06:44:48.863492Z",
     "iopub.status.idle": "2023-07-24T06:44:48.870329Z",
     "shell.execute_reply": "2023-07-24T06:44:48.869188Z"
    },
    "id": "4Uma10F05lan",
    "outputId": "a8c54147-921e-494e-c200-26a8e4777392",
    "papermill": {
     "duration": 0.048863,
     "end_time": "2023-07-24T06:44:48.872510",
     "exception": false,
     "start_time": "2023-07-24T06:44:48.823647",
     "status": "completed"
    },
    "tags": []
   },
   "outputs": [
    {
     "data": {
      "text/plain": [
       "datetime64[ns, UTC]"
      ]
     },
     "execution_count": 5,
     "metadata": {},
     "output_type": "execute_result"
    }
   ],
   "source": [
    "# check type again\n",
    "\n",
    "df['published_timestamp'].dtype"
   ]
  },
  {
   "cell_type": "markdown",
   "id": "917d0c5a",
   "metadata": {
    "id": "cT9AHoQ193O4",
    "papermill": {
     "duration": 0.038553,
     "end_time": "2023-07-24T06:44:48.949987",
     "exception": false,
     "start_time": "2023-07-24T06:44:48.911434",
     "status": "completed"
    },
    "tags": []
   },
   "source": [
    "# check of null values"
   ]
  },
  {
   "cell_type": "code",
   "execution_count": 6,
   "id": "5ee441ec",
   "metadata": {
    "execution": {
     "iopub.execute_input": "2023-07-24T06:44:49.029814Z",
     "iopub.status.busy": "2023-07-24T06:44:49.029063Z",
     "iopub.status.idle": "2023-07-24T06:44:49.048121Z",
     "shell.execute_reply": "2023-07-24T06:44:49.046860Z"
    },
    "id": "IjaoxiJB8_Bc",
    "outputId": "79d393fd-a772-48d0-c546-5ef1d3fbfb8f",
    "papermill": {
     "duration": 0.061557,
     "end_time": "2023-07-24T06:44:49.050574",
     "exception": false,
     "start_time": "2023-07-24T06:44:48.989017",
     "status": "completed"
    },
    "tags": []
   },
   "outputs": [
    {
     "data": {
      "text/plain": [
       "course_id              0\n",
       "course_title           0\n",
       "url                    0\n",
       "is_paid                0\n",
       "price                  0\n",
       "num_subscribers        0\n",
       "num_reviews            0\n",
       "num_lectures           0\n",
       "level                  0\n",
       "content_duration       0\n",
       "published_timestamp    0\n",
       "subject                0\n",
       "dtype: int64"
      ]
     },
     "execution_count": 6,
     "metadata": {},
     "output_type": "execute_result"
    }
   ],
   "source": [
    "# calculate sum of null values for each column\n",
    "\n",
    "df.isnull().sum()"
   ]
  },
  {
   "cell_type": "markdown",
   "id": "ab38aa03",
   "metadata": {
    "id": "N_vVsNAH56l6",
    "papermill": {
     "duration": 0.038665,
     "end_time": "2023-07-24T06:44:49.127984",
     "exception": false,
     "start_time": "2023-07-24T06:44:49.089319",
     "status": "completed"
    },
    "tags": []
   },
   "source": [
    "# check of duplicates"
   ]
  },
  {
   "cell_type": "code",
   "execution_count": 7,
   "id": "9a757f4d",
   "metadata": {
    "execution": {
     "iopub.execute_input": "2023-07-24T06:44:49.208117Z",
     "iopub.status.busy": "2023-07-24T06:44:49.207306Z",
     "iopub.status.idle": "2023-07-24T06:44:49.228767Z",
     "shell.execute_reply": "2023-07-24T06:44:49.227898Z"
    },
    "id": "jE3NMGnk6B9h",
    "outputId": "cfbe4822-0db8-4410-f8ea-4f5b431ce93f",
    "papermill": {
     "duration": 0.064022,
     "end_time": "2023-07-24T06:44:49.231135",
     "exception": false,
     "start_time": "2023-07-24T06:44:49.167113",
     "status": "completed"
    },
    "tags": []
   },
   "outputs": [
    {
     "data": {
      "text/plain": [
       "6"
      ]
     },
     "execution_count": 7,
     "metadata": {},
     "output_type": "execute_result"
    }
   ],
   "source": [
    "# calculate num of duplicated rows in dataset\n",
    "\n",
    "df.duplicated().sum()"
   ]
  },
  {
   "cell_type": "code",
   "execution_count": 8,
   "id": "58a33724",
   "metadata": {
    "execution": {
     "iopub.execute_input": "2023-07-24T06:44:49.311266Z",
     "iopub.status.busy": "2023-07-24T06:44:49.310741Z",
     "iopub.status.idle": "2023-07-24T06:44:49.327979Z",
     "shell.execute_reply": "2023-07-24T06:44:49.326619Z"
    },
    "id": "ulHRMNgo6bsZ",
    "papermill": {
     "duration": 0.060471,
     "end_time": "2023-07-24T06:44:49.330764",
     "exception": false,
     "start_time": "2023-07-24T06:44:49.270293",
     "status": "completed"
    },
    "tags": []
   },
   "outputs": [],
   "source": [
    "# drop duplicated values\n",
    "\n",
    "df.drop_duplicates(inplace= True)"
   ]
  },
  {
   "cell_type": "code",
   "execution_count": 9,
   "id": "0ad6e26b",
   "metadata": {
    "execution": {
     "iopub.execute_input": "2023-07-24T06:44:49.410616Z",
     "iopub.status.busy": "2023-07-24T06:44:49.409587Z",
     "iopub.status.idle": "2023-07-24T06:44:49.423235Z",
     "shell.execute_reply": "2023-07-24T06:44:49.422299Z"
    },
    "id": "5q0FKzcW6m71",
    "outputId": "d32e92ce-bbb8-403f-8c14-0b69b54d4b85",
    "papermill": {
     "duration": 0.055912,
     "end_time": "2023-07-24T06:44:49.425438",
     "exception": false,
     "start_time": "2023-07-24T06:44:49.369526",
     "status": "completed"
    },
    "tags": []
   },
   "outputs": [
    {
     "data": {
      "text/plain": [
       "0"
      ]
     },
     "execution_count": 9,
     "metadata": {},
     "output_type": "execute_result"
    }
   ],
   "source": [
    "# check again\n",
    "\n",
    "df.duplicated().sum()"
   ]
  },
  {
   "cell_type": "markdown",
   "id": "b11713f2",
   "metadata": {
    "id": "AkV20emz-BMB",
    "papermill": {
     "duration": 0.038817,
     "end_time": "2023-07-24T06:44:49.503557",
     "exception": false,
     "start_time": "2023-07-24T06:44:49.464740",
     "status": "completed"
    },
    "tags": []
   },
   "source": [
    "# check of white spaces in columns name"
   ]
  },
  {
   "cell_type": "code",
   "execution_count": 10,
   "id": "bc6418df",
   "metadata": {
    "execution": {
     "iopub.execute_input": "2023-07-24T06:44:49.583991Z",
     "iopub.status.busy": "2023-07-24T06:44:49.583530Z",
     "iopub.status.idle": "2023-07-24T06:44:49.591476Z",
     "shell.execute_reply": "2023-07-24T06:44:49.590372Z"
    },
    "id": "EBpRs8Xy-HP3",
    "outputId": "9a50d096-2feb-4527-9b25-576ddfedef26",
    "papermill": {
     "duration": 0.051372,
     "end_time": "2023-07-24T06:44:49.593934",
     "exception": false,
     "start_time": "2023-07-24T06:44:49.542562",
     "status": "completed"
    },
    "tags": []
   },
   "outputs": [
    {
     "data": {
      "text/plain": [
       "Index(['course_id', 'course_title', 'url', 'is_paid', 'price',\n",
       "       'num_subscribers', 'num_reviews', 'num_lectures', 'level',\n",
       "       'content_duration', 'published_timestamp', 'subject'],\n",
       "      dtype='object')"
      ]
     },
     "execution_count": 10,
     "metadata": {},
     "output_type": "execute_result"
    }
   ],
   "source": [
    "# get string of columns name\n",
    "\n",
    "df.columns"
   ]
  },
  {
   "cell_type": "code",
   "execution_count": 11,
   "id": "d6cfb002",
   "metadata": {
    "execution": {
     "iopub.execute_input": "2023-07-24T06:44:49.676496Z",
     "iopub.status.busy": "2023-07-24T06:44:49.676076Z",
     "iopub.status.idle": "2023-07-24T06:44:49.681156Z",
     "shell.execute_reply": "2023-07-24T06:44:49.680361Z"
    },
    "id": "MjXUbjnZDNfs",
    "papermill": {
     "duration": 0.049426,
     "end_time": "2023-07-24T06:44:49.683255",
     "exception": false,
     "start_time": "2023-07-24T06:44:49.633829",
     "status": "completed"
    },
    "tags": []
   },
   "outputs": [],
   "source": [
    "# remove white spaces if exist\n",
    "\n",
    "df.columns = df.columns.str.strip()"
   ]
  },
  {
   "cell_type": "code",
   "execution_count": 12,
   "id": "d16ab974",
   "metadata": {
    "execution": {
     "iopub.execute_input": "2023-07-24T06:44:49.763826Z",
     "iopub.status.busy": "2023-07-24T06:44:49.763374Z",
     "iopub.status.idle": "2023-07-24T06:44:49.787209Z",
     "shell.execute_reply": "2023-07-24T06:44:49.785846Z"
    },
    "id": "dxRJQlz5AwQu",
    "outputId": "078e1a54-dd8a-49f8-d554-61de13158afd",
    "papermill": {
     "duration": 0.067224,
     "end_time": "2023-07-24T06:44:49.789800",
     "exception": false,
     "start_time": "2023-07-24T06:44:49.722576",
     "status": "completed"
    },
    "tags": []
   },
   "outputs": [
    {
     "name": "stdout",
     "output_type": "stream",
     "text": [
      "<class 'pandas.core.frame.DataFrame'>\n",
      "Int64Index: 3672 entries, 0 to 3677\n",
      "Data columns (total 12 columns):\n",
      " #   Column               Non-Null Count  Dtype              \n",
      "---  ------               --------------  -----              \n",
      " 0   course_id            3672 non-null   int64              \n",
      " 1   course_title         3672 non-null   object             \n",
      " 2   url                  3672 non-null   object             \n",
      " 3   is_paid              3672 non-null   bool               \n",
      " 4   price                3672 non-null   int64              \n",
      " 5   num_subscribers      3672 non-null   int64              \n",
      " 6   num_reviews          3672 non-null   int64              \n",
      " 7   num_lectures         3672 non-null   int64              \n",
      " 8   level                3672 non-null   object             \n",
      " 9   content_duration     3672 non-null   float64            \n",
      " 10  published_timestamp  3672 non-null   datetime64[ns, UTC]\n",
      " 11  subject              3672 non-null   object             \n",
      "dtypes: bool(1), datetime64[ns, UTC](1), float64(1), int64(5), object(4)\n",
      "memory usage: 347.8+ KB\n"
     ]
    }
   ],
   "source": [
    "# Last Check\n",
    "\n",
    "df.info()"
   ]
  },
  {
   "cell_type": "markdown",
   "id": "55c50d60",
   "metadata": {
    "id": "y3UpqS8tF6KK",
    "papermill": {
     "duration": 0.039003,
     "end_time": "2023-07-24T06:44:49.868888",
     "exception": false,
     "start_time": "2023-07-24T06:44:49.829885",
     "status": "completed"
    },
    "tags": []
   },
   "source": [
    "# check of outliers"
   ]
  },
  {
   "cell_type": "code",
   "execution_count": 13,
   "id": "7ea17a7b",
   "metadata": {
    "execution": {
     "iopub.execute_input": "2023-07-24T06:44:49.951028Z",
     "iopub.status.busy": "2023-07-24T06:44:49.950582Z",
     "iopub.status.idle": "2023-07-24T06:44:49.990090Z",
     "shell.execute_reply": "2023-07-24T06:44:49.988787Z"
    },
    "id": "X0wEnin8I-GP",
    "outputId": "ec55699f-4372-4177-b1b3-3dff8f338609",
    "papermill": {
     "duration": 0.083687,
     "end_time": "2023-07-24T06:44:49.992509",
     "exception": false,
     "start_time": "2023-07-24T06:44:49.908822",
     "status": "completed"
    },
    "tags": []
   },
   "outputs": [
    {
     "data": {
      "text/html": [
       "<div>\n",
       "<style scoped>\n",
       "    .dataframe tbody tr th:only-of-type {\n",
       "        vertical-align: middle;\n",
       "    }\n",
       "\n",
       "    .dataframe tbody tr th {\n",
       "        vertical-align: top;\n",
       "    }\n",
       "\n",
       "    .dataframe thead th {\n",
       "        text-align: right;\n",
       "    }\n",
       "</style>\n",
       "<table border=\"1\" class=\"dataframe\">\n",
       "  <thead>\n",
       "    <tr style=\"text-align: right;\">\n",
       "      <th></th>\n",
       "      <th>course_id</th>\n",
       "      <th>price</th>\n",
       "      <th>num_subscribers</th>\n",
       "      <th>num_reviews</th>\n",
       "      <th>num_lectures</th>\n",
       "      <th>content_duration</th>\n",
       "    </tr>\n",
       "  </thead>\n",
       "  <tbody>\n",
       "    <tr>\n",
       "      <th>count</th>\n",
       "      <td>3672.00</td>\n",
       "      <td>3672.00</td>\n",
       "      <td>3672.00</td>\n",
       "      <td>3672.00</td>\n",
       "      <td>3672.00</td>\n",
       "      <td>3672.00</td>\n",
       "    </tr>\n",
       "    <tr>\n",
       "      <th>mean</th>\n",
       "      <td>675897.70</td>\n",
       "      <td>66.10</td>\n",
       "      <td>3190.59</td>\n",
       "      <td>156.37</td>\n",
       "      <td>40.14</td>\n",
       "      <td>4.10</td>\n",
       "    </tr>\n",
       "    <tr>\n",
       "      <th>std</th>\n",
       "      <td>343071.95</td>\n",
       "      <td>61.04</td>\n",
       "      <td>9488.11</td>\n",
       "      <td>936.18</td>\n",
       "      <td>50.42</td>\n",
       "      <td>6.06</td>\n",
       "    </tr>\n",
       "    <tr>\n",
       "      <th>min</th>\n",
       "      <td>8324.00</td>\n",
       "      <td>0.00</td>\n",
       "      <td>0.00</td>\n",
       "      <td>0.00</td>\n",
       "      <td>0.00</td>\n",
       "      <td>0.00</td>\n",
       "    </tr>\n",
       "    <tr>\n",
       "      <th>25%</th>\n",
       "      <td>407761.50</td>\n",
       "      <td>20.00</td>\n",
       "      <td>111.75</td>\n",
       "      <td>4.00</td>\n",
       "      <td>15.00</td>\n",
       "      <td>1.00</td>\n",
       "    </tr>\n",
       "    <tr>\n",
       "      <th>50%</th>\n",
       "      <td>687692.00</td>\n",
       "      <td>45.00</td>\n",
       "      <td>912.00</td>\n",
       "      <td>18.00</td>\n",
       "      <td>25.00</td>\n",
       "      <td>2.00</td>\n",
       "    </tr>\n",
       "    <tr>\n",
       "      <th>75%</th>\n",
       "      <td>960814.00</td>\n",
       "      <td>95.00</td>\n",
       "      <td>2548.75</td>\n",
       "      <td>67.00</td>\n",
       "      <td>46.00</td>\n",
       "      <td>4.50</td>\n",
       "    </tr>\n",
       "    <tr>\n",
       "      <th>max</th>\n",
       "      <td>1282064.00</td>\n",
       "      <td>200.00</td>\n",
       "      <td>268923.00</td>\n",
       "      <td>27445.00</td>\n",
       "      <td>779.00</td>\n",
       "      <td>78.50</td>\n",
       "    </tr>\n",
       "  </tbody>\n",
       "</table>\n",
       "</div>"
      ],
      "text/plain": [
       "        course_id    price  num_subscribers  num_reviews  num_lectures  \\\n",
       "count     3672.00  3672.00          3672.00      3672.00       3672.00   \n",
       "mean    675897.70    66.10          3190.59       156.37         40.14   \n",
       "std     343071.95    61.04          9488.11       936.18         50.42   \n",
       "min       8324.00     0.00             0.00         0.00          0.00   \n",
       "25%     407761.50    20.00           111.75         4.00         15.00   \n",
       "50%     687692.00    45.00           912.00        18.00         25.00   \n",
       "75%     960814.00    95.00          2548.75        67.00         46.00   \n",
       "max    1282064.00   200.00        268923.00     27445.00        779.00   \n",
       "\n",
       "       content_duration  \n",
       "count           3672.00  \n",
       "mean               4.10  \n",
       "std                6.06  \n",
       "min                0.00  \n",
       "25%                1.00  \n",
       "50%                2.00  \n",
       "75%                4.50  \n",
       "max               78.50  "
      ]
     },
     "execution_count": 13,
     "metadata": {},
     "output_type": "execute_result"
    }
   ],
   "source": [
    "# describe numerical date of dataset\n",
    "\n",
    "df.describe().round(2)"
   ]
  },
  {
   "cell_type": "code",
   "execution_count": 14,
   "id": "0132523a",
   "metadata": {
    "execution": {
     "iopub.execute_input": "2023-07-24T06:44:50.073830Z",
     "iopub.status.busy": "2023-07-24T06:44:50.073409Z",
     "iopub.status.idle": "2023-07-24T06:44:51.940410Z",
     "shell.execute_reply": "2023-07-24T06:44:51.939437Z"
    },
    "id": "3YHS_buqxnkW",
    "outputId": "13b3c5eb-7c6a-4707-ae69-377a9c3a67da",
    "papermill": {
     "duration": 1.910505,
     "end_time": "2023-07-24T06:44:51.942650",
     "exception": false,
     "start_time": "2023-07-24T06:44:50.032145",
     "status": "completed"
    },
    "tags": []
   },
   "outputs": [
    {
     "data": {
      "text/html": [
       "        <script type=\"text/javascript\">\n",
       "        window.PlotlyConfig = {MathJaxConfig: 'local'};\n",
       "        if (window.MathJax && window.MathJax.Hub && window.MathJax.Hub.Config) {window.MathJax.Hub.Config({SVG: {font: \"STIX-Web\"}});}\n",
       "        if (typeof require !== 'undefined') {\n",
       "        require.undef(\"plotly\");\n",
       "        requirejs.config({\n",
       "            paths: {\n",
       "                'plotly': ['https://cdn.plot.ly/plotly-2.24.1.min']\n",
       "            }\n",
       "        });\n",
       "        require(['plotly'], function(Plotly) {\n",
       "            window._Plotly = Plotly;\n",
       "        });\n",
       "        }\n",
       "        </script>\n",
       "        "
      ]
     },
     "metadata": {},
     "output_type": "display_data"
    },
    {
     "data": {
      "text/html": [
       "<div>                            <div id=\"6ce01aab-b0a4-42fa-b850-b5e80c1c12cd\" class=\"plotly-graph-div\" style=\"height:525px; width:100%;\"></div>            <script type=\"text/javascript\">                require([\"plotly\"], function(Plotly) {                    window.PLOTLYENV=window.PLOTLYENV || {};                                    if (document.getElementById(\"6ce01aab-b0a4-42fa-b850-b5e80c1c12cd\")) {                    Plotly.newPlot(                        \"6ce01aab-b0a4-42fa-b850-b5e80c1c12cd\",                        [{\"alignmentgroup\":\"True\",\"hovertemplate\":\"variable=price\\u003cbr\\u003evalue=%{y}\\u003cextra\\u003e\\u003c\\u002fextra\\u003e\",\"legendgroup\":\"price\",\"marker\":{\"color\":\"#636efa\"},\"name\":\"price\",\"notched\":false,\"offsetgroup\":\"price\",\"orientation\":\"v\",\"showlegend\":true,\"x0\":\" \",\"xaxis\":\"x\",\"y\":[200.0,75.0,45.0,95.0,200.0,150.0,65.0,95.0,195.0,200.0,200.0,200.0,30.0,195.0,200.0,75.0,20.0,200.0,50.0,95.0,200.0,200.0,75.0,50.0,45.0,150.0,200.0,175.0,150.0,140.0,95.0,200.0,45.0,200.0,200.0,195.0,195.0,200.0,195.0,195.0,195.0,195.0,195.0,115.0,200.0,150.0,95.0,200.0,190.0,150.0,200.0,95.0,125.0,30.0,200.0,60.0,200.0,145.0,20.0,200.0,105.0,60.0,155.0,200.0,185.0,150.0,180.0,125.0,200.0,185.0,125.0,95.0,200.0,20.0,60.0,200.0,200.0,120.0,150.0,25.0,200.0,160.0,20.0,95.0,50.0,200.0,20.0,200.0,195.0,200.0,20.0,20.0,95.0,150.0,40.0,0.0,20.0,100.0,75.0,20.0,40.0,20.0,25.0,0.0,50.0,200.0,0.0,195.0,0.0,20.0,150.0,95.0,0.0,20.0,150.0,20.0,25.0,150.0,50.0,0.0,50.0,180.0,50.0,100.0,25.0,200.0,20.0,90.0,0.0,20.0,35.0,50.0,100.0,50.0,20.0,200.0,200.0,60.0,150.0,20.0,105.0,20.0,150.0,0.0,100.0,60.0,200.0,200.0,20.0,30.0,95.0,95.0,60.0,20.0,20.0,200.0,125.0,200.0,200.0,35.0,200.0,200.0,120.0,195.0,125.0,200.0,25.0,200.0,20.0,195.0,20.0,50.0,200.0,120.0,200.0,200.0,45.0,50.0,80.0,0.0,200.0,20.0,50.0,200.0,120.0,145.0,195.0,200.0,45.0,20.0,200.0,75.0,20.0,0.0,20.0,20.0,150.0,20.0,200.0,45.0,60.0,20.0,20.0,50.0,50.0,50.0,0.0,50.0,60.0,0.0,60.0,40.0,45.0,0.0,200.0,95.0,20.0,50.0,200.0,95.0,40.0,20.0,20.0,200.0,20.0,20.0,60.0,75.0,20.0,20.0,20.0,200.0,20.0,20.0,20.0,30.0,95.0,50.0,65.0,95.0,50.0,95.0,50.0,105.0,120.0,40.0,35.0,20.0,0.0,0.0,50.0,20.0,200.0,0.0,125.0,35.0,20.0,75.0,50.0,30.0,50.0,100.0,150.0,20.0,200.0,95.0,200.0,95.0,30.0,25.0,125.0,35.0,30.0,50.0,200.0,35.0,25.0,50.0,20.0,20.0,20.0,20.0,125.0,0.0,20.0,20.0,60.0,60.0,0.0,50.0,0.0,0.0,60.0,60.0,115.0,25.0,120.0,0.0,150.0,0.0,50.0,0.0,35.0,20.0,200.0,20.0,20.0,80.0,70.0,50.0,20.0,75.0,90.0,40.0,30.0,200.0,20.0,75.0,25.0,20.0,20.0,50.0,20.0,20.0,25.0,20.0,50.0,200.0,200.0,60.0,180.0,50.0,200.0,30.0,50.0,40.0,50.0,20.0,150.0,95.0,0.0,20.0,200.0,20.0,60.0,195.0,0.0,0.0,0.0,45.0,100.0,20.0,20.0,200.0,0.0,0.0,180.0,75.0,25.0,50.0,0.0,95.0,40.0,100.0,145.0,30.0,50.0,20.0,20.0,20.0,95.0,90.0,20.0,75.0,0.0,50.0,20.0,145.0,100.0,60.0,45.0,200.0,200.0,150.0,200.0,25.0,20.0,25.0,125.0,50.0,20.0,20.0,200.0,150.0,200.0,20.0,160.0,200.0,30.0,20.0,40.0,50.0,200.0,200.0,100.0,50.0,20.0,50.0,200.0,50.0,30.0,20.0,20.0,25.0,45.0,200.0,50.0,40.0,25.0,20.0,60.0,20.0,20.0,20.0,20.0,0.0,20.0,40.0,30.0,30.0,35.0,20.0,0.0,0.0,30.0,200.0,50.0,190.0,95.0,35.0,30.0,195.0,60.0,195.0,200.0,0.0,20.0,20.0,20.0,50.0,50.0,80.0,25.0,20.0,20.0,20.0,50.0,50.0,50.0,20.0,50.0,95.0,100.0,40.0,40.0,50.0,55.0,0.0,20.0,95.0,200.0,55.0,50.0,25.0,20.0,20.0,50.0,95.0,40.0,55.0,50.0,50.0,20.0,20.0,0.0,125.0,50.0,50.0,120.0,200.0,20.0,0.0,0.0,95.0,0.0,20.0,165.0,200.0,25.0,195.0,200.0,20.0,0.0,20.0,40.0,95.0,195.0,95.0,20.0,35.0,195.0,200.0,105.0,20.0,30.0,20.0,20.0,20.0,30.0,20.0,20.0,40.0,105.0,20.0,100.0,20.0,200.0,95.0,180.0,100.0,150.0,50.0,200.0,60.0,20.0,25.0,95.0,20.0,200.0,50.0,50.0,20.0,20.0,50.0,0.0,50.0,75.0,50.0,50.0,75.0,20.0,195.0,50.0,55.0,20.0,50.0,100.0,40.0,40.0,30.0,50.0,190.0,195.0,50.0,40.0,100.0,20.0,20.0,200.0,60.0,0.0,95.0,0.0,20.0,50.0,25.0,95.0,50.0,50.0,50.0,20.0,20.0,20.0,55.0,20.0,20.0,20.0,200.0,20.0,0.0,50.0,40.0,20.0,20.0,20.0,200.0,100.0,20.0,25.0,80.0,20.0,95.0,70.0,20.0,25.0,40.0,20.0,20.0,45.0,20.0,20.0,25.0,20.0,20.0,50.0,20.0,200.0,20.0,20.0,150.0,20.0,195.0,20.0,0.0,200.0,0.0,50.0,95.0,50.0,0.0,200.0,60.0,50.0,30.0,200.0,20.0,25.0,20.0,200.0,145.0,30.0,45.0,40.0,20.0,20.0,145.0,30.0,50.0,200.0,95.0,45.0,45.0,95.0,95.0,200.0,180.0,50.0,100.0,40.0,50.0,20.0,50.0,50.0,20.0,20.0,0.0,40.0,30.0,60.0,200.0,0.0,130.0,35.0,95.0,20.0,90.0,50.0,35.0,20.0,145.0,40.0,150.0,20.0,20.0,20.0,20.0,20.0,35.0,180.0,50.0,40.0,0.0,20.0,125.0,20.0,0.0,50.0,75.0,95.0,50.0,95.0,80.0,195.0,25.0,200.0,50.0,20.0,95.0,40.0,50.0,20.0,50.0,25.0,25.0,30.0,200.0,50.0,20.0,20.0,40.0,0.0,50.0,30.0,50.0,50.0,0.0,50.0,0.0,30.0,35.0,25.0,20.0,60.0,50.0,20.0,20.0,40.0,20.0,45.0,100.0,50.0,90.0,0.0,100.0,20.0,20.0,50.0,0.0,40.0,20.0,200.0,40.0,30.0,195.0,95.0,0.0,0.0,20.0,50.0,20.0,20.0,50.0,50.0,200.0,0.0,50.0,40.0,20.0,20.0,0.0,20.0,20.0,95.0,40.0,50.0,85.0,0.0,20.0,25.0,50.0,50.0,20.0,35.0,20.0,100.0,50.0,75.0,60.0,200.0,145.0,60.0,20.0,50.0,200.0,200.0,60.0,20.0,20.0,140.0,120.0,200.0,50.0,170.0,50.0,200.0,150.0,150.0,60.0,20.0,50.0,20.0,200.0,20.0,20.0,100.0,45.0,50.0,0.0,50.0,50.0,0.0,50.0,25.0,150.0,0.0,0.0,25.0,50.0,0.0,0.0,50.0,0.0,20.0,0.0,25.0,20.0,50.0,25.0,0.0,125.0,200.0,120.0,20.0,50.0,195.0,20.0,60.0,20.0,50.0,20.0,50.0,95.0,150.0,20.0,20.0,50.0,20.0,50.0,50.0,40.0,30.0,50.0,0.0,35.0,0.0,20.0,20.0,30.0,150.0,75.0,50.0,100.0,20.0,0.0,90.0,20.0,0.0,25.0,20.0,50.0,60.0,20.0,90.0,20.0,20.0,50.0,200.0,100.0,160.0,20.0,20.0,25.0,50.0,60.0,60.0,150.0,20.0,20.0,25.0,200.0,30.0,50.0,20.0,200.0,0.0,20.0,20.0,0.0,20.0,75.0,30.0,20.0,20.0,20.0,145.0,200.0,30.0,20.0,30.0,25.0,45.0,35.0,20.0,20.0,20.0,20.0,20.0,95.0,20.0,35.0,30.0,35.0,50.0,60.0,30.0,20.0,20.0,20.0,20.0,50.0,0.0,25.0,20.0,180.0,95.0,20.0,20.0,20.0,200.0,0.0,30.0,20.0,50.0,50.0,50.0,20.0,50.0,20.0,95.0,100.0,20.0,20.0,20.0,0.0,45.0,200.0,40.0,30.0,50.0,20.0,20.0,40.0,20.0,50.0,50.0,0.0,20.0,50.0,50.0,20.0,35.0,20.0,95.0,20.0,35.0,40.0,110.0,20.0,20.0,95.0,135.0,50.0,30.0,70.0,200.0,20.0,40.0,195.0,50.0,50.0,115.0,20.0,20.0,50.0,0.0,25.0,50.0,150.0,20.0,20.0,20.0,200.0,35.0,40.0,50.0,20.0,20.0,45.0,25.0,20.0,50.0,50.0,35.0,30.0,170.0,20.0,20.0,30.0,30.0,20.0,35.0,195.0,150.0,0.0,20.0,0.0,85.0,75.0,45.0,25.0,20.0,80.0,200.0,150.0,20.0,85.0,20.0,45.0,25.0,30.0,200.0,115.0,30.0,45.0,130.0,140.0,30.0,20.0,140.0,20.0,85.0,20.0,20.0,25.0,40.0,20.0,100.0,175.0,40.0,20.0,25.0,20.0,195.0,200.0,20.0,50.0,50.0,35.0,25.0,20.0,30.0,30.0,55.0,200.0,20.0,30.0,125.0,25.0,35.0,0.0,20.0,20.0,85.0,25.0,0.0,70.0,100.0,50.0,75.0,0.0,0.0,0.0,0.0,0.0,0.0,25.0,20.0,195.0,45.0,65.0,20.0,95.0,30.0,0.0,40.0,50.0,40.0,200.0,195.0,200.0,50.0,20.0,25.0,195.0,200.0,200.0,0.0,100.0,20.0,200.0,115.0,200.0,200.0,50.0,150.0,20.0,50.0,20.0,50.0,35.0,40.0,20.0,20.0,35.0,180.0,50.0,40.0,50.0,95.0,40.0,40.0,50.0,20.0,200.0,20.0,20.0,25.0,20.0,200.0,20.0,50.0,65.0,50.0,50.0,195.0,20.0,0.0,20.0,30.0,50.0,20.0,20.0,40.0,100.0,85.0,90.0,25.0,55.0,40.0,0.0,35.0,20.0,25.0,180.0,20.0,50.0,20.0,20.0,25.0,50.0,20.0,150.0,95.0,150.0,20.0,200.0,200.0,180.0,65.0,25.0,20.0,200.0,195.0,0.0,0.0,0.0,200.0,150.0,200.0,200.0,95.0,75.0,30.0,200.0,150.0,95.0,200.0,150.0,195.0,20.0,30.0,20.0,50.0,20.0,25.0,20.0,50.0,150.0,30.0,25.0,20.0,30.0,25.0,20.0,20.0,20.0,20.0,20.0,0.0,0.0,0.0,0.0,185.0,20.0,100.0,50.0,30.0,200.0,25.0,20.0,20.0,20.0,200.0,200.0,20.0,150.0,150.0,200.0,45.0,45.0,30.0,80.0,0.0,60.0,0.0,0.0,190.0,20.0,95.0,200.0,75.0,45.0,120.0,20.0,95.0,25.0,0.0,30.0,40.0,0.0,0.0,50.0,0.0,20.0,100.0,40.0,0.0,105.0,30.0,25.0,40.0,95.0,95.0,95.0,0.0,40.0,20.0,20.0,20.0,70.0,50.0,30.0,20.0,200.0,65.0,200.0,20.0,40.0,0.0,75.0,50.0,0.0,50.0,20.0,30.0,70.0,20.0,20.0,20.0,80.0,200.0,125.0,50.0,20.0,20.0,20.0,50.0,45.0,20.0,40.0,20.0,20.0,45.0,0.0,100.0,20.0,60.0,25.0,150.0,70.0,30.0,20.0,30.0,100.0,135.0,80.0,60.0,30.0,30.0,20.0,0.0,200.0,20.0,80.0,195.0,0.0,20.0,200.0,20.0,50.0,25.0,35.0,95.0,0.0,30.0,0.0,0.0,200.0,145.0,95.0,40.0,20.0,100.0,165.0,30.0,30.0,100.0,100.0,0.0,25.0,120.0,135.0,35.0,20.0,20.0,70.0,0.0,145.0,25.0,195.0,0.0,0.0,20.0,50.0,30.0,30.0,30.0,135.0,75.0,140.0,20.0,20.0,95.0,20.0,0.0,0.0,25.0,95.0,50.0,70.0,20.0,90.0,45.0,100.0,50.0,95.0,30.0,85.0,20.0,75.0,195.0,20.0,45.0,20.0,20.0,55.0,20.0,115.0,20.0,20.0,20.0,50.0,150.0,25.0,45.0,20.0,35.0,20.0,185.0,20.0,20.0,30.0,20.0,20.0,95.0,20.0,25.0,200.0,100.0,30.0,55.0,20.0,200.0,95.0,0.0,95.0,20.0,0.0,25.0,20.0,20.0,20.0,40.0,20.0,20.0,20.0,20.0,40.0,20.0,35.0,20.0,20.0,20.0,20.0,20.0,65.0,195.0,30.0,65.0,200.0,50.0,90.0,195.0,95.0,100.0,50.0,20.0,155.0,20.0,45.0,90.0,45.0,20.0,75.0,40.0,20.0,40.0,40.0,30.0,30.0,150.0,20.0,100.0,20.0,150.0,20.0,20.0,20.0,50.0,20.0,20.0,50.0,20.0,85.0,20.0,30.0,20.0,40.0,200.0,200.0,200.0,200.0,180.0,195.0,20.0,25.0,20.0,50.0,20.0,25.0,20.0,20.0,20.0,20.0,20.0,100.0,20.0,95.0,35.0,200.0,25.0,25.0,50.0,55.0,30.0,20.0,20.0,70.0,20.0,20.0,40.0,20.0,20.0,20.0,30.0,80.0,50.0,25.0,20.0,45.0,30.0,20.0,30.0,20.0,20.0,25.0,180.0,20.0,75.0,95.0,195.0,175.0,100.0,35.0,125.0,90.0,195.0,20.0,135.0,20.0,100.0,20.0,20.0,20.0,30.0,60.0,20.0,20.0,20.0,40.0,50.0,20.0,25.0,200.0,25.0,35.0,20.0,30.0,20.0,50.0,20.0,20.0,50.0,30.0,50.0,20.0,20.0,20.0,50.0,100.0,50.0,45.0,20.0,25.0,20.0,20.0,20.0,20.0,35.0,150.0,20.0,40.0,20.0,100.0,20.0,125.0,20.0,100.0,35.0,50.0,150.0,50.0,20.0,35.0,195.0,55.0,20.0,50.0,30.0,30.0,25.0,35.0,95.0,40.0,40.0,20.0,50.0,20.0,30.0,200.0,195.0,200.0,100.0,50.0,200.0,20.0,20.0,35.0,165.0,20.0,100.0,20.0,20.0,50.0,105.0,200.0,35.0,100.0,120.0,20.0,0.0,95.0,65.0,20.0,30.0,20.0,20.0,50.0,20.0,45.0,20.0,35.0,20.0,40.0,20.0,30.0,25.0,55.0,100.0,25.0,20.0,50.0,20.0,20.0,20.0,50.0,40.0,95.0,80.0,20.0,200.0,100.0,150.0,195.0,105.0,25.0,195.0,20.0,50.0,20.0,30.0,20.0,95.0,20.0,40.0,50.0,50.0,20.0,35.0,50.0,20.0,30.0,85.0,25.0,20.0,35.0,0.0,30.0,20.0,35.0,20.0,20.0,120.0,20.0,20.0,25.0,65.0,20.0,20.0,45.0,100.0,20.0,20.0,40.0,40.0,20.0,20.0,20.0,20.0,25.0,50.0,25.0,20.0,200.0,35.0,20.0,20.0,85.0,40.0,25.0,195.0,35.0,0.0,20.0,195.0,200.0,75.0,40.0,20.0,20.0,20.0,195.0,25.0,25.0,20.0,35.0,20.0,20.0,30.0,20.0,25.0,20.0,20.0,20.0,40.0,20.0,20.0,30.0,20.0,20.0,20.0,20.0,20.0,0.0,20.0,150.0,30.0,0.0,0.0,50.0,80.0,50.0,25.0,40.0,20.0,70.0,30.0,0.0,20.0,40.0,0.0,35.0,20.0,30.0,45.0,40.0,95.0,50.0,20.0,55.0,50.0,20.0,20.0,40.0,35.0,45.0,20.0,50.0,30.0,20.0,100.0,50.0,50.0,95.0,50.0,50.0,50.0,95.0,80.0,100.0,20.0,0.0,50.0,120.0,80.0,40.0,50.0,50.0,100.0,50.0,100.0,75.0,50.0,20.0,55.0,40.0,40.0,75.0,0.0,40.0,45.0,40.0,30.0,50.0,60.0,40.0,70.0,0.0,40.0,200.0,115.0,50.0,55.0,50.0,45.0,35.0,50.0,20.0,0.0,40.0,40.0,40.0,100.0,20.0,65.0,60.0,40.0,40.0,0.0,50.0,20.0,0.0,40.0,0.0,40.0,70.0,0.0,120.0,30.0,175.0,75.0,20.0,35.0,50.0,120.0,70.0,50.0,0.0,200.0,85.0,150.0,20.0,35.0,0.0,50.0,20.0,45.0,95.0,0.0,50.0,20.0,200.0,50.0,50.0,0.0,0.0,40.0,70.0,200.0,85.0,0.0,25.0,20.0,20.0,40.0,40.0,95.0,45.0,100.0,50.0,50.0,20.0,35.0,0.0,50.0,0.0,70.0,120.0,50.0,45.0,50.0,30.0,30.0,40.0,0.0,60.0,50.0,50.0,150.0,65.0,50.0,25.0,0.0,0.0,40.0,20.0,20.0,50.0,200.0,25.0,55.0,0.0,50.0,0.0,200.0,200.0,50.0,145.0,50.0,200.0,50.0,200.0,50.0,200.0,200.0,150.0,45.0,45.0,200.0,75.0,50.0,35.0,200.0,50.0,50.0,100.0,50.0,50.0,60.0,0.0,40.0,60.0,55.0,45.0,40.0,50.0,70.0,95.0,0.0,40.0,95.0,95.0,45.0,145.0,50.0,20.0,75.0,200.0,200.0,50.0,20.0,50.0,50.0,25.0,50.0,40.0,75.0,30.0,95.0,75.0,25.0,100.0,60.0,115.0,95.0,50.0,100.0,55.0,20.0,45.0,200.0,75.0,50.0,65.0,65.0,30.0,20.0,20.0,0.0,25.0,20.0,40.0,50.0,35.0,30.0,50.0,20.0,0.0,20.0,20.0,85.0,30.0,125.0,70.0,75.0,50.0,0.0,150.0,45.0,20.0,45.0,45.0,40.0,40.0,75.0,25.0,40.0,20.0,0.0,20.0,20.0,0.0,60.0,30.0,40.0,75.0,30.0,95.0,20.0,50.0,50.0,50.0,25.0,35.0,20.0,60.0,195.0,50.0,50.0,40.0,65.0,20.0,50.0,30.0,95.0,35.0,50.0,30.0,20.0,50.0,95.0,35.0,75.0,50.0,25.0,100.0,55.0,25.0,20.0,30.0,0.0,20.0,20.0,25.0,20.0,50.0,50.0,50.0,35.0,50.0,50.0,20.0,20.0,50.0,20.0,70.0,50.0,20.0,50.0,35.0,20.0,20.0,50.0,195.0,95.0,20.0,40.0,65.0,45.0,50.0,20.0,40.0,20.0,75.0,20.0,20.0,20.0,50.0,100.0,80.0,40.0,50.0,20.0,30.0,40.0,20.0,50.0,50.0,50.0,25.0,50.0,20.0,0.0,35.0,90.0,20.0,0.0,20.0,25.0,0.0,40.0,75.0,35.0,85.0,55.0,40.0,45.0,20.0,25.0,70.0,50.0,30.0,50.0,20.0,50.0,50.0,50.0,20.0,100.0,100.0,50.0,85.0,200.0,50.0,20.0,50.0,50.0,55.0,35.0,65.0,195.0,50.0,95.0,20.0,40.0,35.0,0.0,20.0,40.0,40.0,20.0,20.0,40.0,35.0,35.0,50.0,20.0,40.0,50.0,100.0,95.0,50.0,20.0,20.0,20.0,40.0,25.0,25.0,50.0,50.0,40.0,50.0,35.0,50.0,25.0,30.0,50.0,50.0,50.0,30.0,20.0,50.0,50.0,50.0,40.0,20.0,20.0,100.0,40.0,20.0,25.0,20.0,25.0,20.0,20.0,50.0,95.0,50.0,20.0,105.0,50.0,20.0,40.0,20.0,50.0,50.0,20.0,35.0,20.0,30.0,60.0,20.0,50.0,25.0,50.0,20.0,35.0,50.0,115.0,35.0,50.0,50.0,20.0,50.0,20.0,20.0,20.0,80.0,45.0,50.0,25.0,50.0,60.0,40.0,35.0,195.0,40.0,45.0,50.0,40.0,20.0,40.0,50.0,45.0,50.0,175.0,45.0,50.0,40.0,55.0,20.0,40.0,40.0,20.0,20.0,35.0,40.0,50.0,20.0,20.0,35.0,20.0,40.0,30.0,50.0,20.0,35.0,40.0,20.0,40.0,180.0,35.0,80.0,40.0,40.0,0.0,50.0,35.0,20.0,20.0,50.0,20.0,20.0,20.0,75.0,50.0,95.0,20.0,60.0,20.0,20.0,60.0,40.0,20.0,25.0,50.0,40.0,50.0,40.0,30.0,95.0,40.0,35.0,30.0,20.0,50.0,30.0,50.0,20.0,40.0,20.0,40.0,30.0,95.0,20.0,20.0,20.0,20.0,20.0,135.0,135.0,25.0,25.0,130.0,20.0,125.0,20.0,20.0,20.0,35.0,20.0,40.0,20.0,40.0,85.0,0.0,20.0,35.0,25.0,50.0,45.0,40.0,20.0,20.0,0.0,0.0,0.0,0.0,20.0,170.0,85.0,100.0,50.0,60.0,50.0,40.0,20.0,95.0,20.0,0.0,200.0,25.0,30.0,20.0,20.0,95.0,40.0,40.0,20.0,40.0,50.0,195.0,30.0,35.0,40.0,20.0,25.0,25.0,20.0,0.0,45.0,20.0,40.0,40.0,50.0,30.0,180.0,20.0,200.0,20.0,50.0,20.0,50.0,50.0,50.0,50.0,55.0,50.0,20.0,50.0,20.0,50.0,20.0,75.0,50.0,50.0,60.0,20.0,40.0,50.0,150.0,200.0,40.0,195.0,25.0,200.0,20.0,95.0,40.0,20.0,20.0,40.0,50.0,100.0,40.0,200.0,200.0,190.0,120.0,110.0,165.0,60.0,65.0,200.0,150.0,85.0,60.0,200.0,195.0,195.0,100.0,20.0,195.0,60.0,95.0,150.0,100.0,20.0,20.0,120.0,20.0,175.0,60.0,70.0,20.0,50.0,100.0,100.0,100.0,75.0,80.0,75.0,195.0,150.0,125.0,145.0,50.0,100.0,20.0,115.0,75.0,20.0,50.0,200.0,135.0,95.0,200.0,150.0,195.0,200.0,80.0,150.0,120.0,195.0,65.0,20.0,20.0,200.0,25.0,200.0,50.0,200.0,80.0,150.0,195.0,100.0,60.0,50.0,0.0,0.0,0.0,0.0,100.0,0.0,20.0,30.0,20.0,40.0,50.0,75.0,20.0,65.0,20.0,0.0,200.0,195.0,0.0,20.0,50.0,20.0,40.0,40.0,0.0,20.0,50.0,50.0,120.0,195.0,95.0,50.0,0.0,50.0,50.0,0.0,200.0,200.0,150.0,200.0,100.0,50.0,60.0,95.0,30.0,30.0,150.0,200.0,20.0,50.0,200.0,195.0,195.0,195.0,95.0,55.0,195.0,200.0,100.0,20.0,35.0,60.0,200.0,20.0,195.0,195.0,195.0,195.0,40.0,195.0,175.0,40.0,95.0,115.0,50.0,0.0,0.0,200.0,20.0,200.0,0.0,20.0,195.0,0.0,85.0,200.0,20.0,150.0,195.0,95.0,150.0,95.0,95.0,50.0,75.0,195.0,20.0,95.0,50.0,30.0,195.0,20.0,100.0,200.0,100.0,35.0,20.0,150.0,25.0,75.0,40.0,20.0,95.0,140.0,50.0,0.0,70.0,100.0,30.0,25.0,150.0,115.0,190.0,85.0,200.0,195.0,100.0,120.0,50.0,200.0,100.0,200.0,200.0,200.0,195.0,195.0,50.0,40.0,200.0,30.0,50.0,150.0,100.0,100.0,0.0,0.0,50.0,60.0,0.0,30.0,45.0,0.0,25.0,0.0,0.0,20.0,200.0,100.0,50.0,40.0,20.0,50.0,20.0,30.0,200.0,200.0,40.0,35.0,20.0,30.0,45.0,25.0,20.0,200.0,200.0,100.0,50.0,200.0,195.0,195.0,30.0,200.0,200.0,20.0,200.0,35.0,100.0,75.0,20.0,30.0,60.0,20.0,40.0,40.0,100.0,100.0,20.0,20.0,45.0,195.0,180.0,200.0,50.0,200.0,20.0,0.0,25.0,50.0,0.0,0.0,20.0,20.0,120.0,20.0,20.0,20.0,25.0,35.0,150.0,200.0,20.0,50.0,20.0,95.0,20.0,100.0,20.0,50.0,100.0,100.0,60.0,165.0,195.0,195.0,65.0,100.0,50.0,50.0,35.0,195.0,195.0,35.0,200.0,40.0,145.0,20.0,50.0,70.0,50.0,100.0,200.0,75.0,20.0,0.0,25.0,0.0,0.0,60.0,20.0,115.0,0.0,125.0,0.0,195.0,50.0,95.0,80.0,20.0,75.0,100.0,195.0,20.0,50.0,30.0,200.0,70.0,95.0,0.0,40.0,25.0,200.0,35.0,0.0,20.0,50.0,100.0,40.0,20.0,20.0,50.0,0.0,60.0,65.0,25.0,125.0,35.0,40.0,95.0,95.0,35.0,20.0,45.0,65.0,20.0,25.0,50.0,50.0,20.0,20.0,115.0,50.0,40.0,20.0,20.0,30.0,95.0,20.0,30.0,50.0,20.0,195.0,20.0,20.0,95.0,120.0,50.0,100.0,200.0,195.0,150.0,75.0,200.0,200.0,115.0,20.0,125.0,150.0,40.0,20.0,65.0,40.0,75.0,170.0,20.0,125.0,45.0,200.0,195.0,0.0,200.0,0.0,20.0,20.0,50.0,0.0,100.0,35.0,35.0,195.0,20.0,50.0,95.0,40.0,25.0,20.0,75.0,20.0,50.0,200.0,200.0,80.0,125.0,20.0,20.0,60.0,30.0,20.0,20.0,55.0,200.0,195.0,75.0,35.0,50.0,20.0,0.0,60.0,120.0,25.0,75.0,40.0,0.0,45.0,0.0,20.0,0.0,30.0,100.0,175.0,95.0,40.0,20.0,20.0,50.0,185.0,20.0,50.0,45.0,200.0,200.0,100.0,20.0,0.0,100.0,40.0,40.0,20.0,50.0,65.0,35.0,95.0,25.0,95.0,20.0,20.0,75.0,110.0,30.0,145.0,95.0,200.0,50.0,50.0,100.0,20.0,25.0,50.0,195.0,50.0,20.0,20.0,100.0,200.0,70.0,20.0,20.0,200.0,200.0,145.0,100.0,20.0,195.0,200.0,150.0,100.0,140.0,40.0,20.0,0.0,150.0,200.0,50.0,20.0,40.0,20.0,95.0,50.0,0.0,0.0,95.0,45.0,40.0,50.0,200.0,40.0,100.0,200.0,50.0,35.0,200.0,45.0,100.0,75.0,95.0,75.0,195.0,95.0,75.0,20.0,40.0,95.0,20.0,80.0,20.0,100.0,150.0,120.0,200.0,75.0,195.0,170.0,150.0,20.0,75.0,20.0,90.0,50.0,110.0,50.0,75.0,50.0,145.0,100.0,20.0,20.0,20.0,85.0,50.0,115.0,200.0,45.0,55.0,30.0,55.0,20.0,20.0,50.0,25.0,145.0,40.0,0.0,20.0,0.0,0.0,20.0,100.0,0.0,0.0,20.0,75.0,140.0,40.0,95.0,200.0,95.0,150.0,100.0,105.0,20.0,200.0,95.0,150.0,95.0,20.0,50.0,200.0,20.0,75.0,20.0,75.0,40.0,20.0,20.0,35.0,110.0,100.0,195.0,200.0,150.0,195.0,70.0,75.0,150.0,60.0,50.0,195.0,20.0,100.0,20.0,25.0,80.0,100.0,200.0,90.0,175.0,50.0,120.0,95.0,195.0,25.0,50.0,30.0,40.0,35.0,40.0,20.0,50.0,35.0,0.0,0.0,20.0,195.0,60.0,195.0,195.0,40.0,200.0,90.0,75.0,195.0,195.0,30.0,195.0,30.0,50.0,100.0,40.0,30.0,120.0,50.0,50.0,20.0,85.0,50.0,110.0,145.0,200.0,50.0,190.0,110.0,190.0,145.0,200.0,100.0,195.0,30.0,55.0,50.0,35.0,95.0,50.0,45.0,30.0,45.0,150.0,0.0,50.0,40.0,150.0,50.0,190.0,160.0,195.0,150.0,150.0,140.0,200.0,75.0,200.0,200.0,0.0,0.0,195.0,125.0,0.0,100.0,145.0,145.0,0.0,0.0,35.0,200.0,175.0,175.0,75.0,195.0,80.0,195.0,110.0,140.0,180.0,120.0,190.0,150.0,0.0,0.0,20.0,195.0,20.0,30.0,35.0,175.0,95.0,50.0,50.0,40.0,0.0,20.0,30.0,120.0,0.0,85.0,20.0,200.0,60.0,40.0,35.0,145.0,200.0,200.0,120.0,20.0,0.0,35.0,20.0,0.0,0.0,0.0,75.0,0.0,100.0,0.0,60.0,0.0,30.0,35.0,60.0,45.0,65.0,55.0,0.0,0.0,20.0,0.0,55.0,30.0,0.0,30.0,20.0,0.0,0.0,0.0,50.0,0.0,200.0,0.0,0.0,0.0,0.0,95.0,0.0,0.0,195.0,95.0,0.0,125.0,0.0,0.0,175.0,85.0,75.0,20.0,0.0,0.0,165.0,35.0,80.0,50.0,0.0,100.0,80.0,0.0,20.0,20.0,145.0,100.0,85.0,195.0,30.0,25.0,200.0,50.0,0.0,200.0,0.0,20.0,25.0,0.0,50.0,0.0,55.0,0.0,200.0,30.0,95.0,20.0,20.0,200.0,30.0,25.0,35.0,0.0,30.0,120.0,0.0,60.0,0.0,20.0,200.0,60.0,100.0,0.0,0.0,0.0,0.0,75.0,20.0,100.0,195.0,45.0,75.0,35.0,95.0,100.0,25.0,195.0,95.0,50.0,20.0,195.0,200.0,50.0,90.0,90.0,120.0,200.0,195.0,120.0,50.0,55.0,85.0,55.0,195.0,20.0,40.0,50.0,0.0,85.0,20.0,25.0,40.0,20.0,45.0,95.0,0.0,0.0,0.0,25.0,125.0,50.0,80.0,45.0,25.0,0.0,200.0,50.0,45.0,0.0,150.0,0.0,45.0,50.0,200.0,200.0,40.0,0.0,65.0,45.0,35.0,195.0,95.0,20.0,200.0,20.0,40.0,50.0,200.0,40.0,60.0,0.0,0.0,0.0,30.0,0.0,200.0,145.0,50.0,200.0,40.0,0.0,20.0,95.0,50.0,50.0,20.0,40.0,50.0,20.0,35.0,20.0,35.0,25.0,195.0,100.0,200.0,200.0,25.0,100.0,50.0,150.0,100.0,195.0,20.0,75.0,95.0,30.0,75.0,40.0,35.0,40.0,65.0,0.0,0.0,0.0,100.0,0.0,50.0,30.0,20.0,0.0,20.0,200.0,95.0,85.0,20.0,55.0,25.0,50.0,50.0,85.0,0.0,120.0,20.0,40.0,0.0,125.0,50.0,75.0,50.0,200.0,0.0,100.0,40.0,120.0,50.0,0.0,50.0,20.0,20.0,200.0,20.0,0.0,20.0,0.0,125.0,95.0,105.0,100.0,20.0,50.0,20.0,40.0,25.0,0.0,95.0,195.0,20.0,200.0,30.0,150.0,60.0,200.0,20.0,195.0,50.0,200.0,20.0,40.0,50.0,50.0,95.0,95.0,100.0,50.0,35.0,95.0,35.0,60.0,65.0,200.0,20.0,200.0,20.0,20.0,20.0,20.0,20.0,200.0,200.0,50.0,20.0,20.0,30.0,25.0,50.0,20.0,85.0,20.0,75.0,20.0,40.0,50.0,20.0,50.0,20.0,85.0,65.0,50.0,0.0,0.0,20.0,55.0,40.0,50.0,145.0,95.0,200.0,40.0,95.0,100.0,95.0,50.0,30.0,120.0,20.0,20.0,45.0,20.0,25.0,0.0,30.0,150.0,40.0,90.0,0.0,20.0,20.0,30.0,200.0,0.0,75.0,95.0,50.0,185.0,20.0,40.0,25.0,0.0,200.0,125.0,200.0,35.0,45.0,20.0,20.0,25.0,20.0,100.0,30.0,150.0,45.0,0.0,40.0,30.0,0.0,50.0,20.0,20.0,150.0,100.0,25.0,40.0,50.0,45.0],\"y0\":\" \",\"yaxis\":\"y\",\"type\":\"box\"},{\"alignmentgroup\":\"True\",\"hovertemplate\":\"variable=num_subscribers\\u003cbr\\u003evalue=%{y}\\u003cextra\\u003e\\u003c\\u002fextra\\u003e\",\"legendgroup\":\"num_subscribers\",\"marker\":{\"color\":\"#EF553B\"},\"name\":\"num_subscribers\",\"notched\":false,\"offsetgroup\":\"num_subscribers\",\"orientation\":\"v\",\"showlegend\":true,\"x0\":\" \",\"xaxis\":\"x2\",\"y\":[2147.0,2792.0,2174.0,2451.0,1276.0,9221.0,1540.0,2917.0,5172.0,827.0,4284.0,1380.0,3607.0,4061.0,294.0,2276.0,4919.0,2666.0,5354.0,8095.0,809.0,2295.0,10149.0,1916.0,2507.0,5786.0,5334.0,4005.0,2877.0,1026.0,1165.0,1843.0,8797.0,1030.0,1041.0,7884.0,16900.0,11441.0,22257.0,8575.0,24481.0,3811.0,4991.0,7489.0,20195.0,10042.0,367.0,10603.0,1197.0,2893.0,1580.0,10605.0,2996.0,6219.0,1113.0,8314.0,5572.0,1433.0,936.0,658.0,8121.0,4187.0,9445.0,3255.0,7941.0,1680.0,10100.0,5050.0,2310.0,5528.0,6451.0,12394.0,1793.0,3223.0,16385.0,1487.0,2951.0,2697.0,3979.0,3190.0,1406.0,4252.0,11958.0,7743.0,2134.0,1214.0,3870.0,2146.0,484.0,1057.0,1754.0,1239.0,2493.0,2602.0,2000.0,1514.0,1361.0,61.0,1513.0,1374.0,2103.0,1480.0,2516.0,50855.0,1971.0,837.0,17160.0,1723.0,6811.0,2060.0,2318.0,2153.0,19339.0,3177.0,1535.0,1027.0,307.0,2096.0,1315.0,29167.0,1056.0,2212.0,2946.0,271.0,3771.0,3143.0,1951.0,4022.0,11724.0,2283.0,1181.0,1852.0,4661.0,989.0,5841.0,1087.0,611.0,1922.0,9015.0,661.0,1077.0,6050.0,3523.0,56659.0,1444.0,2900.0,1437.0,453.0,2437.0,5057.0,6092.0,4530.0,6967.0,727.0,1560.0,1047.0,1045.0,3050.0,2988.0,2623.0,1924.0,3804.0,4133.0,1420.0,1120.0,668.0,4086.0,1033.0,832.0,677.0,3125.0,1081.0,1645.0,3348.0,939.0,2115.0,2230.0,2053.0,1793.0,3775.0,521.0,2222.0,1097.0,2506.0,975.0,1398.0,1096.0,1703.0,1446.0,2736.0,2000.0,853.0,3094.0,4077.0,4117.0,1369.0,1224.0,3870.0,897.0,1311.0,1338.0,1589.0,1189.0,701.0,1105.0,123.0,5874.0,354.0,727.0,3465.0,54.0,627.0,650.0,965.0,1113.0,739.0,1201.0,2474.0,494.0,1580.0,617.0,2235.0,2293.0,1094.0,1449.0,3251.0,607.0,1218.0,1132.0,656.0,3339.0,1271.0,1574.0,1393.0,1029.0,843.0,1730.0,1182.0,1160.0,1730.0,1260.0,871.0,1566.0,2987.0,973.0,2177.0,1772.0,1850.0,1780.0,4607.0,12.0,13.0,2.0,2571.0,8.0,7.0,217.0,22.0,131.0,5.0,116.0,27.0,912.0,1964.0,1033.0,913.0,2092.0,2240.0,4601.0,2953.0,1091.0,1459.0,4855.0,4034.0,57.0,26.0,14.0,49.0,11.0,9.0,91.0,44.0,106.0,2079.0,135.0,31.0,217.0,611.0,5007.0,1168.0,4653.0,3035.0,454.0,325.0,228.0,562.0,577.0,10540.0,912.0,2955.0,190.0,1736.0,1135.0,2101.0,1048.0,1740.0,1749.0,1187.0,1263.0,115.0,43.0,55.0,18.0,14.0,47.0,134.0,153.0,47.0,42.0,120.0,68.0,844.0,2045.0,1168.0,2342.0,2268.0,967.0,1185.0,631.0,968.0,1132.0,114.0,204.0,1548.0,409.0,1169.0,249.0,690.0,1340.0,274.0,4863.0,1923.0,224.0,721.0,51.0,1276.0,2768.0,1735.0,8985.0,1119.0,2591.0,1046.0,2239.0,1882.0,5931.0,4931.0,3056.0,1303.0,2924.0,1405.0,1121.0,1776.0,1643.0,801.0,951.0,1278.0,1184.0,1115.0,1086.0,3730.0,810.0,2338.0,3403.0,4695.0,17847.0,2692.0,6374.0,2305.0,589.0,22.0,2490.0,2715.0,1506.0,2197.0,338.0,1076.0,2769.0,1531.0,1136.0,2187.0,1609.0,2895.0,1023.0,1988.0,1053.0,4497.0,2379.0,993.0,10338.0,1423.0,3555.0,567.0,1085.0,7159.0,11517.0,1.0,10.0,41.0,8.0,43.0,23.0,9.0,25.0,7.0,12.0,1.0,29.0,17.0,132.0,126.0,32.0,480.0,27.0,167.0,131.0,927.0,37.0,19.0,43.0,751.0,49.0,45.0,1685.0,4269.0,124.0,811.0,956.0,126.0,26.0,91.0,30.0,226.0,52.0,89.0,267.0,4770.0,265.0,2046.0,605.0,472.0,388.0,98.0,1888.0,0.0,0.0,0.0,0.0,0.0,0.0,0.0,0.0,0.0,0.0,0.0,0.0,495.0,375.0,1730.0,283.0,136.0,23.0,683.0,618.0,188.0,911.0,512.0,769.0,302.0,149.0,72.0,33.0,13.0,79.0,139.0,2247.0,17.0,45.0,33.0,54.0,1498.0,2317.0,5077.0,65576.0,1202.0,22344.0,2189.0,431.0,1199.0,5685.0,1512.0,1806.0,668.0,3757.0,828.0,111.0,39.0,613.0,57.0,246.0,83.0,62.0,31.0,367.0,3.0,3.0,2.0,3.0,1.0,1.0,2.0,1.0,2.0,1.0,1.0,0.0,731.0,66.0,51.0,507.0,9.0,375.0,80.0,152.0,37.0,194.0,1184.0,638.0,64.0,44.0,814.0,211.0,768.0,29.0,156.0,2144.0,376.0,214.0,406.0,394.0,438.0,56.0,58.0,1047.0,166.0,605.0,38.0,46.0,217.0,78.0,35.0,80.0,1941.0,1367.0,1519.0,2025.0,1213.0,1092.0,5099.0,869.0,59.0,10670.0,1741.0,19614.0,4.0,1.0,4.0,4.0,8.0,8.0,11.0,18.0,16.0,6.0,4.0,1.0,210.0,4.0,273.0,237.0,368.0,86.0,204.0,570.0,225.0,37.0,36.0,218.0,50.0,148.0,74.0,260.0,299.0,4.0,65.0,101.0,92.0,76.0,14.0,18.0,21.0,18.0,21.0,49.0,168.0,16.0,2.0,336.0,20.0,28.0,11.0,11.0,360.0,1189.0,9995.0,100.0,3426.0,592.0,1222.0,1532.0,5768.0,343.0,540.0,2031.0,7.0,4.0,21.0,29.0,50.0,1.0,5.0,6.0,16.0,70.0,110.0,7.0,1186.0,632.0,1237.0,513.0,4103.0,1489.0,547.0,353.0,507.0,1079.0,3667.0,2222.0,9.0,225.0,13.0,373.0,306.0,14.0,51.0,13.0,1318.0,347.0,274.0,9.0,359.0,6024.0,315.0,280.0,401.0,701.0,57.0,205.0,62.0,114.0,789.0,446.0,17.0,16.0,117.0,147.0,7.0,247.0,143.0,621.0,6.0,5.0,2674.0,227.0,4480.0,1329.0,5144.0,2635.0,1750.0,3360.0,3425.0,2688.0,1095.0,1680.0,2046.0,1699.0,1071.0,1037.0,223.0,653.0,230.0,2281.0,4702.0,366.0,521.0,252.0,1101.0,223.0,135.0,23.0,112.0,2122.0,152.0,267.0,155.0,87.0,2146.0,154.0,4248.0,517.0,2638.0,2914.0,6050.0,16.0,3917.0,1122.0,4158.0,1252.0,5108.0,2981.0,1223.0,7750.0,564.0,2075.0,45.0,44.0,308.0,55.0,718.0,206.0,18.0,86.0,294.0,27.0,375.0,94.0,2080.0,3137.0,155.0,1732.0,3372.0,2185.0,1008.0,256.0,1173.0,1352.0,49.0,124.0,105.0,117.0,6533.0,7.0,30.0,91.0,28.0,83.0,623.0,1625.0,0.0,0.0,0.0,1.0,0.0,0.0,0.0,0.0,0.0,0.0,737.0,554.0,807.0,779.0,1777.0,841.0,56.0,1909.0,775.0,1255.0,1193.0,1309.0,623.0,276.0,314.0,1942.0,885.0,226.0,461.0,152.0,1017.0,1074.0,440.0,978.0,36.0,74.0,78.0,10.0,39.0,37.0,2166.0,78.0,21.0,1086.0,7.0,168.0,2801.0,12217.0,6185.0,477.0,1334.0,5407.0,9483.0,1032.0,8236.0,2383.0,3283.0,2650.0,1551.0,545.0,663.0,3519.0,825.0,70.0,357.0,853.0,397.0,74.0,1254.0,89.0,38.0,18.0,103.0,7.0,104.0,42.0,507.0,241.0,226.0,50.0,100.0,99.0,99.0,1192.0,209.0,5529.0,81.0,1924.0,646.0,520.0,1440.0,452.0,178.0,21.0,12.0,209.0,505.0,16.0,25.0,229.0,6.0,1.0,10.0,1.0,34.0,0.0,0.0,0.0,0.0,0.0,0.0,0.0,0.0,0.0,0.0,0.0,459.0,266.0,104.0,1509.0,212.0,462.0,90.0,153.0,1055.0,157.0,103.0,1067.0,58.0,74.0,338.0,27.0,76.0,27.0,68.0,112.0,72.0,335.0,22.0,41.0,1.0,16.0,3.0,4.0,2.0,12.0,10.0,12.0,5.0,1.0,2.0,9.0,42.0,110.0,420.0,206.0,164.0,69.0,28.0,90.0,13.0,31.0,13.0,2119.0,136.0,797.0,503.0,1150.0,1403.0,916.0,627.0,168.0,2554.0,120.0,750.0,217.0,106.0,397.0,44.0,30.0,95.0,55.0,94.0,578.0,393.0,116.0,1888.0,412.0,40.0,222.0,831.0,485.0,232.0,135.0,61.0,61.0,874.0,22.0,5597.0,261.0,83.0,152.0,176.0,8.0,327.0,264.0,15.0,104.0,71.0,26.0,11.0,1294.0,32.0,313.0,635.0,1311.0,288.0,97.0,53.0,1102.0,57.0,694.0,137.0,12.0,18.0,170.0,119.0,2058.0,35.0,40.0,13.0,4.0,71.0,71.0,6.0,1.0,5.0,1.0,4.0,10.0,6.0,2.0,2.0,2.0,2.0,6.0,2.0,206.0,313.0,193.0,66.0,270.0,139.0,77.0,225.0,23.0,4876.0,244.0,1278.0,31.0,8.0,40.0,9.0,45.0,13.0,4.0,20.0,9.0,29.0,6.0,7.0,859.0,5983.0,1673.0,1284.0,394.0,689.0,649.0,187.0,1798.0,465.0,813.0,326.0,26.0,26.0,28.0,122.0,149.0,205.0,11.0,3.0,108.0,8.0,9.0,16.0,11.0,12.0,11.0,2.0,9.0,15.0,7.0,27.0,5.0,3.0,5.0,5.0,132.0,112.0,285.0,91.0,32.0,2740.0,59.0,16.0,22.0,15.0,1059.0,187.0,0.0,0.0,0.0,1089.0,743.0,1362.0,405.0,1168.0,16.0,3840.0,7183.0,483.0,172.0,256.0,1542.0,64.0,384.0,3014.0,454.0,312.0,315.0,609.0,207.0,399.0,1175.0,543.0,1634.0,1013.0,319.0,1125.0,2481.0,1006.0,1044.0,1240.0,504.0,15.0,358.0,80.0,133.0,207.0,426.0,45.0,1280.0,142.0,188.0,718.0,293.0,93.0,894.0,353.0,829.0,1195.0,335.0,500.0,159.0,739.0,87.0,185.0,741.0,576.0,1046.0,486.0,52.0,106.0,38.0,32.0,171.0,79.0,397.0,85.0,1696.0,201.0,1235.0,137.0,384.0,103.0,379.0,1573.0,150.0,48.0,781.0,952.0,612.0,1819.0,551.0,788.0,408.0,944.0,323.0,101.0,984.0,89.0,129.0,249.0,75.0,2252.0,462.0,1720.0,390.0,4297.0,1076.0,9367.0,8901.0,4235.0,14440.0,12340.0,2027.0,381.0,69.0,21.0,15276.0,26742.0,5326.0,36288.0,15500.0,7282.0,10875.0,8196.0,1360.0,6858.0,18303.0,1789.0,293.0,662.0,1279.0,1080.0,120.0,1085.0,447.0,372.0,721.0,736.0,114.0,331.0,0.0,0.0,0.0,0.0,0.0,0.0,0.0,0.0,217.0,334.0,817.0,637.0,2358.0,3721.0,1148.0,2489.0,1782.0,6975.0,9464.0,2044.0,5787.0,25277.0,6944.0,6028.0,5104.0,2476.0,3000.0,185.0,418.0,431.0,23.0,126.0,3329.0,720.0,800.0,1477.0,1552.0,1076.0,1016.0,919.0,1224.0,774.0,715.0,1768.0,2555.0,426.0,3108.0,276.0,390.0,6754.0,5086.0,1146.0,47811.0,1564.0,739.0,1029.0,2665.0,1079.0,1440.0,1401.0,2634.0,1046.0,505.0,827.0,8786.0,253.0,1933.0,1504.0,1332.0,1150.0,1056.0,1350.0,1586.0,821.0,56.0,1150.0,1557.0,246.0,3103.0,1090.0,1235.0,946.0,1500.0,1452.0,24.0,3.0,20.0,33.0,97.0,8.0,4.0,10.0,2.0,5.0,1.0,3.0,311.0,447.0,616.0,797.0,549.0,274.0,709.0,3812.0,1373.0,441.0,201.0,661.0,300.0,211.0,65.0,43.0,44.0,33.0,20.0,37.0,190.0,129.0,123.0,38.0,3251.0,2091.0,1002.0,806.0,389.0,1031.0,500.0,68.0,651.0,341.0,867.0,142.0,1825.0,24687.0,2266.0,5175.0,3512.0,797.0,2745.0,2361.0,1530.0,1873.0,1338.0,1479.0,38.0,934.0,50.0,27.0,6429.0,422.0,410.0,15.0,115.0,272.0,280.0,354.0,44044.0,1367.0,1754.0,2067.0,5301.0,4294.0,1679.0,327.0,740.0,1348.0,1249.0,1275.0,3117.0,896.0,4208.0,3903.0,1710.0,1606.0,4776.0,23229.0,1456.0,1534.0,2199.0,1202.0,2004.0,778.0,502.0,1526.0,1468.0,798.0,2044.0,1310.0,1145.0,326.0,2228.0,2420.0,387.0,421.0,987.0,324.0,319.0,1087.0,270.0,124.0,371.0,1098.0,107.0,507.0,646.0,1738.0,2354.0,238.0,165.0,1080.0,489.0,706.0,507.0,770.0,1028.0,545.0,690.0,2911.0,734.0,4353.0,521.0,3481.0,711.0,1123.0,12103.0,1418.0,3390.0,53851.0,3.0,1.0,3.0,1.0,2.0,1.0,1.0,2.0,1.0,0.0,0.0,3.0,25.0,1.0,108.0,13.0,11.0,37.0,7.0,1.0,1.0,6.0,18.0,1905.0,3360.0,941.0,4927.0,2087.0,2938.0,2911.0,1797.0,3192.0,1538.0,5072.0,1086.0,213.0,135.0,164.0,290.0,183.0,35.0,86.0,96.0,353.0,33.0,172.0,155.0,27.0,2.0,7.0,18.0,4.0,139.0,18.0,5.0,167.0,311.0,13.0,34.0,1522.0,6039.0,4449.0,6428.0,24857.0,2873.0,5840.0,1011.0,6215.0,33205.0,1452.0,1343.0,41.0,314.0,239.0,507.0,228.0,21.0,92.0,91.0,33.0,177.0,668.0,92.0,8.0,22.0,3.0,2.0,2.0,1.0,2.0,11.0,9.0,9.0,1.0,1.0,6.0,1.0,4.0,1.0,2.0,4.0,4.0,1.0,1.0,1.0,1.0,0.0,885.0,2863.0,915.0,3525.0,2035.0,2267.0,1197.0,1043.0,1356.0,1657.0,655.0,1282.0,35.0,220.0,481.0,1013.0,593.0,679.0,2346.0,140.0,528.0,297.0,228.0,1207.0,5.0,4.0,36.0,3.0,3.0,1.0,2.0,13.0,1.0,1.0,5.0,3.0,970.0,342.0,106.0,229.0,437.0,500.0,725.0,142.0,317.0,50.0,115.0,780.0,0.0,0.0,0.0,0.0,0.0,343.0,0.0,0.0,384.0,677.0,1110.0,858.0,1359.0,9847.0,2416.0,1524.0,11893.0,3381.0,1270.0,1753.0,3618.0,2489.0,4080.0,1602.0,7.0,8.0,7.0,57.0,91.0,11.0,6.0,5.0,5.0,6.0,34.0,7.0,5471.0,3599.0,4961.0,3377.0,1323.0,2599.0,6612.0,1675.0,5850.0,2325.0,1276.0,1000.0,86.0,11.0,42.0,28.0,5.0,74.0,27.0,13.0,27.0,1433.0,110.0,15.0,19.0,87.0,802.0,14.0,1132.0,347.0,219.0,30.0,130.0,509.0,342.0,87.0,259.0,72.0,363.0,23.0,78.0,99.0,14.0,282.0,113.0,66.0,52.0,116.0,623.0,827.0,5000.0,793.0,972.0,2427.0,3131.0,5950.0,4550.0,2081.0,785.0,2424.0,57.0,50.0,262.0,45.0,272.0,10.0,12.0,43.0,165.0,83.0,17.0,34.0,293.0,113.0,72.0,155.0,48.0,1447.0,86.0,13.0,15.0,28.0,62.0,125.0,33.0,51.0,361.0,50.0,4.0,134.0,36.0,32.0,30.0,22.0,452.0,67.0,1081.0,189.0,775.0,88.0,598.0,145.0,445.0,237.0,1005.0,485.0,238.0,1116.0,105.0,23.0,82.0,13.0,19.0,105.0,94.0,5.0,98.0,5.0,6.0,5.0,91.0,3.0,121.0,105.0,17.0,380.0,494.0,518.0,214.0,11.0,33.0,9.0,817.0,286.0,774.0,41.0,30.0,837.0,11.0,254.0,40.0,84.0,23.0,32.0,4529.0,823.0,1472.0,1327.0,924.0,898.0,1039.0,1474.0,1167.0,1589.0,219.0,835.0,747.0,1337.0,530.0,1297.0,295.0,2084.0,515.0,1026.0,414.0,198.0,250.0,180.0,128.0,709.0,117.0,305.0,153.0,81.0,85.0,73.0,178.0,122.0,402.0,119.0,605.0,476.0,707.0,438.0,1199.0,966.0,877.0,1504.0,1064.0,117.0,1229.0,922.0,662.0,1732.0,326.0,1284.0,1029.0,886.0,1213.0,1605.0,2673.0,1987.0,1052.0,1548.0,257.0,1818.0,543.0,95.0,321.0,408.0,43.0,239.0,584.0,144.0,297.0,1137.0,86.0,98.0,2566.0,55.0,537.0,595.0,659.0,186.0,460.0,252.0,87.0,1720.0,390.0,2618.0,390.0,496.0,341.0,97.0,1249.0,861.0,973.0,868.0,193.0,9193.0,5830.0,1224.0,101154.0,407.0,3481.0,124.0,2002.0,14495.0,746.0,920.0,362.0,927.0,953.0,469.0,450.0,600.0,1018.0,181.0,8240.0,582.0,1235.0,380.0,1842.0,3137.0,4967.0,2154.0,936.0,1224.0,1030.0,14922.0,2788.0,2686.0,1594.0,1018.0,1194.0,270.0,3325.0,172.0,834.0,382.0,452.0,5543.0,153.0,1582.0,560.0,111.0,1060.0,452.0,2346.0,103.0,833.0,2358.0,1814.0,2543.0,3042.0,809.0,9351.0,811.0,1424.0,193.0,65.0,59.0,545.0,668.0,100.0,5769.0,293.0,492.0,500.0,346.0,353.0,1174.0,1513.0,6292.0,6853.0,475.0,776.0,1337.0,701.0,1350.0,1141.0,1203.0,5188.0,0.0,462.0,75499.0,21701.0,3157.0,32935.0,10869.0,5316.0,4192.0,8857.0,10435.0,8113.0,7178.0,2102.0,1329.0,1220.0,3206.0,482.0,2498.0,478.0,1788.0,1249.0,1976.0,567.0,2045.0,1204.0,1227.0,47652.0,1638.0,568.0,3013.0,2795.0,491.0,1018.0,2164.0,2415.0,2285.0,1268.0,2026.0,2164.0,969.0,1987.0,1319.0,4560.0,1593.0,6565.0,4133.0,1541.0,14560.0,7140.0,1495.0,1200.0,1674.0,54.0,940.0,1152.0,2558.0,850.0,3937.0,6271.0,4557.0,5292.0,4982.0,4733.0,3371.0,1409.0,26504.0,3141.0,1449.0,2692.0,3312.0,2015.0,2015.0,7.0,228.0,65.0,1094.0,60.0,83.0,122.0,106.0,55.0,77.0,92.0,29.0,8217.0,1305.0,916.0,2357.0,1951.0,1284.0,769.0,3122.0,1269.0,1618.0,89.0,66.0,630.0,249.0,198.0,84.0,58.0,186.0,21.0,431.0,53.0,2610.0,26.0,32.0,1631.0,12.0,12.0,236.0,7.0,11.0,11.0,12.0,135.0,5.0,57.0,7.0,73.0,35.0,30.0,32.0,39.0,90.0,37.0,42.0,276.0,88.0,10.0,11.0,29.0,7.0,9.0,8.0,8.0,8.0,17.0,2.0,4.0,8.0,122.0,5.0,11.0,36.0,111.0,888.0,53.0,65.0,38.0,18.0,22.0,211.0,10.0,12.0,17.0,11.0,8.0,7.0,6.0,2.0,5.0,14.0,11.0,11.0,57.0,377.0,273.0,406.0,556.0,115.0,420.0,32.0,26.0,116.0,425.0,736.0,68.0,104.0,189.0,738.0,365.0,146.0,383.0,92.0,291.0,61.0,288.0,78.0,594.0,489.0,13.0,103.0,231.0,44.0,261.0,114.0,45.0,3167.0,105.0,85.0,335.0,4452.0,332.0,287.0,1876.0,113.0,158.0,480.0,228.0,42.0,10.0,103.0,75.0,66.0,61.0,184.0,24.0,205.0,19.0,120.0,232.0,148.0,10.0,72.0,172.0,10.0,25.0,1.0,13.0,69.0,10.0,25.0,21.0,5.0,418.0,113.0,78.0,51.0,58.0,56.0,162.0,2577.0,62.0,42.0,28.0,261.0,44.0,4.0,98.0,19.0,197.0,58.0,21.0,92.0,239.0,5.0,173.0,10.0,12.0,54.0,28.0,238.0,512.0,177.0,61.0,21.0,115.0,510.0,147.0,9.0,5.0,7.0,4.0,4.0,4.0,2.0,3.0,3.0,3.0,1.0,1.0,1.0,9.0,44.0,13.0,17.0,118.0,5.0,11.0,113.0,36.0,10.0,12.0,78.0,31.0,205.0,213.0,33.0,284.0,8.0,98.0,119.0,45.0,297.0,137.0,112.0,28.0,79.0,333.0,48.0,41.0,209.0,119.0,139.0,41.0,95.0,184.0,8.0,376.0,37.0,169.0,20.0,89.0,98.0,265.0,196.0,292.0,14.0,16.0,114.0,185.0,42.0,57.0,17.0,70.0,245.0,76.0,44.0,80.0,68.0,54.0,80.0,85.0,57.0,12.0,11.0,42.0,20.0,41.0,5.0,119.0,22.0,20.0,17.0,82.0,79.0,21.0,29.0,31.0,156.0,12.0,74.0,353.0,137.0,59.0,47.0,71.0,21.0,36.0,8.0,375.0,215.0,80.0,31.0,56.0,18.0,57.0,59.0,6.0,4.0,4.0,3.0,7.0,2.0,3.0,3.0,1.0,3.0,3.0,3.0,164.0,28.0,47.0,15.0,151.0,14.0,16.0,19.0,14.0,40.0,41.0,9.0,46.0,75.0,19.0,22.0,17.0,26.0,2.0,13.0,1.0,14.0,6.0,31.0,1.0,1.0,1.0,0.0,0.0,0.0,0.0,0.0,0.0,0.0,0.0,0.0,31.0,237.0,120.0,384.0,3160.0,455.0,82.0,136.0,63.0,64.0,28.0,27.0,0.0,970.0,991.0,61.0,1.0,1981.0,245.0,38.0,255.0,62.0,186.0,62.0,13.0,25.0,17.0,36.0,349.0,85.0,24.0,26.0,19.0,30.0,45.0,305.0,26.0,75.0,32.0,70.0,200.0,478.0,73.0,33.0,59.0,192.0,57.0,81.0,2995.0,181.0,589.0,48.0,81.0,225.0,438.0,152.0,244.0,248.0,111.0,52.0,10.0,10.0,9.0,7.0,7.0,1.0,6.0,4.0,6.0,3.0,5.0,5.0,43285.0,47886.0,2577.0,8777.0,23764.0,3541.0,2669.0,1966.0,4090.0,2578.0,24978.0,3133.0,15276.0,12458.0,1087.0,14074.0,26800.0,9425.0,2780.0,35267.0,2607.0,1502.0,9359.0,14842.0,6082.0,12366.0,4720.0,7057.0,16829.0,4872.0,5809.0,13439.0,733.0,14813.0,6601.0,2804.0,9421.0,9668.0,2760.0,9831.0,486.0,11170.0,9384.0,9067.0,10247.0,10610.0,6162.0,1802.0,4783.0,2097.0,17714.0,9554.0,1129.0,22213.0,2412.0,18324.0,1696.0,7169.0,12893.0,4708.0,1050.0,7852.0,1683.0,119.0,1735.0,3699.0,10103.0,7380.0,3903.0,4892.0,2786.0,15064.0,22623.0,952.0,3415.0,7827.0,9773.0,13457.0,1399.0,4028.0,1371.0,12953.0,5125.0,25864.0,5211.0,8234.0,2687.0,5143.0,1827.0,5026.0,1301.0,23412.0,8691.0,3119.0,10150.0,14026.0,2214.0,21147.0,19909.0,1385.0,10780.0,604.0,1772.0,3357.0,796.0,4123.0,2697.0,997.0,713.0,4259.0,98867.0,1849.0,1645.0,64128.0,2160.0,7660.0,2025.0,1548.0,2472.0,13535.0,5795.0,2643.0,3704.0,1678.0,960.0,1811.0,4123.0,26697.0,5921.0,3011.0,8768.0,1673.0,16158.0,4057.0,6851.0,2234.0,9607.0,4689.0,9375.0,4848.0,84897.0,12838.0,24861.0,9762.0,11262.0,1270.0,17895.0,11285.0,1040.0,23572.0,3801.0,12068.0,5559.0,1838.0,2104.0,15187.0,10606.0,6497.0,11536.0,16282.0,949.0,1995.0,6636.0,7146.0,1703.0,12815.0,44.0,502.0,627.0,851.0,29990.0,10179.0,563.0,2320.0,2353.0,13210.0,1004.0,3015.0,8693.0,8711.0,9945.0,18143.0,13882.0,57422.0,10179.0,18101.0,2789.0,1437.0,10864.0,14254.0,6134.0,7867.0,8594.0,1892.0,3960.0,10518.0,10008.0,1023.0,3392.0,7213.0,4183.0,25854.0,6153.0,4010.0,5022.0,5547.0,2532.0,2362.0,7741.0,1658.0,3324.0,7184.0,4442.0,7196.0,2371.0,8496.0,1346.0,14103.0,3295.0,4375.0,12021.0,26673.0,69186.0,11384.0,2390.0,7059.0,3179.0,1870.0,18170.0,6073.0,5335.0,8755.0,4144.0,6420.0,1741.0,9881.0,3252.0,5089.0,5962.0,5181.0,3493.0,417.0,1599.0,15134.0,2596.0,1783.0,12974.0,785.0,4115.0,13242.0,1154.0,16212.0,16409.0,1337.0,1469.0,2660.0,421.0,31070.0,1737.0,11492.0,5439.0,8059.0,12105.0,3877.0,2919.0,2409.0,2083.0,2076.0,2918.0,842.0,7130.0,5549.0,155.0,1697.0,2526.0,2342.0,21730.0,1117.0,2401.0,3887.0,1156.0,1385.0,10890.0,1126.0,3652.0,1723.0,3759.0,1653.0,5387.0,4563.0,3757.0,4193.0,3694.0,1905.0,2875.0,613.0,633.0,1515.0,900.0,2382.0,32260.0,3249.0,1274.0,72932.0,120291.0,387.0,2227.0,2652.0,2520.0,3150.0,4011.0,6937.0,4839.0,2346.0,897.0,9381.0,7090.0,2204.0,1212.0,5328.0,5715.0,2074.0,12328.0,4537.0,5117.0,3854.0,1902.0,37141.0,1649.0,3012.0,6890.0,4628.0,17113.0,244.0,1472.0,31499.0,3539.0,1415.0,2965.0,655.0,18777.0,1591.0,1925.0,16926.0,13406.0,5739.0,16731.0,1613.0,268923.0,1780.0,7438.0,21087.0,1157.0,912.0,2039.0,16527.0,1000.0,26541.0,467.0,947.0,9832.0,2184.0,2853.0,16590.0,1626.0,9056.0,8320.0,4106.0,5324.0,5603.0,4183.0,301.0,3883.0,236.0,1758.0,1266.0,920.0,5004.0,880.0,342.0,205.0,527.0,1517.0,130.0,1018.0,4830.0,402.0,755.0,1087.0,170.0,1054.0,245.0,353.0,464.0,298.0,2238.0,1764.0,3380.0,1030.0,1406.0,4732.0,1724.0,1618.0,5056.0,1562.0,1547.0,2626.0,11167.0,466.0,1355.0,5065.0,1763.0,6413.0,5398.0,7017.0,6510.0,1898.0,3299.0,817.0,1798.0,3688.0,1611.0,11574.0,2547.0,2063.0,22355.0,8577.0,10674.0,783.0,12781.0,5484.0,7884.0,15724.0,3106.0,6293.0,8711.0,8067.0,9332.0,3271.0,1367.0,5077.0,6508.0,4687.0,11758.0,300.0,3784.0,1209.0,1428.0,716.0,12563.0,1518.0,1241.0,380.0,395.0,1169.0,1114.0,5738.0,6648.0,1605.0,4848.0,4743.0,1520.0,3601.0,4033.0,17071.0,13708.0,430.0,2643.0,1731.0,1313.0,775.0,2243.0,2749.0,2012.0,1080.0,3831.0,2071.0,2755.0,1216.0,2314.0,8770.0,1764.0,2837.0,1655.0,2721.0,1152.0,15493.0,1562.0,9786.0,1904.0,3357.0,2200.0,5456.0,2134.0,4675.0,1433.0,1734.0,3461.0,4076.0,567.0,1723.0,1282.0,2052.0,1874.0,1119.0,1023.0,3697.0,21682.0,1975.0,553.0,2650.0,2964.0,1624.0,1640.0,1627.0,1815.0,1011.0,2430.0,5318.0,7018.0,1634.0,3590.0,4030.0,4020.0,2635.0,7211.0,1496.0,4447.0,1410.0,6628.0,1908.0,1248.0,4587.0,2351.0,3898.0,3185.0,557.0,408.0,1703.0,17554.0,7368.0,676.0,3632.0,10576.0,11643.0,13960.0,5085.0,1130.0,14606.0,2971.0,2814.0,1355.0,2335.0,161029.0,2051.0,1069.0,1439.0,1948.0,841.0,937.0,583.0,577.0,9364.0,5052.0,694.0,511.0,937.0,1611.0,103.0,670.0,1606.0,260.0,122.0,877.0,1215.0,3323.0,11892.0,15106.0,975.0,5263.0,596.0,7517.0,21653.0,9028.0,7375.0,5177.0,6548.0,28125.0,9349.0,14260.0,7720.0,2142.0,12873.0,12882.0,12368.0,8625.0,2641.0,1052.0,13920.0,7416.0,1822.0,1010.0,1425.0,7014.0,7785.0,4407.0,602.0,1712.0,1894.0,3258.0,7449.0,538.0,1271.0,1407.0,2311.0,1002.0,2565.0,210.0,1186.0,1421.0,958.0,1550.0,1309.0,251.0,723.0,11026.0,1318.0,3894.0,12293.0,1447.0,487.0,9110.0,1519.0,948.0,2023.0,1858.0,2244.0,3619.0,22999.0,2743.0,1229.0,3701.0,710.0,6588.0,7331.0,4463.0,1873.0,1388.0,1292.0,1147.0,1109.0,2002.0,876.0,1186.0,973.0,379.0,2177.0,1063.0,1309.0,7489.0,9103.0,3169.0,7501.0,1967.0,28694.0,909.0,4820.0,24575.0,9109.0,18818.0,1121.0,14551.0,5800.0,4867.0,1006.0,4616.0,8968.0,7062.0,3073.0,2706.0,1702.0,3420.0,7130.0,918.0,1520.0,461.0,116.0,207.0,333.0,305.0,644.0,415.0,926.0,3118.0,4290.0,959.0,55332.0,2273.0,17784.0,25799.0,2865.0,346.0,4957.0,4128.0,29348.0,32696.0,3503.0,2354.0,586.0,1949.0,1825.0,2296.0,550.0,578.0,7706.0,1339.0,6760.0,1096.0,7407.0,5811.0,2145.0,11832.0,5279.0,5332.0,5151.0,73783.0,51257.0,28880.0,17334.0,33677.0,19210.0,2215.0,1322.0,3485.0,2185.0,2494.0,2091.0,1777.0,2573.0,228.0,59639.0,1705.0,1950.0,10945.0,2606.0,17671.0,2273.0,27801.0,17297.0,40070.0,6527.0,121584.0,17802.0,114512.0,33788.0,21245.0,7905.0,869.0,293.0,36322.0,2760.0,522.0,1628.0,12336.0,6437.0,2797.0,333.0,59361.0,79612.0,8964.0,43977.0,13010.0,58208.0,9132.0,21998.0,50815.0,4138.0,20652.0,6412.0,2464.0,6474.0,2388.0,1494.0,1463.0,1057.0,1049.0,109.0,2073.0,1116.0,1125.0,802.0,4409.0,686.0,1154.0,885.0,2437.0,716.0,1867.0,91.0,586.0,601.0,81.0,1018.0,1448.0,1296.0,1299.0,1769.0,20073.0,601.0,2281.0,83737.0,20890.0,48650.0,1945.0,18496.0,1193.0,4905.0,1699.0,11812.0,746.0,189.0,1419.0,1237.0,1703.0,1849.0,5397.0,4410.0,1554.0,4499.0,1993.0,424.0,3782.0,1551.0,954.0,7304.0,15462.0,6958.0,964.0,3571.0,2421.0,21689.0,5542.0,7922.0,7055.0,767.0,3766.0,70773.0,2497.0,799.0,41478.0,867.0,2097.0,5533.0,534.0,197.0,533.0,1036.0,4503.0,8592.0,183.0,903.0,1236.0,305.0,1544.0,1020.0,325.0,3227.0,659.0,2528.0,550.0,1032.0,1142.0,1766.0,912.0,1305.0,653.0,3411.0,11533.0,3397.0,7865.0,715.0,988.0,4405.0,1936.0,11666.0,361.0,30531.0,88.0,55.0,494.0,1294.0,976.0,1586.0,1550.0,1209.0,850.0,5421.0,255.0,707.0,6856.0,1007.0,12952.0,2299.0,19.0,1736.0,2195.0,47062.0,4569.0,3655.0,15715.0,578.0,1747.0,197.0,4198.0,540.0,942.0,2470.0,478.0,2558.0,2178.0,860.0,2888.0,3026.0,2164.0,10874.0,1935.0,1871.0,7789.0,10394.0,17759.0,4714.0,3209.0,14118.0,11847.0,11339.0,1156.0,1534.0,1102.0,783.0,627.0,891.0,7484.0,876.0,1235.0,1143.0,450.0,1442.0,426.0,2814.0,4645.0,13130.0,3933.0,2197.0,1318.0,1553.0,2007.0,1540.0,1655.0,12201.0,1284.0,869.0,396.0,7142.0,1414.0,9833.0,604.0,685.0,549.0,1220.0,1588.0,8371.0,2570.0,6117.0,5368.0,2225.0,2086.0,1732.0,6751.0,5228.0,1477.0,1626.0,4529.0,3254.0,2267.0,17463.0,23669.0,5301.0,1033.0,6909.0,4040.0,546.0,2459.0,1284.0,1122.0,13016.0,1098.0,481.0,376.0,898.0,1393.0,434.0,394.0,263.0,1061.0,1312.0,764.0,289.0,4001.0,5097.0,3193.0,11011.0,3492.0,3559.0,2784.0,5495.0,2912.0,9687.0,3444.0,12629.0,1659.0,1305.0,651.0,1926.0,396.0,1062.0,578.0,4735.0,4306.0,10917.0,1701.0,11080.0,636.0,1478.0,362.0,8337.0,702.0,2698.0,177.0,714.0,1062.0,1552.0,102.0,613.0,2152.0,1063.0,3142.0,1566.0,2306.0,633.0,2859.0,299.0,1002.0,631.0,1386.0,2355.0,6742.0,1853.0,252.0,1302.0,1658.0,15092.0,165.0,4333.0,976.0,1276.0,1476.0,5351.0,2402.0,6402.0,223.0,654.0,1262.0,253.0,1780.0,1266.0,2389.0,1468.0,838.0,2649.0,6000.0,1839.0,10689.0,7449.0,4157.0,3388.0,1343.0,3399.0,2510.0,1537.0,6134.0,9355.0,1024.0,325.0,166.0,203.0,1134.0,216.0,25.0,1096.0,770.0,424.0,755.0,652.0,4797.0,2783.0,8462.0,5129.0,5272.0,2784.0,3086.0,6008.0,16486.0,2076.0,1353.0,3770.0,722.0,1404.0,1688.0,214.0,788.0,1128.0,608.0,359.0,1532.0,791.0,395.0,322.0,151.0,208.0,385.0,666.0,237.0,240.0,5014.0,3033.0,458.0,1779.0,334.0,222.0,422.0,227.0,50.0,194.0,458.0,61.0,314.0,586.0,770.0,735.0,1299.0,791.0,426.0,796.0,1316.0,8415.0,1085.0,817.0,1275.0,1526.0,10110.0,1832.0,945.0,1272.0,442.0,6315.0,1322.0,557.0,540.0,327.0,358.0,803.0,1557.0,1942.0,279.0,34.0,1420.0,1812.0,2472.0,1525.0,2650.0,2753.0,2985.0,2360.0,948.0,392.0,944.0,73110.0,878.0,1454.0,7318.0,555.0,496.0,436.0,382.0,1040.0,306.0,513.0,300.0,901.0],\"y0\":\" \",\"yaxis\":\"y2\",\"type\":\"box\"},{\"alignmentgroup\":\"True\",\"hovertemplate\":\"variable=num_reviews\\u003cbr\\u003evalue=%{y}\\u003cextra\\u003e\\u003c\\u002fextra\\u003e\",\"legendgroup\":\"num_reviews\",\"marker\":{\"color\":\"#00cc96\"},\"name\":\"num_reviews\",\"notched\":false,\"offsetgroup\":\"num_reviews\",\"orientation\":\"v\",\"showlegend\":true,\"x0\":\" \",\"xaxis\":\"x3\",\"y\":[23.0,923.0,74.0,11.0,45.0,138.0,178.0,148.0,34.0,14.0,93.0,42.0,21.0,52.0,19.0,106.0,79.0,115.0,24.0,249.0,3.0,84.0,83.0,38.0,333.0,518.0,373.0,237.0,103.0,25.0,21.0,171.0,449.0,11.0,12.0,118.0,2476.0,1118.0,2697.0,809.0,2347.0,278.0,137.0,1190.0,1113.0,594.0,42.0,872.0,11.0,65.0,12.0,71.0,200.0,23.0,11.0,83.0,123.0,169.0,6.0,2.0,689.0,600.0,497.0,340.0,713.0,158.0,985.0,461.0,162.0,506.0,237.0,218.0,18.0,240.0,273.0,16.0,232.0,331.0,40.0,244.0,71.0,225.0,370.0,340.0,55.0,69.0,53.0,212.0,57.0,15.0,100.0,5.0,276.0,402.0,30.0,66.0,1.0,18.0,31.0,19.0,15.0,25.0,12.0,2698.0,13.0,9.0,620.0,38.0,151.0,17.0,19.0,14.0,794.0,8.0,16.0,29.0,8.0,48.0,48.0,1463.0,1.0,194.0,6.0,48.0,10.0,11.0,30.0,35.0,649.0,54.0,1.0,3.0,187.0,9.0,16.0,14.0,4.0,149.0,65.0,4.0,110.0,140.0,46.0,4397.0,101.0,424.0,96.0,42.0,12.0,142.0,25.0,13.0,16.0,11.0,43.0,9.0,2.0,86.0,21.0,158.0,351.0,267.0,15.0,70.0,6.0,12.0,31.0,10.0,34.0,45.0,54.0,6.0,25.0,352.0,7.0,59.0,102.0,234.0,265.0,138.0,67.0,9.0,252.0,21.0,23.0,15.0,24.0,59.0,23.0,3.0,31.0,45.0,2.0,281.0,54.0,17.0,42.0,12.0,22.0,36.0,139.0,26.0,12.0,12.0,3.0,16.0,207.0,32.0,64.0,161.0,4.0,15.0,107.0,0.0,6.0,28.0,12.0,6.0,16.0,26.0,44.0,3.0,9.0,8.0,29.0,10.0,55.0,30.0,33.0,17.0,4.0,23.0,24.0,27.0,13.0,54.0,12.0,110.0,117.0,18.0,80.0,79.0,48.0,23.0,15.0,31.0,19.0,40.0,32.0,181.0,1.0,1.0,1.0,32.0,1.0,1.0,0.0,5.0,2.0,2.0,10.0,6.0,12.0,47.0,2.0,117.0,77.0,185.0,38.0,20.0,4.0,11.0,64.0,8.0,22.0,9.0,4.0,3.0,2.0,3.0,7.0,6.0,11.0,258.0,5.0,11.0,7.0,57.0,41.0,5.0,395.0,12.0,52.0,14.0,49.0,11.0,45.0,799.0,27.0,43.0,13.0,36.0,10.0,51.0,11.0,5.0,41.0,6.0,21.0,6.0,17.0,2.0,7.0,5.0,9.0,14.0,8.0,5.0,14.0,18.0,10.0,33.0,3.0,38.0,9.0,4.0,16.0,10.0,49.0,81.0,70.0,1.0,23.0,24.0,35.0,7.0,14.0,17.0,4.0,41.0,202.0,4.0,35.0,12.0,2.0,46.0,83.0,31.0,584.0,22.0,44.0,17.0,4.0,51.0,158.0,154.0,9.0,21.0,6.0,14.0,12.0,14.0,18.0,48.0,25.0,33.0,15.0,8.0,27.0,11.0,27.0,224.0,29.0,7.0,1440.0,25.0,21.0,19.0,31.0,0.0,95.0,70.0,12.0,4.0,32.0,22.0,54.0,6.0,12.0,218.0,137.0,56.0,8.0,137.0,20.0,281.0,33.0,19.0,52.0,103.0,89.0,40.0,17.0,61.0,92.0,0.0,1.0,1.0,0.0,0.0,1.0,0.0,1.0,0.0,1.0,0.0,2.0,6.0,3.0,2.0,6.0,3.0,4.0,6.0,3.0,8.0,2.0,11.0,6.0,1.0,10.0,4.0,29.0,60.0,7.0,5.0,4.0,20.0,4.0,6.0,5.0,26.0,3.0,7.0,11.0,64.0,16.0,9.0,19.0,34.0,56.0,35.0,6.0,0.0,0.0,0.0,0.0,0.0,0.0,0.0,0.0,0.0,0.0,0.0,0.0,47.0,10.0,34.0,13.0,14.0,2.0,16.0,10.0,10.0,2.0,13.0,10.0,6.0,2.0,9.0,4.0,1.0,1.0,3.0,53.0,2.0,1.0,4.0,11.0,30.0,44.0,256.0,936.0,76.0,712.0,4.0,58.0,37.0,5.0,23.0,38.0,10.0,70.0,1.0,20.0,6.0,33.0,13.0,8.0,8.0,6.0,8.0,11.0,0.0,0.0,0.0,0.0,0.0,0.0,0.0,0.0,0.0,0.0,1.0,0.0,2.0,12.0,9.0,36.0,1.0,15.0,18.0,7.0,15.0,24.0,2.0,25.0,15.0,4.0,9.0,9.0,23.0,9.0,16.0,47.0,29.0,20.0,13.0,25.0,10.0,8.0,8.0,3.0,17.0,3.0,9.0,11.0,7.0,22.0,4.0,10.0,128.0,33.0,40.0,34.0,12.0,48.0,2.0,135.0,8.0,444.0,85.0,635.0,0.0,0.0,0.0,0.0,1.0,2.0,0.0,0.0,0.0,0.0,0.0,0.0,1.0,1.0,4.0,1.0,3.0,7.0,1.0,2.0,1.0,7.0,2.0,5.0,18.0,3.0,4.0,18.0,5.0,3.0,3.0,25.0,15.0,14.0,4.0,3.0,1.0,2.0,3.0,10.0,2.0,1.0,1.0,6.0,1.0,1.0,1.0,1.0,24.0,13.0,96.0,24.0,27.0,109.0,14.0,7.0,109.0,84.0,44.0,15.0,1.0,1.0,2.0,2.0,1.0,0.0,0.0,2.0,1.0,3.0,1.0,3.0,16.0,49.0,54.0,20.0,19.0,32.0,98.0,27.0,19.0,34.0,4.0,24.0,2.0,2.0,3.0,3.0,0.0,3.0,2.0,2.0,7.0,0.0,1.0,2.0,86.0,890.0,49.0,40.0,67.0,55.0,11.0,20.0,10.0,13.0,68.0,39.0,2.0,2.0,15.0,4.0,2.0,2.0,15.0,1.0,2.0,2.0,81.0,3.0,12.0,12.0,169.0,13.0,71.0,12.0,10.0,61.0,17.0,39.0,14.0,40.0,14.0,3.0,34.0,55.0,0.0,12.0,17.0,45.0,60.0,45.0,14.0,2.0,2.0,7.0,1.0,30.0,2.0,9.0,4.0,25.0,35.0,7.0,66.0,5.0,140.0,11.0,34.0,1.0,45.0,13.0,51.0,2.0,9.0,23.0,14.0,58.0,9.0,69.0,4.0,5.0,4.0,5.0,13.0,3.0,4.0,6.0,5.0,4.0,10.0,11.0,83.0,30.0,23.0,11.0,12.0,3.0,14.0,17.0,22.0,6.0,8.0,2.0,9.0,3.0,32.0,3.0,5.0,5.0,5.0,10.0,7.0,5.0,0.0,0.0,0.0,0.0,0.0,0.0,0.0,0.0,0.0,0.0,41.0,63.0,19.0,56.0,11.0,14.0,10.0,8.0,54.0,8.0,24.0,4.0,43.0,11.0,38.0,5.0,69.0,12.0,45.0,27.0,74.0,6.0,17.0,7.0,1.0,1.0,3.0,1.0,6.0,3.0,38.0,6.0,3.0,37.0,4.0,9.0,6.0,351.0,138.0,70.0,86.0,192.0,183.0,60.0,144.0,6.0,109.0,5.0,5.0,48.0,10.0,102.0,11.0,11.0,71.0,4.0,24.0,8.0,2.0,4.0,6.0,4.0,3.0,3.0,1.0,1.0,5.0,5.0,5.0,6.0,23.0,12.0,17.0,12.0,13.0,90.0,8.0,120.0,6.0,10.0,0.0,14.0,16.0,2.0,4.0,33.0,43.0,4.0,1.0,0.0,1.0,1.0,1.0,1.0,4.0,0.0,0.0,0.0,0.0,0.0,0.0,0.0,0.0,0.0,0.0,0.0,25.0,20.0,10.0,0.0,25.0,18.0,12.0,41.0,21.0,13.0,25.0,50.0,11.0,17.0,7.0,5.0,13.0,5.0,10.0,18.0,17.0,16.0,5.0,3.0,0.0,0.0,0.0,0.0,0.0,1.0,1.0,1.0,2.0,0.0,0.0,0.0,2.0,6.0,2.0,13.0,3.0,2.0,2.0,4.0,2.0,2.0,2.0,111.0,28.0,15.0,43.0,6.0,6.0,6.0,5.0,7.0,20.0,17.0,13.0,19.0,13.0,4.0,3.0,3.0,3.0,9.0,15.0,7.0,5.0,6.0,42.0,19.0,7.0,12.0,1.0,24.0,7.0,20.0,16.0,3.0,2.0,5.0,76.0,2.0,4.0,6.0,2.0,4.0,1.0,0.0,4.0,2.0,3.0,6.0,2.0,7.0,7.0,16.0,4.0,2.0,9.0,18.0,16.0,3.0,11.0,35.0,14.0,1.0,0.0,0.0,0.0,22.0,2.0,1.0,0.0,0.0,1.0,1.0,0.0,0.0,0.0,0.0,1.0,0.0,0.0,0.0,0.0,1.0,0.0,0.0,1.0,39.0,14.0,19.0,16.0,22.0,36.0,5.0,41.0,6.0,210.0,13.0,200.0,5.0,0.0,6.0,5.0,2.0,3.0,1.0,5.0,2.0,3.0,2.0,1.0,49.0,135.0,547.0,230.0,109.0,145.0,37.0,47.0,40.0,51.0,94.0,23.0,1.0,3.0,3.0,2.0,0.0,1.0,0.0,0.0,2.0,1.0,3.0,1.0,0.0,0.0,0.0,0.0,4.0,1.0,1.0,2.0,2.0,0.0,0.0,0.0,9.0,16.0,6.0,11.0,3.0,306.0,11.0,4.0,5.0,2.0,96.0,3.0,0.0,0.0,0.0,50.0,0.0,7.0,3.0,9.0,0.0,296.0,819.0,10.0,48.0,29.0,1.0,7.0,40.0,19.0,52.0,24.0,28.0,32.0,19.0,15.0,92.0,14.0,142.0,128.0,19.0,11.0,71.0,14.0,8.0,17.0,5.0,1.0,8.0,10.0,3.0,8.0,17.0,10.0,1.0,4.0,7.0,5.0,14.0,13.0,62.0,21.0,78.0,3.0,25.0,45.0,16.0,54.0,22.0,36.0,4.0,1.0,5.0,3.0,8.0,14.0,7.0,6.0,8.0,5.0,4.0,5.0,22.0,46.0,31.0,39.0,37.0,3.0,60.0,122.0,28.0,12.0,7.0,77.0,46.0,45.0,22.0,3.0,3.0,44.0,30.0,0.0,3.0,23.0,21.0,46.0,8.0,240.0,50.0,40.0,44.0,337.0,15.0,104.0,424.0,427.0,182.0,124.0,11.0,24.0,6.0,0.0,1740.0,2379.0,447.0,737.0,754.0,1629.0,650.0,479.0,175.0,382.0,202.0,102.0,5.0,5.0,3.0,6.0,10.0,76.0,2.0,21.0,7.0,50.0,24.0,24.0,0.0,0.0,0.0,0.0,0.0,0.0,0.0,0.0,2.0,26.0,42.0,21.0,28.0,95.0,26.0,39.0,18.0,122.0,329.0,17.0,40.0,311.0,30.0,205.0,437.0,466.0,470.0,10.0,85.0,99.0,2.0,18.0,193.0,220.0,39.0,3.0,11.0,11.0,5.0,57.0,10.0,39.0,16.0,20.0,28.0,63.0,27.0,54.0,6.0,109.0,197.0,41.0,1041.0,103.0,12.0,52.0,20.0,172.0,16.0,30.0,92.0,12.0,88.0,50.0,245.0,1.0,25.0,10.0,31.0,68.0,15.0,29.0,8.0,15.0,16.0,10.0,11.0,30.0,42.0,14.0,15.0,3.0,11.0,21.0,5.0,1.0,3.0,3.0,9.0,1.0,2.0,3.0,1.0,2.0,1.0,1.0,49.0,6.0,3.0,13.0,10.0,10.0,14.0,68.0,5.0,53.0,0.0,4.0,40.0,34.0,8.0,12.0,13.0,3.0,8.0,6.0,25.0,27.0,12.0,3.0,158.0,11.0,29.0,53.0,20.0,9.0,29.0,11.0,5.0,57.0,203.0,35.0,24.0,423.0,26.0,470.0,58.0,30.0,61.0,74.0,49.0,121.0,38.0,49.0,6.0,143.0,5.0,7.0,654.0,120.0,15.0,0.0,15.0,11.0,46.0,27.0,1563.0,61.0,52.0,8.0,125.0,143.0,24.0,0.0,20.0,6.0,44.0,26.0,30.0,21.0,25.0,51.0,13.0,8.0,115.0,2215.0,62.0,24.0,28.0,68.0,4.0,2.0,0.0,3.0,190.0,198.0,108.0,9.0,42.0,6.0,96.0,27.0,24.0,10.0,2.0,7.0,11.0,6.0,28.0,8.0,5.0,3.0,16.0,2.0,30.0,8.0,12.0,25.0,17.0,15.0,10.0,10.0,42.0,8.0,2.0,13.0,162.0,17.0,9.0,23.0,5.0,37.0,48.0,31.0,576.0,57.0,49.0,1779.0,3.0,0.0,0.0,0.0,0.0,0.0,0.0,0.0,0.0,0.0,0.0,1.0,5.0,1.0,3.0,3.0,4.0,0.0,0.0,1.0,0.0,0.0,1.0,12.0,26.0,2.0,15.0,95.0,26.0,29.0,40.0,11.0,117.0,38.0,17.0,10.0,33.0,43.0,49.0,18.0,4.0,2.0,10.0,79.0,9.0,24.0,40.0,2.0,1.0,1.0,1.0,1.0,14.0,2.0,2.0,14.0,0.0,4.0,4.0,145.0,128.0,100.0,21.0,35.0,38.0,57.0,15.0,86.0,481.0,10.0,25.0,11.0,11.0,7.0,9.0,11.0,4.0,10.0,10.0,2.0,8.0,5.0,3.0,0.0,1.0,0.0,0.0,0.0,0.0,0.0,1.0,0.0,0.0,1.0,1.0,0.0,0.0,0.0,0.0,1.0,0.0,0.0,0.0,0.0,0.0,0.0,0.0,176.0,11.0,5.0,109.0,19.0,28.0,55.0,27.0,4.0,46.0,18.0,17.0,13.0,13.0,15.0,0.0,3.0,5.0,18.0,6.0,9.0,27.0,0.0,5.0,0.0,0.0,0.0,0.0,2.0,0.0,0.0,0.0,0.0,0.0,0.0,0.0,9.0,20.0,2.0,23.0,7.0,16.0,1.0,23.0,15.0,12.0,12.0,5.0,0.0,0.0,0.0,0.0,0.0,0.0,0.0,0.0,92.0,45.0,183.0,25.0,7.0,24.0,19.0,5.0,69.0,388.0,53.0,18.0,345.0,39.0,522.0,8.0,0.0,0.0,2.0,0.0,3.0,0.0,2.0,0.0,2.0,0.0,0.0,0.0,72.0,43.0,38.0,20.0,136.0,24.0,44.0,20.0,19.0,155.0,3.0,1.0,10.0,2.0,10.0,6.0,3.0,1.0,5.0,9.0,3.0,57.0,9.0,1.0,6.0,7.0,10.0,5.0,1.0,31.0,11.0,6.0,6.0,4.0,2.0,8.0,3.0,5.0,14.0,2.0,6.0,10.0,2.0,8.0,9.0,13.0,2.0,1.0,14.0,1.0,7.0,26.0,44.0,99.0,131.0,25.0,74.0,35.0,2.0,29.0,3.0,7.0,0.0,1.0,0.0,1.0,1.0,3.0,4.0,3.0,1.0,4.0,32.0,5.0,13.0,36.0,15.0,121.0,18.0,6.0,5.0,3.0,9.0,5.0,2.0,2.0,2.0,6.0,3.0,4.0,5.0,4.0,3.0,3.0,3.0,8.0,11.0,13.0,5.0,8.0,22.0,35.0,4.0,25.0,4.0,9.0,9.0,3.0,4.0,5.0,5.0,5.0,2.0,2.0,3.0,0.0,3.0,0.0,0.0,0.0,5.0,3.0,9.0,7.0,3.0,1.0,6.0,2.0,0.0,1.0,5.0,1.0,14.0,7.0,3.0,9.0,3.0,4.0,3.0,5.0,2.0,8.0,4.0,10.0,193.0,11.0,4.0,11.0,4.0,6.0,29.0,10.0,66.0,52.0,30.0,10.0,5.0,5.0,11.0,12.0,7.0,20.0,14.0,13.0,18.0,21.0,24.0,21.0,10.0,12.0,12.0,39.0,27.0,5.0,8.0,9.0,21.0,9.0,47.0,12.0,21.0,16.0,116.0,3.0,58.0,157.0,93.0,15.0,11.0,11.0,8.0,57.0,7.0,6.0,44.0,6.0,22.0,43.0,158.0,19.0,17.0,7.0,6.0,10.0,6.0,4.0,4.0,8.0,24.0,7.0,4.0,30.0,7.0,15.0,20.0,4.0,18.0,18.0,39.0,8.0,2.0,20.0,4.0,13.0,27.0,14.0,11.0,9.0,4.0,41.0,14.0,6.0,7.0,5.0,37.0,19.0,8.0,8.0,5.0,357.0,29.0,19.0,1042.0,64.0,29.0,8.0,34.0,224.0,82.0,31.0,38.0,35.0,11.0,38.0,15.0,27.0,12.0,34.0,31.0,49.0,46.0,113.0,21.0,18.0,308.0,40.0,9.0,17.0,1.0,772.0,52.0,10.0,4.0,4.0,9.0,1.0,28.0,26.0,3.0,21.0,5.0,107.0,9.0,11.0,8.0,15.0,3.0,10.0,11.0,2.0,6.0,3.0,28.0,44.0,40.0,5.0,331.0,129.0,71.0,20.0,18.0,8.0,5.0,39.0,15.0,78.0,30.0,10.0,39.0,26.0,13.0,39.0,38.0,183.0,398.0,125.0,79.0,17.0,4.0,65.0,88.0,26.0,410.0,0.0,6.0,7676.0,1340.0,375.0,2713.0,2257.0,159.0,128.0,718.0,665.0,79.0,260.0,33.0,52.0,13.0,18.0,1.0,12.0,3.0,89.0,6.0,252.0,37.0,8.0,8.0,2.0,1141.0,3.0,8.0,15.0,26.0,5.0,2.0,10.0,16.0,34.0,10.0,3.0,10.0,2.0,11.0,101.0,177.0,1.0,55.0,173.0,14.0,20.0,72.0,26.0,35.0,4.0,6.0,3.0,16.0,19.0,3.0,54.0,68.0,21.0,38.0,276.0,11.0,175.0,41.0,192.0,10.0,136.0,29.0,107.0,3.0,2.0,2.0,2.0,5.0,45.0,6.0,4.0,2.0,7.0,2.0,4.0,1.0,4.0,109.0,25.0,26.0,15.0,88.0,136.0,10.0,6.0,27.0,4.0,7.0,9.0,25.0,33.0,11.0,4.0,5.0,35.0,4.0,2.0,5.0,28.0,2.0,3.0,23.0,4.0,2.0,0.0,2.0,2.0,2.0,1.0,1.0,1.0,6.0,1.0,3.0,4.0,3.0,1.0,2.0,2.0,3.0,2.0,2.0,1.0,0.0,0.0,0.0,0.0,0.0,0.0,0.0,0.0,0.0,0.0,0.0,0.0,3.0,2.0,3.0,6.0,3.0,64.0,5.0,7.0,7.0,4.0,4.0,12.0,3.0,3.0,1.0,1.0,1.0,1.0,2.0,0.0,0.0,2.0,2.0,0.0,9.0,8.0,4.0,10.0,11.0,17.0,2.0,3.0,5.0,7.0,7.0,6.0,9.0,0.0,18.0,6.0,10.0,5.0,4.0,5.0,14.0,3.0,15.0,8.0,3.0,5.0,3.0,33.0,7.0,3.0,4.0,15.0,4.0,161.0,9.0,22.0,32.0,263.0,23.0,42.0,109.0,4.0,17.0,12.0,26.0,5.0,4.0,1.0,7.0,6.0,9.0,5.0,2.0,4.0,4.0,6.0,11.0,3.0,1.0,2.0,2.0,4.0,2.0,1.0,2.0,1.0,2.0,1.0,3.0,1.0,2.0,2.0,6.0,7.0,1.0,3.0,3.0,30.0,1.0,1.0,1.0,1.0,2.0,1.0,1.0,2.0,0.0,4.0,3.0,3.0,1.0,2.0,0.0,1.0,3.0,7.0,1.0,3.0,3.0,3.0,5.0,2.0,6.0,1.0,4.0,2.0,1.0,1.0,0.0,0.0,0.0,0.0,1.0,0.0,0.0,0.0,1.0,0.0,1.0,0.0,1.0,1.0,0.0,1.0,1.0,0.0,0.0,3.0,0.0,0.0,4.0,11.0,4.0,3.0,3.0,2.0,6.0,8.0,5.0,7.0,2.0,7.0,7.0,3.0,5.0,3.0,1.0,5.0,4.0,8.0,2.0,3.0,4.0,1.0,9.0,7.0,3.0,6.0,6.0,5.0,23.0,16.0,18.0,3.0,3.0,8.0,8.0,8.0,9.0,4.0,6.0,8.0,4.0,2.0,5.0,8.0,0.0,4.0,2.0,7.0,1.0,2.0,4.0,4.0,3.0,1.0,8.0,2.0,6.0,3.0,3.0,3.0,2.0,4.0,4.0,4.0,2.0,6.0,1.0,12.0,1.0,7.0,3.0,3.0,4.0,1.0,0.0,5.0,2.0,1.0,3.0,1.0,8.0,3.0,0.0,0.0,0.0,0.0,0.0,0.0,0.0,0.0,0.0,0.0,1.0,0.0,0.0,2.0,0.0,0.0,1.0,1.0,1.0,1.0,1.0,1.0,0.0,1.0,0.0,0.0,0.0,0.0,0.0,0.0,0.0,0.0,0.0,1.0,1.0,0.0,1.0,1.0,0.0,0.0,0.0,0.0,0.0,0.0,0.0,0.0,0.0,0.0,2.0,12.0,11.0,25.0,47.0,3.0,6.0,20.0,13.0,13.0,3.0,3.0,0.0,14.0,29.0,1.0,0.0,28.0,26.0,12.0,30.0,1.0,9.0,1.0,1.0,1.0,3.0,4.0,3.0,2.0,1.0,1.0,1.0,1.0,5.0,0.0,2.0,2.0,2.0,2.0,11.0,3.0,2.0,5.0,6.0,21.0,2.0,11.0,51.0,17.0,6.0,4.0,7.0,19.0,10.0,21.0,25.0,9.0,12.0,3.0,1.0,0.0,0.0,0.0,0.0,0.0,2.0,0.0,0.0,0.0,0.0,0.0,525.0,285.0,529.0,206.0,490.0,202.0,112.0,359.0,178.0,210.0,540.0,351.0,167.0,253.0,220.0,106.0,333.0,147.0,94.0,217.0,317.0,218.0,110.0,131.0,848.0,506.0,1017.0,655.0,820.0,662.0,1445.0,1981.0,104.0,1358.0,1304.0,418.0,73.0,38.0,52.0,56.0,59.0,35.0,21.0,41.0,200.0,83.0,324.0,13.0,41.0,401.0,198.0,368.0,137.0,142.0,116.0,333.0,193.0,277.0,220.0,111.0,223.0,46.0,340.0,6.0,76.0,201.0,75.0,43.0,53.0,49.0,31.0,237.0,783.0,121.0,312.0,268.0,117.0,215.0,212.0,674.0,165.0,680.0,395.0,188.0,414.0,1111.0,331.0,941.0,129.0,72.0,179.0,799.0,836.0,453.0,997.0,232.0,20.0,1220.0,411.0,89.0,110.0,8.0,13.0,82.0,43.0,23.0,64.0,31.0,80.0,0.0,6512.0,21.0,75.0,4047.0,16.0,7.0,16.0,30.0,139.0,473.0,79.0,56.0,111.0,34.0,110.0,118.0,46.0,1097.0,35.0,57.0,173.0,31.0,159.0,359.0,276.0,253.0,78.0,216.0,219.0,105.0,2685.0,96.0,423.0,94.0,142.0,16.0,212.0,102.0,5.0,210.0,43.0,81.0,35.0,169.0,69.0,970.0,570.0,901.0,876.0,303.0,129.0,286.0,302.0,629.0,292.0,262.0,0.0,62.0,125.0,164.0,1342.0,314.0,178.0,114.0,47.0,978.0,43.0,30.0,522.0,44.0,101.0,159.0,63.0,874.0,68.0,88.0,243.0,24.0,63.0,27.0,160.0,147.0,37.0,147.0,220.0,129.0,53.0,118.0,29.0,50.0,231.0,306.0,125.0,17.0,38.0,80.0,291.0,4.0,9.0,185.0,138.0,22.0,23.0,8.0,10.0,1838.0,330.0,1548.0,531.0,622.0,660.0,1090.0,2408.0,1846.0,497.0,116.0,214.0,193.0,117.0,627.0,105.0,931.0,383.0,134.0,26.0,329.0,401.0,685.0,466.0,64.0,43.0,65.0,26.0,523.0,11.0,16.0,120.0,20.0,63.0,131.0,12.0,514.0,589.0,28.0,237.0,276.0,26.0,742.0,471.0,174.0,22.0,231.0,144.0,92.0,136.0,90.0,213.0,8.0,16.0,144.0,30.0,92.0,9.0,64.0,185.0,15.0,61.0,10.0,15.0,81.0,4.0,188.0,212.0,10.0,60.0,258.0,24.0,53.0,38.0,49.0,28.0,92.0,48.0,228.0,20.0,93.0,39.0,32.0,129.0,22.0,1005.0,27.0,34.0,2575.0,5924.0,5.0,44.0,33.0,183.0,69.0,24.0,22.0,129.0,10.0,129.0,138.0,52.0,6.0,15.0,47.0,52.0,14.0,15.0,415.0,463.0,482.0,224.0,1813.0,34.0,260.0,99.0,247.0,380.0,44.0,210.0,450.0,43.0,17.0,17.0,95.0,1112.0,99.0,27.0,126.0,78.0,26.0,137.0,21.0,8629.0,69.0,441.0,154.0,105.0,17.0,7.0,354.0,74.0,750.0,20.0,108.0,71.0,15.0,47.0,51.0,115.0,96.0,73.0,112.0,52.0,46.0,292.0,44.0,110.0,31.0,37.0,16.0,1.0,52.0,6.0,53.0,38.0,63.0,4.0,14.0,33.0,38.0,20.0,5.0,7.0,21.0,4.0,23.0,34.0,26.0,20.0,65.0,33.0,50.0,11.0,12.0,5.0,72.0,46.0,74.0,42.0,30.0,95.0,34.0,11.0,14.0,40.0,17.0,107.0,358.0,37.0,45.0,19.0,166.0,6.0,20.0,49.0,165.0,78.0,62.0,18.0,54.0,69.0,102.0,5.0,145.0,439.0,44.0,33.0,31.0,165.0,29.0,30.0,172.0,278.0,17.0,126.0,137.0,99.0,242.0,16.0,85.0,9.0,91.0,32.0,239.0,55.0,23.0,10.0,18.0,110.0,8.0,9.0,16.0,10.0,33.0,393.0,34.0,28.0,40.0,17.0,92.0,54.0,34.0,90.0,121.0,245.0,27.0,62.0,15.0,37.0,15.0,57.0,57.0,36.0,77.0,261.0,53.0,68.0,39.0,96.0,20.0,415.0,4.0,989.0,25.0,84.0,25.0,133.0,215.0,15.0,145.0,9.0,11.0,39.0,63.0,28.0,117.0,18.0,40.0,111.0,131.0,195.0,1106.0,141.0,84.0,19.0,8.0,31.0,22.0,38.0,249.0,2.0,15.0,56.0,28.0,52.0,36.0,92.0,95.0,25.0,52.0,37.0,76.0,134.0,53.0,12.0,171.0,46.0,302.0,95.0,102.0,92.0,39.0,435.0,94.0,216.0,119.0,28.0,154.0,169.0,239.0,106.0,162.0,235.0,285.0,107.0,45.0,13.0,279.0,99.0,12.0,10.0,72.0,99.0,4.0,7.0,97.0,311.0,92.0,39.0,12.0,2.0,24.0,11.0,33.0,28.0,22.0,10.0,6.0,58.0,90.0,50.0,31.0,141.0,29.0,32.0,89.0,138.0,87.0,52.0,318.0,44.0,115.0,206.0,44.0,58.0,536.0,106.0,95.0,89.0,94.0,28.0,14.0,64.0,65.0,4.0,154.0,36.0,95.0,416.0,17.0,93.0,438.0,40.0,32.0,111.0,13.0,136.0,137.0,8.0,178.0,32.0,19.0,14.0,17.0,14.0,25.0,60.0,32.0,130.0,228.0,81.0,91.0,235.0,35.0,31.0,411.0,28.0,48.0,8.0,110.0,365.0,93.0,602.0,589.0,139.0,508.0,137.0,721.0,55.0,59.0,360.0,11.0,2.0,19.0,13.0,41.0,48.0,12.0,50.0,58.0,13.0,72.0,74.0,941.0,1724.0,527.0,1213.0,372.0,688.0,16.0,983.0,525.0,620.0,407.0,174.0,169.0,185.0,128.0,4.0,20.0,35.0,72.0,27.0,179.0,49.0,489.0,39.0,8.0,21.0,67.0,12.0,32.0,15.0,40.0,42.0,67.0,102.0,8.0,150.0,51.0,1225.0,384.0,260.0,382.0,95.0,28.0,634.0,434.0,780.0,526.0,123.0,16.0,54.0,149.0,17.0,28.0,97.0,25.0,62.0,21.0,84.0,8.0,172.0,850.0,166.0,1883.0,1375.0,828.0,737.0,19649.0,1955.0,4316.0,676.0,3809.0,3137.0,223.0,171.0,22.0,283.0,303.0,86.0,35.0,103.0,9.0,2692.0,26.0,33.0,1286.0,241.0,4675.0,288.0,4340.0,3166.0,8341.0,1384.0,27445.0,2144.0,22412.0,4434.0,914.0,561.0,99.0,30.0,2618.0,76.0,50.0,162.0,271.0,313.0,59.0,22.0,11580.0,16976.0,1893.0,7106.0,2709.0,11123.0,1560.0,3326.0,15117.0,307.0,6357.0,987.0,17.0,86.0,139.0,23.0,56.0,22.0,22.0,17.0,24.0,62.0,10.0,6.0,71.0,19.0,89.0,3.0,137.0,59.0,19.0,5.0,65.0,4.0,14.0,28.0,173.0,22.0,56.0,49.0,615.0,126.0,32.0,4598.0,945.0,1236.0,58.0,386.0,87.0,101.0,8.0,152.0,93.0,7.0,38.0,16.0,27.0,29.0,112.0,52.0,30.0,138.0,55.0,85.0,32.0,42.0,183.0,368.0,689.0,132.0,19.0,18.0,6.0,1080.0,54.0,183.0,166.0,104.0,135.0,5660.0,98.0,87.0,2104.0,177.0,16.0,137.0,16.0,26.0,54.0,27.0,146.0,336.0,30.0,3.0,18.0,45.0,15.0,46.0,50.0,19.0,64.0,15.0,15.0,9.0,148.0,38.0,128.0,38.0,20.0,84.0,240.0,12.0,241.0,12.0,23.0,71.0,88.0,546.0,26.0,1948.0,8.0,13.0,46.0,11.0,29.0,87.0,15.0,8.0,12.0,93.0,5.0,59.0,137.0,96.0,163.0,11.0,2.0,79.0,10.0,5590.0,108.0,85.0,406.0,40.0,13.0,11.0,145.0,11.0,161.0,24.0,37.0,12.0,22.0,201.0,26.0,60.0,290.0,114.0,17.0,154.0,59.0,33.0,64.0,149.0,58.0,30.0,57.0,43.0,13.0,33.0,12.0,20.0,126.0,101.0,304.0,59.0,25.0,34.0,61.0,9.0,4.0,14.0,171.0,346.0,23.0,9.0,78.0,35.0,10.0,19.0,10.0,217.0,46.0,125.0,6.0,41.0,14.0,241.0,47.0,37.0,49.0,16.0,8.0,212.0,17.0,188.0,78.0,14.0,56.0,15.0,44.0,180.0,17.0,81.0,54.0,92.0,17.0,283.0,521.0,174.0,16.0,401.0,72.0,69.0,107.0,173.0,5.0,286.0,15.0,75.0,19.0,132.0,40.0,69.0,78.0,14.0,8.0,19.0,7.0,30.0,8.0,196.0,10.0,13.0,61.0,24.0,221.0,52.0,309.0,59.0,35.0,88.0,73.0,25.0,52.0,9.0,130.0,12.0,6.0,81.0,163.0,319.0,125.0,165.0,33.0,18.0,19.0,300.0,21.0,29.0,19.0,48.0,20.0,14.0,27.0,135.0,19.0,101.0,117.0,29.0,3.0,104.0,42.0,75.0,7.0,103.0,17.0,143.0,1036.0,34.0,46.0,18.0,72.0,1234.0,13.0,16.0,93.0,245.0,27.0,235.0,26.0,104.0,26.0,86.0,36.0,34.0,15.0,90.0,7.0,54.0,13.0,16.0,21.0,91.0,394.0,91.0,206.0,67.0,11.0,85.0,21.0,8.0,93.0,390.0,14.0,37.0,21.0,33.0,9.0,28.0,4.0,33.0,65.0,45.0,0.0,48.0,97.0,9.0,50.0,183.0,111.0,425.0,17.0,203.0,86.0,125.0,53.0,108.0,53.0,7.0,16.0,34.0,21.0,77.0,88.0,45.0,19.0,29.0,26.0,9.0,40.0,48.0,39.0,89.0,22.0,45.0,196.0,91.0,2.0,48.0,41.0,9.0,86.0,16.0,5.0,26.0,28.0,9.0,43.0,10.0,0.0,16.0,15.0,8.0,4.0,3.0,22.0,56.0,8.0,164.0,11.0,72.0,379.0,6.0,17.0,31.0,48.0,53.0,14.0,39.0,13.0,26.0,0.0,2.0,13.0,23.0,37.0,2.0,62.0,112.0,41.0,43.0,61.0,10.0,40.0,12.0,193.0,81.0,1.0,1716.0,6.0,14.0,205.0,89.0,113.0,36.0,28.0,14.0,3.0,169.0,31.0,36.0],\"y0\":\" \",\"yaxis\":\"y3\",\"type\":\"box\"},{\"alignmentgroup\":\"True\",\"hovertemplate\":\"variable=num_lectures\\u003cbr\\u003evalue=%{y}\\u003cextra\\u003e\\u003c\\u002fextra\\u003e\",\"legendgroup\":\"num_lectures\",\"marker\":{\"color\":\"#ab63fa\"},\"name\":\"num_lectures\",\"notched\":false,\"offsetgroup\":\"num_lectures\",\"orientation\":\"v\",\"showlegend\":true,\"x0\":\" \",\"xaxis\":\"x4\",\"y\":[51.0,274.0,51.0,36.0,26.0,25.0,26.0,23.0,38.0,15.0,76.0,17.0,19.0,16.0,42.0,19.0,16.0,52.0,23.0,12.0,25.0,39.0,16.0,23.0,40.0,50.0,42.0,25.0,81.0,37.0,41.0,35.0,80.0,22.0,28.0,68.0,52.0,61.0,138.0,110.0,174.0,103.0,79.0,25.0,227.0,43.0,35.0,42.0,46.0,62.0,53.0,77.0,23.0,20.0,17.0,47.0,33.0,15.0,11.0,19.0,40.0,79.0,38.0,102.0,40.0,76.0,45.0,26.0,26.0,32.0,28.0,30.0,15.0,23.0,45.0,18.0,60.0,15.0,39.0,45.0,54.0,24.0,134.0,33.0,5.0,20.0,10.0,49.0,19.0,14.0,49.0,6.0,108.0,57.0,9.0,11.0,14.0,30.0,60.0,9.0,6.0,25.0,20.0,15.0,20.0,19.0,23.0,24.0,51.0,30.0,16.0,13.0,9.0,8.0,462.0,25.0,5.0,29.0,59.0,8.0,42.0,24.0,284.0,47.0,35.0,39.0,20.0,14.0,17.0,16.0,18.0,14.0,20.0,11.0,28.0,61.0,26.0,15.0,23.0,12.0,55.0,17.0,45.0,16.0,59.0,36.0,34.0,33.0,23.0,13.0,29.0,31.0,34.0,25.0,25.0,46.0,17.0,22.0,43.0,20.0,544.0,66.0,36.0,29.0,43.0,22.0,14.0,29.0,34.0,40.0,13.0,21.0,42.0,13.0,19.0,88.0,10.0,44.0,54.0,11.0,24.0,12.0,10.0,76.0,23.0,26.0,24.0,25.0,27.0,8.0,34.0,48.0,22.0,20.0,5.0,31.0,14.0,90.0,21.0,5.0,7.0,42.0,15.0,37.0,54.0,35.0,9.0,49.0,9.0,24.0,6.0,15.0,97.0,18.0,8.0,45.0,18.0,128.0,19.0,14.0,55.0,9.0,28.0,13.0,23.0,59.0,16.0,63.0,18.0,20.0,11.0,7.0,46.0,21.0,7.0,34.0,12.0,22.0,24.0,53.0,38.0,59.0,25.0,19.0,28.0,38.0,15.0,20.0,9.0,11.0,38.0,9.0,16.0,23.0,19.0,19.0,47.0,45.0,38.0,15.0,51.0,235.0,37.0,15.0,31.0,48.0,52.0,44.0,14.0,211.0,29.0,26.0,24.0,40.0,19.0,42.0,15.0,23.0,10.0,17.0,30.0,55.0,100.0,25.0,12.0,20.0,16.0,13.0,19.0,26.0,5.0,14.0,15.0,62.0,43.0,15.0,82.0,14.0,81.0,30.0,45.0,11.0,16.0,11.0,16.0,8.0,21.0,6.0,18.0,31.0,39.0,27.0,97.0,11.0,22.0,123.0,14.0,27.0,11.0,21.0,23.0,40.0,10.0,11.0,33.0,47.0,43.0,33.0,21.0,10.0,332.0,22.0,9.0,34.0,46.0,15.0,39.0,21.0,272.0,18.0,6.0,31.0,16.0,29.0,6.0,61.0,10.0,19.0,12.0,18.0,69.0,12.0,7.0,129.0,15.0,7.0,316.0,44.0,11.0,27.0,6.0,29.0,19.0,25.0,62.0,23.0,37.0,8.0,28.0,17.0,61.0,5.0,70.0,20.0,17.0,25.0,14.0,30.0,138.0,8.0,13.0,20.0,12.0,105.0,66.0,176.0,32.0,7.0,13.0,91.0,18.0,14.0,29.0,27.0,15.0,11.0,44.0,16.0,41.0,37.0,11.0,53.0,48.0,18.0,21.0,12.0,5.0,55.0,8.0,25.0,19.0,6.0,108.0,12.0,9.0,6.0,7.0,26.0,14.0,5.0,15.0,21.0,15.0,29.0,28.0,14.0,43.0,22.0,17.0,61.0,42.0,6.0,16.0,17.0,12.0,29.0,21.0,47.0,5.0,36.0,9.0,26.0,9.0,64.0,21.0,31.0,17.0,72.0,4.0,23.0,35.0,69.0,11.0,20.0,27.0,7.0,9.0,9.0,9.0,15.0,11.0,5.0,16.0,35.0,18.0,21.0,19.0,11.0,35.0,25.0,30.0,58.0,19.0,20.0,18.0,15.0,18.0,19.0,63.0,15.0,26.0,9.0,58.0,6.0,29.0,14.0,72.0,40.0,12.0,23.0,22.0,16.0,24.0,64.0,26.0,16.0,22.0,79.0,12.0,19.0,211.0,11.0,14.0,20.0,11.0,28.0,142.0,14.0,24.0,21.0,27.0,34.0,24.0,8.0,12.0,12.0,6.0,27.0,21.0,28.0,43.0,11.0,25.0,12.0,10.0,8.0,19.0,15.0,395.0,19.0,194.0,63.0,30.0,12.0,19.0,7.0,36.0,14.0,12.0,5.0,27.0,54.0,32.0,41.0,20.0,21.0,88.0,15.0,18.0,22.0,18.0,14.0,20.0,16.0,14.0,25.0,24.0,27.0,25.0,35.0,13.0,527.0,74.0,46.0,9.0,25.0,13.0,15.0,11.0,7.0,15.0,84.0,14.0,14.0,9.0,12.0,20.0,8.0,14.0,57.0,33.0,22.0,23.0,21.0,13.0,12.0,14.0,15.0,17.0,69.0,87.0,18.0,21.0,5.0,15.0,24.0,66.0,13.0,15.0,20.0,17.0,65.0,13.0,15.0,18.0,19.0,21.0,14.0,18.0,28.0,11.0,8.0,13.0,21.0,48.0,7.0,13.0,9.0,8.0,15.0,6.0,12.0,41.0,10.0,33.0,14.0,24.0,61.0,24.0,12.0,37.0,6.0,29.0,29.0,16.0,12.0,42.0,23.0,52.0,13.0,19.0,16.0,15.0,5.0,15.0,22.0,22.0,35.0,20.0,15.0,27.0,53.0,105.0,59.0,16.0,460.0,11.0,101.0,17.0,25.0,14.0,5.0,22.0,10.0,5.0,27.0,24.0,21.0,6.0,50.0,18.0,41.0,54.0,20.0,16.0,23.0,20.0,19.0,52.0,95.0,70.0,51.0,10.0,6.0,5.0,18.0,17.0,42.0,107.0,32.0,16.0,8.0,5.0,50.0,33.0,7.0,29.0,29.0,34.0,50.0,50.0,35.0,17.0,8.0,28.0,50.0,12.0,16.0,20.0,22.0,24.0,6.0,41.0,27.0,30.0,37.0,29.0,25.0,6.0,14.0,15.0,102.0,10.0,11.0,113.0,8.0,39.0,6.0,17.0,12.0,5.0,25.0,8.0,7.0,6.0,30.0,6.0,13.0,17.0,29.0,15.0,41.0,11.0,31.0,8.0,10.0,22.0,7.0,7.0,13.0,32.0,25.0,10.0,26.0,25.0,30.0,69.0,22.0,12.0,12.0,13.0,42.0,49.0,15.0,20.0,27.0,10.0,5.0,71.0,9.0,24.0,19.0,28.0,14.0,15.0,22.0,145.0,12.0,10.0,9.0,9.0,10.0,12.0,10.0,9.0,6.0,9.0,10.0,44.0,23.0,6.0,23.0,19.0,23.0,19.0,11.0,38.0,27.0,20.0,8.0,11.0,37.0,24.0,14.0,29.0,44.0,26.0,20.0,13.0,10.0,13.0,12.0,14.0,10.0,8.0,37.0,22.0,20.0,57.0,24.0,5.0,29.0,75.0,25.0,17.0,20.0,41.0,54.0,11.0,22.0,55.0,25.0,19.0,42.0,17.0,55.0,42.0,79.0,6.0,34.0,16.0,20.0,35.0,19.0,17.0,64.0,10.0,16.0,5.0,27.0,28.0,11.0,11.0,15.0,26.0,13.0,12.0,25.0,26.0,27.0,38.0,37.0,5.0,33.0,5.0,17.0,9.0,21.0,444.0,27.0,54.0,17.0,33.0,10.0,24.0,25.0,33.0,27.0,6.0,5.0,33.0,9.0,12.0,12.0,7.0,6.0,10.0,7.0,6.0,9.0,0.0,27.0,10.0,14.0,14.0,21.0,9.0,14.0,34.0,35.0,27.0,64.0,9.0,12.0,35.0,28.0,30.0,6.0,6.0,77.0,12.0,45.0,33.0,37.0,26.0,18.0,37.0,31.0,23.0,10.0,7.0,127.0,6.0,12.0,11.0,59.0,13.0,59.0,13.0,13.0,25.0,14.0,50.0,22.0,16.0,26.0,15.0,17.0,5.0,98.0,54.0,21.0,16.0,286.0,27.0,14.0,23.0,27.0,27.0,10.0,19.0,28.0,9.0,12.0,36.0,8.0,6.0,20.0,15.0,9.0,34.0,34.0,12.0,25.0,74.0,26.0,35.0,13.0,20.0,17.0,24.0,22.0,27.0,120.0,60.0,11.0,35.0,19.0,14.0,12.0,10.0,12.0,79.0,36.0,16.0,19.0,49.0,28.0,58.0,7.0,25.0,6.0,12.0,13.0,29.0,7.0,14.0,18.0,27.0,21.0,25.0,6.0,16.0,27.0,6.0,28.0,27.0,19.0,29.0,5.0,5.0,39.0,130.0,48.0,6.0,6.0,7.0,12.0,34.0,24.0,27.0,22.0,7.0,10.0,39.0,25.0,14.0,11.0,24.0,29.0,28.0,33.0,25.0,36.0,21.0,13.0,40.0,45.0,18.0,9.0,49.0,12.0,40.0,29.0,25.0,24.0,13.0,27.0,23.0,7.0,40.0,45.0,73.0,16.0,29.0,38.0,15.0,28.0,52.0,14.0,17.0,14.0,14.0,36.0,49.0,5.0,121.0,27.0,37.0,8.0,13.0,11.0,45.0,20.0,19.0,8.0,6.0,12.0,13.0,10.0,51.0,41.0,11.0,10.0,9.0,42.0,18.0,35.0,46.0,10.0,7.0,27.0,47.0,14.0,9.0,53.0,13.0,9.0,13.0,27.0,7.0,13.0,22.0,5.0,15.0,33.0,14.0,40.0,15.0,39.0,24.0,44.0,44.0,15.0,39.0,37.0,19.0,33.0,11.0,15.0,75.0,11.0,46.0,32.0,12.0,18.0,26.0,17.0,16.0,20.0,32.0,56.0,21.0,27.0,158.0,30.0,16.0,47.0,27.0,18.0,48.0,28.0,59.0,49.0,241.0,17.0,50.0,7.0,29.0,34.0,13.0,24.0,86.0,25.0,22.0,14.0,26.0,14.0,21.0,24.0,17.0,30.0,21.0,36.0,54.0,17.0,11.0,19.0,15.0,27.0,18.0,18.0,60.0,43.0,19.0,18.0,8.0,53.0,72.0,15.0,34.0,15.0,16.0,187.0,11.0,31.0,41.0,10.0,8.0,28.0,23.0,111.0,86.0,27.0,15.0,110.0,15.0,21.0,85.0,20.0,26.0,46.0,9.0,7.0,25.0,18.0,65.0,62.0,150.0,63.0,65.0,42.0,41.0,85.0,79.0,41.0,54.0,57.0,18.0,21.0,33.0,35.0,29.0,10.0,10.0,10.0,35.0,44.0,50.0,9.0,9.0,9.0,29.0,8.0,14.0,10.0,12.0,11.0,21.0,27.0,18.0,22.0,12.0,46.0,42.0,16.0,10.0,29.0,43.0,15.0,21.0,16.0,24.0,20.0,26.0,96.0,134.0,94.0,71.0,80.0,20.0,119.0,33.0,82.0,24.0,13.0,27.0,15.0,25.0,56.0,15.0,35.0,20.0,14.0,55.0,28.0,28.0,27.0,8.0,20.0,12.0,5.0,22.0,9.0,15.0,26.0,8.0,35.0,14.0,12.0,25.0,28.0,78.0,39.0,11.0,14.0,13.0,9.0,24.0,25.0,8.0,11.0,5.0,5.0,7.0,13.0,12.0,12.0,11.0,45.0,10.0,6.0,9.0,27.0,122.0,20.0,5.0,19.0,124.0,43.0,8.0,55.0,12.0,9.0,11.0,9.0,163.0,23.0,19.0,70.0,8.0,49.0,31.0,11.0,63.0,34.0,12.0,10.0,77.0,66.0,20.0,46.0,19.0,41.0,53.0,131.0,36.0,43.0,48.0,25.0,13.0,26.0,44.0,28.0,43.0,8.0,17.0,48.0,12.0,35.0,22.0,9.0,33.0,13.0,10.0,7.0,17.0,37.0,67.0,40.0,25.0,14.0,35.0,82.0,34.0,41.0,16.0,12.0,31.0,31.0,62.0,6.0,56.0,12.0,33.0,98.0,45.0,31.0,79.0,18.0,77.0,15.0,15.0,14.0,12.0,14.0,19.0,42.0,62.0,108.0,19.0,13.0,16.0,9.0,18.0,12.0,77.0,23.0,16.0,36.0,9.0,24.0,15.0,24.0,141.0,25.0,25.0,20.0,20.0,43.0,51.0,21.0,24.0,18.0,29.0,14.0,35.0,24.0,118.0,16.0,26.0,34.0,82.0,7.0,25.0,166.0,37.0,8.0,11.0,13.0,5.0,24.0,36.0,8.0,26.0,23.0,19.0,35.0,36.0,57.0,23.0,6.0,105.0,13.0,18.0,19.0,29.0,45.0,12.0,6.0,7.0,27.0,34.0,13.0,14.0,7.0,8.0,13.0,5.0,21.0,30.0,5.0,44.0,22.0,59.0,49.0,87.0,24.0,66.0,11.0,38.0,14.0,16.0,26.0,22.0,6.0,45.0,37.0,39.0,18.0,74.0,44.0,8.0,16.0,14.0,62.0,88.0,19.0,9.0,18.0,50.0,154.0,29.0,15.0,158.0,18.0,11.0,5.0,7.0,8.0,9.0,30.0,17.0,30.0,9.0,185.0,11.0,37.0,111.0,9.0,54.0,11.0,13.0,30.0,11.0,17.0,12.0,11.0,16.0,6.0,19.0,26.0,9.0,21.0,17.0,57.0,21.0,17.0,24.0,16.0,15.0,11.0,20.0,10.0,37.0,8.0,19.0,23.0,13.0,56.0,23.0,9.0,9.0,5.0,43.0,8.0,8.0,11.0,8.0,9.0,55.0,10.0,34.0,6.0,8.0,29.0,27.0,15.0,33.0,23.0,81.0,98.0,30.0,11.0,41.0,150.0,19.0,11.0,33.0,66.0,25.0,13.0,9.0,55.0,21.0,20.0,19.0,7.0,19.0,63.0,20.0,5.0,14.0,12.0,8.0,29.0,14.0,5.0,10.0,35.0,46.0,34.0,81.0,19.0,26.0,76.0,31.0,12.0,88.0,76.0,28.0,24.0,5.0,9.0,32.0,8.0,5.0,16.0,24.0,29.0,18.0,18.0,11.0,77.0,17.0,24.0,35.0,14.0,11.0,40.0,57.0,14.0,15.0,207.0,12.0,26.0,16.0,28.0,20.0,18.0,12.0,34.0,10.0,46.0,16.0,20.0,49.0,18.0,8.0,39.0,72.0,29.0,15.0,225.0,77.0,20.0,12.0,34.0,61.0,19.0,12.0,78.0,15.0,32.0,103.0,7.0,11.0,202.0,7.0,54.0,8.0,22.0,14.0,10.0,23.0,30.0,13.0,29.0,11.0,25.0,23.0,13.0,15.0,8.0,8.0,11.0,17.0,19.0,9.0,16.0,9.0,26.0,28.0,48.0,13.0,19.0,18.0,30.0,15.0,21.0,52.0,24.0,97.0,56.0,29.0,15.0,61.0,29.0,15.0,16.0,45.0,12.0,26.0,11.0,18.0,15.0,57.0,41.0,17.0,12.0,38.0,44.0,39.0,40.0,90.0,74.0,13.0,52.0,12.0,32.0,38.0,41.0,56.0,7.0,20.0,9.0,115.0,7.0,13.0,20.0,21.0,22.0,57.0,37.0,25.0,47.0,55.0,6.0,14.0,13.0,55.0,14.0,32.0,46.0,21.0,22.0,21.0,41.0,10.0,40.0,26.0,9.0,22.0,69.0,156.0,33.0,24.0,15.0,29.0,13.0,27.0,77.0,10.0,8.0,26.0,16.0,17.0,15.0,27.0,12.0,13.0,13.0,7.0,17.0,86.0,14.0,26.0,8.0,81.0,8.0,13.0,83.0,5.0,7.0,10.0,24.0,13.0,18.0,24.0,9.0,102.0,44.0,39.0,25.0,7.0,28.0,18.0,13.0,9.0,14.0,7.0,20.0,19.0,19.0,15.0,39.0,38.0,18.0,38.0,10.0,108.0,38.0,14.0,19.0,45.0,11.0,11.0,123.0,16.0,11.0,91.0,108.0,77.0,31.0,145.0,88.0,14.0,110.0,32.0,11.0,90.0,13.0,34.0,54.0,99.0,32.0,74.0,77.0,52.0,29.0,43.0,43.0,20.0,5.0,90.0,12.0,11.0,27.0,10.0,13.0,49.0,196.0,25.0,17.0,45.0,26.0,31.0,23.0,13.0,22.0,33.0,46.0,35.0,131.0,21.0,38.0,26.0,10.0,16.0,36.0,14.0,23.0,12.0,21.0,52.0,74.0,62.0,8.0,17.0,12.0,20.0,95.0,33.0,20.0,14.0,33.0,21.0,40.0,9.0,27.0,123.0,13.0,30.0,7.0,30.0,22.0,32.0,6.0,51.0,131.0,49.0,28.0,68.0,12.0,16.0,12.0,32.0,44.0,8.0,41.0,32.0,34.0,63.0,29.0,24.0,5.0,15.0,35.0,25.0,23.0,29.0,27.0,6.0,9.0,12.0,15.0,18.0,14.0,11.0,70.0,26.0,22.0,17.0,13.0,57.0,21.0,52.0,16.0,31.0,56.0,29.0,10.0,46.0,14.0,29.0,162.0,17.0,74.0,59.0,25.0,23.0,19.0,38.0,23.0,36.0,89.0,21.0,62.0,55.0,74.0,10.0,58.0,31.0,23.0,362.0,136.0,32.0,310.0,104.0,291.0,34.0,131.0,23.0,124.0,144.0,99.0,35.0,26.0,17.0,47.0,25.0,18.0,33.0,69.0,16.0,24.0,24.0,56.0,26.0,26.0,17.0,65.0,28.0,25.0,29.0,5.0,30.0,115.0,22.0,30.0,62.0,113.0,17.0,161.0,21.0,22.0,41.0,56.0,224.0,42.0,32.0,26.0,36.0,10.0,24.0,10.0,32.0,42.0,16.0,43.0,20.0,75.0,77.0,85.0,240.0,15.0,42.0,17.0,82.0,15.0,88.0,14.0,21.0,21.0,25.0,13.0,64.0,13.0,11.0,38.0,9.0,29.0,89.0,30.0,14.0,25.0,37.0,10.0,68.0,16.0,53.0,78.0,40.0,33.0,80.0,51.0,15.0,35.0,8.0,27.0,61.0,34.0,10.0,11.0,56.0,12.0,11.0,9.0,24.0,26.0,22.0,6.0,34.0,13.0,18.0,14.0,16.0,34.0,13.0,28.0,8.0,57.0,27.0,15.0,26.0,39.0,39.0,136.0,61.0,19.0,37.0,62.0,48.0,12.0,41.0,14.0,10.0,10.0,11.0,10.0,50.0,7.0,24.0,18.0,12.0,59.0,19.0,23.0,30.0,18.0,25.0,39.0,77.0,51.0,31.0,21.0,30.0,10.0,14.0,22.0,37.0,26.0,46.0,23.0,21.0,10.0,71.0,183.0,27.0,9.0,14.0,6.0,25.0,27.0,17.0,13.0,11.0,23.0,27.0,192.0,46.0,56.0,9.0,101.0,64.0,12.0,15.0,9.0,71.0,39.0,9.0,100.0,24.0,33.0,35.0,9.0,309.0,110.0,34.0,17.0,13.0,48.0,34.0,23.0,20.0,25.0,14.0,42.0,27.0,11.0,18.0,59.0,123.0,215.0,19.0,35.0,46.0,22.0,38.0,30.0,107.0,38.0,95.0,83.0,106.0,97.0,77.0,9.0,24.0,41.0,22.0,30.0,22.0,23.0,53.0,17.0,321.0,32.0,17.0,30.0,34.0,45.0,42.0,10.0,28.0,14.0,6.0,11.0,11.0,10.0,18.0,7.0,27.0,15.0,12.0,106.0,47.0,27.0,71.0,9.0,45.0,63.0,8.0,12.0,69.0,13.0,22.0,151.0,102.0,36.0,13.0,53.0,8.0,39.0,36.0,16.0,25.0,16.0,26.0,9.0,47.0,20.0,39.0,19.0,26.0,38.0,10.0,45.0,11.0,72.0,7.0,5.0,11.0,48.0,24.0,42.0,39.0,321.0,18.0,92.0,77.0,11.0,20.0,12.0,16.0,73.0,26.0,15.0,7.0,43.0,63.0,72.0,25.0,40.0,61.0,13.0,19.0,32.0,104.0,11.0,30.0,82.0,9.0,86.0,6.0,16.0,12.0,12.0,14.0,65.0,35.0,130.0,41.0,12.0,59.0,70.0,17.0,15.0,37.0,18.0,34.0,23.0,40.0,24.0,126.0,18.0,112.0,30.0,16.0,38.0,53.0,196.0,24.0,48.0,7.0,52.0,17.0,24.0,13.0,62.0,15.0,11.0,22.0,5.0,62.0,12.0,13.0,30.0,17.0,28.0,13.0,16.0,38.0,8.0,15.0,9.0,80.0,16.0,10.0,10.0,9.0,28.0,6.0,27.0,16.0,17.0,41.0,17.0,11.0,35.0,28.0,11.0,16.0,14.0,5.0,20.0,11.0,82.0,11.0,5.0,34.0,29.0,4.0,13.0,27.0,43.0,24.0,91.0,11.0,30.0,10.0,38.0,14.0,86.0,69.0,6.0,49.0,14.0,10.0,5.0,6.0,11.0,16.0,6.0,6.0,7.0,28.0,6.0,8.0,13.0,5.0,14.0,6.0,47.0,98.0,22.0,11.0,7.0,34.0,49.0,15.0,32.0,9.0,23.0,9.0,12.0,31.0,20.0,38.0,93.0,83.0,53.0,22.0,24.0,49.0,24.0,10.0,35.0,40.0,36.0,23.0,49.0,52.0,9.0,15.0,43.0,23.0,20.0,27.0,11.0,17.0,19.0,31.0,16.0,26.0,15.0,17.0,16.0,27.0,19.0,25.0,8.0,14.0,11.0,106.0,12.0,91.0,33.0,21.0,64.0,18.0,12.0,23.0,33.0,17.0,31.0,37.0,30.0,7.0,17.0,36.0,23.0,23.0,24.0,125.0,64.0,75.0,58.0,37.0,72.0,65.0,348.0,39.0,67.0,63.0,19.0,82.0,32.0,46.0,55.0,14.0,29.0,53.0,49.0,49.0,402.0,17.0,135.0,120.0,126.0,65.0,77.0,171.0,61.0,89.0,50.0,74.0,26.0,212.0,36.0,52.0,34.0,74.0,27.0,19.0,16.0,27.0,15.0,10.0,43.0,8.0,48.0,28.0,23.0,16.0,77.0,16.0,28.0,16.0,60.0,20.0,95.0,18.0,64.0,31.0,48.0,70.0,25.0,11.0,20.0,59.0,107.0,32.0,20.0,15.0,73.0,75.0,160.0,66.0,65.0,69.0,89.0,93.0,83.0,22.0,53.0,32.0,133.0,110.0,138.0,80.0,66.0,43.0,80.0,251.0,63.0,207.0,90.0,25.0,23.0,16.0,17.0,97.0,19.0,43.0,48.0,48.0,29.0,34.0,82.0,20.0,8.0,11.0,20.0,83.0,12.0,17.0,28.0,19.0,38.0,126.0,31.0,18.0,29.0,24.0,18.0,32.0,32.0,36.0,31.0,20.0,42.0,10.0,8.0,24.0,125.0,99.0,454.0,115.0,40.0,54.0,43.0,123.0,10.0,22.0,281.0,112.0,18.0,73.0,30.0,77.0,30.0,20.0,12.0,12.0,21.0,31.0,14.0,64.0,88.0,221.0,60.0,159.0,89.0,45.0,50.0,77.0,178.0,53.0,68.0,59.0,7.0,75.0,87.0,21.0,32.0,43.0,91.0,8.0,40.0,19.0,11.0,22.0,43.0,15.0,47.0,84.0,17.0,68.0,26.0,20.0,26.0,20.0,50.0,23.0,18.0,24.0,47.0,57.0,26.0,38.0,19.0,38.0,86.0,17.0,84.0,12.0,13.0,40.0,30.0,13.0,36.0,68.0,19.0,29.0,28.0,38.0,12.0,308.0,32.0,197.0,162.0,129.0,41.0,185.0,197.0,80.0,82.0,58.0,174.0,145.0,779.0,66.0,117.0,133.0,43.0,188.0,87.0,136.0,62.0,29.0,132.0,22.0,26.0,109.0,49.0,12.0,39.0,15.0,13.0,25.0,13.0,24.0,71.0,20.0,74.0,12.0,120.0,16.0,33.0,195.0,87.0,118.0,24.0,39.0,54.0,15.0,70.0,19.0,23.0,20.0,17.0,536.0,17.0,143.0,37.0,54.0,24.0,19.0,35.0,37.0,27.0,94.0,59.0,83.0,33.0,12.0,7.0,60.0,25.0,14.0,15.0,13.0,20.0,44.0,39.0,57.0,36.0,37.0,54.0,60.0,126.0,16.0,12.0,60.0,15.0,21.0,30.0,30.0,26.0,40.0,34.0,49.0,17.0,7.0,84.0,65.0,171.0,131.0,30.0,97.0,39.0,28.0,31.0,22.0,32.0,49.0,138.0,48.0,47.0,316.0,25.0,330.0,90.0,93.0,93.0,21.0,110.0,46.0,20.0,23.0,30.0,195.0,21.0,74.0,38.0,33.0,44.0,29.0,10.0,20.0,45.0,21.0,37.0,24.0,31.0,48.0,19.0,17.0,140.0,38.0,126.0,56.0,59.0,24.0,16.0,27.0,78.0,31.0,11.0,15.0,14.0,47.0,38.0,91.0,9.0,35.0,16.0,21.0,7.0,21.0,24.0,60.0,97.0,11.0,12.0,20.0,41.0,7.0,35.0,18.0,24.0,78.0,26.0,36.0,41.0,22.0,24.0,12.0,16.0,16.0,30.0,20.0,14.0,94.0,20.0,11.0,34.0,56.0,135.0,13.0,25.0,29.0,12.0,30.0,123.0,83.0,28.0,22.0,31.0,34.0,32.0,24.0,11.0,157.0,15.0,18.0,12.0,26.0,31.0,26.0,13.0,22.0,92.0,28.0,29.0,13.0,8.0,12.0,44.0,33.0,54.0,58.0,66.0,90.0,24.0,8.0,66.0,32.0,21.0,32.0,57.0,11.0,122.0,9.0,30.0,57.0,64.0,23.0,35.0,22.0,32.0,17.0,28.0,23.0,22.0,25.0,15.0,62.0,39.0,83.0,74.0,62.0,82.0,97.0,7.0,59.0,76.0,25.0,14.0,179.0,28.0,25.0,13.0,28.0,49.0,19.0,44.0,14.0,25.0,12.0,7.0,17.0,13.0,12.0,25.0,55.0,56.0,34.0,13.0,23.0,22.0,34.0,7.0,12.0,8.0,224.0,204.0,44.0,48.0,8.0,36.0,31.0,39.0,9.0,38.0,29.0,7.0,42.0,19.0,36.0,13.0,38.0,21.0,104.0,46.0,52.0,30.0,491.0,74.0,24.0,67.0,19.0,17.0,18.0,49.0,16.0,32.0,94.0,133.0,80.0,65.0,16.0,52.0,125.0,31.0,23.0,21.0,19.0,27.0,66.0,21.0,28.0,35.0,27.0,18.0,27.0,76.0,61.0,77.0,45.0,29.0,10.0,35.0,101.0,10.0,23.0,39.0,7.0,6.0,20.0,72.0,37.0,73.0,64.0,116.0,7.0,33.0,7.0,28.0,16.0,18.0,29.0,84.0,47.0,35.0,12.0,17.0,70.0,38.0,21.0,69.0,43.0,17.0,71.0,38.0,20.0,26.0,73.0,15.0,47.0,28.0,14.0,25.0,25.0,34.0,62.0,33.0,29.0,214.0,49.0,35.0,16.0,13.0,113.0,110.0,69.0,44.0,174.0,41.0,41.0,9.0,36.0,17.0,27.0,14.0,25.0,37.0,13.0,55.0,29.0,18.0,7.0,52.0,22.0,20.0,8.0,25.0,52.0,168.0,19.0,18.0,61.0,108.0,125.0,49.0,36.0,18.0,36.0,79.0,58.0,12.0,19.0,24.0,31.0,29.0,7.0,46.0,45.0,43.0,84.0,43.0,173.0,58.0,38.0,384.0,60.0,77.0,13.0,53.0,98.0,50.0,80.0,62.0,14.0,32.0,12.0,8.0,19.0,25.0,172.0,13.0,103.0,78.0,102.0,24.0,39.0,52.0,46.0,7.0,32.0,14.0,9.0,28.0,53.0,37.0,33.0,15.0,74.0,144.0,91.0,61.0,42.0,32.0,74.0,60.0,61.0,66.0,67.0,41.0,45.0,56.0,102.0,58.0,14.0,70.0,36.0,45.0,18.0,27.0,7.0,147.0,114.0,136.0,191.0,123.0,160.0,115.0,329.0,77.0,286.0,96.0,283.0,44.0,74.0,37.0,19.0,45.0,40.0,29.0,48.0,46.0,72.0,24.0,17.0,16.0,129.0,77.0,329.0,142.0,113.0,111.0,194.0,111.0,342.0,113.0,304.0,246.0,9.0,5.0,38.0,31.0,32.0,26.0,48.0,129.0,26.0,22.0,10.0,353.0,55.0,85.0,56.0,77.0,68.0,98.0,137.0,119.0,150.0,107.0,138.0,114.0,9.0,15.0,12.0,62.0,24.0,12.0,47.0,69.0,16.0,51.0,45.0,9.0,100.0,21.0,9.0,13.0,10.0,34.0,8.0,53.0,98.0,6.0,33.0,48.0,48.0,72.0,71.0,7.0,28.0,64.0,21.0,45.0,21.0,9.0,10.0,30.0,58.0,13.0,22.0,19.0,39.0,16.0,20.0,14.0,8.0,24.0,36.0,26.0,60.0,20.0,26.0,9.0,11.0,78.0,123.0,28.0,60.0,30.0,21.0,8.0,28.0,13.0,9.0,16.0,24.0,81.0,14.0,50.0,154.0,41.0,13.0,48.0,10.0,11.0,51.0,28.0,23.0,20.0,122.0,35.0,47.0,7.0,14.0,13.0,29.0,60.0,106.0,21.0,26.0,30.0,59.0,21.0,90.0,118.0,81.0,16.0,25.0,22.0,18.0,85.0,36.0,12.0,27.0,12.0,53.0,20.0,49.0,53.0,55.0,31.0,37.0,15.0,13.0,124.0,23.0,62.0,16.0,20.0,9.0,103.0,19.0,87.0,22.0,22.0,33.0,47.0,35.0,41.0,18.0,44.0,28.0,84.0,13.0,53.0,161.0,19.0,64.0,19.0,18.0,36.0,19.0,56.0,24.0,67.0,70.0,59.0,10.0,60.0,23.0,34.0,37.0,28.0,96.0,27.0,57.0,26.0,28.0,18.0,21.0,13.0,31.0,119.0,5.0,28.0,7.0,13.0,41.0,25.0,9.0,39.0,19.0,88.0,14.0,12.0,51.0,43.0,113.0,39.0,44.0,24.0,30.0,78.0,8.0,25.0,22.0,15.0,35.0,14.0,18.0,16.0,15.0,18.0,87.0,28.0,20.0,64.0,22.0,48.0,353.0,27.0,27.0,18.0,29.0,16.0,29.0,30.0,9.0,6.0,42.0,14.0,20.0,21.0,101.0,301.0,7.0,15.0,54.0,77.0,49.0,40.0,9.0,23.0,22.0,7.0,17.0,11.0,8.0,30.0,37.0,37.0,23.0,36.0,12.0,18.0,79.0,18.0,85.0,59.0,16.0,36.0,38.0,8.0,20.0,458.0,21.0,11.0,8.0,69.0,12.0,25.0,88.0,7.0,54.0,83.0,8.0,129.0,30.0,57.0,10.0,28.0,32.0,44.0,36.0,116.0,15.0,40.0,20.0,36.0,24.0,31.0,17.0,34.0,10.0,65.0,28.0,215.0,6.0,39.0,79.0,22.0,68.0,65.0,28.0,17.0,46.0,271.0,8.0,13.0,23.0,23.0,27.0,239.0,40.0,45.0,6.0,50.0,20.0,18.0,23.0,7.0,25.0,47.0,17.0,32.0,80.0,39.0,22.0,15.0,23.0,29.0,15.0,177.0,26.0,27.0,37.0,15.0,24.0,16.0,66.0,10.0,84.0,60.0,7.0,46.0,11.0,21.0,21.0,35.0,24.0,29.0,73.0,35.0,34.0,56.0,320.0,72.0,18.0,17.0,29.0,24.0,25.0,36.0,48.0,73.0,23.0,24.0,36.0,9.0,30.0,29.0,32.0,115.0,52.0,358.0,32.0,9.0,12.0,16.0,54.0,60.0,69.0,20.0,60.0,87.0,40.0,44.0,49.0,17.0,8.0,30.0,23.0,16.0,10.0,18.0,45.0,13.0,13.0,131.0,18.0,86.0,12.0,12.0,11.0,29.0,80.0,16.0,27.0,28.0,15.0,106.0,23.0,7.0,74.0,48.0,119.0,21.0,152.0,7.0,8.0,65.0,304.0,18.0,27.0,49.0,48.0,63.0,10.0,22.0,8.0,12.0,8.0,16.0,17.0,22.0,140.0,21.0,42.0,48.0,38.0,20.0],\"y0\":\" \",\"yaxis\":\"y4\",\"type\":\"box\"},{\"alignmentgroup\":\"True\",\"hovertemplate\":\"variable=content_duration\\u003cbr\\u003evalue=%{y}\\u003cextra\\u003e\\u003c\\u002fextra\\u003e\",\"legendgroup\":\"content_duration\",\"marker\":{\"color\":\"#FFA15A\"},\"name\":\"content_duration\",\"notched\":false,\"offsetgroup\":\"content_duration\",\"orientation\":\"v\",\"showlegend\":true,\"x0\":\" \",\"xaxis\":\"x5\",\"y\":[1.5,39.0,2.5,3.0,2.0,3.0,1.0,2.5,2.5,1.0,5.0,1.0,1.5,2.0,7.0,1.5,1.5,4.0,1.5,0.5833333333333334,2.0,4.0,2.0,1.0,2.0,5.0,4.5,2.0,4.5,3.0,2.5,1.5,6.5,2.0,1.5,10.0,5.5,4.5,7.5,5.5,10.0,6.5,11.5,1.0,16.0,3.0,5.0,5.5,5.0,2.0,2.0,3.0,2.0,1.0,1.5,4.0,5.5,1.0,1.5,1.0,3.5,9.0,4.5,8.5,6.5,5.5,11.0,1.5,3.5,3.0,5.0,2.5,1.0,1.0,3.0,2.0,4.0,1.0,5.0,4.0,1.5,2.0,11.5,1.5,1.0,1.5,1.0,4.5,1.0,1.5,2.5,0.7,9.5,5.0,1.0,0.55,3.0,1.5,5.5,2.0,1.5,1.5,1.5,1.5,1.5,1.0,1.0,1.0,2.0,4.5,5.0,1.5,2.0,1.0,62.0,1.5,0.1333333333333333,0.6833333333333333,2.5,1.5,3.0,4.5,31.5,3.5,2.5,3.0,0.55,1.0,1.5,2.0,1.0,2.5,1.0,1.0,1.5,9.5,1.0,20.0,2.5,1.0,6.0,1.5,4.0,1.5,5.0,2.5,2.5,3.0,1.5,1.0,1.5,1.5,1.0,3.0,3.0,3.5,1.0,2.0,4.5,1.0,46.5,5.0,4.0,2.5,3.0,1.0,1.5,2.0,1.5,4.5,2.0,1.5,2.0,3.0,1.5,5.5,1.5,5.5,10.0,2.0,3.0,0.7,1.0,6.0,1.0,1.5,1.5,2.0,5.0,1.5,4.5,4.5,3.5,1.5,1.0,1.5,0.55,9.0,2.0,1.0,1.0,1.5,1.5,5.5,6.0,2.0,2.0,7.0,1.0,2.0,0.7166666666666667,1.5,10.0,1.5,1.0,2.0,1.5,17.5,1.0,1.0,4.5,1.0,2.0,2.0,1.5,12.0,2.0,3.5,1.0,1.5,1.5,1.5,2.0,2.0,0.6833333333333333,3.0,1.5,4.0,2.5,2.0,4.0,2.0,2.5,2.0,2.5,5.0,3.5,1.0,1.0,0.5333333333333333,4.0,1.0,1.0,4.5,2.5,1.0,2.5,4.5,3.0,2.0,24.0,19.5,3.0,1.5,1.5,2.0,3.5,2.5,4.0,20.5,3.0,1.0,4.0,3.0,3.0,2.0,2.5,3.0,0.5,0.7166666666666667,2.0,10.0,20.5,2.0,1.5,10.5,1.0,1.5,3.0,5.5,0.5166666666666666,1.5,2.0,5.0,4.5,1.0,6.5,1.5,2.5,2.0,6.0,0.6,1.5,2.0,1.5,1.0,1.0,0.7,1.5,4.0,3.0,5.5,7.0,1.0,2.0,5.5,1.5,2.5,0.6833333333333333,2.0,0.5,2.0,2.0,0.6833333333333333,3.5,5.5,8.0,2.5,2.0,2.0,29.0,4.0,1.5,3.0,8.0,3.0,2.5,1.0,26.0,1.5,1.5,2.5,1.5,3.0,0.7,6.0,1.0,2.5,1.0,1.0,10.0,1.0,1.0,11.0,3.5,0.5333333333333333,24.5,3.0,1.5,2.0,1.0,2.5,2.0,2.5,6.0,0.7166666666666667,6.0,1.0,2.0,2.5,2.5,1.5,8.0,1.0,1.0,1.5,1.0,1.5,10.0,1.0,3.0,4.0,1.0,5.5,3.5,5.0,1.5,0.5833333333333334,1.0,13.0,1.0,1.0,2.5,1.5,0.7333333333333333,1.0,3.5,1.0,2.5,1.5,1.5,7.5,6.0,2.0,1.5,2.0,0.6,7.5,1.5,4.0,1.0,1.0,3.5,1.0,0.7166666666666667,0.5666666666666667,2.0,3.5,1.5,1.0,1.5,1.0,1.5,1.5,1.5,1.0,2.5,2.0,1.5,3.0,2.0,1.0,2.0,4.5,1.0,1.5,5.5,12.5,1.0,2.0,1.0,3.5,1.0,12.5,2.0,6.5,1.0,5.5,0.3166666666666666,5.5,11.5,8.0,1.0,0.6166666666666667,1.5,2.5,2.0,2.0,2.0,3.5,2.0,1.0,1.0,5.5,2.0,4.0,1.0,0.6666666666666666,2.5,4.5,3.0,4.5,2.0,1.5,1.5,0.6666666666666666,2.0,2.0,6.5,3.5,1.0,2.0,6.0,1.5,4.0,1.5,8.0,4.5,0.6,2.0,2.0,1.5,8.0,3.5,3.5,1.5,2.5,18.0,3.5,1.5,19.5,0.5666666666666667,0.6166666666666667,1.0,1.0,1.0,24.5,1.5,1.5,1.0,6.5,5.5,7.5,1.5,1.5,1.0,0.5666666666666667,2.0,2.5,2.5,1.0,1.0,1.5,0.5666666666666667,0.7166666666666667,1.0,2.0,0.5333333333333333,33.0,3.0,24.5,7.5,3.0,1.0,3.5,1.5,5.0,1.0,0.5333333333333333,1.0,5.0,10.5,2.0,7.0,1.0,3.5,9.0,2.5,3.0,1.5,2.0,1.0,4.5,1.5,1.0,2.5,2.5,1.5,2.5,1.5,2.5,71.5,7.0,3.5,1.0,6.5,1.0,3.0,2.0,0.5833333333333334,1.0,7.0,1.5,3.5,1.5,1.0,2.0,1.0,2.0,3.0,0.6166666666666667,1.5,2.5,1.0,3.0,1.5,1.0,0.5166666666666666,1.5,20.5,47.0,3.0,2.0,1.0,1.0,4.0,14.5,1.5,1.5,3.5,1.5,2.5,2.0,1.5,5.0,1.5,2.0,0.6166666666666667,3.5,3.0,1.0,1.5,2.0,3.0,3.5,0.5666666666666667,0.6833333333333333,1.0,1.0,0.65,1.0,2.5,4.0,2.0,4.0,1.0,5.5,6.0,6.0,1.5,5.5,1.0,14.5,2.0,1.5,2.0,3.0,1.5,2.5,1.0,0.55,1.5,2.0,1.0,2.0,1.5,2.0,2.5,1.0,1.0,3.5,7.0,18.5,2.0,2.5,43.5,0.6,10.0,2.5,5.5,1.5,0.6333333333333333,1.5,2.0,1.0,2.0,4.5,3.5,0.6666666666666666,5.5,1.0,5.0,4.0,1.5,1.5,2.0,5.0,1.0,4.0,14.0,5.0,6.5,1.0,1.5,1.0,1.0,1.5,3.5,14.5,1.0,1.5,1.0,1.0,7.0,5.0,1.0,2.0,3.0,3.0,4.0,2.0,3.0,1.0,0.6333333333333333,3.5,6.0,2.0,1.5,2.5,4.5,5.5,1.0,2.5,2.5,4.0,2.0,4.0,7.5,0.4666666666666667,1.5,2.5,10.0,2.0,5.0,24.0,1.0,9.0,1.0,14.5,1.0,0.6166666666666667,1.5,1.0,1.0,1.0,2.5,0.5333333333333333,1.0,1.0,1.0,1.5,3.5,0.7333333333333333,1.5,0.5166666666666666,1.0,12.5,1.0,1.5,0.5833333333333334,4.5,2.0,1.5,3.5,2.0,1.5,9.0,1.5,0.6833333333333333,2.0,2.0,6.0,5.5,2.5,4.0,3.5,2.0,1.0,3.5,2.0,1.0,1.5,5.0,1.0,2.5,6.0,8.5,0.5166666666666666,1.0,2.0,2.0,0.5333333333333333,0.7333333333333333,2.5,1.0,2.0,2.5,2.0,4.0,6.0,1.0,1.0,0.6166666666666667,2.5,2.0,1.5,3.0,1.5,1.5,2.5,0.5666666666666667,6.5,1.5,0.7166666666666667,4.5,5.0,3.0,3.0,1.0,1.0,0.5333333333333333,1.5,1.0,1.5,1.0,3.0,4.0,3.0,3.5,0.7,0.6166666666666667,3.5,3.5,1.5,1.0,3.0,4.0,6.0,1.0,2.0,7.0,5.0,2.5,2.5,1.0,7.5,7.5,5.5,1.0,2.0,2.0,2.0,5.0,3.0,3.0,7.0,1.0,1.0,1.0,4.5,2.5,1.0,3.0,1.0,2.5,5.5,3.0,2.0,3.0,1.0,12.0,7.0,2.0,1.0,1.0,1.0,0.5333333333333333,1.0,45.0,1.5,1.5,2.5,70.0,1.5,4.0,6.0,2.0,4.5,0.6,1.0,6.0,8.0,1.0,0.6333333333333333,0.6166666666666667,0.5333333333333333,2.0,1.5,1.0,1.0,0.0,1.0,1.5,3.0,3.0,2.0,0.7166666666666667,1.5,1.0,2.5,2.0,3.5,2.5,2.5,2.0,1.5,4.5,1.0,1.0,6.0,2.0,2.5,2.0,1.5,1.5,3.5,3.0,7.5,3.0,1.0,1.0,31.5,0.5333333333333333,1.5,1.5,2.0,3.0,4.5,1.5,1.5,4.0,1.0,10.0,1.5,1.0,2.5,0.6333333333333333,1.5,1.0,0.5166666666666666,2.0,3.0,3.0,29.5,2.5,2.0,6.5,1.0,2.0,1.0,2.0,2.5,2.0,1.0,3.0,1.0,1.0,1.0,1.0,1.0,6.0,5.0,3.0,2.0,13.0,1.5,3.0,2.0,3.5,1.0,4.0,2.5,5.0,13.5,2.5,1.0,2.5,0.6833333333333333,3.5,2.5,0.6666666666666666,0.45,3.0,4.5,1.5,1.5,4.0,6.5,5.5,0.5166666666666666,2.5,0.6833333333333333,1.5,1.0,3.0,1.0,0.5666666666666667,1.0,4.5,3.0,2.5,1.5,1.5,5.0,0.6,4.0,2.5,2.0,7.0,1.0,1.0,2.5,31.5,5.5,0.5333333333333333,1.0,5.5,2.0,2.5,2.0,3.5,2.0,1.0,1.5,6.5,1.0,1.0,1.0,3.5,2.0,2.0,5.0,1.5,4.5,2.5,1.5,10.5,6.0,1.0,2.0,8.5,0.7333333333333333,8.5,2.0,3.0,0.65,1.5,3.5,2.0,0.6166666666666667,5.5,4.5,5.5,2.0,1.5,3.0,1.5,1.0,5.0,1.0,2.0,1.0,1.0,7.5,4.5,1.0,11.0,1.0,3.5,1.0,1.5,2.0,4.5,2.0,4.0,1.5,0.6666666666666666,1.0,1.0,1.0,5.0,8.5,1.0,2.0,1.0,4.0,1.5,8.5,3.0,2.0,1.5,4.5,5.0,2.0,1.5,7.0,3.5,1.5,2.5,3.0,1.0,3.0,1.0,0.6666666666666666,1.5,1.5,1.0,3.5,1.0,3.5,2.0,8.5,10.5,1.0,2.0,5.5,2.0,2.5,1.5,1.0,12.5,0.6,7.0,14.0,1.0,1.5,1.5,1.5,2.0,2.5,1.5,3.0,2.5,5.5,17.5,3.5,2.5,4.5,8.5,1.0,6.5,2.0,8.0,5.0,17.5,1.5,8.5,2.0,1.5,4.0,1.0,4.5,4.0,2.5,2.0,1.0,3.0,3.0,1.5,0.5666666666666667,8.0,4.0,3.0,1.0,3.5,1.5,0.6333333333333333,2.5,2.5,1.5,0.7166666666666667,1.0,2.0,5.5,2.5,2.5,0.65,3.0,3.0,1.5,1.5,0.6333333333333333,1.5,13.0,0.6166666666666667,6.0,4.0,1.0,0.5666666666666667,5.0,2.0,21.0,12.0,1.5,1.0,7.5,1.0,2.0,62.0,1.5,3.0,2.5,0.5,0.6,3.5,1.0,8.0,11.0,11.5,5.0,68.5,3.5,2.5,6.5,9.0,3.5,3.5,3.0,1.0,1.0,1.5,3.0,3.5,1.0,1.0,0.6,5.0,7.5,3.5,1.0,0.6166666666666667,1.0,6.0,2.0,1.0,1.0,0.5666666666666667,1.0,3.0,1.0,5.0,2.5,1.0,6.5,2.0,2.0,1.0,2.5,2.0,1.5,2.0,1.0,1.0,2.5,1.0,11.0,12.0,17.5,11.0,7.5,3.0,13.0,3.5,12.5,2.5,0.65,2.5,2.5,1.5,5.5,1.5,2.5,1.0,0.6833333333333333,6.0,3.0,2.5,1.5,0.7,1.0,1.0,0.55,2.5,2.0,1.5,4.0,0.5666666666666667,5.0,1.5,0.7,10.0,1.0,11.5,2.5,1.0,1.0,1.0,1.5,2.0,3.5,0.5666666666666667,0.6333333333333333,0.5166666666666666,0.5333333333333333,0.5666666666666667,1.0,1.5,0.6833333333333333,0.6666666666666666,4.5,1.0,0.6666666666666666,0.6833333333333333,2.0,12.0,3.5,0.6833333333333333,3.0,13.5,5.5,1.0,2.5,1.5,0.6,1.5,1.5,10.5,3.5,1.5,14.0,1.0,3.5,2.5,1.5,2.5,6.5,1.0,1.5,4.5,6.5,1.5,9.5,2.0,1.5,12.5,12.5,2.0,9.0,3.0,1.0,0.5166666666666666,2.5,6.5,2.5,3.0,0.65,2.0,4.5,0.6666666666666666,7.0,3.0,0.7,2.5,0.7333333333333333,1.0,0.5,1.5,2.0,8.5,5.5,4.0,1.0,3.0,6.5,4.0,12.0,1.5,2.5,2.5,3.5,7.5,1.0,5.5,2.0,5.0,13.0,7.5,3.0,12.5,1.5,6.5,1.0,1.0,1.0,0.5833333333333334,1.0,3.0,3.5,4.5,10.0,1.0,1.5,1.0,0.7333333333333333,0.5666666666666667,1.0,6.5,1.5,1.0,3.5,0.5666666666666667,1.5,2.5,2.0,8.0,0.6666666666666666,4.0,1.0,0.6333333333333333,1.0,4.5,1.5,2.0,1.0,1.5,1.0,2.0,2.0,8.0,1.5,3.5,1.5,8.0,0.6166666666666667,2.0,10.5,3.0,1.5,1.5,2.0,0.6833333333333333,5.5,3.0,1.0,2.0,2.0,1.0,5.0,1.0,3.5,2.5,1.5,12.5,0.6333333333333333,1.0,1.5,4.5,4.5,0.6666666666666666,1.5,1.0,1.0,1.5,3.5,3.5,0.5666666666666667,1.0,2.5,1.0,2.5,9.5,0.6166666666666667,5.5,2.0,7.0,4.0,8.5,4.5,6.5,1.0,8.5,0.7333333333333333,2.0,2.5,2.5,0.6333333333333333,6.0,2.0,2.5,1.0,7.5,5.0,1.0,1.5,1.5,12.0,7.5,2.5,1.0,1.5,4.5,14.5,1.5,1.0,30.0,2.0,1.0,0.6166666666666667,1.0,0.6166666666666667,1.5,1.0,2.0,2.5,1.0,6.5,2.0,5.0,17.0,1.5,3.0,1.5,0.5333333333333333,4.0,0.6,2.0,0.7,1.0,1.0,0.5833333333333334,1.5,4.0,1.0,4.0,0.7333333333333333,5.5,1.5,1.5,1.5,2.5,3.5,1.5,4.0,1.0,4.0,0.5833333333333334,1.0,2.5,1.5,5.0,2.5,1.0,1.0,0.55,2.5,1.0,1.0,1.0,0.6833333333333333,2.0,4.5,0.6333333333333333,3.5,1.0,0.6166666666666667,2.5,2.5,1.0,20.0,1.5,5.0,16.5,2.0,1.0,4.0,3.5,2.5,1.0,2.5,5.5,2.5,0.7,1.0,3.5,2.5,1.5,1.5,1.0,2.0,7.0,4.5,0.5666666666666667,2.0,0.6,0.6833333333333333,2.5,1.5,1.0,0.65,5.0,4.0,2.0,5.0,3.0,7.5,5.0,2.0,0.6333333333333333,10.5,6.0,3.0,5.5,0.7166666666666667,0.5833333333333334,3.5,0.6,0.6166666666666667,1.5,3.5,2.0,1.0,0.7166666666666667,0.6666666666666666,10.0,3.5,2.5,4.0,1.0,1.0,3.0,15.0,0.5,1.0,20.5,1.5,2.0,1.0,4.5,3.0,2.5,2.0,2.0,1.0,4.5,1.5,1.5,3.0,1.0,2.0,6.5,5.0,2.0,2.0,78.5,7.5,1.0,1.0,1.0,8.0,3.5,1.5,6.0,3.0,4.5,12.0,1.0,1.5,16.0,1.0,3.0,1.0,2.5,2.0,1.0,2.0,2.0,1.0,2.0,4.0,2.0,4.5,1.0,0.5333333333333333,0.7166666666666667,1.0,1.5,1.0,2.0,0.6166666666666667,1.5,1.5,2.0,3.0,9.0,2.0,2.5,2.5,3.0,1.0,1.0,3.0,1.0,11.0,5.5,2.5,1.0,4.5,4.5,1.5,2.0,4.0,1.0,5.0,0.5,2.5,1.5,6.5,3.0,1.5,1.0,2.0,7.0,4.5,4.0,5.0,8.0,1.0,5.5,1.0,2.0,4.0,4.0,8.5,1.0,2.0,1.0,9.5,0.5166666666666666,0.5166666666666666,1.5,5.0,1.0,2.0,1.0,1.0,8.0,6.0,1.0,1.0,1.5,6.0,0.5333333333333333,6.0,9.5,2.5,2.5,2.5,2.0,0.6166666666666667,8.0,1.0,1.5,2.0,3.0,24.0,2.0,2.0,2.5,2.0,1.5,2.5,7.5,2.0,1.0,1.0,1.0,1.0,1.0,1.5,0.65,1.0,0.6333333333333333,1.0,3.0,8.0,1.5,2.0,0.5333333333333333,4.5,1.5,2.0,7.5,0.7,0.6,0.7,1.5,1.5,1.0,1.0,1.5,2.0,3.0,2.0,1.5,0.6333333333333333,1.0,1.5,2.0,2.5,1.0,1.0,3.0,0.5166666666666666,1.0,2.5,3.0,2.5,2.0,2.0,1.0,7.0,3.5,1.0,1.5,3.0,2.0,0.6333333333333333,7.5,1.5,0.7,4.0,7.0,1.5,2.0,7.5,6.0,0.6833333333333333,2.5,3.0,0.5,10.5,0.5166666666666666,2.0,3.0,2.0,3.5,1.5,5.0,2.0,2.5,3.0,0.5,2.0,1.0,2.5,1.0,2.5,2.5,0.6833333333333333,1.0,6.0,5.5,1.5,3.0,1.0,2.0,2.5,2.0,1.0,2.0,2.0,3.5,2.0,8.0,4.5,3.0,2.5,0.7333333333333333,1.5,2.0,1.0,1.5,1.0,3.0,4.5,2.0,3.5,1.0,1.5,1.0,1.0,4.5,2.5,2.0,1.0,4.0,2.0,5.5,1.0,2.5,11.5,2.0,4.0,1.5,3.0,5.0,5.0,1.5,5.5,7.5,4.0,1.5,1.5,0.5,1.0,0.6666666666666666,1.5,4.5,0.6666666666666666,1.5,6.0,1.5,1.5,2.0,1.5,1.0,2.5,1.0,2.5,4.5,4.0,2.5,0.4833333333333333,1.0,1.5,1.5,2.5,0.65,1.0,1.5,1.0,2.0,2.0,0.5666666666666667,1.5,2.0,3.5,1.5,1.0,10.0,1.5,1.0,11.5,1.5,1.0,18.5,1.5,5.0,4.5,1.0,1.5,1.5,1.0,0.6166666666666667,2.0,4.0,1.0,1.5,6.5,8.5,1.0,3.0,1.0,3.5,30.0,9.5,3.0,34.0,5.0,31.0,1.5,15.5,1.5,11.5,8.5,9.0,1.5,1.5,1.0,1.5,3.5,1.0,6.0,1.5,1.0,1.5,2.0,1.5,0.6333333333333333,4.0,1.5,5.0,1.5,1.0,2.5,1.5,1.0,2.5,2.0,1.0,2.5,2.0,1.0,14.0,1.0,1.5,1.0,4.0,28.5,1.0,2.0,1.5,2.5,0.6,1.0,1.0,0.6166666666666667,2.5,3.0,1.0,1.5,5.0,5.5,10.5,23.0,1.5,3.0,1.5,2.5,1.0,7.0,1.5,1.5,0.7333333333333333,1.0,1.0,8.0,4.0,1.0,4.5,0.6666666666666666,1.5,6.0,2.0,2.0,6.0,3.5,1.0,6.5,0.6666666666666666,5.0,5.0,12.5,1.0,4.0,3.0,3.0,3.0,1.0,1.0,4.0,5.0,2.5,0.5833333333333334,3.0,0.5,1.0,0.5833333333333334,3.5,1.0,1.5,0.7333333333333333,1.5,2.0,1.5,1.0,3.0,3.0,1.5,6.5,1.0,7.0,3.5,2.0,3.0,3.0,2.5,8.0,2.5,2.0,4.0,5.5,3.0,2.0,3.0,1.0,1.0,2.0,1.5,1.0,4.0,1.5,1.5,0.7333333333333333,1.0,3.5,2.0,0.6,2.0,1.5,1.5,3.0,2.5,4.5,1.5,3.5,1.5,2.5,1.0,2.5,2.5,3.5,2.0,3.0,1.0,1.5,3.5,2.0,3.0,0.55,1.5,1.5,2.0,4.0,1.5,1.0,1.0,3.0,2.0,6.0,5.0,4.0,0.5333333333333333,4.5,9.5,0.5333333333333333,1.0,1.0,3.5,3.0,1.5,6.0,1.5,2.0,4.0,1.0,38.0,9.0,2.0,1.5,1.5,1.5,0.6166666666666667,3.0,2.0,2.0,1.0,2.0,6.0,0.55,1.5,2.5,7.0,10.5,1.5,1.5,3.5,1.5,2.5,4.0,8.5,3.5,5.0,3.5,8.0,7.0,4.5,0.7166666666666667,1.5,3.0,2.5,2.5,1.0,3.5,3.0,3.0,3.5,6.0,4.0,3.0,2.0,7.0,3.0,0.7333333333333333,2.0,2.0,0.6166666666666667,1.0,1.5,1.0,1.5,1.0,1.0,2.0,1.5,6.5,2.5,2.0,1.5,0.6666666666666666,4.5,5.0,2.0,1.5,3.0,1.0,1.0,2.5,7.5,7.0,1.0,2.5,0.6166666666666667,1.0,3.0,2.0,1.5,4.0,3.0,1.5,3.5,3.0,5.5,3.0,1.5,2.5,1.0,4.5,1.5,2.0,2.0,1.0,2.0,1.0,1.5,6.5,3.0,3.5,1.5,4.0,5.0,2.5,1.5,1.0,1.0,5.5,3.5,1.5,2.5,4.5,5.5,4.0,1.5,3.0,8.0,1.0,1.5,5.5,5.5,1.5,6.0,4.0,1.0,5.5,1.5,2.0,0.7166666666666667,0.6666666666666666,2.0,3.0,2.5,7.0,1.5,0.6333333333333333,2.0,7.5,1.5,2.0,1.5,1.0,1.5,3.5,7.5,4.5,7.5,2.5,3.0,1.5,4.0,1.0,1.5,5.5,1.5,2.0,0.5833333333333334,3.5,0.7166666666666667,2.0,1.0,3.5,1.5,1.0,1.5,1.0,3.0,1.0,1.5,3.5,2.5,4.0,3.0,2.0,2.5,1.0,1.0,1.0,4.0,2.0,1.0,0.6333333333333333,2.0,1.0,2.0,1.0,1.0,1.5,2.5,0.5333333333333333,1.5,2.5,1.0,1.0,1.5,1.0,0.5333333333333333,2.0,1.5,4.0,1.0,0.55,2.5,3.0,0.55,1.5,1.0,2.0,2.0,7.0,1.0,3.5,0.6,3.0,1.0,5.5,1.5,0.5666666666666667,2.5,1.5,1.0,0.5,0.5,0.65,2.0,0.5333333333333333,0.5333333333333333,0.6333333333333333,2.5,0.55,0.5833333333333334,0.5166666666666666,0.5166666666666666,1.0,1.5,0.7333333333333333,10.5,1.0,1.0,1.5,4.0,1.0,1.5,4.5,0.6166666666666667,1.5,1.0,1.0,1.5,1.5,2.0,4.5,5.0,4.0,1.0,1.5,2.5,1.5,0.65,2.5,1.5,2.5,4.0,4.5,3.5,0.5333333333333333,0.6166666666666667,3.0,2.5,1.5,0.7333333333333333,1.5,1.5,2.0,0.7,2.0,2.0,1.0,1.5,4.5,3.0,1.0,2.5,1.0,2.0,1.0,6.0,0.5666666666666667,4.5,6.0,2.0,3.0,2.0,1.0,4.0,3.5,3.0,3.5,0.7,3.0,1.0,3.0,1.0,3.0,3.0,4.0,12.5,4.5,15.5,5.5,4.0,5.5,5.0,19.5,5.5,7.0,6.0,1.5,4.0,3.5,12.0,3.0,1.5,3.0,4.0,5.0,6.0,32.5,1.0,9.5,9.0,7.5,18.5,5.0,19.0,15.0,20.5,3.0,13.5,3.5,37.5,3.5,4.0,1.0,14.5,2.0,2.5,1.5,3.0,1.5,1.0,4.0,1.0,7.0,5.5,3.5,1.5,17.5,1.0,2.5,1.0,10.0,1.0,8.5,2.5,6.5,3.5,8.0,10.5,2.5,1.0,1.5,2.5,10.5,2.0,3.0,1.5,8.0,12.0,25.0,11.0,4.5,4.5,8.5,9.0,20.0,1.5,7.0,5.0,19.5,7.5,25.5,12.0,20.5,3.0,7.5,45.0,11.0,33.0,16.0,1.0,2.0,1.5,3.0,11.0,1.0,3.5,2.5,12.5,4.0,3.5,11.5,2.0,1.5,1.0,3.0,3.0,1.0,1.5,4.0,2.0,2.0,15.0,4.0,1.5,2.5,3.5,2.0,2.5,2.0,3.5,4.5,1.0,4.5,1.0,1.0,3.0,19.5,6.5,60.0,11.5,5.5,10.0,7.0,16.5,2.0,1.5,22.5,13.5,2.0,7.0,4.0,5.5,3.5,2.0,1.0,1.5,2.0,3.0,1.0,10.0,23.0,18.0,6.5,18.5,20.5,6.5,6.0,14.5,13.0,8.5,8.5,5.0,1.0,4.5,17.5,1.5,3.0,6.0,10.0,0.55,3.5,2.5,1.5,1.5,2.0,2.0,3.0,7.5,1.5,5.5,3.5,1.0,2.0,1.5,6.5,3.0,2.0,2.5,4.5,4.5,2.5,6.0,1.5,3.0,14.0,2.0,5.0,1.0,1.0,3.5,1.0,1.0,2.5,16.5,5.0,4.0,2.0,6.5,1.0,29.5,3.0,21.5,31.5,15.5,4.0,12.0,27.5,5.5,9.0,5.0,20.5,14.5,44.5,9.0,14.0,15.5,5.5,22.5,9.0,12.0,12.5,3.5,16.0,2.5,4.5,13.0,3.0,2.5,4.0,0.6,1.0,1.0,2.0,1.0,6.0,1.0,4.0,1.0,19.0,1.5,3.5,18.0,11.5,24.5,4.0,2.0,7.5,1.5,7.0,2.5,2.5,2.0,1.0,25.0,1.0,15.5,6.0,6.0,5.0,4.5,2.5,2.5,3.0,8.5,5.0,5.0,5.0,1.0,0.6666666666666666,11.0,4.0,1.5,1.0,1.5,1.0,2.5,4.0,6.0,4.5,4.5,4.0,7.0,18.5,1.5,1.5,6.5,0.6666666666666666,1.0,3.0,2.5,1.5,3.5,1.5,3.5,1.5,1.0,4.0,4.5,13.0,11.0,8.5,9.0,4.5,3.5,3.0,1.5,2.0,9.0,14.5,3.0,5.5,51.0,2.0,32.5,10.5,12.0,9.5,3.0,13.0,4.0,1.0,1.5,2.0,12.5,1.5,9.5,2.0,4.5,1.5,2.5,1.0,1.0,10.5,1.5,2.5,3.5,3.0,4.5,1.0,2.0,11.0,3.0,13.5,8.0,2.0,3.0,1.5,2.5,6.5,1.5,0.7166666666666667,1.0,2.5,4.0,3.5,7.5,1.0,4.0,3.5,2.0,0.7,3.0,3.0,3.5,13.5,2.5,1.0,0.6166666666666667,3.0,0.5333333333333333,4.0,2.0,1.0,9.0,2.0,1.0,3.0,1.5,1.5,1.0,1.5,2.0,2.5,1.0,2.0,13.0,1.5,2.0,4.0,8.0,6.0,2.0,2.0,3.5,0.5333333333333333,2.0,9.0,10.5,3.5,2.0,4.0,4.0,1.5,1.5,1.0,12.5,1.0,1.0,1.0,1.5,1.5,2.0,1.0,2.5,12.5,2.0,1.5,1.0,1.0,1.0,3.5,3.5,2.5,6.0,3.5,6.5,4.0,1.0,6.0,2.0,1.5,3.0,4.0,0.5666666666666667,19.0,0.5666666666666667,2.0,17.0,7.5,3.0,4.0,1.5,3.5,1.5,3.0,2.0,2.0,3.0,1.5,9.0,2.5,9.0,4.0,11.0,8.0,7.0,0.6833333333333333,3.5,3.5,1.5,1.5,17.5,3.0,2.0,0.5333333333333333,6.5,7.0,1.0,5.5,1.0,2.0,1.5,0.7,0.7,0.6166666666666667,1.0,1.0,7.0,6.0,5.5,1.0,1.5,3.0,8.0,1.0,1.0,0.55,44.5,16.5,5.0,3.0,0.7333333333333333,3.0,3.0,2.0,1.5,4.0,2.0,0.5833333333333334,5.0,2.0,2.0,1.5,3.0,2.5,14.0,9.0,3.5,2.0,57.0,7.5,4.0,5.0,1.0,1.5,1.5,4.0,2.5,3.0,8.0,9.5,8.0,3.0,1.5,2.0,14.0,2.0,2.5,1.0,2.5,6.5,6.0,3.0,3.0,2.0,3.5,1.0,3.5,13.0,4.5,13.0,5.0,3.5,1.0,3.5,9.5,0.5333333333333333,1.5,4.0,0.55,0.6333333333333333,3.5,5.5,4.5,9.0,11.0,10.5,0.5333333333333333,2.5,0.6333333333333333,2.5,1.5,3.5,2.0,8.0,4.5,7.0,1.5,1.5,13.5,4.0,2.0,4.0,3.0,1.5,12.0,2.5,1.5,3.5,5.0,0.65,8.0,2.0,0.65,2.0,6.0,5.5,4.5,4.5,2.5,15.5,5.5,1.5,2.0,1.0,18.5,7.5,7.0,1.5,16.5,3.0,5.0,0.6666666666666666,4.0,1.0,1.5,1.5,3.5,6.5,1.0,7.0,2.0,3.0,0.6666666666666666,6.0,2.5,1.0,0.6,2.0,2.5,10.0,1.0,1.0,14.5,7.5,10.5,3.5,2.0,1.5,5.5,7.5,7.0,2.0,2.5,2.5,0.6666666666666666,3.0,0.5666666666666667,4.5,2.0,4.0,5.5,5.0,16.0,9.0,3.5,76.5,9.0,11.5,1.5,11.5,19.5,9.0,11.0,5.0,1.5,3.5,1.0,2.0,2.0,2.0,11.0,1.5,13.0,7.0,14.5,2.0,2.5,10.5,3.5,1.0,5.0,1.0,2.0,1.5,7.0,2.5,1.5,0.6166666666666667,3.0,20.0,16.5,12.5,4.5,4.0,8.5,5.5,6.0,3.0,10.0,4.0,4.0,5.0,15.5,3.5,1.5,9.0,4.5,5.0,2.0,3.0,0.6333333333333333,20.0,6.0,8.0,31.5,14.5,10.5,12.5,22.0,8.0,30.5,17.0,31.5,3.0,5.0,3.5,2.0,3.5,4.5,2.5,6.5,5.5,6.5,4.5,2.0,1.0,13.5,8.0,18.0,8.0,17.5,8.5,9.5,9.0,43.0,10.0,30.5,32.5,1.0,0.6833333333333333,5.0,3.5,4.5,3.5,5.5,18.5,3.5,1.5,1.0,42.0,7.0,11.5,5.5,12.0,6.5,13.0,7.0,12.0,26.5,6.0,7.5,13.0,0.7333333333333333,1.0,1.0,7.5,1.0,0.6166666666666667,3.5,9.5,2.0,7.5,3.5,0.6333333333333333,5.0,3.0,3.0,1.5,0.5666666666666667,2.0,0.6166666666666667,6.5,5.5,0.5833333333333334,1.0,4.5,7.5,5.5,14.0,0.5833333333333334,1.5,5.5,1.5,6.5,3.0,2.0,1.0,2.0,10.5,1.0,2.0,2.0,6.5,1.0,1.5,1.0,1.0,3.0,2.5,3.0,4.0,2.0,4.0,1.0,1.5,7.5,16.0,2.0,4.5,3.5,2.5,1.0,3.0,1.0,1.0,1.5,2.0,5.5,0.7,6.0,26.0,6.0,3.0,4.0,2.0,1.0,4.0,3.5,3.0,2.0,21.0,2.5,5.5,0.55,0.5,2.0,1.0,6.0,5.0,2.0,3.5,2.0,3.0,1.0,5.0,18.5,7.0,1.5,1.0,1.0,2.0,8.0,5.0,1.5,0.6333333333333333,1.5,5.0,4.0,2.5,3.0,4.5,1.5,3.0,1.0,1.5,22.0,3.0,4.5,1.0,1.5,1.0,6.5,2.0,17.5,1.0,2.0,4.0,13.0,3.5,8.5,1.0,2.0,3.5,5.5,1.5,3.5,26.0,1.0,4.5,2.5,1.5,3.0,1.5,7.0,2.5,7.0,8.5,7.5,1.0,13.5,1.5,3.5,3.0,4.0,12.5,2.0,7.5,3.5,2.5,1.5,2.0,0.6166666666666667,4.5,8.5,1.0,2.0,0.6333333333333333,1.0,6.0,2.0,1.0,2.0,2.0,6.5,3.0,1.5,4.5,5.5,5.5,3.0,3.0,5.5,1.5,14.0,0.5666666666666667,4.0,2.5,1.0,4.0,1.0,2.0,0.5666666666666667,0.5666666666666667,1.5,5.0,2.5,2.0,6.5,1.0,4.5,48.5,2.5,6.0,1.5,2.0,1.5,1.5,1.5,1.0,0.5,7.5,2.0,1.5,3.0,8.0,25.5,0.5833333333333334,1.5,2.5,6.0,3.0,2.0,0.5166666666666666,5.5,1.5,1.0,1.0,1.0,1.0,4.0,4.0,2.0,1.5,2.5,1.5,1.0,15.0,1.5,6.0,5.0,3.0,1.5,5.5,0.5666666666666667,2.5,22.5,0.7166666666666667,0.65,1.0,5.0,0.5166666666666666,2.0,7.0,1.0,10.0,5.0,1.0,20.5,3.0,8.0,1.0,3.0,3.5,3.5,2.5,16.0,2.5,3.5,0.6166666666666667,4.0,1.0,5.0,0.7333333333333333,3.5,0.5666666666666667,4.5,3.0,7.0,0.6833333333333333,2.0,6.5,1.5,5.0,5.5,3.0,1.0,2.5,22.5,0.65,1.5,2.0,1.5,3.5,25.5,2.5,7.0,0.6,3.0,2.0,2.5,2.0,0.5833333333333334,1.5,5.0,2.0,4.0,9.5,3.0,3.5,1.5,1.5,2.5,2.0,16.5,3.0,3.5,2.5,3.0,1.5,2.0,12.5,1.0,8.0,3.5,0.7,6.5,1.0,1.5,2.0,1.5,2.0,3.5,7.5,4.0,6.5,11.0,23.5,7.0,1.5,2.5,1.5,2.0,2.0,2.0,3.5,6.5,2.0,2.5,6.5,0.5166666666666666,5.0,2.0,2.5,6.5,3.5,66.5,3.0,1.0,1.0,1.0,11.5,8.5,12.5,2.0,5.0,10.0,4.5,2.0,6.5,0.6333333333333333,0.6333333333333333,1.5,1.0,1.0,1.0,1.0,5.0,1.0,0.5333333333333333,19.5,1.0,6.5,2.5,1.5,0.55,5.0,6.5,1.5,3.0,2.5,0.6,9.5,2.0,0.5166666666666666,14.0,4.5,10.0,1.5,5.5,0.6166666666666667,1.0,2.5,15.5,2.0,1.5,3.5,3.5,8.5,1.0,2.0,0.6166666666666667,0.5,0.5833333333333334,2.5,1.0,1.5,15.5,2.0,3.5,3.5,3.0,2.0],\"y0\":\" \",\"yaxis\":\"y5\",\"type\":\"box\"}],                        {\"template\":{\"data\":{\"histogram2dcontour\":[{\"type\":\"histogram2dcontour\",\"colorbar\":{\"outlinewidth\":0,\"ticks\":\"\"},\"colorscale\":[[0.0,\"#0d0887\"],[0.1111111111111111,\"#46039f\"],[0.2222222222222222,\"#7201a8\"],[0.3333333333333333,\"#9c179e\"],[0.4444444444444444,\"#bd3786\"],[0.5555555555555556,\"#d8576b\"],[0.6666666666666666,\"#ed7953\"],[0.7777777777777778,\"#fb9f3a\"],[0.8888888888888888,\"#fdca26\"],[1.0,\"#f0f921\"]]}],\"choropleth\":[{\"type\":\"choropleth\",\"colorbar\":{\"outlinewidth\":0,\"ticks\":\"\"}}],\"histogram2d\":[{\"type\":\"histogram2d\",\"colorbar\":{\"outlinewidth\":0,\"ticks\":\"\"},\"colorscale\":[[0.0,\"#0d0887\"],[0.1111111111111111,\"#46039f\"],[0.2222222222222222,\"#7201a8\"],[0.3333333333333333,\"#9c179e\"],[0.4444444444444444,\"#bd3786\"],[0.5555555555555556,\"#d8576b\"],[0.6666666666666666,\"#ed7953\"],[0.7777777777777778,\"#fb9f3a\"],[0.8888888888888888,\"#fdca26\"],[1.0,\"#f0f921\"]]}],\"heatmap\":[{\"type\":\"heatmap\",\"colorbar\":{\"outlinewidth\":0,\"ticks\":\"\"},\"colorscale\":[[0.0,\"#0d0887\"],[0.1111111111111111,\"#46039f\"],[0.2222222222222222,\"#7201a8\"],[0.3333333333333333,\"#9c179e\"],[0.4444444444444444,\"#bd3786\"],[0.5555555555555556,\"#d8576b\"],[0.6666666666666666,\"#ed7953\"],[0.7777777777777778,\"#fb9f3a\"],[0.8888888888888888,\"#fdca26\"],[1.0,\"#f0f921\"]]}],\"heatmapgl\":[{\"type\":\"heatmapgl\",\"colorbar\":{\"outlinewidth\":0,\"ticks\":\"\"},\"colorscale\":[[0.0,\"#0d0887\"],[0.1111111111111111,\"#46039f\"],[0.2222222222222222,\"#7201a8\"],[0.3333333333333333,\"#9c179e\"],[0.4444444444444444,\"#bd3786\"],[0.5555555555555556,\"#d8576b\"],[0.6666666666666666,\"#ed7953\"],[0.7777777777777778,\"#fb9f3a\"],[0.8888888888888888,\"#fdca26\"],[1.0,\"#f0f921\"]]}],\"contourcarpet\":[{\"type\":\"contourcarpet\",\"colorbar\":{\"outlinewidth\":0,\"ticks\":\"\"}}],\"contour\":[{\"type\":\"contour\",\"colorbar\":{\"outlinewidth\":0,\"ticks\":\"\"},\"colorscale\":[[0.0,\"#0d0887\"],[0.1111111111111111,\"#46039f\"],[0.2222222222222222,\"#7201a8\"],[0.3333333333333333,\"#9c179e\"],[0.4444444444444444,\"#bd3786\"],[0.5555555555555556,\"#d8576b\"],[0.6666666666666666,\"#ed7953\"],[0.7777777777777778,\"#fb9f3a\"],[0.8888888888888888,\"#fdca26\"],[1.0,\"#f0f921\"]]}],\"surface\":[{\"type\":\"surface\",\"colorbar\":{\"outlinewidth\":0,\"ticks\":\"\"},\"colorscale\":[[0.0,\"#0d0887\"],[0.1111111111111111,\"#46039f\"],[0.2222222222222222,\"#7201a8\"],[0.3333333333333333,\"#9c179e\"],[0.4444444444444444,\"#bd3786\"],[0.5555555555555556,\"#d8576b\"],[0.6666666666666666,\"#ed7953\"],[0.7777777777777778,\"#fb9f3a\"],[0.8888888888888888,\"#fdca26\"],[1.0,\"#f0f921\"]]}],\"mesh3d\":[{\"type\":\"mesh3d\",\"colorbar\":{\"outlinewidth\":0,\"ticks\":\"\"}}],\"scatter\":[{\"fillpattern\":{\"fillmode\":\"overlay\",\"size\":10,\"solidity\":0.2},\"type\":\"scatter\"}],\"parcoords\":[{\"type\":\"parcoords\",\"line\":{\"colorbar\":{\"outlinewidth\":0,\"ticks\":\"\"}}}],\"scatterpolargl\":[{\"type\":\"scatterpolargl\",\"marker\":{\"colorbar\":{\"outlinewidth\":0,\"ticks\":\"\"}}}],\"bar\":[{\"error_x\":{\"color\":\"#2a3f5f\"},\"error_y\":{\"color\":\"#2a3f5f\"},\"marker\":{\"line\":{\"color\":\"#E5ECF6\",\"width\":0.5},\"pattern\":{\"fillmode\":\"overlay\",\"size\":10,\"solidity\":0.2}},\"type\":\"bar\"}],\"scattergeo\":[{\"type\":\"scattergeo\",\"marker\":{\"colorbar\":{\"outlinewidth\":0,\"ticks\":\"\"}}}],\"scatterpolar\":[{\"type\":\"scatterpolar\",\"marker\":{\"colorbar\":{\"outlinewidth\":0,\"ticks\":\"\"}}}],\"histogram\":[{\"marker\":{\"pattern\":{\"fillmode\":\"overlay\",\"size\":10,\"solidity\":0.2}},\"type\":\"histogram\"}],\"scattergl\":[{\"type\":\"scattergl\",\"marker\":{\"colorbar\":{\"outlinewidth\":0,\"ticks\":\"\"}}}],\"scatter3d\":[{\"type\":\"scatter3d\",\"line\":{\"colorbar\":{\"outlinewidth\":0,\"ticks\":\"\"}},\"marker\":{\"colorbar\":{\"outlinewidth\":0,\"ticks\":\"\"}}}],\"scattermapbox\":[{\"type\":\"scattermapbox\",\"marker\":{\"colorbar\":{\"outlinewidth\":0,\"ticks\":\"\"}}}],\"scatterternary\":[{\"type\":\"scatterternary\",\"marker\":{\"colorbar\":{\"outlinewidth\":0,\"ticks\":\"\"}}}],\"scattercarpet\":[{\"type\":\"scattercarpet\",\"marker\":{\"colorbar\":{\"outlinewidth\":0,\"ticks\":\"\"}}}],\"carpet\":[{\"aaxis\":{\"endlinecolor\":\"#2a3f5f\",\"gridcolor\":\"white\",\"linecolor\":\"white\",\"minorgridcolor\":\"white\",\"startlinecolor\":\"#2a3f5f\"},\"baxis\":{\"endlinecolor\":\"#2a3f5f\",\"gridcolor\":\"white\",\"linecolor\":\"white\",\"minorgridcolor\":\"white\",\"startlinecolor\":\"#2a3f5f\"},\"type\":\"carpet\"}],\"table\":[{\"cells\":{\"fill\":{\"color\":\"#EBF0F8\"},\"line\":{\"color\":\"white\"}},\"header\":{\"fill\":{\"color\":\"#C8D4E3\"},\"line\":{\"color\":\"white\"}},\"type\":\"table\"}],\"barpolar\":[{\"marker\":{\"line\":{\"color\":\"#E5ECF6\",\"width\":0.5},\"pattern\":{\"fillmode\":\"overlay\",\"size\":10,\"solidity\":0.2}},\"type\":\"barpolar\"}],\"pie\":[{\"automargin\":true,\"type\":\"pie\"}]},\"layout\":{\"autotypenumbers\":\"strict\",\"colorway\":[\"#636efa\",\"#EF553B\",\"#00cc96\",\"#ab63fa\",\"#FFA15A\",\"#19d3f3\",\"#FF6692\",\"#B6E880\",\"#FF97FF\",\"#FECB52\"],\"font\":{\"color\":\"#2a3f5f\"},\"hovermode\":\"closest\",\"hoverlabel\":{\"align\":\"left\"},\"paper_bgcolor\":\"white\",\"plot_bgcolor\":\"#E5ECF6\",\"polar\":{\"bgcolor\":\"#E5ECF6\",\"angularaxis\":{\"gridcolor\":\"white\",\"linecolor\":\"white\",\"ticks\":\"\"},\"radialaxis\":{\"gridcolor\":\"white\",\"linecolor\":\"white\",\"ticks\":\"\"}},\"ternary\":{\"bgcolor\":\"#E5ECF6\",\"aaxis\":{\"gridcolor\":\"white\",\"linecolor\":\"white\",\"ticks\":\"\"},\"baxis\":{\"gridcolor\":\"white\",\"linecolor\":\"white\",\"ticks\":\"\"},\"caxis\":{\"gridcolor\":\"white\",\"linecolor\":\"white\",\"ticks\":\"\"}},\"coloraxis\":{\"colorbar\":{\"outlinewidth\":0,\"ticks\":\"\"}},\"colorscale\":{\"sequential\":[[0.0,\"#0d0887\"],[0.1111111111111111,\"#46039f\"],[0.2222222222222222,\"#7201a8\"],[0.3333333333333333,\"#9c179e\"],[0.4444444444444444,\"#bd3786\"],[0.5555555555555556,\"#d8576b\"],[0.6666666666666666,\"#ed7953\"],[0.7777777777777778,\"#fb9f3a\"],[0.8888888888888888,\"#fdca26\"],[1.0,\"#f0f921\"]],\"sequentialminus\":[[0.0,\"#0d0887\"],[0.1111111111111111,\"#46039f\"],[0.2222222222222222,\"#7201a8\"],[0.3333333333333333,\"#9c179e\"],[0.4444444444444444,\"#bd3786\"],[0.5555555555555556,\"#d8576b\"],[0.6666666666666666,\"#ed7953\"],[0.7777777777777778,\"#fb9f3a\"],[0.8888888888888888,\"#fdca26\"],[1.0,\"#f0f921\"]],\"diverging\":[[0,\"#8e0152\"],[0.1,\"#c51b7d\"],[0.2,\"#de77ae\"],[0.3,\"#f1b6da\"],[0.4,\"#fde0ef\"],[0.5,\"#f7f7f7\"],[0.6,\"#e6f5d0\"],[0.7,\"#b8e186\"],[0.8,\"#7fbc41\"],[0.9,\"#4d9221\"],[1,\"#276419\"]]},\"xaxis\":{\"gridcolor\":\"white\",\"linecolor\":\"white\",\"ticks\":\"\",\"title\":{\"standoff\":15},\"zerolinecolor\":\"white\",\"automargin\":true,\"zerolinewidth\":2},\"yaxis\":{\"gridcolor\":\"white\",\"linecolor\":\"white\",\"ticks\":\"\",\"title\":{\"standoff\":15},\"zerolinecolor\":\"white\",\"automargin\":true,\"zerolinewidth\":2},\"scene\":{\"xaxis\":{\"backgroundcolor\":\"#E5ECF6\",\"gridcolor\":\"white\",\"linecolor\":\"white\",\"showbackground\":true,\"ticks\":\"\",\"zerolinecolor\":\"white\",\"gridwidth\":2},\"yaxis\":{\"backgroundcolor\":\"#E5ECF6\",\"gridcolor\":\"white\",\"linecolor\":\"white\",\"showbackground\":true,\"ticks\":\"\",\"zerolinecolor\":\"white\",\"gridwidth\":2},\"zaxis\":{\"backgroundcolor\":\"#E5ECF6\",\"gridcolor\":\"white\",\"linecolor\":\"white\",\"showbackground\":true,\"ticks\":\"\",\"zerolinecolor\":\"white\",\"gridwidth\":2}},\"shapedefaults\":{\"line\":{\"color\":\"#2a3f5f\"}},\"annotationdefaults\":{\"arrowcolor\":\"#2a3f5f\",\"arrowhead\":0,\"arrowwidth\":1},\"geo\":{\"bgcolor\":\"white\",\"landcolor\":\"#E5ECF6\",\"subunitcolor\":\"white\",\"showland\":true,\"showlakes\":true,\"lakecolor\":\"white\"},\"title\":{\"x\":0.05},\"mapbox\":{\"style\":\"light\"}}},\"xaxis\":{\"anchor\":\"y\",\"domain\":[0.0,0.18400000000000002]},\"yaxis\":{\"anchor\":\"x\",\"domain\":[0.0,1.0],\"title\":{\"text\":\"value\"}},\"xaxis2\":{\"anchor\":\"y2\",\"domain\":[0.20400000000000001,0.388],\"matches\":\"x\"},\"yaxis2\":{\"anchor\":\"x2\",\"domain\":[0.0,1.0],\"showticklabels\":false},\"xaxis3\":{\"anchor\":\"y3\",\"domain\":[0.40800000000000003,0.5920000000000001],\"matches\":\"x\"},\"yaxis3\":{\"anchor\":\"x3\",\"domain\":[0.0,1.0],\"showticklabels\":false},\"xaxis4\":{\"anchor\":\"y4\",\"domain\":[0.6120000000000001,0.7960000000000002],\"matches\":\"x\"},\"yaxis4\":{\"anchor\":\"x4\",\"domain\":[0.0,1.0],\"showticklabels\":false},\"xaxis5\":{\"anchor\":\"y5\",\"domain\":[0.8160000000000001,1.0],\"matches\":\"x\"},\"yaxis5\":{\"anchor\":\"x5\",\"domain\":[0.0,1.0],\"showticklabels\":false},\"annotations\":[{\"font\":{},\"showarrow\":false,\"text\":\"variable=price\",\"x\":0.09200000000000001,\"xanchor\":\"center\",\"xref\":\"paper\",\"y\":1.0,\"yanchor\":\"bottom\",\"yref\":\"paper\"},{\"font\":{},\"showarrow\":false,\"text\":\"variable=num_subscribers\",\"x\":0.29600000000000004,\"xanchor\":\"center\",\"xref\":\"paper\",\"y\":1.0,\"yanchor\":\"bottom\",\"yref\":\"paper\"},{\"font\":{},\"showarrow\":false,\"text\":\"variable=num_reviews\",\"x\":0.5,\"xanchor\":\"center\",\"xref\":\"paper\",\"y\":1.0,\"yanchor\":\"bottom\",\"yref\":\"paper\"},{\"font\":{},\"showarrow\":false,\"text\":\"variable=num_lectures\",\"x\":0.7040000000000002,\"xanchor\":\"center\",\"xref\":\"paper\",\"y\":1.0,\"yanchor\":\"bottom\",\"yref\":\"paper\"},{\"font\":{},\"showarrow\":false,\"text\":\"variable=content_duration\",\"x\":0.908,\"xanchor\":\"center\",\"xref\":\"paper\",\"y\":1.0,\"yanchor\":\"bottom\",\"yref\":\"paper\"}],\"legend\":{\"title\":{\"text\":\"variable\"},\"tracegroupgap\":0},\"title\":{\"text\":\"check outliers by box plot chart\"},\"boxmode\":\"overlay\"},                        {\"responsive\": true}                    ).then(function(){\n",
       "                            \n",
       "var gd = document.getElementById('6ce01aab-b0a4-42fa-b850-b5e80c1c12cd');\n",
       "var x = new MutationObserver(function (mutations, observer) {{\n",
       "        var display = window.getComputedStyle(gd).display;\n",
       "        if (!display || display === 'none') {{\n",
       "            console.log([gd, 'removed!']);\n",
       "            Plotly.purge(gd);\n",
       "            observer.disconnect();\n",
       "        }}\n",
       "}});\n",
       "\n",
       "// Listen for the removal of the full notebook cells\n",
       "var notebookContainer = gd.closest('#notebook-container');\n",
       "if (notebookContainer) {{\n",
       "    x.observe(notebookContainer, {childList: true});\n",
       "}}\n",
       "\n",
       "// Listen for the clearing of the current output cell\n",
       "var outputEl = gd.closest('.output');\n",
       "if (outputEl) {{\n",
       "    x.observe(outputEl, {childList: true});\n",
       "}}\n",
       "\n",
       "                        })                };                });            </script>        </div>"
      ]
     },
     "metadata": {},
     "output_type": "display_data"
    }
   ],
   "source": [
    "# visualizing data by box plot chart\n",
    "\n",
    "df_num = df[['price' , 'num_subscribers', 'num_reviews', 'num_lectures', 'content_duration']]\n",
    "chart_title = 'check outliers by box plot chart'\n",
    "px.box(df_num.melt(), y= 'value', facet_col= 'variable', boxmode= 'overlay', color= 'variable', title= chart_title).update_yaxes(matches= None)"
   ]
  },
  {
   "cell_type": "markdown",
   "id": "aaa2f5ce",
   "metadata": {
    "id": "EIxOH3_E25JX",
    "papermill": {
     "duration": 0.040816,
     "end_time": "2023-07-24T06:44:52.025554",
     "exception": false,
     "start_time": "2023-07-24T06:44:51.984738",
     "status": "completed"
    },
    "tags": []
   },
   "source": [
    "- there are outliers (content_duration) has values [0] this is not logic, (num_lecture) has values [0, 779] this is not logic.\n",
    "- for (num_subscribers & num_reviews) delete far gap values"
   ]
  },
  {
   "cell_type": "code",
   "execution_count": 15,
   "id": "b19b2265",
   "metadata": {
    "execution": {
     "iopub.execute_input": "2023-07-24T06:44:52.109545Z",
     "iopub.status.busy": "2023-07-24T06:44:52.109130Z",
     "iopub.status.idle": "2023-07-24T06:44:52.116360Z",
     "shell.execute_reply": "2023-07-24T06:44:52.115305Z"
    },
    "id": "b8ky49BK3b2d",
    "papermill": {
     "duration": 0.051909,
     "end_time": "2023-07-24T06:44:52.118808",
     "exception": false,
     "start_time": "2023-07-24T06:44:52.066899",
     "status": "completed"
    },
    "tags": []
   },
   "outputs": [],
   "source": [
    "# remove outlier content_duration = 0\n",
    "\n",
    "df = df[df['content_duration'] != 0]"
   ]
  },
  {
   "cell_type": "code",
   "execution_count": 16,
   "id": "10088b2d",
   "metadata": {
    "execution": {
     "iopub.execute_input": "2023-07-24T06:44:52.204165Z",
     "iopub.status.busy": "2023-07-24T06:44:52.203773Z",
     "iopub.status.idle": "2023-07-24T06:44:52.210471Z",
     "shell.execute_reply": "2023-07-24T06:44:52.209641Z"
    },
    "id": "caPtBo1t3vVf",
    "papermill": {
     "duration": 0.052394,
     "end_time": "2023-07-24T06:44:52.212824",
     "exception": false,
     "start_time": "2023-07-24T06:44:52.160430",
     "status": "completed"
    },
    "tags": []
   },
   "outputs": [],
   "source": [
    "# remove outlier num_lectures = 0\n",
    "\n",
    "df = df[df['num_lectures'] != 0]"
   ]
  },
  {
   "cell_type": "code",
   "execution_count": 17,
   "id": "7aa8644b",
   "metadata": {
    "execution": {
     "iopub.execute_input": "2023-07-24T06:44:52.297515Z",
     "iopub.status.busy": "2023-07-24T06:44:52.297102Z",
     "iopub.status.idle": "2023-07-24T06:44:52.303795Z",
     "shell.execute_reply": "2023-07-24T06:44:52.302732Z"
    },
    "id": "umm74nXn6_ie",
    "papermill": {
     "duration": 0.051818,
     "end_time": "2023-07-24T06:44:52.306199",
     "exception": false,
     "start_time": "2023-07-24T06:44:52.254381",
     "status": "completed"
    },
    "tags": []
   },
   "outputs": [],
   "source": [
    "# remove outliers far gap values\n",
    "\n",
    "df = df[df['num_lectures'] < 779]"
   ]
  },
  {
   "cell_type": "code",
   "execution_count": 18,
   "id": "c8b5fd55",
   "metadata": {
    "execution": {
     "iopub.execute_input": "2023-07-24T06:44:52.390237Z",
     "iopub.status.busy": "2023-07-24T06:44:52.389854Z",
     "iopub.status.idle": "2023-07-24T06:44:52.396311Z",
     "shell.execute_reply": "2023-07-24T06:44:52.395356Z"
    },
    "id": "poHPb4iK8u9X",
    "papermill": {
     "duration": 0.051144,
     "end_time": "2023-07-24T06:44:52.398641",
     "exception": false,
     "start_time": "2023-07-24T06:44:52.347497",
     "status": "completed"
    },
    "tags": []
   },
   "outputs": [],
   "source": [
    "df = df[df['num_subscribers'] < 83000]"
   ]
  },
  {
   "cell_type": "code",
   "execution_count": 19,
   "id": "87cb0760",
   "metadata": {
    "execution": {
     "iopub.execute_input": "2023-07-24T06:44:52.482806Z",
     "iopub.status.busy": "2023-07-24T06:44:52.482413Z",
     "iopub.status.idle": "2023-07-24T06:44:52.488528Z",
     "shell.execute_reply": "2023-07-24T06:44:52.487468Z"
    },
    "id": "h429dG3D9R7I",
    "papermill": {
     "duration": 0.051152,
     "end_time": "2023-07-24T06:44:52.490912",
     "exception": false,
     "start_time": "2023-07-24T06:44:52.439760",
     "status": "completed"
    },
    "tags": []
   },
   "outputs": [],
   "source": [
    "df = df[df['num_reviews'] < 5590]"
   ]
  },
  {
   "cell_type": "code",
   "execution_count": 20,
   "id": "f3affa10",
   "metadata": {
    "execution": {
     "iopub.execute_input": "2023-07-24T06:44:52.574764Z",
     "iopub.status.busy": "2023-07-24T06:44:52.574350Z",
     "iopub.status.idle": "2023-07-24T06:44:52.712253Z",
     "shell.execute_reply": "2023-07-24T06:44:52.711122Z"
    },
    "id": "9ap0w8Bs7NGp",
    "outputId": "e7e6546f-be90-4f0b-9bd4-9df4d163ef01",
    "papermill": {
     "duration": 0.182503,
     "end_time": "2023-07-24T06:44:52.714549",
     "exception": false,
     "start_time": "2023-07-24T06:44:52.532046",
     "status": "completed"
    },
    "tags": []
   },
   "outputs": [
    {
     "data": {
      "text/html": [
       "<div>                            <div id=\"6c72074f-852a-4272-b228-f9aef0561ed9\" class=\"plotly-graph-div\" style=\"height:525px; width:100%;\"></div>            <script type=\"text/javascript\">                require([\"plotly\"], function(Plotly) {                    window.PLOTLYENV=window.PLOTLYENV || {};                                    if (document.getElementById(\"6c72074f-852a-4272-b228-f9aef0561ed9\")) {                    Plotly.newPlot(                        \"6c72074f-852a-4272-b228-f9aef0561ed9\",                        [{\"alignmentgroup\":\"True\",\"hovertemplate\":\"variable=price\\u003cbr\\u003evalue=%{y}\\u003cextra\\u003e\\u003c\\u002fextra\\u003e\",\"legendgroup\":\"price\",\"marker\":{\"color\":\"#636efa\"},\"name\":\"price\",\"notched\":false,\"offsetgroup\":\"price\",\"orientation\":\"v\",\"showlegend\":true,\"x0\":\" \",\"xaxis\":\"x\",\"y\":[200.0,75.0,45.0,95.0,200.0,150.0,65.0,95.0,195.0,200.0,200.0,200.0,30.0,195.0,200.0,75.0,20.0,200.0,50.0,95.0,200.0,200.0,75.0,50.0,45.0,150.0,200.0,175.0,150.0,140.0,95.0,200.0,45.0,200.0,200.0,195.0,195.0,200.0,195.0,195.0,195.0,195.0,195.0,115.0,200.0,150.0,95.0,200.0,190.0,150.0,200.0,95.0,125.0,30.0,200.0,60.0,200.0,145.0,20.0,200.0,105.0,60.0,155.0,200.0,185.0,150.0,180.0,125.0,200.0,185.0,125.0,95.0,200.0,20.0,60.0,200.0,200.0,120.0,150.0,25.0,200.0,160.0,20.0,95.0,50.0,200.0,20.0,200.0,195.0,200.0,20.0,20.0,95.0,150.0,40.0,0.0,20.0,100.0,75.0,20.0,40.0,20.0,25.0,0.0,50.0,200.0,0.0,195.0,0.0,20.0,150.0,95.0,0.0,20.0,150.0,20.0,25.0,150.0,50.0,0.0,50.0,180.0,50.0,100.0,25.0,200.0,20.0,90.0,0.0,20.0,35.0,50.0,100.0,50.0,20.0,200.0,200.0,60.0,150.0,20.0,105.0,20.0,150.0,0.0,100.0,60.0,200.0,200.0,20.0,30.0,95.0,95.0,60.0,20.0,20.0,200.0,125.0,200.0,200.0,35.0,200.0,200.0,120.0,195.0,125.0,200.0,25.0,200.0,20.0,195.0,20.0,50.0,200.0,120.0,200.0,200.0,45.0,50.0,80.0,0.0,200.0,20.0,50.0,200.0,120.0,145.0,195.0,200.0,45.0,20.0,200.0,75.0,20.0,0.0,20.0,20.0,150.0,20.0,200.0,45.0,60.0,20.0,20.0,50.0,50.0,50.0,0.0,50.0,60.0,0.0,60.0,40.0,45.0,0.0,200.0,95.0,20.0,50.0,200.0,95.0,40.0,20.0,20.0,200.0,20.0,20.0,60.0,75.0,20.0,20.0,20.0,200.0,20.0,20.0,20.0,30.0,95.0,50.0,65.0,95.0,50.0,95.0,50.0,105.0,120.0,40.0,35.0,20.0,0.0,0.0,50.0,20.0,200.0,0.0,125.0,35.0,20.0,75.0,50.0,30.0,50.0,100.0,150.0,20.0,200.0,95.0,200.0,95.0,30.0,25.0,125.0,35.0,30.0,50.0,200.0,35.0,25.0,50.0,20.0,20.0,20.0,20.0,125.0,0.0,20.0,20.0,60.0,60.0,0.0,50.0,0.0,0.0,60.0,60.0,115.0,25.0,120.0,0.0,150.0,0.0,50.0,0.0,35.0,20.0,200.0,20.0,20.0,80.0,70.0,50.0,20.0,75.0,90.0,40.0,30.0,200.0,20.0,75.0,25.0,20.0,20.0,50.0,20.0,20.0,25.0,20.0,50.0,200.0,200.0,60.0,180.0,50.0,200.0,30.0,50.0,40.0,50.0,20.0,150.0,95.0,0.0,20.0,200.0,20.0,60.0,195.0,0.0,0.0,0.0,45.0,100.0,20.0,20.0,200.0,0.0,0.0,180.0,75.0,25.0,50.0,0.0,95.0,40.0,100.0,145.0,30.0,50.0,20.0,20.0,20.0,95.0,90.0,20.0,75.0,0.0,50.0,20.0,145.0,100.0,60.0,45.0,200.0,200.0,150.0,200.0,25.0,20.0,25.0,125.0,50.0,20.0,20.0,200.0,150.0,200.0,20.0,160.0,200.0,30.0,20.0,40.0,50.0,200.0,200.0,100.0,50.0,20.0,50.0,200.0,50.0,30.0,20.0,20.0,25.0,45.0,200.0,50.0,40.0,25.0,20.0,60.0,20.0,20.0,20.0,20.0,0.0,20.0,40.0,30.0,30.0,35.0,20.0,0.0,0.0,30.0,200.0,50.0,190.0,95.0,35.0,30.0,195.0,60.0,195.0,200.0,0.0,20.0,20.0,20.0,50.0,50.0,80.0,25.0,20.0,20.0,20.0,50.0,50.0,50.0,20.0,50.0,95.0,100.0,40.0,40.0,50.0,55.0,0.0,20.0,95.0,200.0,55.0,50.0,25.0,20.0,20.0,50.0,95.0,40.0,55.0,50.0,50.0,20.0,20.0,0.0,125.0,50.0,50.0,120.0,200.0,20.0,0.0,0.0,95.0,0.0,20.0,165.0,200.0,25.0,195.0,200.0,20.0,0.0,20.0,40.0,95.0,195.0,95.0,20.0,35.0,195.0,200.0,105.0,20.0,30.0,20.0,20.0,20.0,30.0,20.0,20.0,40.0,105.0,20.0,100.0,20.0,200.0,95.0,180.0,100.0,150.0,50.0,200.0,60.0,20.0,25.0,95.0,20.0,200.0,50.0,50.0,20.0,20.0,50.0,0.0,50.0,75.0,50.0,50.0,75.0,20.0,195.0,50.0,55.0,20.0,50.0,100.0,40.0,40.0,30.0,50.0,190.0,195.0,50.0,40.0,100.0,20.0,20.0,200.0,60.0,0.0,95.0,0.0,20.0,50.0,25.0,95.0,50.0,50.0,50.0,20.0,20.0,20.0,55.0,20.0,20.0,20.0,200.0,20.0,0.0,50.0,40.0,20.0,20.0,20.0,200.0,100.0,20.0,25.0,80.0,20.0,95.0,70.0,20.0,25.0,40.0,20.0,20.0,45.0,20.0,20.0,25.0,20.0,20.0,50.0,20.0,200.0,20.0,20.0,150.0,20.0,195.0,20.0,0.0,200.0,0.0,50.0,95.0,50.0,0.0,200.0,60.0,50.0,30.0,200.0,20.0,25.0,20.0,200.0,145.0,30.0,45.0,40.0,20.0,20.0,145.0,30.0,50.0,200.0,95.0,45.0,45.0,95.0,95.0,200.0,180.0,50.0,100.0,40.0,50.0,20.0,50.0,50.0,20.0,20.0,0.0,40.0,30.0,60.0,200.0,0.0,130.0,35.0,95.0,20.0,90.0,50.0,35.0,20.0,145.0,40.0,150.0,20.0,20.0,20.0,20.0,20.0,35.0,180.0,50.0,40.0,0.0,20.0,125.0,20.0,0.0,50.0,75.0,95.0,50.0,95.0,80.0,195.0,25.0,200.0,50.0,20.0,95.0,40.0,50.0,20.0,50.0,25.0,25.0,30.0,200.0,50.0,20.0,20.0,40.0,0.0,50.0,30.0,50.0,50.0,0.0,50.0,0.0,30.0,35.0,25.0,20.0,60.0,50.0,20.0,20.0,40.0,20.0,45.0,100.0,50.0,90.0,0.0,100.0,20.0,20.0,50.0,0.0,40.0,20.0,200.0,40.0,30.0,195.0,95.0,0.0,0.0,20.0,50.0,20.0,20.0,50.0,50.0,200.0,0.0,50.0,40.0,20.0,20.0,0.0,20.0,20.0,95.0,40.0,50.0,85.0,0.0,20.0,25.0,50.0,50.0,20.0,35.0,20.0,100.0,50.0,75.0,60.0,200.0,145.0,60.0,20.0,50.0,200.0,200.0,60.0,20.0,20.0,140.0,120.0,200.0,50.0,170.0,50.0,200.0,150.0,150.0,60.0,20.0,50.0,20.0,200.0,20.0,20.0,100.0,45.0,50.0,0.0,50.0,50.0,0.0,50.0,25.0,150.0,0.0,0.0,25.0,50.0,0.0,0.0,50.0,0.0,20.0,0.0,25.0,20.0,50.0,25.0,0.0,125.0,200.0,120.0,20.0,50.0,195.0,20.0,60.0,20.0,50.0,20.0,50.0,95.0,150.0,20.0,20.0,50.0,20.0,50.0,50.0,40.0,30.0,50.0,0.0,35.0,0.0,20.0,20.0,30.0,150.0,75.0,50.0,100.0,20.0,0.0,90.0,20.0,0.0,25.0,20.0,50.0,60.0,20.0,90.0,20.0,20.0,50.0,200.0,100.0,160.0,20.0,25.0,50.0,60.0,60.0,150.0,20.0,20.0,25.0,200.0,30.0,50.0,20.0,200.0,0.0,20.0,20.0,0.0,20.0,75.0,30.0,20.0,20.0,20.0,145.0,200.0,30.0,20.0,30.0,25.0,45.0,35.0,20.0,20.0,20.0,20.0,20.0,95.0,20.0,35.0,30.0,35.0,50.0,60.0,30.0,20.0,20.0,20.0,20.0,50.0,0.0,25.0,20.0,180.0,95.0,20.0,20.0,20.0,200.0,0.0,30.0,20.0,50.0,50.0,50.0,20.0,50.0,20.0,95.0,100.0,20.0,20.0,20.0,0.0,45.0,200.0,40.0,30.0,50.0,20.0,20.0,40.0,20.0,50.0,50.0,0.0,20.0,50.0,50.0,20.0,35.0,20.0,95.0,20.0,35.0,40.0,110.0,20.0,20.0,95.0,135.0,50.0,30.0,70.0,200.0,20.0,40.0,195.0,50.0,50.0,115.0,20.0,20.0,50.0,0.0,25.0,50.0,150.0,20.0,20.0,20.0,200.0,35.0,40.0,50.0,20.0,20.0,45.0,25.0,20.0,50.0,50.0,35.0,30.0,170.0,20.0,20.0,30.0,30.0,20.0,35.0,195.0,150.0,0.0,20.0,0.0,85.0,75.0,45.0,25.0,20.0,80.0,200.0,150.0,20.0,85.0,20.0,45.0,25.0,30.0,200.0,115.0,30.0,45.0,130.0,140.0,30.0,20.0,140.0,20.0,85.0,20.0,20.0,25.0,40.0,20.0,100.0,175.0,40.0,20.0,25.0,20.0,195.0,200.0,20.0,50.0,50.0,35.0,25.0,20.0,30.0,30.0,55.0,200.0,20.0,30.0,125.0,25.0,35.0,0.0,20.0,20.0,85.0,25.0,0.0,70.0,100.0,50.0,75.0,0.0,0.0,0.0,0.0,0.0,0.0,25.0,20.0,195.0,45.0,65.0,20.0,95.0,30.0,0.0,40.0,50.0,40.0,200.0,195.0,200.0,50.0,20.0,25.0,195.0,200.0,200.0,0.0,100.0,20.0,200.0,115.0,200.0,200.0,50.0,150.0,20.0,50.0,20.0,50.0,35.0,40.0,20.0,20.0,35.0,180.0,50.0,40.0,50.0,95.0,40.0,40.0,50.0,20.0,200.0,20.0,20.0,25.0,20.0,200.0,20.0,50.0,65.0,50.0,50.0,195.0,20.0,0.0,20.0,30.0,50.0,20.0,20.0,40.0,100.0,85.0,90.0,25.0,55.0,40.0,0.0,35.0,20.0,25.0,180.0,20.0,50.0,20.0,20.0,25.0,50.0,20.0,150.0,95.0,150.0,20.0,200.0,200.0,180.0,65.0,25.0,20.0,200.0,195.0,0.0,0.0,0.0,200.0,150.0,200.0,200.0,95.0,75.0,30.0,200.0,150.0,95.0,200.0,150.0,195.0,20.0,30.0,20.0,50.0,20.0,25.0,20.0,50.0,150.0,30.0,25.0,20.0,30.0,25.0,20.0,20.0,20.0,20.0,20.0,0.0,0.0,0.0,0.0,185.0,20.0,100.0,50.0,30.0,200.0,25.0,20.0,20.0,20.0,200.0,200.0,20.0,150.0,150.0,200.0,45.0,45.0,30.0,80.0,0.0,60.0,0.0,0.0,190.0,20.0,95.0,200.0,75.0,45.0,120.0,20.0,95.0,25.0,0.0,30.0,40.0,0.0,0.0,50.0,0.0,20.0,100.0,40.0,0.0,105.0,30.0,25.0,40.0,95.0,95.0,95.0,0.0,40.0,20.0,20.0,20.0,70.0,50.0,30.0,20.0,200.0,65.0,200.0,20.0,40.0,0.0,75.0,50.0,0.0,50.0,20.0,30.0,70.0,20.0,20.0,20.0,80.0,200.0,125.0,50.0,20.0,20.0,20.0,50.0,45.0,20.0,40.0,20.0,20.0,45.0,0.0,100.0,20.0,60.0,25.0,150.0,70.0,30.0,20.0,30.0,100.0,135.0,80.0,60.0,30.0,30.0,20.0,0.0,200.0,20.0,80.0,195.0,0.0,20.0,200.0,20.0,50.0,25.0,35.0,95.0,0.0,30.0,0.0,0.0,200.0,145.0,95.0,40.0,20.0,100.0,165.0,30.0,30.0,100.0,100.0,0.0,25.0,120.0,135.0,35.0,20.0,20.0,70.0,0.0,145.0,25.0,195.0,0.0,0.0,20.0,50.0,30.0,30.0,30.0,135.0,75.0,140.0,20.0,20.0,95.0,20.0,0.0,0.0,25.0,95.0,50.0,70.0,20.0,90.0,45.0,100.0,50.0,95.0,30.0,85.0,20.0,75.0,195.0,20.0,45.0,20.0,20.0,55.0,20.0,115.0,20.0,20.0,20.0,50.0,150.0,25.0,45.0,20.0,35.0,20.0,185.0,20.0,20.0,30.0,20.0,20.0,95.0,20.0,25.0,200.0,100.0,30.0,55.0,20.0,200.0,95.0,0.0,95.0,20.0,0.0,25.0,20.0,20.0,20.0,40.0,20.0,20.0,20.0,20.0,40.0,20.0,35.0,20.0,20.0,20.0,20.0,20.0,65.0,195.0,30.0,65.0,200.0,50.0,90.0,195.0,95.0,100.0,50.0,20.0,155.0,20.0,45.0,90.0,45.0,20.0,75.0,40.0,20.0,40.0,40.0,30.0,30.0,150.0,20.0,100.0,20.0,150.0,20.0,20.0,20.0,50.0,20.0,20.0,50.0,20.0,85.0,20.0,30.0,20.0,40.0,200.0,200.0,200.0,200.0,180.0,195.0,20.0,25.0,20.0,50.0,20.0,25.0,20.0,20.0,20.0,20.0,20.0,100.0,20.0,95.0,35.0,200.0,25.0,25.0,50.0,55.0,30.0,20.0,20.0,70.0,20.0,20.0,40.0,20.0,20.0,20.0,30.0,80.0,50.0,25.0,20.0,45.0,30.0,20.0,30.0,20.0,20.0,25.0,180.0,20.0,75.0,95.0,195.0,175.0,100.0,35.0,125.0,90.0,195.0,20.0,135.0,20.0,100.0,20.0,20.0,20.0,30.0,60.0,20.0,20.0,20.0,40.0,50.0,20.0,25.0,200.0,25.0,35.0,20.0,30.0,20.0,50.0,20.0,20.0,50.0,30.0,50.0,20.0,20.0,20.0,50.0,100.0,50.0,45.0,20.0,25.0,20.0,20.0,20.0,20.0,35.0,150.0,20.0,40.0,20.0,100.0,20.0,125.0,20.0,100.0,35.0,50.0,150.0,50.0,20.0,35.0,195.0,55.0,20.0,50.0,30.0,30.0,25.0,35.0,95.0,40.0,40.0,20.0,50.0,20.0,30.0,200.0,195.0,200.0,100.0,50.0,200.0,20.0,20.0,35.0,165.0,20.0,100.0,20.0,20.0,50.0,105.0,200.0,35.0,100.0,120.0,20.0,0.0,95.0,65.0,20.0,30.0,20.0,20.0,50.0,20.0,45.0,20.0,35.0,20.0,40.0,20.0,30.0,25.0,55.0,100.0,25.0,20.0,50.0,20.0,20.0,20.0,50.0,40.0,95.0,80.0,20.0,200.0,100.0,150.0,195.0,105.0,25.0,195.0,20.0,50.0,20.0,30.0,20.0,95.0,20.0,40.0,50.0,50.0,20.0,35.0,50.0,20.0,30.0,85.0,25.0,20.0,35.0,0.0,30.0,20.0,35.0,20.0,20.0,120.0,20.0,20.0,25.0,65.0,20.0,20.0,45.0,100.0,20.0,20.0,40.0,40.0,20.0,20.0,20.0,20.0,25.0,50.0,25.0,20.0,200.0,35.0,20.0,20.0,85.0,40.0,25.0,195.0,35.0,0.0,20.0,195.0,200.0,75.0,40.0,20.0,20.0,20.0,195.0,25.0,25.0,20.0,35.0,20.0,20.0,30.0,20.0,25.0,20.0,20.0,20.0,40.0,20.0,20.0,30.0,20.0,20.0,20.0,20.0,20.0,0.0,20.0,150.0,30.0,0.0,0.0,50.0,80.0,50.0,25.0,40.0,20.0,70.0,30.0,0.0,20.0,40.0,0.0,35.0,20.0,30.0,45.0,40.0,95.0,50.0,20.0,55.0,50.0,20.0,20.0,40.0,35.0,45.0,20.0,50.0,30.0,20.0,100.0,50.0,50.0,95.0,50.0,50.0,50.0,95.0,80.0,100.0,20.0,0.0,50.0,120.0,80.0,40.0,50.0,50.0,100.0,50.0,100.0,75.0,50.0,20.0,55.0,40.0,40.0,75.0,0.0,40.0,45.0,40.0,30.0,50.0,60.0,40.0,70.0,0.0,40.0,200.0,115.0,50.0,55.0,50.0,45.0,35.0,50.0,20.0,0.0,40.0,40.0,40.0,100.0,20.0,65.0,60.0,40.0,40.0,0.0,50.0,20.0,40.0,0.0,40.0,70.0,0.0,120.0,30.0,175.0,75.0,20.0,35.0,50.0,120.0,70.0,50.0,0.0,200.0,85.0,150.0,20.0,35.0,0.0,50.0,20.0,45.0,95.0,0.0,50.0,20.0,200.0,50.0,50.0,0.0,0.0,40.0,70.0,200.0,85.0,0.0,25.0,20.0,20.0,40.0,40.0,95.0,45.0,100.0,50.0,50.0,20.0,35.0,0.0,50.0,0.0,70.0,120.0,50.0,45.0,50.0,30.0,30.0,40.0,0.0,60.0,50.0,50.0,150.0,65.0,50.0,25.0,0.0,0.0,40.0,20.0,20.0,50.0,200.0,25.0,55.0,0.0,50.0,0.0,200.0,50.0,145.0,50.0,200.0,50.0,200.0,50.0,200.0,200.0,150.0,45.0,45.0,200.0,75.0,50.0,35.0,200.0,50.0,50.0,100.0,50.0,50.0,60.0,0.0,40.0,60.0,55.0,45.0,40.0,50.0,70.0,95.0,0.0,40.0,95.0,95.0,45.0,145.0,50.0,20.0,75.0,200.0,200.0,50.0,20.0,50.0,50.0,25.0,50.0,40.0,75.0,30.0,95.0,75.0,25.0,100.0,60.0,115.0,95.0,50.0,100.0,55.0,20.0,45.0,200.0,75.0,50.0,65.0,65.0,30.0,20.0,20.0,0.0,25.0,20.0,40.0,50.0,35.0,30.0,50.0,20.0,0.0,20.0,20.0,85.0,30.0,125.0,70.0,75.0,50.0,0.0,150.0,45.0,20.0,45.0,45.0,40.0,40.0,75.0,25.0,40.0,20.0,0.0,20.0,20.0,0.0,60.0,30.0,40.0,75.0,30.0,95.0,20.0,50.0,50.0,50.0,25.0,35.0,20.0,60.0,195.0,50.0,50.0,40.0,65.0,20.0,50.0,30.0,95.0,35.0,50.0,30.0,20.0,50.0,95.0,35.0,75.0,50.0,25.0,100.0,55.0,25.0,20.0,30.0,0.0,20.0,20.0,25.0,20.0,50.0,50.0,50.0,35.0,50.0,50.0,20.0,20.0,50.0,20.0,70.0,50.0,20.0,50.0,35.0,20.0,20.0,50.0,195.0,95.0,20.0,40.0,65.0,45.0,50.0,20.0,40.0,20.0,75.0,20.0,20.0,20.0,50.0,100.0,80.0,40.0,50.0,20.0,30.0,40.0,20.0,50.0,50.0,50.0,25.0,50.0,20.0,0.0,35.0,90.0,20.0,0.0,20.0,25.0,0.0,40.0,75.0,35.0,85.0,55.0,40.0,45.0,20.0,25.0,70.0,50.0,30.0,50.0,20.0,50.0,50.0,50.0,20.0,100.0,100.0,50.0,85.0,200.0,50.0,20.0,50.0,50.0,55.0,35.0,65.0,195.0,50.0,95.0,20.0,40.0,35.0,0.0,20.0,40.0,40.0,20.0,20.0,40.0,35.0,35.0,50.0,20.0,40.0,50.0,100.0,95.0,50.0,20.0,20.0,20.0,40.0,25.0,25.0,50.0,50.0,40.0,50.0,35.0,50.0,25.0,30.0,50.0,50.0,50.0,30.0,20.0,50.0,50.0,50.0,40.0,20.0,20.0,100.0,40.0,20.0,25.0,20.0,25.0,20.0,20.0,50.0,95.0,50.0,20.0,105.0,50.0,20.0,40.0,20.0,50.0,50.0,20.0,35.0,20.0,30.0,60.0,20.0,50.0,25.0,50.0,20.0,35.0,50.0,115.0,35.0,50.0,50.0,20.0,50.0,20.0,20.0,20.0,80.0,45.0,50.0,25.0,50.0,60.0,40.0,35.0,195.0,40.0,45.0,50.0,40.0,20.0,40.0,50.0,45.0,50.0,175.0,45.0,50.0,40.0,55.0,20.0,40.0,40.0,20.0,20.0,35.0,40.0,50.0,20.0,20.0,35.0,20.0,40.0,30.0,50.0,20.0,35.0,40.0,20.0,40.0,180.0,35.0,80.0,40.0,40.0,0.0,50.0,35.0,20.0,20.0,50.0,20.0,20.0,20.0,75.0,50.0,95.0,20.0,60.0,20.0,20.0,60.0,40.0,20.0,25.0,50.0,40.0,50.0,40.0,30.0,95.0,40.0,35.0,30.0,20.0,50.0,30.0,50.0,20.0,40.0,20.0,40.0,30.0,95.0,20.0,20.0,20.0,20.0,20.0,135.0,135.0,25.0,25.0,130.0,20.0,125.0,20.0,20.0,20.0,35.0,20.0,40.0,20.0,40.0,85.0,0.0,20.0,35.0,25.0,50.0,45.0,40.0,20.0,20.0,0.0,0.0,0.0,0.0,20.0,170.0,85.0,100.0,50.0,60.0,50.0,40.0,20.0,95.0,20.0,0.0,200.0,25.0,30.0,20.0,20.0,95.0,40.0,40.0,20.0,40.0,50.0,195.0,30.0,35.0,40.0,20.0,25.0,25.0,20.0,0.0,45.0,20.0,40.0,40.0,50.0,30.0,180.0,20.0,200.0,20.0,50.0,20.0,50.0,50.0,50.0,50.0,55.0,50.0,20.0,50.0,20.0,50.0,20.0,75.0,50.0,50.0,60.0,20.0,40.0,50.0,150.0,200.0,40.0,195.0,25.0,200.0,20.0,95.0,40.0,20.0,20.0,40.0,50.0,100.0,40.0,200.0,200.0,190.0,120.0,110.0,165.0,60.0,65.0,200.0,150.0,85.0,60.0,200.0,195.0,195.0,100.0,20.0,195.0,60.0,95.0,150.0,100.0,20.0,20.0,120.0,20.0,175.0,60.0,70.0,20.0,50.0,100.0,100.0,100.0,75.0,80.0,75.0,195.0,150.0,125.0,145.0,50.0,100.0,20.0,115.0,75.0,20.0,50.0,200.0,135.0,95.0,200.0,150.0,195.0,200.0,80.0,150.0,120.0,195.0,65.0,20.0,20.0,200.0,25.0,200.0,50.0,200.0,80.0,150.0,195.0,100.0,60.0,50.0,0.0,0.0,0.0,0.0,100.0,0.0,20.0,30.0,20.0,40.0,50.0,75.0,20.0,65.0,20.0,200.0,195.0,0.0,20.0,50.0,20.0,40.0,40.0,0.0,20.0,50.0,50.0,120.0,195.0,95.0,50.0,0.0,50.0,50.0,0.0,200.0,200.0,150.0,200.0,100.0,50.0,60.0,95.0,30.0,150.0,200.0,20.0,50.0,200.0,195.0,195.0,195.0,95.0,55.0,195.0,200.0,100.0,20.0,35.0,60.0,200.0,20.0,195.0,195.0,195.0,195.0,40.0,195.0,175.0,40.0,95.0,115.0,50.0,0.0,0.0,200.0,20.0,200.0,0.0,20.0,195.0,0.0,85.0,200.0,20.0,150.0,195.0,95.0,150.0,95.0,95.0,50.0,75.0,195.0,20.0,95.0,50.0,30.0,195.0,20.0,100.0,200.0,100.0,35.0,20.0,150.0,25.0,75.0,40.0,20.0,95.0,140.0,50.0,0.0,70.0,100.0,30.0,25.0,150.0,115.0,190.0,85.0,200.0,195.0,100.0,120.0,50.0,200.0,100.0,200.0,200.0,195.0,195.0,50.0,40.0,200.0,30.0,50.0,150.0,100.0,100.0,0.0,0.0,50.0,60.0,0.0,30.0,45.0,0.0,25.0,0.0,0.0,20.0,200.0,100.0,50.0,40.0,20.0,50.0,20.0,30.0,200.0,200.0,40.0,35.0,20.0,30.0,45.0,25.0,20.0,200.0,200.0,100.0,50.0,200.0,195.0,195.0,30.0,200.0,200.0,20.0,200.0,35.0,100.0,75.0,20.0,30.0,60.0,20.0,40.0,40.0,100.0,100.0,20.0,20.0,45.0,195.0,180.0,200.0,50.0,200.0,20.0,0.0,25.0,50.0,0.0,20.0,20.0,120.0,20.0,20.0,20.0,25.0,35.0,150.0,200.0,20.0,50.0,20.0,95.0,20.0,100.0,20.0,50.0,100.0,100.0,60.0,165.0,195.0,195.0,65.0,100.0,50.0,50.0,35.0,195.0,195.0,35.0,200.0,40.0,145.0,20.0,50.0,70.0,50.0,100.0,200.0,75.0,20.0,25.0,0.0,0.0,60.0,20.0,115.0,0.0,125.0,0.0,195.0,50.0,95.0,80.0,20.0,75.0,100.0,195.0,20.0,50.0,30.0,200.0,70.0,95.0,0.0,40.0,25.0,200.0,35.0,0.0,20.0,50.0,100.0,40.0,20.0,20.0,50.0,0.0,60.0,65.0,25.0,125.0,35.0,40.0,95.0,95.0,35.0,20.0,45.0,65.0,20.0,25.0,50.0,50.0,20.0,20.0,115.0,50.0,40.0,20.0,20.0,30.0,95.0,20.0,30.0,50.0,20.0,195.0,20.0,20.0,95.0,120.0,50.0,100.0,200.0,195.0,150.0,75.0,200.0,200.0,115.0,20.0,125.0,150.0,40.0,20.0,65.0,40.0,75.0,170.0,20.0,125.0,45.0,200.0,195.0,0.0,200.0,0.0,20.0,20.0,50.0,0.0,100.0,35.0,35.0,195.0,20.0,50.0,95.0,40.0,25.0,20.0,75.0,20.0,50.0,200.0,200.0,80.0,125.0,20.0,20.0,60.0,30.0,20.0,20.0,55.0,200.0,195.0,75.0,35.0,50.0,20.0,0.0,60.0,120.0,25.0,75.0,40.0,0.0,45.0,0.0,20.0,0.0,30.0,100.0,175.0,95.0,40.0,20.0,20.0,50.0,185.0,20.0,50.0,45.0,200.0,200.0,100.0,20.0,0.0,100.0,40.0,40.0,20.0,50.0,65.0,35.0,95.0,25.0,95.0,20.0,20.0,75.0,110.0,30.0,145.0,95.0,200.0,50.0,50.0,100.0,20.0,25.0,50.0,195.0,50.0,20.0,20.0,100.0,200.0,70.0,20.0,20.0,200.0,200.0,145.0,100.0,20.0,195.0,200.0,150.0,100.0,140.0,40.0,20.0,150.0,200.0,50.0,20.0,40.0,20.0,95.0,50.0,0.0,0.0,95.0,45.0,40.0,50.0,200.0,40.0,100.0,200.0,50.0,35.0,200.0,45.0,100.0,75.0,95.0,75.0,195.0,95.0,75.0,20.0,40.0,95.0,20.0,80.0,20.0,100.0,150.0,120.0,200.0,75.0,195.0,170.0,150.0,20.0,75.0,20.0,90.0,50.0,110.0,50.0,75.0,50.0,145.0,100.0,20.0,20.0,20.0,85.0,50.0,115.0,200.0,45.0,55.0,30.0,55.0,20.0,20.0,50.0,25.0,145.0,40.0,0.0,20.0,0.0,0.0,20.0,100.0,0.0,0.0,20.0,75.0,140.0,40.0,95.0,200.0,95.0,150.0,100.0,105.0,20.0,200.0,95.0,150.0,95.0,20.0,50.0,200.0,20.0,75.0,20.0,75.0,40.0,20.0,20.0,35.0,110.0,100.0,195.0,200.0,150.0,195.0,70.0,75.0,150.0,60.0,50.0,195.0,20.0,100.0,20.0,25.0,80.0,100.0,200.0,90.0,175.0,50.0,120.0,95.0,195.0,25.0,50.0,30.0,40.0,35.0,40.0,20.0,50.0,35.0,0.0,0.0,20.0,195.0,60.0,195.0,195.0,40.0,200.0,90.0,75.0,195.0,195.0,30.0,195.0,30.0,50.0,100.0,40.0,30.0,120.0,50.0,50.0,20.0,85.0,50.0,110.0,145.0,200.0,50.0,190.0,110.0,145.0,200.0,100.0,195.0,30.0,55.0,50.0,35.0,95.0,50.0,45.0,30.0,45.0,150.0,0.0,50.0,40.0,150.0,50.0,190.0,160.0,195.0,150.0,140.0,75.0,200.0,0.0,0.0,195.0,125.0,0.0,100.0,145.0,145.0,0.0,0.0,35.0,200.0,75.0,80.0,110.0,140.0,120.0,150.0,0.0,0.0,20.0,195.0,20.0,30.0,35.0,175.0,95.0,50.0,50.0,40.0,0.0,20.0,30.0,120.0,0.0,85.0,20.0,200.0,60.0,40.0,35.0,145.0,200.0,200.0,120.0,20.0,0.0,35.0,20.0,0.0,0.0,75.0,0.0,100.0,0.0,60.0,0.0,30.0,35.0,60.0,45.0,65.0,55.0,0.0,0.0,20.0,0.0,55.0,30.0,0.0,30.0,20.0,0.0,0.0,0.0,50.0,0.0,200.0,0.0,0.0,0.0,0.0,95.0,0.0,195.0,95.0,0.0,125.0,0.0,0.0,175.0,85.0,75.0,20.0,0.0,0.0,165.0,35.0,80.0,50.0,0.0,100.0,80.0,0.0,20.0,20.0,145.0,100.0,85.0,195.0,30.0,25.0,200.0,50.0,0.0,200.0,0.0,20.0,25.0,0.0,50.0,0.0,55.0,0.0,200.0,30.0,95.0,20.0,20.0,200.0,30.0,25.0,35.0,0.0,30.0,120.0,0.0,60.0,0.0,20.0,200.0,60.0,100.0,0.0,0.0,0.0,75.0,20.0,100.0,195.0,45.0,75.0,35.0,95.0,100.0,25.0,195.0,95.0,50.0,20.0,195.0,200.0,50.0,90.0,90.0,120.0,200.0,195.0,120.0,50.0,55.0,85.0,55.0,195.0,20.0,40.0,50.0,0.0,85.0,20.0,25.0,40.0,20.0,45.0,95.0,0.0,0.0,0.0,25.0,125.0,50.0,80.0,45.0,25.0,0.0,200.0,50.0,45.0,0.0,150.0,0.0,45.0,50.0,200.0,200.0,40.0,0.0,65.0,45.0,35.0,195.0,95.0,20.0,200.0,20.0,40.0,50.0,200.0,40.0,60.0,0.0,0.0,0.0,30.0,0.0,200.0,145.0,50.0,200.0,40.0,0.0,20.0,95.0,50.0,50.0,20.0,40.0,50.0,20.0,35.0,20.0,35.0,25.0,195.0,100.0,200.0,200.0,25.0,100.0,50.0,150.0,100.0,195.0,20.0,75.0,95.0,30.0,75.0,40.0,35.0,40.0,65.0,0.0,0.0,0.0,100.0,0.0,50.0,30.0,20.0,0.0,20.0,200.0,95.0,85.0,20.0,55.0,25.0,50.0,50.0,85.0,0.0,120.0,20.0,40.0,0.0,125.0,50.0,75.0,50.0,200.0,0.0,100.0,40.0,120.0,50.0,0.0,50.0,20.0,20.0,200.0,20.0,0.0,20.0,0.0,125.0,95.0,105.0,100.0,20.0,50.0,20.0,40.0,25.0,0.0,95.0,195.0,20.0,200.0,30.0,150.0,60.0,200.0,20.0,195.0,50.0,200.0,20.0,40.0,50.0,50.0,95.0,95.0,100.0,50.0,35.0,95.0,35.0,60.0,65.0,200.0,20.0,200.0,20.0,20.0,20.0,20.0,20.0,200.0,200.0,50.0,20.0,20.0,30.0,25.0,50.0,20.0,85.0,20.0,75.0,20.0,40.0,50.0,20.0,50.0,20.0,85.0,65.0,50.0,0.0,0.0,20.0,55.0,40.0,50.0,145.0,95.0,200.0,40.0,95.0,100.0,95.0,50.0,30.0,120.0,20.0,20.0,45.0,20.0,25.0,0.0,30.0,150.0,40.0,90.0,0.0,20.0,20.0,30.0,200.0,0.0,75.0,95.0,50.0,185.0,20.0,40.0,25.0,0.0,200.0,125.0,200.0,35.0,45.0,20.0,20.0,25.0,20.0,100.0,30.0,150.0,45.0,0.0,40.0,30.0,0.0,50.0,20.0,20.0,150.0,100.0,25.0,40.0,50.0,45.0],\"y0\":\" \",\"yaxis\":\"y\",\"type\":\"box\"},{\"alignmentgroup\":\"True\",\"hovertemplate\":\"variable=num_subscribers\\u003cbr\\u003evalue=%{y}\\u003cextra\\u003e\\u003c\\u002fextra\\u003e\",\"legendgroup\":\"num_subscribers\",\"marker\":{\"color\":\"#EF553B\"},\"name\":\"num_subscribers\",\"notched\":false,\"offsetgroup\":\"num_subscribers\",\"orientation\":\"v\",\"showlegend\":true,\"x0\":\" \",\"xaxis\":\"x2\",\"y\":[2147.0,2792.0,2174.0,2451.0,1276.0,9221.0,1540.0,2917.0,5172.0,827.0,4284.0,1380.0,3607.0,4061.0,294.0,2276.0,4919.0,2666.0,5354.0,8095.0,809.0,2295.0,10149.0,1916.0,2507.0,5786.0,5334.0,4005.0,2877.0,1026.0,1165.0,1843.0,8797.0,1030.0,1041.0,7884.0,16900.0,11441.0,22257.0,8575.0,24481.0,3811.0,4991.0,7489.0,20195.0,10042.0,367.0,10603.0,1197.0,2893.0,1580.0,10605.0,2996.0,6219.0,1113.0,8314.0,5572.0,1433.0,936.0,658.0,8121.0,4187.0,9445.0,3255.0,7941.0,1680.0,10100.0,5050.0,2310.0,5528.0,6451.0,12394.0,1793.0,3223.0,16385.0,1487.0,2951.0,2697.0,3979.0,3190.0,1406.0,4252.0,11958.0,7743.0,2134.0,1214.0,3870.0,2146.0,484.0,1057.0,1754.0,1239.0,2493.0,2602.0,2000.0,1514.0,1361.0,61.0,1513.0,1374.0,2103.0,1480.0,2516.0,50855.0,1971.0,837.0,17160.0,1723.0,6811.0,2060.0,2318.0,2153.0,19339.0,3177.0,1535.0,1027.0,307.0,2096.0,1315.0,29167.0,1056.0,2212.0,2946.0,271.0,3771.0,3143.0,1951.0,4022.0,11724.0,2283.0,1181.0,1852.0,4661.0,989.0,5841.0,1087.0,611.0,1922.0,9015.0,661.0,1077.0,6050.0,3523.0,56659.0,1444.0,2900.0,1437.0,453.0,2437.0,5057.0,6092.0,4530.0,6967.0,727.0,1560.0,1047.0,1045.0,3050.0,2988.0,2623.0,1924.0,3804.0,4133.0,1420.0,1120.0,668.0,4086.0,1033.0,832.0,677.0,3125.0,1081.0,1645.0,3348.0,939.0,2115.0,2230.0,2053.0,1793.0,3775.0,521.0,2222.0,1097.0,2506.0,975.0,1398.0,1096.0,1703.0,1446.0,2736.0,2000.0,853.0,3094.0,4077.0,4117.0,1369.0,1224.0,3870.0,897.0,1311.0,1338.0,1589.0,1189.0,701.0,1105.0,123.0,5874.0,354.0,727.0,3465.0,54.0,627.0,650.0,965.0,1113.0,739.0,1201.0,2474.0,494.0,1580.0,617.0,2235.0,2293.0,1094.0,1449.0,3251.0,607.0,1218.0,1132.0,656.0,3339.0,1271.0,1574.0,1393.0,1029.0,843.0,1730.0,1182.0,1160.0,1730.0,1260.0,871.0,1566.0,2987.0,973.0,2177.0,1772.0,1850.0,1780.0,4607.0,12.0,13.0,2.0,2571.0,8.0,7.0,217.0,22.0,131.0,5.0,116.0,27.0,912.0,1964.0,1033.0,913.0,2092.0,2240.0,4601.0,2953.0,1091.0,1459.0,4855.0,4034.0,57.0,26.0,14.0,49.0,11.0,9.0,91.0,44.0,106.0,2079.0,135.0,31.0,217.0,611.0,5007.0,1168.0,4653.0,3035.0,454.0,325.0,228.0,562.0,577.0,10540.0,912.0,2955.0,190.0,1736.0,1135.0,2101.0,1048.0,1740.0,1749.0,1187.0,1263.0,115.0,43.0,55.0,18.0,14.0,47.0,134.0,153.0,47.0,42.0,120.0,68.0,844.0,2045.0,1168.0,2342.0,2268.0,967.0,1185.0,631.0,968.0,1132.0,114.0,204.0,1548.0,409.0,1169.0,249.0,690.0,1340.0,274.0,4863.0,1923.0,224.0,721.0,51.0,1276.0,2768.0,1735.0,8985.0,1119.0,2591.0,1046.0,2239.0,1882.0,5931.0,4931.0,3056.0,1303.0,2924.0,1405.0,1121.0,1776.0,1643.0,801.0,951.0,1278.0,1184.0,1115.0,1086.0,3730.0,810.0,2338.0,3403.0,4695.0,17847.0,2692.0,6374.0,2305.0,589.0,22.0,2490.0,2715.0,1506.0,2197.0,338.0,1076.0,2769.0,1531.0,1136.0,2187.0,1609.0,2895.0,1023.0,1988.0,1053.0,4497.0,2379.0,993.0,10338.0,1423.0,3555.0,567.0,1085.0,7159.0,11517.0,1.0,10.0,41.0,8.0,43.0,23.0,9.0,25.0,7.0,12.0,1.0,29.0,17.0,132.0,126.0,32.0,480.0,27.0,167.0,131.0,927.0,37.0,19.0,43.0,751.0,49.0,45.0,1685.0,4269.0,124.0,811.0,956.0,126.0,26.0,91.0,30.0,226.0,52.0,89.0,267.0,4770.0,265.0,2046.0,605.0,472.0,388.0,98.0,1888.0,0.0,0.0,0.0,0.0,0.0,0.0,0.0,0.0,0.0,0.0,0.0,0.0,495.0,375.0,1730.0,283.0,136.0,23.0,683.0,618.0,188.0,911.0,512.0,769.0,302.0,149.0,72.0,33.0,13.0,79.0,139.0,2247.0,17.0,45.0,33.0,54.0,1498.0,2317.0,5077.0,65576.0,1202.0,22344.0,2189.0,431.0,1199.0,5685.0,1512.0,1806.0,668.0,3757.0,828.0,111.0,39.0,613.0,57.0,246.0,83.0,62.0,31.0,367.0,3.0,3.0,2.0,3.0,1.0,1.0,2.0,1.0,2.0,1.0,1.0,0.0,731.0,66.0,51.0,507.0,9.0,375.0,80.0,152.0,37.0,194.0,1184.0,638.0,64.0,44.0,814.0,211.0,768.0,29.0,156.0,2144.0,376.0,214.0,406.0,394.0,438.0,56.0,58.0,1047.0,166.0,605.0,38.0,46.0,217.0,78.0,35.0,80.0,1941.0,1367.0,1519.0,2025.0,1213.0,1092.0,5099.0,869.0,59.0,10670.0,1741.0,19614.0,4.0,1.0,4.0,4.0,8.0,8.0,11.0,18.0,16.0,6.0,4.0,1.0,210.0,4.0,273.0,237.0,368.0,86.0,204.0,570.0,225.0,37.0,36.0,218.0,50.0,148.0,74.0,260.0,299.0,4.0,65.0,101.0,92.0,76.0,14.0,18.0,21.0,18.0,21.0,49.0,168.0,16.0,2.0,336.0,20.0,28.0,11.0,11.0,360.0,1189.0,9995.0,100.0,3426.0,592.0,1222.0,1532.0,5768.0,343.0,540.0,2031.0,7.0,4.0,21.0,29.0,50.0,1.0,5.0,6.0,16.0,70.0,110.0,7.0,1186.0,632.0,1237.0,513.0,4103.0,1489.0,547.0,353.0,507.0,1079.0,3667.0,2222.0,9.0,225.0,13.0,373.0,306.0,14.0,51.0,13.0,1318.0,347.0,274.0,9.0,359.0,6024.0,315.0,280.0,401.0,701.0,57.0,205.0,62.0,114.0,789.0,446.0,17.0,16.0,117.0,147.0,7.0,247.0,143.0,621.0,6.0,5.0,2674.0,227.0,4480.0,1329.0,5144.0,2635.0,1750.0,3360.0,3425.0,2688.0,1095.0,1680.0,2046.0,1699.0,1071.0,1037.0,223.0,653.0,230.0,2281.0,4702.0,366.0,521.0,252.0,1101.0,223.0,135.0,23.0,112.0,2122.0,152.0,267.0,155.0,87.0,2146.0,154.0,4248.0,517.0,2638.0,2914.0,6050.0,16.0,3917.0,1122.0,4158.0,1252.0,5108.0,2981.0,1223.0,7750.0,564.0,2075.0,45.0,44.0,308.0,55.0,718.0,206.0,18.0,86.0,294.0,27.0,375.0,94.0,2080.0,3137.0,155.0,1732.0,3372.0,2185.0,1008.0,256.0,1173.0,1352.0,49.0,124.0,105.0,117.0,6533.0,7.0,30.0,91.0,28.0,83.0,623.0,1625.0,0.0,0.0,0.0,1.0,0.0,0.0,0.0,0.0,0.0,0.0,737.0,554.0,807.0,779.0,1777.0,841.0,56.0,1909.0,775.0,1255.0,1193.0,1309.0,623.0,276.0,314.0,1942.0,885.0,226.0,461.0,152.0,1017.0,1074.0,440.0,978.0,36.0,74.0,78.0,10.0,39.0,37.0,2166.0,78.0,21.0,1086.0,7.0,168.0,2801.0,12217.0,6185.0,477.0,1334.0,5407.0,9483.0,1032.0,8236.0,2383.0,3283.0,2650.0,1551.0,545.0,663.0,3519.0,825.0,70.0,357.0,853.0,397.0,74.0,1254.0,89.0,38.0,18.0,103.0,7.0,104.0,42.0,507.0,241.0,226.0,50.0,100.0,99.0,99.0,1192.0,209.0,5529.0,81.0,1924.0,646.0,520.0,1440.0,452.0,178.0,21.0,12.0,209.0,505.0,16.0,25.0,229.0,6.0,1.0,10.0,1.0,34.0,0.0,0.0,0.0,0.0,0.0,0.0,0.0,0.0,0.0,0.0,459.0,266.0,104.0,1509.0,212.0,462.0,90.0,153.0,1055.0,157.0,103.0,1067.0,58.0,74.0,338.0,27.0,76.0,27.0,68.0,112.0,72.0,335.0,22.0,41.0,1.0,16.0,3.0,4.0,2.0,12.0,10.0,12.0,5.0,1.0,2.0,9.0,42.0,110.0,420.0,206.0,164.0,69.0,28.0,90.0,13.0,31.0,13.0,2119.0,136.0,797.0,503.0,1150.0,1403.0,916.0,627.0,168.0,2554.0,120.0,750.0,217.0,106.0,397.0,44.0,30.0,95.0,55.0,94.0,578.0,393.0,116.0,1888.0,412.0,40.0,222.0,831.0,485.0,232.0,135.0,61.0,61.0,874.0,22.0,5597.0,261.0,83.0,152.0,176.0,8.0,327.0,264.0,15.0,104.0,71.0,26.0,11.0,1294.0,32.0,313.0,635.0,1311.0,288.0,97.0,53.0,1102.0,57.0,694.0,137.0,12.0,18.0,170.0,119.0,2058.0,35.0,40.0,13.0,4.0,71.0,71.0,6.0,1.0,5.0,1.0,4.0,10.0,6.0,2.0,2.0,2.0,2.0,6.0,2.0,206.0,313.0,193.0,66.0,270.0,139.0,77.0,225.0,23.0,4876.0,244.0,1278.0,31.0,8.0,40.0,9.0,45.0,13.0,4.0,20.0,9.0,29.0,6.0,7.0,859.0,5983.0,1673.0,1284.0,394.0,689.0,649.0,187.0,1798.0,465.0,813.0,326.0,26.0,26.0,28.0,122.0,149.0,205.0,11.0,3.0,108.0,8.0,9.0,16.0,11.0,12.0,11.0,2.0,9.0,15.0,7.0,27.0,5.0,3.0,5.0,5.0,132.0,112.0,285.0,91.0,32.0,2740.0,59.0,16.0,22.0,15.0,1059.0,187.0,0.0,0.0,0.0,1089.0,743.0,1362.0,405.0,1168.0,16.0,3840.0,7183.0,483.0,172.0,256.0,1542.0,64.0,384.0,3014.0,454.0,312.0,315.0,609.0,207.0,399.0,1175.0,543.0,1634.0,1013.0,319.0,1125.0,2481.0,1006.0,1044.0,1240.0,504.0,15.0,358.0,80.0,133.0,207.0,426.0,45.0,1280.0,142.0,188.0,718.0,293.0,93.0,894.0,353.0,829.0,1195.0,335.0,500.0,159.0,739.0,87.0,185.0,741.0,576.0,1046.0,486.0,52.0,106.0,38.0,32.0,171.0,79.0,397.0,85.0,1696.0,201.0,1235.0,137.0,384.0,103.0,379.0,1573.0,150.0,48.0,781.0,952.0,612.0,1819.0,551.0,788.0,408.0,944.0,323.0,101.0,984.0,89.0,129.0,249.0,75.0,2252.0,462.0,1720.0,390.0,4297.0,1076.0,9367.0,8901.0,4235.0,14440.0,12340.0,2027.0,381.0,69.0,21.0,15276.0,26742.0,5326.0,36288.0,15500.0,7282.0,10875.0,8196.0,1360.0,6858.0,18303.0,1789.0,293.0,662.0,1279.0,1080.0,120.0,1085.0,447.0,372.0,721.0,736.0,114.0,331.0,0.0,0.0,0.0,0.0,0.0,0.0,0.0,0.0,217.0,334.0,817.0,637.0,2358.0,3721.0,1148.0,2489.0,1782.0,6975.0,9464.0,2044.0,5787.0,25277.0,6944.0,6028.0,5104.0,2476.0,3000.0,185.0,418.0,431.0,23.0,126.0,3329.0,720.0,800.0,1477.0,1552.0,1076.0,1016.0,919.0,1224.0,774.0,715.0,1768.0,2555.0,426.0,3108.0,276.0,390.0,6754.0,5086.0,1146.0,47811.0,1564.0,739.0,1029.0,2665.0,1079.0,1440.0,1401.0,2634.0,1046.0,505.0,827.0,8786.0,253.0,1933.0,1504.0,1332.0,1150.0,1056.0,1350.0,1586.0,821.0,56.0,1150.0,1557.0,246.0,3103.0,1090.0,1235.0,946.0,1500.0,1452.0,24.0,3.0,20.0,33.0,97.0,8.0,4.0,10.0,2.0,5.0,1.0,3.0,311.0,447.0,616.0,797.0,549.0,274.0,709.0,3812.0,1373.0,441.0,201.0,661.0,300.0,211.0,65.0,43.0,44.0,33.0,20.0,37.0,190.0,129.0,123.0,38.0,3251.0,2091.0,1002.0,806.0,389.0,1031.0,500.0,68.0,651.0,341.0,867.0,142.0,1825.0,24687.0,2266.0,5175.0,3512.0,797.0,2745.0,2361.0,1530.0,1873.0,1338.0,1479.0,38.0,934.0,50.0,27.0,6429.0,422.0,410.0,15.0,115.0,272.0,280.0,354.0,44044.0,1367.0,1754.0,2067.0,5301.0,4294.0,1679.0,327.0,740.0,1348.0,1249.0,1275.0,3117.0,896.0,4208.0,3903.0,1710.0,1606.0,4776.0,23229.0,1456.0,1534.0,2199.0,1202.0,2004.0,778.0,502.0,1526.0,1468.0,798.0,2044.0,1310.0,1145.0,326.0,2228.0,2420.0,387.0,421.0,987.0,324.0,319.0,1087.0,270.0,124.0,371.0,1098.0,107.0,507.0,646.0,1738.0,2354.0,238.0,165.0,1080.0,489.0,706.0,507.0,770.0,1028.0,545.0,690.0,2911.0,734.0,4353.0,521.0,3481.0,711.0,1123.0,12103.0,1418.0,3390.0,53851.0,3.0,1.0,3.0,1.0,2.0,1.0,1.0,2.0,1.0,0.0,0.0,3.0,25.0,1.0,108.0,13.0,11.0,37.0,7.0,1.0,1.0,6.0,18.0,1905.0,3360.0,941.0,4927.0,2087.0,2938.0,2911.0,1797.0,3192.0,1538.0,5072.0,1086.0,213.0,135.0,164.0,290.0,183.0,35.0,86.0,96.0,353.0,33.0,172.0,155.0,27.0,2.0,7.0,18.0,4.0,139.0,18.0,5.0,167.0,311.0,13.0,34.0,1522.0,6039.0,4449.0,6428.0,24857.0,2873.0,5840.0,1011.0,6215.0,33205.0,1452.0,1343.0,41.0,314.0,239.0,507.0,228.0,21.0,92.0,91.0,33.0,177.0,668.0,92.0,8.0,22.0,3.0,2.0,2.0,1.0,2.0,11.0,9.0,9.0,1.0,1.0,6.0,1.0,4.0,1.0,2.0,4.0,4.0,1.0,1.0,1.0,1.0,0.0,885.0,2863.0,915.0,3525.0,2035.0,2267.0,1197.0,1043.0,1356.0,1657.0,655.0,1282.0,35.0,220.0,481.0,1013.0,593.0,679.0,2346.0,140.0,528.0,297.0,228.0,1207.0,5.0,4.0,36.0,3.0,3.0,1.0,2.0,13.0,1.0,1.0,5.0,3.0,970.0,342.0,106.0,229.0,437.0,500.0,725.0,142.0,317.0,50.0,115.0,780.0,0.0,0.0,0.0,0.0,0.0,343.0,0.0,0.0,384.0,677.0,1110.0,858.0,1359.0,9847.0,2416.0,1524.0,11893.0,3381.0,1270.0,1753.0,3618.0,2489.0,4080.0,1602.0,7.0,8.0,7.0,57.0,91.0,11.0,6.0,5.0,5.0,6.0,34.0,7.0,5471.0,3599.0,4961.0,3377.0,1323.0,2599.0,6612.0,1675.0,5850.0,2325.0,1276.0,1000.0,86.0,11.0,42.0,28.0,5.0,74.0,27.0,13.0,27.0,1433.0,110.0,15.0,19.0,87.0,802.0,14.0,1132.0,347.0,219.0,30.0,130.0,509.0,342.0,87.0,259.0,72.0,363.0,23.0,78.0,99.0,14.0,282.0,113.0,66.0,52.0,116.0,623.0,827.0,5000.0,793.0,972.0,2427.0,3131.0,5950.0,4550.0,2081.0,785.0,2424.0,57.0,50.0,262.0,45.0,272.0,10.0,12.0,43.0,165.0,83.0,17.0,34.0,293.0,113.0,72.0,155.0,48.0,1447.0,86.0,13.0,15.0,28.0,62.0,125.0,33.0,51.0,361.0,50.0,4.0,134.0,36.0,32.0,30.0,22.0,452.0,67.0,1081.0,189.0,775.0,88.0,598.0,145.0,445.0,237.0,1005.0,485.0,238.0,1116.0,105.0,23.0,82.0,13.0,19.0,105.0,94.0,5.0,98.0,5.0,6.0,5.0,91.0,3.0,121.0,105.0,17.0,380.0,494.0,518.0,214.0,11.0,33.0,9.0,817.0,286.0,774.0,41.0,30.0,837.0,11.0,254.0,40.0,84.0,23.0,32.0,4529.0,823.0,1472.0,1327.0,924.0,898.0,1039.0,1474.0,1167.0,1589.0,219.0,835.0,747.0,1337.0,530.0,1297.0,295.0,2084.0,515.0,1026.0,414.0,198.0,250.0,180.0,128.0,709.0,117.0,305.0,153.0,81.0,85.0,73.0,178.0,122.0,402.0,119.0,605.0,476.0,707.0,438.0,1199.0,966.0,877.0,1504.0,1064.0,117.0,1229.0,922.0,662.0,1732.0,326.0,1284.0,1029.0,886.0,1213.0,1605.0,2673.0,1987.0,1052.0,1548.0,257.0,1818.0,543.0,95.0,321.0,408.0,43.0,239.0,584.0,144.0,297.0,1137.0,86.0,98.0,2566.0,55.0,537.0,595.0,659.0,186.0,460.0,252.0,87.0,1720.0,390.0,2618.0,390.0,496.0,341.0,97.0,1249.0,861.0,973.0,868.0,193.0,9193.0,5830.0,1224.0,407.0,3481.0,124.0,2002.0,14495.0,746.0,920.0,362.0,927.0,953.0,469.0,450.0,600.0,1018.0,181.0,8240.0,582.0,1235.0,380.0,1842.0,3137.0,4967.0,2154.0,936.0,1224.0,1030.0,14922.0,2788.0,2686.0,1594.0,1018.0,1194.0,270.0,3325.0,172.0,834.0,382.0,452.0,5543.0,153.0,1582.0,560.0,111.0,1060.0,452.0,2346.0,103.0,833.0,2358.0,1814.0,2543.0,3042.0,809.0,9351.0,811.0,1424.0,193.0,65.0,59.0,545.0,668.0,100.0,5769.0,293.0,492.0,500.0,346.0,353.0,1174.0,1513.0,6292.0,6853.0,475.0,776.0,1337.0,701.0,1350.0,1141.0,1203.0,5188.0,0.0,462.0,21701.0,3157.0,32935.0,10869.0,5316.0,4192.0,8857.0,10435.0,8113.0,7178.0,2102.0,1329.0,1220.0,3206.0,482.0,2498.0,478.0,1788.0,1249.0,1976.0,567.0,2045.0,1204.0,1227.0,47652.0,1638.0,568.0,3013.0,2795.0,491.0,1018.0,2164.0,2415.0,2285.0,1268.0,2026.0,2164.0,969.0,1987.0,1319.0,4560.0,1593.0,6565.0,4133.0,1541.0,14560.0,7140.0,1495.0,1200.0,1674.0,54.0,940.0,1152.0,2558.0,850.0,3937.0,6271.0,4557.0,5292.0,4982.0,4733.0,3371.0,1409.0,26504.0,3141.0,1449.0,2692.0,3312.0,2015.0,2015.0,7.0,228.0,65.0,1094.0,60.0,83.0,122.0,106.0,55.0,77.0,92.0,29.0,8217.0,1305.0,916.0,2357.0,1951.0,1284.0,769.0,3122.0,1269.0,1618.0,89.0,66.0,630.0,249.0,198.0,84.0,58.0,186.0,21.0,431.0,53.0,2610.0,26.0,32.0,1631.0,12.0,12.0,236.0,7.0,11.0,11.0,12.0,135.0,5.0,57.0,7.0,73.0,35.0,30.0,32.0,39.0,90.0,37.0,42.0,276.0,88.0,10.0,11.0,29.0,7.0,9.0,8.0,8.0,8.0,17.0,2.0,4.0,8.0,122.0,5.0,11.0,36.0,111.0,888.0,53.0,65.0,38.0,18.0,22.0,211.0,10.0,12.0,17.0,11.0,8.0,7.0,6.0,2.0,5.0,14.0,11.0,11.0,57.0,377.0,273.0,406.0,556.0,115.0,420.0,32.0,26.0,116.0,425.0,736.0,68.0,104.0,189.0,738.0,365.0,146.0,383.0,92.0,291.0,61.0,288.0,78.0,594.0,489.0,13.0,103.0,231.0,44.0,261.0,114.0,45.0,3167.0,105.0,85.0,335.0,4452.0,332.0,287.0,1876.0,113.0,158.0,480.0,228.0,42.0,10.0,103.0,75.0,66.0,61.0,184.0,24.0,205.0,19.0,120.0,232.0,148.0,10.0,72.0,172.0,10.0,25.0,1.0,13.0,69.0,10.0,25.0,21.0,5.0,418.0,113.0,78.0,51.0,58.0,56.0,162.0,2577.0,62.0,42.0,28.0,261.0,44.0,4.0,98.0,19.0,197.0,58.0,21.0,92.0,239.0,5.0,173.0,10.0,12.0,54.0,28.0,238.0,512.0,177.0,61.0,21.0,115.0,510.0,147.0,9.0,5.0,7.0,4.0,4.0,4.0,2.0,3.0,3.0,3.0,1.0,1.0,1.0,9.0,44.0,13.0,17.0,118.0,5.0,11.0,113.0,36.0,10.0,12.0,78.0,31.0,205.0,213.0,33.0,284.0,8.0,98.0,119.0,45.0,297.0,137.0,112.0,28.0,79.0,333.0,48.0,41.0,209.0,119.0,139.0,41.0,95.0,184.0,8.0,376.0,37.0,169.0,20.0,89.0,98.0,265.0,196.0,292.0,14.0,16.0,114.0,185.0,42.0,57.0,17.0,70.0,245.0,76.0,44.0,80.0,68.0,54.0,80.0,85.0,57.0,12.0,11.0,42.0,20.0,41.0,5.0,119.0,22.0,20.0,17.0,82.0,79.0,21.0,29.0,31.0,156.0,12.0,74.0,353.0,137.0,59.0,47.0,71.0,21.0,36.0,8.0,375.0,215.0,80.0,31.0,56.0,18.0,57.0,59.0,6.0,4.0,4.0,3.0,7.0,2.0,3.0,3.0,1.0,3.0,3.0,3.0,164.0,28.0,47.0,15.0,151.0,14.0,16.0,19.0,14.0,40.0,41.0,9.0,46.0,75.0,19.0,22.0,17.0,26.0,2.0,13.0,1.0,14.0,6.0,31.0,1.0,1.0,1.0,0.0,0.0,0.0,0.0,0.0,0.0,0.0,0.0,0.0,31.0,237.0,120.0,384.0,3160.0,455.0,82.0,136.0,63.0,64.0,28.0,27.0,0.0,970.0,991.0,61.0,1.0,1981.0,245.0,38.0,255.0,62.0,186.0,62.0,13.0,25.0,17.0,36.0,349.0,85.0,24.0,26.0,19.0,30.0,45.0,305.0,26.0,75.0,32.0,70.0,200.0,478.0,73.0,33.0,59.0,192.0,57.0,81.0,2995.0,181.0,589.0,48.0,81.0,225.0,438.0,152.0,244.0,248.0,111.0,52.0,10.0,10.0,9.0,7.0,7.0,1.0,6.0,4.0,6.0,3.0,5.0,5.0,43285.0,47886.0,2577.0,8777.0,23764.0,3541.0,2669.0,1966.0,4090.0,2578.0,24978.0,3133.0,15276.0,12458.0,1087.0,14074.0,26800.0,9425.0,2780.0,35267.0,2607.0,1502.0,9359.0,14842.0,6082.0,12366.0,4720.0,7057.0,16829.0,4872.0,5809.0,13439.0,733.0,14813.0,6601.0,2804.0,9421.0,9668.0,2760.0,9831.0,486.0,11170.0,9384.0,9067.0,10247.0,10610.0,6162.0,1802.0,4783.0,2097.0,17714.0,9554.0,1129.0,22213.0,2412.0,18324.0,1696.0,7169.0,12893.0,4708.0,1050.0,7852.0,1683.0,119.0,1735.0,3699.0,10103.0,7380.0,3903.0,4892.0,2786.0,15064.0,22623.0,952.0,3415.0,7827.0,9773.0,13457.0,1399.0,4028.0,1371.0,12953.0,5125.0,25864.0,5211.0,8234.0,2687.0,5143.0,1827.0,5026.0,1301.0,23412.0,8691.0,3119.0,10150.0,14026.0,2214.0,21147.0,19909.0,1385.0,10780.0,604.0,1772.0,3357.0,796.0,4123.0,2697.0,997.0,713.0,4259.0,1849.0,1645.0,64128.0,2160.0,7660.0,2025.0,1548.0,2472.0,13535.0,5795.0,2643.0,3704.0,1678.0,960.0,1811.0,4123.0,26697.0,5921.0,3011.0,8768.0,1673.0,16158.0,4057.0,6851.0,2234.0,9607.0,4689.0,9375.0,4848.0,12838.0,24861.0,9762.0,11262.0,1270.0,17895.0,11285.0,1040.0,23572.0,3801.0,12068.0,5559.0,1838.0,2104.0,15187.0,10606.0,6497.0,11536.0,16282.0,949.0,1995.0,6636.0,7146.0,1703.0,12815.0,44.0,502.0,627.0,851.0,29990.0,10179.0,563.0,2320.0,2353.0,13210.0,1004.0,3015.0,8693.0,8711.0,9945.0,18143.0,13882.0,57422.0,10179.0,18101.0,2789.0,1437.0,10864.0,14254.0,6134.0,7867.0,8594.0,1892.0,3960.0,10518.0,10008.0,1023.0,3392.0,7213.0,4183.0,25854.0,6153.0,4010.0,5022.0,5547.0,2532.0,2362.0,7741.0,1658.0,3324.0,7184.0,4442.0,7196.0,2371.0,8496.0,1346.0,14103.0,3295.0,4375.0,12021.0,26673.0,69186.0,11384.0,2390.0,7059.0,3179.0,1870.0,6073.0,5335.0,8755.0,4144.0,6420.0,1741.0,9881.0,3252.0,5089.0,5962.0,5181.0,3493.0,417.0,1599.0,15134.0,2596.0,1783.0,12974.0,785.0,4115.0,13242.0,1154.0,16212.0,16409.0,1337.0,1469.0,2660.0,421.0,31070.0,1737.0,11492.0,5439.0,8059.0,12105.0,3877.0,2919.0,2409.0,2083.0,2076.0,2918.0,842.0,7130.0,5549.0,155.0,1697.0,2526.0,2342.0,21730.0,1117.0,2401.0,3887.0,1156.0,1385.0,10890.0,1126.0,3652.0,1723.0,3759.0,1653.0,5387.0,4563.0,3757.0,4193.0,3694.0,1905.0,2875.0,613.0,633.0,1515.0,900.0,2382.0,32260.0,3249.0,1274.0,72932.0,387.0,2227.0,2652.0,2520.0,3150.0,4011.0,6937.0,4839.0,2346.0,897.0,9381.0,7090.0,2204.0,1212.0,5328.0,5715.0,2074.0,12328.0,4537.0,5117.0,3854.0,1902.0,37141.0,1649.0,3012.0,6890.0,4628.0,17113.0,244.0,1472.0,31499.0,3539.0,1415.0,2965.0,655.0,18777.0,1591.0,1925.0,16926.0,13406.0,5739.0,16731.0,1613.0,1780.0,7438.0,21087.0,1157.0,912.0,2039.0,16527.0,1000.0,26541.0,467.0,947.0,9832.0,2184.0,2853.0,16590.0,1626.0,9056.0,8320.0,4106.0,5324.0,5603.0,4183.0,301.0,3883.0,236.0,1758.0,1266.0,920.0,5004.0,880.0,342.0,205.0,527.0,1517.0,130.0,1018.0,4830.0,402.0,755.0,1087.0,170.0,1054.0,245.0,353.0,464.0,298.0,2238.0,1764.0,3380.0,1030.0,1406.0,4732.0,1724.0,1618.0,5056.0,1562.0,1547.0,2626.0,11167.0,466.0,1355.0,5065.0,1763.0,6413.0,5398.0,7017.0,6510.0,1898.0,3299.0,817.0,1798.0,3688.0,1611.0,11574.0,2547.0,2063.0,22355.0,8577.0,10674.0,783.0,12781.0,5484.0,7884.0,15724.0,3106.0,6293.0,8711.0,8067.0,9332.0,3271.0,1367.0,5077.0,6508.0,4687.0,11758.0,300.0,3784.0,1209.0,1428.0,716.0,12563.0,1518.0,1241.0,380.0,395.0,1169.0,1114.0,5738.0,6648.0,1605.0,4848.0,4743.0,1520.0,3601.0,4033.0,17071.0,13708.0,430.0,2643.0,1731.0,1313.0,775.0,2243.0,2749.0,2012.0,1080.0,3831.0,2071.0,2755.0,1216.0,2314.0,8770.0,1764.0,2837.0,1655.0,2721.0,1152.0,15493.0,1562.0,9786.0,1904.0,3357.0,2200.0,5456.0,2134.0,4675.0,1433.0,1734.0,3461.0,4076.0,567.0,1723.0,1282.0,2052.0,1874.0,1119.0,1023.0,3697.0,21682.0,1975.0,553.0,2650.0,2964.0,1624.0,1640.0,1627.0,1815.0,1011.0,2430.0,5318.0,7018.0,1634.0,3590.0,4030.0,4020.0,2635.0,7211.0,1496.0,4447.0,1410.0,6628.0,1908.0,1248.0,4587.0,2351.0,3898.0,3185.0,557.0,408.0,1703.0,17554.0,7368.0,676.0,3632.0,10576.0,11643.0,13960.0,5085.0,1130.0,14606.0,2971.0,2814.0,1355.0,2335.0,2051.0,1069.0,1439.0,1948.0,841.0,937.0,583.0,577.0,9364.0,5052.0,694.0,511.0,937.0,1611.0,103.0,670.0,1606.0,260.0,122.0,877.0,1215.0,3323.0,11892.0,15106.0,975.0,5263.0,596.0,7517.0,21653.0,9028.0,7375.0,5177.0,6548.0,28125.0,9349.0,14260.0,7720.0,2142.0,12873.0,12882.0,12368.0,8625.0,2641.0,1052.0,13920.0,7416.0,1822.0,1010.0,1425.0,7014.0,7785.0,4407.0,602.0,1712.0,1894.0,3258.0,7449.0,538.0,1271.0,1407.0,2311.0,1002.0,2565.0,210.0,1186.0,1421.0,958.0,1550.0,1309.0,251.0,723.0,11026.0,1318.0,3894.0,12293.0,1447.0,487.0,9110.0,1519.0,948.0,2023.0,1858.0,2244.0,3619.0,22999.0,2743.0,1229.0,3701.0,710.0,6588.0,7331.0,4463.0,1873.0,1388.0,1292.0,1147.0,1109.0,2002.0,876.0,1186.0,973.0,379.0,2177.0,1063.0,1309.0,7489.0,9103.0,3169.0,7501.0,1967.0,28694.0,909.0,4820.0,24575.0,9109.0,18818.0,1121.0,14551.0,5800.0,4867.0,1006.0,4616.0,8968.0,7062.0,3073.0,2706.0,1702.0,3420.0,7130.0,918.0,1520.0,461.0,116.0,207.0,333.0,305.0,644.0,415.0,926.0,3118.0,4290.0,959.0,55332.0,2273.0,17784.0,25799.0,2865.0,346.0,4957.0,4128.0,29348.0,32696.0,3503.0,2354.0,586.0,1949.0,1825.0,2296.0,550.0,578.0,7706.0,1339.0,6760.0,1096.0,7407.0,5811.0,2145.0,11832.0,5279.0,5332.0,5151.0,51257.0,28880.0,17334.0,33677.0,19210.0,2215.0,1322.0,3485.0,2185.0,2494.0,2091.0,1777.0,2573.0,228.0,59639.0,1705.0,1950.0,10945.0,2606.0,17671.0,2273.0,27801.0,17297.0,6527.0,17802.0,33788.0,21245.0,7905.0,869.0,293.0,36322.0,2760.0,522.0,1628.0,12336.0,6437.0,2797.0,333.0,8964.0,13010.0,9132.0,21998.0,4138.0,6412.0,2464.0,6474.0,2388.0,1494.0,1463.0,1057.0,1049.0,109.0,2073.0,1116.0,1125.0,802.0,4409.0,686.0,1154.0,885.0,2437.0,716.0,1867.0,91.0,586.0,601.0,81.0,1018.0,1448.0,1296.0,1299.0,1769.0,20073.0,601.0,2281.0,20890.0,48650.0,1945.0,18496.0,1193.0,4905.0,1699.0,11812.0,746.0,189.0,1419.0,1237.0,1703.0,1849.0,5397.0,4410.0,1554.0,4499.0,1993.0,424.0,3782.0,1551.0,954.0,7304.0,15462.0,6958.0,964.0,3571.0,2421.0,21689.0,5542.0,7922.0,7055.0,767.0,3766.0,2497.0,799.0,41478.0,867.0,2097.0,5533.0,534.0,197.0,533.0,1036.0,4503.0,8592.0,183.0,903.0,1236.0,305.0,1544.0,1020.0,325.0,3227.0,659.0,2528.0,550.0,1032.0,1142.0,1766.0,912.0,1305.0,653.0,3411.0,11533.0,3397.0,7865.0,715.0,988.0,4405.0,1936.0,11666.0,361.0,30531.0,88.0,55.0,494.0,1294.0,976.0,1586.0,1550.0,1209.0,850.0,5421.0,255.0,707.0,6856.0,1007.0,12952.0,2299.0,19.0,1736.0,2195.0,4569.0,3655.0,15715.0,578.0,1747.0,197.0,4198.0,540.0,942.0,2470.0,478.0,2558.0,2178.0,860.0,2888.0,3026.0,2164.0,10874.0,1935.0,1871.0,7789.0,10394.0,17759.0,4714.0,3209.0,14118.0,11847.0,11339.0,1156.0,1534.0,1102.0,783.0,627.0,891.0,7484.0,876.0,1235.0,1143.0,450.0,1442.0,426.0,2814.0,4645.0,13130.0,3933.0,2197.0,1318.0,1553.0,2007.0,1540.0,1655.0,12201.0,1284.0,869.0,396.0,7142.0,1414.0,9833.0,604.0,685.0,549.0,1220.0,1588.0,8371.0,2570.0,6117.0,5368.0,2225.0,2086.0,1732.0,6751.0,5228.0,1477.0,1626.0,4529.0,3254.0,2267.0,17463.0,23669.0,5301.0,1033.0,6909.0,4040.0,546.0,2459.0,1284.0,1122.0,13016.0,1098.0,481.0,376.0,898.0,1393.0,434.0,394.0,263.0,1061.0,1312.0,764.0,289.0,4001.0,5097.0,3193.0,11011.0,3492.0,3559.0,2784.0,5495.0,2912.0,9687.0,3444.0,12629.0,1659.0,1305.0,651.0,1926.0,396.0,1062.0,578.0,4735.0,4306.0,10917.0,1701.0,11080.0,636.0,1478.0,362.0,8337.0,702.0,2698.0,177.0,714.0,1062.0,1552.0,102.0,613.0,2152.0,1063.0,3142.0,1566.0,2306.0,633.0,2859.0,299.0,1002.0,631.0,1386.0,2355.0,6742.0,1853.0,252.0,1302.0,1658.0,15092.0,165.0,4333.0,976.0,1276.0,1476.0,5351.0,2402.0,6402.0,223.0,654.0,1262.0,253.0,1780.0,1266.0,2389.0,1468.0,838.0,2649.0,6000.0,1839.0,10689.0,7449.0,4157.0,3388.0,1343.0,3399.0,2510.0,1537.0,6134.0,9355.0,1024.0,325.0,166.0,203.0,1134.0,216.0,25.0,1096.0,770.0,424.0,755.0,652.0,4797.0,2783.0,8462.0,5129.0,5272.0,2784.0,3086.0,6008.0,16486.0,2076.0,1353.0,3770.0,722.0,1404.0,1688.0,214.0,788.0,1128.0,608.0,359.0,1532.0,791.0,395.0,322.0,151.0,208.0,385.0,666.0,237.0,240.0,5014.0,3033.0,458.0,1779.0,334.0,222.0,422.0,227.0,50.0,194.0,458.0,61.0,314.0,586.0,770.0,735.0,1299.0,791.0,426.0,796.0,1316.0,8415.0,1085.0,817.0,1275.0,1526.0,10110.0,1832.0,945.0,1272.0,442.0,6315.0,1322.0,557.0,540.0,327.0,358.0,803.0,1557.0,1942.0,279.0,34.0,1420.0,1812.0,2472.0,1525.0,2650.0,2753.0,2985.0,2360.0,948.0,392.0,944.0,73110.0,878.0,1454.0,7318.0,555.0,496.0,436.0,382.0,1040.0,306.0,513.0,300.0,901.0],\"y0\":\" \",\"yaxis\":\"y2\",\"type\":\"box\"},{\"alignmentgroup\":\"True\",\"hovertemplate\":\"variable=num_reviews\\u003cbr\\u003evalue=%{y}\\u003cextra\\u003e\\u003c\\u002fextra\\u003e\",\"legendgroup\":\"num_reviews\",\"marker\":{\"color\":\"#00cc96\"},\"name\":\"num_reviews\",\"notched\":false,\"offsetgroup\":\"num_reviews\",\"orientation\":\"v\",\"showlegend\":true,\"x0\":\" \",\"xaxis\":\"x3\",\"y\":[23.0,923.0,74.0,11.0,45.0,138.0,178.0,148.0,34.0,14.0,93.0,42.0,21.0,52.0,19.0,106.0,79.0,115.0,24.0,249.0,3.0,84.0,83.0,38.0,333.0,518.0,373.0,237.0,103.0,25.0,21.0,171.0,449.0,11.0,12.0,118.0,2476.0,1118.0,2697.0,809.0,2347.0,278.0,137.0,1190.0,1113.0,594.0,42.0,872.0,11.0,65.0,12.0,71.0,200.0,23.0,11.0,83.0,123.0,169.0,6.0,2.0,689.0,600.0,497.0,340.0,713.0,158.0,985.0,461.0,162.0,506.0,237.0,218.0,18.0,240.0,273.0,16.0,232.0,331.0,40.0,244.0,71.0,225.0,370.0,340.0,55.0,69.0,53.0,212.0,57.0,15.0,100.0,5.0,276.0,402.0,30.0,66.0,1.0,18.0,31.0,19.0,15.0,25.0,12.0,2698.0,13.0,9.0,620.0,38.0,151.0,17.0,19.0,14.0,794.0,8.0,16.0,29.0,8.0,48.0,48.0,1463.0,1.0,194.0,6.0,48.0,10.0,11.0,30.0,35.0,649.0,54.0,1.0,3.0,187.0,9.0,16.0,14.0,4.0,149.0,65.0,4.0,110.0,140.0,46.0,4397.0,101.0,424.0,96.0,42.0,12.0,142.0,25.0,13.0,16.0,11.0,43.0,9.0,2.0,86.0,21.0,158.0,351.0,267.0,15.0,70.0,6.0,12.0,31.0,10.0,34.0,45.0,54.0,6.0,25.0,352.0,7.0,59.0,102.0,234.0,265.0,138.0,67.0,9.0,252.0,21.0,23.0,15.0,24.0,59.0,23.0,3.0,31.0,45.0,2.0,281.0,54.0,17.0,42.0,12.0,22.0,36.0,139.0,26.0,12.0,12.0,3.0,16.0,207.0,32.0,64.0,161.0,4.0,15.0,107.0,0.0,6.0,28.0,12.0,6.0,16.0,26.0,44.0,3.0,9.0,8.0,29.0,10.0,55.0,30.0,33.0,17.0,4.0,23.0,24.0,27.0,13.0,54.0,12.0,110.0,117.0,18.0,80.0,79.0,48.0,23.0,15.0,31.0,19.0,40.0,32.0,181.0,1.0,1.0,1.0,32.0,1.0,1.0,0.0,5.0,2.0,2.0,10.0,6.0,12.0,47.0,2.0,117.0,77.0,185.0,38.0,20.0,4.0,11.0,64.0,8.0,22.0,9.0,4.0,3.0,2.0,3.0,7.0,6.0,11.0,258.0,5.0,11.0,7.0,57.0,41.0,5.0,395.0,12.0,52.0,14.0,49.0,11.0,45.0,799.0,27.0,43.0,13.0,36.0,10.0,51.0,11.0,5.0,41.0,6.0,21.0,6.0,17.0,2.0,7.0,5.0,9.0,14.0,8.0,5.0,14.0,18.0,10.0,33.0,3.0,38.0,9.0,4.0,16.0,10.0,49.0,81.0,70.0,1.0,23.0,24.0,35.0,7.0,14.0,17.0,4.0,41.0,202.0,4.0,35.0,12.0,2.0,46.0,83.0,31.0,584.0,22.0,44.0,17.0,4.0,51.0,158.0,154.0,9.0,21.0,6.0,14.0,12.0,14.0,18.0,48.0,25.0,33.0,15.0,8.0,27.0,11.0,27.0,224.0,29.0,7.0,1440.0,25.0,21.0,19.0,31.0,0.0,95.0,70.0,12.0,4.0,32.0,22.0,54.0,6.0,12.0,218.0,137.0,56.0,8.0,137.0,20.0,281.0,33.0,19.0,52.0,103.0,89.0,40.0,17.0,61.0,92.0,0.0,1.0,1.0,0.0,0.0,1.0,0.0,1.0,0.0,1.0,0.0,2.0,6.0,3.0,2.0,6.0,3.0,4.0,6.0,3.0,8.0,2.0,11.0,6.0,1.0,10.0,4.0,29.0,60.0,7.0,5.0,4.0,20.0,4.0,6.0,5.0,26.0,3.0,7.0,11.0,64.0,16.0,9.0,19.0,34.0,56.0,35.0,6.0,0.0,0.0,0.0,0.0,0.0,0.0,0.0,0.0,0.0,0.0,0.0,0.0,47.0,10.0,34.0,13.0,14.0,2.0,16.0,10.0,10.0,2.0,13.0,10.0,6.0,2.0,9.0,4.0,1.0,1.0,3.0,53.0,2.0,1.0,4.0,11.0,30.0,44.0,256.0,936.0,76.0,712.0,4.0,58.0,37.0,5.0,23.0,38.0,10.0,70.0,1.0,20.0,6.0,33.0,13.0,8.0,8.0,6.0,8.0,11.0,0.0,0.0,0.0,0.0,0.0,0.0,0.0,0.0,0.0,0.0,1.0,0.0,2.0,12.0,9.0,36.0,1.0,15.0,18.0,7.0,15.0,24.0,2.0,25.0,15.0,4.0,9.0,9.0,23.0,9.0,16.0,47.0,29.0,20.0,13.0,25.0,10.0,8.0,8.0,3.0,17.0,3.0,9.0,11.0,7.0,22.0,4.0,10.0,128.0,33.0,40.0,34.0,12.0,48.0,2.0,135.0,8.0,444.0,85.0,635.0,0.0,0.0,0.0,0.0,1.0,2.0,0.0,0.0,0.0,0.0,0.0,0.0,1.0,1.0,4.0,1.0,3.0,7.0,1.0,2.0,1.0,7.0,2.0,5.0,18.0,3.0,4.0,18.0,5.0,3.0,3.0,25.0,15.0,14.0,4.0,3.0,1.0,2.0,3.0,10.0,2.0,1.0,1.0,6.0,1.0,1.0,1.0,1.0,24.0,13.0,96.0,24.0,27.0,109.0,14.0,7.0,109.0,84.0,44.0,15.0,1.0,1.0,2.0,2.0,1.0,0.0,0.0,2.0,1.0,3.0,1.0,3.0,16.0,49.0,54.0,20.0,19.0,32.0,98.0,27.0,19.0,34.0,4.0,24.0,2.0,2.0,3.0,3.0,0.0,3.0,2.0,2.0,7.0,0.0,1.0,2.0,86.0,890.0,49.0,40.0,67.0,55.0,11.0,20.0,10.0,13.0,68.0,39.0,2.0,2.0,15.0,4.0,2.0,2.0,15.0,1.0,2.0,2.0,81.0,3.0,12.0,12.0,169.0,13.0,71.0,12.0,10.0,61.0,17.0,39.0,14.0,40.0,14.0,3.0,34.0,55.0,0.0,12.0,17.0,45.0,60.0,45.0,14.0,2.0,2.0,7.0,1.0,30.0,2.0,9.0,4.0,25.0,35.0,7.0,66.0,5.0,140.0,11.0,34.0,1.0,45.0,13.0,51.0,2.0,9.0,23.0,14.0,58.0,9.0,69.0,4.0,5.0,4.0,5.0,13.0,3.0,4.0,6.0,5.0,4.0,10.0,11.0,83.0,30.0,23.0,11.0,12.0,3.0,14.0,17.0,22.0,6.0,8.0,2.0,9.0,3.0,32.0,3.0,5.0,5.0,5.0,10.0,7.0,5.0,0.0,0.0,0.0,0.0,0.0,0.0,0.0,0.0,0.0,0.0,41.0,63.0,19.0,56.0,11.0,14.0,10.0,8.0,54.0,8.0,24.0,4.0,43.0,11.0,38.0,5.0,69.0,12.0,45.0,27.0,74.0,6.0,17.0,7.0,1.0,1.0,3.0,1.0,6.0,3.0,38.0,6.0,3.0,37.0,4.0,9.0,6.0,351.0,138.0,70.0,86.0,192.0,183.0,60.0,144.0,6.0,109.0,5.0,5.0,48.0,10.0,102.0,11.0,11.0,71.0,4.0,24.0,8.0,2.0,4.0,6.0,4.0,3.0,3.0,1.0,1.0,5.0,5.0,5.0,6.0,23.0,12.0,17.0,12.0,13.0,90.0,8.0,120.0,6.0,10.0,0.0,14.0,16.0,2.0,4.0,33.0,43.0,4.0,1.0,0.0,1.0,1.0,1.0,1.0,4.0,0.0,0.0,0.0,0.0,0.0,0.0,0.0,0.0,0.0,0.0,25.0,20.0,10.0,0.0,25.0,18.0,12.0,41.0,21.0,13.0,25.0,50.0,11.0,17.0,7.0,5.0,13.0,5.0,10.0,18.0,17.0,16.0,5.0,3.0,0.0,0.0,0.0,0.0,0.0,1.0,1.0,1.0,2.0,0.0,0.0,0.0,2.0,6.0,2.0,13.0,3.0,2.0,2.0,4.0,2.0,2.0,2.0,111.0,28.0,15.0,43.0,6.0,6.0,6.0,5.0,7.0,20.0,17.0,13.0,19.0,13.0,4.0,3.0,3.0,3.0,9.0,15.0,7.0,5.0,6.0,42.0,19.0,7.0,12.0,1.0,24.0,7.0,20.0,16.0,3.0,2.0,5.0,76.0,2.0,4.0,6.0,2.0,4.0,1.0,0.0,4.0,2.0,3.0,6.0,2.0,7.0,7.0,16.0,4.0,2.0,9.0,18.0,16.0,3.0,11.0,35.0,14.0,1.0,0.0,0.0,0.0,22.0,2.0,1.0,0.0,0.0,1.0,1.0,0.0,0.0,0.0,0.0,1.0,0.0,0.0,0.0,0.0,1.0,0.0,0.0,1.0,39.0,14.0,19.0,16.0,22.0,36.0,5.0,41.0,6.0,210.0,13.0,200.0,5.0,0.0,6.0,5.0,2.0,3.0,1.0,5.0,2.0,3.0,2.0,1.0,49.0,135.0,547.0,230.0,109.0,145.0,37.0,47.0,40.0,51.0,94.0,23.0,1.0,3.0,3.0,2.0,0.0,1.0,0.0,0.0,2.0,1.0,3.0,1.0,0.0,0.0,0.0,0.0,4.0,1.0,1.0,2.0,2.0,0.0,0.0,0.0,9.0,16.0,6.0,11.0,3.0,306.0,11.0,4.0,5.0,2.0,96.0,3.0,0.0,0.0,0.0,50.0,0.0,7.0,3.0,9.0,0.0,296.0,819.0,10.0,48.0,29.0,1.0,7.0,40.0,19.0,52.0,24.0,28.0,32.0,19.0,15.0,92.0,14.0,142.0,128.0,19.0,11.0,71.0,14.0,8.0,17.0,5.0,1.0,8.0,10.0,3.0,8.0,17.0,10.0,1.0,4.0,7.0,5.0,14.0,13.0,62.0,21.0,78.0,3.0,25.0,45.0,16.0,54.0,22.0,36.0,4.0,1.0,5.0,3.0,8.0,14.0,7.0,6.0,8.0,5.0,4.0,5.0,22.0,46.0,31.0,39.0,37.0,3.0,60.0,122.0,28.0,12.0,7.0,77.0,46.0,45.0,22.0,3.0,3.0,44.0,30.0,0.0,3.0,23.0,21.0,46.0,8.0,240.0,50.0,40.0,44.0,337.0,15.0,104.0,424.0,427.0,182.0,124.0,11.0,24.0,6.0,0.0,1740.0,2379.0,447.0,737.0,754.0,1629.0,650.0,479.0,175.0,382.0,202.0,102.0,5.0,5.0,3.0,6.0,10.0,76.0,2.0,21.0,7.0,50.0,24.0,24.0,0.0,0.0,0.0,0.0,0.0,0.0,0.0,0.0,2.0,26.0,42.0,21.0,28.0,95.0,26.0,39.0,18.0,122.0,329.0,17.0,40.0,311.0,30.0,205.0,437.0,466.0,470.0,10.0,85.0,99.0,2.0,18.0,193.0,220.0,39.0,3.0,11.0,11.0,5.0,57.0,10.0,39.0,16.0,20.0,28.0,63.0,27.0,54.0,6.0,109.0,197.0,41.0,1041.0,103.0,12.0,52.0,20.0,172.0,16.0,30.0,92.0,12.0,88.0,50.0,245.0,1.0,25.0,10.0,31.0,68.0,15.0,29.0,8.0,15.0,16.0,10.0,11.0,30.0,42.0,14.0,15.0,3.0,11.0,21.0,5.0,1.0,3.0,3.0,9.0,1.0,2.0,3.0,1.0,2.0,1.0,1.0,49.0,6.0,3.0,13.0,10.0,10.0,14.0,68.0,5.0,53.0,0.0,4.0,40.0,34.0,8.0,12.0,13.0,3.0,8.0,6.0,25.0,27.0,12.0,3.0,158.0,11.0,29.0,53.0,20.0,9.0,29.0,11.0,5.0,57.0,203.0,35.0,24.0,423.0,26.0,470.0,58.0,30.0,61.0,74.0,49.0,121.0,38.0,49.0,6.0,143.0,5.0,7.0,654.0,120.0,15.0,0.0,15.0,11.0,46.0,27.0,1563.0,61.0,52.0,8.0,125.0,143.0,24.0,0.0,20.0,6.0,44.0,26.0,30.0,21.0,25.0,51.0,13.0,8.0,115.0,2215.0,62.0,24.0,28.0,68.0,4.0,2.0,0.0,3.0,190.0,198.0,108.0,9.0,42.0,6.0,96.0,27.0,24.0,10.0,2.0,7.0,11.0,6.0,28.0,8.0,5.0,3.0,16.0,2.0,30.0,8.0,12.0,25.0,17.0,15.0,10.0,10.0,42.0,8.0,2.0,13.0,162.0,17.0,9.0,23.0,5.0,37.0,48.0,31.0,576.0,57.0,49.0,1779.0,3.0,0.0,0.0,0.0,0.0,0.0,0.0,0.0,0.0,0.0,0.0,1.0,5.0,1.0,3.0,3.0,4.0,0.0,0.0,1.0,0.0,0.0,1.0,12.0,26.0,2.0,15.0,95.0,26.0,29.0,40.0,11.0,117.0,38.0,17.0,10.0,33.0,43.0,49.0,18.0,4.0,2.0,10.0,79.0,9.0,24.0,40.0,2.0,1.0,1.0,1.0,1.0,14.0,2.0,2.0,14.0,0.0,4.0,4.0,145.0,128.0,100.0,21.0,35.0,38.0,57.0,15.0,86.0,481.0,10.0,25.0,11.0,11.0,7.0,9.0,11.0,4.0,10.0,10.0,2.0,8.0,5.0,3.0,0.0,1.0,0.0,0.0,0.0,0.0,0.0,1.0,0.0,0.0,1.0,1.0,0.0,0.0,0.0,0.0,1.0,0.0,0.0,0.0,0.0,0.0,0.0,0.0,176.0,11.0,5.0,109.0,19.0,28.0,55.0,27.0,4.0,46.0,18.0,17.0,13.0,13.0,15.0,0.0,3.0,5.0,18.0,6.0,9.0,27.0,0.0,5.0,0.0,0.0,0.0,0.0,2.0,0.0,0.0,0.0,0.0,0.0,0.0,0.0,9.0,20.0,2.0,23.0,7.0,16.0,1.0,23.0,15.0,12.0,12.0,5.0,0.0,0.0,0.0,0.0,0.0,0.0,0.0,0.0,92.0,45.0,183.0,25.0,7.0,24.0,19.0,5.0,69.0,388.0,53.0,18.0,345.0,39.0,522.0,8.0,0.0,0.0,2.0,0.0,3.0,0.0,2.0,0.0,2.0,0.0,0.0,0.0,72.0,43.0,38.0,20.0,136.0,24.0,44.0,20.0,19.0,155.0,3.0,1.0,10.0,2.0,10.0,6.0,3.0,1.0,5.0,9.0,3.0,57.0,9.0,1.0,6.0,7.0,10.0,5.0,1.0,31.0,11.0,6.0,6.0,4.0,2.0,8.0,3.0,5.0,14.0,2.0,6.0,10.0,2.0,8.0,9.0,13.0,2.0,1.0,14.0,1.0,7.0,26.0,44.0,99.0,131.0,25.0,74.0,35.0,2.0,29.0,3.0,7.0,0.0,1.0,0.0,1.0,1.0,3.0,4.0,3.0,1.0,4.0,32.0,5.0,13.0,36.0,15.0,121.0,18.0,6.0,5.0,3.0,9.0,5.0,2.0,2.0,2.0,6.0,3.0,4.0,5.0,4.0,3.0,3.0,3.0,8.0,11.0,13.0,5.0,8.0,22.0,35.0,4.0,25.0,4.0,9.0,9.0,3.0,4.0,5.0,5.0,5.0,2.0,2.0,3.0,0.0,3.0,0.0,0.0,0.0,5.0,3.0,9.0,7.0,3.0,1.0,6.0,2.0,0.0,1.0,5.0,1.0,14.0,7.0,3.0,9.0,3.0,4.0,3.0,5.0,2.0,8.0,4.0,10.0,193.0,11.0,4.0,11.0,4.0,6.0,29.0,10.0,66.0,52.0,30.0,10.0,5.0,5.0,11.0,12.0,7.0,20.0,14.0,13.0,18.0,21.0,24.0,21.0,10.0,12.0,12.0,39.0,27.0,5.0,8.0,9.0,21.0,9.0,47.0,12.0,21.0,16.0,116.0,3.0,58.0,157.0,93.0,15.0,11.0,11.0,8.0,57.0,7.0,6.0,44.0,6.0,22.0,43.0,158.0,19.0,17.0,7.0,6.0,10.0,6.0,4.0,4.0,8.0,24.0,7.0,4.0,30.0,7.0,15.0,20.0,4.0,18.0,18.0,39.0,8.0,2.0,20.0,4.0,13.0,27.0,14.0,11.0,9.0,4.0,41.0,14.0,6.0,7.0,5.0,37.0,19.0,8.0,8.0,5.0,357.0,29.0,19.0,64.0,29.0,8.0,34.0,224.0,82.0,31.0,38.0,35.0,11.0,38.0,15.0,27.0,12.0,34.0,31.0,49.0,46.0,113.0,21.0,18.0,308.0,40.0,9.0,17.0,1.0,772.0,52.0,10.0,4.0,4.0,9.0,1.0,28.0,26.0,3.0,21.0,5.0,107.0,9.0,11.0,8.0,15.0,3.0,10.0,11.0,2.0,6.0,3.0,28.0,44.0,40.0,5.0,331.0,129.0,71.0,20.0,18.0,8.0,5.0,39.0,15.0,78.0,30.0,10.0,39.0,26.0,13.0,39.0,38.0,183.0,398.0,125.0,79.0,17.0,4.0,65.0,88.0,26.0,410.0,0.0,6.0,1340.0,375.0,2713.0,2257.0,159.0,128.0,718.0,665.0,79.0,260.0,33.0,52.0,13.0,18.0,1.0,12.0,3.0,89.0,6.0,252.0,37.0,8.0,8.0,2.0,1141.0,3.0,8.0,15.0,26.0,5.0,2.0,10.0,16.0,34.0,10.0,3.0,10.0,2.0,11.0,101.0,177.0,1.0,55.0,173.0,14.0,20.0,72.0,26.0,35.0,4.0,6.0,3.0,16.0,19.0,3.0,54.0,68.0,21.0,38.0,276.0,11.0,175.0,41.0,192.0,10.0,136.0,29.0,107.0,3.0,2.0,2.0,2.0,5.0,45.0,6.0,4.0,2.0,7.0,2.0,4.0,1.0,4.0,109.0,25.0,26.0,15.0,88.0,136.0,10.0,6.0,27.0,4.0,7.0,9.0,25.0,33.0,11.0,4.0,5.0,35.0,4.0,2.0,5.0,28.0,2.0,3.0,23.0,4.0,2.0,0.0,2.0,2.0,2.0,1.0,1.0,1.0,6.0,1.0,3.0,4.0,3.0,1.0,2.0,2.0,3.0,2.0,2.0,1.0,0.0,0.0,0.0,0.0,0.0,0.0,0.0,0.0,0.0,0.0,0.0,0.0,3.0,2.0,3.0,6.0,3.0,64.0,5.0,7.0,7.0,4.0,4.0,12.0,3.0,3.0,1.0,1.0,1.0,1.0,2.0,0.0,0.0,2.0,2.0,0.0,9.0,8.0,4.0,10.0,11.0,17.0,2.0,3.0,5.0,7.0,7.0,6.0,9.0,0.0,18.0,6.0,10.0,5.0,4.0,5.0,14.0,3.0,15.0,8.0,3.0,5.0,3.0,33.0,7.0,3.0,4.0,15.0,4.0,161.0,9.0,22.0,32.0,263.0,23.0,42.0,109.0,4.0,17.0,12.0,26.0,5.0,4.0,1.0,7.0,6.0,9.0,5.0,2.0,4.0,4.0,6.0,11.0,3.0,1.0,2.0,2.0,4.0,2.0,1.0,2.0,1.0,2.0,1.0,3.0,1.0,2.0,2.0,6.0,7.0,1.0,3.0,3.0,30.0,1.0,1.0,1.0,1.0,2.0,1.0,1.0,2.0,0.0,4.0,3.0,3.0,1.0,2.0,0.0,1.0,3.0,7.0,1.0,3.0,3.0,3.0,5.0,2.0,6.0,1.0,4.0,2.0,1.0,1.0,0.0,0.0,0.0,0.0,1.0,0.0,0.0,0.0,1.0,0.0,1.0,0.0,1.0,1.0,0.0,1.0,1.0,0.0,0.0,3.0,0.0,0.0,4.0,11.0,4.0,3.0,3.0,2.0,6.0,8.0,5.0,7.0,2.0,7.0,7.0,3.0,5.0,3.0,1.0,5.0,4.0,8.0,2.0,3.0,4.0,1.0,9.0,7.0,3.0,6.0,6.0,5.0,23.0,16.0,18.0,3.0,3.0,8.0,8.0,8.0,9.0,4.0,6.0,8.0,4.0,2.0,5.0,8.0,0.0,4.0,2.0,7.0,1.0,2.0,4.0,4.0,3.0,1.0,8.0,2.0,6.0,3.0,3.0,3.0,2.0,4.0,4.0,4.0,2.0,6.0,1.0,12.0,1.0,7.0,3.0,3.0,4.0,1.0,0.0,5.0,2.0,1.0,3.0,1.0,8.0,3.0,0.0,0.0,0.0,0.0,0.0,0.0,0.0,0.0,0.0,0.0,1.0,0.0,0.0,2.0,0.0,0.0,1.0,1.0,1.0,1.0,1.0,1.0,0.0,1.0,0.0,0.0,0.0,0.0,0.0,0.0,0.0,0.0,0.0,1.0,1.0,0.0,1.0,1.0,0.0,0.0,0.0,0.0,0.0,0.0,0.0,0.0,0.0,0.0,2.0,12.0,11.0,25.0,47.0,3.0,6.0,20.0,13.0,13.0,3.0,3.0,0.0,14.0,29.0,1.0,0.0,28.0,26.0,12.0,30.0,1.0,9.0,1.0,1.0,1.0,3.0,4.0,3.0,2.0,1.0,1.0,1.0,1.0,5.0,0.0,2.0,2.0,2.0,2.0,11.0,3.0,2.0,5.0,6.0,21.0,2.0,11.0,51.0,17.0,6.0,4.0,7.0,19.0,10.0,21.0,25.0,9.0,12.0,3.0,1.0,0.0,0.0,0.0,0.0,0.0,2.0,0.0,0.0,0.0,0.0,0.0,525.0,285.0,529.0,206.0,490.0,202.0,112.0,359.0,178.0,210.0,540.0,351.0,167.0,253.0,220.0,106.0,333.0,147.0,94.0,217.0,317.0,218.0,110.0,131.0,848.0,506.0,1017.0,655.0,820.0,662.0,1445.0,1981.0,104.0,1358.0,1304.0,418.0,73.0,38.0,52.0,56.0,59.0,35.0,21.0,41.0,200.0,83.0,324.0,13.0,41.0,401.0,198.0,368.0,137.0,142.0,116.0,333.0,193.0,277.0,220.0,111.0,223.0,46.0,340.0,6.0,76.0,201.0,75.0,43.0,53.0,49.0,31.0,237.0,783.0,121.0,312.0,268.0,117.0,215.0,212.0,674.0,165.0,680.0,395.0,188.0,414.0,1111.0,331.0,941.0,129.0,72.0,179.0,799.0,836.0,453.0,997.0,232.0,20.0,1220.0,411.0,89.0,110.0,8.0,13.0,82.0,43.0,23.0,64.0,31.0,80.0,0.0,21.0,75.0,4047.0,16.0,7.0,16.0,30.0,139.0,473.0,79.0,56.0,111.0,34.0,110.0,118.0,46.0,1097.0,35.0,57.0,173.0,31.0,159.0,359.0,276.0,253.0,78.0,216.0,219.0,105.0,96.0,423.0,94.0,142.0,16.0,212.0,102.0,5.0,210.0,43.0,81.0,35.0,169.0,69.0,970.0,570.0,901.0,876.0,303.0,129.0,286.0,302.0,629.0,292.0,262.0,0.0,62.0,125.0,164.0,1342.0,314.0,178.0,114.0,47.0,978.0,43.0,30.0,522.0,44.0,101.0,159.0,63.0,874.0,68.0,88.0,243.0,24.0,63.0,27.0,160.0,147.0,37.0,147.0,220.0,129.0,53.0,118.0,29.0,50.0,231.0,306.0,125.0,17.0,38.0,80.0,291.0,4.0,9.0,185.0,138.0,22.0,23.0,8.0,10.0,1838.0,330.0,1548.0,531.0,622.0,660.0,1090.0,2408.0,1846.0,497.0,116.0,214.0,193.0,627.0,105.0,931.0,383.0,134.0,26.0,329.0,401.0,685.0,466.0,64.0,43.0,65.0,26.0,523.0,11.0,16.0,120.0,20.0,63.0,131.0,12.0,514.0,589.0,28.0,237.0,276.0,26.0,742.0,471.0,174.0,22.0,231.0,144.0,92.0,136.0,90.0,213.0,8.0,16.0,144.0,30.0,92.0,9.0,64.0,185.0,15.0,61.0,10.0,15.0,81.0,4.0,188.0,212.0,10.0,60.0,258.0,24.0,53.0,38.0,49.0,28.0,92.0,48.0,228.0,20.0,93.0,39.0,32.0,129.0,22.0,1005.0,27.0,34.0,2575.0,5.0,44.0,33.0,183.0,69.0,24.0,22.0,129.0,10.0,129.0,138.0,52.0,6.0,15.0,47.0,52.0,14.0,15.0,415.0,463.0,482.0,224.0,1813.0,34.0,260.0,99.0,247.0,380.0,44.0,210.0,450.0,43.0,17.0,17.0,95.0,1112.0,99.0,27.0,126.0,78.0,26.0,137.0,21.0,69.0,441.0,154.0,105.0,17.0,7.0,354.0,74.0,750.0,20.0,108.0,71.0,15.0,47.0,51.0,115.0,96.0,73.0,112.0,52.0,46.0,292.0,44.0,110.0,31.0,37.0,16.0,1.0,52.0,6.0,53.0,38.0,63.0,4.0,14.0,33.0,38.0,20.0,5.0,7.0,21.0,4.0,23.0,34.0,26.0,20.0,65.0,33.0,50.0,11.0,12.0,5.0,72.0,46.0,74.0,42.0,30.0,95.0,34.0,11.0,14.0,40.0,17.0,107.0,358.0,37.0,45.0,19.0,166.0,6.0,20.0,49.0,165.0,78.0,62.0,18.0,54.0,69.0,102.0,5.0,145.0,439.0,44.0,33.0,31.0,165.0,29.0,30.0,172.0,278.0,17.0,126.0,137.0,99.0,242.0,16.0,85.0,9.0,91.0,32.0,239.0,55.0,23.0,10.0,18.0,110.0,8.0,9.0,16.0,10.0,33.0,393.0,34.0,28.0,40.0,17.0,92.0,54.0,34.0,90.0,121.0,245.0,27.0,62.0,15.0,37.0,15.0,57.0,57.0,36.0,77.0,261.0,53.0,68.0,39.0,96.0,20.0,415.0,4.0,989.0,25.0,84.0,25.0,133.0,215.0,15.0,145.0,9.0,11.0,39.0,63.0,28.0,117.0,18.0,40.0,111.0,131.0,195.0,1106.0,141.0,84.0,19.0,8.0,31.0,22.0,38.0,249.0,2.0,15.0,56.0,28.0,52.0,36.0,92.0,95.0,25.0,52.0,37.0,76.0,134.0,53.0,12.0,171.0,46.0,302.0,95.0,102.0,92.0,39.0,435.0,94.0,216.0,119.0,28.0,154.0,169.0,239.0,106.0,162.0,235.0,285.0,107.0,45.0,13.0,99.0,12.0,10.0,72.0,99.0,4.0,7.0,97.0,311.0,92.0,39.0,12.0,2.0,24.0,11.0,33.0,28.0,22.0,10.0,6.0,58.0,90.0,50.0,31.0,141.0,29.0,32.0,89.0,138.0,87.0,52.0,318.0,44.0,115.0,206.0,44.0,58.0,536.0,106.0,95.0,89.0,94.0,28.0,14.0,64.0,65.0,4.0,154.0,36.0,95.0,416.0,17.0,93.0,438.0,40.0,32.0,111.0,13.0,136.0,137.0,8.0,178.0,32.0,19.0,14.0,17.0,14.0,25.0,60.0,32.0,130.0,228.0,81.0,91.0,235.0,35.0,31.0,411.0,28.0,48.0,8.0,110.0,365.0,93.0,602.0,589.0,139.0,508.0,137.0,721.0,55.0,59.0,360.0,11.0,2.0,19.0,13.0,41.0,48.0,12.0,50.0,58.0,13.0,72.0,74.0,941.0,1724.0,527.0,1213.0,372.0,688.0,16.0,983.0,525.0,620.0,407.0,174.0,169.0,185.0,128.0,4.0,20.0,35.0,72.0,27.0,179.0,49.0,489.0,39.0,8.0,21.0,67.0,12.0,32.0,15.0,40.0,42.0,67.0,102.0,8.0,150.0,51.0,1225.0,384.0,260.0,382.0,95.0,28.0,634.0,434.0,780.0,526.0,123.0,16.0,54.0,149.0,17.0,28.0,97.0,25.0,62.0,21.0,84.0,8.0,172.0,850.0,166.0,1883.0,1375.0,828.0,737.0,1955.0,4316.0,676.0,3809.0,3137.0,223.0,171.0,22.0,283.0,303.0,86.0,35.0,103.0,9.0,2692.0,26.0,33.0,1286.0,241.0,4675.0,288.0,4340.0,3166.0,1384.0,2144.0,4434.0,914.0,561.0,99.0,30.0,2618.0,76.0,50.0,162.0,271.0,313.0,59.0,22.0,1893.0,2709.0,1560.0,3326.0,307.0,987.0,17.0,86.0,139.0,23.0,56.0,22.0,22.0,17.0,24.0,62.0,10.0,6.0,71.0,19.0,89.0,3.0,137.0,59.0,19.0,5.0,65.0,4.0,14.0,28.0,173.0,22.0,56.0,49.0,615.0,126.0,32.0,945.0,1236.0,58.0,386.0,87.0,101.0,8.0,152.0,93.0,7.0,38.0,16.0,27.0,29.0,112.0,52.0,30.0,138.0,55.0,85.0,32.0,42.0,183.0,368.0,689.0,132.0,19.0,18.0,6.0,1080.0,54.0,183.0,166.0,104.0,135.0,98.0,87.0,2104.0,177.0,16.0,137.0,16.0,26.0,54.0,27.0,146.0,336.0,30.0,3.0,18.0,45.0,15.0,46.0,50.0,19.0,64.0,15.0,15.0,9.0,148.0,38.0,128.0,38.0,20.0,84.0,240.0,12.0,241.0,12.0,23.0,71.0,88.0,546.0,26.0,1948.0,8.0,13.0,46.0,11.0,29.0,87.0,15.0,8.0,12.0,93.0,5.0,59.0,137.0,96.0,163.0,11.0,2.0,79.0,10.0,108.0,85.0,406.0,40.0,13.0,11.0,145.0,11.0,161.0,24.0,37.0,12.0,22.0,201.0,26.0,60.0,290.0,114.0,17.0,154.0,59.0,33.0,64.0,149.0,58.0,30.0,57.0,43.0,13.0,33.0,12.0,20.0,126.0,101.0,304.0,59.0,25.0,34.0,61.0,9.0,4.0,14.0,171.0,346.0,23.0,9.0,78.0,35.0,10.0,19.0,10.0,217.0,46.0,125.0,6.0,41.0,14.0,241.0,47.0,37.0,49.0,16.0,8.0,212.0,17.0,188.0,78.0,14.0,56.0,15.0,44.0,180.0,17.0,81.0,54.0,92.0,17.0,283.0,521.0,174.0,16.0,401.0,72.0,69.0,107.0,173.0,5.0,286.0,15.0,75.0,19.0,132.0,40.0,69.0,78.0,14.0,8.0,19.0,7.0,30.0,8.0,196.0,10.0,13.0,61.0,24.0,221.0,52.0,309.0,59.0,35.0,88.0,73.0,25.0,52.0,9.0,130.0,12.0,6.0,81.0,163.0,319.0,125.0,165.0,33.0,18.0,19.0,300.0,21.0,29.0,19.0,48.0,20.0,14.0,27.0,135.0,19.0,101.0,117.0,29.0,3.0,104.0,42.0,75.0,7.0,103.0,17.0,143.0,1036.0,34.0,46.0,18.0,72.0,1234.0,13.0,16.0,93.0,245.0,27.0,235.0,26.0,104.0,26.0,86.0,36.0,34.0,15.0,90.0,7.0,54.0,13.0,16.0,21.0,91.0,394.0,91.0,206.0,67.0,11.0,85.0,21.0,8.0,93.0,390.0,14.0,37.0,21.0,33.0,9.0,28.0,4.0,33.0,65.0,45.0,0.0,48.0,97.0,9.0,50.0,183.0,111.0,425.0,17.0,203.0,86.0,125.0,53.0,108.0,53.0,7.0,16.0,34.0,21.0,77.0,88.0,45.0,19.0,29.0,26.0,9.0,40.0,48.0,39.0,89.0,22.0,45.0,196.0,91.0,2.0,48.0,41.0,9.0,86.0,16.0,5.0,26.0,28.0,9.0,43.0,10.0,0.0,16.0,15.0,8.0,4.0,3.0,22.0,56.0,8.0,164.0,11.0,72.0,379.0,6.0,17.0,31.0,48.0,53.0,14.0,39.0,13.0,26.0,0.0,2.0,13.0,23.0,37.0,2.0,62.0,112.0,41.0,43.0,61.0,10.0,40.0,12.0,193.0,81.0,1.0,1716.0,6.0,14.0,205.0,89.0,113.0,36.0,28.0,14.0,3.0,169.0,31.0,36.0],\"y0\":\" \",\"yaxis\":\"y3\",\"type\":\"box\"},{\"alignmentgroup\":\"True\",\"hovertemplate\":\"variable=num_lectures\\u003cbr\\u003evalue=%{y}\\u003cextra\\u003e\\u003c\\u002fextra\\u003e\",\"legendgroup\":\"num_lectures\",\"marker\":{\"color\":\"#ab63fa\"},\"name\":\"num_lectures\",\"notched\":false,\"offsetgroup\":\"num_lectures\",\"orientation\":\"v\",\"showlegend\":true,\"x0\":\" \",\"xaxis\":\"x4\",\"y\":[51.0,274.0,51.0,36.0,26.0,25.0,26.0,23.0,38.0,15.0,76.0,17.0,19.0,16.0,42.0,19.0,16.0,52.0,23.0,12.0,25.0,39.0,16.0,23.0,40.0,50.0,42.0,25.0,81.0,37.0,41.0,35.0,80.0,22.0,28.0,68.0,52.0,61.0,138.0,110.0,174.0,103.0,79.0,25.0,227.0,43.0,35.0,42.0,46.0,62.0,53.0,77.0,23.0,20.0,17.0,47.0,33.0,15.0,11.0,19.0,40.0,79.0,38.0,102.0,40.0,76.0,45.0,26.0,26.0,32.0,28.0,30.0,15.0,23.0,45.0,18.0,60.0,15.0,39.0,45.0,54.0,24.0,134.0,33.0,5.0,20.0,10.0,49.0,19.0,14.0,49.0,6.0,108.0,57.0,9.0,11.0,14.0,30.0,60.0,9.0,6.0,25.0,20.0,15.0,20.0,19.0,23.0,24.0,51.0,30.0,16.0,13.0,9.0,8.0,462.0,25.0,5.0,29.0,59.0,8.0,42.0,24.0,284.0,47.0,35.0,39.0,20.0,14.0,17.0,16.0,18.0,14.0,20.0,11.0,28.0,61.0,26.0,15.0,23.0,12.0,55.0,17.0,45.0,16.0,59.0,36.0,34.0,33.0,23.0,13.0,29.0,31.0,34.0,25.0,25.0,46.0,17.0,22.0,43.0,20.0,544.0,66.0,36.0,29.0,43.0,22.0,14.0,29.0,34.0,40.0,13.0,21.0,42.0,13.0,19.0,88.0,10.0,44.0,54.0,11.0,24.0,12.0,10.0,76.0,23.0,26.0,24.0,25.0,27.0,8.0,34.0,48.0,22.0,20.0,5.0,31.0,14.0,90.0,21.0,5.0,7.0,42.0,15.0,37.0,54.0,35.0,9.0,49.0,9.0,24.0,6.0,15.0,97.0,18.0,8.0,45.0,18.0,128.0,19.0,14.0,55.0,9.0,28.0,13.0,23.0,59.0,16.0,63.0,18.0,20.0,11.0,7.0,46.0,21.0,7.0,34.0,12.0,22.0,24.0,53.0,38.0,59.0,25.0,19.0,28.0,38.0,15.0,20.0,9.0,11.0,38.0,9.0,16.0,23.0,19.0,19.0,47.0,45.0,38.0,15.0,51.0,235.0,37.0,15.0,31.0,48.0,52.0,44.0,14.0,211.0,29.0,26.0,24.0,40.0,19.0,42.0,15.0,23.0,10.0,17.0,30.0,55.0,100.0,25.0,12.0,20.0,16.0,13.0,19.0,26.0,5.0,14.0,15.0,62.0,43.0,15.0,82.0,14.0,81.0,30.0,45.0,11.0,16.0,11.0,16.0,8.0,21.0,6.0,18.0,31.0,39.0,27.0,97.0,11.0,22.0,123.0,14.0,27.0,11.0,21.0,23.0,40.0,10.0,11.0,33.0,47.0,43.0,33.0,21.0,10.0,332.0,22.0,9.0,34.0,46.0,15.0,39.0,21.0,272.0,18.0,6.0,31.0,16.0,29.0,6.0,61.0,10.0,19.0,12.0,18.0,69.0,12.0,7.0,129.0,15.0,7.0,316.0,44.0,11.0,27.0,6.0,29.0,19.0,25.0,62.0,23.0,37.0,8.0,28.0,17.0,61.0,5.0,70.0,20.0,17.0,25.0,14.0,30.0,138.0,8.0,13.0,20.0,12.0,105.0,66.0,176.0,32.0,7.0,13.0,91.0,18.0,14.0,29.0,27.0,15.0,11.0,44.0,16.0,41.0,37.0,11.0,53.0,48.0,18.0,21.0,12.0,5.0,55.0,8.0,25.0,19.0,6.0,108.0,12.0,9.0,6.0,7.0,26.0,14.0,5.0,15.0,21.0,15.0,29.0,28.0,14.0,43.0,22.0,17.0,61.0,42.0,6.0,16.0,17.0,12.0,29.0,21.0,47.0,5.0,36.0,9.0,26.0,9.0,64.0,21.0,31.0,17.0,72.0,4.0,23.0,35.0,69.0,11.0,20.0,27.0,7.0,9.0,9.0,9.0,15.0,11.0,5.0,16.0,35.0,18.0,21.0,19.0,11.0,35.0,25.0,30.0,58.0,19.0,20.0,18.0,15.0,18.0,19.0,63.0,15.0,26.0,9.0,58.0,6.0,29.0,14.0,72.0,40.0,12.0,23.0,22.0,16.0,24.0,64.0,26.0,16.0,22.0,79.0,12.0,19.0,211.0,11.0,14.0,20.0,11.0,28.0,142.0,14.0,24.0,21.0,27.0,34.0,24.0,8.0,12.0,12.0,6.0,27.0,21.0,28.0,43.0,11.0,25.0,12.0,10.0,8.0,19.0,15.0,395.0,19.0,194.0,63.0,30.0,12.0,19.0,7.0,36.0,14.0,12.0,5.0,27.0,54.0,32.0,41.0,20.0,21.0,88.0,15.0,18.0,22.0,18.0,14.0,20.0,16.0,14.0,25.0,24.0,27.0,25.0,35.0,13.0,527.0,74.0,46.0,9.0,25.0,13.0,15.0,11.0,7.0,15.0,84.0,14.0,14.0,9.0,12.0,20.0,8.0,14.0,57.0,33.0,22.0,23.0,21.0,13.0,12.0,14.0,15.0,17.0,69.0,87.0,18.0,21.0,5.0,15.0,24.0,66.0,13.0,15.0,20.0,17.0,65.0,13.0,15.0,18.0,19.0,21.0,14.0,18.0,28.0,11.0,8.0,13.0,21.0,48.0,7.0,13.0,9.0,8.0,15.0,6.0,12.0,41.0,10.0,33.0,14.0,24.0,61.0,24.0,12.0,37.0,6.0,29.0,29.0,16.0,12.0,42.0,23.0,52.0,13.0,19.0,16.0,15.0,5.0,15.0,22.0,22.0,35.0,20.0,15.0,27.0,53.0,105.0,59.0,16.0,460.0,11.0,101.0,17.0,25.0,14.0,5.0,22.0,10.0,5.0,27.0,24.0,21.0,6.0,50.0,18.0,41.0,54.0,20.0,16.0,23.0,20.0,19.0,52.0,95.0,70.0,51.0,10.0,6.0,5.0,18.0,17.0,42.0,107.0,32.0,16.0,8.0,5.0,50.0,33.0,7.0,29.0,29.0,34.0,50.0,50.0,35.0,17.0,8.0,28.0,50.0,12.0,16.0,20.0,22.0,24.0,6.0,41.0,27.0,30.0,37.0,29.0,25.0,6.0,14.0,15.0,102.0,10.0,11.0,113.0,8.0,39.0,6.0,17.0,12.0,5.0,25.0,8.0,7.0,6.0,30.0,6.0,13.0,17.0,29.0,15.0,41.0,11.0,31.0,8.0,10.0,22.0,7.0,7.0,13.0,32.0,25.0,10.0,26.0,25.0,30.0,69.0,22.0,12.0,12.0,13.0,42.0,49.0,15.0,20.0,27.0,10.0,5.0,71.0,9.0,24.0,19.0,28.0,14.0,15.0,22.0,145.0,12.0,10.0,9.0,9.0,10.0,12.0,10.0,9.0,6.0,9.0,10.0,44.0,23.0,6.0,23.0,19.0,23.0,19.0,11.0,38.0,27.0,20.0,8.0,11.0,37.0,24.0,14.0,29.0,44.0,26.0,20.0,13.0,10.0,13.0,12.0,14.0,10.0,8.0,37.0,22.0,20.0,57.0,24.0,5.0,29.0,75.0,25.0,17.0,20.0,41.0,54.0,11.0,22.0,55.0,25.0,19.0,42.0,17.0,55.0,42.0,79.0,6.0,34.0,16.0,20.0,35.0,19.0,17.0,64.0,10.0,16.0,5.0,27.0,28.0,11.0,11.0,15.0,26.0,13.0,12.0,25.0,26.0,27.0,38.0,37.0,5.0,33.0,5.0,17.0,9.0,21.0,444.0,27.0,54.0,17.0,33.0,10.0,24.0,25.0,33.0,27.0,6.0,5.0,33.0,9.0,12.0,12.0,7.0,6.0,10.0,7.0,6.0,9.0,27.0,10.0,14.0,14.0,21.0,9.0,14.0,34.0,35.0,27.0,64.0,9.0,12.0,35.0,28.0,30.0,6.0,6.0,77.0,12.0,45.0,33.0,37.0,26.0,18.0,37.0,31.0,23.0,10.0,7.0,127.0,6.0,12.0,11.0,59.0,13.0,59.0,13.0,13.0,25.0,14.0,50.0,22.0,16.0,26.0,15.0,17.0,5.0,98.0,54.0,21.0,16.0,286.0,27.0,14.0,23.0,27.0,27.0,10.0,19.0,28.0,9.0,12.0,36.0,8.0,6.0,20.0,15.0,9.0,34.0,34.0,12.0,25.0,74.0,26.0,35.0,13.0,20.0,17.0,24.0,22.0,27.0,120.0,60.0,11.0,35.0,19.0,14.0,12.0,10.0,12.0,79.0,36.0,16.0,19.0,49.0,28.0,58.0,7.0,25.0,6.0,12.0,13.0,29.0,7.0,14.0,18.0,27.0,21.0,25.0,6.0,16.0,27.0,6.0,28.0,27.0,19.0,29.0,5.0,5.0,39.0,130.0,48.0,6.0,6.0,7.0,12.0,34.0,24.0,27.0,22.0,7.0,10.0,39.0,25.0,14.0,11.0,24.0,29.0,28.0,33.0,25.0,36.0,21.0,13.0,40.0,45.0,18.0,9.0,49.0,12.0,40.0,29.0,25.0,24.0,13.0,27.0,23.0,7.0,40.0,45.0,73.0,16.0,29.0,38.0,15.0,28.0,52.0,14.0,17.0,14.0,14.0,36.0,49.0,5.0,121.0,27.0,37.0,8.0,13.0,11.0,45.0,20.0,19.0,8.0,6.0,12.0,13.0,10.0,51.0,41.0,11.0,10.0,9.0,42.0,18.0,35.0,46.0,10.0,7.0,27.0,47.0,14.0,9.0,53.0,13.0,9.0,13.0,27.0,7.0,13.0,22.0,5.0,15.0,33.0,14.0,40.0,15.0,39.0,24.0,44.0,44.0,15.0,39.0,37.0,19.0,33.0,11.0,15.0,75.0,11.0,46.0,32.0,12.0,18.0,26.0,17.0,16.0,20.0,32.0,56.0,21.0,27.0,158.0,30.0,16.0,47.0,27.0,18.0,48.0,28.0,59.0,49.0,241.0,17.0,50.0,7.0,29.0,34.0,13.0,24.0,86.0,25.0,22.0,14.0,26.0,14.0,21.0,24.0,17.0,30.0,21.0,36.0,54.0,17.0,11.0,19.0,15.0,27.0,18.0,18.0,60.0,43.0,19.0,18.0,8.0,53.0,72.0,15.0,34.0,15.0,16.0,187.0,11.0,31.0,41.0,10.0,8.0,28.0,23.0,111.0,86.0,27.0,15.0,110.0,15.0,21.0,85.0,20.0,26.0,46.0,9.0,7.0,25.0,18.0,65.0,62.0,150.0,63.0,65.0,42.0,41.0,85.0,79.0,41.0,54.0,57.0,18.0,21.0,33.0,35.0,29.0,10.0,10.0,10.0,35.0,44.0,50.0,9.0,9.0,9.0,29.0,8.0,14.0,10.0,12.0,11.0,21.0,27.0,18.0,22.0,12.0,46.0,42.0,16.0,10.0,29.0,43.0,15.0,21.0,16.0,24.0,20.0,26.0,96.0,134.0,94.0,71.0,80.0,20.0,119.0,33.0,82.0,24.0,13.0,27.0,15.0,25.0,56.0,15.0,35.0,20.0,14.0,55.0,28.0,28.0,27.0,8.0,20.0,12.0,5.0,22.0,9.0,15.0,26.0,8.0,35.0,14.0,12.0,25.0,28.0,78.0,39.0,11.0,14.0,13.0,9.0,24.0,25.0,8.0,11.0,5.0,5.0,7.0,13.0,12.0,12.0,11.0,45.0,10.0,6.0,9.0,27.0,122.0,20.0,5.0,19.0,124.0,43.0,8.0,55.0,12.0,9.0,11.0,9.0,163.0,23.0,19.0,70.0,8.0,49.0,31.0,11.0,63.0,34.0,12.0,10.0,77.0,66.0,20.0,46.0,19.0,41.0,53.0,131.0,36.0,43.0,48.0,25.0,13.0,26.0,44.0,28.0,43.0,8.0,17.0,48.0,12.0,35.0,22.0,9.0,33.0,13.0,10.0,7.0,17.0,37.0,67.0,40.0,25.0,14.0,35.0,82.0,34.0,41.0,16.0,12.0,31.0,31.0,62.0,6.0,56.0,12.0,33.0,98.0,45.0,31.0,79.0,18.0,77.0,15.0,15.0,14.0,12.0,14.0,19.0,42.0,62.0,108.0,19.0,13.0,16.0,9.0,18.0,12.0,77.0,23.0,16.0,36.0,9.0,24.0,15.0,24.0,141.0,25.0,25.0,20.0,20.0,43.0,51.0,21.0,24.0,18.0,29.0,14.0,35.0,24.0,118.0,16.0,26.0,34.0,82.0,7.0,25.0,166.0,37.0,8.0,11.0,13.0,5.0,24.0,36.0,8.0,26.0,23.0,19.0,35.0,36.0,57.0,23.0,6.0,105.0,13.0,18.0,19.0,29.0,45.0,12.0,6.0,7.0,27.0,34.0,13.0,14.0,7.0,8.0,13.0,5.0,21.0,30.0,5.0,44.0,22.0,59.0,49.0,87.0,24.0,66.0,11.0,38.0,14.0,16.0,26.0,22.0,6.0,45.0,37.0,39.0,18.0,74.0,44.0,8.0,16.0,14.0,62.0,88.0,19.0,9.0,18.0,50.0,154.0,29.0,15.0,158.0,18.0,11.0,5.0,7.0,8.0,9.0,30.0,17.0,30.0,9.0,185.0,11.0,37.0,111.0,9.0,54.0,11.0,13.0,30.0,11.0,17.0,12.0,11.0,16.0,6.0,19.0,26.0,9.0,21.0,17.0,57.0,21.0,17.0,24.0,16.0,15.0,11.0,20.0,10.0,37.0,8.0,19.0,23.0,13.0,56.0,23.0,9.0,9.0,5.0,43.0,8.0,8.0,11.0,8.0,9.0,55.0,10.0,34.0,6.0,8.0,29.0,27.0,15.0,33.0,23.0,81.0,98.0,30.0,11.0,41.0,150.0,19.0,11.0,33.0,66.0,25.0,13.0,9.0,55.0,21.0,20.0,19.0,7.0,19.0,63.0,20.0,5.0,14.0,12.0,8.0,29.0,14.0,5.0,10.0,35.0,46.0,34.0,81.0,19.0,26.0,76.0,31.0,12.0,88.0,76.0,28.0,24.0,5.0,9.0,32.0,8.0,5.0,16.0,24.0,29.0,18.0,18.0,11.0,77.0,17.0,24.0,35.0,14.0,11.0,40.0,57.0,14.0,15.0,207.0,12.0,26.0,16.0,28.0,20.0,18.0,12.0,34.0,10.0,46.0,16.0,20.0,49.0,18.0,8.0,39.0,72.0,29.0,15.0,225.0,77.0,20.0,12.0,34.0,61.0,19.0,12.0,78.0,15.0,32.0,103.0,7.0,11.0,202.0,7.0,54.0,8.0,22.0,14.0,10.0,23.0,30.0,13.0,29.0,11.0,25.0,23.0,13.0,15.0,8.0,8.0,11.0,17.0,19.0,9.0,16.0,9.0,26.0,28.0,48.0,13.0,19.0,18.0,30.0,15.0,21.0,52.0,24.0,97.0,56.0,29.0,15.0,61.0,29.0,15.0,16.0,45.0,12.0,26.0,11.0,18.0,15.0,57.0,41.0,17.0,12.0,38.0,44.0,39.0,40.0,90.0,74.0,13.0,52.0,12.0,32.0,38.0,41.0,56.0,7.0,20.0,9.0,115.0,7.0,13.0,20.0,21.0,22.0,57.0,37.0,25.0,47.0,55.0,6.0,14.0,13.0,55.0,14.0,32.0,46.0,21.0,22.0,21.0,41.0,10.0,40.0,26.0,9.0,22.0,69.0,156.0,33.0,24.0,15.0,29.0,13.0,27.0,77.0,10.0,8.0,26.0,16.0,17.0,15.0,27.0,12.0,13.0,13.0,7.0,17.0,86.0,14.0,26.0,8.0,81.0,8.0,13.0,83.0,5.0,7.0,10.0,24.0,13.0,18.0,24.0,9.0,102.0,44.0,39.0,25.0,7.0,28.0,18.0,13.0,9.0,14.0,7.0,20.0,19.0,19.0,15.0,39.0,38.0,18.0,38.0,10.0,108.0,38.0,14.0,19.0,45.0,11.0,11.0,123.0,16.0,11.0,91.0,108.0,77.0,31.0,145.0,88.0,14.0,110.0,32.0,11.0,90.0,13.0,34.0,54.0,99.0,32.0,74.0,77.0,52.0,29.0,43.0,43.0,20.0,5.0,90.0,12.0,11.0,27.0,10.0,13.0,49.0,196.0,25.0,17.0,45.0,26.0,31.0,23.0,13.0,22.0,33.0,46.0,35.0,131.0,21.0,38.0,26.0,10.0,16.0,36.0,14.0,23.0,12.0,21.0,52.0,74.0,62.0,8.0,17.0,12.0,20.0,33.0,20.0,14.0,33.0,21.0,40.0,9.0,27.0,123.0,13.0,30.0,7.0,30.0,22.0,32.0,6.0,51.0,131.0,49.0,28.0,68.0,12.0,16.0,12.0,32.0,44.0,8.0,41.0,32.0,34.0,63.0,29.0,24.0,5.0,15.0,35.0,25.0,23.0,29.0,27.0,6.0,9.0,12.0,15.0,18.0,14.0,11.0,70.0,26.0,22.0,17.0,13.0,57.0,21.0,52.0,16.0,31.0,56.0,29.0,10.0,46.0,14.0,29.0,162.0,17.0,74.0,59.0,25.0,23.0,19.0,38.0,23.0,36.0,89.0,21.0,62.0,55.0,74.0,10.0,58.0,31.0,23.0,136.0,32.0,310.0,104.0,291.0,34.0,131.0,23.0,124.0,144.0,99.0,35.0,26.0,17.0,47.0,25.0,18.0,33.0,69.0,16.0,24.0,24.0,56.0,26.0,26.0,17.0,65.0,28.0,25.0,29.0,5.0,30.0,115.0,22.0,30.0,62.0,113.0,17.0,161.0,21.0,22.0,41.0,56.0,224.0,42.0,32.0,26.0,36.0,10.0,24.0,10.0,32.0,42.0,16.0,43.0,20.0,75.0,77.0,85.0,240.0,15.0,42.0,17.0,82.0,15.0,88.0,14.0,21.0,21.0,25.0,13.0,64.0,13.0,11.0,38.0,9.0,29.0,89.0,30.0,14.0,25.0,37.0,10.0,68.0,16.0,53.0,78.0,40.0,33.0,80.0,51.0,15.0,35.0,8.0,27.0,61.0,34.0,10.0,11.0,56.0,12.0,11.0,9.0,24.0,26.0,22.0,6.0,34.0,13.0,18.0,14.0,16.0,34.0,13.0,28.0,8.0,57.0,27.0,15.0,26.0,39.0,39.0,136.0,61.0,19.0,37.0,62.0,48.0,12.0,41.0,14.0,10.0,10.0,11.0,10.0,50.0,7.0,24.0,18.0,12.0,59.0,19.0,23.0,30.0,18.0,25.0,39.0,77.0,51.0,31.0,21.0,30.0,10.0,14.0,22.0,37.0,26.0,46.0,23.0,21.0,10.0,71.0,183.0,27.0,9.0,14.0,6.0,25.0,27.0,17.0,13.0,11.0,23.0,27.0,192.0,46.0,56.0,9.0,101.0,64.0,12.0,15.0,9.0,71.0,39.0,9.0,100.0,24.0,33.0,35.0,9.0,309.0,110.0,34.0,17.0,13.0,48.0,34.0,23.0,20.0,25.0,14.0,42.0,27.0,11.0,18.0,59.0,123.0,215.0,19.0,35.0,46.0,22.0,38.0,30.0,107.0,38.0,95.0,83.0,106.0,97.0,77.0,9.0,24.0,41.0,22.0,30.0,22.0,23.0,53.0,17.0,321.0,32.0,17.0,30.0,34.0,45.0,42.0,10.0,28.0,14.0,6.0,11.0,11.0,10.0,18.0,7.0,27.0,15.0,12.0,106.0,47.0,27.0,71.0,9.0,45.0,63.0,8.0,12.0,69.0,13.0,22.0,151.0,102.0,36.0,13.0,53.0,8.0,39.0,36.0,16.0,25.0,16.0,26.0,9.0,47.0,20.0,39.0,19.0,26.0,38.0,10.0,45.0,11.0,72.0,7.0,5.0,11.0,48.0,24.0,42.0,39.0,321.0,18.0,92.0,77.0,11.0,20.0,12.0,16.0,73.0,26.0,15.0,7.0,43.0,63.0,72.0,25.0,40.0,61.0,13.0,19.0,32.0,104.0,11.0,30.0,82.0,9.0,86.0,6.0,16.0,12.0,12.0,14.0,65.0,35.0,130.0,41.0,12.0,59.0,70.0,17.0,15.0,37.0,18.0,34.0,23.0,40.0,24.0,126.0,18.0,112.0,30.0,16.0,38.0,53.0,196.0,24.0,48.0,7.0,52.0,17.0,24.0,13.0,62.0,15.0,11.0,22.0,5.0,62.0,12.0,13.0,30.0,17.0,28.0,13.0,16.0,38.0,8.0,15.0,9.0,80.0,16.0,10.0,10.0,9.0,28.0,6.0,27.0,16.0,17.0,41.0,17.0,11.0,35.0,28.0,11.0,16.0,14.0,5.0,20.0,11.0,82.0,11.0,5.0,34.0,29.0,4.0,13.0,27.0,43.0,24.0,91.0,11.0,30.0,10.0,38.0,14.0,86.0,69.0,6.0,49.0,14.0,10.0,5.0,6.0,11.0,16.0,6.0,6.0,7.0,28.0,6.0,8.0,13.0,5.0,14.0,6.0,47.0,98.0,22.0,11.0,7.0,34.0,49.0,15.0,32.0,9.0,23.0,9.0,12.0,31.0,20.0,38.0,93.0,83.0,53.0,22.0,24.0,49.0,24.0,10.0,35.0,40.0,36.0,23.0,49.0,52.0,9.0,15.0,43.0,23.0,20.0,27.0,11.0,17.0,19.0,31.0,16.0,26.0,15.0,17.0,16.0,27.0,19.0,25.0,8.0,14.0,11.0,106.0,12.0,91.0,33.0,21.0,64.0,18.0,12.0,23.0,33.0,17.0,31.0,37.0,30.0,7.0,17.0,36.0,23.0,23.0,24.0,125.0,64.0,75.0,58.0,37.0,72.0,65.0,348.0,39.0,67.0,63.0,19.0,82.0,32.0,46.0,55.0,14.0,29.0,53.0,49.0,49.0,402.0,17.0,135.0,120.0,126.0,65.0,77.0,171.0,61.0,89.0,50.0,74.0,26.0,212.0,36.0,52.0,34.0,74.0,27.0,19.0,16.0,27.0,15.0,10.0,43.0,8.0,48.0,28.0,23.0,16.0,77.0,16.0,28.0,16.0,60.0,20.0,95.0,18.0,64.0,31.0,48.0,70.0,25.0,11.0,20.0,59.0,107.0,32.0,20.0,15.0,73.0,75.0,160.0,66.0,65.0,69.0,89.0,93.0,83.0,22.0,53.0,32.0,133.0,110.0,138.0,80.0,66.0,43.0,80.0,251.0,63.0,207.0,90.0,25.0,23.0,16.0,17.0,97.0,19.0,43.0,48.0,48.0,29.0,34.0,82.0,20.0,8.0,11.0,83.0,12.0,17.0,28.0,19.0,38.0,126.0,31.0,18.0,29.0,24.0,18.0,32.0,32.0,36.0,31.0,20.0,42.0,10.0,8.0,24.0,125.0,99.0,454.0,115.0,40.0,54.0,43.0,123.0,22.0,281.0,112.0,18.0,73.0,30.0,77.0,30.0,20.0,12.0,12.0,21.0,31.0,14.0,64.0,88.0,221.0,60.0,159.0,89.0,45.0,50.0,77.0,178.0,53.0,68.0,59.0,7.0,75.0,87.0,21.0,32.0,43.0,91.0,8.0,40.0,19.0,11.0,22.0,43.0,15.0,47.0,84.0,17.0,68.0,26.0,20.0,26.0,20.0,50.0,23.0,18.0,24.0,47.0,57.0,26.0,38.0,19.0,38.0,86.0,17.0,84.0,12.0,13.0,40.0,30.0,13.0,36.0,68.0,19.0,29.0,28.0,38.0,12.0,308.0,32.0,197.0,162.0,129.0,41.0,185.0,197.0,80.0,82.0,58.0,174.0,145.0,66.0,117.0,133.0,43.0,188.0,87.0,136.0,62.0,29.0,132.0,22.0,26.0,109.0,49.0,12.0,39.0,15.0,13.0,25.0,13.0,24.0,71.0,20.0,74.0,12.0,120.0,16.0,33.0,195.0,87.0,118.0,24.0,39.0,54.0,15.0,70.0,19.0,23.0,20.0,17.0,536.0,17.0,143.0,37.0,54.0,24.0,19.0,35.0,37.0,27.0,94.0,59.0,83.0,33.0,12.0,7.0,60.0,25.0,14.0,15.0,13.0,20.0,44.0,39.0,57.0,36.0,37.0,54.0,60.0,126.0,16.0,12.0,60.0,15.0,21.0,30.0,26.0,40.0,34.0,49.0,17.0,7.0,84.0,65.0,171.0,131.0,30.0,97.0,39.0,28.0,31.0,22.0,32.0,49.0,138.0,48.0,47.0,316.0,25.0,330.0,90.0,93.0,93.0,21.0,110.0,46.0,20.0,23.0,30.0,195.0,21.0,74.0,38.0,33.0,44.0,29.0,10.0,20.0,21.0,37.0,24.0,31.0,48.0,19.0,17.0,140.0,38.0,126.0,56.0,59.0,24.0,16.0,27.0,78.0,31.0,11.0,15.0,14.0,47.0,38.0,91.0,9.0,35.0,16.0,21.0,7.0,21.0,24.0,60.0,97.0,11.0,12.0,20.0,41.0,7.0,35.0,18.0,24.0,78.0,26.0,36.0,41.0,22.0,24.0,12.0,16.0,16.0,30.0,20.0,14.0,94.0,20.0,11.0,34.0,56.0,135.0,13.0,25.0,29.0,12.0,30.0,123.0,83.0,28.0,22.0,31.0,34.0,32.0,24.0,11.0,157.0,15.0,18.0,12.0,26.0,31.0,26.0,13.0,22.0,92.0,28.0,29.0,13.0,8.0,12.0,44.0,33.0,54.0,58.0,66.0,90.0,24.0,8.0,66.0,32.0,21.0,32.0,57.0,11.0,122.0,9.0,30.0,57.0,64.0,23.0,35.0,22.0,32.0,17.0,28.0,23.0,22.0,25.0,15.0,62.0,39.0,83.0,74.0,62.0,82.0,97.0,7.0,59.0,76.0,25.0,14.0,179.0,28.0,25.0,13.0,28.0,49.0,19.0,44.0,14.0,25.0,12.0,7.0,17.0,13.0,12.0,25.0,55.0,56.0,34.0,13.0,23.0,22.0,34.0,7.0,12.0,8.0,224.0,204.0,44.0,48.0,8.0,36.0,31.0,39.0,9.0,38.0,29.0,7.0,42.0,19.0,36.0,13.0,38.0,21.0,104.0,46.0,52.0,30.0,491.0,74.0,24.0,67.0,19.0,17.0,18.0,49.0,16.0,32.0,94.0,133.0,80.0,65.0,16.0,52.0,125.0,31.0,23.0,21.0,19.0,27.0,66.0,21.0,28.0,35.0,27.0,18.0,76.0,61.0,77.0,45.0,29.0,10.0,35.0,101.0,10.0,23.0,39.0,7.0,6.0,20.0,72.0,37.0,73.0,64.0,116.0,7.0,33.0,7.0,28.0,16.0,18.0,29.0,84.0,47.0,35.0,12.0,17.0,70.0,38.0,21.0,69.0,43.0,17.0,71.0,38.0,20.0,26.0,73.0,15.0,47.0,28.0,14.0,25.0,25.0,34.0,62.0,33.0,29.0,214.0,49.0,35.0,16.0,13.0,113.0,110.0,69.0,44.0,174.0,41.0,41.0,9.0,36.0,17.0,27.0,14.0,25.0,37.0,13.0,55.0,29.0,18.0,7.0,52.0,22.0,20.0,8.0,25.0,52.0,168.0,19.0,18.0,61.0,108.0,125.0,49.0,36.0,18.0,36.0,79.0,58.0,12.0,19.0,24.0,31.0,29.0,7.0,46.0,45.0,43.0,84.0,43.0,173.0,58.0,38.0,384.0,60.0,77.0,13.0,53.0,98.0,50.0,80.0,62.0,14.0,32.0,12.0,8.0,19.0,25.0,172.0,13.0,103.0,78.0,102.0,24.0,39.0,52.0,46.0,7.0,32.0,14.0,9.0,28.0,53.0,37.0,33.0,15.0,74.0,144.0,91.0,61.0,42.0,32.0,74.0,60.0,61.0,66.0,67.0,41.0,45.0,56.0,102.0,58.0,14.0,70.0,36.0,45.0,18.0,27.0,7.0,147.0,114.0,136.0,191.0,123.0,160.0,115.0,77.0,286.0,96.0,283.0,44.0,74.0,37.0,19.0,45.0,40.0,29.0,48.0,46.0,72.0,24.0,17.0,16.0,129.0,77.0,329.0,142.0,113.0,111.0,111.0,113.0,246.0,9.0,5.0,38.0,31.0,32.0,26.0,48.0,129.0,26.0,22.0,10.0,353.0,56.0,68.0,137.0,119.0,107.0,114.0,9.0,15.0,12.0,62.0,24.0,12.0,47.0,69.0,16.0,51.0,45.0,9.0,100.0,21.0,9.0,13.0,10.0,34.0,8.0,53.0,98.0,6.0,33.0,48.0,48.0,72.0,71.0,7.0,28.0,64.0,21.0,21.0,9.0,10.0,30.0,58.0,13.0,22.0,19.0,39.0,16.0,20.0,14.0,8.0,24.0,36.0,26.0,60.0,20.0,26.0,9.0,11.0,78.0,123.0,28.0,60.0,30.0,21.0,8.0,28.0,13.0,9.0,16.0,24.0,81.0,14.0,154.0,41.0,13.0,48.0,10.0,11.0,51.0,28.0,23.0,20.0,122.0,35.0,47.0,7.0,14.0,13.0,29.0,60.0,106.0,21.0,26.0,30.0,59.0,21.0,90.0,118.0,81.0,16.0,25.0,22.0,18.0,85.0,36.0,12.0,27.0,12.0,53.0,20.0,49.0,53.0,55.0,31.0,37.0,15.0,13.0,124.0,23.0,62.0,16.0,20.0,9.0,103.0,19.0,87.0,22.0,22.0,33.0,47.0,35.0,18.0,44.0,28.0,84.0,13.0,53.0,161.0,19.0,64.0,19.0,18.0,36.0,19.0,56.0,24.0,67.0,70.0,59.0,10.0,60.0,23.0,34.0,37.0,28.0,96.0,27.0,57.0,26.0,28.0,18.0,21.0,13.0,31.0,119.0,5.0,28.0,7.0,13.0,41.0,25.0,9.0,39.0,19.0,88.0,14.0,12.0,51.0,43.0,113.0,39.0,44.0,24.0,30.0,78.0,8.0,25.0,22.0,15.0,35.0,14.0,18.0,16.0,15.0,18.0,87.0,28.0,20.0,64.0,22.0,48.0,353.0,27.0,27.0,18.0,29.0,16.0,29.0,30.0,9.0,6.0,42.0,14.0,20.0,21.0,101.0,301.0,7.0,15.0,54.0,77.0,49.0,40.0,9.0,23.0,22.0,7.0,17.0,11.0,8.0,30.0,37.0,37.0,23.0,36.0,12.0,18.0,79.0,18.0,85.0,59.0,16.0,36.0,38.0,8.0,20.0,458.0,21.0,11.0,8.0,69.0,12.0,25.0,88.0,7.0,54.0,83.0,8.0,129.0,30.0,57.0,10.0,28.0,32.0,44.0,36.0,116.0,15.0,40.0,20.0,36.0,24.0,31.0,17.0,34.0,10.0,65.0,28.0,215.0,6.0,39.0,79.0,22.0,68.0,65.0,28.0,17.0,46.0,271.0,8.0,13.0,23.0,23.0,27.0,239.0,40.0,45.0,6.0,50.0,20.0,18.0,23.0,7.0,25.0,47.0,17.0,32.0,80.0,39.0,22.0,15.0,23.0,29.0,15.0,177.0,26.0,27.0,37.0,15.0,24.0,16.0,66.0,10.0,84.0,60.0,7.0,46.0,11.0,21.0,21.0,35.0,24.0,29.0,73.0,35.0,34.0,56.0,320.0,72.0,18.0,17.0,29.0,24.0,25.0,36.0,48.0,73.0,23.0,24.0,36.0,9.0,30.0,29.0,32.0,115.0,52.0,358.0,32.0,9.0,12.0,16.0,54.0,60.0,69.0,20.0,60.0,87.0,40.0,44.0,49.0,17.0,8.0,30.0,23.0,16.0,10.0,18.0,45.0,13.0,13.0,131.0,18.0,86.0,12.0,12.0,11.0,29.0,80.0,16.0,27.0,28.0,15.0,106.0,23.0,7.0,74.0,48.0,119.0,21.0,152.0,7.0,8.0,65.0,304.0,18.0,27.0,49.0,48.0,63.0,10.0,22.0,8.0,12.0,8.0,16.0,17.0,22.0,140.0,21.0,42.0,48.0,38.0,20.0],\"y0\":\" \",\"yaxis\":\"y4\",\"type\":\"box\"},{\"alignmentgroup\":\"True\",\"hovertemplate\":\"variable=content_duration\\u003cbr\\u003evalue=%{y}\\u003cextra\\u003e\\u003c\\u002fextra\\u003e\",\"legendgroup\":\"content_duration\",\"marker\":{\"color\":\"#FFA15A\"},\"name\":\"content_duration\",\"notched\":false,\"offsetgroup\":\"content_duration\",\"orientation\":\"v\",\"showlegend\":true,\"x0\":\" \",\"xaxis\":\"x5\",\"y\":[1.5,39.0,2.5,3.0,2.0,3.0,1.0,2.5,2.5,1.0,5.0,1.0,1.5,2.0,7.0,1.5,1.5,4.0,1.5,0.5833333333333334,2.0,4.0,2.0,1.0,2.0,5.0,4.5,2.0,4.5,3.0,2.5,1.5,6.5,2.0,1.5,10.0,5.5,4.5,7.5,5.5,10.0,6.5,11.5,1.0,16.0,3.0,5.0,5.5,5.0,2.0,2.0,3.0,2.0,1.0,1.5,4.0,5.5,1.0,1.5,1.0,3.5,9.0,4.5,8.5,6.5,5.5,11.0,1.5,3.5,3.0,5.0,2.5,1.0,1.0,3.0,2.0,4.0,1.0,5.0,4.0,1.5,2.0,11.5,1.5,1.0,1.5,1.0,4.5,1.0,1.5,2.5,0.7,9.5,5.0,1.0,0.55,3.0,1.5,5.5,2.0,1.5,1.5,1.5,1.5,1.5,1.0,1.0,1.0,2.0,4.5,5.0,1.5,2.0,1.0,62.0,1.5,0.1333333333333333,0.6833333333333333,2.5,1.5,3.0,4.5,31.5,3.5,2.5,3.0,0.55,1.0,1.5,2.0,1.0,2.5,1.0,1.0,1.5,9.5,1.0,20.0,2.5,1.0,6.0,1.5,4.0,1.5,5.0,2.5,2.5,3.0,1.5,1.0,1.5,1.5,1.0,3.0,3.0,3.5,1.0,2.0,4.5,1.0,46.5,5.0,4.0,2.5,3.0,1.0,1.5,2.0,1.5,4.5,2.0,1.5,2.0,3.0,1.5,5.5,1.5,5.5,10.0,2.0,3.0,0.7,1.0,6.0,1.0,1.5,1.5,2.0,5.0,1.5,4.5,4.5,3.5,1.5,1.0,1.5,0.55,9.0,2.0,1.0,1.0,1.5,1.5,5.5,6.0,2.0,2.0,7.0,1.0,2.0,0.7166666666666667,1.5,10.0,1.5,1.0,2.0,1.5,17.5,1.0,1.0,4.5,1.0,2.0,2.0,1.5,12.0,2.0,3.5,1.0,1.5,1.5,1.5,2.0,2.0,0.6833333333333333,3.0,1.5,4.0,2.5,2.0,4.0,2.0,2.5,2.0,2.5,5.0,3.5,1.0,1.0,0.5333333333333333,4.0,1.0,1.0,4.5,2.5,1.0,2.5,4.5,3.0,2.0,24.0,19.5,3.0,1.5,1.5,2.0,3.5,2.5,4.0,20.5,3.0,1.0,4.0,3.0,3.0,2.0,2.5,3.0,0.5,0.7166666666666667,2.0,10.0,20.5,2.0,1.5,10.5,1.0,1.5,3.0,5.5,0.5166666666666666,1.5,2.0,5.0,4.5,1.0,6.5,1.5,2.5,2.0,6.0,0.6,1.5,2.0,1.5,1.0,1.0,0.7,1.5,4.0,3.0,5.5,7.0,1.0,2.0,5.5,1.5,2.5,0.6833333333333333,2.0,0.5,2.0,2.0,0.6833333333333333,3.5,5.5,8.0,2.5,2.0,2.0,29.0,4.0,1.5,3.0,8.0,3.0,2.5,1.0,26.0,1.5,1.5,2.5,1.5,3.0,0.7,6.0,1.0,2.5,1.0,1.0,10.0,1.0,1.0,11.0,3.5,0.5333333333333333,24.5,3.0,1.5,2.0,1.0,2.5,2.0,2.5,6.0,0.7166666666666667,6.0,1.0,2.0,2.5,2.5,1.5,8.0,1.0,1.0,1.5,1.0,1.5,10.0,1.0,3.0,4.0,1.0,5.5,3.5,5.0,1.5,0.5833333333333334,1.0,13.0,1.0,1.0,2.5,1.5,0.7333333333333333,1.0,3.5,1.0,2.5,1.5,1.5,7.5,6.0,2.0,1.5,2.0,0.6,7.5,1.5,4.0,1.0,1.0,3.5,1.0,0.7166666666666667,0.5666666666666667,2.0,3.5,1.5,1.0,1.5,1.0,1.5,1.5,1.5,1.0,2.5,2.0,1.5,3.0,2.0,1.0,2.0,4.5,1.0,1.5,5.5,12.5,1.0,2.0,1.0,3.5,1.0,12.5,2.0,6.5,1.0,5.5,0.3166666666666666,5.5,11.5,8.0,1.0,0.6166666666666667,1.5,2.5,2.0,2.0,2.0,3.5,2.0,1.0,1.0,5.5,2.0,4.0,1.0,0.6666666666666666,2.5,4.5,3.0,4.5,2.0,1.5,1.5,0.6666666666666666,2.0,2.0,6.5,3.5,1.0,2.0,6.0,1.5,4.0,1.5,8.0,4.5,0.6,2.0,2.0,1.5,8.0,3.5,3.5,1.5,2.5,18.0,3.5,1.5,19.5,0.5666666666666667,0.6166666666666667,1.0,1.0,1.0,24.5,1.5,1.5,1.0,6.5,5.5,7.5,1.5,1.5,1.0,0.5666666666666667,2.0,2.5,2.5,1.0,1.0,1.5,0.5666666666666667,0.7166666666666667,1.0,2.0,0.5333333333333333,33.0,3.0,24.5,7.5,3.0,1.0,3.5,1.5,5.0,1.0,0.5333333333333333,1.0,5.0,10.5,2.0,7.0,1.0,3.5,9.0,2.5,3.0,1.5,2.0,1.0,4.5,1.5,1.0,2.5,2.5,1.5,2.5,1.5,2.5,71.5,7.0,3.5,1.0,6.5,1.0,3.0,2.0,0.5833333333333334,1.0,7.0,1.5,3.5,1.5,1.0,2.0,1.0,2.0,3.0,0.6166666666666667,1.5,2.5,1.0,3.0,1.5,1.0,0.5166666666666666,1.5,20.5,47.0,3.0,2.0,1.0,1.0,4.0,14.5,1.5,1.5,3.5,1.5,2.5,2.0,1.5,5.0,1.5,2.0,0.6166666666666667,3.5,3.0,1.0,1.5,2.0,3.0,3.5,0.5666666666666667,0.6833333333333333,1.0,1.0,0.65,1.0,2.5,4.0,2.0,4.0,1.0,5.5,6.0,6.0,1.5,5.5,1.0,14.5,2.0,1.5,2.0,3.0,1.5,2.5,1.0,0.55,1.5,2.0,1.0,2.0,1.5,2.0,2.5,1.0,1.0,3.5,7.0,18.5,2.0,2.5,43.5,0.6,10.0,2.5,5.5,1.5,0.6333333333333333,1.5,2.0,1.0,2.0,4.5,3.5,0.6666666666666666,5.5,1.0,5.0,4.0,1.5,1.5,2.0,5.0,1.0,4.0,14.0,5.0,6.5,1.0,1.5,1.0,1.0,1.5,3.5,14.5,1.0,1.5,1.0,1.0,7.0,5.0,1.0,2.0,3.0,3.0,4.0,2.0,3.0,1.0,0.6333333333333333,3.5,6.0,2.0,1.5,2.5,4.5,5.5,1.0,2.5,2.5,4.0,2.0,4.0,7.5,0.4666666666666667,1.5,2.5,10.0,2.0,5.0,24.0,1.0,9.0,1.0,14.5,1.0,0.6166666666666667,1.5,1.0,1.0,1.0,2.5,0.5333333333333333,1.0,1.0,1.0,1.5,3.5,0.7333333333333333,1.5,0.5166666666666666,1.0,12.5,1.0,1.5,0.5833333333333334,4.5,2.0,1.5,3.5,2.0,1.5,9.0,1.5,0.6833333333333333,2.0,2.0,6.0,5.5,2.5,4.0,3.5,2.0,1.0,3.5,2.0,1.0,1.5,5.0,1.0,2.5,6.0,8.5,0.5166666666666666,1.0,2.0,2.0,0.5333333333333333,0.7333333333333333,2.5,1.0,2.0,2.5,2.0,4.0,6.0,1.0,1.0,0.6166666666666667,2.5,2.0,1.5,3.0,1.5,1.5,2.5,0.5666666666666667,6.5,1.5,0.7166666666666667,4.5,5.0,3.0,3.0,1.0,1.0,0.5333333333333333,1.5,1.0,1.5,1.0,3.0,4.0,3.0,3.5,0.7,0.6166666666666667,3.5,3.5,1.5,1.0,3.0,4.0,6.0,1.0,2.0,7.0,5.0,2.5,2.5,1.0,7.5,7.5,5.5,1.0,2.0,2.0,2.0,5.0,3.0,3.0,7.0,1.0,1.0,1.0,4.5,2.5,1.0,3.0,1.0,2.5,5.5,3.0,2.0,3.0,1.0,12.0,7.0,2.0,1.0,1.0,1.0,0.5333333333333333,1.0,45.0,1.5,1.5,2.5,70.0,1.5,4.0,6.0,2.0,4.5,0.6,1.0,6.0,8.0,1.0,0.6333333333333333,0.6166666666666667,0.5333333333333333,2.0,1.5,1.0,1.0,1.0,1.5,3.0,3.0,2.0,0.7166666666666667,1.5,1.0,2.5,2.0,3.5,2.5,2.5,2.0,1.5,4.5,1.0,1.0,6.0,2.0,2.5,2.0,1.5,1.5,3.5,3.0,7.5,3.0,1.0,1.0,31.5,0.5333333333333333,1.5,1.5,2.0,3.0,4.5,1.5,1.5,4.0,1.0,10.0,1.5,1.0,2.5,0.6333333333333333,1.5,1.0,0.5166666666666666,2.0,3.0,3.0,29.5,2.5,2.0,6.5,1.0,2.0,1.0,2.0,2.5,2.0,1.0,3.0,1.0,1.0,1.0,1.0,1.0,6.0,5.0,3.0,2.0,13.0,1.5,3.0,2.0,3.5,1.0,4.0,2.5,5.0,13.5,2.5,1.0,2.5,0.6833333333333333,3.5,2.5,0.6666666666666666,0.45,3.0,4.5,1.5,1.5,4.0,6.5,5.5,0.5166666666666666,2.5,0.6833333333333333,1.5,1.0,3.0,1.0,0.5666666666666667,1.0,4.5,3.0,2.5,1.5,1.5,5.0,0.6,4.0,2.5,2.0,7.0,1.0,1.0,2.5,31.5,5.5,0.5333333333333333,1.0,5.5,2.0,2.5,2.0,3.5,2.0,1.0,1.5,6.5,1.0,1.0,1.0,3.5,2.0,2.0,5.0,1.5,4.5,2.5,1.5,10.5,6.0,1.0,2.0,8.5,0.7333333333333333,8.5,2.0,3.0,0.65,1.5,3.5,2.0,0.6166666666666667,5.5,4.5,5.5,2.0,1.5,3.0,1.5,1.0,5.0,1.0,2.0,1.0,1.0,7.5,4.5,1.0,11.0,1.0,3.5,1.0,1.5,2.0,4.5,2.0,4.0,1.5,0.6666666666666666,1.0,1.0,1.0,5.0,8.5,1.0,2.0,1.0,4.0,1.5,8.5,3.0,2.0,1.5,4.5,5.0,2.0,1.5,7.0,3.5,1.5,2.5,3.0,1.0,3.0,1.0,0.6666666666666666,1.5,1.5,1.0,3.5,1.0,3.5,2.0,8.5,10.5,1.0,2.0,5.5,2.0,2.5,1.5,1.0,12.5,0.6,7.0,14.0,1.0,1.5,1.5,1.5,2.0,2.5,1.5,3.0,2.5,5.5,17.5,3.5,2.5,4.5,8.5,1.0,6.5,2.0,8.0,5.0,17.5,1.5,8.5,2.0,1.5,4.0,1.0,4.5,4.0,2.5,2.0,1.0,3.0,3.0,1.5,0.5666666666666667,8.0,4.0,3.0,1.0,3.5,1.5,0.6333333333333333,2.5,2.5,1.5,0.7166666666666667,1.0,2.0,5.5,2.5,2.5,0.65,3.0,3.0,1.5,1.5,0.6333333333333333,1.5,13.0,0.6166666666666667,6.0,4.0,1.0,0.5666666666666667,5.0,2.0,21.0,12.0,1.5,1.0,7.5,1.0,2.0,62.0,1.5,3.0,2.5,0.5,0.6,3.5,1.0,8.0,11.0,11.5,5.0,68.5,3.5,2.5,6.5,9.0,3.5,3.5,3.0,1.0,1.0,1.5,3.0,3.5,1.0,1.0,0.6,5.0,7.5,3.5,1.0,0.6166666666666667,1.0,6.0,2.0,1.0,1.0,0.5666666666666667,1.0,3.0,1.0,5.0,2.5,1.0,6.5,2.0,2.0,1.0,2.5,2.0,1.5,2.0,1.0,1.0,2.5,1.0,11.0,12.0,17.5,11.0,7.5,3.0,13.0,3.5,12.5,2.5,0.65,2.5,2.5,1.5,5.5,1.5,2.5,1.0,0.6833333333333333,6.0,3.0,2.5,1.5,0.7,1.0,1.0,0.55,2.5,2.0,1.5,4.0,0.5666666666666667,5.0,1.5,0.7,10.0,1.0,11.5,2.5,1.0,1.0,1.0,1.5,2.0,3.5,0.5666666666666667,0.6333333333333333,0.5166666666666666,0.5333333333333333,0.5666666666666667,1.0,1.5,0.6833333333333333,0.6666666666666666,4.5,1.0,0.6666666666666666,0.6833333333333333,2.0,12.0,3.5,0.6833333333333333,3.0,13.5,5.5,1.0,2.5,1.5,0.6,1.5,1.5,10.5,3.5,1.5,14.0,1.0,3.5,2.5,1.5,2.5,6.5,1.0,1.5,4.5,6.5,1.5,9.5,2.0,1.5,12.5,12.5,2.0,9.0,3.0,1.0,0.5166666666666666,2.5,6.5,2.5,3.0,0.65,2.0,4.5,0.6666666666666666,7.0,3.0,0.7,2.5,0.7333333333333333,1.0,0.5,1.5,2.0,8.5,5.5,4.0,1.0,3.0,6.5,4.0,12.0,1.5,2.5,2.5,3.5,7.5,1.0,5.5,2.0,5.0,13.0,7.5,3.0,12.5,1.5,6.5,1.0,1.0,1.0,0.5833333333333334,1.0,3.0,3.5,4.5,10.0,1.0,1.5,1.0,0.7333333333333333,0.5666666666666667,1.0,6.5,1.5,1.0,3.5,0.5666666666666667,1.5,2.5,2.0,8.0,0.6666666666666666,4.0,1.0,0.6333333333333333,1.0,4.5,1.5,2.0,1.0,1.5,1.0,2.0,2.0,8.0,1.5,3.5,1.5,8.0,0.6166666666666667,2.0,10.5,3.0,1.5,1.5,2.0,0.6833333333333333,5.5,3.0,1.0,2.0,2.0,1.0,5.0,1.0,3.5,2.5,1.5,12.5,0.6333333333333333,1.0,1.5,4.5,4.5,0.6666666666666666,1.5,1.0,1.0,1.5,3.5,3.5,0.5666666666666667,1.0,2.5,1.0,2.5,9.5,0.6166666666666667,5.5,2.0,7.0,4.0,8.5,4.5,6.5,1.0,8.5,0.7333333333333333,2.0,2.5,2.5,0.6333333333333333,6.0,2.0,2.5,1.0,7.5,5.0,1.0,1.5,1.5,12.0,7.5,2.5,1.0,1.5,4.5,14.5,1.5,1.0,30.0,2.0,1.0,0.6166666666666667,1.0,0.6166666666666667,1.5,1.0,2.0,2.5,1.0,6.5,2.0,5.0,17.0,1.5,3.0,1.5,0.5333333333333333,4.0,0.6,2.0,0.7,1.0,1.0,0.5833333333333334,1.5,4.0,1.0,4.0,0.7333333333333333,5.5,1.5,1.5,1.5,2.5,3.5,1.5,4.0,1.0,4.0,0.5833333333333334,1.0,2.5,1.5,5.0,2.5,1.0,1.0,0.55,2.5,1.0,1.0,1.0,0.6833333333333333,2.0,4.5,0.6333333333333333,3.5,1.0,0.6166666666666667,2.5,2.5,1.0,20.0,1.5,5.0,16.5,2.0,1.0,4.0,3.5,2.5,1.0,2.5,5.5,2.5,0.7,1.0,3.5,2.5,1.5,1.5,1.0,2.0,7.0,4.5,0.5666666666666667,2.0,0.6,0.6833333333333333,2.5,1.5,1.0,0.65,5.0,4.0,2.0,5.0,3.0,7.5,5.0,2.0,0.6333333333333333,10.5,6.0,3.0,5.5,0.7166666666666667,0.5833333333333334,3.5,0.6,0.6166666666666667,1.5,3.5,2.0,1.0,0.7166666666666667,0.6666666666666666,10.0,3.5,2.5,4.0,1.0,1.0,3.0,15.0,0.5,1.0,20.5,1.5,2.0,1.0,4.5,3.0,2.5,2.0,2.0,1.0,4.5,1.5,1.5,3.0,1.0,2.0,6.5,5.0,2.0,2.0,78.5,7.5,1.0,1.0,1.0,8.0,3.5,1.5,6.0,3.0,4.5,12.0,1.0,1.5,16.0,1.0,3.0,1.0,2.5,2.0,1.0,2.0,2.0,1.0,2.0,4.0,2.0,4.5,1.0,0.5333333333333333,0.7166666666666667,1.0,1.5,1.0,2.0,0.6166666666666667,1.5,1.5,2.0,3.0,9.0,2.0,2.5,2.5,3.0,1.0,1.0,3.0,1.0,11.0,5.5,2.5,1.0,4.5,4.5,1.5,2.0,4.0,1.0,5.0,0.5,2.5,1.5,6.5,3.0,1.5,1.0,2.0,7.0,4.5,4.0,5.0,8.0,1.0,5.5,1.0,2.0,4.0,4.0,8.5,1.0,2.0,1.0,9.5,0.5166666666666666,0.5166666666666666,1.5,5.0,1.0,2.0,1.0,1.0,8.0,6.0,1.0,1.0,1.5,6.0,0.5333333333333333,6.0,9.5,2.5,2.5,2.5,2.0,0.6166666666666667,8.0,1.0,1.5,2.0,3.0,24.0,2.0,2.0,2.5,2.0,1.5,2.5,7.5,2.0,1.0,1.0,1.0,1.0,1.0,1.5,0.65,1.0,0.6333333333333333,1.0,3.0,8.0,1.5,2.0,0.5333333333333333,4.5,1.5,2.0,7.5,0.7,0.6,0.7,1.5,1.5,1.0,1.0,1.5,2.0,3.0,2.0,1.5,0.6333333333333333,1.0,1.5,2.0,2.5,1.0,1.0,3.0,0.5166666666666666,1.0,2.5,3.0,2.5,2.0,2.0,1.0,7.0,3.5,1.0,1.5,3.0,2.0,0.6333333333333333,7.5,1.5,0.7,4.0,7.0,1.5,2.0,7.5,6.0,0.6833333333333333,2.5,3.0,0.5,10.5,0.5166666666666666,2.0,3.0,2.0,3.5,1.5,5.0,2.0,2.5,3.0,0.5,2.0,1.0,2.5,1.0,2.5,2.5,0.6833333333333333,1.0,6.0,5.5,1.5,3.0,1.0,2.0,2.5,2.0,1.0,2.0,2.0,3.5,2.0,8.0,4.5,3.0,2.5,0.7333333333333333,1.5,2.0,1.0,1.5,1.0,3.0,4.5,2.0,3.5,1.0,1.5,1.0,1.0,2.5,2.0,1.0,4.0,2.0,5.5,1.0,2.5,11.5,2.0,4.0,1.5,3.0,5.0,5.0,1.5,5.5,7.5,4.0,1.5,1.5,0.5,1.0,0.6666666666666666,1.5,4.5,0.6666666666666666,1.5,6.0,1.5,1.5,2.0,1.5,1.0,2.5,1.0,2.5,4.5,4.0,2.5,0.4833333333333333,1.0,1.5,1.5,2.5,0.65,1.0,1.5,1.0,2.0,2.0,0.5666666666666667,1.5,2.0,3.5,1.5,1.0,10.0,1.5,1.0,11.5,1.5,1.0,18.5,1.5,5.0,4.5,1.0,1.5,1.5,1.0,0.6166666666666667,2.0,4.0,1.0,1.5,6.5,8.5,1.0,3.0,1.0,3.5,9.5,3.0,34.0,5.0,31.0,1.5,15.5,1.5,11.5,8.5,9.0,1.5,1.5,1.0,1.5,3.5,1.0,6.0,1.5,1.0,1.5,2.0,1.5,0.6333333333333333,4.0,1.5,5.0,1.5,1.0,2.5,1.5,1.0,2.5,2.0,1.0,2.5,2.0,1.0,14.0,1.0,1.5,1.0,4.0,28.5,1.0,2.0,1.5,2.5,0.6,1.0,1.0,0.6166666666666667,2.5,3.0,1.0,1.5,5.0,5.5,10.5,23.0,1.5,3.0,1.5,2.5,1.0,7.0,1.5,1.5,0.7333333333333333,1.0,1.0,8.0,4.0,1.0,4.5,0.6666666666666666,1.5,6.0,2.0,2.0,6.0,3.5,1.0,6.5,0.6666666666666666,5.0,5.0,12.5,1.0,4.0,3.0,3.0,3.0,1.0,1.0,4.0,5.0,2.5,0.5833333333333334,3.0,0.5,1.0,0.5833333333333334,3.5,1.0,1.5,0.7333333333333333,1.5,2.0,1.5,1.0,3.0,3.0,1.5,6.5,1.0,7.0,3.5,2.0,3.0,3.0,2.5,8.0,2.5,2.0,4.0,5.5,3.0,2.0,3.0,1.0,1.0,2.0,1.5,1.0,4.0,1.5,1.5,0.7333333333333333,1.0,3.5,2.0,0.6,2.0,1.5,1.5,3.0,2.5,4.5,1.5,3.5,1.5,2.5,1.0,2.5,2.5,3.5,2.0,3.0,1.0,1.5,3.5,2.0,3.0,0.55,1.5,1.5,2.0,4.0,1.5,1.0,1.0,3.0,2.0,6.0,5.0,4.0,0.5333333333333333,4.5,9.5,0.5333333333333333,1.0,1.0,3.5,3.0,1.5,6.0,1.5,2.0,4.0,1.0,38.0,9.0,2.0,1.5,1.5,1.5,0.6166666666666667,3.0,2.0,2.0,1.0,2.0,6.0,0.55,1.5,2.5,7.0,10.5,1.5,1.5,3.5,1.5,2.5,4.0,8.5,3.5,5.0,3.5,8.0,7.0,4.5,0.7166666666666667,1.5,3.0,2.5,2.5,1.0,3.5,3.0,3.0,3.5,6.0,4.0,3.0,2.0,7.0,3.0,0.7333333333333333,2.0,2.0,0.6166666666666667,1.0,1.5,1.0,1.5,1.0,1.0,2.0,1.5,6.5,2.5,2.0,1.5,0.6666666666666666,4.5,5.0,2.0,1.5,3.0,1.0,1.0,2.5,7.5,7.0,1.0,2.5,0.6166666666666667,1.0,3.0,2.0,1.5,4.0,3.0,1.5,3.5,3.0,5.5,3.0,1.5,2.5,1.0,4.5,1.5,2.0,2.0,1.0,2.0,1.0,1.5,6.5,3.0,3.5,1.5,4.0,5.0,2.5,1.5,1.0,1.0,5.5,3.5,1.5,2.5,4.5,5.5,4.0,1.5,3.0,8.0,1.0,1.5,5.5,5.5,1.5,6.0,4.0,1.0,5.5,1.5,2.0,0.7166666666666667,0.6666666666666666,2.0,3.0,2.5,7.0,1.5,0.6333333333333333,2.0,7.5,1.5,2.0,1.5,1.0,1.5,3.5,7.5,4.5,7.5,2.5,3.0,1.5,4.0,1.0,1.5,5.5,1.5,2.0,0.5833333333333334,3.5,0.7166666666666667,2.0,1.0,3.5,1.5,1.0,1.5,1.0,3.0,1.0,1.5,3.5,2.5,4.0,3.0,2.0,2.5,1.0,1.0,1.0,4.0,2.0,1.0,0.6333333333333333,2.0,1.0,2.0,1.0,1.0,1.5,2.5,0.5333333333333333,1.5,2.5,1.0,1.0,1.5,1.0,0.5333333333333333,2.0,1.5,4.0,1.0,0.55,2.5,3.0,0.55,1.5,1.0,2.0,2.0,7.0,1.0,3.5,0.6,3.0,1.0,5.5,1.5,0.5666666666666667,2.5,1.5,1.0,0.5,0.5,0.65,2.0,0.5333333333333333,0.5333333333333333,0.6333333333333333,2.5,0.55,0.5833333333333334,0.5166666666666666,0.5166666666666666,1.0,1.5,0.7333333333333333,10.5,1.0,1.0,1.5,4.0,1.0,1.5,4.5,0.6166666666666667,1.5,1.0,1.0,1.5,1.5,2.0,4.5,5.0,4.0,1.0,1.5,2.5,1.5,0.65,2.5,1.5,2.5,4.0,4.5,3.5,0.5333333333333333,0.6166666666666667,3.0,2.5,1.5,0.7333333333333333,1.5,1.5,2.0,0.7,2.0,2.0,1.0,1.5,4.5,3.0,1.0,2.5,1.0,2.0,1.0,6.0,0.5666666666666667,4.5,6.0,2.0,3.0,2.0,1.0,4.0,3.5,3.0,3.5,0.7,3.0,1.0,3.0,1.0,3.0,3.0,4.0,12.5,4.5,15.5,5.5,4.0,5.5,5.0,19.5,5.5,7.0,6.0,1.5,4.0,3.5,12.0,3.0,1.5,3.0,4.0,5.0,6.0,32.5,1.0,9.5,9.0,7.5,18.5,5.0,19.0,15.0,20.5,3.0,13.5,3.5,37.5,3.5,4.0,1.0,14.5,2.0,2.5,1.5,3.0,1.5,1.0,4.0,1.0,7.0,5.5,3.5,1.5,17.5,1.0,2.5,1.0,10.0,1.0,8.5,2.5,6.5,3.5,8.0,10.5,2.5,1.0,1.5,2.5,10.5,2.0,3.0,1.5,8.0,12.0,25.0,11.0,4.5,4.5,8.5,9.0,20.0,1.5,7.0,5.0,19.5,7.5,25.5,12.0,20.5,3.0,7.5,45.0,11.0,33.0,16.0,1.0,2.0,1.5,3.0,11.0,1.0,3.5,2.5,12.5,4.0,3.5,11.5,2.0,1.5,1.0,3.0,1.0,1.5,4.0,2.0,2.0,15.0,4.0,1.5,2.5,3.5,2.0,2.5,2.0,3.5,4.5,1.0,4.5,1.0,1.0,3.0,19.5,6.5,60.0,11.5,5.5,10.0,7.0,16.5,1.5,22.5,13.5,2.0,7.0,4.0,5.5,3.5,2.0,1.0,1.5,2.0,3.0,1.0,10.0,23.0,18.0,6.5,18.5,20.5,6.5,6.0,14.5,13.0,8.5,8.5,5.0,1.0,4.5,17.5,1.5,3.0,6.0,10.0,0.55,3.5,2.5,1.5,1.5,2.0,2.0,3.0,7.5,1.5,5.5,3.5,1.0,2.0,1.5,6.5,3.0,2.0,2.5,4.5,4.5,2.5,6.0,1.5,3.0,14.0,2.0,5.0,1.0,1.0,3.5,1.0,1.0,2.5,16.5,5.0,4.0,2.0,6.5,1.0,29.5,3.0,21.5,31.5,15.5,4.0,12.0,27.5,5.5,9.0,5.0,20.5,14.5,9.0,14.0,15.5,5.5,22.5,9.0,12.0,12.5,3.5,16.0,2.5,4.5,13.0,3.0,2.5,4.0,0.6,1.0,1.0,2.0,1.0,6.0,1.0,4.0,1.0,19.0,1.5,3.5,18.0,11.5,24.5,4.0,2.0,7.5,1.5,7.0,2.5,2.5,2.0,1.0,25.0,1.0,15.5,6.0,6.0,5.0,4.5,2.5,2.5,3.0,8.5,5.0,5.0,5.0,1.0,0.6666666666666666,11.0,4.0,1.5,1.0,1.5,1.0,2.5,4.0,6.0,4.5,4.5,4.0,7.0,18.5,1.5,1.5,6.5,0.6666666666666666,1.0,2.5,1.5,3.5,1.5,3.5,1.5,1.0,4.0,4.5,13.0,11.0,8.5,9.0,4.5,3.5,3.0,1.5,2.0,9.0,14.5,3.0,5.5,51.0,2.0,32.5,10.5,12.0,9.5,3.0,13.0,4.0,1.0,1.5,2.0,12.5,1.5,9.5,2.0,4.5,1.5,2.5,1.0,1.0,1.5,2.5,3.5,3.0,4.5,1.0,2.0,11.0,3.0,13.5,8.0,2.0,3.0,1.5,2.5,6.5,1.5,0.7166666666666667,1.0,2.5,4.0,3.5,7.5,1.0,4.0,3.5,2.0,0.7,3.0,3.0,3.5,13.5,2.5,1.0,0.6166666666666667,3.0,0.5333333333333333,4.0,2.0,1.0,9.0,2.0,1.0,3.0,1.5,1.5,1.0,1.5,2.0,2.5,1.0,2.0,13.0,1.5,2.0,4.0,8.0,6.0,2.0,2.0,3.5,0.5333333333333333,2.0,9.0,10.5,3.5,2.0,4.0,4.0,1.5,1.5,1.0,12.5,1.0,1.0,1.0,1.5,1.5,2.0,1.0,2.5,12.5,2.0,1.5,1.0,1.0,1.0,3.5,3.5,2.5,6.0,3.5,6.5,4.0,1.0,6.0,2.0,1.5,3.0,4.0,0.5666666666666667,19.0,0.5666666666666667,2.0,17.0,7.5,3.0,4.0,1.5,3.5,1.5,3.0,2.0,2.0,3.0,1.5,9.0,2.5,9.0,4.0,11.0,8.0,7.0,0.6833333333333333,3.5,3.5,1.5,1.5,17.5,3.0,2.0,0.5333333333333333,6.5,7.0,1.0,5.5,1.0,2.0,1.5,0.7,0.7,0.6166666666666667,1.0,1.0,7.0,6.0,5.5,1.0,1.5,3.0,8.0,1.0,1.0,0.55,44.5,16.5,5.0,3.0,0.7333333333333333,3.0,3.0,2.0,1.5,4.0,2.0,0.5833333333333334,5.0,2.0,2.0,1.5,3.0,2.5,14.0,9.0,3.5,2.0,57.0,7.5,4.0,5.0,1.0,1.5,1.5,4.0,2.5,3.0,8.0,9.5,8.0,3.0,1.5,2.0,14.0,2.0,2.5,1.0,2.5,6.5,6.0,3.0,3.0,2.0,3.5,1.0,13.0,4.5,13.0,5.0,3.5,1.0,3.5,9.5,0.5333333333333333,1.5,4.0,0.55,0.6333333333333333,3.5,5.5,4.5,9.0,11.0,10.5,0.5333333333333333,2.5,0.6333333333333333,2.5,1.5,3.5,2.0,8.0,4.5,7.0,1.5,1.5,13.5,4.0,2.0,4.0,3.0,1.5,12.0,2.5,1.5,3.5,5.0,0.65,8.0,2.0,0.65,2.0,6.0,5.5,4.5,4.5,2.5,15.5,5.5,1.5,2.0,1.0,18.5,7.5,7.0,1.5,16.5,3.0,5.0,0.6666666666666666,4.0,1.0,1.5,1.5,3.5,6.5,1.0,7.0,2.0,3.0,0.6666666666666666,6.0,2.5,1.0,0.6,2.0,2.5,10.0,1.0,1.0,14.5,7.5,10.5,3.5,2.0,1.5,5.5,7.5,7.0,2.0,2.5,2.5,0.6666666666666666,3.0,0.5666666666666667,4.5,2.0,4.0,5.5,5.0,16.0,9.0,3.5,76.5,9.0,11.5,1.5,11.5,19.5,9.0,11.0,5.0,1.5,3.5,1.0,2.0,2.0,2.0,11.0,1.5,13.0,7.0,14.5,2.0,2.5,10.5,3.5,1.0,5.0,1.0,2.0,1.5,7.0,2.5,1.5,0.6166666666666667,3.0,20.0,16.5,12.5,4.5,4.0,8.5,5.5,6.0,3.0,10.0,4.0,4.0,5.0,15.5,3.5,1.5,9.0,4.5,5.0,2.0,3.0,0.6333333333333333,20.0,6.0,8.0,31.5,14.5,10.5,12.5,8.0,30.5,17.0,31.5,3.0,5.0,3.5,2.0,3.5,4.5,2.5,6.5,5.5,6.5,4.5,2.0,1.0,13.5,8.0,18.0,8.0,17.5,8.5,9.0,10.0,32.5,1.0,0.6833333333333333,5.0,3.5,4.5,3.5,5.5,18.5,3.5,1.5,1.0,42.0,5.5,6.5,7.0,12.0,6.0,13.0,0.7333333333333333,1.0,1.0,7.5,1.0,0.6166666666666667,3.5,9.5,2.0,7.5,3.5,0.6333333333333333,5.0,3.0,3.0,1.5,0.5666666666666667,2.0,0.6166666666666667,6.5,5.5,0.5833333333333334,1.0,4.5,7.5,5.5,14.0,0.5833333333333334,1.5,5.5,1.5,3.0,2.0,1.0,2.0,10.5,1.0,2.0,2.0,6.5,1.0,1.5,1.0,1.0,3.0,2.5,3.0,4.0,2.0,4.0,1.0,1.5,7.5,16.0,2.0,4.5,3.5,2.5,1.0,3.0,1.0,1.0,1.5,2.0,5.5,0.7,26.0,6.0,3.0,4.0,2.0,1.0,4.0,3.5,3.0,2.0,21.0,2.5,5.5,0.55,0.5,2.0,1.0,6.0,5.0,2.0,3.5,2.0,3.0,1.0,5.0,18.5,7.0,1.5,1.0,1.0,2.0,8.0,5.0,1.5,0.6333333333333333,1.5,5.0,4.0,2.5,3.0,4.5,1.5,3.0,1.0,1.5,22.0,3.0,4.5,1.0,1.5,1.0,6.5,2.0,17.5,1.0,2.0,4.0,13.0,3.5,1.0,2.0,3.5,5.5,1.5,3.5,26.0,1.0,4.5,2.5,1.5,3.0,1.5,7.0,2.5,7.0,8.5,7.5,1.0,13.5,1.5,3.5,3.0,4.0,12.5,2.0,7.5,3.5,2.5,1.5,2.0,0.6166666666666667,4.5,8.5,1.0,2.0,0.6333333333333333,1.0,6.0,2.0,1.0,2.0,2.0,6.5,3.0,1.5,4.5,5.5,5.5,3.0,3.0,5.5,1.5,14.0,0.5666666666666667,4.0,2.5,1.0,4.0,1.0,2.0,0.5666666666666667,0.5666666666666667,1.5,5.0,2.5,2.0,6.5,1.0,4.5,48.5,2.5,6.0,1.5,2.0,1.5,1.5,1.5,1.0,0.5,7.5,2.0,1.5,3.0,8.0,25.5,0.5833333333333334,1.5,2.5,6.0,3.0,2.0,0.5166666666666666,5.5,1.5,1.0,1.0,1.0,1.0,4.0,4.0,2.0,1.5,2.5,1.5,1.0,15.0,1.5,6.0,5.0,3.0,1.5,5.5,0.5666666666666667,2.5,22.5,0.7166666666666667,0.65,1.0,5.0,0.5166666666666666,2.0,7.0,1.0,10.0,5.0,1.0,20.5,3.0,8.0,1.0,3.0,3.5,3.5,2.5,16.0,2.5,3.5,0.6166666666666667,4.0,1.0,5.0,0.7333333333333333,3.5,0.5666666666666667,4.5,3.0,7.0,0.6833333333333333,2.0,6.5,1.5,5.0,5.5,3.0,1.0,2.5,22.5,0.65,1.5,2.0,1.5,3.5,25.5,2.5,7.0,0.6,3.0,2.0,2.5,2.0,0.5833333333333334,1.5,5.0,2.0,4.0,9.5,3.0,3.5,1.5,1.5,2.5,2.0,16.5,3.0,3.5,2.5,3.0,1.5,2.0,12.5,1.0,8.0,3.5,0.7,6.5,1.0,1.5,2.0,1.5,2.0,3.5,7.5,4.0,6.5,11.0,23.5,7.0,1.5,2.5,1.5,2.0,2.0,2.0,3.5,6.5,2.0,2.5,6.5,0.5166666666666666,5.0,2.0,2.5,6.5,3.5,66.5,3.0,1.0,1.0,1.0,11.5,8.5,12.5,2.0,5.0,10.0,4.5,2.0,6.5,0.6333333333333333,0.6333333333333333,1.5,1.0,1.0,1.0,1.0,5.0,1.0,0.5333333333333333,19.5,1.0,6.5,2.5,1.5,0.55,5.0,6.5,1.5,3.0,2.5,0.6,9.5,2.0,0.5166666666666666,14.0,4.5,10.0,1.5,5.5,0.6166666666666667,1.0,2.5,15.5,2.0,1.5,3.5,3.5,8.5,1.0,2.0,0.6166666666666667,0.5,0.5833333333333334,2.5,1.0,1.5,15.5,2.0,3.5,3.5,3.0,2.0],\"y0\":\" \",\"yaxis\":\"y5\",\"type\":\"box\"}],                        {\"template\":{\"data\":{\"histogram2dcontour\":[{\"type\":\"histogram2dcontour\",\"colorbar\":{\"outlinewidth\":0,\"ticks\":\"\"},\"colorscale\":[[0.0,\"#0d0887\"],[0.1111111111111111,\"#46039f\"],[0.2222222222222222,\"#7201a8\"],[0.3333333333333333,\"#9c179e\"],[0.4444444444444444,\"#bd3786\"],[0.5555555555555556,\"#d8576b\"],[0.6666666666666666,\"#ed7953\"],[0.7777777777777778,\"#fb9f3a\"],[0.8888888888888888,\"#fdca26\"],[1.0,\"#f0f921\"]]}],\"choropleth\":[{\"type\":\"choropleth\",\"colorbar\":{\"outlinewidth\":0,\"ticks\":\"\"}}],\"histogram2d\":[{\"type\":\"histogram2d\",\"colorbar\":{\"outlinewidth\":0,\"ticks\":\"\"},\"colorscale\":[[0.0,\"#0d0887\"],[0.1111111111111111,\"#46039f\"],[0.2222222222222222,\"#7201a8\"],[0.3333333333333333,\"#9c179e\"],[0.4444444444444444,\"#bd3786\"],[0.5555555555555556,\"#d8576b\"],[0.6666666666666666,\"#ed7953\"],[0.7777777777777778,\"#fb9f3a\"],[0.8888888888888888,\"#fdca26\"],[1.0,\"#f0f921\"]]}],\"heatmap\":[{\"type\":\"heatmap\",\"colorbar\":{\"outlinewidth\":0,\"ticks\":\"\"},\"colorscale\":[[0.0,\"#0d0887\"],[0.1111111111111111,\"#46039f\"],[0.2222222222222222,\"#7201a8\"],[0.3333333333333333,\"#9c179e\"],[0.4444444444444444,\"#bd3786\"],[0.5555555555555556,\"#d8576b\"],[0.6666666666666666,\"#ed7953\"],[0.7777777777777778,\"#fb9f3a\"],[0.8888888888888888,\"#fdca26\"],[1.0,\"#f0f921\"]]}],\"heatmapgl\":[{\"type\":\"heatmapgl\",\"colorbar\":{\"outlinewidth\":0,\"ticks\":\"\"},\"colorscale\":[[0.0,\"#0d0887\"],[0.1111111111111111,\"#46039f\"],[0.2222222222222222,\"#7201a8\"],[0.3333333333333333,\"#9c179e\"],[0.4444444444444444,\"#bd3786\"],[0.5555555555555556,\"#d8576b\"],[0.6666666666666666,\"#ed7953\"],[0.7777777777777778,\"#fb9f3a\"],[0.8888888888888888,\"#fdca26\"],[1.0,\"#f0f921\"]]}],\"contourcarpet\":[{\"type\":\"contourcarpet\",\"colorbar\":{\"outlinewidth\":0,\"ticks\":\"\"}}],\"contour\":[{\"type\":\"contour\",\"colorbar\":{\"outlinewidth\":0,\"ticks\":\"\"},\"colorscale\":[[0.0,\"#0d0887\"],[0.1111111111111111,\"#46039f\"],[0.2222222222222222,\"#7201a8\"],[0.3333333333333333,\"#9c179e\"],[0.4444444444444444,\"#bd3786\"],[0.5555555555555556,\"#d8576b\"],[0.6666666666666666,\"#ed7953\"],[0.7777777777777778,\"#fb9f3a\"],[0.8888888888888888,\"#fdca26\"],[1.0,\"#f0f921\"]]}],\"surface\":[{\"type\":\"surface\",\"colorbar\":{\"outlinewidth\":0,\"ticks\":\"\"},\"colorscale\":[[0.0,\"#0d0887\"],[0.1111111111111111,\"#46039f\"],[0.2222222222222222,\"#7201a8\"],[0.3333333333333333,\"#9c179e\"],[0.4444444444444444,\"#bd3786\"],[0.5555555555555556,\"#d8576b\"],[0.6666666666666666,\"#ed7953\"],[0.7777777777777778,\"#fb9f3a\"],[0.8888888888888888,\"#fdca26\"],[1.0,\"#f0f921\"]]}],\"mesh3d\":[{\"type\":\"mesh3d\",\"colorbar\":{\"outlinewidth\":0,\"ticks\":\"\"}}],\"scatter\":[{\"fillpattern\":{\"fillmode\":\"overlay\",\"size\":10,\"solidity\":0.2},\"type\":\"scatter\"}],\"parcoords\":[{\"type\":\"parcoords\",\"line\":{\"colorbar\":{\"outlinewidth\":0,\"ticks\":\"\"}}}],\"scatterpolargl\":[{\"type\":\"scatterpolargl\",\"marker\":{\"colorbar\":{\"outlinewidth\":0,\"ticks\":\"\"}}}],\"bar\":[{\"error_x\":{\"color\":\"#2a3f5f\"},\"error_y\":{\"color\":\"#2a3f5f\"},\"marker\":{\"line\":{\"color\":\"#E5ECF6\",\"width\":0.5},\"pattern\":{\"fillmode\":\"overlay\",\"size\":10,\"solidity\":0.2}},\"type\":\"bar\"}],\"scattergeo\":[{\"type\":\"scattergeo\",\"marker\":{\"colorbar\":{\"outlinewidth\":0,\"ticks\":\"\"}}}],\"scatterpolar\":[{\"type\":\"scatterpolar\",\"marker\":{\"colorbar\":{\"outlinewidth\":0,\"ticks\":\"\"}}}],\"histogram\":[{\"marker\":{\"pattern\":{\"fillmode\":\"overlay\",\"size\":10,\"solidity\":0.2}},\"type\":\"histogram\"}],\"scattergl\":[{\"type\":\"scattergl\",\"marker\":{\"colorbar\":{\"outlinewidth\":0,\"ticks\":\"\"}}}],\"scatter3d\":[{\"type\":\"scatter3d\",\"line\":{\"colorbar\":{\"outlinewidth\":0,\"ticks\":\"\"}},\"marker\":{\"colorbar\":{\"outlinewidth\":0,\"ticks\":\"\"}}}],\"scattermapbox\":[{\"type\":\"scattermapbox\",\"marker\":{\"colorbar\":{\"outlinewidth\":0,\"ticks\":\"\"}}}],\"scatterternary\":[{\"type\":\"scatterternary\",\"marker\":{\"colorbar\":{\"outlinewidth\":0,\"ticks\":\"\"}}}],\"scattercarpet\":[{\"type\":\"scattercarpet\",\"marker\":{\"colorbar\":{\"outlinewidth\":0,\"ticks\":\"\"}}}],\"carpet\":[{\"aaxis\":{\"endlinecolor\":\"#2a3f5f\",\"gridcolor\":\"white\",\"linecolor\":\"white\",\"minorgridcolor\":\"white\",\"startlinecolor\":\"#2a3f5f\"},\"baxis\":{\"endlinecolor\":\"#2a3f5f\",\"gridcolor\":\"white\",\"linecolor\":\"white\",\"minorgridcolor\":\"white\",\"startlinecolor\":\"#2a3f5f\"},\"type\":\"carpet\"}],\"table\":[{\"cells\":{\"fill\":{\"color\":\"#EBF0F8\"},\"line\":{\"color\":\"white\"}},\"header\":{\"fill\":{\"color\":\"#C8D4E3\"},\"line\":{\"color\":\"white\"}},\"type\":\"table\"}],\"barpolar\":[{\"marker\":{\"line\":{\"color\":\"#E5ECF6\",\"width\":0.5},\"pattern\":{\"fillmode\":\"overlay\",\"size\":10,\"solidity\":0.2}},\"type\":\"barpolar\"}],\"pie\":[{\"automargin\":true,\"type\":\"pie\"}]},\"layout\":{\"autotypenumbers\":\"strict\",\"colorway\":[\"#636efa\",\"#EF553B\",\"#00cc96\",\"#ab63fa\",\"#FFA15A\",\"#19d3f3\",\"#FF6692\",\"#B6E880\",\"#FF97FF\",\"#FECB52\"],\"font\":{\"color\":\"#2a3f5f\"},\"hovermode\":\"closest\",\"hoverlabel\":{\"align\":\"left\"},\"paper_bgcolor\":\"white\",\"plot_bgcolor\":\"#E5ECF6\",\"polar\":{\"bgcolor\":\"#E5ECF6\",\"angularaxis\":{\"gridcolor\":\"white\",\"linecolor\":\"white\",\"ticks\":\"\"},\"radialaxis\":{\"gridcolor\":\"white\",\"linecolor\":\"white\",\"ticks\":\"\"}},\"ternary\":{\"bgcolor\":\"#E5ECF6\",\"aaxis\":{\"gridcolor\":\"white\",\"linecolor\":\"white\",\"ticks\":\"\"},\"baxis\":{\"gridcolor\":\"white\",\"linecolor\":\"white\",\"ticks\":\"\"},\"caxis\":{\"gridcolor\":\"white\",\"linecolor\":\"white\",\"ticks\":\"\"}},\"coloraxis\":{\"colorbar\":{\"outlinewidth\":0,\"ticks\":\"\"}},\"colorscale\":{\"sequential\":[[0.0,\"#0d0887\"],[0.1111111111111111,\"#46039f\"],[0.2222222222222222,\"#7201a8\"],[0.3333333333333333,\"#9c179e\"],[0.4444444444444444,\"#bd3786\"],[0.5555555555555556,\"#d8576b\"],[0.6666666666666666,\"#ed7953\"],[0.7777777777777778,\"#fb9f3a\"],[0.8888888888888888,\"#fdca26\"],[1.0,\"#f0f921\"]],\"sequentialminus\":[[0.0,\"#0d0887\"],[0.1111111111111111,\"#46039f\"],[0.2222222222222222,\"#7201a8\"],[0.3333333333333333,\"#9c179e\"],[0.4444444444444444,\"#bd3786\"],[0.5555555555555556,\"#d8576b\"],[0.6666666666666666,\"#ed7953\"],[0.7777777777777778,\"#fb9f3a\"],[0.8888888888888888,\"#fdca26\"],[1.0,\"#f0f921\"]],\"diverging\":[[0,\"#8e0152\"],[0.1,\"#c51b7d\"],[0.2,\"#de77ae\"],[0.3,\"#f1b6da\"],[0.4,\"#fde0ef\"],[0.5,\"#f7f7f7\"],[0.6,\"#e6f5d0\"],[0.7,\"#b8e186\"],[0.8,\"#7fbc41\"],[0.9,\"#4d9221\"],[1,\"#276419\"]]},\"xaxis\":{\"gridcolor\":\"white\",\"linecolor\":\"white\",\"ticks\":\"\",\"title\":{\"standoff\":15},\"zerolinecolor\":\"white\",\"automargin\":true,\"zerolinewidth\":2},\"yaxis\":{\"gridcolor\":\"white\",\"linecolor\":\"white\",\"ticks\":\"\",\"title\":{\"standoff\":15},\"zerolinecolor\":\"white\",\"automargin\":true,\"zerolinewidth\":2},\"scene\":{\"xaxis\":{\"backgroundcolor\":\"#E5ECF6\",\"gridcolor\":\"white\",\"linecolor\":\"white\",\"showbackground\":true,\"ticks\":\"\",\"zerolinecolor\":\"white\",\"gridwidth\":2},\"yaxis\":{\"backgroundcolor\":\"#E5ECF6\",\"gridcolor\":\"white\",\"linecolor\":\"white\",\"showbackground\":true,\"ticks\":\"\",\"zerolinecolor\":\"white\",\"gridwidth\":2},\"zaxis\":{\"backgroundcolor\":\"#E5ECF6\",\"gridcolor\":\"white\",\"linecolor\":\"white\",\"showbackground\":true,\"ticks\":\"\",\"zerolinecolor\":\"white\",\"gridwidth\":2}},\"shapedefaults\":{\"line\":{\"color\":\"#2a3f5f\"}},\"annotationdefaults\":{\"arrowcolor\":\"#2a3f5f\",\"arrowhead\":0,\"arrowwidth\":1},\"geo\":{\"bgcolor\":\"white\",\"landcolor\":\"#E5ECF6\",\"subunitcolor\":\"white\",\"showland\":true,\"showlakes\":true,\"lakecolor\":\"white\"},\"title\":{\"x\":0.05},\"mapbox\":{\"style\":\"light\"}}},\"xaxis\":{\"anchor\":\"y\",\"domain\":[0.0,0.18400000000000002]},\"yaxis\":{\"anchor\":\"x\",\"domain\":[0.0,1.0],\"title\":{\"text\":\"value\"}},\"xaxis2\":{\"anchor\":\"y2\",\"domain\":[0.20400000000000001,0.388],\"matches\":\"x\"},\"yaxis2\":{\"anchor\":\"x2\",\"domain\":[0.0,1.0],\"showticklabels\":false},\"xaxis3\":{\"anchor\":\"y3\",\"domain\":[0.40800000000000003,0.5920000000000001],\"matches\":\"x\"},\"yaxis3\":{\"anchor\":\"x3\",\"domain\":[0.0,1.0],\"showticklabels\":false},\"xaxis4\":{\"anchor\":\"y4\",\"domain\":[0.6120000000000001,0.7960000000000002],\"matches\":\"x\"},\"yaxis4\":{\"anchor\":\"x4\",\"domain\":[0.0,1.0],\"showticklabels\":false},\"xaxis5\":{\"anchor\":\"y5\",\"domain\":[0.8160000000000001,1.0],\"matches\":\"x\"},\"yaxis5\":{\"anchor\":\"x5\",\"domain\":[0.0,1.0],\"showticklabels\":false},\"annotations\":[{\"font\":{},\"showarrow\":false,\"text\":\"variable=price\",\"x\":0.09200000000000001,\"xanchor\":\"center\",\"xref\":\"paper\",\"y\":1.0,\"yanchor\":\"bottom\",\"yref\":\"paper\"},{\"font\":{},\"showarrow\":false,\"text\":\"variable=num_subscribers\",\"x\":0.29600000000000004,\"xanchor\":\"center\",\"xref\":\"paper\",\"y\":1.0,\"yanchor\":\"bottom\",\"yref\":\"paper\"},{\"font\":{},\"showarrow\":false,\"text\":\"variable=num_reviews\",\"x\":0.5,\"xanchor\":\"center\",\"xref\":\"paper\",\"y\":1.0,\"yanchor\":\"bottom\",\"yref\":\"paper\"},{\"font\":{},\"showarrow\":false,\"text\":\"variable=num_lectures\",\"x\":0.7040000000000002,\"xanchor\":\"center\",\"xref\":\"paper\",\"y\":1.0,\"yanchor\":\"bottom\",\"yref\":\"paper\"},{\"font\":{},\"showarrow\":false,\"text\":\"variable=content_duration\",\"x\":0.908,\"xanchor\":\"center\",\"xref\":\"paper\",\"y\":1.0,\"yanchor\":\"bottom\",\"yref\":\"paper\"}],\"legend\":{\"title\":{\"text\":\"variable\"},\"tracegroupgap\":0},\"title\":{\"text\":\"check outliers by box plot chart\"},\"boxmode\":\"overlay\"},                        {\"responsive\": true}                    ).then(function(){\n",
       "                            \n",
       "var gd = document.getElementById('6c72074f-852a-4272-b228-f9aef0561ed9');\n",
       "var x = new MutationObserver(function (mutations, observer) {{\n",
       "        var display = window.getComputedStyle(gd).display;\n",
       "        if (!display || display === 'none') {{\n",
       "            console.log([gd, 'removed!']);\n",
       "            Plotly.purge(gd);\n",
       "            observer.disconnect();\n",
       "        }}\n",
       "}});\n",
       "\n",
       "// Listen for the removal of the full notebook cells\n",
       "var notebookContainer = gd.closest('#notebook-container');\n",
       "if (notebookContainer) {{\n",
       "    x.observe(notebookContainer, {childList: true});\n",
       "}}\n",
       "\n",
       "// Listen for the clearing of the current output cell\n",
       "var outputEl = gd.closest('.output');\n",
       "if (outputEl) {{\n",
       "    x.observe(outputEl, {childList: true});\n",
       "}}\n",
       "\n",
       "                        })                };                });            </script>        </div>"
      ]
     },
     "metadata": {},
     "output_type": "display_data"
    }
   ],
   "source": [
    "# check again by visualizing data\n",
    "\n",
    "df_num_new = df[['price' , 'num_subscribers', 'num_reviews', 'num_lectures', 'content_duration']]\n",
    "chart_title= 'check outliers by box plot chart'\n",
    "px.box(df_num_new.melt(), y= 'value', facet_col= 'variable', color= 'variable', boxmode= 'overlay', title= chart_title).update_yaxes(matches= None)"
   ]
  },
  {
   "cell_type": "markdown",
   "id": "94a7e549",
   "metadata": {
    "id": "FzpWn9-qDs8R",
    "papermill": {
     "duration": 0.042677,
     "end_time": "2023-07-24T06:44:52.800157",
     "exception": false,
     "start_time": "2023-07-24T06:44:52.757480",
     "status": "completed"
    },
    "tags": []
   },
   "source": [
    "# Dataset Analysis"
   ]
  },
  {
   "cell_type": "code",
   "execution_count": 21,
   "id": "86ff518e",
   "metadata": {
    "execution": {
     "iopub.execute_input": "2023-07-24T06:44:52.887115Z",
     "iopub.status.busy": "2023-07-24T06:44:52.886697Z",
     "iopub.status.idle": "2023-07-24T06:44:52.893170Z",
     "shell.execute_reply": "2023-07-24T06:44:52.892004Z"
    },
    "id": "8rP31y_WLD8j",
    "papermill": {
     "duration": 0.052955,
     "end_time": "2023-07-24T06:44:52.895437",
     "exception": false,
     "start_time": "2023-07-24T06:44:52.842482",
     "status": "completed"
    },
    "tags": []
   },
   "outputs": [],
   "source": [
    "# Add Custome Column Call profit = price X num_subscribers\n",
    "\n",
    "df['profit'] = df['price'] * df['num_subscribers']"
   ]
  },
  {
   "cell_type": "code",
   "execution_count": 22,
   "id": "06c6daaf",
   "metadata": {
    "execution": {
     "iopub.execute_input": "2023-07-24T06:44:52.983767Z",
     "iopub.status.busy": "2023-07-24T06:44:52.983285Z",
     "iopub.status.idle": "2023-07-24T06:44:53.002189Z",
     "shell.execute_reply": "2023-07-24T06:44:53.001013Z"
    },
    "id": "BXS2jlP3OSQ3",
    "outputId": "89d6525b-8861-4211-834c-cb067761babd",
    "papermill": {
     "duration": 0.065609,
     "end_time": "2023-07-24T06:44:53.004532",
     "exception": false,
     "start_time": "2023-07-24T06:44:52.938923",
     "status": "completed"
    },
    "tags": []
   },
   "outputs": [
    {
     "data": {
      "text/html": [
       "<div>\n",
       "<style scoped>\n",
       "    .dataframe tbody tr th:only-of-type {\n",
       "        vertical-align: middle;\n",
       "    }\n",
       "\n",
       "    .dataframe tbody tr th {\n",
       "        vertical-align: top;\n",
       "    }\n",
       "\n",
       "    .dataframe thead th {\n",
       "        text-align: right;\n",
       "    }\n",
       "</style>\n",
       "<table border=\"1\" class=\"dataframe\">\n",
       "  <thead>\n",
       "    <tr style=\"text-align: right;\">\n",
       "      <th></th>\n",
       "      <th>course_id</th>\n",
       "      <th>course_title</th>\n",
       "      <th>url</th>\n",
       "      <th>is_paid</th>\n",
       "      <th>price</th>\n",
       "      <th>num_subscribers</th>\n",
       "      <th>num_reviews</th>\n",
       "      <th>num_lectures</th>\n",
       "      <th>level</th>\n",
       "      <th>content_duration</th>\n",
       "      <th>published_timestamp</th>\n",
       "      <th>subject</th>\n",
       "      <th>profit</th>\n",
       "    </tr>\n",
       "  </thead>\n",
       "  <tbody>\n",
       "    <tr>\n",
       "      <th>0</th>\n",
       "      <td>1070968</td>\n",
       "      <td>Ultimate Investment Banking Course</td>\n",
       "      <td>https://www.udemy.com/ultimate-investment-bank...</td>\n",
       "      <td>True</td>\n",
       "      <td>200</td>\n",
       "      <td>2147</td>\n",
       "      <td>23</td>\n",
       "      <td>51</td>\n",
       "      <td>All Levels</td>\n",
       "      <td>1.5</td>\n",
       "      <td>2017-01-18 20:58:58+00:00</td>\n",
       "      <td>Business Finance</td>\n",
       "      <td>429400</td>\n",
       "    </tr>\n",
       "    <tr>\n",
       "      <th>1</th>\n",
       "      <td>1113822</td>\n",
       "      <td>Complete GST Course &amp; Certification - Grow You...</td>\n",
       "      <td>https://www.udemy.com/goods-and-services-tax/</td>\n",
       "      <td>True</td>\n",
       "      <td>75</td>\n",
       "      <td>2792</td>\n",
       "      <td>923</td>\n",
       "      <td>274</td>\n",
       "      <td>All Levels</td>\n",
       "      <td>39.0</td>\n",
       "      <td>2017-03-09 16:34:20+00:00</td>\n",
       "      <td>Business Finance</td>\n",
       "      <td>209400</td>\n",
       "    </tr>\n",
       "  </tbody>\n",
       "</table>\n",
       "</div>"
      ],
      "text/plain": [
       "   course_id                                       course_title  \\\n",
       "0    1070968                 Ultimate Investment Banking Course   \n",
       "1    1113822  Complete GST Course & Certification - Grow You...   \n",
       "\n",
       "                                                 url  is_paid  price  \\\n",
       "0  https://www.udemy.com/ultimate-investment-bank...     True    200   \n",
       "1      https://www.udemy.com/goods-and-services-tax/     True     75   \n",
       "\n",
       "   num_subscribers  num_reviews  num_lectures       level  content_duration  \\\n",
       "0             2147           23            51  All Levels               1.5   \n",
       "1             2792          923           274  All Levels              39.0   \n",
       "\n",
       "        published_timestamp           subject  profit  \n",
       "0 2017-01-18 20:58:58+00:00  Business Finance  429400  \n",
       "1 2017-03-09 16:34:20+00:00  Business Finance  209400  "
      ]
     },
     "execution_count": 22,
     "metadata": {},
     "output_type": "execute_result"
    }
   ],
   "source": [
    "df.head(2)"
   ]
  },
  {
   "cell_type": "code",
   "execution_count": 23,
   "id": "e096b3de",
   "metadata": {
    "execution": {
     "iopub.execute_input": "2023-07-24T06:44:53.092232Z",
     "iopub.status.busy": "2023-07-24T06:44:53.091810Z",
     "iopub.status.idle": "2023-07-24T06:44:53.180695Z",
     "shell.execute_reply": "2023-07-24T06:44:53.179500Z"
    },
    "id": "TUnKU6rdrjIE",
    "outputId": "d64d3c63-bcaa-4a71-a28c-7366ec88b52d",
    "papermill": {
     "duration": 0.135429,
     "end_time": "2023-07-24T06:44:53.183086",
     "exception": false,
     "start_time": "2023-07-24T06:44:53.047657",
     "status": "completed"
    },
    "tags": []
   },
   "outputs": [
    {
     "data": {
      "text/html": [
       "<div>                            <div id=\"b807f7bd-1184-40a5-b179-a0c7f98767f1\" class=\"plotly-graph-div\" style=\"height:400px; width:100%;\"></div>            <script type=\"text/javascript\">                require([\"plotly\"], function(Plotly) {                    window.PLOTLYENV=window.PLOTLYENV || {};                                    if (document.getElementById(\"b807f7bd-1184-40a5-b179-a0c7f98767f1\")) {                    Plotly.newPlot(                        \"b807f7bd-1184-40a5-b179-a0c7f98767f1\",                        [{\"coloraxis\":\"coloraxis\",\"name\":\"0\",\"texttemplate\":\"%{z}\",\"x\":[\"course_id\",\"is_paid\",\"price\",\"num_subscribers\",\"num_reviews\",\"num_lectures\",\"content_duration\",\"profit\"],\"y\":[\"course_id\",\"is_paid\",\"price\",\"num_subscribers\",\"num_reviews\",\"num_lectures\",\"content_duration\",\"profit\"],\"z\":[[1.0,-0.022424859409058952,0.14459267624839675,-0.1855560972589151,-0.09773800957818232,-0.01652330651024895,-0.05287644710380601,-0.057933535298378004],[-0.022424859409058952,1.0,0.3258095776652282,-0.30327435676790426,-0.1905199963004304,0.11704403624516546,0.09699911097157105,0.09316134872752821],[0.14459267624839675,0.3258095776652282,1.0,0.06273929470208454,0.10681029655945726,0.32172100398322073,0.2822573610472494,0.4181442349507179],[-0.1855560972589151,-0.30327435676790426,0.06273929470208454,1.0,0.6770738494792504,0.13089115995164985,0.1417364581133111,0.6133517091024118],[-0.09773800957818232,-0.1905199963004304,0.10681029655945726,0.6770738494792504,1.0,0.25651572238773646,0.2502861964025988,0.4859032490802704],[-0.01652330651024895,0.11704403624516546,0.32172100398322073,0.13089115995164985,0.25651572238773646,1.0,0.799676582256887,0.2749147441398688],[-0.05287644710380601,0.09699911097157105,0.2822573610472494,0.1417364581133111,0.2502861964025988,0.799676582256887,1.0,0.2671802462489844],[-0.057933535298378004,0.09316134872752821,0.4181442349507179,0.6133517091024118,0.4859032490802704,0.2749147441398688,0.2671802462489844,1.0]],\"type\":\"heatmap\",\"xaxis\":\"x\",\"yaxis\":\"y\",\"hovertemplate\":\"x: %{x}\\u003cbr\\u003ey: %{y}\\u003cbr\\u003ecolor: %{z}\\u003cextra\\u003e\\u003c\\u002fextra\\u003e\"}],                        {\"template\":{\"data\":{\"histogram2dcontour\":[{\"type\":\"histogram2dcontour\",\"colorbar\":{\"outlinewidth\":0,\"ticks\":\"\"},\"colorscale\":[[0.0,\"#0d0887\"],[0.1111111111111111,\"#46039f\"],[0.2222222222222222,\"#7201a8\"],[0.3333333333333333,\"#9c179e\"],[0.4444444444444444,\"#bd3786\"],[0.5555555555555556,\"#d8576b\"],[0.6666666666666666,\"#ed7953\"],[0.7777777777777778,\"#fb9f3a\"],[0.8888888888888888,\"#fdca26\"],[1.0,\"#f0f921\"]]}],\"choropleth\":[{\"type\":\"choropleth\",\"colorbar\":{\"outlinewidth\":0,\"ticks\":\"\"}}],\"histogram2d\":[{\"type\":\"histogram2d\",\"colorbar\":{\"outlinewidth\":0,\"ticks\":\"\"},\"colorscale\":[[0.0,\"#0d0887\"],[0.1111111111111111,\"#46039f\"],[0.2222222222222222,\"#7201a8\"],[0.3333333333333333,\"#9c179e\"],[0.4444444444444444,\"#bd3786\"],[0.5555555555555556,\"#d8576b\"],[0.6666666666666666,\"#ed7953\"],[0.7777777777777778,\"#fb9f3a\"],[0.8888888888888888,\"#fdca26\"],[1.0,\"#f0f921\"]]}],\"heatmap\":[{\"type\":\"heatmap\",\"colorbar\":{\"outlinewidth\":0,\"ticks\":\"\"},\"colorscale\":[[0.0,\"#0d0887\"],[0.1111111111111111,\"#46039f\"],[0.2222222222222222,\"#7201a8\"],[0.3333333333333333,\"#9c179e\"],[0.4444444444444444,\"#bd3786\"],[0.5555555555555556,\"#d8576b\"],[0.6666666666666666,\"#ed7953\"],[0.7777777777777778,\"#fb9f3a\"],[0.8888888888888888,\"#fdca26\"],[1.0,\"#f0f921\"]]}],\"heatmapgl\":[{\"type\":\"heatmapgl\",\"colorbar\":{\"outlinewidth\":0,\"ticks\":\"\"},\"colorscale\":[[0.0,\"#0d0887\"],[0.1111111111111111,\"#46039f\"],[0.2222222222222222,\"#7201a8\"],[0.3333333333333333,\"#9c179e\"],[0.4444444444444444,\"#bd3786\"],[0.5555555555555556,\"#d8576b\"],[0.6666666666666666,\"#ed7953\"],[0.7777777777777778,\"#fb9f3a\"],[0.8888888888888888,\"#fdca26\"],[1.0,\"#f0f921\"]]}],\"contourcarpet\":[{\"type\":\"contourcarpet\",\"colorbar\":{\"outlinewidth\":0,\"ticks\":\"\"}}],\"contour\":[{\"type\":\"contour\",\"colorbar\":{\"outlinewidth\":0,\"ticks\":\"\"},\"colorscale\":[[0.0,\"#0d0887\"],[0.1111111111111111,\"#46039f\"],[0.2222222222222222,\"#7201a8\"],[0.3333333333333333,\"#9c179e\"],[0.4444444444444444,\"#bd3786\"],[0.5555555555555556,\"#d8576b\"],[0.6666666666666666,\"#ed7953\"],[0.7777777777777778,\"#fb9f3a\"],[0.8888888888888888,\"#fdca26\"],[1.0,\"#f0f921\"]]}],\"surface\":[{\"type\":\"surface\",\"colorbar\":{\"outlinewidth\":0,\"ticks\":\"\"},\"colorscale\":[[0.0,\"#0d0887\"],[0.1111111111111111,\"#46039f\"],[0.2222222222222222,\"#7201a8\"],[0.3333333333333333,\"#9c179e\"],[0.4444444444444444,\"#bd3786\"],[0.5555555555555556,\"#d8576b\"],[0.6666666666666666,\"#ed7953\"],[0.7777777777777778,\"#fb9f3a\"],[0.8888888888888888,\"#fdca26\"],[1.0,\"#f0f921\"]]}],\"mesh3d\":[{\"type\":\"mesh3d\",\"colorbar\":{\"outlinewidth\":0,\"ticks\":\"\"}}],\"scatter\":[{\"fillpattern\":{\"fillmode\":\"overlay\",\"size\":10,\"solidity\":0.2},\"type\":\"scatter\"}],\"parcoords\":[{\"type\":\"parcoords\",\"line\":{\"colorbar\":{\"outlinewidth\":0,\"ticks\":\"\"}}}],\"scatterpolargl\":[{\"type\":\"scatterpolargl\",\"marker\":{\"colorbar\":{\"outlinewidth\":0,\"ticks\":\"\"}}}],\"bar\":[{\"error_x\":{\"color\":\"#2a3f5f\"},\"error_y\":{\"color\":\"#2a3f5f\"},\"marker\":{\"line\":{\"color\":\"#E5ECF6\",\"width\":0.5},\"pattern\":{\"fillmode\":\"overlay\",\"size\":10,\"solidity\":0.2}},\"type\":\"bar\"}],\"scattergeo\":[{\"type\":\"scattergeo\",\"marker\":{\"colorbar\":{\"outlinewidth\":0,\"ticks\":\"\"}}}],\"scatterpolar\":[{\"type\":\"scatterpolar\",\"marker\":{\"colorbar\":{\"outlinewidth\":0,\"ticks\":\"\"}}}],\"histogram\":[{\"marker\":{\"pattern\":{\"fillmode\":\"overlay\",\"size\":10,\"solidity\":0.2}},\"type\":\"histogram\"}],\"scattergl\":[{\"type\":\"scattergl\",\"marker\":{\"colorbar\":{\"outlinewidth\":0,\"ticks\":\"\"}}}],\"scatter3d\":[{\"type\":\"scatter3d\",\"line\":{\"colorbar\":{\"outlinewidth\":0,\"ticks\":\"\"}},\"marker\":{\"colorbar\":{\"outlinewidth\":0,\"ticks\":\"\"}}}],\"scattermapbox\":[{\"type\":\"scattermapbox\",\"marker\":{\"colorbar\":{\"outlinewidth\":0,\"ticks\":\"\"}}}],\"scatterternary\":[{\"type\":\"scatterternary\",\"marker\":{\"colorbar\":{\"outlinewidth\":0,\"ticks\":\"\"}}}],\"scattercarpet\":[{\"type\":\"scattercarpet\",\"marker\":{\"colorbar\":{\"outlinewidth\":0,\"ticks\":\"\"}}}],\"carpet\":[{\"aaxis\":{\"endlinecolor\":\"#2a3f5f\",\"gridcolor\":\"white\",\"linecolor\":\"white\",\"minorgridcolor\":\"white\",\"startlinecolor\":\"#2a3f5f\"},\"baxis\":{\"endlinecolor\":\"#2a3f5f\",\"gridcolor\":\"white\",\"linecolor\":\"white\",\"minorgridcolor\":\"white\",\"startlinecolor\":\"#2a3f5f\"},\"type\":\"carpet\"}],\"table\":[{\"cells\":{\"fill\":{\"color\":\"#EBF0F8\"},\"line\":{\"color\":\"white\"}},\"header\":{\"fill\":{\"color\":\"#C8D4E3\"},\"line\":{\"color\":\"white\"}},\"type\":\"table\"}],\"barpolar\":[{\"marker\":{\"line\":{\"color\":\"#E5ECF6\",\"width\":0.5},\"pattern\":{\"fillmode\":\"overlay\",\"size\":10,\"solidity\":0.2}},\"type\":\"barpolar\"}],\"pie\":[{\"automargin\":true,\"type\":\"pie\"}]},\"layout\":{\"autotypenumbers\":\"strict\",\"colorway\":[\"#636efa\",\"#EF553B\",\"#00cc96\",\"#ab63fa\",\"#FFA15A\",\"#19d3f3\",\"#FF6692\",\"#B6E880\",\"#FF97FF\",\"#FECB52\"],\"font\":{\"color\":\"#2a3f5f\"},\"hovermode\":\"closest\",\"hoverlabel\":{\"align\":\"left\"},\"paper_bgcolor\":\"white\",\"plot_bgcolor\":\"#E5ECF6\",\"polar\":{\"bgcolor\":\"#E5ECF6\",\"angularaxis\":{\"gridcolor\":\"white\",\"linecolor\":\"white\",\"ticks\":\"\"},\"radialaxis\":{\"gridcolor\":\"white\",\"linecolor\":\"white\",\"ticks\":\"\"}},\"ternary\":{\"bgcolor\":\"#E5ECF6\",\"aaxis\":{\"gridcolor\":\"white\",\"linecolor\":\"white\",\"ticks\":\"\"},\"baxis\":{\"gridcolor\":\"white\",\"linecolor\":\"white\",\"ticks\":\"\"},\"caxis\":{\"gridcolor\":\"white\",\"linecolor\":\"white\",\"ticks\":\"\"}},\"coloraxis\":{\"colorbar\":{\"outlinewidth\":0,\"ticks\":\"\"}},\"colorscale\":{\"sequential\":[[0.0,\"#0d0887\"],[0.1111111111111111,\"#46039f\"],[0.2222222222222222,\"#7201a8\"],[0.3333333333333333,\"#9c179e\"],[0.4444444444444444,\"#bd3786\"],[0.5555555555555556,\"#d8576b\"],[0.6666666666666666,\"#ed7953\"],[0.7777777777777778,\"#fb9f3a\"],[0.8888888888888888,\"#fdca26\"],[1.0,\"#f0f921\"]],\"sequentialminus\":[[0.0,\"#0d0887\"],[0.1111111111111111,\"#46039f\"],[0.2222222222222222,\"#7201a8\"],[0.3333333333333333,\"#9c179e\"],[0.4444444444444444,\"#bd3786\"],[0.5555555555555556,\"#d8576b\"],[0.6666666666666666,\"#ed7953\"],[0.7777777777777778,\"#fb9f3a\"],[0.8888888888888888,\"#fdca26\"],[1.0,\"#f0f921\"]],\"diverging\":[[0,\"#8e0152\"],[0.1,\"#c51b7d\"],[0.2,\"#de77ae\"],[0.3,\"#f1b6da\"],[0.4,\"#fde0ef\"],[0.5,\"#f7f7f7\"],[0.6,\"#e6f5d0\"],[0.7,\"#b8e186\"],[0.8,\"#7fbc41\"],[0.9,\"#4d9221\"],[1,\"#276419\"]]},\"xaxis\":{\"gridcolor\":\"white\",\"linecolor\":\"white\",\"ticks\":\"\",\"title\":{\"standoff\":15},\"zerolinecolor\":\"white\",\"automargin\":true,\"zerolinewidth\":2},\"yaxis\":{\"gridcolor\":\"white\",\"linecolor\":\"white\",\"ticks\":\"\",\"title\":{\"standoff\":15},\"zerolinecolor\":\"white\",\"automargin\":true,\"zerolinewidth\":2},\"scene\":{\"xaxis\":{\"backgroundcolor\":\"#E5ECF6\",\"gridcolor\":\"white\",\"linecolor\":\"white\",\"showbackground\":true,\"ticks\":\"\",\"zerolinecolor\":\"white\",\"gridwidth\":2},\"yaxis\":{\"backgroundcolor\":\"#E5ECF6\",\"gridcolor\":\"white\",\"linecolor\":\"white\",\"showbackground\":true,\"ticks\":\"\",\"zerolinecolor\":\"white\",\"gridwidth\":2},\"zaxis\":{\"backgroundcolor\":\"#E5ECF6\",\"gridcolor\":\"white\",\"linecolor\":\"white\",\"showbackground\":true,\"ticks\":\"\",\"zerolinecolor\":\"white\",\"gridwidth\":2}},\"shapedefaults\":{\"line\":{\"color\":\"#2a3f5f\"}},\"annotationdefaults\":{\"arrowcolor\":\"#2a3f5f\",\"arrowhead\":0,\"arrowwidth\":1},\"geo\":{\"bgcolor\":\"white\",\"landcolor\":\"#E5ECF6\",\"subunitcolor\":\"white\",\"showland\":true,\"showlakes\":true,\"lakecolor\":\"white\"},\"title\":{\"x\":0.05},\"mapbox\":{\"style\":\"light\"}}},\"xaxis\":{\"anchor\":\"y\",\"domain\":[0.0,1.0]},\"yaxis\":{\"anchor\":\"x\",\"domain\":[0.0,1.0],\"autorange\":\"reversed\"},\"coloraxis\":{\"colorscale\":[[0.0,\"rgb(247,251,255)\"],[0.125,\"rgb(222,235,247)\"],[0.25,\"rgb(198,219,239)\"],[0.375,\"rgb(158,202,225)\"],[0.5,\"rgb(107,174,214)\"],[0.625,\"rgb(66,146,198)\"],[0.75,\"rgb(33,113,181)\"],[0.875,\"rgb(8,81,156)\"],[1.0,\"rgb(8,48,107)\"]]},\"title\":{\"text\":\"Relation between numerical data\"},\"height\":400},                        {\"responsive\": true}                    ).then(function(){\n",
       "                            \n",
       "var gd = document.getElementById('b807f7bd-1184-40a5-b179-a0c7f98767f1');\n",
       "var x = new MutationObserver(function (mutations, observer) {{\n",
       "        var display = window.getComputedStyle(gd).display;\n",
       "        if (!display || display === 'none') {{\n",
       "            console.log([gd, 'removed!']);\n",
       "            Plotly.purge(gd);\n",
       "            observer.disconnect();\n",
       "        }}\n",
       "}});\n",
       "\n",
       "// Listen for the removal of the full notebook cells\n",
       "var notebookContainer = gd.closest('#notebook-container');\n",
       "if (notebookContainer) {{\n",
       "    x.observe(notebookContainer, {childList: true});\n",
       "}}\n",
       "\n",
       "// Listen for the clearing of the current output cell\n",
       "var outputEl = gd.closest('.output');\n",
       "if (outputEl) {{\n",
       "    x.observe(outputEl, {childList: true});\n",
       "}}\n",
       "\n",
       "                        })                };                });            </script>        </div>"
      ]
     },
     "metadata": {},
     "output_type": "display_data"
    }
   ],
   "source": [
    "# searching if there are relations between columns\n",
    "\n",
    "chart_title= 'Relation between numerical data'\n",
    "px.imshow(df.corr(numeric_only= True), text_auto= True, aspect=\"auto\", color_continuous_scale= 'Blues', title= chart_title, height= 400)"
   ]
  },
  {
   "cell_type": "markdown",
   "id": "54163fe5",
   "metadata": {
    "id": "t4hmRHdykL0B",
    "papermill": {
     "duration": 0.042978,
     "end_time": "2023-07-24T06:44:53.268978",
     "exception": false,
     "start_time": "2023-07-24T06:44:53.226000",
     "status": "completed"
    },
    "tags": []
   },
   "source": [
    "**Very Good Relations:**  \n",
    "  - num_lectures & content_duration 0.8\n",
    "\n",
    "**Good Relations:**  \n",
    "  - num_reviews & num_subscribers 0.67\n",
    "  - profit & num_subscribers 0.61\n",
    "    \n",
    "**Close to be a good relation**  \n",
    "  - profit & price 0.42\n",
    "  - profit & num_reviews 0.48"
   ]
  },
  {
   "cell_type": "markdown",
   "id": "3ba1e786",
   "metadata": {
    "id": "QRMJhIE196pz",
    "papermill": {
     "duration": 0.042466,
     "end_time": "2023-07-24T06:44:53.354331",
     "exception": false,
     "start_time": "2023-07-24T06:44:53.311865",
     "status": "completed"
    },
    "tags": []
   },
   "source": [
    "# ***Q: How many courses for each subject?***"
   ]
  },
  {
   "cell_type": "code",
   "execution_count": 24,
   "id": "bcae05db",
   "metadata": {
    "execution": {
     "iopub.execute_input": "2023-07-24T06:44:53.442187Z",
     "iopub.status.busy": "2023-07-24T06:44:53.441588Z",
     "iopub.status.idle": "2023-07-24T06:44:53.456209Z",
     "shell.execute_reply": "2023-07-24T06:44:53.454945Z"
    },
    "id": "_PEaCpFF-ECu",
    "outputId": "5f0fa3ef-0206-4bff-ddbd-1c719f9fb876",
    "papermill": {
     "duration": 0.061405,
     "end_time": "2023-07-24T06:44:53.458548",
     "exception": false,
     "start_time": "2023-07-24T06:44:53.397143",
     "status": "completed"
    },
    "tags": []
   },
   "outputs": [
    {
     "data": {
      "text/html": [
       "<div>\n",
       "<style scoped>\n",
       "    .dataframe tbody tr th:only-of-type {\n",
       "        vertical-align: middle;\n",
       "    }\n",
       "\n",
       "    .dataframe tbody tr th {\n",
       "        vertical-align: top;\n",
       "    }\n",
       "\n",
       "    .dataframe thead th {\n",
       "        text-align: right;\n",
       "    }\n",
       "</style>\n",
       "<table border=\"1\" class=\"dataframe\">\n",
       "  <thead>\n",
       "    <tr style=\"text-align: right;\">\n",
       "      <th></th>\n",
       "      <th>course_id</th>\n",
       "    </tr>\n",
       "    <tr>\n",
       "      <th>subject</th>\n",
       "      <th></th>\n",
       "    </tr>\n",
       "  </thead>\n",
       "  <tbody>\n",
       "    <tr>\n",
       "      <th>Business Finance</th>\n",
       "      <td>1190</td>\n",
       "    </tr>\n",
       "    <tr>\n",
       "      <th>Web Development</th>\n",
       "      <td>1180</td>\n",
       "    </tr>\n",
       "    <tr>\n",
       "      <th>Musical Instruments</th>\n",
       "      <td>678</td>\n",
       "    </tr>\n",
       "    <tr>\n",
       "      <th>Graphic Design</th>\n",
       "      <td>602</td>\n",
       "    </tr>\n",
       "  </tbody>\n",
       "</table>\n",
       "</div>"
      ],
      "text/plain": [
       "                     course_id\n",
       "subject                       \n",
       "Business Finance          1190\n",
       "Web Development           1180\n",
       "Musical Instruments        678\n",
       "Graphic Design             602"
      ]
     },
     "execution_count": 24,
     "metadata": {},
     "output_type": "execute_result"
    }
   ],
   "source": [
    "# select data\n",
    "\n",
    "df[['subject', 'course_id']].groupby('subject').count().sort_values(by= 'course_id', ascending= False)"
   ]
  },
  {
   "cell_type": "code",
   "execution_count": 25,
   "id": "81f2b3cc",
   "metadata": {
    "execution": {
     "iopub.execute_input": "2023-07-24T06:44:53.546998Z",
     "iopub.status.busy": "2023-07-24T06:44:53.546498Z",
     "iopub.status.idle": "2023-07-24T06:44:53.694740Z",
     "shell.execute_reply": "2023-07-24T06:44:53.693729Z"
    },
    "id": "xAsJvymx-li_",
    "outputId": "695969f6-f7e3-42b8-93fd-9a50b0acaa79",
    "papermill": {
     "duration": 0.195598,
     "end_time": "2023-07-24T06:44:53.697324",
     "exception": false,
     "start_time": "2023-07-24T06:44:53.501726",
     "status": "completed"
    },
    "tags": []
   },
   "outputs": [
    {
     "data": {
      "text/html": [
       "<div>                            <div id=\"570fa5c4-898b-42b7-8502-094493631e15\" class=\"plotly-graph-div\" style=\"height:400px; width:600px;\"></div>            <script type=\"text/javascript\">                require([\"plotly\"], function(Plotly) {                    window.PLOTLYENV=window.PLOTLYENV || {};                                    if (document.getElementById(\"570fa5c4-898b-42b7-8502-094493631e15\")) {                    Plotly.newPlot(                        \"570fa5c4-898b-42b7-8502-094493631e15\",                        [{\"alignmentgroup\":\"True\",\"hovertemplate\":\"color=Business Finance\\u003cbr\\u003esubject=%{x}\\u003cbr\\u003evalue=%{y}\\u003cextra\\u003e\\u003c\\u002fextra\\u003e\",\"legendgroup\":\"Business Finance\",\"marker\":{\"color\":\"#636efa\",\"pattern\":{\"shape\":\"\"}},\"name\":\"Business Finance\",\"offsetgroup\":\"Business Finance\",\"orientation\":\"v\",\"showlegend\":true,\"textposition\":\"auto\",\"x\":[\"Business Finance\"],\"xaxis\":\"x\",\"y\":[1190],\"yaxis\":\"y\",\"type\":\"bar\"},{\"alignmentgroup\":\"True\",\"hovertemplate\":\"color=Web Development\\u003cbr\\u003esubject=%{x}\\u003cbr\\u003evalue=%{y}\\u003cextra\\u003e\\u003c\\u002fextra\\u003e\",\"legendgroup\":\"Web Development\",\"marker\":{\"color\":\"#EF553B\",\"pattern\":{\"shape\":\"\"}},\"name\":\"Web Development\",\"offsetgroup\":\"Web Development\",\"orientation\":\"v\",\"showlegend\":true,\"textposition\":\"auto\",\"x\":[\"Web Development\"],\"xaxis\":\"x\",\"y\":[1180],\"yaxis\":\"y\",\"type\":\"bar\"},{\"alignmentgroup\":\"True\",\"hovertemplate\":\"color=Musical Instruments\\u003cbr\\u003esubject=%{x}\\u003cbr\\u003evalue=%{y}\\u003cextra\\u003e\\u003c\\u002fextra\\u003e\",\"legendgroup\":\"Musical Instruments\",\"marker\":{\"color\":\"#00cc96\",\"pattern\":{\"shape\":\"\"}},\"name\":\"Musical Instruments\",\"offsetgroup\":\"Musical Instruments\",\"orientation\":\"v\",\"showlegend\":true,\"textposition\":\"auto\",\"x\":[\"Musical Instruments\"],\"xaxis\":\"x\",\"y\":[678],\"yaxis\":\"y\",\"type\":\"bar\"},{\"alignmentgroup\":\"True\",\"hovertemplate\":\"color=Graphic Design\\u003cbr\\u003esubject=%{x}\\u003cbr\\u003evalue=%{y}\\u003cextra\\u003e\\u003c\\u002fextra\\u003e\",\"legendgroup\":\"Graphic Design\",\"marker\":{\"color\":\"#ab63fa\",\"pattern\":{\"shape\":\"\"}},\"name\":\"Graphic Design\",\"offsetgroup\":\"Graphic Design\",\"orientation\":\"v\",\"showlegend\":true,\"textposition\":\"auto\",\"x\":[\"Graphic Design\"],\"xaxis\":\"x\",\"y\":[602],\"yaxis\":\"y\",\"type\":\"bar\"}],                        {\"template\":{\"data\":{\"histogram2dcontour\":[{\"type\":\"histogram2dcontour\",\"colorbar\":{\"outlinewidth\":0,\"ticks\":\"\"},\"colorscale\":[[0.0,\"#0d0887\"],[0.1111111111111111,\"#46039f\"],[0.2222222222222222,\"#7201a8\"],[0.3333333333333333,\"#9c179e\"],[0.4444444444444444,\"#bd3786\"],[0.5555555555555556,\"#d8576b\"],[0.6666666666666666,\"#ed7953\"],[0.7777777777777778,\"#fb9f3a\"],[0.8888888888888888,\"#fdca26\"],[1.0,\"#f0f921\"]]}],\"choropleth\":[{\"type\":\"choropleth\",\"colorbar\":{\"outlinewidth\":0,\"ticks\":\"\"}}],\"histogram2d\":[{\"type\":\"histogram2d\",\"colorbar\":{\"outlinewidth\":0,\"ticks\":\"\"},\"colorscale\":[[0.0,\"#0d0887\"],[0.1111111111111111,\"#46039f\"],[0.2222222222222222,\"#7201a8\"],[0.3333333333333333,\"#9c179e\"],[0.4444444444444444,\"#bd3786\"],[0.5555555555555556,\"#d8576b\"],[0.6666666666666666,\"#ed7953\"],[0.7777777777777778,\"#fb9f3a\"],[0.8888888888888888,\"#fdca26\"],[1.0,\"#f0f921\"]]}],\"heatmap\":[{\"type\":\"heatmap\",\"colorbar\":{\"outlinewidth\":0,\"ticks\":\"\"},\"colorscale\":[[0.0,\"#0d0887\"],[0.1111111111111111,\"#46039f\"],[0.2222222222222222,\"#7201a8\"],[0.3333333333333333,\"#9c179e\"],[0.4444444444444444,\"#bd3786\"],[0.5555555555555556,\"#d8576b\"],[0.6666666666666666,\"#ed7953\"],[0.7777777777777778,\"#fb9f3a\"],[0.8888888888888888,\"#fdca26\"],[1.0,\"#f0f921\"]]}],\"heatmapgl\":[{\"type\":\"heatmapgl\",\"colorbar\":{\"outlinewidth\":0,\"ticks\":\"\"},\"colorscale\":[[0.0,\"#0d0887\"],[0.1111111111111111,\"#46039f\"],[0.2222222222222222,\"#7201a8\"],[0.3333333333333333,\"#9c179e\"],[0.4444444444444444,\"#bd3786\"],[0.5555555555555556,\"#d8576b\"],[0.6666666666666666,\"#ed7953\"],[0.7777777777777778,\"#fb9f3a\"],[0.8888888888888888,\"#fdca26\"],[1.0,\"#f0f921\"]]}],\"contourcarpet\":[{\"type\":\"contourcarpet\",\"colorbar\":{\"outlinewidth\":0,\"ticks\":\"\"}}],\"contour\":[{\"type\":\"contour\",\"colorbar\":{\"outlinewidth\":0,\"ticks\":\"\"},\"colorscale\":[[0.0,\"#0d0887\"],[0.1111111111111111,\"#46039f\"],[0.2222222222222222,\"#7201a8\"],[0.3333333333333333,\"#9c179e\"],[0.4444444444444444,\"#bd3786\"],[0.5555555555555556,\"#d8576b\"],[0.6666666666666666,\"#ed7953\"],[0.7777777777777778,\"#fb9f3a\"],[0.8888888888888888,\"#fdca26\"],[1.0,\"#f0f921\"]]}],\"surface\":[{\"type\":\"surface\",\"colorbar\":{\"outlinewidth\":0,\"ticks\":\"\"},\"colorscale\":[[0.0,\"#0d0887\"],[0.1111111111111111,\"#46039f\"],[0.2222222222222222,\"#7201a8\"],[0.3333333333333333,\"#9c179e\"],[0.4444444444444444,\"#bd3786\"],[0.5555555555555556,\"#d8576b\"],[0.6666666666666666,\"#ed7953\"],[0.7777777777777778,\"#fb9f3a\"],[0.8888888888888888,\"#fdca26\"],[1.0,\"#f0f921\"]]}],\"mesh3d\":[{\"type\":\"mesh3d\",\"colorbar\":{\"outlinewidth\":0,\"ticks\":\"\"}}],\"scatter\":[{\"fillpattern\":{\"fillmode\":\"overlay\",\"size\":10,\"solidity\":0.2},\"type\":\"scatter\"}],\"parcoords\":[{\"type\":\"parcoords\",\"line\":{\"colorbar\":{\"outlinewidth\":0,\"ticks\":\"\"}}}],\"scatterpolargl\":[{\"type\":\"scatterpolargl\",\"marker\":{\"colorbar\":{\"outlinewidth\":0,\"ticks\":\"\"}}}],\"bar\":[{\"error_x\":{\"color\":\"#2a3f5f\"},\"error_y\":{\"color\":\"#2a3f5f\"},\"marker\":{\"line\":{\"color\":\"#E5ECF6\",\"width\":0.5},\"pattern\":{\"fillmode\":\"overlay\",\"size\":10,\"solidity\":0.2}},\"type\":\"bar\"}],\"scattergeo\":[{\"type\":\"scattergeo\",\"marker\":{\"colorbar\":{\"outlinewidth\":0,\"ticks\":\"\"}}}],\"scatterpolar\":[{\"type\":\"scatterpolar\",\"marker\":{\"colorbar\":{\"outlinewidth\":0,\"ticks\":\"\"}}}],\"histogram\":[{\"marker\":{\"pattern\":{\"fillmode\":\"overlay\",\"size\":10,\"solidity\":0.2}},\"type\":\"histogram\"}],\"scattergl\":[{\"type\":\"scattergl\",\"marker\":{\"colorbar\":{\"outlinewidth\":0,\"ticks\":\"\"}}}],\"scatter3d\":[{\"type\":\"scatter3d\",\"line\":{\"colorbar\":{\"outlinewidth\":0,\"ticks\":\"\"}},\"marker\":{\"colorbar\":{\"outlinewidth\":0,\"ticks\":\"\"}}}],\"scattermapbox\":[{\"type\":\"scattermapbox\",\"marker\":{\"colorbar\":{\"outlinewidth\":0,\"ticks\":\"\"}}}],\"scatterternary\":[{\"type\":\"scatterternary\",\"marker\":{\"colorbar\":{\"outlinewidth\":0,\"ticks\":\"\"}}}],\"scattercarpet\":[{\"type\":\"scattercarpet\",\"marker\":{\"colorbar\":{\"outlinewidth\":0,\"ticks\":\"\"}}}],\"carpet\":[{\"aaxis\":{\"endlinecolor\":\"#2a3f5f\",\"gridcolor\":\"white\",\"linecolor\":\"white\",\"minorgridcolor\":\"white\",\"startlinecolor\":\"#2a3f5f\"},\"baxis\":{\"endlinecolor\":\"#2a3f5f\",\"gridcolor\":\"white\",\"linecolor\":\"white\",\"minorgridcolor\":\"white\",\"startlinecolor\":\"#2a3f5f\"},\"type\":\"carpet\"}],\"table\":[{\"cells\":{\"fill\":{\"color\":\"#EBF0F8\"},\"line\":{\"color\":\"white\"}},\"header\":{\"fill\":{\"color\":\"#C8D4E3\"},\"line\":{\"color\":\"white\"}},\"type\":\"table\"}],\"barpolar\":[{\"marker\":{\"line\":{\"color\":\"#E5ECF6\",\"width\":0.5},\"pattern\":{\"fillmode\":\"overlay\",\"size\":10,\"solidity\":0.2}},\"type\":\"barpolar\"}],\"pie\":[{\"automargin\":true,\"type\":\"pie\"}]},\"layout\":{\"autotypenumbers\":\"strict\",\"colorway\":[\"#636efa\",\"#EF553B\",\"#00cc96\",\"#ab63fa\",\"#FFA15A\",\"#19d3f3\",\"#FF6692\",\"#B6E880\",\"#FF97FF\",\"#FECB52\"],\"font\":{\"color\":\"#2a3f5f\"},\"hovermode\":\"closest\",\"hoverlabel\":{\"align\":\"left\"},\"paper_bgcolor\":\"white\",\"plot_bgcolor\":\"#E5ECF6\",\"polar\":{\"bgcolor\":\"#E5ECF6\",\"angularaxis\":{\"gridcolor\":\"white\",\"linecolor\":\"white\",\"ticks\":\"\"},\"radialaxis\":{\"gridcolor\":\"white\",\"linecolor\":\"white\",\"ticks\":\"\"}},\"ternary\":{\"bgcolor\":\"#E5ECF6\",\"aaxis\":{\"gridcolor\":\"white\",\"linecolor\":\"white\",\"ticks\":\"\"},\"baxis\":{\"gridcolor\":\"white\",\"linecolor\":\"white\",\"ticks\":\"\"},\"caxis\":{\"gridcolor\":\"white\",\"linecolor\":\"white\",\"ticks\":\"\"}},\"coloraxis\":{\"colorbar\":{\"outlinewidth\":0,\"ticks\":\"\"}},\"colorscale\":{\"sequential\":[[0.0,\"#0d0887\"],[0.1111111111111111,\"#46039f\"],[0.2222222222222222,\"#7201a8\"],[0.3333333333333333,\"#9c179e\"],[0.4444444444444444,\"#bd3786\"],[0.5555555555555556,\"#d8576b\"],[0.6666666666666666,\"#ed7953\"],[0.7777777777777778,\"#fb9f3a\"],[0.8888888888888888,\"#fdca26\"],[1.0,\"#f0f921\"]],\"sequentialminus\":[[0.0,\"#0d0887\"],[0.1111111111111111,\"#46039f\"],[0.2222222222222222,\"#7201a8\"],[0.3333333333333333,\"#9c179e\"],[0.4444444444444444,\"#bd3786\"],[0.5555555555555556,\"#d8576b\"],[0.6666666666666666,\"#ed7953\"],[0.7777777777777778,\"#fb9f3a\"],[0.8888888888888888,\"#fdca26\"],[1.0,\"#f0f921\"]],\"diverging\":[[0,\"#8e0152\"],[0.1,\"#c51b7d\"],[0.2,\"#de77ae\"],[0.3,\"#f1b6da\"],[0.4,\"#fde0ef\"],[0.5,\"#f7f7f7\"],[0.6,\"#e6f5d0\"],[0.7,\"#b8e186\"],[0.8,\"#7fbc41\"],[0.9,\"#4d9221\"],[1,\"#276419\"]]},\"xaxis\":{\"gridcolor\":\"white\",\"linecolor\":\"white\",\"ticks\":\"\",\"title\":{\"standoff\":15},\"zerolinecolor\":\"white\",\"automargin\":true,\"zerolinewidth\":2},\"yaxis\":{\"gridcolor\":\"white\",\"linecolor\":\"white\",\"ticks\":\"\",\"title\":{\"standoff\":15},\"zerolinecolor\":\"white\",\"automargin\":true,\"zerolinewidth\":2},\"scene\":{\"xaxis\":{\"backgroundcolor\":\"#E5ECF6\",\"gridcolor\":\"white\",\"linecolor\":\"white\",\"showbackground\":true,\"ticks\":\"\",\"zerolinecolor\":\"white\",\"gridwidth\":2},\"yaxis\":{\"backgroundcolor\":\"#E5ECF6\",\"gridcolor\":\"white\",\"linecolor\":\"white\",\"showbackground\":true,\"ticks\":\"\",\"zerolinecolor\":\"white\",\"gridwidth\":2},\"zaxis\":{\"backgroundcolor\":\"#E5ECF6\",\"gridcolor\":\"white\",\"linecolor\":\"white\",\"showbackground\":true,\"ticks\":\"\",\"zerolinecolor\":\"white\",\"gridwidth\":2}},\"shapedefaults\":{\"line\":{\"color\":\"#2a3f5f\"}},\"annotationdefaults\":{\"arrowcolor\":\"#2a3f5f\",\"arrowhead\":0,\"arrowwidth\":1},\"geo\":{\"bgcolor\":\"white\",\"landcolor\":\"#E5ECF6\",\"subunitcolor\":\"white\",\"showland\":true,\"showlakes\":true,\"lakecolor\":\"white\"},\"title\":{\"x\":0.05},\"mapbox\":{\"style\":\"light\"}}},\"xaxis\":{\"anchor\":\"y\",\"domain\":[0.0,1.0],\"title\":{\"text\":\"subject\"}},\"yaxis\":{\"anchor\":\"x\",\"domain\":[0.0,1.0],\"title\":{\"text\":\"value\"}},\"legend\":{\"title\":{\"text\":\"color\"},\"tracegroupgap\":0},\"title\":{\"text\":\"# courses for each subject\"},\"barmode\":\"relative\",\"height\":400,\"width\":600},                        {\"responsive\": true}                    ).then(function(){\n",
       "                            \n",
       "var gd = document.getElementById('570fa5c4-898b-42b7-8502-094493631e15');\n",
       "var x = new MutationObserver(function (mutations, observer) {{\n",
       "        var display = window.getComputedStyle(gd).display;\n",
       "        if (!display || display === 'none') {{\n",
       "            console.log([gd, 'removed!']);\n",
       "            Plotly.purge(gd);\n",
       "            observer.disconnect();\n",
       "        }}\n",
       "}});\n",
       "\n",
       "// Listen for the removal of the full notebook cells\n",
       "var notebookContainer = gd.closest('#notebook-container');\n",
       "if (notebookContainer) {{\n",
       "    x.observe(notebookContainer, {childList: true});\n",
       "}}\n",
       "\n",
       "// Listen for the clearing of the current output cell\n",
       "var outputEl = gd.closest('.output');\n",
       "if (outputEl) {{\n",
       "    x.observe(outputEl, {childList: true});\n",
       "}}\n",
       "\n",
       "                        })                };                });            </script>        </div>"
      ]
     },
     "metadata": {},
     "output_type": "display_data"
    }
   ],
   "source": [
    "# visualizing data result\n",
    "\n",
    "chart_title= '# courses for each subject'\n",
    "chart_color= df[['subject', 'course_id']].groupby('subject').count().sort_values(by= 'course_id', ascending= False).index\n",
    "px.bar(df[['subject', 'course_id']].groupby('subject').count().sort_values(by= 'course_id', ascending= False), color= chart_color, title= chart_title, height= 400, width= 600)"
   ]
  },
  {
   "cell_type": "markdown",
   "id": "4d2c326b",
   "metadata": {
    "id": "mkMFIgX8Mgik",
    "papermill": {
     "duration": 0.04369,
     "end_time": "2023-07-24T06:44:53.784904",
     "exception": false,
     "start_time": "2023-07-24T06:44:53.741214",
     "status": "completed"
    },
    "tags": []
   },
   "source": [
    "# ***Q: How many courses for each subject regarding to level ?***"
   ]
  },
  {
   "cell_type": "code",
   "execution_count": 26,
   "id": "55468296",
   "metadata": {
    "execution": {
     "iopub.execute_input": "2023-07-24T06:44:53.873701Z",
     "iopub.status.busy": "2023-07-24T06:44:53.873298Z",
     "iopub.status.idle": "2023-07-24T06:44:53.890387Z",
     "shell.execute_reply": "2023-07-24T06:44:53.889277Z"
    },
    "id": "Ng64z0Rxpi4k",
    "outputId": "8011cef6-7cf5-44b1-b9bd-ebfe7085de8a",
    "papermill": {
     "duration": 0.064522,
     "end_time": "2023-07-24T06:44:53.892903",
     "exception": false,
     "start_time": "2023-07-24T06:44:53.828381",
     "status": "completed"
    },
    "tags": []
   },
   "outputs": [
    {
     "data": {
      "text/html": [
       "<div>\n",
       "<style scoped>\n",
       "    .dataframe tbody tr th:only-of-type {\n",
       "        vertical-align: middle;\n",
       "    }\n",
       "\n",
       "    .dataframe tbody tr th {\n",
       "        vertical-align: top;\n",
       "    }\n",
       "\n",
       "    .dataframe thead th {\n",
       "        text-align: right;\n",
       "    }\n",
       "</style>\n",
       "<table border=\"1\" class=\"dataframe\">\n",
       "  <thead>\n",
       "    <tr style=\"text-align: right;\">\n",
       "      <th></th>\n",
       "      <th></th>\n",
       "      <th>course_id</th>\n",
       "    </tr>\n",
       "    <tr>\n",
       "      <th>subject</th>\n",
       "      <th>level</th>\n",
       "      <th></th>\n",
       "    </tr>\n",
       "  </thead>\n",
       "  <tbody>\n",
       "    <tr>\n",
       "      <th rowspan=\"4\" valign=\"top\">Business Finance</th>\n",
       "      <th>All Levels</th>\n",
       "      <td>692</td>\n",
       "    </tr>\n",
       "    <tr>\n",
       "      <th>Beginner Level</th>\n",
       "      <td>339</td>\n",
       "    </tr>\n",
       "    <tr>\n",
       "      <th>Expert Level</th>\n",
       "      <td>31</td>\n",
       "    </tr>\n",
       "    <tr>\n",
       "      <th>Intermediate Level</th>\n",
       "      <td>128</td>\n",
       "    </tr>\n",
       "    <tr>\n",
       "      <th rowspan=\"4\" valign=\"top\">Graphic Design</th>\n",
       "      <th>All Levels</th>\n",
       "      <td>298</td>\n",
       "    </tr>\n",
       "    <tr>\n",
       "      <th>Beginner Level</th>\n",
       "      <td>242</td>\n",
       "    </tr>\n",
       "    <tr>\n",
       "      <th>Expert Level</th>\n",
       "      <td>5</td>\n",
       "    </tr>\n",
       "    <tr>\n",
       "      <th>Intermediate Level</th>\n",
       "      <td>57</td>\n",
       "    </tr>\n",
       "    <tr>\n",
       "      <th rowspan=\"4\" valign=\"top\">Musical Instruments</th>\n",
       "      <th>All Levels</th>\n",
       "      <td>275</td>\n",
       "    </tr>\n",
       "    <tr>\n",
       "      <th>Beginner Level</th>\n",
       "      <td>295</td>\n",
       "    </tr>\n",
       "    <tr>\n",
       "      <th>Expert Level</th>\n",
       "      <td>7</td>\n",
       "    </tr>\n",
       "    <tr>\n",
       "      <th>Intermediate Level</th>\n",
       "      <td>101</td>\n",
       "    </tr>\n",
       "    <tr>\n",
       "      <th rowspan=\"4\" valign=\"top\">Web Development</th>\n",
       "      <th>All Levels</th>\n",
       "      <td>643</td>\n",
       "    </tr>\n",
       "    <tr>\n",
       "      <th>Beginner Level</th>\n",
       "      <td>387</td>\n",
       "    </tr>\n",
       "    <tr>\n",
       "      <th>Expert Level</th>\n",
       "      <td>15</td>\n",
       "    </tr>\n",
       "    <tr>\n",
       "      <th>Intermediate Level</th>\n",
       "      <td>135</td>\n",
       "    </tr>\n",
       "  </tbody>\n",
       "</table>\n",
       "</div>"
      ],
      "text/plain": [
       "                                        course_id\n",
       "subject             level                        \n",
       "Business Finance    All Levels                692\n",
       "                    Beginner Level            339\n",
       "                    Expert Level               31\n",
       "                    Intermediate Level        128\n",
       "Graphic Design      All Levels                298\n",
       "                    Beginner Level            242\n",
       "                    Expert Level                5\n",
       "                    Intermediate Level         57\n",
       "Musical Instruments All Levels                275\n",
       "                    Beginner Level            295\n",
       "                    Expert Level                7\n",
       "                    Intermediate Level        101\n",
       "Web Development     All Levels                643\n",
       "                    Beginner Level            387\n",
       "                    Expert Level               15\n",
       "                    Intermediate Level        135"
      ]
     },
     "execution_count": 26,
     "metadata": {},
     "output_type": "execute_result"
    }
   ],
   "source": [
    "# select data from dataset\n",
    "\n",
    "df[['subject', 'level', 'course_id']].groupby(['subject', 'level']).count()"
   ]
  },
  {
   "cell_type": "code",
   "execution_count": 27,
   "id": "732647d1",
   "metadata": {
    "execution": {
     "iopub.execute_input": "2023-07-24T06:44:53.984276Z",
     "iopub.status.busy": "2023-07-24T06:44:53.983841Z",
     "iopub.status.idle": "2023-07-24T06:44:54.008918Z",
     "shell.execute_reply": "2023-07-24T06:44:54.007904Z"
    },
    "id": "Sil1MmCykB3b",
    "outputId": "c90e31b5-9ac0-4819-d5de-9e8880ebb898",
    "papermill": {
     "duration": 0.072916,
     "end_time": "2023-07-24T06:44:54.011309",
     "exception": false,
     "start_time": "2023-07-24T06:44:53.938393",
     "status": "completed"
    },
    "tags": []
   },
   "outputs": [
    {
     "data": {
      "text/html": [
       "<div>\n",
       "<style scoped>\n",
       "    .dataframe tbody tr th:only-of-type {\n",
       "        vertical-align: middle;\n",
       "    }\n",
       "\n",
       "    .dataframe tbody tr th {\n",
       "        vertical-align: top;\n",
       "    }\n",
       "\n",
       "    .dataframe thead th {\n",
       "        text-align: right;\n",
       "    }\n",
       "</style>\n",
       "<table border=\"1\" class=\"dataframe\">\n",
       "  <thead>\n",
       "    <tr style=\"text-align: right;\">\n",
       "      <th>level</th>\n",
       "      <th>All Levels</th>\n",
       "      <th>Beginner Level</th>\n",
       "      <th>Expert Level</th>\n",
       "      <th>Intermediate Level</th>\n",
       "    </tr>\n",
       "    <tr>\n",
       "      <th>subject</th>\n",
       "      <th></th>\n",
       "      <th></th>\n",
       "      <th></th>\n",
       "      <th></th>\n",
       "    </tr>\n",
       "  </thead>\n",
       "  <tbody>\n",
       "    <tr>\n",
       "      <th>Business Finance</th>\n",
       "      <td>692</td>\n",
       "      <td>339</td>\n",
       "      <td>31</td>\n",
       "      <td>128</td>\n",
       "    </tr>\n",
       "    <tr>\n",
       "      <th>Graphic Design</th>\n",
       "      <td>298</td>\n",
       "      <td>242</td>\n",
       "      <td>5</td>\n",
       "      <td>57</td>\n",
       "    </tr>\n",
       "    <tr>\n",
       "      <th>Musical Instruments</th>\n",
       "      <td>275</td>\n",
       "      <td>295</td>\n",
       "      <td>7</td>\n",
       "      <td>101</td>\n",
       "    </tr>\n",
       "    <tr>\n",
       "      <th>Web Development</th>\n",
       "      <td>643</td>\n",
       "      <td>387</td>\n",
       "      <td>15</td>\n",
       "      <td>135</td>\n",
       "    </tr>\n",
       "  </tbody>\n",
       "</table>\n",
       "</div>"
      ],
      "text/plain": [
       "level                All Levels  Beginner Level  Expert Level  \\\n",
       "subject                                                         \n",
       "Business Finance            692             339            31   \n",
       "Graphic Design              298             242             5   \n",
       "Musical Instruments         275             295             7   \n",
       "Web Development             643             387            15   \n",
       "\n",
       "level                Intermediate Level  \n",
       "subject                                  \n",
       "Business Finance                    128  \n",
       "Graphic Design                       57  \n",
       "Musical Instruments                 101  \n",
       "Web Development                     135  "
      ]
     },
     "execution_count": 27,
     "metadata": {},
     "output_type": "execute_result"
    }
   ],
   "source": [
    "# pivot table for result\n",
    "\n",
    "df.pivot_table(index= 'subject', columns= 'level', values= 'course_id', aggfunc= 'count')"
   ]
  },
  {
   "cell_type": "code",
   "execution_count": 28,
   "id": "7b6a7d13",
   "metadata": {
    "execution": {
     "iopub.execute_input": "2023-07-24T06:44:54.104076Z",
     "iopub.status.busy": "2023-07-24T06:44:54.103654Z",
     "iopub.status.idle": "2023-07-24T06:44:54.468948Z",
     "shell.execute_reply": "2023-07-24T06:44:54.467888Z"
    },
    "id": "_SBcAXtjDRTq",
    "outputId": "e36e0c58-546e-4be8-ea72-e3d77346d83b",
    "papermill": {
     "duration": 0.415863,
     "end_time": "2023-07-24T06:44:54.471391",
     "exception": false,
     "start_time": "2023-07-24T06:44:54.055528",
     "status": "completed"
    },
    "tags": []
   },
   "outputs": [
    {
     "data": {
      "text/html": [
       "<div>                            <div id=\"615983c5-d542-4c1c-9487-0ca0af2d8408\" class=\"plotly-graph-div\" style=\"height:400px; width:100%;\"></div>            <script type=\"text/javascript\">                require([\"plotly\"], function(Plotly) {                    window.PLOTLYENV=window.PLOTLYENV || {};                                    if (document.getElementById(\"615983c5-d542-4c1c-9487-0ca0af2d8408\")) {                    Plotly.newPlot(                        \"615983c5-d542-4c1c-9487-0ca0af2d8408\",                        [{\"alignmentgroup\":\"True\",\"hovertemplate\":\"color=Business Finance\\u003cbr\\u003elevel=All Levels\\u003cbr\\u003esubject=%{x}\\u003cbr\\u003evalue=%{y}\\u003cextra\\u003e\\u003c\\u002fextra\\u003e\",\"legendgroup\":\"Business Finance\",\"marker\":{\"color\":\"#636efa\",\"pattern\":{\"shape\":\"\"}},\"name\":\"Business Finance\",\"offsetgroup\":\"Business Finance\",\"orientation\":\"v\",\"showlegend\":true,\"textposition\":\"auto\",\"x\":[\"Business Finance\"],\"xaxis\":\"x\",\"y\":[692],\"yaxis\":\"y\",\"type\":\"bar\"},{\"alignmentgroup\":\"True\",\"hovertemplate\":\"color=Business Finance\\u003cbr\\u003elevel=Beginner Level\\u003cbr\\u003esubject=%{x}\\u003cbr\\u003evalue=%{y}\\u003cextra\\u003e\\u003c\\u002fextra\\u003e\",\"legendgroup\":\"Business Finance\",\"marker\":{\"color\":\"#636efa\",\"pattern\":{\"shape\":\"\"}},\"name\":\"Business Finance\",\"offsetgroup\":\"Business Finance\",\"orientation\":\"v\",\"showlegend\":false,\"textposition\":\"auto\",\"x\":[\"Business Finance\"],\"xaxis\":\"x2\",\"y\":[339],\"yaxis\":\"y2\",\"type\":\"bar\"},{\"alignmentgroup\":\"True\",\"hovertemplate\":\"color=Business Finance\\u003cbr\\u003elevel=Expert Level\\u003cbr\\u003esubject=%{x}\\u003cbr\\u003evalue=%{y}\\u003cextra\\u003e\\u003c\\u002fextra\\u003e\",\"legendgroup\":\"Business Finance\",\"marker\":{\"color\":\"#636efa\",\"pattern\":{\"shape\":\"\"}},\"name\":\"Business Finance\",\"offsetgroup\":\"Business Finance\",\"orientation\":\"v\",\"showlegend\":false,\"textposition\":\"auto\",\"x\":[\"Business Finance\"],\"xaxis\":\"x3\",\"y\":[31],\"yaxis\":\"y3\",\"type\":\"bar\"},{\"alignmentgroup\":\"True\",\"hovertemplate\":\"color=Business Finance\\u003cbr\\u003elevel=Intermediate Level\\u003cbr\\u003esubject=%{x}\\u003cbr\\u003evalue=%{y}\\u003cextra\\u003e\\u003c\\u002fextra\\u003e\",\"legendgroup\":\"Business Finance\",\"marker\":{\"color\":\"#636efa\",\"pattern\":{\"shape\":\"\"}},\"name\":\"Business Finance\",\"offsetgroup\":\"Business Finance\",\"orientation\":\"v\",\"showlegend\":false,\"textposition\":\"auto\",\"x\":[\"Business Finance\"],\"xaxis\":\"x4\",\"y\":[128],\"yaxis\":\"y4\",\"type\":\"bar\"},{\"alignmentgroup\":\"True\",\"hovertemplate\":\"color=Graphic Design\\u003cbr\\u003elevel=All Levels\\u003cbr\\u003esubject=%{x}\\u003cbr\\u003evalue=%{y}\\u003cextra\\u003e\\u003c\\u002fextra\\u003e\",\"legendgroup\":\"Graphic Design\",\"marker\":{\"color\":\"#EF553B\",\"pattern\":{\"shape\":\"\"}},\"name\":\"Graphic Design\",\"offsetgroup\":\"Graphic Design\",\"orientation\":\"v\",\"showlegend\":true,\"textposition\":\"auto\",\"x\":[\"Graphic Design\"],\"xaxis\":\"x\",\"y\":[298],\"yaxis\":\"y\",\"type\":\"bar\"},{\"alignmentgroup\":\"True\",\"hovertemplate\":\"color=Graphic Design\\u003cbr\\u003elevel=Beginner Level\\u003cbr\\u003esubject=%{x}\\u003cbr\\u003evalue=%{y}\\u003cextra\\u003e\\u003c\\u002fextra\\u003e\",\"legendgroup\":\"Graphic Design\",\"marker\":{\"color\":\"#EF553B\",\"pattern\":{\"shape\":\"\"}},\"name\":\"Graphic Design\",\"offsetgroup\":\"Graphic Design\",\"orientation\":\"v\",\"showlegend\":false,\"textposition\":\"auto\",\"x\":[\"Graphic Design\"],\"xaxis\":\"x2\",\"y\":[242],\"yaxis\":\"y2\",\"type\":\"bar\"},{\"alignmentgroup\":\"True\",\"hovertemplate\":\"color=Graphic Design\\u003cbr\\u003elevel=Expert Level\\u003cbr\\u003esubject=%{x}\\u003cbr\\u003evalue=%{y}\\u003cextra\\u003e\\u003c\\u002fextra\\u003e\",\"legendgroup\":\"Graphic Design\",\"marker\":{\"color\":\"#EF553B\",\"pattern\":{\"shape\":\"\"}},\"name\":\"Graphic Design\",\"offsetgroup\":\"Graphic Design\",\"orientation\":\"v\",\"showlegend\":false,\"textposition\":\"auto\",\"x\":[\"Graphic Design\"],\"xaxis\":\"x3\",\"y\":[5],\"yaxis\":\"y3\",\"type\":\"bar\"},{\"alignmentgroup\":\"True\",\"hovertemplate\":\"color=Graphic Design\\u003cbr\\u003elevel=Intermediate Level\\u003cbr\\u003esubject=%{x}\\u003cbr\\u003evalue=%{y}\\u003cextra\\u003e\\u003c\\u002fextra\\u003e\",\"legendgroup\":\"Graphic Design\",\"marker\":{\"color\":\"#EF553B\",\"pattern\":{\"shape\":\"\"}},\"name\":\"Graphic Design\",\"offsetgroup\":\"Graphic Design\",\"orientation\":\"v\",\"showlegend\":false,\"textposition\":\"auto\",\"x\":[\"Graphic Design\"],\"xaxis\":\"x4\",\"y\":[57],\"yaxis\":\"y4\",\"type\":\"bar\"},{\"alignmentgroup\":\"True\",\"hovertemplate\":\"color=Musical Instruments\\u003cbr\\u003elevel=All Levels\\u003cbr\\u003esubject=%{x}\\u003cbr\\u003evalue=%{y}\\u003cextra\\u003e\\u003c\\u002fextra\\u003e\",\"legendgroup\":\"Musical Instruments\",\"marker\":{\"color\":\"#00cc96\",\"pattern\":{\"shape\":\"\"}},\"name\":\"Musical Instruments\",\"offsetgroup\":\"Musical Instruments\",\"orientation\":\"v\",\"showlegend\":true,\"textposition\":\"auto\",\"x\":[\"Musical Instruments\"],\"xaxis\":\"x\",\"y\":[275],\"yaxis\":\"y\",\"type\":\"bar\"},{\"alignmentgroup\":\"True\",\"hovertemplate\":\"color=Musical Instruments\\u003cbr\\u003elevel=Beginner Level\\u003cbr\\u003esubject=%{x}\\u003cbr\\u003evalue=%{y}\\u003cextra\\u003e\\u003c\\u002fextra\\u003e\",\"legendgroup\":\"Musical Instruments\",\"marker\":{\"color\":\"#00cc96\",\"pattern\":{\"shape\":\"\"}},\"name\":\"Musical Instruments\",\"offsetgroup\":\"Musical Instruments\",\"orientation\":\"v\",\"showlegend\":false,\"textposition\":\"auto\",\"x\":[\"Musical Instruments\"],\"xaxis\":\"x2\",\"y\":[295],\"yaxis\":\"y2\",\"type\":\"bar\"},{\"alignmentgroup\":\"True\",\"hovertemplate\":\"color=Musical Instruments\\u003cbr\\u003elevel=Expert Level\\u003cbr\\u003esubject=%{x}\\u003cbr\\u003evalue=%{y}\\u003cextra\\u003e\\u003c\\u002fextra\\u003e\",\"legendgroup\":\"Musical Instruments\",\"marker\":{\"color\":\"#00cc96\",\"pattern\":{\"shape\":\"\"}},\"name\":\"Musical Instruments\",\"offsetgroup\":\"Musical Instruments\",\"orientation\":\"v\",\"showlegend\":false,\"textposition\":\"auto\",\"x\":[\"Musical Instruments\"],\"xaxis\":\"x3\",\"y\":[7],\"yaxis\":\"y3\",\"type\":\"bar\"},{\"alignmentgroup\":\"True\",\"hovertemplate\":\"color=Musical Instruments\\u003cbr\\u003elevel=Intermediate Level\\u003cbr\\u003esubject=%{x}\\u003cbr\\u003evalue=%{y}\\u003cextra\\u003e\\u003c\\u002fextra\\u003e\",\"legendgroup\":\"Musical Instruments\",\"marker\":{\"color\":\"#00cc96\",\"pattern\":{\"shape\":\"\"}},\"name\":\"Musical Instruments\",\"offsetgroup\":\"Musical Instruments\",\"orientation\":\"v\",\"showlegend\":false,\"textposition\":\"auto\",\"x\":[\"Musical Instruments\"],\"xaxis\":\"x4\",\"y\":[101],\"yaxis\":\"y4\",\"type\":\"bar\"},{\"alignmentgroup\":\"True\",\"hovertemplate\":\"color=Web Development\\u003cbr\\u003elevel=All Levels\\u003cbr\\u003esubject=%{x}\\u003cbr\\u003evalue=%{y}\\u003cextra\\u003e\\u003c\\u002fextra\\u003e\",\"legendgroup\":\"Web Development\",\"marker\":{\"color\":\"#ab63fa\",\"pattern\":{\"shape\":\"\"}},\"name\":\"Web Development\",\"offsetgroup\":\"Web Development\",\"orientation\":\"v\",\"showlegend\":true,\"textposition\":\"auto\",\"x\":[\"Web Development\"],\"xaxis\":\"x\",\"y\":[643],\"yaxis\":\"y\",\"type\":\"bar\"},{\"alignmentgroup\":\"True\",\"hovertemplate\":\"color=Web Development\\u003cbr\\u003elevel=Beginner Level\\u003cbr\\u003esubject=%{x}\\u003cbr\\u003evalue=%{y}\\u003cextra\\u003e\\u003c\\u002fextra\\u003e\",\"legendgroup\":\"Web Development\",\"marker\":{\"color\":\"#ab63fa\",\"pattern\":{\"shape\":\"\"}},\"name\":\"Web Development\",\"offsetgroup\":\"Web Development\",\"orientation\":\"v\",\"showlegend\":false,\"textposition\":\"auto\",\"x\":[\"Web Development\"],\"xaxis\":\"x2\",\"y\":[387],\"yaxis\":\"y2\",\"type\":\"bar\"},{\"alignmentgroup\":\"True\",\"hovertemplate\":\"color=Web Development\\u003cbr\\u003elevel=Expert Level\\u003cbr\\u003esubject=%{x}\\u003cbr\\u003evalue=%{y}\\u003cextra\\u003e\\u003c\\u002fextra\\u003e\",\"legendgroup\":\"Web Development\",\"marker\":{\"color\":\"#ab63fa\",\"pattern\":{\"shape\":\"\"}},\"name\":\"Web Development\",\"offsetgroup\":\"Web Development\",\"orientation\":\"v\",\"showlegend\":false,\"textposition\":\"auto\",\"x\":[\"Web Development\"],\"xaxis\":\"x3\",\"y\":[15],\"yaxis\":\"y3\",\"type\":\"bar\"},{\"alignmentgroup\":\"True\",\"hovertemplate\":\"color=Web Development\\u003cbr\\u003elevel=Intermediate Level\\u003cbr\\u003esubject=%{x}\\u003cbr\\u003evalue=%{y}\\u003cextra\\u003e\\u003c\\u002fextra\\u003e\",\"legendgroup\":\"Web Development\",\"marker\":{\"color\":\"#ab63fa\",\"pattern\":{\"shape\":\"\"}},\"name\":\"Web Development\",\"offsetgroup\":\"Web Development\",\"orientation\":\"v\",\"showlegend\":false,\"textposition\":\"auto\",\"x\":[\"Web Development\"],\"xaxis\":\"x4\",\"y\":[135],\"yaxis\":\"y4\",\"type\":\"bar\"}],                        {\"template\":{\"data\":{\"histogram2dcontour\":[{\"type\":\"histogram2dcontour\",\"colorbar\":{\"outlinewidth\":0,\"ticks\":\"\"},\"colorscale\":[[0.0,\"#0d0887\"],[0.1111111111111111,\"#46039f\"],[0.2222222222222222,\"#7201a8\"],[0.3333333333333333,\"#9c179e\"],[0.4444444444444444,\"#bd3786\"],[0.5555555555555556,\"#d8576b\"],[0.6666666666666666,\"#ed7953\"],[0.7777777777777778,\"#fb9f3a\"],[0.8888888888888888,\"#fdca26\"],[1.0,\"#f0f921\"]]}],\"choropleth\":[{\"type\":\"choropleth\",\"colorbar\":{\"outlinewidth\":0,\"ticks\":\"\"}}],\"histogram2d\":[{\"type\":\"histogram2d\",\"colorbar\":{\"outlinewidth\":0,\"ticks\":\"\"},\"colorscale\":[[0.0,\"#0d0887\"],[0.1111111111111111,\"#46039f\"],[0.2222222222222222,\"#7201a8\"],[0.3333333333333333,\"#9c179e\"],[0.4444444444444444,\"#bd3786\"],[0.5555555555555556,\"#d8576b\"],[0.6666666666666666,\"#ed7953\"],[0.7777777777777778,\"#fb9f3a\"],[0.8888888888888888,\"#fdca26\"],[1.0,\"#f0f921\"]]}],\"heatmap\":[{\"type\":\"heatmap\",\"colorbar\":{\"outlinewidth\":0,\"ticks\":\"\"},\"colorscale\":[[0.0,\"#0d0887\"],[0.1111111111111111,\"#46039f\"],[0.2222222222222222,\"#7201a8\"],[0.3333333333333333,\"#9c179e\"],[0.4444444444444444,\"#bd3786\"],[0.5555555555555556,\"#d8576b\"],[0.6666666666666666,\"#ed7953\"],[0.7777777777777778,\"#fb9f3a\"],[0.8888888888888888,\"#fdca26\"],[1.0,\"#f0f921\"]]}],\"heatmapgl\":[{\"type\":\"heatmapgl\",\"colorbar\":{\"outlinewidth\":0,\"ticks\":\"\"},\"colorscale\":[[0.0,\"#0d0887\"],[0.1111111111111111,\"#46039f\"],[0.2222222222222222,\"#7201a8\"],[0.3333333333333333,\"#9c179e\"],[0.4444444444444444,\"#bd3786\"],[0.5555555555555556,\"#d8576b\"],[0.6666666666666666,\"#ed7953\"],[0.7777777777777778,\"#fb9f3a\"],[0.8888888888888888,\"#fdca26\"],[1.0,\"#f0f921\"]]}],\"contourcarpet\":[{\"type\":\"contourcarpet\",\"colorbar\":{\"outlinewidth\":0,\"ticks\":\"\"}}],\"contour\":[{\"type\":\"contour\",\"colorbar\":{\"outlinewidth\":0,\"ticks\":\"\"},\"colorscale\":[[0.0,\"#0d0887\"],[0.1111111111111111,\"#46039f\"],[0.2222222222222222,\"#7201a8\"],[0.3333333333333333,\"#9c179e\"],[0.4444444444444444,\"#bd3786\"],[0.5555555555555556,\"#d8576b\"],[0.6666666666666666,\"#ed7953\"],[0.7777777777777778,\"#fb9f3a\"],[0.8888888888888888,\"#fdca26\"],[1.0,\"#f0f921\"]]}],\"surface\":[{\"type\":\"surface\",\"colorbar\":{\"outlinewidth\":0,\"ticks\":\"\"},\"colorscale\":[[0.0,\"#0d0887\"],[0.1111111111111111,\"#46039f\"],[0.2222222222222222,\"#7201a8\"],[0.3333333333333333,\"#9c179e\"],[0.4444444444444444,\"#bd3786\"],[0.5555555555555556,\"#d8576b\"],[0.6666666666666666,\"#ed7953\"],[0.7777777777777778,\"#fb9f3a\"],[0.8888888888888888,\"#fdca26\"],[1.0,\"#f0f921\"]]}],\"mesh3d\":[{\"type\":\"mesh3d\",\"colorbar\":{\"outlinewidth\":0,\"ticks\":\"\"}}],\"scatter\":[{\"fillpattern\":{\"fillmode\":\"overlay\",\"size\":10,\"solidity\":0.2},\"type\":\"scatter\"}],\"parcoords\":[{\"type\":\"parcoords\",\"line\":{\"colorbar\":{\"outlinewidth\":0,\"ticks\":\"\"}}}],\"scatterpolargl\":[{\"type\":\"scatterpolargl\",\"marker\":{\"colorbar\":{\"outlinewidth\":0,\"ticks\":\"\"}}}],\"bar\":[{\"error_x\":{\"color\":\"#2a3f5f\"},\"error_y\":{\"color\":\"#2a3f5f\"},\"marker\":{\"line\":{\"color\":\"#E5ECF6\",\"width\":0.5},\"pattern\":{\"fillmode\":\"overlay\",\"size\":10,\"solidity\":0.2}},\"type\":\"bar\"}],\"scattergeo\":[{\"type\":\"scattergeo\",\"marker\":{\"colorbar\":{\"outlinewidth\":0,\"ticks\":\"\"}}}],\"scatterpolar\":[{\"type\":\"scatterpolar\",\"marker\":{\"colorbar\":{\"outlinewidth\":0,\"ticks\":\"\"}}}],\"histogram\":[{\"marker\":{\"pattern\":{\"fillmode\":\"overlay\",\"size\":10,\"solidity\":0.2}},\"type\":\"histogram\"}],\"scattergl\":[{\"type\":\"scattergl\",\"marker\":{\"colorbar\":{\"outlinewidth\":0,\"ticks\":\"\"}}}],\"scatter3d\":[{\"type\":\"scatter3d\",\"line\":{\"colorbar\":{\"outlinewidth\":0,\"ticks\":\"\"}},\"marker\":{\"colorbar\":{\"outlinewidth\":0,\"ticks\":\"\"}}}],\"scattermapbox\":[{\"type\":\"scattermapbox\",\"marker\":{\"colorbar\":{\"outlinewidth\":0,\"ticks\":\"\"}}}],\"scatterternary\":[{\"type\":\"scatterternary\",\"marker\":{\"colorbar\":{\"outlinewidth\":0,\"ticks\":\"\"}}}],\"scattercarpet\":[{\"type\":\"scattercarpet\",\"marker\":{\"colorbar\":{\"outlinewidth\":0,\"ticks\":\"\"}}}],\"carpet\":[{\"aaxis\":{\"endlinecolor\":\"#2a3f5f\",\"gridcolor\":\"white\",\"linecolor\":\"white\",\"minorgridcolor\":\"white\",\"startlinecolor\":\"#2a3f5f\"},\"baxis\":{\"endlinecolor\":\"#2a3f5f\",\"gridcolor\":\"white\",\"linecolor\":\"white\",\"minorgridcolor\":\"white\",\"startlinecolor\":\"#2a3f5f\"},\"type\":\"carpet\"}],\"table\":[{\"cells\":{\"fill\":{\"color\":\"#EBF0F8\"},\"line\":{\"color\":\"white\"}},\"header\":{\"fill\":{\"color\":\"#C8D4E3\"},\"line\":{\"color\":\"white\"}},\"type\":\"table\"}],\"barpolar\":[{\"marker\":{\"line\":{\"color\":\"#E5ECF6\",\"width\":0.5},\"pattern\":{\"fillmode\":\"overlay\",\"size\":10,\"solidity\":0.2}},\"type\":\"barpolar\"}],\"pie\":[{\"automargin\":true,\"type\":\"pie\"}]},\"layout\":{\"autotypenumbers\":\"strict\",\"colorway\":[\"#636efa\",\"#EF553B\",\"#00cc96\",\"#ab63fa\",\"#FFA15A\",\"#19d3f3\",\"#FF6692\",\"#B6E880\",\"#FF97FF\",\"#FECB52\"],\"font\":{\"color\":\"#2a3f5f\"},\"hovermode\":\"closest\",\"hoverlabel\":{\"align\":\"left\"},\"paper_bgcolor\":\"white\",\"plot_bgcolor\":\"#E5ECF6\",\"polar\":{\"bgcolor\":\"#E5ECF6\",\"angularaxis\":{\"gridcolor\":\"white\",\"linecolor\":\"white\",\"ticks\":\"\"},\"radialaxis\":{\"gridcolor\":\"white\",\"linecolor\":\"white\",\"ticks\":\"\"}},\"ternary\":{\"bgcolor\":\"#E5ECF6\",\"aaxis\":{\"gridcolor\":\"white\",\"linecolor\":\"white\",\"ticks\":\"\"},\"baxis\":{\"gridcolor\":\"white\",\"linecolor\":\"white\",\"ticks\":\"\"},\"caxis\":{\"gridcolor\":\"white\",\"linecolor\":\"white\",\"ticks\":\"\"}},\"coloraxis\":{\"colorbar\":{\"outlinewidth\":0,\"ticks\":\"\"}},\"colorscale\":{\"sequential\":[[0.0,\"#0d0887\"],[0.1111111111111111,\"#46039f\"],[0.2222222222222222,\"#7201a8\"],[0.3333333333333333,\"#9c179e\"],[0.4444444444444444,\"#bd3786\"],[0.5555555555555556,\"#d8576b\"],[0.6666666666666666,\"#ed7953\"],[0.7777777777777778,\"#fb9f3a\"],[0.8888888888888888,\"#fdca26\"],[1.0,\"#f0f921\"]],\"sequentialminus\":[[0.0,\"#0d0887\"],[0.1111111111111111,\"#46039f\"],[0.2222222222222222,\"#7201a8\"],[0.3333333333333333,\"#9c179e\"],[0.4444444444444444,\"#bd3786\"],[0.5555555555555556,\"#d8576b\"],[0.6666666666666666,\"#ed7953\"],[0.7777777777777778,\"#fb9f3a\"],[0.8888888888888888,\"#fdca26\"],[1.0,\"#f0f921\"]],\"diverging\":[[0,\"#8e0152\"],[0.1,\"#c51b7d\"],[0.2,\"#de77ae\"],[0.3,\"#f1b6da\"],[0.4,\"#fde0ef\"],[0.5,\"#f7f7f7\"],[0.6,\"#e6f5d0\"],[0.7,\"#b8e186\"],[0.8,\"#7fbc41\"],[0.9,\"#4d9221\"],[1,\"#276419\"]]},\"xaxis\":{\"gridcolor\":\"white\",\"linecolor\":\"white\",\"ticks\":\"\",\"title\":{\"standoff\":15},\"zerolinecolor\":\"white\",\"automargin\":true,\"zerolinewidth\":2},\"yaxis\":{\"gridcolor\":\"white\",\"linecolor\":\"white\",\"ticks\":\"\",\"title\":{\"standoff\":15},\"zerolinecolor\":\"white\",\"automargin\":true,\"zerolinewidth\":2},\"scene\":{\"xaxis\":{\"backgroundcolor\":\"#E5ECF6\",\"gridcolor\":\"white\",\"linecolor\":\"white\",\"showbackground\":true,\"ticks\":\"\",\"zerolinecolor\":\"white\",\"gridwidth\":2},\"yaxis\":{\"backgroundcolor\":\"#E5ECF6\",\"gridcolor\":\"white\",\"linecolor\":\"white\",\"showbackground\":true,\"ticks\":\"\",\"zerolinecolor\":\"white\",\"gridwidth\":2},\"zaxis\":{\"backgroundcolor\":\"#E5ECF6\",\"gridcolor\":\"white\",\"linecolor\":\"white\",\"showbackground\":true,\"ticks\":\"\",\"zerolinecolor\":\"white\",\"gridwidth\":2}},\"shapedefaults\":{\"line\":{\"color\":\"#2a3f5f\"}},\"annotationdefaults\":{\"arrowcolor\":\"#2a3f5f\",\"arrowhead\":0,\"arrowwidth\":1},\"geo\":{\"bgcolor\":\"white\",\"landcolor\":\"#E5ECF6\",\"subunitcolor\":\"white\",\"showland\":true,\"showlakes\":true,\"lakecolor\":\"white\"},\"title\":{\"x\":0.05},\"mapbox\":{\"style\":\"light\"}}},\"xaxis\":{\"anchor\":\"y\",\"domain\":[0.0,0.235],\"title\":{\"text\":\"subject\"}},\"yaxis\":{\"anchor\":\"x\",\"domain\":[0.0,1.0],\"title\":{\"text\":\"value\"}},\"xaxis2\":{\"anchor\":\"y2\",\"domain\":[0.255,0.49],\"matches\":\"x\",\"title\":{\"text\":\"subject\"}},\"yaxis2\":{\"anchor\":\"x2\",\"domain\":[0.0,1.0],\"matches\":\"y\",\"showticklabels\":false},\"xaxis3\":{\"anchor\":\"y3\",\"domain\":[0.51,0.745],\"matches\":\"x\",\"title\":{\"text\":\"subject\"}},\"yaxis3\":{\"anchor\":\"x3\",\"domain\":[0.0,1.0],\"matches\":\"y\",\"showticklabels\":false},\"xaxis4\":{\"anchor\":\"y4\",\"domain\":[0.7649999999999999,0.9999999999999999],\"matches\":\"x\",\"title\":{\"text\":\"subject\"}},\"yaxis4\":{\"anchor\":\"x4\",\"domain\":[0.0,1.0],\"matches\":\"y\",\"showticklabels\":false},\"annotations\":[{\"font\":{},\"showarrow\":false,\"text\":\"level=All Levels\",\"x\":0.1175,\"xanchor\":\"center\",\"xref\":\"paper\",\"y\":1.0,\"yanchor\":\"bottom\",\"yref\":\"paper\"},{\"font\":{},\"showarrow\":false,\"text\":\"level=Beginner Level\",\"x\":0.3725,\"xanchor\":\"center\",\"xref\":\"paper\",\"y\":1.0,\"yanchor\":\"bottom\",\"yref\":\"paper\"},{\"font\":{},\"showarrow\":false,\"text\":\"level=Expert Level\",\"x\":0.6275,\"xanchor\":\"center\",\"xref\":\"paper\",\"y\":1.0,\"yanchor\":\"bottom\",\"yref\":\"paper\"},{\"font\":{},\"showarrow\":false,\"text\":\"level=Intermediate Level\",\"x\":0.8824999999999998,\"xanchor\":\"center\",\"xref\":\"paper\",\"y\":1.0,\"yanchor\":\"bottom\",\"yref\":\"paper\"}],\"legend\":{\"title\":{\"text\":\"color\"},\"tracegroupgap\":0},\"title\":{\"text\":\"# courses for each subject regarding level\"},\"barmode\":\"relative\",\"height\":400},                        {\"responsive\": true}                    ).then(function(){\n",
       "                            \n",
       "var gd = document.getElementById('615983c5-d542-4c1c-9487-0ca0af2d8408');\n",
       "var x = new MutationObserver(function (mutations, observer) {{\n",
       "        var display = window.getComputedStyle(gd).display;\n",
       "        if (!display || display === 'none') {{\n",
       "            console.log([gd, 'removed!']);\n",
       "            Plotly.purge(gd);\n",
       "            observer.disconnect();\n",
       "        }}\n",
       "}});\n",
       "\n",
       "// Listen for the removal of the full notebook cells\n",
       "var notebookContainer = gd.closest('#notebook-container');\n",
       "if (notebookContainer) {{\n",
       "    x.observe(notebookContainer, {childList: true});\n",
       "}}\n",
       "\n",
       "// Listen for the clearing of the current output cell\n",
       "var outputEl = gd.closest('.output');\n",
       "if (outputEl) {{\n",
       "    x.observe(outputEl, {childList: true});\n",
       "}}\n",
       "\n",
       "                        })                };                });            </script>        </div>"
      ]
     },
     "metadata": {},
     "output_type": "display_data"
    }
   ],
   "source": [
    "# visualizing data result\n",
    "\n",
    "chart_title= '# courses for each subject regarding level'\n",
    "chart_color= df.pivot_table(index= 'subject', columns= 'level', values= 'course_id', aggfunc= 'count').index\n",
    "px.bar(df.pivot_table(index= 'subject', columns= 'level', values= 'course_id', aggfunc= 'count'), color= chart_color, facet_col= 'level', title= chart_title, height= 400)"
   ]
  },
  {
   "cell_type": "markdown",
   "id": "f5384f58",
   "metadata": {
    "id": "sP2nyRI9dJS1",
    "papermill": {
     "duration": 0.044211,
     "end_time": "2023-07-24T06:44:54.560342",
     "exception": false,
     "start_time": "2023-07-24T06:44:54.516131",
     "status": "completed"
    },
    "tags": []
   },
   "source": [
    "# ***Q: How much profit for each subject ?***"
   ]
  },
  {
   "cell_type": "code",
   "execution_count": 29,
   "id": "bcc4d255",
   "metadata": {
    "execution": {
     "iopub.execute_input": "2023-07-24T06:44:54.652382Z",
     "iopub.status.busy": "2023-07-24T06:44:54.651974Z",
     "iopub.status.idle": "2023-07-24T06:44:54.666138Z",
     "shell.execute_reply": "2023-07-24T06:44:54.665090Z"
    },
    "id": "V64dUvRAXc8F",
    "outputId": "22e166bc-5751-431b-9454-c6799a619e3b",
    "papermill": {
     "duration": 0.06252,
     "end_time": "2023-07-24T06:44:54.668347",
     "exception": false,
     "start_time": "2023-07-24T06:44:54.605827",
     "status": "completed"
    },
    "tags": []
   },
   "outputs": [
    {
     "data": {
      "text/html": [
       "<div>\n",
       "<style scoped>\n",
       "    .dataframe tbody tr th:only-of-type {\n",
       "        vertical-align: middle;\n",
       "    }\n",
       "\n",
       "    .dataframe tbody tr th {\n",
       "        vertical-align: top;\n",
       "    }\n",
       "\n",
       "    .dataframe thead th {\n",
       "        text-align: right;\n",
       "    }\n",
       "</style>\n",
       "<table border=\"1\" class=\"dataframe\">\n",
       "  <thead>\n",
       "    <tr style=\"text-align: right;\">\n",
       "      <th></th>\n",
       "      <th>profit</th>\n",
       "    </tr>\n",
       "    <tr>\n",
       "      <th>subject</th>\n",
       "      <th></th>\n",
       "    </tr>\n",
       "  </thead>\n",
       "  <tbody>\n",
       "    <tr>\n",
       "      <th>Web Development</th>\n",
       "      <td>496851090</td>\n",
       "    </tr>\n",
       "    <tr>\n",
       "      <th>Business Finance</th>\n",
       "      <td>123735315</td>\n",
       "    </tr>\n",
       "    <tr>\n",
       "      <th>Graphic Design</th>\n",
       "      <td>76983170</td>\n",
       "    </tr>\n",
       "    <tr>\n",
       "      <th>Musical Instruments</th>\n",
       "      <td>38259255</td>\n",
       "    </tr>\n",
       "  </tbody>\n",
       "</table>\n",
       "</div>"
      ],
      "text/plain": [
       "                        profit\n",
       "subject                       \n",
       "Web Development      496851090\n",
       "Business Finance     123735315\n",
       "Graphic Design        76983170\n",
       "Musical Instruments   38259255"
      ]
     },
     "execution_count": 29,
     "metadata": {},
     "output_type": "execute_result"
    }
   ],
   "source": [
    "# select data from dataset\n",
    "\n",
    "df[['subject', 'profit']].groupby('subject').sum().sort_values(by= 'profit', ascending= False)"
   ]
  },
  {
   "cell_type": "code",
   "execution_count": 30,
   "id": "daabe6a5",
   "metadata": {
    "execution": {
     "iopub.execute_input": "2023-07-24T06:44:54.765500Z",
     "iopub.status.busy": "2023-07-24T06:44:54.765118Z",
     "iopub.status.idle": "2023-07-24T06:44:54.866011Z",
     "shell.execute_reply": "2023-07-24T06:44:54.864581Z"
    },
    "id": "3sQoq9lICF3Z",
    "outputId": "2929da31-85b5-49dd-ad52-c4027f44d164",
    "papermill": {
     "duration": 0.152012,
     "end_time": "2023-07-24T06:44:54.868804",
     "exception": false,
     "start_time": "2023-07-24T06:44:54.716792",
     "status": "completed"
    },
    "tags": []
   },
   "outputs": [
    {
     "data": {
      "text/html": [
       "<div>                            <div id=\"9df8b12b-b533-4dbe-9106-1994e582a44c\" class=\"plotly-graph-div\" style=\"height:400px; width:600px;\"></div>            <script type=\"text/javascript\">                require([\"plotly\"], function(Plotly) {                    window.PLOTLYENV=window.PLOTLYENV || {};                                    if (document.getElementById(\"9df8b12b-b533-4dbe-9106-1994e582a44c\")) {                    Plotly.newPlot(                        \"9df8b12b-b533-4dbe-9106-1994e582a44c\",                        [{\"alignmentgroup\":\"True\",\"hovertemplate\":\"color=Business Finance\\u003cbr\\u003esubject=%{x}\\u003cbr\\u003evalue=%{y}\\u003cextra\\u003e\\u003c\\u002fextra\\u003e\",\"legendgroup\":\"Business Finance\",\"marker\":{\"color\":\"#636efa\",\"pattern\":{\"shape\":\"\"}},\"name\":\"Business Finance\",\"offsetgroup\":\"Business Finance\",\"orientation\":\"v\",\"showlegend\":true,\"textposition\":\"auto\",\"x\":[\"Web Development\"],\"xaxis\":\"x\",\"y\":[496851090],\"yaxis\":\"y\",\"type\":\"bar\"},{\"alignmentgroup\":\"True\",\"hovertemplate\":\"color=Graphic Design\\u003cbr\\u003esubject=%{x}\\u003cbr\\u003evalue=%{y}\\u003cextra\\u003e\\u003c\\u002fextra\\u003e\",\"legendgroup\":\"Graphic Design\",\"marker\":{\"color\":\"#EF553B\",\"pattern\":{\"shape\":\"\"}},\"name\":\"Graphic Design\",\"offsetgroup\":\"Graphic Design\",\"orientation\":\"v\",\"showlegend\":true,\"textposition\":\"auto\",\"x\":[\"Business Finance\"],\"xaxis\":\"x\",\"y\":[123735315],\"yaxis\":\"y\",\"type\":\"bar\"},{\"alignmentgroup\":\"True\",\"hovertemplate\":\"color=Musical Instruments\\u003cbr\\u003esubject=%{x}\\u003cbr\\u003evalue=%{y}\\u003cextra\\u003e\\u003c\\u002fextra\\u003e\",\"legendgroup\":\"Musical Instruments\",\"marker\":{\"color\":\"#00cc96\",\"pattern\":{\"shape\":\"\"}},\"name\":\"Musical Instruments\",\"offsetgroup\":\"Musical Instruments\",\"orientation\":\"v\",\"showlegend\":true,\"textposition\":\"auto\",\"x\":[\"Graphic Design\"],\"xaxis\":\"x\",\"y\":[76983170],\"yaxis\":\"y\",\"type\":\"bar\"},{\"alignmentgroup\":\"True\",\"hovertemplate\":\"color=Web Development\\u003cbr\\u003esubject=%{x}\\u003cbr\\u003evalue=%{y}\\u003cextra\\u003e\\u003c\\u002fextra\\u003e\",\"legendgroup\":\"Web Development\",\"marker\":{\"color\":\"#ab63fa\",\"pattern\":{\"shape\":\"\"}},\"name\":\"Web Development\",\"offsetgroup\":\"Web Development\",\"orientation\":\"v\",\"showlegend\":true,\"textposition\":\"auto\",\"x\":[\"Musical Instruments\"],\"xaxis\":\"x\",\"y\":[38259255],\"yaxis\":\"y\",\"type\":\"bar\"}],                        {\"template\":{\"data\":{\"histogram2dcontour\":[{\"type\":\"histogram2dcontour\",\"colorbar\":{\"outlinewidth\":0,\"ticks\":\"\"},\"colorscale\":[[0.0,\"#0d0887\"],[0.1111111111111111,\"#46039f\"],[0.2222222222222222,\"#7201a8\"],[0.3333333333333333,\"#9c179e\"],[0.4444444444444444,\"#bd3786\"],[0.5555555555555556,\"#d8576b\"],[0.6666666666666666,\"#ed7953\"],[0.7777777777777778,\"#fb9f3a\"],[0.8888888888888888,\"#fdca26\"],[1.0,\"#f0f921\"]]}],\"choropleth\":[{\"type\":\"choropleth\",\"colorbar\":{\"outlinewidth\":0,\"ticks\":\"\"}}],\"histogram2d\":[{\"type\":\"histogram2d\",\"colorbar\":{\"outlinewidth\":0,\"ticks\":\"\"},\"colorscale\":[[0.0,\"#0d0887\"],[0.1111111111111111,\"#46039f\"],[0.2222222222222222,\"#7201a8\"],[0.3333333333333333,\"#9c179e\"],[0.4444444444444444,\"#bd3786\"],[0.5555555555555556,\"#d8576b\"],[0.6666666666666666,\"#ed7953\"],[0.7777777777777778,\"#fb9f3a\"],[0.8888888888888888,\"#fdca26\"],[1.0,\"#f0f921\"]]}],\"heatmap\":[{\"type\":\"heatmap\",\"colorbar\":{\"outlinewidth\":0,\"ticks\":\"\"},\"colorscale\":[[0.0,\"#0d0887\"],[0.1111111111111111,\"#46039f\"],[0.2222222222222222,\"#7201a8\"],[0.3333333333333333,\"#9c179e\"],[0.4444444444444444,\"#bd3786\"],[0.5555555555555556,\"#d8576b\"],[0.6666666666666666,\"#ed7953\"],[0.7777777777777778,\"#fb9f3a\"],[0.8888888888888888,\"#fdca26\"],[1.0,\"#f0f921\"]]}],\"heatmapgl\":[{\"type\":\"heatmapgl\",\"colorbar\":{\"outlinewidth\":0,\"ticks\":\"\"},\"colorscale\":[[0.0,\"#0d0887\"],[0.1111111111111111,\"#46039f\"],[0.2222222222222222,\"#7201a8\"],[0.3333333333333333,\"#9c179e\"],[0.4444444444444444,\"#bd3786\"],[0.5555555555555556,\"#d8576b\"],[0.6666666666666666,\"#ed7953\"],[0.7777777777777778,\"#fb9f3a\"],[0.8888888888888888,\"#fdca26\"],[1.0,\"#f0f921\"]]}],\"contourcarpet\":[{\"type\":\"contourcarpet\",\"colorbar\":{\"outlinewidth\":0,\"ticks\":\"\"}}],\"contour\":[{\"type\":\"contour\",\"colorbar\":{\"outlinewidth\":0,\"ticks\":\"\"},\"colorscale\":[[0.0,\"#0d0887\"],[0.1111111111111111,\"#46039f\"],[0.2222222222222222,\"#7201a8\"],[0.3333333333333333,\"#9c179e\"],[0.4444444444444444,\"#bd3786\"],[0.5555555555555556,\"#d8576b\"],[0.6666666666666666,\"#ed7953\"],[0.7777777777777778,\"#fb9f3a\"],[0.8888888888888888,\"#fdca26\"],[1.0,\"#f0f921\"]]}],\"surface\":[{\"type\":\"surface\",\"colorbar\":{\"outlinewidth\":0,\"ticks\":\"\"},\"colorscale\":[[0.0,\"#0d0887\"],[0.1111111111111111,\"#46039f\"],[0.2222222222222222,\"#7201a8\"],[0.3333333333333333,\"#9c179e\"],[0.4444444444444444,\"#bd3786\"],[0.5555555555555556,\"#d8576b\"],[0.6666666666666666,\"#ed7953\"],[0.7777777777777778,\"#fb9f3a\"],[0.8888888888888888,\"#fdca26\"],[1.0,\"#f0f921\"]]}],\"mesh3d\":[{\"type\":\"mesh3d\",\"colorbar\":{\"outlinewidth\":0,\"ticks\":\"\"}}],\"scatter\":[{\"fillpattern\":{\"fillmode\":\"overlay\",\"size\":10,\"solidity\":0.2},\"type\":\"scatter\"}],\"parcoords\":[{\"type\":\"parcoords\",\"line\":{\"colorbar\":{\"outlinewidth\":0,\"ticks\":\"\"}}}],\"scatterpolargl\":[{\"type\":\"scatterpolargl\",\"marker\":{\"colorbar\":{\"outlinewidth\":0,\"ticks\":\"\"}}}],\"bar\":[{\"error_x\":{\"color\":\"#2a3f5f\"},\"error_y\":{\"color\":\"#2a3f5f\"},\"marker\":{\"line\":{\"color\":\"#E5ECF6\",\"width\":0.5},\"pattern\":{\"fillmode\":\"overlay\",\"size\":10,\"solidity\":0.2}},\"type\":\"bar\"}],\"scattergeo\":[{\"type\":\"scattergeo\",\"marker\":{\"colorbar\":{\"outlinewidth\":0,\"ticks\":\"\"}}}],\"scatterpolar\":[{\"type\":\"scatterpolar\",\"marker\":{\"colorbar\":{\"outlinewidth\":0,\"ticks\":\"\"}}}],\"histogram\":[{\"marker\":{\"pattern\":{\"fillmode\":\"overlay\",\"size\":10,\"solidity\":0.2}},\"type\":\"histogram\"}],\"scattergl\":[{\"type\":\"scattergl\",\"marker\":{\"colorbar\":{\"outlinewidth\":0,\"ticks\":\"\"}}}],\"scatter3d\":[{\"type\":\"scatter3d\",\"line\":{\"colorbar\":{\"outlinewidth\":0,\"ticks\":\"\"}},\"marker\":{\"colorbar\":{\"outlinewidth\":0,\"ticks\":\"\"}}}],\"scattermapbox\":[{\"type\":\"scattermapbox\",\"marker\":{\"colorbar\":{\"outlinewidth\":0,\"ticks\":\"\"}}}],\"scatterternary\":[{\"type\":\"scatterternary\",\"marker\":{\"colorbar\":{\"outlinewidth\":0,\"ticks\":\"\"}}}],\"scattercarpet\":[{\"type\":\"scattercarpet\",\"marker\":{\"colorbar\":{\"outlinewidth\":0,\"ticks\":\"\"}}}],\"carpet\":[{\"aaxis\":{\"endlinecolor\":\"#2a3f5f\",\"gridcolor\":\"white\",\"linecolor\":\"white\",\"minorgridcolor\":\"white\",\"startlinecolor\":\"#2a3f5f\"},\"baxis\":{\"endlinecolor\":\"#2a3f5f\",\"gridcolor\":\"white\",\"linecolor\":\"white\",\"minorgridcolor\":\"white\",\"startlinecolor\":\"#2a3f5f\"},\"type\":\"carpet\"}],\"table\":[{\"cells\":{\"fill\":{\"color\":\"#EBF0F8\"},\"line\":{\"color\":\"white\"}},\"header\":{\"fill\":{\"color\":\"#C8D4E3\"},\"line\":{\"color\":\"white\"}},\"type\":\"table\"}],\"barpolar\":[{\"marker\":{\"line\":{\"color\":\"#E5ECF6\",\"width\":0.5},\"pattern\":{\"fillmode\":\"overlay\",\"size\":10,\"solidity\":0.2}},\"type\":\"barpolar\"}],\"pie\":[{\"automargin\":true,\"type\":\"pie\"}]},\"layout\":{\"autotypenumbers\":\"strict\",\"colorway\":[\"#636efa\",\"#EF553B\",\"#00cc96\",\"#ab63fa\",\"#FFA15A\",\"#19d3f3\",\"#FF6692\",\"#B6E880\",\"#FF97FF\",\"#FECB52\"],\"font\":{\"color\":\"#2a3f5f\"},\"hovermode\":\"closest\",\"hoverlabel\":{\"align\":\"left\"},\"paper_bgcolor\":\"white\",\"plot_bgcolor\":\"#E5ECF6\",\"polar\":{\"bgcolor\":\"#E5ECF6\",\"angularaxis\":{\"gridcolor\":\"white\",\"linecolor\":\"white\",\"ticks\":\"\"},\"radialaxis\":{\"gridcolor\":\"white\",\"linecolor\":\"white\",\"ticks\":\"\"}},\"ternary\":{\"bgcolor\":\"#E5ECF6\",\"aaxis\":{\"gridcolor\":\"white\",\"linecolor\":\"white\",\"ticks\":\"\"},\"baxis\":{\"gridcolor\":\"white\",\"linecolor\":\"white\",\"ticks\":\"\"},\"caxis\":{\"gridcolor\":\"white\",\"linecolor\":\"white\",\"ticks\":\"\"}},\"coloraxis\":{\"colorbar\":{\"outlinewidth\":0,\"ticks\":\"\"}},\"colorscale\":{\"sequential\":[[0.0,\"#0d0887\"],[0.1111111111111111,\"#46039f\"],[0.2222222222222222,\"#7201a8\"],[0.3333333333333333,\"#9c179e\"],[0.4444444444444444,\"#bd3786\"],[0.5555555555555556,\"#d8576b\"],[0.6666666666666666,\"#ed7953\"],[0.7777777777777778,\"#fb9f3a\"],[0.8888888888888888,\"#fdca26\"],[1.0,\"#f0f921\"]],\"sequentialminus\":[[0.0,\"#0d0887\"],[0.1111111111111111,\"#46039f\"],[0.2222222222222222,\"#7201a8\"],[0.3333333333333333,\"#9c179e\"],[0.4444444444444444,\"#bd3786\"],[0.5555555555555556,\"#d8576b\"],[0.6666666666666666,\"#ed7953\"],[0.7777777777777778,\"#fb9f3a\"],[0.8888888888888888,\"#fdca26\"],[1.0,\"#f0f921\"]],\"diverging\":[[0,\"#8e0152\"],[0.1,\"#c51b7d\"],[0.2,\"#de77ae\"],[0.3,\"#f1b6da\"],[0.4,\"#fde0ef\"],[0.5,\"#f7f7f7\"],[0.6,\"#e6f5d0\"],[0.7,\"#b8e186\"],[0.8,\"#7fbc41\"],[0.9,\"#4d9221\"],[1,\"#276419\"]]},\"xaxis\":{\"gridcolor\":\"white\",\"linecolor\":\"white\",\"ticks\":\"\",\"title\":{\"standoff\":15},\"zerolinecolor\":\"white\",\"automargin\":true,\"zerolinewidth\":2},\"yaxis\":{\"gridcolor\":\"white\",\"linecolor\":\"white\",\"ticks\":\"\",\"title\":{\"standoff\":15},\"zerolinecolor\":\"white\",\"automargin\":true,\"zerolinewidth\":2},\"scene\":{\"xaxis\":{\"backgroundcolor\":\"#E5ECF6\",\"gridcolor\":\"white\",\"linecolor\":\"white\",\"showbackground\":true,\"ticks\":\"\",\"zerolinecolor\":\"white\",\"gridwidth\":2},\"yaxis\":{\"backgroundcolor\":\"#E5ECF6\",\"gridcolor\":\"white\",\"linecolor\":\"white\",\"showbackground\":true,\"ticks\":\"\",\"zerolinecolor\":\"white\",\"gridwidth\":2},\"zaxis\":{\"backgroundcolor\":\"#E5ECF6\",\"gridcolor\":\"white\",\"linecolor\":\"white\",\"showbackground\":true,\"ticks\":\"\",\"zerolinecolor\":\"white\",\"gridwidth\":2}},\"shapedefaults\":{\"line\":{\"color\":\"#2a3f5f\"}},\"annotationdefaults\":{\"arrowcolor\":\"#2a3f5f\",\"arrowhead\":0,\"arrowwidth\":1},\"geo\":{\"bgcolor\":\"white\",\"landcolor\":\"#E5ECF6\",\"subunitcolor\":\"white\",\"showland\":true,\"showlakes\":true,\"lakecolor\":\"white\"},\"title\":{\"x\":0.05},\"mapbox\":{\"style\":\"light\"}}},\"xaxis\":{\"anchor\":\"y\",\"domain\":[0.0,1.0],\"title\":{\"text\":\"subject\"}},\"yaxis\":{\"anchor\":\"x\",\"domain\":[0.0,1.0],\"title\":{\"text\":\"value\"}},\"legend\":{\"title\":{\"text\":\"color\"},\"tracegroupgap\":0},\"margin\":{\"t\":60},\"barmode\":\"relative\",\"height\":400,\"width\":600},                        {\"responsive\": true}                    ).then(function(){\n",
       "                            \n",
       "var gd = document.getElementById('9df8b12b-b533-4dbe-9106-1994e582a44c');\n",
       "var x = new MutationObserver(function (mutations, observer) {{\n",
       "        var display = window.getComputedStyle(gd).display;\n",
       "        if (!display || display === 'none') {{\n",
       "            console.log([gd, 'removed!']);\n",
       "            Plotly.purge(gd);\n",
       "            observer.disconnect();\n",
       "        }}\n",
       "}});\n",
       "\n",
       "// Listen for the removal of the full notebook cells\n",
       "var notebookContainer = gd.closest('#notebook-container');\n",
       "if (notebookContainer) {{\n",
       "    x.observe(notebookContainer, {childList: true});\n",
       "}}\n",
       "\n",
       "// Listen for the clearing of the current output cell\n",
       "var outputEl = gd.closest('.output');\n",
       "if (outputEl) {{\n",
       "    x.observe(outputEl, {childList: true});\n",
       "}}\n",
       "\n",
       "                        })                };                });            </script>        </div>"
      ]
     },
     "metadata": {},
     "output_type": "display_data"
    }
   ],
   "source": [
    "# visualizing data result\n",
    "\n",
    "px.bar(df[['subject', 'profit']].groupby('subject').sum().sort_values(by= 'profit', ascending= False), color= df['subject'].unique(), height= 400, width= 600)"
   ]
  },
  {
   "cell_type": "markdown",
   "id": "2516da8d",
   "metadata": {
    "id": "mIjFXtImAHnl",
    "papermill": {
     "duration": 0.046133,
     "end_time": "2023-07-24T06:44:54.959894",
     "exception": false,
     "start_time": "2023-07-24T06:44:54.913761",
     "status": "completed"
    },
    "tags": []
   },
   "source": [
    "- Web Development has more profit than busniess finance even it has less num of courses (small defference of num of courses)"
   ]
  },
  {
   "cell_type": "markdown",
   "id": "35aa93cf",
   "metadata": {
    "id": "GRVpdG2JNHMT",
    "papermill": {
     "duration": 0.044823,
     "end_time": "2023-07-24T06:44:55.050032",
     "exception": false,
     "start_time": "2023-07-24T06:44:55.005209",
     "status": "completed"
    },
    "tags": []
   },
   "source": [
    "# ***Q: How much profit for each subject regarding to level ?***"
   ]
  },
  {
   "cell_type": "code",
   "execution_count": 31,
   "id": "7090bbab",
   "metadata": {
    "execution": {
     "iopub.execute_input": "2023-07-24T06:44:55.144269Z",
     "iopub.status.busy": "2023-07-24T06:44:55.143839Z",
     "iopub.status.idle": "2023-07-24T06:44:55.159653Z",
     "shell.execute_reply": "2023-07-24T06:44:55.158851Z"
    },
    "id": "Osdnb4HrrDk0",
    "outputId": "393c04dc-09b3-4a9e-b84a-2701f96a02cc",
    "papermill": {
     "duration": 0.066938,
     "end_time": "2023-07-24T06:44:55.161776",
     "exception": false,
     "start_time": "2023-07-24T06:44:55.094838",
     "status": "completed"
    },
    "tags": []
   },
   "outputs": [
    {
     "data": {
      "text/html": [
       "<div>\n",
       "<style scoped>\n",
       "    .dataframe tbody tr th:only-of-type {\n",
       "        vertical-align: middle;\n",
       "    }\n",
       "\n",
       "    .dataframe tbody tr th {\n",
       "        vertical-align: top;\n",
       "    }\n",
       "\n",
       "    .dataframe thead th {\n",
       "        text-align: right;\n",
       "    }\n",
       "</style>\n",
       "<table border=\"1\" class=\"dataframe\">\n",
       "  <thead>\n",
       "    <tr style=\"text-align: right;\">\n",
       "      <th></th>\n",
       "      <th></th>\n",
       "      <th>profit</th>\n",
       "    </tr>\n",
       "    <tr>\n",
       "      <th>subject</th>\n",
       "      <th>level</th>\n",
       "      <th></th>\n",
       "    </tr>\n",
       "  </thead>\n",
       "  <tbody>\n",
       "    <tr>\n",
       "      <th rowspan=\"4\" valign=\"top\">Business Finance</th>\n",
       "      <th>All Levels</th>\n",
       "      <td>84084765</td>\n",
       "    </tr>\n",
       "    <tr>\n",
       "      <th>Beginner Level</th>\n",
       "      <td>27250145</td>\n",
       "    </tr>\n",
       "    <tr>\n",
       "      <th>Expert Level</th>\n",
       "      <td>4029835</td>\n",
       "    </tr>\n",
       "    <tr>\n",
       "      <th>Intermediate Level</th>\n",
       "      <td>8370570</td>\n",
       "    </tr>\n",
       "    <tr>\n",
       "      <th rowspan=\"4\" valign=\"top\">Graphic Design</th>\n",
       "      <th>All Levels</th>\n",
       "      <td>47437070</td>\n",
       "    </tr>\n",
       "    <tr>\n",
       "      <th>Beginner Level</th>\n",
       "      <td>26554730</td>\n",
       "    </tr>\n",
       "    <tr>\n",
       "      <th>Expert Level</th>\n",
       "      <td>25335</td>\n",
       "    </tr>\n",
       "    <tr>\n",
       "      <th>Intermediate Level</th>\n",
       "      <td>2966035</td>\n",
       "    </tr>\n",
       "    <tr>\n",
       "      <th rowspan=\"4\" valign=\"top\">Musical Instruments</th>\n",
       "      <th>All Levels</th>\n",
       "      <td>23447390</td>\n",
       "    </tr>\n",
       "    <tr>\n",
       "      <th>Beginner Level</th>\n",
       "      <td>10427590</td>\n",
       "    </tr>\n",
       "    <tr>\n",
       "      <th>Expert Level</th>\n",
       "      <td>264175</td>\n",
       "    </tr>\n",
       "    <tr>\n",
       "      <th>Intermediate Level</th>\n",
       "      <td>4120100</td>\n",
       "    </tr>\n",
       "    <tr>\n",
       "      <th rowspan=\"4\" valign=\"top\">Web Development</th>\n",
       "      <th>All Levels</th>\n",
       "      <td>309612060</td>\n",
       "    </tr>\n",
       "    <tr>\n",
       "      <th>Beginner Level</th>\n",
       "      <td>151811875</td>\n",
       "    </tr>\n",
       "    <tr>\n",
       "      <th>Expert Level</th>\n",
       "      <td>1149725</td>\n",
       "    </tr>\n",
       "    <tr>\n",
       "      <th>Intermediate Level</th>\n",
       "      <td>34277430</td>\n",
       "    </tr>\n",
       "  </tbody>\n",
       "</table>\n",
       "</div>"
      ],
      "text/plain": [
       "                                           profit\n",
       "subject             level                        \n",
       "Business Finance    All Levels           84084765\n",
       "                    Beginner Level       27250145\n",
       "                    Expert Level          4029835\n",
       "                    Intermediate Level    8370570\n",
       "Graphic Design      All Levels           47437070\n",
       "                    Beginner Level       26554730\n",
       "                    Expert Level            25335\n",
       "                    Intermediate Level    2966035\n",
       "Musical Instruments All Levels           23447390\n",
       "                    Beginner Level       10427590\n",
       "                    Expert Level           264175\n",
       "                    Intermediate Level    4120100\n",
       "Web Development     All Levels          309612060\n",
       "                    Beginner Level      151811875\n",
       "                    Expert Level          1149725\n",
       "                    Intermediate Level   34277430"
      ]
     },
     "execution_count": 31,
     "metadata": {},
     "output_type": "execute_result"
    }
   ],
   "source": [
    "# select data from dataset\n",
    "\n",
    "df[['subject', 'level', 'profit']].groupby(['subject', 'level']).sum()"
   ]
  },
  {
   "cell_type": "code",
   "execution_count": 32,
   "id": "241009b3",
   "metadata": {
    "execution": {
     "iopub.execute_input": "2023-07-24T06:44:55.256786Z",
     "iopub.status.busy": "2023-07-24T06:44:55.255864Z",
     "iopub.status.idle": "2023-07-24T06:44:55.277825Z",
     "shell.execute_reply": "2023-07-24T06:44:55.276630Z"
    },
    "id": "8xjiJ22vi9OC",
    "outputId": "3f5fac83-0909-4d7a-cdb1-f4642f78687f",
    "papermill": {
     "duration": 0.072304,
     "end_time": "2023-07-24T06:44:55.280247",
     "exception": false,
     "start_time": "2023-07-24T06:44:55.207943",
     "status": "completed"
    },
    "tags": []
   },
   "outputs": [
    {
     "data": {
      "text/html": [
       "<div>\n",
       "<style scoped>\n",
       "    .dataframe tbody tr th:only-of-type {\n",
       "        vertical-align: middle;\n",
       "    }\n",
       "\n",
       "    .dataframe tbody tr th {\n",
       "        vertical-align: top;\n",
       "    }\n",
       "\n",
       "    .dataframe thead th {\n",
       "        text-align: right;\n",
       "    }\n",
       "</style>\n",
       "<table border=\"1\" class=\"dataframe\">\n",
       "  <thead>\n",
       "    <tr style=\"text-align: right;\">\n",
       "      <th>level</th>\n",
       "      <th>All Levels</th>\n",
       "      <th>Beginner Level</th>\n",
       "      <th>Expert Level</th>\n",
       "      <th>Intermediate Level</th>\n",
       "    </tr>\n",
       "    <tr>\n",
       "      <th>subject</th>\n",
       "      <th></th>\n",
       "      <th></th>\n",
       "      <th></th>\n",
       "      <th></th>\n",
       "    </tr>\n",
       "  </thead>\n",
       "  <tbody>\n",
       "    <tr>\n",
       "      <th>Business Finance</th>\n",
       "      <td>84084765</td>\n",
       "      <td>27250145</td>\n",
       "      <td>4029835</td>\n",
       "      <td>8370570</td>\n",
       "    </tr>\n",
       "    <tr>\n",
       "      <th>Graphic Design</th>\n",
       "      <td>47437070</td>\n",
       "      <td>26554730</td>\n",
       "      <td>25335</td>\n",
       "      <td>2966035</td>\n",
       "    </tr>\n",
       "    <tr>\n",
       "      <th>Musical Instruments</th>\n",
       "      <td>23447390</td>\n",
       "      <td>10427590</td>\n",
       "      <td>264175</td>\n",
       "      <td>4120100</td>\n",
       "    </tr>\n",
       "    <tr>\n",
       "      <th>Web Development</th>\n",
       "      <td>309612060</td>\n",
       "      <td>151811875</td>\n",
       "      <td>1149725</td>\n",
       "      <td>34277430</td>\n",
       "    </tr>\n",
       "  </tbody>\n",
       "</table>\n",
       "</div>"
      ],
      "text/plain": [
       "level                All Levels  Beginner Level  Expert Level  \\\n",
       "subject                                                         \n",
       "Business Finance       84084765        27250145       4029835   \n",
       "Graphic Design         47437070        26554730         25335   \n",
       "Musical Instruments    23447390        10427590        264175   \n",
       "Web Development       309612060       151811875       1149725   \n",
       "\n",
       "level                Intermediate Level  \n",
       "subject                                  \n",
       "Business Finance                8370570  \n",
       "Graphic Design                  2966035  \n",
       "Musical Instruments             4120100  \n",
       "Web Development                34277430  "
      ]
     },
     "execution_count": 32,
     "metadata": {},
     "output_type": "execute_result"
    }
   ],
   "source": [
    "# pivot table for last result\n",
    "\n",
    "df.pivot_table(index= 'subject', columns= 'level', values= 'profit', aggfunc= 'sum')"
   ]
  },
  {
   "cell_type": "code",
   "execution_count": 33,
   "id": "9bd71b03",
   "metadata": {
    "execution": {
     "iopub.execute_input": "2023-07-24T06:44:55.375741Z",
     "iopub.status.busy": "2023-07-24T06:44:55.374477Z",
     "iopub.status.idle": "2023-07-24T06:44:55.574027Z",
     "shell.execute_reply": "2023-07-24T06:44:55.572979Z"
    },
    "id": "K0nXYvPBNPl3",
    "outputId": "6dd5e28d-5c48-4d7f-ef9e-e4b5598a2030",
    "papermill": {
     "duration": 0.249679,
     "end_time": "2023-07-24T06:44:55.576753",
     "exception": false,
     "start_time": "2023-07-24T06:44:55.327074",
     "status": "completed"
    },
    "tags": []
   },
   "outputs": [
    {
     "data": {
      "text/html": [
       "<div>                            <div id=\"0ce6ab43-6719-41f6-89ff-4583121b79c7\" class=\"plotly-graph-div\" style=\"height:400px; width:100%;\"></div>            <script type=\"text/javascript\">                require([\"plotly\"], function(Plotly) {                    window.PLOTLYENV=window.PLOTLYENV || {};                                    if (document.getElementById(\"0ce6ab43-6719-41f6-89ff-4583121b79c7\")) {                    Plotly.newPlot(                        \"0ce6ab43-6719-41f6-89ff-4583121b79c7\",                        [{\"alignmentgroup\":\"True\",\"hovertemplate\":\"color=Business Finance\\u003cbr\\u003elevel=All Levels\\u003cbr\\u003esubject=%{x}\\u003cbr\\u003evalue=%{y}\\u003cextra\\u003e\\u003c\\u002fextra\\u003e\",\"legendgroup\":\"Business Finance\",\"marker\":{\"color\":\"#636efa\",\"pattern\":{\"shape\":\"\"}},\"name\":\"Business Finance\",\"offsetgroup\":\"Business Finance\",\"orientation\":\"v\",\"showlegend\":true,\"textposition\":\"auto\",\"x\":[\"Business Finance\"],\"xaxis\":\"x\",\"y\":[84084765],\"yaxis\":\"y\",\"type\":\"bar\"},{\"alignmentgroup\":\"True\",\"hovertemplate\":\"color=Business Finance\\u003cbr\\u003elevel=Beginner Level\\u003cbr\\u003esubject=%{x}\\u003cbr\\u003evalue=%{y}\\u003cextra\\u003e\\u003c\\u002fextra\\u003e\",\"legendgroup\":\"Business Finance\",\"marker\":{\"color\":\"#636efa\",\"pattern\":{\"shape\":\"\"}},\"name\":\"Business Finance\",\"offsetgroup\":\"Business Finance\",\"orientation\":\"v\",\"showlegend\":false,\"textposition\":\"auto\",\"x\":[\"Business Finance\"],\"xaxis\":\"x2\",\"y\":[27250145],\"yaxis\":\"y2\",\"type\":\"bar\"},{\"alignmentgroup\":\"True\",\"hovertemplate\":\"color=Business Finance\\u003cbr\\u003elevel=Expert Level\\u003cbr\\u003esubject=%{x}\\u003cbr\\u003evalue=%{y}\\u003cextra\\u003e\\u003c\\u002fextra\\u003e\",\"legendgroup\":\"Business Finance\",\"marker\":{\"color\":\"#636efa\",\"pattern\":{\"shape\":\"\"}},\"name\":\"Business Finance\",\"offsetgroup\":\"Business Finance\",\"orientation\":\"v\",\"showlegend\":false,\"textposition\":\"auto\",\"x\":[\"Business Finance\"],\"xaxis\":\"x3\",\"y\":[4029835],\"yaxis\":\"y3\",\"type\":\"bar\"},{\"alignmentgroup\":\"True\",\"hovertemplate\":\"color=Business Finance\\u003cbr\\u003elevel=Intermediate Level\\u003cbr\\u003esubject=%{x}\\u003cbr\\u003evalue=%{y}\\u003cextra\\u003e\\u003c\\u002fextra\\u003e\",\"legendgroup\":\"Business Finance\",\"marker\":{\"color\":\"#636efa\",\"pattern\":{\"shape\":\"\"}},\"name\":\"Business Finance\",\"offsetgroup\":\"Business Finance\",\"orientation\":\"v\",\"showlegend\":false,\"textposition\":\"auto\",\"x\":[\"Business Finance\"],\"xaxis\":\"x4\",\"y\":[8370570],\"yaxis\":\"y4\",\"type\":\"bar\"},{\"alignmentgroup\":\"True\",\"hovertemplate\":\"color=Graphic Design\\u003cbr\\u003elevel=All Levels\\u003cbr\\u003esubject=%{x}\\u003cbr\\u003evalue=%{y}\\u003cextra\\u003e\\u003c\\u002fextra\\u003e\",\"legendgroup\":\"Graphic Design\",\"marker\":{\"color\":\"#EF553B\",\"pattern\":{\"shape\":\"\"}},\"name\":\"Graphic Design\",\"offsetgroup\":\"Graphic Design\",\"orientation\":\"v\",\"showlegend\":true,\"textposition\":\"auto\",\"x\":[\"Graphic Design\"],\"xaxis\":\"x\",\"y\":[47437070],\"yaxis\":\"y\",\"type\":\"bar\"},{\"alignmentgroup\":\"True\",\"hovertemplate\":\"color=Graphic Design\\u003cbr\\u003elevel=Beginner Level\\u003cbr\\u003esubject=%{x}\\u003cbr\\u003evalue=%{y}\\u003cextra\\u003e\\u003c\\u002fextra\\u003e\",\"legendgroup\":\"Graphic Design\",\"marker\":{\"color\":\"#EF553B\",\"pattern\":{\"shape\":\"\"}},\"name\":\"Graphic Design\",\"offsetgroup\":\"Graphic Design\",\"orientation\":\"v\",\"showlegend\":false,\"textposition\":\"auto\",\"x\":[\"Graphic Design\"],\"xaxis\":\"x2\",\"y\":[26554730],\"yaxis\":\"y2\",\"type\":\"bar\"},{\"alignmentgroup\":\"True\",\"hovertemplate\":\"color=Graphic Design\\u003cbr\\u003elevel=Expert Level\\u003cbr\\u003esubject=%{x}\\u003cbr\\u003evalue=%{y}\\u003cextra\\u003e\\u003c\\u002fextra\\u003e\",\"legendgroup\":\"Graphic Design\",\"marker\":{\"color\":\"#EF553B\",\"pattern\":{\"shape\":\"\"}},\"name\":\"Graphic Design\",\"offsetgroup\":\"Graphic Design\",\"orientation\":\"v\",\"showlegend\":false,\"textposition\":\"auto\",\"x\":[\"Graphic Design\"],\"xaxis\":\"x3\",\"y\":[25335],\"yaxis\":\"y3\",\"type\":\"bar\"},{\"alignmentgroup\":\"True\",\"hovertemplate\":\"color=Graphic Design\\u003cbr\\u003elevel=Intermediate Level\\u003cbr\\u003esubject=%{x}\\u003cbr\\u003evalue=%{y}\\u003cextra\\u003e\\u003c\\u002fextra\\u003e\",\"legendgroup\":\"Graphic Design\",\"marker\":{\"color\":\"#EF553B\",\"pattern\":{\"shape\":\"\"}},\"name\":\"Graphic Design\",\"offsetgroup\":\"Graphic Design\",\"orientation\":\"v\",\"showlegend\":false,\"textposition\":\"auto\",\"x\":[\"Graphic Design\"],\"xaxis\":\"x4\",\"y\":[2966035],\"yaxis\":\"y4\",\"type\":\"bar\"},{\"alignmentgroup\":\"True\",\"hovertemplate\":\"color=Musical Instruments\\u003cbr\\u003elevel=All Levels\\u003cbr\\u003esubject=%{x}\\u003cbr\\u003evalue=%{y}\\u003cextra\\u003e\\u003c\\u002fextra\\u003e\",\"legendgroup\":\"Musical Instruments\",\"marker\":{\"color\":\"#00cc96\",\"pattern\":{\"shape\":\"\"}},\"name\":\"Musical Instruments\",\"offsetgroup\":\"Musical Instruments\",\"orientation\":\"v\",\"showlegend\":true,\"textposition\":\"auto\",\"x\":[\"Musical Instruments\"],\"xaxis\":\"x\",\"y\":[23447390],\"yaxis\":\"y\",\"type\":\"bar\"},{\"alignmentgroup\":\"True\",\"hovertemplate\":\"color=Musical Instruments\\u003cbr\\u003elevel=Beginner Level\\u003cbr\\u003esubject=%{x}\\u003cbr\\u003evalue=%{y}\\u003cextra\\u003e\\u003c\\u002fextra\\u003e\",\"legendgroup\":\"Musical Instruments\",\"marker\":{\"color\":\"#00cc96\",\"pattern\":{\"shape\":\"\"}},\"name\":\"Musical Instruments\",\"offsetgroup\":\"Musical Instruments\",\"orientation\":\"v\",\"showlegend\":false,\"textposition\":\"auto\",\"x\":[\"Musical Instruments\"],\"xaxis\":\"x2\",\"y\":[10427590],\"yaxis\":\"y2\",\"type\":\"bar\"},{\"alignmentgroup\":\"True\",\"hovertemplate\":\"color=Musical Instruments\\u003cbr\\u003elevel=Expert Level\\u003cbr\\u003esubject=%{x}\\u003cbr\\u003evalue=%{y}\\u003cextra\\u003e\\u003c\\u002fextra\\u003e\",\"legendgroup\":\"Musical Instruments\",\"marker\":{\"color\":\"#00cc96\",\"pattern\":{\"shape\":\"\"}},\"name\":\"Musical Instruments\",\"offsetgroup\":\"Musical Instruments\",\"orientation\":\"v\",\"showlegend\":false,\"textposition\":\"auto\",\"x\":[\"Musical Instruments\"],\"xaxis\":\"x3\",\"y\":[264175],\"yaxis\":\"y3\",\"type\":\"bar\"},{\"alignmentgroup\":\"True\",\"hovertemplate\":\"color=Musical Instruments\\u003cbr\\u003elevel=Intermediate Level\\u003cbr\\u003esubject=%{x}\\u003cbr\\u003evalue=%{y}\\u003cextra\\u003e\\u003c\\u002fextra\\u003e\",\"legendgroup\":\"Musical Instruments\",\"marker\":{\"color\":\"#00cc96\",\"pattern\":{\"shape\":\"\"}},\"name\":\"Musical Instruments\",\"offsetgroup\":\"Musical Instruments\",\"orientation\":\"v\",\"showlegend\":false,\"textposition\":\"auto\",\"x\":[\"Musical Instruments\"],\"xaxis\":\"x4\",\"y\":[4120100],\"yaxis\":\"y4\",\"type\":\"bar\"},{\"alignmentgroup\":\"True\",\"hovertemplate\":\"color=Web Development\\u003cbr\\u003elevel=All Levels\\u003cbr\\u003esubject=%{x}\\u003cbr\\u003evalue=%{y}\\u003cextra\\u003e\\u003c\\u002fextra\\u003e\",\"legendgroup\":\"Web Development\",\"marker\":{\"color\":\"#ab63fa\",\"pattern\":{\"shape\":\"\"}},\"name\":\"Web Development\",\"offsetgroup\":\"Web Development\",\"orientation\":\"v\",\"showlegend\":true,\"textposition\":\"auto\",\"x\":[\"Web Development\"],\"xaxis\":\"x\",\"y\":[309612060],\"yaxis\":\"y\",\"type\":\"bar\"},{\"alignmentgroup\":\"True\",\"hovertemplate\":\"color=Web Development\\u003cbr\\u003elevel=Beginner Level\\u003cbr\\u003esubject=%{x}\\u003cbr\\u003evalue=%{y}\\u003cextra\\u003e\\u003c\\u002fextra\\u003e\",\"legendgroup\":\"Web Development\",\"marker\":{\"color\":\"#ab63fa\",\"pattern\":{\"shape\":\"\"}},\"name\":\"Web Development\",\"offsetgroup\":\"Web Development\",\"orientation\":\"v\",\"showlegend\":false,\"textposition\":\"auto\",\"x\":[\"Web Development\"],\"xaxis\":\"x2\",\"y\":[151811875],\"yaxis\":\"y2\",\"type\":\"bar\"},{\"alignmentgroup\":\"True\",\"hovertemplate\":\"color=Web Development\\u003cbr\\u003elevel=Expert Level\\u003cbr\\u003esubject=%{x}\\u003cbr\\u003evalue=%{y}\\u003cextra\\u003e\\u003c\\u002fextra\\u003e\",\"legendgroup\":\"Web Development\",\"marker\":{\"color\":\"#ab63fa\",\"pattern\":{\"shape\":\"\"}},\"name\":\"Web Development\",\"offsetgroup\":\"Web Development\",\"orientation\":\"v\",\"showlegend\":false,\"textposition\":\"auto\",\"x\":[\"Web Development\"],\"xaxis\":\"x3\",\"y\":[1149725],\"yaxis\":\"y3\",\"type\":\"bar\"},{\"alignmentgroup\":\"True\",\"hovertemplate\":\"color=Web Development\\u003cbr\\u003elevel=Intermediate Level\\u003cbr\\u003esubject=%{x}\\u003cbr\\u003evalue=%{y}\\u003cextra\\u003e\\u003c\\u002fextra\\u003e\",\"legendgroup\":\"Web Development\",\"marker\":{\"color\":\"#ab63fa\",\"pattern\":{\"shape\":\"\"}},\"name\":\"Web Development\",\"offsetgroup\":\"Web Development\",\"orientation\":\"v\",\"showlegend\":false,\"textposition\":\"auto\",\"x\":[\"Web Development\"],\"xaxis\":\"x4\",\"y\":[34277430],\"yaxis\":\"y4\",\"type\":\"bar\"}],                        {\"template\":{\"data\":{\"histogram2dcontour\":[{\"type\":\"histogram2dcontour\",\"colorbar\":{\"outlinewidth\":0,\"ticks\":\"\"},\"colorscale\":[[0.0,\"#0d0887\"],[0.1111111111111111,\"#46039f\"],[0.2222222222222222,\"#7201a8\"],[0.3333333333333333,\"#9c179e\"],[0.4444444444444444,\"#bd3786\"],[0.5555555555555556,\"#d8576b\"],[0.6666666666666666,\"#ed7953\"],[0.7777777777777778,\"#fb9f3a\"],[0.8888888888888888,\"#fdca26\"],[1.0,\"#f0f921\"]]}],\"choropleth\":[{\"type\":\"choropleth\",\"colorbar\":{\"outlinewidth\":0,\"ticks\":\"\"}}],\"histogram2d\":[{\"type\":\"histogram2d\",\"colorbar\":{\"outlinewidth\":0,\"ticks\":\"\"},\"colorscale\":[[0.0,\"#0d0887\"],[0.1111111111111111,\"#46039f\"],[0.2222222222222222,\"#7201a8\"],[0.3333333333333333,\"#9c179e\"],[0.4444444444444444,\"#bd3786\"],[0.5555555555555556,\"#d8576b\"],[0.6666666666666666,\"#ed7953\"],[0.7777777777777778,\"#fb9f3a\"],[0.8888888888888888,\"#fdca26\"],[1.0,\"#f0f921\"]]}],\"heatmap\":[{\"type\":\"heatmap\",\"colorbar\":{\"outlinewidth\":0,\"ticks\":\"\"},\"colorscale\":[[0.0,\"#0d0887\"],[0.1111111111111111,\"#46039f\"],[0.2222222222222222,\"#7201a8\"],[0.3333333333333333,\"#9c179e\"],[0.4444444444444444,\"#bd3786\"],[0.5555555555555556,\"#d8576b\"],[0.6666666666666666,\"#ed7953\"],[0.7777777777777778,\"#fb9f3a\"],[0.8888888888888888,\"#fdca26\"],[1.0,\"#f0f921\"]]}],\"heatmapgl\":[{\"type\":\"heatmapgl\",\"colorbar\":{\"outlinewidth\":0,\"ticks\":\"\"},\"colorscale\":[[0.0,\"#0d0887\"],[0.1111111111111111,\"#46039f\"],[0.2222222222222222,\"#7201a8\"],[0.3333333333333333,\"#9c179e\"],[0.4444444444444444,\"#bd3786\"],[0.5555555555555556,\"#d8576b\"],[0.6666666666666666,\"#ed7953\"],[0.7777777777777778,\"#fb9f3a\"],[0.8888888888888888,\"#fdca26\"],[1.0,\"#f0f921\"]]}],\"contourcarpet\":[{\"type\":\"contourcarpet\",\"colorbar\":{\"outlinewidth\":0,\"ticks\":\"\"}}],\"contour\":[{\"type\":\"contour\",\"colorbar\":{\"outlinewidth\":0,\"ticks\":\"\"},\"colorscale\":[[0.0,\"#0d0887\"],[0.1111111111111111,\"#46039f\"],[0.2222222222222222,\"#7201a8\"],[0.3333333333333333,\"#9c179e\"],[0.4444444444444444,\"#bd3786\"],[0.5555555555555556,\"#d8576b\"],[0.6666666666666666,\"#ed7953\"],[0.7777777777777778,\"#fb9f3a\"],[0.8888888888888888,\"#fdca26\"],[1.0,\"#f0f921\"]]}],\"surface\":[{\"type\":\"surface\",\"colorbar\":{\"outlinewidth\":0,\"ticks\":\"\"},\"colorscale\":[[0.0,\"#0d0887\"],[0.1111111111111111,\"#46039f\"],[0.2222222222222222,\"#7201a8\"],[0.3333333333333333,\"#9c179e\"],[0.4444444444444444,\"#bd3786\"],[0.5555555555555556,\"#d8576b\"],[0.6666666666666666,\"#ed7953\"],[0.7777777777777778,\"#fb9f3a\"],[0.8888888888888888,\"#fdca26\"],[1.0,\"#f0f921\"]]}],\"mesh3d\":[{\"type\":\"mesh3d\",\"colorbar\":{\"outlinewidth\":0,\"ticks\":\"\"}}],\"scatter\":[{\"fillpattern\":{\"fillmode\":\"overlay\",\"size\":10,\"solidity\":0.2},\"type\":\"scatter\"}],\"parcoords\":[{\"type\":\"parcoords\",\"line\":{\"colorbar\":{\"outlinewidth\":0,\"ticks\":\"\"}}}],\"scatterpolargl\":[{\"type\":\"scatterpolargl\",\"marker\":{\"colorbar\":{\"outlinewidth\":0,\"ticks\":\"\"}}}],\"bar\":[{\"error_x\":{\"color\":\"#2a3f5f\"},\"error_y\":{\"color\":\"#2a3f5f\"},\"marker\":{\"line\":{\"color\":\"#E5ECF6\",\"width\":0.5},\"pattern\":{\"fillmode\":\"overlay\",\"size\":10,\"solidity\":0.2}},\"type\":\"bar\"}],\"scattergeo\":[{\"type\":\"scattergeo\",\"marker\":{\"colorbar\":{\"outlinewidth\":0,\"ticks\":\"\"}}}],\"scatterpolar\":[{\"type\":\"scatterpolar\",\"marker\":{\"colorbar\":{\"outlinewidth\":0,\"ticks\":\"\"}}}],\"histogram\":[{\"marker\":{\"pattern\":{\"fillmode\":\"overlay\",\"size\":10,\"solidity\":0.2}},\"type\":\"histogram\"}],\"scattergl\":[{\"type\":\"scattergl\",\"marker\":{\"colorbar\":{\"outlinewidth\":0,\"ticks\":\"\"}}}],\"scatter3d\":[{\"type\":\"scatter3d\",\"line\":{\"colorbar\":{\"outlinewidth\":0,\"ticks\":\"\"}},\"marker\":{\"colorbar\":{\"outlinewidth\":0,\"ticks\":\"\"}}}],\"scattermapbox\":[{\"type\":\"scattermapbox\",\"marker\":{\"colorbar\":{\"outlinewidth\":0,\"ticks\":\"\"}}}],\"scatterternary\":[{\"type\":\"scatterternary\",\"marker\":{\"colorbar\":{\"outlinewidth\":0,\"ticks\":\"\"}}}],\"scattercarpet\":[{\"type\":\"scattercarpet\",\"marker\":{\"colorbar\":{\"outlinewidth\":0,\"ticks\":\"\"}}}],\"carpet\":[{\"aaxis\":{\"endlinecolor\":\"#2a3f5f\",\"gridcolor\":\"white\",\"linecolor\":\"white\",\"minorgridcolor\":\"white\",\"startlinecolor\":\"#2a3f5f\"},\"baxis\":{\"endlinecolor\":\"#2a3f5f\",\"gridcolor\":\"white\",\"linecolor\":\"white\",\"minorgridcolor\":\"white\",\"startlinecolor\":\"#2a3f5f\"},\"type\":\"carpet\"}],\"table\":[{\"cells\":{\"fill\":{\"color\":\"#EBF0F8\"},\"line\":{\"color\":\"white\"}},\"header\":{\"fill\":{\"color\":\"#C8D4E3\"},\"line\":{\"color\":\"white\"}},\"type\":\"table\"}],\"barpolar\":[{\"marker\":{\"line\":{\"color\":\"#E5ECF6\",\"width\":0.5},\"pattern\":{\"fillmode\":\"overlay\",\"size\":10,\"solidity\":0.2}},\"type\":\"barpolar\"}],\"pie\":[{\"automargin\":true,\"type\":\"pie\"}]},\"layout\":{\"autotypenumbers\":\"strict\",\"colorway\":[\"#636efa\",\"#EF553B\",\"#00cc96\",\"#ab63fa\",\"#FFA15A\",\"#19d3f3\",\"#FF6692\",\"#B6E880\",\"#FF97FF\",\"#FECB52\"],\"font\":{\"color\":\"#2a3f5f\"},\"hovermode\":\"closest\",\"hoverlabel\":{\"align\":\"left\"},\"paper_bgcolor\":\"white\",\"plot_bgcolor\":\"#E5ECF6\",\"polar\":{\"bgcolor\":\"#E5ECF6\",\"angularaxis\":{\"gridcolor\":\"white\",\"linecolor\":\"white\",\"ticks\":\"\"},\"radialaxis\":{\"gridcolor\":\"white\",\"linecolor\":\"white\",\"ticks\":\"\"}},\"ternary\":{\"bgcolor\":\"#E5ECF6\",\"aaxis\":{\"gridcolor\":\"white\",\"linecolor\":\"white\",\"ticks\":\"\"},\"baxis\":{\"gridcolor\":\"white\",\"linecolor\":\"white\",\"ticks\":\"\"},\"caxis\":{\"gridcolor\":\"white\",\"linecolor\":\"white\",\"ticks\":\"\"}},\"coloraxis\":{\"colorbar\":{\"outlinewidth\":0,\"ticks\":\"\"}},\"colorscale\":{\"sequential\":[[0.0,\"#0d0887\"],[0.1111111111111111,\"#46039f\"],[0.2222222222222222,\"#7201a8\"],[0.3333333333333333,\"#9c179e\"],[0.4444444444444444,\"#bd3786\"],[0.5555555555555556,\"#d8576b\"],[0.6666666666666666,\"#ed7953\"],[0.7777777777777778,\"#fb9f3a\"],[0.8888888888888888,\"#fdca26\"],[1.0,\"#f0f921\"]],\"sequentialminus\":[[0.0,\"#0d0887\"],[0.1111111111111111,\"#46039f\"],[0.2222222222222222,\"#7201a8\"],[0.3333333333333333,\"#9c179e\"],[0.4444444444444444,\"#bd3786\"],[0.5555555555555556,\"#d8576b\"],[0.6666666666666666,\"#ed7953\"],[0.7777777777777778,\"#fb9f3a\"],[0.8888888888888888,\"#fdca26\"],[1.0,\"#f0f921\"]],\"diverging\":[[0,\"#8e0152\"],[0.1,\"#c51b7d\"],[0.2,\"#de77ae\"],[0.3,\"#f1b6da\"],[0.4,\"#fde0ef\"],[0.5,\"#f7f7f7\"],[0.6,\"#e6f5d0\"],[0.7,\"#b8e186\"],[0.8,\"#7fbc41\"],[0.9,\"#4d9221\"],[1,\"#276419\"]]},\"xaxis\":{\"gridcolor\":\"white\",\"linecolor\":\"white\",\"ticks\":\"\",\"title\":{\"standoff\":15},\"zerolinecolor\":\"white\",\"automargin\":true,\"zerolinewidth\":2},\"yaxis\":{\"gridcolor\":\"white\",\"linecolor\":\"white\",\"ticks\":\"\",\"title\":{\"standoff\":15},\"zerolinecolor\":\"white\",\"automargin\":true,\"zerolinewidth\":2},\"scene\":{\"xaxis\":{\"backgroundcolor\":\"#E5ECF6\",\"gridcolor\":\"white\",\"linecolor\":\"white\",\"showbackground\":true,\"ticks\":\"\",\"zerolinecolor\":\"white\",\"gridwidth\":2},\"yaxis\":{\"backgroundcolor\":\"#E5ECF6\",\"gridcolor\":\"white\",\"linecolor\":\"white\",\"showbackground\":true,\"ticks\":\"\",\"zerolinecolor\":\"white\",\"gridwidth\":2},\"zaxis\":{\"backgroundcolor\":\"#E5ECF6\",\"gridcolor\":\"white\",\"linecolor\":\"white\",\"showbackground\":true,\"ticks\":\"\",\"zerolinecolor\":\"white\",\"gridwidth\":2}},\"shapedefaults\":{\"line\":{\"color\":\"#2a3f5f\"}},\"annotationdefaults\":{\"arrowcolor\":\"#2a3f5f\",\"arrowhead\":0,\"arrowwidth\":1},\"geo\":{\"bgcolor\":\"white\",\"landcolor\":\"#E5ECF6\",\"subunitcolor\":\"white\",\"showland\":true,\"showlakes\":true,\"lakecolor\":\"white\"},\"title\":{\"x\":0.05},\"mapbox\":{\"style\":\"light\"}}},\"xaxis\":{\"anchor\":\"y\",\"domain\":[0.0,0.235],\"title\":{\"text\":\"subject\"}},\"yaxis\":{\"anchor\":\"x\",\"domain\":[0.0,1.0],\"title\":{\"text\":\"value\"}},\"xaxis2\":{\"anchor\":\"y2\",\"domain\":[0.255,0.49],\"matches\":\"x\",\"title\":{\"text\":\"subject\"}},\"yaxis2\":{\"anchor\":\"x2\",\"domain\":[0.0,1.0],\"matches\":\"y\",\"showticklabels\":false},\"xaxis3\":{\"anchor\":\"y3\",\"domain\":[0.51,0.745],\"matches\":\"x\",\"title\":{\"text\":\"subject\"}},\"yaxis3\":{\"anchor\":\"x3\",\"domain\":[0.0,1.0],\"matches\":\"y\",\"showticklabels\":false},\"xaxis4\":{\"anchor\":\"y4\",\"domain\":[0.7649999999999999,0.9999999999999999],\"matches\":\"x\",\"title\":{\"text\":\"subject\"}},\"yaxis4\":{\"anchor\":\"x4\",\"domain\":[0.0,1.0],\"matches\":\"y\",\"showticklabels\":false},\"annotations\":[{\"font\":{},\"showarrow\":false,\"text\":\"level=All Levels\",\"x\":0.1175,\"xanchor\":\"center\",\"xref\":\"paper\",\"y\":1.0,\"yanchor\":\"bottom\",\"yref\":\"paper\"},{\"font\":{},\"showarrow\":false,\"text\":\"level=Beginner Level\",\"x\":0.3725,\"xanchor\":\"center\",\"xref\":\"paper\",\"y\":1.0,\"yanchor\":\"bottom\",\"yref\":\"paper\"},{\"font\":{},\"showarrow\":false,\"text\":\"level=Expert Level\",\"x\":0.6275,\"xanchor\":\"center\",\"xref\":\"paper\",\"y\":1.0,\"yanchor\":\"bottom\",\"yref\":\"paper\"},{\"font\":{},\"showarrow\":false,\"text\":\"level=Intermediate Level\",\"x\":0.8824999999999998,\"xanchor\":\"center\",\"xref\":\"paper\",\"y\":1.0,\"yanchor\":\"bottom\",\"yref\":\"paper\"}],\"legend\":{\"title\":{\"text\":\"color\"},\"tracegroupgap\":0},\"margin\":{\"t\":60},\"barmode\":\"relative\",\"height\":400},                        {\"responsive\": true}                    ).then(function(){\n",
       "                            \n",
       "var gd = document.getElementById('0ce6ab43-6719-41f6-89ff-4583121b79c7');\n",
       "var x = new MutationObserver(function (mutations, observer) {{\n",
       "        var display = window.getComputedStyle(gd).display;\n",
       "        if (!display || display === 'none') {{\n",
       "            console.log([gd, 'removed!']);\n",
       "            Plotly.purge(gd);\n",
       "            observer.disconnect();\n",
       "        }}\n",
       "}});\n",
       "\n",
       "// Listen for the removal of the full notebook cells\n",
       "var notebookContainer = gd.closest('#notebook-container');\n",
       "if (notebookContainer) {{\n",
       "    x.observe(notebookContainer, {childList: true});\n",
       "}}\n",
       "\n",
       "// Listen for the clearing of the current output cell\n",
       "var outputEl = gd.closest('.output');\n",
       "if (outputEl) {{\n",
       "    x.observe(outputEl, {childList: true});\n",
       "}}\n",
       "\n",
       "                        })                };                });            </script>        </div>"
      ]
     },
     "metadata": {},
     "output_type": "display_data"
    }
   ],
   "source": [
    "# visualizing data result\n",
    "\n",
    "px.bar(df.pivot_table(index= 'subject', columns= 'level', values= 'profit', aggfunc= 'sum'),\n",
    "       color= df.pivot_table(index= 'subject', columns= 'level', values= 'profit', aggfunc= 'sum').index, facet_col= 'level', height= 400)"
   ]
  },
  {
   "cell_type": "markdown",
   "id": "6021e456",
   "metadata": {
    "id": "jLXDc81VBIHE",
    "papermill": {
     "duration": 0.04557,
     "end_time": "2023-07-24T06:44:55.668169",
     "exception": false,
     "start_time": "2023-07-24T06:44:55.622599",
     "status": "completed"
    },
    "tags": []
   },
   "source": [
    "- there is close to be a good relation between num_courses and profit"
   ]
  },
  {
   "cell_type": "markdown",
   "id": "63b66703",
   "metadata": {
    "id": "KaPPnSlhPUI5",
    "papermill": {
     "duration": 0.045443,
     "end_time": "2023-07-24T06:44:55.759276",
     "exception": false,
     "start_time": "2023-07-24T06:44:55.713833",
     "status": "completed"
    },
    "tags": []
   },
   "source": [
    "# ***Q: How many subscribers for each subject ?***"
   ]
  },
  {
   "cell_type": "code",
   "execution_count": 34,
   "id": "7d24fe3e",
   "metadata": {
    "execution": {
     "iopub.execute_input": "2023-07-24T06:44:55.914960Z",
     "iopub.status.busy": "2023-07-24T06:44:55.914555Z",
     "iopub.status.idle": "2023-07-24T06:44:55.929036Z",
     "shell.execute_reply": "2023-07-24T06:44:55.927989Z"
    },
    "id": "ar0fo92zPVdf",
    "outputId": "c871cd82-20f3-4907-8cf4-b3529ab706b0",
    "papermill": {
     "duration": 0.064253,
     "end_time": "2023-07-24T06:44:55.931429",
     "exception": false,
     "start_time": "2023-07-24T06:44:55.867176",
     "status": "completed"
    },
    "tags": []
   },
   "outputs": [
    {
     "data": {
      "text/html": [
       "<div>\n",
       "<style scoped>\n",
       "    .dataframe tbody tr th:only-of-type {\n",
       "        vertical-align: middle;\n",
       "    }\n",
       "\n",
       "    .dataframe tbody tr th {\n",
       "        vertical-align: top;\n",
       "    }\n",
       "\n",
       "    .dataframe thead th {\n",
       "        text-align: right;\n",
       "    }\n",
       "</style>\n",
       "<table border=\"1\" class=\"dataframe\">\n",
       "  <thead>\n",
       "    <tr style=\"text-align: right;\">\n",
       "      <th></th>\n",
       "      <th>num_subscribers</th>\n",
       "    </tr>\n",
       "    <tr>\n",
       "      <th>subject</th>\n",
       "      <th></th>\n",
       "    </tr>\n",
       "  </thead>\n",
       "  <tbody>\n",
       "    <tr>\n",
       "      <th>Web Development</th>\n",
       "      <td>6320964</td>\n",
       "    </tr>\n",
       "    <tr>\n",
       "      <th>Business Finance</th>\n",
       "      <td>1868711</td>\n",
       "    </tr>\n",
       "    <tr>\n",
       "      <th>Graphic Design</th>\n",
       "      <td>1063148</td>\n",
       "    </tr>\n",
       "    <tr>\n",
       "      <th>Musical Instruments</th>\n",
       "      <td>670036</td>\n",
       "    </tr>\n",
       "  </tbody>\n",
       "</table>\n",
       "</div>"
      ],
      "text/plain": [
       "                     num_subscribers\n",
       "subject                             \n",
       "Web Development              6320964\n",
       "Business Finance             1868711\n",
       "Graphic Design               1063148\n",
       "Musical Instruments           670036"
      ]
     },
     "execution_count": 34,
     "metadata": {},
     "output_type": "execute_result"
    }
   ],
   "source": [
    "# select data from dataset\n",
    "\n",
    "df[['subject', 'num_subscribers']].groupby('subject').sum().sort_values(by= 'num_subscribers', ascending= False)"
   ]
  },
  {
   "cell_type": "code",
   "execution_count": 35,
   "id": "7d3071ed",
   "metadata": {
    "execution": {
     "iopub.execute_input": "2023-07-24T06:44:56.027471Z",
     "iopub.status.busy": "2023-07-24T06:44:56.027068Z",
     "iopub.status.idle": "2023-07-24T06:44:56.128760Z",
     "shell.execute_reply": "2023-07-24T06:44:56.127739Z"
    },
    "id": "hQcV7QogQVVU",
    "outputId": "774333c6-8a01-4f3b-a2ec-a1797301c790",
    "papermill": {
     "duration": 0.152788,
     "end_time": "2023-07-24T06:44:56.131289",
     "exception": false,
     "start_time": "2023-07-24T06:44:55.978501",
     "status": "completed"
    },
    "tags": []
   },
   "outputs": [
    {
     "data": {
      "text/html": [
       "<div>                            <div id=\"849614ed-ee29-475b-9f6d-9e196a3d75da\" class=\"plotly-graph-div\" style=\"height:400px; width:600px;\"></div>            <script type=\"text/javascript\">                require([\"plotly\"], function(Plotly) {                    window.PLOTLYENV=window.PLOTLYENV || {};                                    if (document.getElementById(\"849614ed-ee29-475b-9f6d-9e196a3d75da\")) {                    Plotly.newPlot(                        \"849614ed-ee29-475b-9f6d-9e196a3d75da\",                        [{\"alignmentgroup\":\"True\",\"hovertemplate\":\"color=Web Development\\u003cbr\\u003esubject=%{x}\\u003cbr\\u003evalue=%{y}\\u003cextra\\u003e\\u003c\\u002fextra\\u003e\",\"legendgroup\":\"Web Development\",\"marker\":{\"color\":\"#636efa\",\"pattern\":{\"shape\":\"\"}},\"name\":\"Web Development\",\"offsetgroup\":\"Web Development\",\"orientation\":\"v\",\"showlegend\":true,\"textposition\":\"auto\",\"x\":[\"Web Development\"],\"xaxis\":\"x\",\"y\":[6320964],\"yaxis\":\"y\",\"type\":\"bar\"},{\"alignmentgroup\":\"True\",\"hovertemplate\":\"color=Business Finance\\u003cbr\\u003esubject=%{x}\\u003cbr\\u003evalue=%{y}\\u003cextra\\u003e\\u003c\\u002fextra\\u003e\",\"legendgroup\":\"Business Finance\",\"marker\":{\"color\":\"#EF553B\",\"pattern\":{\"shape\":\"\"}},\"name\":\"Business Finance\",\"offsetgroup\":\"Business Finance\",\"orientation\":\"v\",\"showlegend\":true,\"textposition\":\"auto\",\"x\":[\"Business Finance\"],\"xaxis\":\"x\",\"y\":[1868711],\"yaxis\":\"y\",\"type\":\"bar\"},{\"alignmentgroup\":\"True\",\"hovertemplate\":\"color=Graphic Design\\u003cbr\\u003esubject=%{x}\\u003cbr\\u003evalue=%{y}\\u003cextra\\u003e\\u003c\\u002fextra\\u003e\",\"legendgroup\":\"Graphic Design\",\"marker\":{\"color\":\"#00cc96\",\"pattern\":{\"shape\":\"\"}},\"name\":\"Graphic Design\",\"offsetgroup\":\"Graphic Design\",\"orientation\":\"v\",\"showlegend\":true,\"textposition\":\"auto\",\"x\":[\"Graphic Design\"],\"xaxis\":\"x\",\"y\":[1063148],\"yaxis\":\"y\",\"type\":\"bar\"},{\"alignmentgroup\":\"True\",\"hovertemplate\":\"color=Musical Instruments\\u003cbr\\u003esubject=%{x}\\u003cbr\\u003evalue=%{y}\\u003cextra\\u003e\\u003c\\u002fextra\\u003e\",\"legendgroup\":\"Musical Instruments\",\"marker\":{\"color\":\"#ab63fa\",\"pattern\":{\"shape\":\"\"}},\"name\":\"Musical Instruments\",\"offsetgroup\":\"Musical Instruments\",\"orientation\":\"v\",\"showlegend\":true,\"textposition\":\"auto\",\"x\":[\"Musical Instruments\"],\"xaxis\":\"x\",\"y\":[670036],\"yaxis\":\"y\",\"type\":\"bar\"}],                        {\"template\":{\"data\":{\"histogram2dcontour\":[{\"type\":\"histogram2dcontour\",\"colorbar\":{\"outlinewidth\":0,\"ticks\":\"\"},\"colorscale\":[[0.0,\"#0d0887\"],[0.1111111111111111,\"#46039f\"],[0.2222222222222222,\"#7201a8\"],[0.3333333333333333,\"#9c179e\"],[0.4444444444444444,\"#bd3786\"],[0.5555555555555556,\"#d8576b\"],[0.6666666666666666,\"#ed7953\"],[0.7777777777777778,\"#fb9f3a\"],[0.8888888888888888,\"#fdca26\"],[1.0,\"#f0f921\"]]}],\"choropleth\":[{\"type\":\"choropleth\",\"colorbar\":{\"outlinewidth\":0,\"ticks\":\"\"}}],\"histogram2d\":[{\"type\":\"histogram2d\",\"colorbar\":{\"outlinewidth\":0,\"ticks\":\"\"},\"colorscale\":[[0.0,\"#0d0887\"],[0.1111111111111111,\"#46039f\"],[0.2222222222222222,\"#7201a8\"],[0.3333333333333333,\"#9c179e\"],[0.4444444444444444,\"#bd3786\"],[0.5555555555555556,\"#d8576b\"],[0.6666666666666666,\"#ed7953\"],[0.7777777777777778,\"#fb9f3a\"],[0.8888888888888888,\"#fdca26\"],[1.0,\"#f0f921\"]]}],\"heatmap\":[{\"type\":\"heatmap\",\"colorbar\":{\"outlinewidth\":0,\"ticks\":\"\"},\"colorscale\":[[0.0,\"#0d0887\"],[0.1111111111111111,\"#46039f\"],[0.2222222222222222,\"#7201a8\"],[0.3333333333333333,\"#9c179e\"],[0.4444444444444444,\"#bd3786\"],[0.5555555555555556,\"#d8576b\"],[0.6666666666666666,\"#ed7953\"],[0.7777777777777778,\"#fb9f3a\"],[0.8888888888888888,\"#fdca26\"],[1.0,\"#f0f921\"]]}],\"heatmapgl\":[{\"type\":\"heatmapgl\",\"colorbar\":{\"outlinewidth\":0,\"ticks\":\"\"},\"colorscale\":[[0.0,\"#0d0887\"],[0.1111111111111111,\"#46039f\"],[0.2222222222222222,\"#7201a8\"],[0.3333333333333333,\"#9c179e\"],[0.4444444444444444,\"#bd3786\"],[0.5555555555555556,\"#d8576b\"],[0.6666666666666666,\"#ed7953\"],[0.7777777777777778,\"#fb9f3a\"],[0.8888888888888888,\"#fdca26\"],[1.0,\"#f0f921\"]]}],\"contourcarpet\":[{\"type\":\"contourcarpet\",\"colorbar\":{\"outlinewidth\":0,\"ticks\":\"\"}}],\"contour\":[{\"type\":\"contour\",\"colorbar\":{\"outlinewidth\":0,\"ticks\":\"\"},\"colorscale\":[[0.0,\"#0d0887\"],[0.1111111111111111,\"#46039f\"],[0.2222222222222222,\"#7201a8\"],[0.3333333333333333,\"#9c179e\"],[0.4444444444444444,\"#bd3786\"],[0.5555555555555556,\"#d8576b\"],[0.6666666666666666,\"#ed7953\"],[0.7777777777777778,\"#fb9f3a\"],[0.8888888888888888,\"#fdca26\"],[1.0,\"#f0f921\"]]}],\"surface\":[{\"type\":\"surface\",\"colorbar\":{\"outlinewidth\":0,\"ticks\":\"\"},\"colorscale\":[[0.0,\"#0d0887\"],[0.1111111111111111,\"#46039f\"],[0.2222222222222222,\"#7201a8\"],[0.3333333333333333,\"#9c179e\"],[0.4444444444444444,\"#bd3786\"],[0.5555555555555556,\"#d8576b\"],[0.6666666666666666,\"#ed7953\"],[0.7777777777777778,\"#fb9f3a\"],[0.8888888888888888,\"#fdca26\"],[1.0,\"#f0f921\"]]}],\"mesh3d\":[{\"type\":\"mesh3d\",\"colorbar\":{\"outlinewidth\":0,\"ticks\":\"\"}}],\"scatter\":[{\"fillpattern\":{\"fillmode\":\"overlay\",\"size\":10,\"solidity\":0.2},\"type\":\"scatter\"}],\"parcoords\":[{\"type\":\"parcoords\",\"line\":{\"colorbar\":{\"outlinewidth\":0,\"ticks\":\"\"}}}],\"scatterpolargl\":[{\"type\":\"scatterpolargl\",\"marker\":{\"colorbar\":{\"outlinewidth\":0,\"ticks\":\"\"}}}],\"bar\":[{\"error_x\":{\"color\":\"#2a3f5f\"},\"error_y\":{\"color\":\"#2a3f5f\"},\"marker\":{\"line\":{\"color\":\"#E5ECF6\",\"width\":0.5},\"pattern\":{\"fillmode\":\"overlay\",\"size\":10,\"solidity\":0.2}},\"type\":\"bar\"}],\"scattergeo\":[{\"type\":\"scattergeo\",\"marker\":{\"colorbar\":{\"outlinewidth\":0,\"ticks\":\"\"}}}],\"scatterpolar\":[{\"type\":\"scatterpolar\",\"marker\":{\"colorbar\":{\"outlinewidth\":0,\"ticks\":\"\"}}}],\"histogram\":[{\"marker\":{\"pattern\":{\"fillmode\":\"overlay\",\"size\":10,\"solidity\":0.2}},\"type\":\"histogram\"}],\"scattergl\":[{\"type\":\"scattergl\",\"marker\":{\"colorbar\":{\"outlinewidth\":0,\"ticks\":\"\"}}}],\"scatter3d\":[{\"type\":\"scatter3d\",\"line\":{\"colorbar\":{\"outlinewidth\":0,\"ticks\":\"\"}},\"marker\":{\"colorbar\":{\"outlinewidth\":0,\"ticks\":\"\"}}}],\"scattermapbox\":[{\"type\":\"scattermapbox\",\"marker\":{\"colorbar\":{\"outlinewidth\":0,\"ticks\":\"\"}}}],\"scatterternary\":[{\"type\":\"scatterternary\",\"marker\":{\"colorbar\":{\"outlinewidth\":0,\"ticks\":\"\"}}}],\"scattercarpet\":[{\"type\":\"scattercarpet\",\"marker\":{\"colorbar\":{\"outlinewidth\":0,\"ticks\":\"\"}}}],\"carpet\":[{\"aaxis\":{\"endlinecolor\":\"#2a3f5f\",\"gridcolor\":\"white\",\"linecolor\":\"white\",\"minorgridcolor\":\"white\",\"startlinecolor\":\"#2a3f5f\"},\"baxis\":{\"endlinecolor\":\"#2a3f5f\",\"gridcolor\":\"white\",\"linecolor\":\"white\",\"minorgridcolor\":\"white\",\"startlinecolor\":\"#2a3f5f\"},\"type\":\"carpet\"}],\"table\":[{\"cells\":{\"fill\":{\"color\":\"#EBF0F8\"},\"line\":{\"color\":\"white\"}},\"header\":{\"fill\":{\"color\":\"#C8D4E3\"},\"line\":{\"color\":\"white\"}},\"type\":\"table\"}],\"barpolar\":[{\"marker\":{\"line\":{\"color\":\"#E5ECF6\",\"width\":0.5},\"pattern\":{\"fillmode\":\"overlay\",\"size\":10,\"solidity\":0.2}},\"type\":\"barpolar\"}],\"pie\":[{\"automargin\":true,\"type\":\"pie\"}]},\"layout\":{\"autotypenumbers\":\"strict\",\"colorway\":[\"#636efa\",\"#EF553B\",\"#00cc96\",\"#ab63fa\",\"#FFA15A\",\"#19d3f3\",\"#FF6692\",\"#B6E880\",\"#FF97FF\",\"#FECB52\"],\"font\":{\"color\":\"#2a3f5f\"},\"hovermode\":\"closest\",\"hoverlabel\":{\"align\":\"left\"},\"paper_bgcolor\":\"white\",\"plot_bgcolor\":\"#E5ECF6\",\"polar\":{\"bgcolor\":\"#E5ECF6\",\"angularaxis\":{\"gridcolor\":\"white\",\"linecolor\":\"white\",\"ticks\":\"\"},\"radialaxis\":{\"gridcolor\":\"white\",\"linecolor\":\"white\",\"ticks\":\"\"}},\"ternary\":{\"bgcolor\":\"#E5ECF6\",\"aaxis\":{\"gridcolor\":\"white\",\"linecolor\":\"white\",\"ticks\":\"\"},\"baxis\":{\"gridcolor\":\"white\",\"linecolor\":\"white\",\"ticks\":\"\"},\"caxis\":{\"gridcolor\":\"white\",\"linecolor\":\"white\",\"ticks\":\"\"}},\"coloraxis\":{\"colorbar\":{\"outlinewidth\":0,\"ticks\":\"\"}},\"colorscale\":{\"sequential\":[[0.0,\"#0d0887\"],[0.1111111111111111,\"#46039f\"],[0.2222222222222222,\"#7201a8\"],[0.3333333333333333,\"#9c179e\"],[0.4444444444444444,\"#bd3786\"],[0.5555555555555556,\"#d8576b\"],[0.6666666666666666,\"#ed7953\"],[0.7777777777777778,\"#fb9f3a\"],[0.8888888888888888,\"#fdca26\"],[1.0,\"#f0f921\"]],\"sequentialminus\":[[0.0,\"#0d0887\"],[0.1111111111111111,\"#46039f\"],[0.2222222222222222,\"#7201a8\"],[0.3333333333333333,\"#9c179e\"],[0.4444444444444444,\"#bd3786\"],[0.5555555555555556,\"#d8576b\"],[0.6666666666666666,\"#ed7953\"],[0.7777777777777778,\"#fb9f3a\"],[0.8888888888888888,\"#fdca26\"],[1.0,\"#f0f921\"]],\"diverging\":[[0,\"#8e0152\"],[0.1,\"#c51b7d\"],[0.2,\"#de77ae\"],[0.3,\"#f1b6da\"],[0.4,\"#fde0ef\"],[0.5,\"#f7f7f7\"],[0.6,\"#e6f5d0\"],[0.7,\"#b8e186\"],[0.8,\"#7fbc41\"],[0.9,\"#4d9221\"],[1,\"#276419\"]]},\"xaxis\":{\"gridcolor\":\"white\",\"linecolor\":\"white\",\"ticks\":\"\",\"title\":{\"standoff\":15},\"zerolinecolor\":\"white\",\"automargin\":true,\"zerolinewidth\":2},\"yaxis\":{\"gridcolor\":\"white\",\"linecolor\":\"white\",\"ticks\":\"\",\"title\":{\"standoff\":15},\"zerolinecolor\":\"white\",\"automargin\":true,\"zerolinewidth\":2},\"scene\":{\"xaxis\":{\"backgroundcolor\":\"#E5ECF6\",\"gridcolor\":\"white\",\"linecolor\":\"white\",\"showbackground\":true,\"ticks\":\"\",\"zerolinecolor\":\"white\",\"gridwidth\":2},\"yaxis\":{\"backgroundcolor\":\"#E5ECF6\",\"gridcolor\":\"white\",\"linecolor\":\"white\",\"showbackground\":true,\"ticks\":\"\",\"zerolinecolor\":\"white\",\"gridwidth\":2},\"zaxis\":{\"backgroundcolor\":\"#E5ECF6\",\"gridcolor\":\"white\",\"linecolor\":\"white\",\"showbackground\":true,\"ticks\":\"\",\"zerolinecolor\":\"white\",\"gridwidth\":2}},\"shapedefaults\":{\"line\":{\"color\":\"#2a3f5f\"}},\"annotationdefaults\":{\"arrowcolor\":\"#2a3f5f\",\"arrowhead\":0,\"arrowwidth\":1},\"geo\":{\"bgcolor\":\"white\",\"landcolor\":\"#E5ECF6\",\"subunitcolor\":\"white\",\"showland\":true,\"showlakes\":true,\"lakecolor\":\"white\"},\"title\":{\"x\":0.05},\"mapbox\":{\"style\":\"light\"}}},\"xaxis\":{\"anchor\":\"y\",\"domain\":[0.0,1.0],\"title\":{\"text\":\"subject\"}},\"yaxis\":{\"anchor\":\"x\",\"domain\":[0.0,1.0],\"title\":{\"text\":\"value\"}},\"legend\":{\"title\":{\"text\":\"color\"},\"tracegroupgap\":0},\"title\":{\"text\":\"num_subscribers for each subject\"},\"barmode\":\"relative\",\"height\":400,\"width\":600},                        {\"responsive\": true}                    ).then(function(){\n",
       "                            \n",
       "var gd = document.getElementById('849614ed-ee29-475b-9f6d-9e196a3d75da');\n",
       "var x = new MutationObserver(function (mutations, observer) {{\n",
       "        var display = window.getComputedStyle(gd).display;\n",
       "        if (!display || display === 'none') {{\n",
       "            console.log([gd, 'removed!']);\n",
       "            Plotly.purge(gd);\n",
       "            observer.disconnect();\n",
       "        }}\n",
       "}});\n",
       "\n",
       "// Listen for the removal of the full notebook cells\n",
       "var notebookContainer = gd.closest('#notebook-container');\n",
       "if (notebookContainer) {{\n",
       "    x.observe(notebookContainer, {childList: true});\n",
       "}}\n",
       "\n",
       "// Listen for the clearing of the current output cell\n",
       "var outputEl = gd.closest('.output');\n",
       "if (outputEl) {{\n",
       "    x.observe(outputEl, {childList: true});\n",
       "}}\n",
       "\n",
       "                        })                };                });            </script>        </div>"
      ]
     },
     "metadata": {},
     "output_type": "display_data"
    }
   ],
   "source": [
    "# visualizing data result\n",
    "\n",
    "chart_title= 'num_subscribers for each subject'\n",
    "chart_color= df[['subject', 'num_subscribers']].groupby('subject').sum().sort_values(by= 'num_subscribers', ascending= False).index\n",
    "px.bar(df[['subject', 'num_subscribers']].groupby('subject').sum().sort_values(by= 'num_subscribers', ascending= False), color= chart_color, title= chart_title, height= 400, width= 600)"
   ]
  },
  {
   "cell_type": "markdown",
   "id": "82230807",
   "metadata": {
    "id": "KSSwKT6gSEI_",
    "papermill": {
     "duration": 0.05197,
     "end_time": "2023-07-24T06:44:56.230800",
     "exception": false,
     "start_time": "2023-07-24T06:44:56.178830",
     "status": "completed"
    },
    "tags": []
   },
   "source": [
    "# ***Q: How many subscribers for each subject regarding to level ?***"
   ]
  },
  {
   "cell_type": "code",
   "execution_count": 36,
   "id": "f05091c4",
   "metadata": {
    "execution": {
     "iopub.execute_input": "2023-07-24T06:44:56.329518Z",
     "iopub.status.busy": "2023-07-24T06:44:56.328766Z",
     "iopub.status.idle": "2023-07-24T06:44:56.345113Z",
     "shell.execute_reply": "2023-07-24T06:44:56.343912Z"
    },
    "id": "0ZGO7gfCSLxJ",
    "outputId": "bc173945-37f1-4895-860e-1a2be2547194",
    "papermill": {
     "duration": 0.067316,
     "end_time": "2023-07-24T06:44:56.347551",
     "exception": false,
     "start_time": "2023-07-24T06:44:56.280235",
     "status": "completed"
    },
    "tags": []
   },
   "outputs": [
    {
     "data": {
      "text/html": [
       "<div>\n",
       "<style scoped>\n",
       "    .dataframe tbody tr th:only-of-type {\n",
       "        vertical-align: middle;\n",
       "    }\n",
       "\n",
       "    .dataframe tbody tr th {\n",
       "        vertical-align: top;\n",
       "    }\n",
       "\n",
       "    .dataframe thead th {\n",
       "        text-align: right;\n",
       "    }\n",
       "</style>\n",
       "<table border=\"1\" class=\"dataframe\">\n",
       "  <thead>\n",
       "    <tr style=\"text-align: right;\">\n",
       "      <th></th>\n",
       "      <th></th>\n",
       "      <th>num_subscribers</th>\n",
       "    </tr>\n",
       "    <tr>\n",
       "      <th>subject</th>\n",
       "      <th>level</th>\n",
       "      <th></th>\n",
       "    </tr>\n",
       "  </thead>\n",
       "  <tbody>\n",
       "    <tr>\n",
       "      <th rowspan=\"4\" valign=\"top\">Business Finance</th>\n",
       "      <th>All Levels</th>\n",
       "      <td>1047208</td>\n",
       "    </tr>\n",
       "    <tr>\n",
       "      <th>Beginner Level</th>\n",
       "      <td>647007</td>\n",
       "    </tr>\n",
       "    <tr>\n",
       "      <th>Expert Level</th>\n",
       "      <td>30146</td>\n",
       "    </tr>\n",
       "    <tr>\n",
       "      <th>Intermediate Level</th>\n",
       "      <td>144350</td>\n",
       "    </tr>\n",
       "    <tr>\n",
       "      <th rowspan=\"4\" valign=\"top\">Graphic Design</th>\n",
       "      <th>All Levels</th>\n",
       "      <td>688332</td>\n",
       "    </tr>\n",
       "    <tr>\n",
       "      <th>Beginner Level</th>\n",
       "      <td>315757</td>\n",
       "    </tr>\n",
       "    <tr>\n",
       "      <th>Expert Level</th>\n",
       "      <td>1008</td>\n",
       "    </tr>\n",
       "    <tr>\n",
       "      <th>Intermediate Level</th>\n",
       "      <td>58051</td>\n",
       "    </tr>\n",
       "    <tr>\n",
       "      <th rowspan=\"4\" valign=\"top\">Musical Instruments</th>\n",
       "      <th>All Levels</th>\n",
       "      <td>252671</td>\n",
       "    </tr>\n",
       "    <tr>\n",
       "      <th>Beginner Level</th>\n",
       "      <td>327876</td>\n",
       "    </tr>\n",
       "    <tr>\n",
       "      <th>Expert Level</th>\n",
       "      <td>5431</td>\n",
       "    </tr>\n",
       "    <tr>\n",
       "      <th>Intermediate Level</th>\n",
       "      <td>84058</td>\n",
       "    </tr>\n",
       "    <tr>\n",
       "      <th rowspan=\"4\" valign=\"top\">Web Development</th>\n",
       "      <th>All Levels</th>\n",
       "      <td>3538310</td>\n",
       "    </tr>\n",
       "    <tr>\n",
       "      <th>Beginner Level</th>\n",
       "      <td>2313497</td>\n",
       "    </tr>\n",
       "    <tr>\n",
       "      <th>Expert Level</th>\n",
       "      <td>13611</td>\n",
       "    </tr>\n",
       "    <tr>\n",
       "      <th>Intermediate Level</th>\n",
       "      <td>455546</td>\n",
       "    </tr>\n",
       "  </tbody>\n",
       "</table>\n",
       "</div>"
      ],
      "text/plain": [
       "                                        num_subscribers\n",
       "subject             level                              \n",
       "Business Finance    All Levels                  1047208\n",
       "                    Beginner Level               647007\n",
       "                    Expert Level                  30146\n",
       "                    Intermediate Level           144350\n",
       "Graphic Design      All Levels                   688332\n",
       "                    Beginner Level               315757\n",
       "                    Expert Level                   1008\n",
       "                    Intermediate Level            58051\n",
       "Musical Instruments All Levels                   252671\n",
       "                    Beginner Level               327876\n",
       "                    Expert Level                   5431\n",
       "                    Intermediate Level            84058\n",
       "Web Development     All Levels                  3538310\n",
       "                    Beginner Level              2313497\n",
       "                    Expert Level                  13611\n",
       "                    Intermediate Level           455546"
      ]
     },
     "execution_count": 36,
     "metadata": {},
     "output_type": "execute_result"
    }
   ],
   "source": [
    "# select data from dataset\n",
    "\n",
    "df[['subject', 'level', 'num_subscribers']].groupby(['subject', 'level']).sum()"
   ]
  },
  {
   "cell_type": "code",
   "execution_count": 37,
   "id": "bd1fd009",
   "metadata": {
    "execution": {
     "iopub.execute_input": "2023-07-24T06:44:56.444466Z",
     "iopub.status.busy": "2023-07-24T06:44:56.443856Z",
     "iopub.status.idle": "2023-07-24T06:44:56.463670Z",
     "shell.execute_reply": "2023-07-24T06:44:56.462504Z"
    },
    "id": "jokt0gkEhv6p",
    "outputId": "c1327f53-2204-48bb-db02-b462a17e5c42",
    "papermill": {
     "duration": 0.07115,
     "end_time": "2023-07-24T06:44:56.466155",
     "exception": false,
     "start_time": "2023-07-24T06:44:56.395005",
     "status": "completed"
    },
    "tags": []
   },
   "outputs": [
    {
     "data": {
      "text/html": [
       "<div>\n",
       "<style scoped>\n",
       "    .dataframe tbody tr th:only-of-type {\n",
       "        vertical-align: middle;\n",
       "    }\n",
       "\n",
       "    .dataframe tbody tr th {\n",
       "        vertical-align: top;\n",
       "    }\n",
       "\n",
       "    .dataframe thead th {\n",
       "        text-align: right;\n",
       "    }\n",
       "</style>\n",
       "<table border=\"1\" class=\"dataframe\">\n",
       "  <thead>\n",
       "    <tr style=\"text-align: right;\">\n",
       "      <th>level</th>\n",
       "      <th>All Levels</th>\n",
       "      <th>Beginner Level</th>\n",
       "      <th>Expert Level</th>\n",
       "      <th>Intermediate Level</th>\n",
       "    </tr>\n",
       "    <tr>\n",
       "      <th>subject</th>\n",
       "      <th></th>\n",
       "      <th></th>\n",
       "      <th></th>\n",
       "      <th></th>\n",
       "    </tr>\n",
       "  </thead>\n",
       "  <tbody>\n",
       "    <tr>\n",
       "      <th>Business Finance</th>\n",
       "      <td>1047208</td>\n",
       "      <td>647007</td>\n",
       "      <td>30146</td>\n",
       "      <td>144350</td>\n",
       "    </tr>\n",
       "    <tr>\n",
       "      <th>Graphic Design</th>\n",
       "      <td>688332</td>\n",
       "      <td>315757</td>\n",
       "      <td>1008</td>\n",
       "      <td>58051</td>\n",
       "    </tr>\n",
       "    <tr>\n",
       "      <th>Musical Instruments</th>\n",
       "      <td>252671</td>\n",
       "      <td>327876</td>\n",
       "      <td>5431</td>\n",
       "      <td>84058</td>\n",
       "    </tr>\n",
       "    <tr>\n",
       "      <th>Web Development</th>\n",
       "      <td>3538310</td>\n",
       "      <td>2313497</td>\n",
       "      <td>13611</td>\n",
       "      <td>455546</td>\n",
       "    </tr>\n",
       "  </tbody>\n",
       "</table>\n",
       "</div>"
      ],
      "text/plain": [
       "level                All Levels  Beginner Level  Expert Level  \\\n",
       "subject                                                         \n",
       "Business Finance        1047208          647007         30146   \n",
       "Graphic Design           688332          315757          1008   \n",
       "Musical Instruments      252671          327876          5431   \n",
       "Web Development         3538310         2313497         13611   \n",
       "\n",
       "level                Intermediate Level  \n",
       "subject                                  \n",
       "Business Finance                 144350  \n",
       "Graphic Design                    58051  \n",
       "Musical Instruments               84058  \n",
       "Web Development                  455546  "
      ]
     },
     "execution_count": 37,
     "metadata": {},
     "output_type": "execute_result"
    }
   ],
   "source": [
    "# pivot table for result\n",
    "\n",
    "df.pivot_table( index= 'subject', columns= 'level', values= 'num_subscribers', aggfunc= 'sum')"
   ]
  },
  {
   "cell_type": "code",
   "execution_count": 38,
   "id": "4f2b3a07",
   "metadata": {
    "execution": {
     "iopub.execute_input": "2023-07-24T06:44:56.564860Z",
     "iopub.status.busy": "2023-07-24T06:44:56.564412Z",
     "iopub.status.idle": "2023-07-24T06:44:56.761458Z",
     "shell.execute_reply": "2023-07-24T06:44:56.760287Z"
    },
    "id": "FKf1y3AgSc4y",
    "outputId": "e6c1f491-5914-4133-ab30-bf54c8f7ff5b",
    "papermill": {
     "duration": 0.249593,
     "end_time": "2023-07-24T06:44:56.763946",
     "exception": false,
     "start_time": "2023-07-24T06:44:56.514353",
     "status": "completed"
    },
    "tags": []
   },
   "outputs": [
    {
     "data": {
      "text/html": [
       "<div>                            <div id=\"1af6189a-c94e-41c8-9c52-e9d18e650959\" class=\"plotly-graph-div\" style=\"height:400px; width:100%;\"></div>            <script type=\"text/javascript\">                require([\"plotly\"], function(Plotly) {                    window.PLOTLYENV=window.PLOTLYENV || {};                                    if (document.getElementById(\"1af6189a-c94e-41c8-9c52-e9d18e650959\")) {                    Plotly.newPlot(                        \"1af6189a-c94e-41c8-9c52-e9d18e650959\",                        [{\"alignmentgroup\":\"True\",\"hovertemplate\":\"color=Business Finance\\u003cbr\\u003elevel=All Levels\\u003cbr\\u003esubject=%{x}\\u003cbr\\u003evalue=%{y}\\u003cextra\\u003e\\u003c\\u002fextra\\u003e\",\"legendgroup\":\"Business Finance\",\"marker\":{\"color\":\"#636efa\",\"pattern\":{\"shape\":\"\"}},\"name\":\"Business Finance\",\"offsetgroup\":\"Business Finance\",\"orientation\":\"v\",\"showlegend\":true,\"textposition\":\"auto\",\"x\":[\"Business Finance\"],\"xaxis\":\"x\",\"y\":[1047208],\"yaxis\":\"y\",\"type\":\"bar\"},{\"alignmentgroup\":\"True\",\"hovertemplate\":\"color=Business Finance\\u003cbr\\u003elevel=Beginner Level\\u003cbr\\u003esubject=%{x}\\u003cbr\\u003evalue=%{y}\\u003cextra\\u003e\\u003c\\u002fextra\\u003e\",\"legendgroup\":\"Business Finance\",\"marker\":{\"color\":\"#636efa\",\"pattern\":{\"shape\":\"\"}},\"name\":\"Business Finance\",\"offsetgroup\":\"Business Finance\",\"orientation\":\"v\",\"showlegend\":false,\"textposition\":\"auto\",\"x\":[\"Business Finance\"],\"xaxis\":\"x2\",\"y\":[647007],\"yaxis\":\"y2\",\"type\":\"bar\"},{\"alignmentgroup\":\"True\",\"hovertemplate\":\"color=Business Finance\\u003cbr\\u003elevel=Expert Level\\u003cbr\\u003esubject=%{x}\\u003cbr\\u003evalue=%{y}\\u003cextra\\u003e\\u003c\\u002fextra\\u003e\",\"legendgroup\":\"Business Finance\",\"marker\":{\"color\":\"#636efa\",\"pattern\":{\"shape\":\"\"}},\"name\":\"Business Finance\",\"offsetgroup\":\"Business Finance\",\"orientation\":\"v\",\"showlegend\":false,\"textposition\":\"auto\",\"x\":[\"Business Finance\"],\"xaxis\":\"x3\",\"y\":[30146],\"yaxis\":\"y3\",\"type\":\"bar\"},{\"alignmentgroup\":\"True\",\"hovertemplate\":\"color=Business Finance\\u003cbr\\u003elevel=Intermediate Level\\u003cbr\\u003esubject=%{x}\\u003cbr\\u003evalue=%{y}\\u003cextra\\u003e\\u003c\\u002fextra\\u003e\",\"legendgroup\":\"Business Finance\",\"marker\":{\"color\":\"#636efa\",\"pattern\":{\"shape\":\"\"}},\"name\":\"Business Finance\",\"offsetgroup\":\"Business Finance\",\"orientation\":\"v\",\"showlegend\":false,\"textposition\":\"auto\",\"x\":[\"Business Finance\"],\"xaxis\":\"x4\",\"y\":[144350],\"yaxis\":\"y4\",\"type\":\"bar\"},{\"alignmentgroup\":\"True\",\"hovertemplate\":\"color=Graphic Design\\u003cbr\\u003elevel=All Levels\\u003cbr\\u003esubject=%{x}\\u003cbr\\u003evalue=%{y}\\u003cextra\\u003e\\u003c\\u002fextra\\u003e\",\"legendgroup\":\"Graphic Design\",\"marker\":{\"color\":\"#EF553B\",\"pattern\":{\"shape\":\"\"}},\"name\":\"Graphic Design\",\"offsetgroup\":\"Graphic Design\",\"orientation\":\"v\",\"showlegend\":true,\"textposition\":\"auto\",\"x\":[\"Graphic Design\"],\"xaxis\":\"x\",\"y\":[688332],\"yaxis\":\"y\",\"type\":\"bar\"},{\"alignmentgroup\":\"True\",\"hovertemplate\":\"color=Graphic Design\\u003cbr\\u003elevel=Beginner Level\\u003cbr\\u003esubject=%{x}\\u003cbr\\u003evalue=%{y}\\u003cextra\\u003e\\u003c\\u002fextra\\u003e\",\"legendgroup\":\"Graphic Design\",\"marker\":{\"color\":\"#EF553B\",\"pattern\":{\"shape\":\"\"}},\"name\":\"Graphic Design\",\"offsetgroup\":\"Graphic Design\",\"orientation\":\"v\",\"showlegend\":false,\"textposition\":\"auto\",\"x\":[\"Graphic Design\"],\"xaxis\":\"x2\",\"y\":[315757],\"yaxis\":\"y2\",\"type\":\"bar\"},{\"alignmentgroup\":\"True\",\"hovertemplate\":\"color=Graphic Design\\u003cbr\\u003elevel=Expert Level\\u003cbr\\u003esubject=%{x}\\u003cbr\\u003evalue=%{y}\\u003cextra\\u003e\\u003c\\u002fextra\\u003e\",\"legendgroup\":\"Graphic Design\",\"marker\":{\"color\":\"#EF553B\",\"pattern\":{\"shape\":\"\"}},\"name\":\"Graphic Design\",\"offsetgroup\":\"Graphic Design\",\"orientation\":\"v\",\"showlegend\":false,\"textposition\":\"auto\",\"x\":[\"Graphic Design\"],\"xaxis\":\"x3\",\"y\":[1008],\"yaxis\":\"y3\",\"type\":\"bar\"},{\"alignmentgroup\":\"True\",\"hovertemplate\":\"color=Graphic Design\\u003cbr\\u003elevel=Intermediate Level\\u003cbr\\u003esubject=%{x}\\u003cbr\\u003evalue=%{y}\\u003cextra\\u003e\\u003c\\u002fextra\\u003e\",\"legendgroup\":\"Graphic Design\",\"marker\":{\"color\":\"#EF553B\",\"pattern\":{\"shape\":\"\"}},\"name\":\"Graphic Design\",\"offsetgroup\":\"Graphic Design\",\"orientation\":\"v\",\"showlegend\":false,\"textposition\":\"auto\",\"x\":[\"Graphic Design\"],\"xaxis\":\"x4\",\"y\":[58051],\"yaxis\":\"y4\",\"type\":\"bar\"},{\"alignmentgroup\":\"True\",\"hovertemplate\":\"color=Musical Instruments\\u003cbr\\u003elevel=All Levels\\u003cbr\\u003esubject=%{x}\\u003cbr\\u003evalue=%{y}\\u003cextra\\u003e\\u003c\\u002fextra\\u003e\",\"legendgroup\":\"Musical Instruments\",\"marker\":{\"color\":\"#00cc96\",\"pattern\":{\"shape\":\"\"}},\"name\":\"Musical Instruments\",\"offsetgroup\":\"Musical Instruments\",\"orientation\":\"v\",\"showlegend\":true,\"textposition\":\"auto\",\"x\":[\"Musical Instruments\"],\"xaxis\":\"x\",\"y\":[252671],\"yaxis\":\"y\",\"type\":\"bar\"},{\"alignmentgroup\":\"True\",\"hovertemplate\":\"color=Musical Instruments\\u003cbr\\u003elevel=Beginner Level\\u003cbr\\u003esubject=%{x}\\u003cbr\\u003evalue=%{y}\\u003cextra\\u003e\\u003c\\u002fextra\\u003e\",\"legendgroup\":\"Musical Instruments\",\"marker\":{\"color\":\"#00cc96\",\"pattern\":{\"shape\":\"\"}},\"name\":\"Musical Instruments\",\"offsetgroup\":\"Musical Instruments\",\"orientation\":\"v\",\"showlegend\":false,\"textposition\":\"auto\",\"x\":[\"Musical Instruments\"],\"xaxis\":\"x2\",\"y\":[327876],\"yaxis\":\"y2\",\"type\":\"bar\"},{\"alignmentgroup\":\"True\",\"hovertemplate\":\"color=Musical Instruments\\u003cbr\\u003elevel=Expert Level\\u003cbr\\u003esubject=%{x}\\u003cbr\\u003evalue=%{y}\\u003cextra\\u003e\\u003c\\u002fextra\\u003e\",\"legendgroup\":\"Musical Instruments\",\"marker\":{\"color\":\"#00cc96\",\"pattern\":{\"shape\":\"\"}},\"name\":\"Musical Instruments\",\"offsetgroup\":\"Musical Instruments\",\"orientation\":\"v\",\"showlegend\":false,\"textposition\":\"auto\",\"x\":[\"Musical Instruments\"],\"xaxis\":\"x3\",\"y\":[5431],\"yaxis\":\"y3\",\"type\":\"bar\"},{\"alignmentgroup\":\"True\",\"hovertemplate\":\"color=Musical Instruments\\u003cbr\\u003elevel=Intermediate Level\\u003cbr\\u003esubject=%{x}\\u003cbr\\u003evalue=%{y}\\u003cextra\\u003e\\u003c\\u002fextra\\u003e\",\"legendgroup\":\"Musical Instruments\",\"marker\":{\"color\":\"#00cc96\",\"pattern\":{\"shape\":\"\"}},\"name\":\"Musical Instruments\",\"offsetgroup\":\"Musical Instruments\",\"orientation\":\"v\",\"showlegend\":false,\"textposition\":\"auto\",\"x\":[\"Musical Instruments\"],\"xaxis\":\"x4\",\"y\":[84058],\"yaxis\":\"y4\",\"type\":\"bar\"},{\"alignmentgroup\":\"True\",\"hovertemplate\":\"color=Web Development\\u003cbr\\u003elevel=All Levels\\u003cbr\\u003esubject=%{x}\\u003cbr\\u003evalue=%{y}\\u003cextra\\u003e\\u003c\\u002fextra\\u003e\",\"legendgroup\":\"Web Development\",\"marker\":{\"color\":\"#ab63fa\",\"pattern\":{\"shape\":\"\"}},\"name\":\"Web Development\",\"offsetgroup\":\"Web Development\",\"orientation\":\"v\",\"showlegend\":true,\"textposition\":\"auto\",\"x\":[\"Web Development\"],\"xaxis\":\"x\",\"y\":[3538310],\"yaxis\":\"y\",\"type\":\"bar\"},{\"alignmentgroup\":\"True\",\"hovertemplate\":\"color=Web Development\\u003cbr\\u003elevel=Beginner Level\\u003cbr\\u003esubject=%{x}\\u003cbr\\u003evalue=%{y}\\u003cextra\\u003e\\u003c\\u002fextra\\u003e\",\"legendgroup\":\"Web Development\",\"marker\":{\"color\":\"#ab63fa\",\"pattern\":{\"shape\":\"\"}},\"name\":\"Web Development\",\"offsetgroup\":\"Web Development\",\"orientation\":\"v\",\"showlegend\":false,\"textposition\":\"auto\",\"x\":[\"Web Development\"],\"xaxis\":\"x2\",\"y\":[2313497],\"yaxis\":\"y2\",\"type\":\"bar\"},{\"alignmentgroup\":\"True\",\"hovertemplate\":\"color=Web Development\\u003cbr\\u003elevel=Expert Level\\u003cbr\\u003esubject=%{x}\\u003cbr\\u003evalue=%{y}\\u003cextra\\u003e\\u003c\\u002fextra\\u003e\",\"legendgroup\":\"Web Development\",\"marker\":{\"color\":\"#ab63fa\",\"pattern\":{\"shape\":\"\"}},\"name\":\"Web Development\",\"offsetgroup\":\"Web Development\",\"orientation\":\"v\",\"showlegend\":false,\"textposition\":\"auto\",\"x\":[\"Web Development\"],\"xaxis\":\"x3\",\"y\":[13611],\"yaxis\":\"y3\",\"type\":\"bar\"},{\"alignmentgroup\":\"True\",\"hovertemplate\":\"color=Web Development\\u003cbr\\u003elevel=Intermediate Level\\u003cbr\\u003esubject=%{x}\\u003cbr\\u003evalue=%{y}\\u003cextra\\u003e\\u003c\\u002fextra\\u003e\",\"legendgroup\":\"Web Development\",\"marker\":{\"color\":\"#ab63fa\",\"pattern\":{\"shape\":\"\"}},\"name\":\"Web Development\",\"offsetgroup\":\"Web Development\",\"orientation\":\"v\",\"showlegend\":false,\"textposition\":\"auto\",\"x\":[\"Web Development\"],\"xaxis\":\"x4\",\"y\":[455546],\"yaxis\":\"y4\",\"type\":\"bar\"}],                        {\"template\":{\"data\":{\"histogram2dcontour\":[{\"type\":\"histogram2dcontour\",\"colorbar\":{\"outlinewidth\":0,\"ticks\":\"\"},\"colorscale\":[[0.0,\"#0d0887\"],[0.1111111111111111,\"#46039f\"],[0.2222222222222222,\"#7201a8\"],[0.3333333333333333,\"#9c179e\"],[0.4444444444444444,\"#bd3786\"],[0.5555555555555556,\"#d8576b\"],[0.6666666666666666,\"#ed7953\"],[0.7777777777777778,\"#fb9f3a\"],[0.8888888888888888,\"#fdca26\"],[1.0,\"#f0f921\"]]}],\"choropleth\":[{\"type\":\"choropleth\",\"colorbar\":{\"outlinewidth\":0,\"ticks\":\"\"}}],\"histogram2d\":[{\"type\":\"histogram2d\",\"colorbar\":{\"outlinewidth\":0,\"ticks\":\"\"},\"colorscale\":[[0.0,\"#0d0887\"],[0.1111111111111111,\"#46039f\"],[0.2222222222222222,\"#7201a8\"],[0.3333333333333333,\"#9c179e\"],[0.4444444444444444,\"#bd3786\"],[0.5555555555555556,\"#d8576b\"],[0.6666666666666666,\"#ed7953\"],[0.7777777777777778,\"#fb9f3a\"],[0.8888888888888888,\"#fdca26\"],[1.0,\"#f0f921\"]]}],\"heatmap\":[{\"type\":\"heatmap\",\"colorbar\":{\"outlinewidth\":0,\"ticks\":\"\"},\"colorscale\":[[0.0,\"#0d0887\"],[0.1111111111111111,\"#46039f\"],[0.2222222222222222,\"#7201a8\"],[0.3333333333333333,\"#9c179e\"],[0.4444444444444444,\"#bd3786\"],[0.5555555555555556,\"#d8576b\"],[0.6666666666666666,\"#ed7953\"],[0.7777777777777778,\"#fb9f3a\"],[0.8888888888888888,\"#fdca26\"],[1.0,\"#f0f921\"]]}],\"heatmapgl\":[{\"type\":\"heatmapgl\",\"colorbar\":{\"outlinewidth\":0,\"ticks\":\"\"},\"colorscale\":[[0.0,\"#0d0887\"],[0.1111111111111111,\"#46039f\"],[0.2222222222222222,\"#7201a8\"],[0.3333333333333333,\"#9c179e\"],[0.4444444444444444,\"#bd3786\"],[0.5555555555555556,\"#d8576b\"],[0.6666666666666666,\"#ed7953\"],[0.7777777777777778,\"#fb9f3a\"],[0.8888888888888888,\"#fdca26\"],[1.0,\"#f0f921\"]]}],\"contourcarpet\":[{\"type\":\"contourcarpet\",\"colorbar\":{\"outlinewidth\":0,\"ticks\":\"\"}}],\"contour\":[{\"type\":\"contour\",\"colorbar\":{\"outlinewidth\":0,\"ticks\":\"\"},\"colorscale\":[[0.0,\"#0d0887\"],[0.1111111111111111,\"#46039f\"],[0.2222222222222222,\"#7201a8\"],[0.3333333333333333,\"#9c179e\"],[0.4444444444444444,\"#bd3786\"],[0.5555555555555556,\"#d8576b\"],[0.6666666666666666,\"#ed7953\"],[0.7777777777777778,\"#fb9f3a\"],[0.8888888888888888,\"#fdca26\"],[1.0,\"#f0f921\"]]}],\"surface\":[{\"type\":\"surface\",\"colorbar\":{\"outlinewidth\":0,\"ticks\":\"\"},\"colorscale\":[[0.0,\"#0d0887\"],[0.1111111111111111,\"#46039f\"],[0.2222222222222222,\"#7201a8\"],[0.3333333333333333,\"#9c179e\"],[0.4444444444444444,\"#bd3786\"],[0.5555555555555556,\"#d8576b\"],[0.6666666666666666,\"#ed7953\"],[0.7777777777777778,\"#fb9f3a\"],[0.8888888888888888,\"#fdca26\"],[1.0,\"#f0f921\"]]}],\"mesh3d\":[{\"type\":\"mesh3d\",\"colorbar\":{\"outlinewidth\":0,\"ticks\":\"\"}}],\"scatter\":[{\"fillpattern\":{\"fillmode\":\"overlay\",\"size\":10,\"solidity\":0.2},\"type\":\"scatter\"}],\"parcoords\":[{\"type\":\"parcoords\",\"line\":{\"colorbar\":{\"outlinewidth\":0,\"ticks\":\"\"}}}],\"scatterpolargl\":[{\"type\":\"scatterpolargl\",\"marker\":{\"colorbar\":{\"outlinewidth\":0,\"ticks\":\"\"}}}],\"bar\":[{\"error_x\":{\"color\":\"#2a3f5f\"},\"error_y\":{\"color\":\"#2a3f5f\"},\"marker\":{\"line\":{\"color\":\"#E5ECF6\",\"width\":0.5},\"pattern\":{\"fillmode\":\"overlay\",\"size\":10,\"solidity\":0.2}},\"type\":\"bar\"}],\"scattergeo\":[{\"type\":\"scattergeo\",\"marker\":{\"colorbar\":{\"outlinewidth\":0,\"ticks\":\"\"}}}],\"scatterpolar\":[{\"type\":\"scatterpolar\",\"marker\":{\"colorbar\":{\"outlinewidth\":0,\"ticks\":\"\"}}}],\"histogram\":[{\"marker\":{\"pattern\":{\"fillmode\":\"overlay\",\"size\":10,\"solidity\":0.2}},\"type\":\"histogram\"}],\"scattergl\":[{\"type\":\"scattergl\",\"marker\":{\"colorbar\":{\"outlinewidth\":0,\"ticks\":\"\"}}}],\"scatter3d\":[{\"type\":\"scatter3d\",\"line\":{\"colorbar\":{\"outlinewidth\":0,\"ticks\":\"\"}},\"marker\":{\"colorbar\":{\"outlinewidth\":0,\"ticks\":\"\"}}}],\"scattermapbox\":[{\"type\":\"scattermapbox\",\"marker\":{\"colorbar\":{\"outlinewidth\":0,\"ticks\":\"\"}}}],\"scatterternary\":[{\"type\":\"scatterternary\",\"marker\":{\"colorbar\":{\"outlinewidth\":0,\"ticks\":\"\"}}}],\"scattercarpet\":[{\"type\":\"scattercarpet\",\"marker\":{\"colorbar\":{\"outlinewidth\":0,\"ticks\":\"\"}}}],\"carpet\":[{\"aaxis\":{\"endlinecolor\":\"#2a3f5f\",\"gridcolor\":\"white\",\"linecolor\":\"white\",\"minorgridcolor\":\"white\",\"startlinecolor\":\"#2a3f5f\"},\"baxis\":{\"endlinecolor\":\"#2a3f5f\",\"gridcolor\":\"white\",\"linecolor\":\"white\",\"minorgridcolor\":\"white\",\"startlinecolor\":\"#2a3f5f\"},\"type\":\"carpet\"}],\"table\":[{\"cells\":{\"fill\":{\"color\":\"#EBF0F8\"},\"line\":{\"color\":\"white\"}},\"header\":{\"fill\":{\"color\":\"#C8D4E3\"},\"line\":{\"color\":\"white\"}},\"type\":\"table\"}],\"barpolar\":[{\"marker\":{\"line\":{\"color\":\"#E5ECF6\",\"width\":0.5},\"pattern\":{\"fillmode\":\"overlay\",\"size\":10,\"solidity\":0.2}},\"type\":\"barpolar\"}],\"pie\":[{\"automargin\":true,\"type\":\"pie\"}]},\"layout\":{\"autotypenumbers\":\"strict\",\"colorway\":[\"#636efa\",\"#EF553B\",\"#00cc96\",\"#ab63fa\",\"#FFA15A\",\"#19d3f3\",\"#FF6692\",\"#B6E880\",\"#FF97FF\",\"#FECB52\"],\"font\":{\"color\":\"#2a3f5f\"},\"hovermode\":\"closest\",\"hoverlabel\":{\"align\":\"left\"},\"paper_bgcolor\":\"white\",\"plot_bgcolor\":\"#E5ECF6\",\"polar\":{\"bgcolor\":\"#E5ECF6\",\"angularaxis\":{\"gridcolor\":\"white\",\"linecolor\":\"white\",\"ticks\":\"\"},\"radialaxis\":{\"gridcolor\":\"white\",\"linecolor\":\"white\",\"ticks\":\"\"}},\"ternary\":{\"bgcolor\":\"#E5ECF6\",\"aaxis\":{\"gridcolor\":\"white\",\"linecolor\":\"white\",\"ticks\":\"\"},\"baxis\":{\"gridcolor\":\"white\",\"linecolor\":\"white\",\"ticks\":\"\"},\"caxis\":{\"gridcolor\":\"white\",\"linecolor\":\"white\",\"ticks\":\"\"}},\"coloraxis\":{\"colorbar\":{\"outlinewidth\":0,\"ticks\":\"\"}},\"colorscale\":{\"sequential\":[[0.0,\"#0d0887\"],[0.1111111111111111,\"#46039f\"],[0.2222222222222222,\"#7201a8\"],[0.3333333333333333,\"#9c179e\"],[0.4444444444444444,\"#bd3786\"],[0.5555555555555556,\"#d8576b\"],[0.6666666666666666,\"#ed7953\"],[0.7777777777777778,\"#fb9f3a\"],[0.8888888888888888,\"#fdca26\"],[1.0,\"#f0f921\"]],\"sequentialminus\":[[0.0,\"#0d0887\"],[0.1111111111111111,\"#46039f\"],[0.2222222222222222,\"#7201a8\"],[0.3333333333333333,\"#9c179e\"],[0.4444444444444444,\"#bd3786\"],[0.5555555555555556,\"#d8576b\"],[0.6666666666666666,\"#ed7953\"],[0.7777777777777778,\"#fb9f3a\"],[0.8888888888888888,\"#fdca26\"],[1.0,\"#f0f921\"]],\"diverging\":[[0,\"#8e0152\"],[0.1,\"#c51b7d\"],[0.2,\"#de77ae\"],[0.3,\"#f1b6da\"],[0.4,\"#fde0ef\"],[0.5,\"#f7f7f7\"],[0.6,\"#e6f5d0\"],[0.7,\"#b8e186\"],[0.8,\"#7fbc41\"],[0.9,\"#4d9221\"],[1,\"#276419\"]]},\"xaxis\":{\"gridcolor\":\"white\",\"linecolor\":\"white\",\"ticks\":\"\",\"title\":{\"standoff\":15},\"zerolinecolor\":\"white\",\"automargin\":true,\"zerolinewidth\":2},\"yaxis\":{\"gridcolor\":\"white\",\"linecolor\":\"white\",\"ticks\":\"\",\"title\":{\"standoff\":15},\"zerolinecolor\":\"white\",\"automargin\":true,\"zerolinewidth\":2},\"scene\":{\"xaxis\":{\"backgroundcolor\":\"#E5ECF6\",\"gridcolor\":\"white\",\"linecolor\":\"white\",\"showbackground\":true,\"ticks\":\"\",\"zerolinecolor\":\"white\",\"gridwidth\":2},\"yaxis\":{\"backgroundcolor\":\"#E5ECF6\",\"gridcolor\":\"white\",\"linecolor\":\"white\",\"showbackground\":true,\"ticks\":\"\",\"zerolinecolor\":\"white\",\"gridwidth\":2},\"zaxis\":{\"backgroundcolor\":\"#E5ECF6\",\"gridcolor\":\"white\",\"linecolor\":\"white\",\"showbackground\":true,\"ticks\":\"\",\"zerolinecolor\":\"white\",\"gridwidth\":2}},\"shapedefaults\":{\"line\":{\"color\":\"#2a3f5f\"}},\"annotationdefaults\":{\"arrowcolor\":\"#2a3f5f\",\"arrowhead\":0,\"arrowwidth\":1},\"geo\":{\"bgcolor\":\"white\",\"landcolor\":\"#E5ECF6\",\"subunitcolor\":\"white\",\"showland\":true,\"showlakes\":true,\"lakecolor\":\"white\"},\"title\":{\"x\":0.05},\"mapbox\":{\"style\":\"light\"}}},\"xaxis\":{\"anchor\":\"y\",\"domain\":[0.0,0.235],\"title\":{\"text\":\"subject\"}},\"yaxis\":{\"anchor\":\"x\",\"domain\":[0.0,1.0],\"title\":{\"text\":\"value\"}},\"xaxis2\":{\"anchor\":\"y2\",\"domain\":[0.255,0.49],\"matches\":\"x\",\"title\":{\"text\":\"subject\"}},\"yaxis2\":{\"anchor\":\"x2\",\"domain\":[0.0,1.0],\"matches\":\"y\",\"showticklabels\":false},\"xaxis3\":{\"anchor\":\"y3\",\"domain\":[0.51,0.745],\"matches\":\"x\",\"title\":{\"text\":\"subject\"}},\"yaxis3\":{\"anchor\":\"x3\",\"domain\":[0.0,1.0],\"matches\":\"y\",\"showticklabels\":false},\"xaxis4\":{\"anchor\":\"y4\",\"domain\":[0.7649999999999999,0.9999999999999999],\"matches\":\"x\",\"title\":{\"text\":\"subject\"}},\"yaxis4\":{\"anchor\":\"x4\",\"domain\":[0.0,1.0],\"matches\":\"y\",\"showticklabels\":false},\"annotations\":[{\"font\":{},\"showarrow\":false,\"text\":\"level=All Levels\",\"x\":0.1175,\"xanchor\":\"center\",\"xref\":\"paper\",\"y\":1.0,\"yanchor\":\"bottom\",\"yref\":\"paper\"},{\"font\":{},\"showarrow\":false,\"text\":\"level=Beginner Level\",\"x\":0.3725,\"xanchor\":\"center\",\"xref\":\"paper\",\"y\":1.0,\"yanchor\":\"bottom\",\"yref\":\"paper\"},{\"font\":{},\"showarrow\":false,\"text\":\"level=Expert Level\",\"x\":0.6275,\"xanchor\":\"center\",\"xref\":\"paper\",\"y\":1.0,\"yanchor\":\"bottom\",\"yref\":\"paper\"},{\"font\":{},\"showarrow\":false,\"text\":\"level=Intermediate Level\",\"x\":0.8824999999999998,\"xanchor\":\"center\",\"xref\":\"paper\",\"y\":1.0,\"yanchor\":\"bottom\",\"yref\":\"paper\"}],\"legend\":{\"title\":{\"text\":\"color\"},\"tracegroupgap\":0},\"title\":{\"text\":\"num_subscribers for each subject regarding to level\"},\"barmode\":\"relative\",\"height\":400},                        {\"responsive\": true}                    ).then(function(){\n",
       "                            \n",
       "var gd = document.getElementById('1af6189a-c94e-41c8-9c52-e9d18e650959');\n",
       "var x = new MutationObserver(function (mutations, observer) {{\n",
       "        var display = window.getComputedStyle(gd).display;\n",
       "        if (!display || display === 'none') {{\n",
       "            console.log([gd, 'removed!']);\n",
       "            Plotly.purge(gd);\n",
       "            observer.disconnect();\n",
       "        }}\n",
       "}});\n",
       "\n",
       "// Listen for the removal of the full notebook cells\n",
       "var notebookContainer = gd.closest('#notebook-container');\n",
       "if (notebookContainer) {{\n",
       "    x.observe(notebookContainer, {childList: true});\n",
       "}}\n",
       "\n",
       "// Listen for the clearing of the current output cell\n",
       "var outputEl = gd.closest('.output');\n",
       "if (outputEl) {{\n",
       "    x.observe(outputEl, {childList: true});\n",
       "}}\n",
       "\n",
       "                        })                };                });            </script>        </div>"
      ]
     },
     "metadata": {},
     "output_type": "display_data"
    }
   ],
   "source": [
    "# visualizing data result\n",
    "\n",
    "chart_title= 'num_subscribers for each subject regarding to level'\n",
    "chart_color= df.pivot_table( index= 'subject', columns= 'level', values= 'num_subscribers', aggfunc= 'sum').index\n",
    "px.bar(df.pivot_table( index= 'subject', columns= 'level', values= 'num_subscribers', aggfunc= 'sum'), color= chart_color, facet_col= 'level', title= chart_title, height= 400)"
   ]
  },
  {
   "cell_type": "markdown",
   "id": "d30fc36f",
   "metadata": {
    "id": "c0JXaSYmZ02n",
    "papermill": {
     "duration": 0.04753,
     "end_time": "2023-07-24T06:44:56.859650",
     "exception": false,
     "start_time": "2023-07-24T06:44:56.812120",
     "status": "completed"
    },
    "tags": []
   },
   "source": [
    "# ***Q: How much AVG price for each subject?***"
   ]
  },
  {
   "cell_type": "code",
   "execution_count": 39,
   "id": "135a43c1",
   "metadata": {
    "execution": {
     "iopub.execute_input": "2023-07-24T06:44:56.957534Z",
     "iopub.status.busy": "2023-07-24T06:44:56.957114Z",
     "iopub.status.idle": "2023-07-24T06:44:56.973909Z",
     "shell.execute_reply": "2023-07-24T06:44:56.972704Z"
    },
    "id": "mViuEPsMZ8VV",
    "outputId": "9570522b-832e-4d1d-f3f3-59b9f55b2ac3",
    "papermill": {
     "duration": 0.068585,
     "end_time": "2023-07-24T06:44:56.976086",
     "exception": false,
     "start_time": "2023-07-24T06:44:56.907501",
     "status": "completed"
    },
    "tags": []
   },
   "outputs": [
    {
     "data": {
      "text/html": [
       "<div>\n",
       "<style scoped>\n",
       "    .dataframe tbody tr th:only-of-type {\n",
       "        vertical-align: middle;\n",
       "    }\n",
       "\n",
       "    .dataframe tbody tr th {\n",
       "        vertical-align: top;\n",
       "    }\n",
       "\n",
       "    .dataframe thead th {\n",
       "        text-align: right;\n",
       "    }\n",
       "</style>\n",
       "<table border=\"1\" class=\"dataframe\">\n",
       "  <thead>\n",
       "    <tr style=\"text-align: right;\">\n",
       "      <th></th>\n",
       "      <th>price</th>\n",
       "    </tr>\n",
       "    <tr>\n",
       "      <th>subject</th>\n",
       "      <th></th>\n",
       "    </tr>\n",
       "  </thead>\n",
       "  <tbody>\n",
       "    <tr>\n",
       "      <th>Web Development</th>\n",
       "      <td>76.512712</td>\n",
       "    </tr>\n",
       "    <tr>\n",
       "      <th>Business Finance</th>\n",
       "      <td>68.735294</td>\n",
       "    </tr>\n",
       "    <tr>\n",
       "      <th>Graphic Design</th>\n",
       "      <td>57.890365</td>\n",
       "    </tr>\n",
       "    <tr>\n",
       "      <th>Musical Instruments</th>\n",
       "      <td>49.410029</td>\n",
       "    </tr>\n",
       "  </tbody>\n",
       "</table>\n",
       "</div>"
      ],
      "text/plain": [
       "                         price\n",
       "subject                       \n",
       "Web Development      76.512712\n",
       "Business Finance     68.735294\n",
       "Graphic Design       57.890365\n",
       "Musical Instruments  49.410029"
      ]
     },
     "execution_count": 39,
     "metadata": {},
     "output_type": "execute_result"
    }
   ],
   "source": [
    "# select data from dataset\n",
    "\n",
    "df[['subject', 'price']].groupby('subject').mean().sort_values(by= 'price', ascending= False)"
   ]
  },
  {
   "cell_type": "code",
   "execution_count": 40,
   "id": "d50f6307",
   "metadata": {
    "execution": {
     "iopub.execute_input": "2023-07-24T06:44:57.074071Z",
     "iopub.status.busy": "2023-07-24T06:44:57.073626Z",
     "iopub.status.idle": "2023-07-24T06:44:57.174685Z",
     "shell.execute_reply": "2023-07-24T06:44:57.173756Z"
    },
    "id": "ncWF7ETIFl28",
    "outputId": "febb3403-4f5d-4e9e-ca7b-8b955eb3afe1",
    "papermill": {
     "duration": 0.152644,
     "end_time": "2023-07-24T06:44:57.176904",
     "exception": false,
     "start_time": "2023-07-24T06:44:57.024260",
     "status": "completed"
    },
    "tags": []
   },
   "outputs": [
    {
     "data": {
      "text/html": [
       "<div>                            <div id=\"bb9f2c50-0741-48f2-8850-598557252c35\" class=\"plotly-graph-div\" style=\"height:400px; width:600px;\"></div>            <script type=\"text/javascript\">                require([\"plotly\"], function(Plotly) {                    window.PLOTLYENV=window.PLOTLYENV || {};                                    if (document.getElementById(\"bb9f2c50-0741-48f2-8850-598557252c35\")) {                    Plotly.newPlot(                        \"bb9f2c50-0741-48f2-8850-598557252c35\",                        [{\"alignmentgroup\":\"True\",\"hovertemplate\":\"color=Web Development\\u003cbr\\u003esubject=%{x}\\u003cbr\\u003evalue=%{y}\\u003cextra\\u003e\\u003c\\u002fextra\\u003e\",\"legendgroup\":\"Web Development\",\"marker\":{\"color\":\"#636efa\",\"pattern\":{\"shape\":\"\"}},\"name\":\"Web Development\",\"offsetgroup\":\"Web Development\",\"orientation\":\"v\",\"showlegend\":true,\"textposition\":\"auto\",\"x\":[\"Web Development\"],\"xaxis\":\"x\",\"y\":[76.51271186440678],\"yaxis\":\"y\",\"type\":\"bar\"},{\"alignmentgroup\":\"True\",\"hovertemplate\":\"color=Business Finance\\u003cbr\\u003esubject=%{x}\\u003cbr\\u003evalue=%{y}\\u003cextra\\u003e\\u003c\\u002fextra\\u003e\",\"legendgroup\":\"Business Finance\",\"marker\":{\"color\":\"#EF553B\",\"pattern\":{\"shape\":\"\"}},\"name\":\"Business Finance\",\"offsetgroup\":\"Business Finance\",\"orientation\":\"v\",\"showlegend\":true,\"textposition\":\"auto\",\"x\":[\"Business Finance\"],\"xaxis\":\"x\",\"y\":[68.73529411764706],\"yaxis\":\"y\",\"type\":\"bar\"},{\"alignmentgroup\":\"True\",\"hovertemplate\":\"color=Graphic Design\\u003cbr\\u003esubject=%{x}\\u003cbr\\u003evalue=%{y}\\u003cextra\\u003e\\u003c\\u002fextra\\u003e\",\"legendgroup\":\"Graphic Design\",\"marker\":{\"color\":\"#00cc96\",\"pattern\":{\"shape\":\"\"}},\"name\":\"Graphic Design\",\"offsetgroup\":\"Graphic Design\",\"orientation\":\"v\",\"showlegend\":true,\"textposition\":\"auto\",\"x\":[\"Graphic Design\"],\"xaxis\":\"x\",\"y\":[57.89036544850498],\"yaxis\":\"y\",\"type\":\"bar\"},{\"alignmentgroup\":\"True\",\"hovertemplate\":\"color=Musical Instruments\\u003cbr\\u003esubject=%{x}\\u003cbr\\u003evalue=%{y}\\u003cextra\\u003e\\u003c\\u002fextra\\u003e\",\"legendgroup\":\"Musical Instruments\",\"marker\":{\"color\":\"#ab63fa\",\"pattern\":{\"shape\":\"\"}},\"name\":\"Musical Instruments\",\"offsetgroup\":\"Musical Instruments\",\"orientation\":\"v\",\"showlegend\":true,\"textposition\":\"auto\",\"x\":[\"Musical Instruments\"],\"xaxis\":\"x\",\"y\":[49.41002949852508],\"yaxis\":\"y\",\"type\":\"bar\"}],                        {\"template\":{\"data\":{\"histogram2dcontour\":[{\"type\":\"histogram2dcontour\",\"colorbar\":{\"outlinewidth\":0,\"ticks\":\"\"},\"colorscale\":[[0.0,\"#0d0887\"],[0.1111111111111111,\"#46039f\"],[0.2222222222222222,\"#7201a8\"],[0.3333333333333333,\"#9c179e\"],[0.4444444444444444,\"#bd3786\"],[0.5555555555555556,\"#d8576b\"],[0.6666666666666666,\"#ed7953\"],[0.7777777777777778,\"#fb9f3a\"],[0.8888888888888888,\"#fdca26\"],[1.0,\"#f0f921\"]]}],\"choropleth\":[{\"type\":\"choropleth\",\"colorbar\":{\"outlinewidth\":0,\"ticks\":\"\"}}],\"histogram2d\":[{\"type\":\"histogram2d\",\"colorbar\":{\"outlinewidth\":0,\"ticks\":\"\"},\"colorscale\":[[0.0,\"#0d0887\"],[0.1111111111111111,\"#46039f\"],[0.2222222222222222,\"#7201a8\"],[0.3333333333333333,\"#9c179e\"],[0.4444444444444444,\"#bd3786\"],[0.5555555555555556,\"#d8576b\"],[0.6666666666666666,\"#ed7953\"],[0.7777777777777778,\"#fb9f3a\"],[0.8888888888888888,\"#fdca26\"],[1.0,\"#f0f921\"]]}],\"heatmap\":[{\"type\":\"heatmap\",\"colorbar\":{\"outlinewidth\":0,\"ticks\":\"\"},\"colorscale\":[[0.0,\"#0d0887\"],[0.1111111111111111,\"#46039f\"],[0.2222222222222222,\"#7201a8\"],[0.3333333333333333,\"#9c179e\"],[0.4444444444444444,\"#bd3786\"],[0.5555555555555556,\"#d8576b\"],[0.6666666666666666,\"#ed7953\"],[0.7777777777777778,\"#fb9f3a\"],[0.8888888888888888,\"#fdca26\"],[1.0,\"#f0f921\"]]}],\"heatmapgl\":[{\"type\":\"heatmapgl\",\"colorbar\":{\"outlinewidth\":0,\"ticks\":\"\"},\"colorscale\":[[0.0,\"#0d0887\"],[0.1111111111111111,\"#46039f\"],[0.2222222222222222,\"#7201a8\"],[0.3333333333333333,\"#9c179e\"],[0.4444444444444444,\"#bd3786\"],[0.5555555555555556,\"#d8576b\"],[0.6666666666666666,\"#ed7953\"],[0.7777777777777778,\"#fb9f3a\"],[0.8888888888888888,\"#fdca26\"],[1.0,\"#f0f921\"]]}],\"contourcarpet\":[{\"type\":\"contourcarpet\",\"colorbar\":{\"outlinewidth\":0,\"ticks\":\"\"}}],\"contour\":[{\"type\":\"contour\",\"colorbar\":{\"outlinewidth\":0,\"ticks\":\"\"},\"colorscale\":[[0.0,\"#0d0887\"],[0.1111111111111111,\"#46039f\"],[0.2222222222222222,\"#7201a8\"],[0.3333333333333333,\"#9c179e\"],[0.4444444444444444,\"#bd3786\"],[0.5555555555555556,\"#d8576b\"],[0.6666666666666666,\"#ed7953\"],[0.7777777777777778,\"#fb9f3a\"],[0.8888888888888888,\"#fdca26\"],[1.0,\"#f0f921\"]]}],\"surface\":[{\"type\":\"surface\",\"colorbar\":{\"outlinewidth\":0,\"ticks\":\"\"},\"colorscale\":[[0.0,\"#0d0887\"],[0.1111111111111111,\"#46039f\"],[0.2222222222222222,\"#7201a8\"],[0.3333333333333333,\"#9c179e\"],[0.4444444444444444,\"#bd3786\"],[0.5555555555555556,\"#d8576b\"],[0.6666666666666666,\"#ed7953\"],[0.7777777777777778,\"#fb9f3a\"],[0.8888888888888888,\"#fdca26\"],[1.0,\"#f0f921\"]]}],\"mesh3d\":[{\"type\":\"mesh3d\",\"colorbar\":{\"outlinewidth\":0,\"ticks\":\"\"}}],\"scatter\":[{\"fillpattern\":{\"fillmode\":\"overlay\",\"size\":10,\"solidity\":0.2},\"type\":\"scatter\"}],\"parcoords\":[{\"type\":\"parcoords\",\"line\":{\"colorbar\":{\"outlinewidth\":0,\"ticks\":\"\"}}}],\"scatterpolargl\":[{\"type\":\"scatterpolargl\",\"marker\":{\"colorbar\":{\"outlinewidth\":0,\"ticks\":\"\"}}}],\"bar\":[{\"error_x\":{\"color\":\"#2a3f5f\"},\"error_y\":{\"color\":\"#2a3f5f\"},\"marker\":{\"line\":{\"color\":\"#E5ECF6\",\"width\":0.5},\"pattern\":{\"fillmode\":\"overlay\",\"size\":10,\"solidity\":0.2}},\"type\":\"bar\"}],\"scattergeo\":[{\"type\":\"scattergeo\",\"marker\":{\"colorbar\":{\"outlinewidth\":0,\"ticks\":\"\"}}}],\"scatterpolar\":[{\"type\":\"scatterpolar\",\"marker\":{\"colorbar\":{\"outlinewidth\":0,\"ticks\":\"\"}}}],\"histogram\":[{\"marker\":{\"pattern\":{\"fillmode\":\"overlay\",\"size\":10,\"solidity\":0.2}},\"type\":\"histogram\"}],\"scattergl\":[{\"type\":\"scattergl\",\"marker\":{\"colorbar\":{\"outlinewidth\":0,\"ticks\":\"\"}}}],\"scatter3d\":[{\"type\":\"scatter3d\",\"line\":{\"colorbar\":{\"outlinewidth\":0,\"ticks\":\"\"}},\"marker\":{\"colorbar\":{\"outlinewidth\":0,\"ticks\":\"\"}}}],\"scattermapbox\":[{\"type\":\"scattermapbox\",\"marker\":{\"colorbar\":{\"outlinewidth\":0,\"ticks\":\"\"}}}],\"scatterternary\":[{\"type\":\"scatterternary\",\"marker\":{\"colorbar\":{\"outlinewidth\":0,\"ticks\":\"\"}}}],\"scattercarpet\":[{\"type\":\"scattercarpet\",\"marker\":{\"colorbar\":{\"outlinewidth\":0,\"ticks\":\"\"}}}],\"carpet\":[{\"aaxis\":{\"endlinecolor\":\"#2a3f5f\",\"gridcolor\":\"white\",\"linecolor\":\"white\",\"minorgridcolor\":\"white\",\"startlinecolor\":\"#2a3f5f\"},\"baxis\":{\"endlinecolor\":\"#2a3f5f\",\"gridcolor\":\"white\",\"linecolor\":\"white\",\"minorgridcolor\":\"white\",\"startlinecolor\":\"#2a3f5f\"},\"type\":\"carpet\"}],\"table\":[{\"cells\":{\"fill\":{\"color\":\"#EBF0F8\"},\"line\":{\"color\":\"white\"}},\"header\":{\"fill\":{\"color\":\"#C8D4E3\"},\"line\":{\"color\":\"white\"}},\"type\":\"table\"}],\"barpolar\":[{\"marker\":{\"line\":{\"color\":\"#E5ECF6\",\"width\":0.5},\"pattern\":{\"fillmode\":\"overlay\",\"size\":10,\"solidity\":0.2}},\"type\":\"barpolar\"}],\"pie\":[{\"automargin\":true,\"type\":\"pie\"}]},\"layout\":{\"autotypenumbers\":\"strict\",\"colorway\":[\"#636efa\",\"#EF553B\",\"#00cc96\",\"#ab63fa\",\"#FFA15A\",\"#19d3f3\",\"#FF6692\",\"#B6E880\",\"#FF97FF\",\"#FECB52\"],\"font\":{\"color\":\"#2a3f5f\"},\"hovermode\":\"closest\",\"hoverlabel\":{\"align\":\"left\"},\"paper_bgcolor\":\"white\",\"plot_bgcolor\":\"#E5ECF6\",\"polar\":{\"bgcolor\":\"#E5ECF6\",\"angularaxis\":{\"gridcolor\":\"white\",\"linecolor\":\"white\",\"ticks\":\"\"},\"radialaxis\":{\"gridcolor\":\"white\",\"linecolor\":\"white\",\"ticks\":\"\"}},\"ternary\":{\"bgcolor\":\"#E5ECF6\",\"aaxis\":{\"gridcolor\":\"white\",\"linecolor\":\"white\",\"ticks\":\"\"},\"baxis\":{\"gridcolor\":\"white\",\"linecolor\":\"white\",\"ticks\":\"\"},\"caxis\":{\"gridcolor\":\"white\",\"linecolor\":\"white\",\"ticks\":\"\"}},\"coloraxis\":{\"colorbar\":{\"outlinewidth\":0,\"ticks\":\"\"}},\"colorscale\":{\"sequential\":[[0.0,\"#0d0887\"],[0.1111111111111111,\"#46039f\"],[0.2222222222222222,\"#7201a8\"],[0.3333333333333333,\"#9c179e\"],[0.4444444444444444,\"#bd3786\"],[0.5555555555555556,\"#d8576b\"],[0.6666666666666666,\"#ed7953\"],[0.7777777777777778,\"#fb9f3a\"],[0.8888888888888888,\"#fdca26\"],[1.0,\"#f0f921\"]],\"sequentialminus\":[[0.0,\"#0d0887\"],[0.1111111111111111,\"#46039f\"],[0.2222222222222222,\"#7201a8\"],[0.3333333333333333,\"#9c179e\"],[0.4444444444444444,\"#bd3786\"],[0.5555555555555556,\"#d8576b\"],[0.6666666666666666,\"#ed7953\"],[0.7777777777777778,\"#fb9f3a\"],[0.8888888888888888,\"#fdca26\"],[1.0,\"#f0f921\"]],\"diverging\":[[0,\"#8e0152\"],[0.1,\"#c51b7d\"],[0.2,\"#de77ae\"],[0.3,\"#f1b6da\"],[0.4,\"#fde0ef\"],[0.5,\"#f7f7f7\"],[0.6,\"#e6f5d0\"],[0.7,\"#b8e186\"],[0.8,\"#7fbc41\"],[0.9,\"#4d9221\"],[1,\"#276419\"]]},\"xaxis\":{\"gridcolor\":\"white\",\"linecolor\":\"white\",\"ticks\":\"\",\"title\":{\"standoff\":15},\"zerolinecolor\":\"white\",\"automargin\":true,\"zerolinewidth\":2},\"yaxis\":{\"gridcolor\":\"white\",\"linecolor\":\"white\",\"ticks\":\"\",\"title\":{\"standoff\":15},\"zerolinecolor\":\"white\",\"automargin\":true,\"zerolinewidth\":2},\"scene\":{\"xaxis\":{\"backgroundcolor\":\"#E5ECF6\",\"gridcolor\":\"white\",\"linecolor\":\"white\",\"showbackground\":true,\"ticks\":\"\",\"zerolinecolor\":\"white\",\"gridwidth\":2},\"yaxis\":{\"backgroundcolor\":\"#E5ECF6\",\"gridcolor\":\"white\",\"linecolor\":\"white\",\"showbackground\":true,\"ticks\":\"\",\"zerolinecolor\":\"white\",\"gridwidth\":2},\"zaxis\":{\"backgroundcolor\":\"#E5ECF6\",\"gridcolor\":\"white\",\"linecolor\":\"white\",\"showbackground\":true,\"ticks\":\"\",\"zerolinecolor\":\"white\",\"gridwidth\":2}},\"shapedefaults\":{\"line\":{\"color\":\"#2a3f5f\"}},\"annotationdefaults\":{\"arrowcolor\":\"#2a3f5f\",\"arrowhead\":0,\"arrowwidth\":1},\"geo\":{\"bgcolor\":\"white\",\"landcolor\":\"#E5ECF6\",\"subunitcolor\":\"white\",\"showland\":true,\"showlakes\":true,\"lakecolor\":\"white\"},\"title\":{\"x\":0.05},\"mapbox\":{\"style\":\"light\"}}},\"xaxis\":{\"anchor\":\"y\",\"domain\":[0.0,1.0],\"title\":{\"text\":\"subject\"}},\"yaxis\":{\"anchor\":\"x\",\"domain\":[0.0,1.0],\"title\":{\"text\":\"value\"}},\"legend\":{\"title\":{\"text\":\"color\"},\"tracegroupgap\":0},\"title\":{\"text\":\"AVG price for each subject\"},\"barmode\":\"relative\",\"height\":400,\"width\":600},                        {\"responsive\": true}                    ).then(function(){\n",
       "                            \n",
       "var gd = document.getElementById('bb9f2c50-0741-48f2-8850-598557252c35');\n",
       "var x = new MutationObserver(function (mutations, observer) {{\n",
       "        var display = window.getComputedStyle(gd).display;\n",
       "        if (!display || display === 'none') {{\n",
       "            console.log([gd, 'removed!']);\n",
       "            Plotly.purge(gd);\n",
       "            observer.disconnect();\n",
       "        }}\n",
       "}});\n",
       "\n",
       "// Listen for the removal of the full notebook cells\n",
       "var notebookContainer = gd.closest('#notebook-container');\n",
       "if (notebookContainer) {{\n",
       "    x.observe(notebookContainer, {childList: true});\n",
       "}}\n",
       "\n",
       "// Listen for the clearing of the current output cell\n",
       "var outputEl = gd.closest('.output');\n",
       "if (outputEl) {{\n",
       "    x.observe(outputEl, {childList: true});\n",
       "}}\n",
       "\n",
       "                        })                };                });            </script>        </div>"
      ]
     },
     "metadata": {},
     "output_type": "display_data"
    }
   ],
   "source": [
    "# visualizing data result\n",
    "\n",
    "chart_title= 'AVG price for each subject'\n",
    "chart_color= df[['subject', 'price']].groupby('subject').mean().sort_values(by= 'price', ascending= False).index\n",
    "px.bar(df[['subject', 'price']].groupby('subject').mean().sort_values(by= 'price', ascending= False), color= chart_color, title= chart_title, height= 400, width= 600)"
   ]
  },
  {
   "cell_type": "markdown",
   "id": "e94fd3eb",
   "metadata": {
    "id": "czJFww_0fAuR",
    "papermill": {
     "duration": 0.048618,
     "end_time": "2023-07-24T06:44:57.276022",
     "exception": false,
     "start_time": "2023-07-24T06:44:57.227404",
     "status": "completed"
    },
    "tags": []
   },
   "source": [
    "# ***Q: How much AVG price for each subject regarding to level?***"
   ]
  },
  {
   "cell_type": "code",
   "execution_count": 41,
   "id": "7135d8cc",
   "metadata": {
    "execution": {
     "iopub.execute_input": "2023-07-24T06:44:57.374276Z",
     "iopub.status.busy": "2023-07-24T06:44:57.373157Z",
     "iopub.status.idle": "2023-07-24T06:44:57.391215Z",
     "shell.execute_reply": "2023-07-24T06:44:57.389874Z"
    },
    "id": "nr70skVUfJBb",
    "outputId": "544ee0e9-ba98-4dc7-a483-41fe0fa68adc",
    "papermill": {
     "duration": 0.069661,
     "end_time": "2023-07-24T06:44:57.393608",
     "exception": false,
     "start_time": "2023-07-24T06:44:57.323947",
     "status": "completed"
    },
    "tags": []
   },
   "outputs": [
    {
     "data": {
      "text/html": [
       "<div>\n",
       "<style scoped>\n",
       "    .dataframe tbody tr th:only-of-type {\n",
       "        vertical-align: middle;\n",
       "    }\n",
       "\n",
       "    .dataframe tbody tr th {\n",
       "        vertical-align: top;\n",
       "    }\n",
       "\n",
       "    .dataframe thead th {\n",
       "        text-align: right;\n",
       "    }\n",
       "</style>\n",
       "<table border=\"1\" class=\"dataframe\">\n",
       "  <thead>\n",
       "    <tr style=\"text-align: right;\">\n",
       "      <th></th>\n",
       "      <th></th>\n",
       "      <th>price</th>\n",
       "    </tr>\n",
       "    <tr>\n",
       "      <th>subject</th>\n",
       "      <th>level</th>\n",
       "      <th></th>\n",
       "    </tr>\n",
       "  </thead>\n",
       "  <tbody>\n",
       "    <tr>\n",
       "      <th rowspan=\"4\" valign=\"top\">Business Finance</th>\n",
       "      <th>All Levels</th>\n",
       "      <td>75.484104</td>\n",
       "    </tr>\n",
       "    <tr>\n",
       "      <th>Beginner Level</th>\n",
       "      <td>53.480826</td>\n",
       "    </tr>\n",
       "    <tr>\n",
       "      <th>Expert Level</th>\n",
       "      <td>95.967742</td>\n",
       "    </tr>\n",
       "    <tr>\n",
       "      <th>Intermediate Level</th>\n",
       "      <td>66.054688</td>\n",
       "    </tr>\n",
       "    <tr>\n",
       "      <th rowspan=\"4\" valign=\"top\">Graphic Design</th>\n",
       "      <th>All Levels</th>\n",
       "      <td>62.701342</td>\n",
       "    </tr>\n",
       "    <tr>\n",
       "      <th>Beginner Level</th>\n",
       "      <td>53.615702</td>\n",
       "    </tr>\n",
       "    <tr>\n",
       "      <th>Expert Level</th>\n",
       "      <td>70.000000</td>\n",
       "    </tr>\n",
       "    <tr>\n",
       "      <th>Intermediate Level</th>\n",
       "      <td>49.824561</td>\n",
       "    </tr>\n",
       "    <tr>\n",
       "      <th rowspan=\"4\" valign=\"top\">Musical Instruments</th>\n",
       "      <th>All Levels</th>\n",
       "      <td>55.454545</td>\n",
       "    </tr>\n",
       "    <tr>\n",
       "      <th>Beginner Level</th>\n",
       "      <td>43.525424</td>\n",
       "    </tr>\n",
       "    <tr>\n",
       "      <th>Expert Level</th>\n",
       "      <td>36.428571</td>\n",
       "    </tr>\n",
       "    <tr>\n",
       "      <th>Intermediate Level</th>\n",
       "      <td>51.039604</td>\n",
       "    </tr>\n",
       "    <tr>\n",
       "      <th rowspan=\"4\" valign=\"top\">Web Development</th>\n",
       "      <th>All Levels</th>\n",
       "      <td>81.539658</td>\n",
       "    </tr>\n",
       "    <tr>\n",
       "      <th>Beginner Level</th>\n",
       "      <td>68.552972</td>\n",
       "    </tr>\n",
       "    <tr>\n",
       "      <th>Expert Level</th>\n",
       "      <td>113.666667</td>\n",
       "    </tr>\n",
       "    <tr>\n",
       "      <th>Intermediate Level</th>\n",
       "      <td>71.259259</td>\n",
       "    </tr>\n",
       "  </tbody>\n",
       "</table>\n",
       "</div>"
      ],
      "text/plain": [
       "                                             price\n",
       "subject             level                         \n",
       "Business Finance    All Levels           75.484104\n",
       "                    Beginner Level       53.480826\n",
       "                    Expert Level         95.967742\n",
       "                    Intermediate Level   66.054688\n",
       "Graphic Design      All Levels           62.701342\n",
       "                    Beginner Level       53.615702\n",
       "                    Expert Level         70.000000\n",
       "                    Intermediate Level   49.824561\n",
       "Musical Instruments All Levels           55.454545\n",
       "                    Beginner Level       43.525424\n",
       "                    Expert Level         36.428571\n",
       "                    Intermediate Level   51.039604\n",
       "Web Development     All Levels           81.539658\n",
       "                    Beginner Level       68.552972\n",
       "                    Expert Level        113.666667\n",
       "                    Intermediate Level   71.259259"
      ]
     },
     "execution_count": 41,
     "metadata": {},
     "output_type": "execute_result"
    }
   ],
   "source": [
    "# select data from dataset\n",
    "\n",
    "df[['subject', 'level', 'price']].groupby(['subject', 'level']).mean()"
   ]
  },
  {
   "cell_type": "code",
   "execution_count": 42,
   "id": "a817fb5a",
   "metadata": {
    "execution": {
     "iopub.execute_input": "2023-07-24T06:44:57.494236Z",
     "iopub.status.busy": "2023-07-24T06:44:57.493850Z",
     "iopub.status.idle": "2023-07-24T06:44:57.516237Z",
     "shell.execute_reply": "2023-07-24T06:44:57.515085Z"
    },
    "id": "ki20k3rNfeoy",
    "outputId": "f0130d0d-1d6f-4d17-d156-ce19f312a4fb",
    "papermill": {
     "duration": 0.075203,
     "end_time": "2023-07-24T06:44:57.518632",
     "exception": false,
     "start_time": "2023-07-24T06:44:57.443429",
     "status": "completed"
    },
    "tags": []
   },
   "outputs": [
    {
     "data": {
      "text/html": [
       "<div>\n",
       "<style scoped>\n",
       "    .dataframe tbody tr th:only-of-type {\n",
       "        vertical-align: middle;\n",
       "    }\n",
       "\n",
       "    .dataframe tbody tr th {\n",
       "        vertical-align: top;\n",
       "    }\n",
       "\n",
       "    .dataframe thead th {\n",
       "        text-align: right;\n",
       "    }\n",
       "</style>\n",
       "<table border=\"1\" class=\"dataframe\">\n",
       "  <thead>\n",
       "    <tr style=\"text-align: right;\">\n",
       "      <th>level</th>\n",
       "      <th>All Levels</th>\n",
       "      <th>Beginner Level</th>\n",
       "      <th>Expert Level</th>\n",
       "      <th>Intermediate Level</th>\n",
       "    </tr>\n",
       "    <tr>\n",
       "      <th>subject</th>\n",
       "      <th></th>\n",
       "      <th></th>\n",
       "      <th></th>\n",
       "      <th></th>\n",
       "    </tr>\n",
       "  </thead>\n",
       "  <tbody>\n",
       "    <tr>\n",
       "      <th>Business Finance</th>\n",
       "      <td>75.484104</td>\n",
       "      <td>53.480826</td>\n",
       "      <td>95.967742</td>\n",
       "      <td>66.054688</td>\n",
       "    </tr>\n",
       "    <tr>\n",
       "      <th>Graphic Design</th>\n",
       "      <td>62.701342</td>\n",
       "      <td>53.615702</td>\n",
       "      <td>70.000000</td>\n",
       "      <td>49.824561</td>\n",
       "    </tr>\n",
       "    <tr>\n",
       "      <th>Musical Instruments</th>\n",
       "      <td>55.454545</td>\n",
       "      <td>43.525424</td>\n",
       "      <td>36.428571</td>\n",
       "      <td>51.039604</td>\n",
       "    </tr>\n",
       "    <tr>\n",
       "      <th>Web Development</th>\n",
       "      <td>81.539658</td>\n",
       "      <td>68.552972</td>\n",
       "      <td>113.666667</td>\n",
       "      <td>71.259259</td>\n",
       "    </tr>\n",
       "  </tbody>\n",
       "</table>\n",
       "</div>"
      ],
      "text/plain": [
       "level                All Levels  Beginner Level  Expert Level  \\\n",
       "subject                                                         \n",
       "Business Finance      75.484104       53.480826     95.967742   \n",
       "Graphic Design        62.701342       53.615702     70.000000   \n",
       "Musical Instruments   55.454545       43.525424     36.428571   \n",
       "Web Development       81.539658       68.552972    113.666667   \n",
       "\n",
       "level                Intermediate Level  \n",
       "subject                                  \n",
       "Business Finance              66.054688  \n",
       "Graphic Design                49.824561  \n",
       "Musical Instruments           51.039604  \n",
       "Web Development               71.259259  "
      ]
     },
     "execution_count": 42,
     "metadata": {},
     "output_type": "execute_result"
    }
   ],
   "source": [
    "# pivot table for result\n",
    "\n",
    "df.pivot_table(values= 'price', index= 'subject', columns= 'level', aggfunc= 'mean')"
   ]
  },
  {
   "cell_type": "code",
   "execution_count": 43,
   "id": "5ab77d8b",
   "metadata": {
    "execution": {
     "iopub.execute_input": "2023-07-24T06:44:57.619293Z",
     "iopub.status.busy": "2023-07-24T06:44:57.618917Z",
     "iopub.status.idle": "2023-07-24T06:44:57.816113Z",
     "shell.execute_reply": "2023-07-24T06:44:57.814892Z"
    },
    "id": "Mud9MWYFhU5x",
    "outputId": "03067db2-43a8-402f-bbc2-4a8e799fe9ef",
    "papermill": {
     "duration": 0.250982,
     "end_time": "2023-07-24T06:44:57.818730",
     "exception": false,
     "start_time": "2023-07-24T06:44:57.567748",
     "status": "completed"
    },
    "tags": []
   },
   "outputs": [
    {
     "data": {
      "text/html": [
       "<div>                            <div id=\"05dfb4b9-7bf5-4a08-819f-d273d7c1a23f\" class=\"plotly-graph-div\" style=\"height:400px; width:100%;\"></div>            <script type=\"text/javascript\">                require([\"plotly\"], function(Plotly) {                    window.PLOTLYENV=window.PLOTLYENV || {};                                    if (document.getElementById(\"05dfb4b9-7bf5-4a08-819f-d273d7c1a23f\")) {                    Plotly.newPlot(                        \"05dfb4b9-7bf5-4a08-819f-d273d7c1a23f\",                        [{\"alignmentgroup\":\"True\",\"hovertemplate\":\"color=Business Finance\\u003cbr\\u003elevel=All Levels\\u003cbr\\u003esubject=%{x}\\u003cbr\\u003evalue=%{y}\\u003cextra\\u003e\\u003c\\u002fextra\\u003e\",\"legendgroup\":\"Business Finance\",\"marker\":{\"color\":\"#636efa\",\"pattern\":{\"shape\":\"\"}},\"name\":\"Business Finance\",\"offsetgroup\":\"Business Finance\",\"orientation\":\"v\",\"showlegend\":true,\"textposition\":\"auto\",\"x\":[\"Business Finance\"],\"xaxis\":\"x\",\"y\":[75.48410404624278],\"yaxis\":\"y\",\"type\":\"bar\"},{\"alignmentgroup\":\"True\",\"hovertemplate\":\"color=Business Finance\\u003cbr\\u003elevel=Beginner Level\\u003cbr\\u003esubject=%{x}\\u003cbr\\u003evalue=%{y}\\u003cextra\\u003e\\u003c\\u002fextra\\u003e\",\"legendgroup\":\"Business Finance\",\"marker\":{\"color\":\"#636efa\",\"pattern\":{\"shape\":\"\"}},\"name\":\"Business Finance\",\"offsetgroup\":\"Business Finance\",\"orientation\":\"v\",\"showlegend\":false,\"textposition\":\"auto\",\"x\":[\"Business Finance\"],\"xaxis\":\"x2\",\"y\":[53.48082595870206],\"yaxis\":\"y2\",\"type\":\"bar\"},{\"alignmentgroup\":\"True\",\"hovertemplate\":\"color=Business Finance\\u003cbr\\u003elevel=Expert Level\\u003cbr\\u003esubject=%{x}\\u003cbr\\u003evalue=%{y}\\u003cextra\\u003e\\u003c\\u002fextra\\u003e\",\"legendgroup\":\"Business Finance\",\"marker\":{\"color\":\"#636efa\",\"pattern\":{\"shape\":\"\"}},\"name\":\"Business Finance\",\"offsetgroup\":\"Business Finance\",\"orientation\":\"v\",\"showlegend\":false,\"textposition\":\"auto\",\"x\":[\"Business Finance\"],\"xaxis\":\"x3\",\"y\":[95.96774193548387],\"yaxis\":\"y3\",\"type\":\"bar\"},{\"alignmentgroup\":\"True\",\"hovertemplate\":\"color=Business Finance\\u003cbr\\u003elevel=Intermediate Level\\u003cbr\\u003esubject=%{x}\\u003cbr\\u003evalue=%{y}\\u003cextra\\u003e\\u003c\\u002fextra\\u003e\",\"legendgroup\":\"Business Finance\",\"marker\":{\"color\":\"#636efa\",\"pattern\":{\"shape\":\"\"}},\"name\":\"Business Finance\",\"offsetgroup\":\"Business Finance\",\"orientation\":\"v\",\"showlegend\":false,\"textposition\":\"auto\",\"x\":[\"Business Finance\"],\"xaxis\":\"x4\",\"y\":[66.0546875],\"yaxis\":\"y4\",\"type\":\"bar\"},{\"alignmentgroup\":\"True\",\"hovertemplate\":\"color=Graphic Design\\u003cbr\\u003elevel=All Levels\\u003cbr\\u003esubject=%{x}\\u003cbr\\u003evalue=%{y}\\u003cextra\\u003e\\u003c\\u002fextra\\u003e\",\"legendgroup\":\"Graphic Design\",\"marker\":{\"color\":\"#EF553B\",\"pattern\":{\"shape\":\"\"}},\"name\":\"Graphic Design\",\"offsetgroup\":\"Graphic Design\",\"orientation\":\"v\",\"showlegend\":true,\"textposition\":\"auto\",\"x\":[\"Graphic Design\"],\"xaxis\":\"x\",\"y\":[62.70134228187919],\"yaxis\":\"y\",\"type\":\"bar\"},{\"alignmentgroup\":\"True\",\"hovertemplate\":\"color=Graphic Design\\u003cbr\\u003elevel=Beginner Level\\u003cbr\\u003esubject=%{x}\\u003cbr\\u003evalue=%{y}\\u003cextra\\u003e\\u003c\\u002fextra\\u003e\",\"legendgroup\":\"Graphic Design\",\"marker\":{\"color\":\"#EF553B\",\"pattern\":{\"shape\":\"\"}},\"name\":\"Graphic Design\",\"offsetgroup\":\"Graphic Design\",\"orientation\":\"v\",\"showlegend\":false,\"textposition\":\"auto\",\"x\":[\"Graphic Design\"],\"xaxis\":\"x2\",\"y\":[53.61570247933884],\"yaxis\":\"y2\",\"type\":\"bar\"},{\"alignmentgroup\":\"True\",\"hovertemplate\":\"color=Graphic Design\\u003cbr\\u003elevel=Expert Level\\u003cbr\\u003esubject=%{x}\\u003cbr\\u003evalue=%{y}\\u003cextra\\u003e\\u003c\\u002fextra\\u003e\",\"legendgroup\":\"Graphic Design\",\"marker\":{\"color\":\"#EF553B\",\"pattern\":{\"shape\":\"\"}},\"name\":\"Graphic Design\",\"offsetgroup\":\"Graphic Design\",\"orientation\":\"v\",\"showlegend\":false,\"textposition\":\"auto\",\"x\":[\"Graphic Design\"],\"xaxis\":\"x3\",\"y\":[70.0],\"yaxis\":\"y3\",\"type\":\"bar\"},{\"alignmentgroup\":\"True\",\"hovertemplate\":\"color=Graphic Design\\u003cbr\\u003elevel=Intermediate Level\\u003cbr\\u003esubject=%{x}\\u003cbr\\u003evalue=%{y}\\u003cextra\\u003e\\u003c\\u002fextra\\u003e\",\"legendgroup\":\"Graphic Design\",\"marker\":{\"color\":\"#EF553B\",\"pattern\":{\"shape\":\"\"}},\"name\":\"Graphic Design\",\"offsetgroup\":\"Graphic Design\",\"orientation\":\"v\",\"showlegend\":false,\"textposition\":\"auto\",\"x\":[\"Graphic Design\"],\"xaxis\":\"x4\",\"y\":[49.824561403508774],\"yaxis\":\"y4\",\"type\":\"bar\"},{\"alignmentgroup\":\"True\",\"hovertemplate\":\"color=Musical Instruments\\u003cbr\\u003elevel=All Levels\\u003cbr\\u003esubject=%{x}\\u003cbr\\u003evalue=%{y}\\u003cextra\\u003e\\u003c\\u002fextra\\u003e\",\"legendgroup\":\"Musical Instruments\",\"marker\":{\"color\":\"#00cc96\",\"pattern\":{\"shape\":\"\"}},\"name\":\"Musical Instruments\",\"offsetgroup\":\"Musical Instruments\",\"orientation\":\"v\",\"showlegend\":true,\"textposition\":\"auto\",\"x\":[\"Musical Instruments\"],\"xaxis\":\"x\",\"y\":[55.45454545454545],\"yaxis\":\"y\",\"type\":\"bar\"},{\"alignmentgroup\":\"True\",\"hovertemplate\":\"color=Musical Instruments\\u003cbr\\u003elevel=Beginner Level\\u003cbr\\u003esubject=%{x}\\u003cbr\\u003evalue=%{y}\\u003cextra\\u003e\\u003c\\u002fextra\\u003e\",\"legendgroup\":\"Musical Instruments\",\"marker\":{\"color\":\"#00cc96\",\"pattern\":{\"shape\":\"\"}},\"name\":\"Musical Instruments\",\"offsetgroup\":\"Musical Instruments\",\"orientation\":\"v\",\"showlegend\":false,\"textposition\":\"auto\",\"x\":[\"Musical Instruments\"],\"xaxis\":\"x2\",\"y\":[43.52542372881356],\"yaxis\":\"y2\",\"type\":\"bar\"},{\"alignmentgroup\":\"True\",\"hovertemplate\":\"color=Musical Instruments\\u003cbr\\u003elevel=Expert Level\\u003cbr\\u003esubject=%{x}\\u003cbr\\u003evalue=%{y}\\u003cextra\\u003e\\u003c\\u002fextra\\u003e\",\"legendgroup\":\"Musical Instruments\",\"marker\":{\"color\":\"#00cc96\",\"pattern\":{\"shape\":\"\"}},\"name\":\"Musical Instruments\",\"offsetgroup\":\"Musical Instruments\",\"orientation\":\"v\",\"showlegend\":false,\"textposition\":\"auto\",\"x\":[\"Musical Instruments\"],\"xaxis\":\"x3\",\"y\":[36.42857142857143],\"yaxis\":\"y3\",\"type\":\"bar\"},{\"alignmentgroup\":\"True\",\"hovertemplate\":\"color=Musical Instruments\\u003cbr\\u003elevel=Intermediate Level\\u003cbr\\u003esubject=%{x}\\u003cbr\\u003evalue=%{y}\\u003cextra\\u003e\\u003c\\u002fextra\\u003e\",\"legendgroup\":\"Musical Instruments\",\"marker\":{\"color\":\"#00cc96\",\"pattern\":{\"shape\":\"\"}},\"name\":\"Musical Instruments\",\"offsetgroup\":\"Musical Instruments\",\"orientation\":\"v\",\"showlegend\":false,\"textposition\":\"auto\",\"x\":[\"Musical Instruments\"],\"xaxis\":\"x4\",\"y\":[51.039603960396036],\"yaxis\":\"y4\",\"type\":\"bar\"},{\"alignmentgroup\":\"True\",\"hovertemplate\":\"color=Web Development\\u003cbr\\u003elevel=All Levels\\u003cbr\\u003esubject=%{x}\\u003cbr\\u003evalue=%{y}\\u003cextra\\u003e\\u003c\\u002fextra\\u003e\",\"legendgroup\":\"Web Development\",\"marker\":{\"color\":\"#ab63fa\",\"pattern\":{\"shape\":\"\"}},\"name\":\"Web Development\",\"offsetgroup\":\"Web Development\",\"orientation\":\"v\",\"showlegend\":true,\"textposition\":\"auto\",\"x\":[\"Web Development\"],\"xaxis\":\"x\",\"y\":[81.53965785381027],\"yaxis\":\"y\",\"type\":\"bar\"},{\"alignmentgroup\":\"True\",\"hovertemplate\":\"color=Web Development\\u003cbr\\u003elevel=Beginner Level\\u003cbr\\u003esubject=%{x}\\u003cbr\\u003evalue=%{y}\\u003cextra\\u003e\\u003c\\u002fextra\\u003e\",\"legendgroup\":\"Web Development\",\"marker\":{\"color\":\"#ab63fa\",\"pattern\":{\"shape\":\"\"}},\"name\":\"Web Development\",\"offsetgroup\":\"Web Development\",\"orientation\":\"v\",\"showlegend\":false,\"textposition\":\"auto\",\"x\":[\"Web Development\"],\"xaxis\":\"x2\",\"y\":[68.55297157622739],\"yaxis\":\"y2\",\"type\":\"bar\"},{\"alignmentgroup\":\"True\",\"hovertemplate\":\"color=Web Development\\u003cbr\\u003elevel=Expert Level\\u003cbr\\u003esubject=%{x}\\u003cbr\\u003evalue=%{y}\\u003cextra\\u003e\\u003c\\u002fextra\\u003e\",\"legendgroup\":\"Web Development\",\"marker\":{\"color\":\"#ab63fa\",\"pattern\":{\"shape\":\"\"}},\"name\":\"Web Development\",\"offsetgroup\":\"Web Development\",\"orientation\":\"v\",\"showlegend\":false,\"textposition\":\"auto\",\"x\":[\"Web Development\"],\"xaxis\":\"x3\",\"y\":[113.66666666666667],\"yaxis\":\"y3\",\"type\":\"bar\"},{\"alignmentgroup\":\"True\",\"hovertemplate\":\"color=Web Development\\u003cbr\\u003elevel=Intermediate Level\\u003cbr\\u003esubject=%{x}\\u003cbr\\u003evalue=%{y}\\u003cextra\\u003e\\u003c\\u002fextra\\u003e\",\"legendgroup\":\"Web Development\",\"marker\":{\"color\":\"#ab63fa\",\"pattern\":{\"shape\":\"\"}},\"name\":\"Web Development\",\"offsetgroup\":\"Web Development\",\"orientation\":\"v\",\"showlegend\":false,\"textposition\":\"auto\",\"x\":[\"Web Development\"],\"xaxis\":\"x4\",\"y\":[71.25925925925925],\"yaxis\":\"y4\",\"type\":\"bar\"}],                        {\"template\":{\"data\":{\"histogram2dcontour\":[{\"type\":\"histogram2dcontour\",\"colorbar\":{\"outlinewidth\":0,\"ticks\":\"\"},\"colorscale\":[[0.0,\"#0d0887\"],[0.1111111111111111,\"#46039f\"],[0.2222222222222222,\"#7201a8\"],[0.3333333333333333,\"#9c179e\"],[0.4444444444444444,\"#bd3786\"],[0.5555555555555556,\"#d8576b\"],[0.6666666666666666,\"#ed7953\"],[0.7777777777777778,\"#fb9f3a\"],[0.8888888888888888,\"#fdca26\"],[1.0,\"#f0f921\"]]}],\"choropleth\":[{\"type\":\"choropleth\",\"colorbar\":{\"outlinewidth\":0,\"ticks\":\"\"}}],\"histogram2d\":[{\"type\":\"histogram2d\",\"colorbar\":{\"outlinewidth\":0,\"ticks\":\"\"},\"colorscale\":[[0.0,\"#0d0887\"],[0.1111111111111111,\"#46039f\"],[0.2222222222222222,\"#7201a8\"],[0.3333333333333333,\"#9c179e\"],[0.4444444444444444,\"#bd3786\"],[0.5555555555555556,\"#d8576b\"],[0.6666666666666666,\"#ed7953\"],[0.7777777777777778,\"#fb9f3a\"],[0.8888888888888888,\"#fdca26\"],[1.0,\"#f0f921\"]]}],\"heatmap\":[{\"type\":\"heatmap\",\"colorbar\":{\"outlinewidth\":0,\"ticks\":\"\"},\"colorscale\":[[0.0,\"#0d0887\"],[0.1111111111111111,\"#46039f\"],[0.2222222222222222,\"#7201a8\"],[0.3333333333333333,\"#9c179e\"],[0.4444444444444444,\"#bd3786\"],[0.5555555555555556,\"#d8576b\"],[0.6666666666666666,\"#ed7953\"],[0.7777777777777778,\"#fb9f3a\"],[0.8888888888888888,\"#fdca26\"],[1.0,\"#f0f921\"]]}],\"heatmapgl\":[{\"type\":\"heatmapgl\",\"colorbar\":{\"outlinewidth\":0,\"ticks\":\"\"},\"colorscale\":[[0.0,\"#0d0887\"],[0.1111111111111111,\"#46039f\"],[0.2222222222222222,\"#7201a8\"],[0.3333333333333333,\"#9c179e\"],[0.4444444444444444,\"#bd3786\"],[0.5555555555555556,\"#d8576b\"],[0.6666666666666666,\"#ed7953\"],[0.7777777777777778,\"#fb9f3a\"],[0.8888888888888888,\"#fdca26\"],[1.0,\"#f0f921\"]]}],\"contourcarpet\":[{\"type\":\"contourcarpet\",\"colorbar\":{\"outlinewidth\":0,\"ticks\":\"\"}}],\"contour\":[{\"type\":\"contour\",\"colorbar\":{\"outlinewidth\":0,\"ticks\":\"\"},\"colorscale\":[[0.0,\"#0d0887\"],[0.1111111111111111,\"#46039f\"],[0.2222222222222222,\"#7201a8\"],[0.3333333333333333,\"#9c179e\"],[0.4444444444444444,\"#bd3786\"],[0.5555555555555556,\"#d8576b\"],[0.6666666666666666,\"#ed7953\"],[0.7777777777777778,\"#fb9f3a\"],[0.8888888888888888,\"#fdca26\"],[1.0,\"#f0f921\"]]}],\"surface\":[{\"type\":\"surface\",\"colorbar\":{\"outlinewidth\":0,\"ticks\":\"\"},\"colorscale\":[[0.0,\"#0d0887\"],[0.1111111111111111,\"#46039f\"],[0.2222222222222222,\"#7201a8\"],[0.3333333333333333,\"#9c179e\"],[0.4444444444444444,\"#bd3786\"],[0.5555555555555556,\"#d8576b\"],[0.6666666666666666,\"#ed7953\"],[0.7777777777777778,\"#fb9f3a\"],[0.8888888888888888,\"#fdca26\"],[1.0,\"#f0f921\"]]}],\"mesh3d\":[{\"type\":\"mesh3d\",\"colorbar\":{\"outlinewidth\":0,\"ticks\":\"\"}}],\"scatter\":[{\"fillpattern\":{\"fillmode\":\"overlay\",\"size\":10,\"solidity\":0.2},\"type\":\"scatter\"}],\"parcoords\":[{\"type\":\"parcoords\",\"line\":{\"colorbar\":{\"outlinewidth\":0,\"ticks\":\"\"}}}],\"scatterpolargl\":[{\"type\":\"scatterpolargl\",\"marker\":{\"colorbar\":{\"outlinewidth\":0,\"ticks\":\"\"}}}],\"bar\":[{\"error_x\":{\"color\":\"#2a3f5f\"},\"error_y\":{\"color\":\"#2a3f5f\"},\"marker\":{\"line\":{\"color\":\"#E5ECF6\",\"width\":0.5},\"pattern\":{\"fillmode\":\"overlay\",\"size\":10,\"solidity\":0.2}},\"type\":\"bar\"}],\"scattergeo\":[{\"type\":\"scattergeo\",\"marker\":{\"colorbar\":{\"outlinewidth\":0,\"ticks\":\"\"}}}],\"scatterpolar\":[{\"type\":\"scatterpolar\",\"marker\":{\"colorbar\":{\"outlinewidth\":0,\"ticks\":\"\"}}}],\"histogram\":[{\"marker\":{\"pattern\":{\"fillmode\":\"overlay\",\"size\":10,\"solidity\":0.2}},\"type\":\"histogram\"}],\"scattergl\":[{\"type\":\"scattergl\",\"marker\":{\"colorbar\":{\"outlinewidth\":0,\"ticks\":\"\"}}}],\"scatter3d\":[{\"type\":\"scatter3d\",\"line\":{\"colorbar\":{\"outlinewidth\":0,\"ticks\":\"\"}},\"marker\":{\"colorbar\":{\"outlinewidth\":0,\"ticks\":\"\"}}}],\"scattermapbox\":[{\"type\":\"scattermapbox\",\"marker\":{\"colorbar\":{\"outlinewidth\":0,\"ticks\":\"\"}}}],\"scatterternary\":[{\"type\":\"scatterternary\",\"marker\":{\"colorbar\":{\"outlinewidth\":0,\"ticks\":\"\"}}}],\"scattercarpet\":[{\"type\":\"scattercarpet\",\"marker\":{\"colorbar\":{\"outlinewidth\":0,\"ticks\":\"\"}}}],\"carpet\":[{\"aaxis\":{\"endlinecolor\":\"#2a3f5f\",\"gridcolor\":\"white\",\"linecolor\":\"white\",\"minorgridcolor\":\"white\",\"startlinecolor\":\"#2a3f5f\"},\"baxis\":{\"endlinecolor\":\"#2a3f5f\",\"gridcolor\":\"white\",\"linecolor\":\"white\",\"minorgridcolor\":\"white\",\"startlinecolor\":\"#2a3f5f\"},\"type\":\"carpet\"}],\"table\":[{\"cells\":{\"fill\":{\"color\":\"#EBF0F8\"},\"line\":{\"color\":\"white\"}},\"header\":{\"fill\":{\"color\":\"#C8D4E3\"},\"line\":{\"color\":\"white\"}},\"type\":\"table\"}],\"barpolar\":[{\"marker\":{\"line\":{\"color\":\"#E5ECF6\",\"width\":0.5},\"pattern\":{\"fillmode\":\"overlay\",\"size\":10,\"solidity\":0.2}},\"type\":\"barpolar\"}],\"pie\":[{\"automargin\":true,\"type\":\"pie\"}]},\"layout\":{\"autotypenumbers\":\"strict\",\"colorway\":[\"#636efa\",\"#EF553B\",\"#00cc96\",\"#ab63fa\",\"#FFA15A\",\"#19d3f3\",\"#FF6692\",\"#B6E880\",\"#FF97FF\",\"#FECB52\"],\"font\":{\"color\":\"#2a3f5f\"},\"hovermode\":\"closest\",\"hoverlabel\":{\"align\":\"left\"},\"paper_bgcolor\":\"white\",\"plot_bgcolor\":\"#E5ECF6\",\"polar\":{\"bgcolor\":\"#E5ECF6\",\"angularaxis\":{\"gridcolor\":\"white\",\"linecolor\":\"white\",\"ticks\":\"\"},\"radialaxis\":{\"gridcolor\":\"white\",\"linecolor\":\"white\",\"ticks\":\"\"}},\"ternary\":{\"bgcolor\":\"#E5ECF6\",\"aaxis\":{\"gridcolor\":\"white\",\"linecolor\":\"white\",\"ticks\":\"\"},\"baxis\":{\"gridcolor\":\"white\",\"linecolor\":\"white\",\"ticks\":\"\"},\"caxis\":{\"gridcolor\":\"white\",\"linecolor\":\"white\",\"ticks\":\"\"}},\"coloraxis\":{\"colorbar\":{\"outlinewidth\":0,\"ticks\":\"\"}},\"colorscale\":{\"sequential\":[[0.0,\"#0d0887\"],[0.1111111111111111,\"#46039f\"],[0.2222222222222222,\"#7201a8\"],[0.3333333333333333,\"#9c179e\"],[0.4444444444444444,\"#bd3786\"],[0.5555555555555556,\"#d8576b\"],[0.6666666666666666,\"#ed7953\"],[0.7777777777777778,\"#fb9f3a\"],[0.8888888888888888,\"#fdca26\"],[1.0,\"#f0f921\"]],\"sequentialminus\":[[0.0,\"#0d0887\"],[0.1111111111111111,\"#46039f\"],[0.2222222222222222,\"#7201a8\"],[0.3333333333333333,\"#9c179e\"],[0.4444444444444444,\"#bd3786\"],[0.5555555555555556,\"#d8576b\"],[0.6666666666666666,\"#ed7953\"],[0.7777777777777778,\"#fb9f3a\"],[0.8888888888888888,\"#fdca26\"],[1.0,\"#f0f921\"]],\"diverging\":[[0,\"#8e0152\"],[0.1,\"#c51b7d\"],[0.2,\"#de77ae\"],[0.3,\"#f1b6da\"],[0.4,\"#fde0ef\"],[0.5,\"#f7f7f7\"],[0.6,\"#e6f5d0\"],[0.7,\"#b8e186\"],[0.8,\"#7fbc41\"],[0.9,\"#4d9221\"],[1,\"#276419\"]]},\"xaxis\":{\"gridcolor\":\"white\",\"linecolor\":\"white\",\"ticks\":\"\",\"title\":{\"standoff\":15},\"zerolinecolor\":\"white\",\"automargin\":true,\"zerolinewidth\":2},\"yaxis\":{\"gridcolor\":\"white\",\"linecolor\":\"white\",\"ticks\":\"\",\"title\":{\"standoff\":15},\"zerolinecolor\":\"white\",\"automargin\":true,\"zerolinewidth\":2},\"scene\":{\"xaxis\":{\"backgroundcolor\":\"#E5ECF6\",\"gridcolor\":\"white\",\"linecolor\":\"white\",\"showbackground\":true,\"ticks\":\"\",\"zerolinecolor\":\"white\",\"gridwidth\":2},\"yaxis\":{\"backgroundcolor\":\"#E5ECF6\",\"gridcolor\":\"white\",\"linecolor\":\"white\",\"showbackground\":true,\"ticks\":\"\",\"zerolinecolor\":\"white\",\"gridwidth\":2},\"zaxis\":{\"backgroundcolor\":\"#E5ECF6\",\"gridcolor\":\"white\",\"linecolor\":\"white\",\"showbackground\":true,\"ticks\":\"\",\"zerolinecolor\":\"white\",\"gridwidth\":2}},\"shapedefaults\":{\"line\":{\"color\":\"#2a3f5f\"}},\"annotationdefaults\":{\"arrowcolor\":\"#2a3f5f\",\"arrowhead\":0,\"arrowwidth\":1},\"geo\":{\"bgcolor\":\"white\",\"landcolor\":\"#E5ECF6\",\"subunitcolor\":\"white\",\"showland\":true,\"showlakes\":true,\"lakecolor\":\"white\"},\"title\":{\"x\":0.05},\"mapbox\":{\"style\":\"light\"}}},\"xaxis\":{\"anchor\":\"y\",\"domain\":[0.0,0.235],\"title\":{\"text\":\"subject\"}},\"yaxis\":{\"anchor\":\"x\",\"domain\":[0.0,1.0],\"title\":{\"text\":\"value\"}},\"xaxis2\":{\"anchor\":\"y2\",\"domain\":[0.255,0.49],\"matches\":\"x\",\"title\":{\"text\":\"subject\"}},\"yaxis2\":{\"anchor\":\"x2\",\"domain\":[0.0,1.0],\"matches\":\"y\",\"showticklabels\":false},\"xaxis3\":{\"anchor\":\"y3\",\"domain\":[0.51,0.745],\"matches\":\"x\",\"title\":{\"text\":\"subject\"}},\"yaxis3\":{\"anchor\":\"x3\",\"domain\":[0.0,1.0],\"matches\":\"y\",\"showticklabels\":false},\"xaxis4\":{\"anchor\":\"y4\",\"domain\":[0.7649999999999999,0.9999999999999999],\"matches\":\"x\",\"title\":{\"text\":\"subject\"}},\"yaxis4\":{\"anchor\":\"x4\",\"domain\":[0.0,1.0],\"matches\":\"y\",\"showticklabels\":false},\"annotations\":[{\"font\":{},\"showarrow\":false,\"text\":\"level=All Levels\",\"x\":0.1175,\"xanchor\":\"center\",\"xref\":\"paper\",\"y\":1.0,\"yanchor\":\"bottom\",\"yref\":\"paper\"},{\"font\":{},\"showarrow\":false,\"text\":\"level=Beginner Level\",\"x\":0.3725,\"xanchor\":\"center\",\"xref\":\"paper\",\"y\":1.0,\"yanchor\":\"bottom\",\"yref\":\"paper\"},{\"font\":{},\"showarrow\":false,\"text\":\"level=Expert Level\",\"x\":0.6275,\"xanchor\":\"center\",\"xref\":\"paper\",\"y\":1.0,\"yanchor\":\"bottom\",\"yref\":\"paper\"},{\"font\":{},\"showarrow\":false,\"text\":\"level=Intermediate Level\",\"x\":0.8824999999999998,\"xanchor\":\"center\",\"xref\":\"paper\",\"y\":1.0,\"yanchor\":\"bottom\",\"yref\":\"paper\"}],\"legend\":{\"title\":{\"text\":\"color\"},\"tracegroupgap\":0},\"title\":{\"text\":\"AVG price for each subject regarding to level\"},\"barmode\":\"relative\",\"height\":400},                        {\"responsive\": true}                    ).then(function(){\n",
       "                            \n",
       "var gd = document.getElementById('05dfb4b9-7bf5-4a08-819f-d273d7c1a23f');\n",
       "var x = new MutationObserver(function (mutations, observer) {{\n",
       "        var display = window.getComputedStyle(gd).display;\n",
       "        if (!display || display === 'none') {{\n",
       "            console.log([gd, 'removed!']);\n",
       "            Plotly.purge(gd);\n",
       "            observer.disconnect();\n",
       "        }}\n",
       "}});\n",
       "\n",
       "// Listen for the removal of the full notebook cells\n",
       "var notebookContainer = gd.closest('#notebook-container');\n",
       "if (notebookContainer) {{\n",
       "    x.observe(notebookContainer, {childList: true});\n",
       "}}\n",
       "\n",
       "// Listen for the clearing of the current output cell\n",
       "var outputEl = gd.closest('.output');\n",
       "if (outputEl) {{\n",
       "    x.observe(outputEl, {childList: true});\n",
       "}}\n",
       "\n",
       "                        })                };                });            </script>        </div>"
      ]
     },
     "metadata": {},
     "output_type": "display_data"
    }
   ],
   "source": [
    "# visualizing data result\n",
    "\n",
    "chart_title= 'AVG price for each subject regarding to level'\n",
    "chart_color= df.pivot_table(values= 'price', index= 'subject', columns= 'level', aggfunc= 'mean').index\n",
    "px.bar(df.pivot_table(values= 'price', index= 'subject', columns= 'level', aggfunc= 'mean'), color= chart_color, facet_col= 'level', title= chart_title, height= 400)"
   ]
  },
  {
   "cell_type": "markdown",
   "id": "73dd91d1",
   "metadata": {
    "id": "h_dX4n2updBe",
    "papermill": {
     "duration": 0.049665,
     "end_time": "2023-07-24T06:44:57.917887",
     "exception": false,
     "start_time": "2023-07-24T06:44:57.868222",
     "status": "completed"
    },
    "tags": []
   },
   "source": [
    "# Time Series Analysis"
   ]
  },
  {
   "cell_type": "code",
   "execution_count": 44,
   "id": "43949b46",
   "metadata": {
    "execution": {
     "iopub.execute_input": "2023-07-24T06:44:58.019406Z",
     "iopub.status.busy": "2023-07-24T06:44:58.018658Z",
     "iopub.status.idle": "2023-07-24T06:44:58.034335Z",
     "shell.execute_reply": "2023-07-24T06:44:58.033554Z"
    },
    "id": "AMxBYQ04prbo",
    "outputId": "3b792466-f929-4fbe-caa6-79233669a075",
    "papermill": {
     "duration": 0.068658,
     "end_time": "2023-07-24T06:44:58.036459",
     "exception": false,
     "start_time": "2023-07-24T06:44:57.967801",
     "status": "completed"
    },
    "tags": []
   },
   "outputs": [
    {
     "data": {
      "text/html": [
       "<div>\n",
       "<style scoped>\n",
       "    .dataframe tbody tr th:only-of-type {\n",
       "        vertical-align: middle;\n",
       "    }\n",
       "\n",
       "    .dataframe tbody tr th {\n",
       "        vertical-align: top;\n",
       "    }\n",
       "\n",
       "    .dataframe thead th {\n",
       "        text-align: right;\n",
       "    }\n",
       "</style>\n",
       "<table border=\"1\" class=\"dataframe\">\n",
       "  <thead>\n",
       "    <tr style=\"text-align: right;\">\n",
       "      <th></th>\n",
       "      <th>course_id</th>\n",
       "      <th>course_title</th>\n",
       "      <th>url</th>\n",
       "      <th>is_paid</th>\n",
       "      <th>price</th>\n",
       "      <th>num_subscribers</th>\n",
       "      <th>num_reviews</th>\n",
       "      <th>num_lectures</th>\n",
       "      <th>level</th>\n",
       "      <th>content_duration</th>\n",
       "      <th>published_timestamp</th>\n",
       "      <th>subject</th>\n",
       "      <th>profit</th>\n",
       "    </tr>\n",
       "  </thead>\n",
       "  <tbody>\n",
       "    <tr>\n",
       "      <th>0</th>\n",
       "      <td>1070968</td>\n",
       "      <td>Ultimate Investment Banking Course</td>\n",
       "      <td>https://www.udemy.com/ultimate-investment-bank...</td>\n",
       "      <td>True</td>\n",
       "      <td>200</td>\n",
       "      <td>2147</td>\n",
       "      <td>23</td>\n",
       "      <td>51</td>\n",
       "      <td>All Levels</td>\n",
       "      <td>1.5</td>\n",
       "      <td>2017-01-18 20:58:58+00:00</td>\n",
       "      <td>Business Finance</td>\n",
       "      <td>429400</td>\n",
       "    </tr>\n",
       "    <tr>\n",
       "      <th>1</th>\n",
       "      <td>1113822</td>\n",
       "      <td>Complete GST Course &amp; Certification - Grow You...</td>\n",
       "      <td>https://www.udemy.com/goods-and-services-tax/</td>\n",
       "      <td>True</td>\n",
       "      <td>75</td>\n",
       "      <td>2792</td>\n",
       "      <td>923</td>\n",
       "      <td>274</td>\n",
       "      <td>All Levels</td>\n",
       "      <td>39.0</td>\n",
       "      <td>2017-03-09 16:34:20+00:00</td>\n",
       "      <td>Business Finance</td>\n",
       "      <td>209400</td>\n",
       "    </tr>\n",
       "  </tbody>\n",
       "</table>\n",
       "</div>"
      ],
      "text/plain": [
       "   course_id                                       course_title  \\\n",
       "0    1070968                 Ultimate Investment Banking Course   \n",
       "1    1113822  Complete GST Course & Certification - Grow You...   \n",
       "\n",
       "                                                 url  is_paid  price  \\\n",
       "0  https://www.udemy.com/ultimate-investment-bank...     True    200   \n",
       "1      https://www.udemy.com/goods-and-services-tax/     True     75   \n",
       "\n",
       "   num_subscribers  num_reviews  num_lectures       level  content_duration  \\\n",
       "0             2147           23            51  All Levels               1.5   \n",
       "1             2792          923           274  All Levels              39.0   \n",
       "\n",
       "        published_timestamp           subject  profit  \n",
       "0 2017-01-18 20:58:58+00:00  Business Finance  429400  \n",
       "1 2017-03-09 16:34:20+00:00  Business Finance  209400  "
      ]
     },
     "execution_count": 44,
     "metadata": {},
     "output_type": "execute_result"
    }
   ],
   "source": [
    "df.head(2)"
   ]
  },
  {
   "cell_type": "code",
   "execution_count": 45,
   "id": "247de05b",
   "metadata": {
    "execution": {
     "iopub.execute_input": "2023-07-24T06:44:58.138241Z",
     "iopub.status.busy": "2023-07-24T06:44:58.137482Z",
     "iopub.status.idle": "2023-07-24T06:44:58.144521Z",
     "shell.execute_reply": "2023-07-24T06:44:58.143712Z"
    },
    "id": "XOVkx27AqvEt",
    "papermill": {
     "duration": 0.061109,
     "end_time": "2023-07-24T06:44:58.147232",
     "exception": false,
     "start_time": "2023-07-24T06:44:58.086123",
     "status": "completed"
    },
    "tags": []
   },
   "outputs": [],
   "source": [
    "# extract year from date\n",
    "\n",
    "df['year'] = df['published_timestamp'].dt.year"
   ]
  },
  {
   "cell_type": "markdown",
   "id": "23316329",
   "metadata": {
    "id": "TCEv0JHw0xpl",
    "papermill": {
     "duration": 0.050953,
     "end_time": "2023-07-24T06:44:58.247948",
     "exception": false,
     "start_time": "2023-07-24T06:44:58.196995",
     "status": "completed"
    },
    "tags": []
   },
   "source": [
    "# ***Q: How much profit by years?***"
   ]
  },
  {
   "cell_type": "code",
   "execution_count": 46,
   "id": "47e76d72",
   "metadata": {
    "execution": {
     "iopub.execute_input": "2023-07-24T06:44:58.350249Z",
     "iopub.status.busy": "2023-07-24T06:44:58.349823Z",
     "iopub.status.idle": "2023-07-24T06:44:58.363200Z",
     "shell.execute_reply": "2023-07-24T06:44:58.362309Z"
    },
    "id": "BFwD7J3sp0wQ",
    "outputId": "7c484d82-b8fd-454e-e792-61ea8724fc51",
    "papermill": {
     "duration": 0.066701,
     "end_time": "2023-07-24T06:44:58.365409",
     "exception": false,
     "start_time": "2023-07-24T06:44:58.298708",
     "status": "completed"
    },
    "tags": []
   },
   "outputs": [
    {
     "data": {
      "text/html": [
       "<div>\n",
       "<style scoped>\n",
       "    .dataframe tbody tr th:only-of-type {\n",
       "        vertical-align: middle;\n",
       "    }\n",
       "\n",
       "    .dataframe tbody tr th {\n",
       "        vertical-align: top;\n",
       "    }\n",
       "\n",
       "    .dataframe thead th {\n",
       "        text-align: right;\n",
       "    }\n",
       "</style>\n",
       "<table border=\"1\" class=\"dataframe\">\n",
       "  <thead>\n",
       "    <tr style=\"text-align: right;\">\n",
       "      <th></th>\n",
       "      <th>profit</th>\n",
       "    </tr>\n",
       "    <tr>\n",
       "      <th>year</th>\n",
       "      <th></th>\n",
       "    </tr>\n",
       "  </thead>\n",
       "  <tbody>\n",
       "    <tr>\n",
       "      <th>2011</th>\n",
       "      <td>11643420</td>\n",
       "    </tr>\n",
       "    <tr>\n",
       "      <th>2012</th>\n",
       "      <td>11773470</td>\n",
       "    </tr>\n",
       "    <tr>\n",
       "      <th>2013</th>\n",
       "      <td>63224910</td>\n",
       "    </tr>\n",
       "    <tr>\n",
       "      <th>2014</th>\n",
       "      <td>81451070</td>\n",
       "    </tr>\n",
       "    <tr>\n",
       "      <th>2015</th>\n",
       "      <td>247188720</td>\n",
       "    </tr>\n",
       "    <tr>\n",
       "      <th>2016</th>\n",
       "      <td>229777640</td>\n",
       "    </tr>\n",
       "    <tr>\n",
       "      <th>2017</th>\n",
       "      <td>90769600</td>\n",
       "    </tr>\n",
       "  </tbody>\n",
       "</table>\n",
       "</div>"
      ],
      "text/plain": [
       "         profit\n",
       "year           \n",
       "2011   11643420\n",
       "2012   11773470\n",
       "2013   63224910\n",
       "2014   81451070\n",
       "2015  247188720\n",
       "2016  229777640\n",
       "2017   90769600"
      ]
     },
     "execution_count": 46,
     "metadata": {},
     "output_type": "execute_result"
    }
   ],
   "source": [
    "# select data from dataset\n",
    "\n",
    "df[['year', 'profit']].groupby('year').sum()"
   ]
  },
  {
   "cell_type": "code",
   "execution_count": 47,
   "id": "1c112aef",
   "metadata": {
    "execution": {
     "iopub.execute_input": "2023-07-24T06:44:58.468424Z",
     "iopub.status.busy": "2023-07-24T06:44:58.467649Z",
     "iopub.status.idle": "2023-07-24T06:44:58.579236Z",
     "shell.execute_reply": "2023-07-24T06:44:58.577721Z"
    },
    "id": "AtW1_yOhqMN_",
    "outputId": "2e0ddd9b-b8ac-45b1-d6b7-7dd4dafd5315",
    "papermill": {
     "duration": 0.166423,
     "end_time": "2023-07-24T06:44:58.582251",
     "exception": false,
     "start_time": "2023-07-24T06:44:58.415828",
     "status": "completed"
    },
    "tags": []
   },
   "outputs": [
    {
     "data": {
      "text/html": [
       "<div>                            <div id=\"9aa0222f-1673-4749-81da-29a7823f5f9d\" class=\"plotly-graph-div\" style=\"height:400px; width:600px;\"></div>            <script type=\"text/javascript\">                require([\"plotly\"], function(Plotly) {                    window.PLOTLYENV=window.PLOTLYENV || {};                                    if (document.getElementById(\"9aa0222f-1673-4749-81da-29a7823f5f9d\")) {                    Plotly.newPlot(                        \"9aa0222f-1673-4749-81da-29a7823f5f9d\",                        [{\"hovertemplate\":\"variable=profit\\u003cbr\\u003eyear=%{x}\\u003cbr\\u003evalue=%{y}\\u003cextra\\u003e\\u003c\\u002fextra\\u003e\",\"legendgroup\":\"profit\",\"line\":{\"color\":\"#636efa\",\"dash\":\"solid\"},\"marker\":{\"symbol\":\"circle\"},\"mode\":\"lines+markers\",\"name\":\"profit\",\"orientation\":\"v\",\"showlegend\":true,\"x\":[2011,2012,2013,2014,2015,2016,2017],\"xaxis\":\"x\",\"y\":[11643420,11773470,63224910,81451070,247188720,229777640,90769600],\"yaxis\":\"y\",\"type\":\"scatter\"}],                        {\"template\":{\"data\":{\"histogram2dcontour\":[{\"type\":\"histogram2dcontour\",\"colorbar\":{\"outlinewidth\":0,\"ticks\":\"\"},\"colorscale\":[[0.0,\"#0d0887\"],[0.1111111111111111,\"#46039f\"],[0.2222222222222222,\"#7201a8\"],[0.3333333333333333,\"#9c179e\"],[0.4444444444444444,\"#bd3786\"],[0.5555555555555556,\"#d8576b\"],[0.6666666666666666,\"#ed7953\"],[0.7777777777777778,\"#fb9f3a\"],[0.8888888888888888,\"#fdca26\"],[1.0,\"#f0f921\"]]}],\"choropleth\":[{\"type\":\"choropleth\",\"colorbar\":{\"outlinewidth\":0,\"ticks\":\"\"}}],\"histogram2d\":[{\"type\":\"histogram2d\",\"colorbar\":{\"outlinewidth\":0,\"ticks\":\"\"},\"colorscale\":[[0.0,\"#0d0887\"],[0.1111111111111111,\"#46039f\"],[0.2222222222222222,\"#7201a8\"],[0.3333333333333333,\"#9c179e\"],[0.4444444444444444,\"#bd3786\"],[0.5555555555555556,\"#d8576b\"],[0.6666666666666666,\"#ed7953\"],[0.7777777777777778,\"#fb9f3a\"],[0.8888888888888888,\"#fdca26\"],[1.0,\"#f0f921\"]]}],\"heatmap\":[{\"type\":\"heatmap\",\"colorbar\":{\"outlinewidth\":0,\"ticks\":\"\"},\"colorscale\":[[0.0,\"#0d0887\"],[0.1111111111111111,\"#46039f\"],[0.2222222222222222,\"#7201a8\"],[0.3333333333333333,\"#9c179e\"],[0.4444444444444444,\"#bd3786\"],[0.5555555555555556,\"#d8576b\"],[0.6666666666666666,\"#ed7953\"],[0.7777777777777778,\"#fb9f3a\"],[0.8888888888888888,\"#fdca26\"],[1.0,\"#f0f921\"]]}],\"heatmapgl\":[{\"type\":\"heatmapgl\",\"colorbar\":{\"outlinewidth\":0,\"ticks\":\"\"},\"colorscale\":[[0.0,\"#0d0887\"],[0.1111111111111111,\"#46039f\"],[0.2222222222222222,\"#7201a8\"],[0.3333333333333333,\"#9c179e\"],[0.4444444444444444,\"#bd3786\"],[0.5555555555555556,\"#d8576b\"],[0.6666666666666666,\"#ed7953\"],[0.7777777777777778,\"#fb9f3a\"],[0.8888888888888888,\"#fdca26\"],[1.0,\"#f0f921\"]]}],\"contourcarpet\":[{\"type\":\"contourcarpet\",\"colorbar\":{\"outlinewidth\":0,\"ticks\":\"\"}}],\"contour\":[{\"type\":\"contour\",\"colorbar\":{\"outlinewidth\":0,\"ticks\":\"\"},\"colorscale\":[[0.0,\"#0d0887\"],[0.1111111111111111,\"#46039f\"],[0.2222222222222222,\"#7201a8\"],[0.3333333333333333,\"#9c179e\"],[0.4444444444444444,\"#bd3786\"],[0.5555555555555556,\"#d8576b\"],[0.6666666666666666,\"#ed7953\"],[0.7777777777777778,\"#fb9f3a\"],[0.8888888888888888,\"#fdca26\"],[1.0,\"#f0f921\"]]}],\"surface\":[{\"type\":\"surface\",\"colorbar\":{\"outlinewidth\":0,\"ticks\":\"\"},\"colorscale\":[[0.0,\"#0d0887\"],[0.1111111111111111,\"#46039f\"],[0.2222222222222222,\"#7201a8\"],[0.3333333333333333,\"#9c179e\"],[0.4444444444444444,\"#bd3786\"],[0.5555555555555556,\"#d8576b\"],[0.6666666666666666,\"#ed7953\"],[0.7777777777777778,\"#fb9f3a\"],[0.8888888888888888,\"#fdca26\"],[1.0,\"#f0f921\"]]}],\"mesh3d\":[{\"type\":\"mesh3d\",\"colorbar\":{\"outlinewidth\":0,\"ticks\":\"\"}}],\"scatter\":[{\"fillpattern\":{\"fillmode\":\"overlay\",\"size\":10,\"solidity\":0.2},\"type\":\"scatter\"}],\"parcoords\":[{\"type\":\"parcoords\",\"line\":{\"colorbar\":{\"outlinewidth\":0,\"ticks\":\"\"}}}],\"scatterpolargl\":[{\"type\":\"scatterpolargl\",\"marker\":{\"colorbar\":{\"outlinewidth\":0,\"ticks\":\"\"}}}],\"bar\":[{\"error_x\":{\"color\":\"#2a3f5f\"},\"error_y\":{\"color\":\"#2a3f5f\"},\"marker\":{\"line\":{\"color\":\"#E5ECF6\",\"width\":0.5},\"pattern\":{\"fillmode\":\"overlay\",\"size\":10,\"solidity\":0.2}},\"type\":\"bar\"}],\"scattergeo\":[{\"type\":\"scattergeo\",\"marker\":{\"colorbar\":{\"outlinewidth\":0,\"ticks\":\"\"}}}],\"scatterpolar\":[{\"type\":\"scatterpolar\",\"marker\":{\"colorbar\":{\"outlinewidth\":0,\"ticks\":\"\"}}}],\"histogram\":[{\"marker\":{\"pattern\":{\"fillmode\":\"overlay\",\"size\":10,\"solidity\":0.2}},\"type\":\"histogram\"}],\"scattergl\":[{\"type\":\"scattergl\",\"marker\":{\"colorbar\":{\"outlinewidth\":0,\"ticks\":\"\"}}}],\"scatter3d\":[{\"type\":\"scatter3d\",\"line\":{\"colorbar\":{\"outlinewidth\":0,\"ticks\":\"\"}},\"marker\":{\"colorbar\":{\"outlinewidth\":0,\"ticks\":\"\"}}}],\"scattermapbox\":[{\"type\":\"scattermapbox\",\"marker\":{\"colorbar\":{\"outlinewidth\":0,\"ticks\":\"\"}}}],\"scatterternary\":[{\"type\":\"scatterternary\",\"marker\":{\"colorbar\":{\"outlinewidth\":0,\"ticks\":\"\"}}}],\"scattercarpet\":[{\"type\":\"scattercarpet\",\"marker\":{\"colorbar\":{\"outlinewidth\":0,\"ticks\":\"\"}}}],\"carpet\":[{\"aaxis\":{\"endlinecolor\":\"#2a3f5f\",\"gridcolor\":\"white\",\"linecolor\":\"white\",\"minorgridcolor\":\"white\",\"startlinecolor\":\"#2a3f5f\"},\"baxis\":{\"endlinecolor\":\"#2a3f5f\",\"gridcolor\":\"white\",\"linecolor\":\"white\",\"minorgridcolor\":\"white\",\"startlinecolor\":\"#2a3f5f\"},\"type\":\"carpet\"}],\"table\":[{\"cells\":{\"fill\":{\"color\":\"#EBF0F8\"},\"line\":{\"color\":\"white\"}},\"header\":{\"fill\":{\"color\":\"#C8D4E3\"},\"line\":{\"color\":\"white\"}},\"type\":\"table\"}],\"barpolar\":[{\"marker\":{\"line\":{\"color\":\"#E5ECF6\",\"width\":0.5},\"pattern\":{\"fillmode\":\"overlay\",\"size\":10,\"solidity\":0.2}},\"type\":\"barpolar\"}],\"pie\":[{\"automargin\":true,\"type\":\"pie\"}]},\"layout\":{\"autotypenumbers\":\"strict\",\"colorway\":[\"#636efa\",\"#EF553B\",\"#00cc96\",\"#ab63fa\",\"#FFA15A\",\"#19d3f3\",\"#FF6692\",\"#B6E880\",\"#FF97FF\",\"#FECB52\"],\"font\":{\"color\":\"#2a3f5f\"},\"hovermode\":\"closest\",\"hoverlabel\":{\"align\":\"left\"},\"paper_bgcolor\":\"white\",\"plot_bgcolor\":\"#E5ECF6\",\"polar\":{\"bgcolor\":\"#E5ECF6\",\"angularaxis\":{\"gridcolor\":\"white\",\"linecolor\":\"white\",\"ticks\":\"\"},\"radialaxis\":{\"gridcolor\":\"white\",\"linecolor\":\"white\",\"ticks\":\"\"}},\"ternary\":{\"bgcolor\":\"#E5ECF6\",\"aaxis\":{\"gridcolor\":\"white\",\"linecolor\":\"white\",\"ticks\":\"\"},\"baxis\":{\"gridcolor\":\"white\",\"linecolor\":\"white\",\"ticks\":\"\"},\"caxis\":{\"gridcolor\":\"white\",\"linecolor\":\"white\",\"ticks\":\"\"}},\"coloraxis\":{\"colorbar\":{\"outlinewidth\":0,\"ticks\":\"\"}},\"colorscale\":{\"sequential\":[[0.0,\"#0d0887\"],[0.1111111111111111,\"#46039f\"],[0.2222222222222222,\"#7201a8\"],[0.3333333333333333,\"#9c179e\"],[0.4444444444444444,\"#bd3786\"],[0.5555555555555556,\"#d8576b\"],[0.6666666666666666,\"#ed7953\"],[0.7777777777777778,\"#fb9f3a\"],[0.8888888888888888,\"#fdca26\"],[1.0,\"#f0f921\"]],\"sequentialminus\":[[0.0,\"#0d0887\"],[0.1111111111111111,\"#46039f\"],[0.2222222222222222,\"#7201a8\"],[0.3333333333333333,\"#9c179e\"],[0.4444444444444444,\"#bd3786\"],[0.5555555555555556,\"#d8576b\"],[0.6666666666666666,\"#ed7953\"],[0.7777777777777778,\"#fb9f3a\"],[0.8888888888888888,\"#fdca26\"],[1.0,\"#f0f921\"]],\"diverging\":[[0,\"#8e0152\"],[0.1,\"#c51b7d\"],[0.2,\"#de77ae\"],[0.3,\"#f1b6da\"],[0.4,\"#fde0ef\"],[0.5,\"#f7f7f7\"],[0.6,\"#e6f5d0\"],[0.7,\"#b8e186\"],[0.8,\"#7fbc41\"],[0.9,\"#4d9221\"],[1,\"#276419\"]]},\"xaxis\":{\"gridcolor\":\"white\",\"linecolor\":\"white\",\"ticks\":\"\",\"title\":{\"standoff\":15},\"zerolinecolor\":\"white\",\"automargin\":true,\"zerolinewidth\":2},\"yaxis\":{\"gridcolor\":\"white\",\"linecolor\":\"white\",\"ticks\":\"\",\"title\":{\"standoff\":15},\"zerolinecolor\":\"white\",\"automargin\":true,\"zerolinewidth\":2},\"scene\":{\"xaxis\":{\"backgroundcolor\":\"#E5ECF6\",\"gridcolor\":\"white\",\"linecolor\":\"white\",\"showbackground\":true,\"ticks\":\"\",\"zerolinecolor\":\"white\",\"gridwidth\":2},\"yaxis\":{\"backgroundcolor\":\"#E5ECF6\",\"gridcolor\":\"white\",\"linecolor\":\"white\",\"showbackground\":true,\"ticks\":\"\",\"zerolinecolor\":\"white\",\"gridwidth\":2},\"zaxis\":{\"backgroundcolor\":\"#E5ECF6\",\"gridcolor\":\"white\",\"linecolor\":\"white\",\"showbackground\":true,\"ticks\":\"\",\"zerolinecolor\":\"white\",\"gridwidth\":2}},\"shapedefaults\":{\"line\":{\"color\":\"#2a3f5f\"}},\"annotationdefaults\":{\"arrowcolor\":\"#2a3f5f\",\"arrowhead\":0,\"arrowwidth\":1},\"geo\":{\"bgcolor\":\"white\",\"landcolor\":\"#E5ECF6\",\"subunitcolor\":\"white\",\"showland\":true,\"showlakes\":true,\"lakecolor\":\"white\"},\"title\":{\"x\":0.05},\"mapbox\":{\"style\":\"light\"}}},\"xaxis\":{\"anchor\":\"y\",\"domain\":[0.0,1.0],\"title\":{\"text\":\"year\"}},\"yaxis\":{\"anchor\":\"x\",\"domain\":[0.0,1.0],\"title\":{\"text\":\"value\"}},\"legend\":{\"title\":{\"text\":\"variable\"},\"tracegroupgap\":0},\"title\":{\"text\":\"profit by year\"},\"height\":400,\"width\":600},                        {\"responsive\": true}                    ).then(function(){\n",
       "                            \n",
       "var gd = document.getElementById('9aa0222f-1673-4749-81da-29a7823f5f9d');\n",
       "var x = new MutationObserver(function (mutations, observer) {{\n",
       "        var display = window.getComputedStyle(gd).display;\n",
       "        if (!display || display === 'none') {{\n",
       "            console.log([gd, 'removed!']);\n",
       "            Plotly.purge(gd);\n",
       "            observer.disconnect();\n",
       "        }}\n",
       "}});\n",
       "\n",
       "// Listen for the removal of the full notebook cells\n",
       "var notebookContainer = gd.closest('#notebook-container');\n",
       "if (notebookContainer) {{\n",
       "    x.observe(notebookContainer, {childList: true});\n",
       "}}\n",
       "\n",
       "// Listen for the clearing of the current output cell\n",
       "var outputEl = gd.closest('.output');\n",
       "if (outputEl) {{\n",
       "    x.observe(outputEl, {childList: true});\n",
       "}}\n",
       "\n",
       "                        })                };                });            </script>        </div>"
      ]
     },
     "metadata": {},
     "output_type": "display_data"
    }
   ],
   "source": [
    "# visualizing data result by line chart\n",
    "\n",
    "chart_title= 'profit by year'\n",
    "px.line(df[['year', 'profit']].groupby('year').sum(), title= chart_title, markers= True, height= 400, width= 600)"
   ]
  },
  {
   "cell_type": "markdown",
   "id": "8c29a18e",
   "metadata": {
    "id": "Cv0w-2WQ7kR1",
    "papermill": {
     "duration": 0.050108,
     "end_time": "2023-07-24T06:44:58.682689",
     "exception": false,
     "start_time": "2023-07-24T06:44:58.632581",
     "status": "completed"
    },
    "tags": []
   },
   "source": [
    "- searching for reason that makes profit up in (2012-2013), (2013-2014), (2014-2015) and the reason that makes it down in (2015-2016) and (2016-2017)"
   ]
  },
  {
   "cell_type": "markdown",
   "id": "e1874a47",
   "metadata": {
    "id": "uLsB3jZa1HRt",
    "papermill": {
     "duration": 0.049826,
     "end_time": "2023-07-24T06:44:58.782539",
     "exception": false,
     "start_time": "2023-07-24T06:44:58.732713",
     "status": "completed"
    },
    "tags": []
   },
   "source": [
    "# ***Q: How much AVG price by years ?***"
   ]
  },
  {
   "cell_type": "code",
   "execution_count": 48,
   "id": "a07f067e",
   "metadata": {
    "execution": {
     "iopub.execute_input": "2023-07-24T06:44:58.884611Z",
     "iopub.status.busy": "2023-07-24T06:44:58.883825Z",
     "iopub.status.idle": "2023-07-24T06:44:58.898053Z",
     "shell.execute_reply": "2023-07-24T06:44:58.897086Z"
    },
    "id": "0cISrhHMy5jW",
    "outputId": "534785f6-592a-4df0-c6ce-cc62d1cf54d0",
    "papermill": {
     "duration": 0.068018,
     "end_time": "2023-07-24T06:44:58.900449",
     "exception": false,
     "start_time": "2023-07-24T06:44:58.832431",
     "status": "completed"
    },
    "tags": []
   },
   "outputs": [
    {
     "data": {
      "text/html": [
       "<div>\n",
       "<style scoped>\n",
       "    .dataframe tbody tr th:only-of-type {\n",
       "        vertical-align: middle;\n",
       "    }\n",
       "\n",
       "    .dataframe tbody tr th {\n",
       "        vertical-align: top;\n",
       "    }\n",
       "\n",
       "    .dataframe thead th {\n",
       "        text-align: right;\n",
       "    }\n",
       "</style>\n",
       "<table border=\"1\" class=\"dataframe\">\n",
       "  <thead>\n",
       "    <tr style=\"text-align: right;\">\n",
       "      <th></th>\n",
       "      <th>price</th>\n",
       "    </tr>\n",
       "    <tr>\n",
       "      <th>year</th>\n",
       "      <th></th>\n",
       "    </tr>\n",
       "  </thead>\n",
       "  <tbody>\n",
       "    <tr>\n",
       "      <th>2011</th>\n",
       "      <td>62.00</td>\n",
       "    </tr>\n",
       "    <tr>\n",
       "      <th>2012</th>\n",
       "      <td>41.70</td>\n",
       "    </tr>\n",
       "    <tr>\n",
       "      <th>2013</th>\n",
       "      <td>53.58</td>\n",
       "    </tr>\n",
       "    <tr>\n",
       "      <th>2014</th>\n",
       "      <td>48.16</td>\n",
       "    </tr>\n",
       "    <tr>\n",
       "      <th>2015</th>\n",
       "      <td>66.47</td>\n",
       "    </tr>\n",
       "    <tr>\n",
       "      <th>2016</th>\n",
       "      <td>69.59</td>\n",
       "    </tr>\n",
       "    <tr>\n",
       "      <th>2017</th>\n",
       "      <td>75.77</td>\n",
       "    </tr>\n",
       "  </tbody>\n",
       "</table>\n",
       "</div>"
      ],
      "text/plain": [
       "      price\n",
       "year       \n",
       "2011  62.00\n",
       "2012  41.70\n",
       "2013  53.58\n",
       "2014  48.16\n",
       "2015  66.47\n",
       "2016  69.59\n",
       "2017  75.77"
      ]
     },
     "execution_count": 48,
     "metadata": {},
     "output_type": "execute_result"
    }
   ],
   "source": [
    "# select data from dataset\n",
    "\n",
    "df[['year', 'price']].groupby('year').mean().round(2)"
   ]
  },
  {
   "cell_type": "code",
   "execution_count": 49,
   "id": "93b2b10e",
   "metadata": {
    "execution": {
     "iopub.execute_input": "2023-07-24T06:44:59.003799Z",
     "iopub.status.busy": "2023-07-24T06:44:59.002755Z",
     "iopub.status.idle": "2023-07-24T06:44:59.081672Z",
     "shell.execute_reply": "2023-07-24T06:44:59.080815Z"
    },
    "id": "q9K1ni33zIzl",
    "outputId": "b4c1f691-ae80-4ba4-cce6-72da88e429bf",
    "papermill": {
     "duration": 0.132821,
     "end_time": "2023-07-24T06:44:59.083987",
     "exception": false,
     "start_time": "2023-07-24T06:44:58.951166",
     "status": "completed"
    },
    "tags": []
   },
   "outputs": [
    {
     "data": {
      "text/html": [
       "<div>                            <div id=\"dfaf4c60-9b3e-4f96-84eb-4c91bcd334eb\" class=\"plotly-graph-div\" style=\"height:400px; width:600px;\"></div>            <script type=\"text/javascript\">                require([\"plotly\"], function(Plotly) {                    window.PLOTLYENV=window.PLOTLYENV || {};                                    if (document.getElementById(\"dfaf4c60-9b3e-4f96-84eb-4c91bcd334eb\")) {                    Plotly.newPlot(                        \"dfaf4c60-9b3e-4f96-84eb-4c91bcd334eb\",                        [{\"hovertemplate\":\"variable=price\\u003cbr\\u003eyear=%{x}\\u003cbr\\u003evalue=%{y}\\u003cextra\\u003e\\u003c\\u002fextra\\u003e\",\"legendgroup\":\"price\",\"line\":{\"color\":\"#636efa\",\"dash\":\"solid\"},\"marker\":{\"symbol\":\"circle\"},\"mode\":\"lines+markers\",\"name\":\"price\",\"orientation\":\"v\",\"showlegend\":true,\"x\":[2011,2012,2013,2014,2015,2016,2017],\"xaxis\":\"x\",\"y\":[62.0,41.7,53.58,48.16,66.47,69.59,75.77],\"yaxis\":\"y\",\"type\":\"scatter\"}],                        {\"template\":{\"data\":{\"histogram2dcontour\":[{\"type\":\"histogram2dcontour\",\"colorbar\":{\"outlinewidth\":0,\"ticks\":\"\"},\"colorscale\":[[0.0,\"#0d0887\"],[0.1111111111111111,\"#46039f\"],[0.2222222222222222,\"#7201a8\"],[0.3333333333333333,\"#9c179e\"],[0.4444444444444444,\"#bd3786\"],[0.5555555555555556,\"#d8576b\"],[0.6666666666666666,\"#ed7953\"],[0.7777777777777778,\"#fb9f3a\"],[0.8888888888888888,\"#fdca26\"],[1.0,\"#f0f921\"]]}],\"choropleth\":[{\"type\":\"choropleth\",\"colorbar\":{\"outlinewidth\":0,\"ticks\":\"\"}}],\"histogram2d\":[{\"type\":\"histogram2d\",\"colorbar\":{\"outlinewidth\":0,\"ticks\":\"\"},\"colorscale\":[[0.0,\"#0d0887\"],[0.1111111111111111,\"#46039f\"],[0.2222222222222222,\"#7201a8\"],[0.3333333333333333,\"#9c179e\"],[0.4444444444444444,\"#bd3786\"],[0.5555555555555556,\"#d8576b\"],[0.6666666666666666,\"#ed7953\"],[0.7777777777777778,\"#fb9f3a\"],[0.8888888888888888,\"#fdca26\"],[1.0,\"#f0f921\"]]}],\"heatmap\":[{\"type\":\"heatmap\",\"colorbar\":{\"outlinewidth\":0,\"ticks\":\"\"},\"colorscale\":[[0.0,\"#0d0887\"],[0.1111111111111111,\"#46039f\"],[0.2222222222222222,\"#7201a8\"],[0.3333333333333333,\"#9c179e\"],[0.4444444444444444,\"#bd3786\"],[0.5555555555555556,\"#d8576b\"],[0.6666666666666666,\"#ed7953\"],[0.7777777777777778,\"#fb9f3a\"],[0.8888888888888888,\"#fdca26\"],[1.0,\"#f0f921\"]]}],\"heatmapgl\":[{\"type\":\"heatmapgl\",\"colorbar\":{\"outlinewidth\":0,\"ticks\":\"\"},\"colorscale\":[[0.0,\"#0d0887\"],[0.1111111111111111,\"#46039f\"],[0.2222222222222222,\"#7201a8\"],[0.3333333333333333,\"#9c179e\"],[0.4444444444444444,\"#bd3786\"],[0.5555555555555556,\"#d8576b\"],[0.6666666666666666,\"#ed7953\"],[0.7777777777777778,\"#fb9f3a\"],[0.8888888888888888,\"#fdca26\"],[1.0,\"#f0f921\"]]}],\"contourcarpet\":[{\"type\":\"contourcarpet\",\"colorbar\":{\"outlinewidth\":0,\"ticks\":\"\"}}],\"contour\":[{\"type\":\"contour\",\"colorbar\":{\"outlinewidth\":0,\"ticks\":\"\"},\"colorscale\":[[0.0,\"#0d0887\"],[0.1111111111111111,\"#46039f\"],[0.2222222222222222,\"#7201a8\"],[0.3333333333333333,\"#9c179e\"],[0.4444444444444444,\"#bd3786\"],[0.5555555555555556,\"#d8576b\"],[0.6666666666666666,\"#ed7953\"],[0.7777777777777778,\"#fb9f3a\"],[0.8888888888888888,\"#fdca26\"],[1.0,\"#f0f921\"]]}],\"surface\":[{\"type\":\"surface\",\"colorbar\":{\"outlinewidth\":0,\"ticks\":\"\"},\"colorscale\":[[0.0,\"#0d0887\"],[0.1111111111111111,\"#46039f\"],[0.2222222222222222,\"#7201a8\"],[0.3333333333333333,\"#9c179e\"],[0.4444444444444444,\"#bd3786\"],[0.5555555555555556,\"#d8576b\"],[0.6666666666666666,\"#ed7953\"],[0.7777777777777778,\"#fb9f3a\"],[0.8888888888888888,\"#fdca26\"],[1.0,\"#f0f921\"]]}],\"mesh3d\":[{\"type\":\"mesh3d\",\"colorbar\":{\"outlinewidth\":0,\"ticks\":\"\"}}],\"scatter\":[{\"fillpattern\":{\"fillmode\":\"overlay\",\"size\":10,\"solidity\":0.2},\"type\":\"scatter\"}],\"parcoords\":[{\"type\":\"parcoords\",\"line\":{\"colorbar\":{\"outlinewidth\":0,\"ticks\":\"\"}}}],\"scatterpolargl\":[{\"type\":\"scatterpolargl\",\"marker\":{\"colorbar\":{\"outlinewidth\":0,\"ticks\":\"\"}}}],\"bar\":[{\"error_x\":{\"color\":\"#2a3f5f\"},\"error_y\":{\"color\":\"#2a3f5f\"},\"marker\":{\"line\":{\"color\":\"#E5ECF6\",\"width\":0.5},\"pattern\":{\"fillmode\":\"overlay\",\"size\":10,\"solidity\":0.2}},\"type\":\"bar\"}],\"scattergeo\":[{\"type\":\"scattergeo\",\"marker\":{\"colorbar\":{\"outlinewidth\":0,\"ticks\":\"\"}}}],\"scatterpolar\":[{\"type\":\"scatterpolar\",\"marker\":{\"colorbar\":{\"outlinewidth\":0,\"ticks\":\"\"}}}],\"histogram\":[{\"marker\":{\"pattern\":{\"fillmode\":\"overlay\",\"size\":10,\"solidity\":0.2}},\"type\":\"histogram\"}],\"scattergl\":[{\"type\":\"scattergl\",\"marker\":{\"colorbar\":{\"outlinewidth\":0,\"ticks\":\"\"}}}],\"scatter3d\":[{\"type\":\"scatter3d\",\"line\":{\"colorbar\":{\"outlinewidth\":0,\"ticks\":\"\"}},\"marker\":{\"colorbar\":{\"outlinewidth\":0,\"ticks\":\"\"}}}],\"scattermapbox\":[{\"type\":\"scattermapbox\",\"marker\":{\"colorbar\":{\"outlinewidth\":0,\"ticks\":\"\"}}}],\"scatterternary\":[{\"type\":\"scatterternary\",\"marker\":{\"colorbar\":{\"outlinewidth\":0,\"ticks\":\"\"}}}],\"scattercarpet\":[{\"type\":\"scattercarpet\",\"marker\":{\"colorbar\":{\"outlinewidth\":0,\"ticks\":\"\"}}}],\"carpet\":[{\"aaxis\":{\"endlinecolor\":\"#2a3f5f\",\"gridcolor\":\"white\",\"linecolor\":\"white\",\"minorgridcolor\":\"white\",\"startlinecolor\":\"#2a3f5f\"},\"baxis\":{\"endlinecolor\":\"#2a3f5f\",\"gridcolor\":\"white\",\"linecolor\":\"white\",\"minorgridcolor\":\"white\",\"startlinecolor\":\"#2a3f5f\"},\"type\":\"carpet\"}],\"table\":[{\"cells\":{\"fill\":{\"color\":\"#EBF0F8\"},\"line\":{\"color\":\"white\"}},\"header\":{\"fill\":{\"color\":\"#C8D4E3\"},\"line\":{\"color\":\"white\"}},\"type\":\"table\"}],\"barpolar\":[{\"marker\":{\"line\":{\"color\":\"#E5ECF6\",\"width\":0.5},\"pattern\":{\"fillmode\":\"overlay\",\"size\":10,\"solidity\":0.2}},\"type\":\"barpolar\"}],\"pie\":[{\"automargin\":true,\"type\":\"pie\"}]},\"layout\":{\"autotypenumbers\":\"strict\",\"colorway\":[\"#636efa\",\"#EF553B\",\"#00cc96\",\"#ab63fa\",\"#FFA15A\",\"#19d3f3\",\"#FF6692\",\"#B6E880\",\"#FF97FF\",\"#FECB52\"],\"font\":{\"color\":\"#2a3f5f\"},\"hovermode\":\"closest\",\"hoverlabel\":{\"align\":\"left\"},\"paper_bgcolor\":\"white\",\"plot_bgcolor\":\"#E5ECF6\",\"polar\":{\"bgcolor\":\"#E5ECF6\",\"angularaxis\":{\"gridcolor\":\"white\",\"linecolor\":\"white\",\"ticks\":\"\"},\"radialaxis\":{\"gridcolor\":\"white\",\"linecolor\":\"white\",\"ticks\":\"\"}},\"ternary\":{\"bgcolor\":\"#E5ECF6\",\"aaxis\":{\"gridcolor\":\"white\",\"linecolor\":\"white\",\"ticks\":\"\"},\"baxis\":{\"gridcolor\":\"white\",\"linecolor\":\"white\",\"ticks\":\"\"},\"caxis\":{\"gridcolor\":\"white\",\"linecolor\":\"white\",\"ticks\":\"\"}},\"coloraxis\":{\"colorbar\":{\"outlinewidth\":0,\"ticks\":\"\"}},\"colorscale\":{\"sequential\":[[0.0,\"#0d0887\"],[0.1111111111111111,\"#46039f\"],[0.2222222222222222,\"#7201a8\"],[0.3333333333333333,\"#9c179e\"],[0.4444444444444444,\"#bd3786\"],[0.5555555555555556,\"#d8576b\"],[0.6666666666666666,\"#ed7953\"],[0.7777777777777778,\"#fb9f3a\"],[0.8888888888888888,\"#fdca26\"],[1.0,\"#f0f921\"]],\"sequentialminus\":[[0.0,\"#0d0887\"],[0.1111111111111111,\"#46039f\"],[0.2222222222222222,\"#7201a8\"],[0.3333333333333333,\"#9c179e\"],[0.4444444444444444,\"#bd3786\"],[0.5555555555555556,\"#d8576b\"],[0.6666666666666666,\"#ed7953\"],[0.7777777777777778,\"#fb9f3a\"],[0.8888888888888888,\"#fdca26\"],[1.0,\"#f0f921\"]],\"diverging\":[[0,\"#8e0152\"],[0.1,\"#c51b7d\"],[0.2,\"#de77ae\"],[0.3,\"#f1b6da\"],[0.4,\"#fde0ef\"],[0.5,\"#f7f7f7\"],[0.6,\"#e6f5d0\"],[0.7,\"#b8e186\"],[0.8,\"#7fbc41\"],[0.9,\"#4d9221\"],[1,\"#276419\"]]},\"xaxis\":{\"gridcolor\":\"white\",\"linecolor\":\"white\",\"ticks\":\"\",\"title\":{\"standoff\":15},\"zerolinecolor\":\"white\",\"automargin\":true,\"zerolinewidth\":2},\"yaxis\":{\"gridcolor\":\"white\",\"linecolor\":\"white\",\"ticks\":\"\",\"title\":{\"standoff\":15},\"zerolinecolor\":\"white\",\"automargin\":true,\"zerolinewidth\":2},\"scene\":{\"xaxis\":{\"backgroundcolor\":\"#E5ECF6\",\"gridcolor\":\"white\",\"linecolor\":\"white\",\"showbackground\":true,\"ticks\":\"\",\"zerolinecolor\":\"white\",\"gridwidth\":2},\"yaxis\":{\"backgroundcolor\":\"#E5ECF6\",\"gridcolor\":\"white\",\"linecolor\":\"white\",\"showbackground\":true,\"ticks\":\"\",\"zerolinecolor\":\"white\",\"gridwidth\":2},\"zaxis\":{\"backgroundcolor\":\"#E5ECF6\",\"gridcolor\":\"white\",\"linecolor\":\"white\",\"showbackground\":true,\"ticks\":\"\",\"zerolinecolor\":\"white\",\"gridwidth\":2}},\"shapedefaults\":{\"line\":{\"color\":\"#2a3f5f\"}},\"annotationdefaults\":{\"arrowcolor\":\"#2a3f5f\",\"arrowhead\":0,\"arrowwidth\":1},\"geo\":{\"bgcolor\":\"white\",\"landcolor\":\"#E5ECF6\",\"subunitcolor\":\"white\",\"showland\":true,\"showlakes\":true,\"lakecolor\":\"white\"},\"title\":{\"x\":0.05},\"mapbox\":{\"style\":\"light\"}}},\"xaxis\":{\"anchor\":\"y\",\"domain\":[0.0,1.0],\"title\":{\"text\":\"year\"}},\"yaxis\":{\"anchor\":\"x\",\"domain\":[0.0,1.0],\"title\":{\"text\":\"value\"}},\"legend\":{\"title\":{\"text\":\"variable\"},\"tracegroupgap\":0},\"title\":{\"text\":\"AVG price by year\"},\"height\":400,\"width\":600},                        {\"responsive\": true}                    ).then(function(){\n",
       "                            \n",
       "var gd = document.getElementById('dfaf4c60-9b3e-4f96-84eb-4c91bcd334eb');\n",
       "var x = new MutationObserver(function (mutations, observer) {{\n",
       "        var display = window.getComputedStyle(gd).display;\n",
       "        if (!display || display === 'none') {{\n",
       "            console.log([gd, 'removed!']);\n",
       "            Plotly.purge(gd);\n",
       "            observer.disconnect();\n",
       "        }}\n",
       "}});\n",
       "\n",
       "// Listen for the removal of the full notebook cells\n",
       "var notebookContainer = gd.closest('#notebook-container');\n",
       "if (notebookContainer) {{\n",
       "    x.observe(notebookContainer, {childList: true});\n",
       "}}\n",
       "\n",
       "// Listen for the clearing of the current output cell\n",
       "var outputEl = gd.closest('.output');\n",
       "if (outputEl) {{\n",
       "    x.observe(outputEl, {childList: true});\n",
       "}}\n",
       "\n",
       "                        })                };                });            </script>        </div>"
      ]
     },
     "metadata": {},
     "output_type": "display_data"
    }
   ],
   "source": [
    "# visualizing data result\n",
    "\n",
    "chart_title= 'AVG price by year'\n",
    "px.line(df[['year', 'price']].groupby('year').mean().round(2), markers= True, title= chart_title, height= 400, width= 600)"
   ]
  },
  {
   "cell_type": "markdown",
   "id": "8cfa1785",
   "metadata": {
    "id": "drt678Ld6cl7",
    "papermill": {
     "duration": 0.049969,
     "end_time": "2023-07-24T06:44:59.184302",
     "exception": false,
     "start_time": "2023-07-24T06:44:59.134333",
     "status": "completed"
    },
    "tags": []
   },
   "source": [
    "- AVG price not effect directly to profit, bacause in (2011-2012), (2013-2014), (2015-2016) and (2016-2017) profit up but AVG price down."
   ]
  },
  {
   "cell_type": "markdown",
   "id": "dca4e075",
   "metadata": {
    "id": "9noG2fkB1VtZ",
    "papermill": {
     "duration": 0.05231,
     "end_time": "2023-07-24T06:44:59.288901",
     "exception": false,
     "start_time": "2023-07-24T06:44:59.236591",
     "status": "completed"
    },
    "tags": []
   },
   "source": [
    "# ***Q: How many subscribers by years ?***"
   ]
  },
  {
   "cell_type": "code",
   "execution_count": 50,
   "id": "fbf5e623",
   "metadata": {
    "execution": {
     "iopub.execute_input": "2023-07-24T06:44:59.393573Z",
     "iopub.status.busy": "2023-07-24T06:44:59.392363Z",
     "iopub.status.idle": "2023-07-24T06:44:59.404849Z",
     "shell.execute_reply": "2023-07-24T06:44:59.403894Z"
    },
    "id": "5qL2i36ozTTm",
    "outputId": "3b83952e-b224-4578-bed3-a78c78301e46",
    "papermill": {
     "duration": 0.067101,
     "end_time": "2023-07-24T06:44:59.407339",
     "exception": false,
     "start_time": "2023-07-24T06:44:59.340238",
     "status": "completed"
    },
    "tags": []
   },
   "outputs": [
    {
     "data": {
      "text/html": [
       "<div>\n",
       "<style scoped>\n",
       "    .dataframe tbody tr th:only-of-type {\n",
       "        vertical-align: middle;\n",
       "    }\n",
       "\n",
       "    .dataframe tbody tr th {\n",
       "        vertical-align: top;\n",
       "    }\n",
       "\n",
       "    .dataframe thead th {\n",
       "        text-align: right;\n",
       "    }\n",
       "</style>\n",
       "<table border=\"1\" class=\"dataframe\">\n",
       "  <thead>\n",
       "    <tr style=\"text-align: right;\">\n",
       "      <th></th>\n",
       "      <th>num_subscribers</th>\n",
       "    </tr>\n",
       "    <tr>\n",
       "      <th>year</th>\n",
       "      <th></th>\n",
       "    </tr>\n",
       "  </thead>\n",
       "  <tbody>\n",
       "    <tr>\n",
       "      <th>2011</th>\n",
       "      <td>119028</td>\n",
       "    </tr>\n",
       "    <tr>\n",
       "      <th>2012</th>\n",
       "      <td>454185</td>\n",
       "    </tr>\n",
       "    <tr>\n",
       "      <th>2013</th>\n",
       "      <td>1147134</td>\n",
       "    </tr>\n",
       "    <tr>\n",
       "      <th>2014</th>\n",
       "      <td>1591518</td>\n",
       "    </tr>\n",
       "    <tr>\n",
       "      <th>2015</th>\n",
       "      <td>2951488</td>\n",
       "    </tr>\n",
       "    <tr>\n",
       "      <th>2016</th>\n",
       "      <td>2670565</td>\n",
       "    </tr>\n",
       "    <tr>\n",
       "      <th>2017</th>\n",
       "      <td>988941</td>\n",
       "    </tr>\n",
       "  </tbody>\n",
       "</table>\n",
       "</div>"
      ],
      "text/plain": [
       "      num_subscribers\n",
       "year                 \n",
       "2011           119028\n",
       "2012           454185\n",
       "2013          1147134\n",
       "2014          1591518\n",
       "2015          2951488\n",
       "2016          2670565\n",
       "2017           988941"
      ]
     },
     "execution_count": 50,
     "metadata": {},
     "output_type": "execute_result"
    }
   ],
   "source": [
    "# select data from dataset\n",
    "\n",
    "df[['year', 'num_subscribers']].groupby('year').sum()"
   ]
  },
  {
   "cell_type": "code",
   "execution_count": 51,
   "id": "15888837",
   "metadata": {
    "execution": {
     "iopub.execute_input": "2023-07-24T06:44:59.510859Z",
     "iopub.status.busy": "2023-07-24T06:44:59.510392Z",
     "iopub.status.idle": "2023-07-24T06:44:59.589526Z",
     "shell.execute_reply": "2023-07-24T06:44:59.588389Z"
    },
    "id": "46KcCd42zb8N",
    "outputId": "1ea0f990-16c1-42de-d4c1-06e35534384a",
    "papermill": {
     "duration": 0.133961,
     "end_time": "2023-07-24T06:44:59.592088",
     "exception": false,
     "start_time": "2023-07-24T06:44:59.458127",
     "status": "completed"
    },
    "tags": []
   },
   "outputs": [
    {
     "data": {
      "text/html": [
       "<div>                            <div id=\"0fab7c88-2a1f-4bbd-86fa-b2389ec2c811\" class=\"plotly-graph-div\" style=\"height:400px; width:600px;\"></div>            <script type=\"text/javascript\">                require([\"plotly\"], function(Plotly) {                    window.PLOTLYENV=window.PLOTLYENV || {};                                    if (document.getElementById(\"0fab7c88-2a1f-4bbd-86fa-b2389ec2c811\")) {                    Plotly.newPlot(                        \"0fab7c88-2a1f-4bbd-86fa-b2389ec2c811\",                        [{\"hovertemplate\":\"variable=num_subscribers\\u003cbr\\u003eyear=%{x}\\u003cbr\\u003evalue=%{y}\\u003cextra\\u003e\\u003c\\u002fextra\\u003e\",\"legendgroup\":\"num_subscribers\",\"line\":{\"color\":\"#636efa\",\"dash\":\"solid\"},\"marker\":{\"symbol\":\"circle\"},\"mode\":\"lines+markers\",\"name\":\"num_subscribers\",\"orientation\":\"v\",\"showlegend\":true,\"x\":[2011,2012,2013,2014,2015,2016,2017],\"xaxis\":\"x\",\"y\":[119028,454185,1147134,1591518,2951488,2670565,988941],\"yaxis\":\"y\",\"type\":\"scatter\"}],                        {\"template\":{\"data\":{\"histogram2dcontour\":[{\"type\":\"histogram2dcontour\",\"colorbar\":{\"outlinewidth\":0,\"ticks\":\"\"},\"colorscale\":[[0.0,\"#0d0887\"],[0.1111111111111111,\"#46039f\"],[0.2222222222222222,\"#7201a8\"],[0.3333333333333333,\"#9c179e\"],[0.4444444444444444,\"#bd3786\"],[0.5555555555555556,\"#d8576b\"],[0.6666666666666666,\"#ed7953\"],[0.7777777777777778,\"#fb9f3a\"],[0.8888888888888888,\"#fdca26\"],[1.0,\"#f0f921\"]]}],\"choropleth\":[{\"type\":\"choropleth\",\"colorbar\":{\"outlinewidth\":0,\"ticks\":\"\"}}],\"histogram2d\":[{\"type\":\"histogram2d\",\"colorbar\":{\"outlinewidth\":0,\"ticks\":\"\"},\"colorscale\":[[0.0,\"#0d0887\"],[0.1111111111111111,\"#46039f\"],[0.2222222222222222,\"#7201a8\"],[0.3333333333333333,\"#9c179e\"],[0.4444444444444444,\"#bd3786\"],[0.5555555555555556,\"#d8576b\"],[0.6666666666666666,\"#ed7953\"],[0.7777777777777778,\"#fb9f3a\"],[0.8888888888888888,\"#fdca26\"],[1.0,\"#f0f921\"]]}],\"heatmap\":[{\"type\":\"heatmap\",\"colorbar\":{\"outlinewidth\":0,\"ticks\":\"\"},\"colorscale\":[[0.0,\"#0d0887\"],[0.1111111111111111,\"#46039f\"],[0.2222222222222222,\"#7201a8\"],[0.3333333333333333,\"#9c179e\"],[0.4444444444444444,\"#bd3786\"],[0.5555555555555556,\"#d8576b\"],[0.6666666666666666,\"#ed7953\"],[0.7777777777777778,\"#fb9f3a\"],[0.8888888888888888,\"#fdca26\"],[1.0,\"#f0f921\"]]}],\"heatmapgl\":[{\"type\":\"heatmapgl\",\"colorbar\":{\"outlinewidth\":0,\"ticks\":\"\"},\"colorscale\":[[0.0,\"#0d0887\"],[0.1111111111111111,\"#46039f\"],[0.2222222222222222,\"#7201a8\"],[0.3333333333333333,\"#9c179e\"],[0.4444444444444444,\"#bd3786\"],[0.5555555555555556,\"#d8576b\"],[0.6666666666666666,\"#ed7953\"],[0.7777777777777778,\"#fb9f3a\"],[0.8888888888888888,\"#fdca26\"],[1.0,\"#f0f921\"]]}],\"contourcarpet\":[{\"type\":\"contourcarpet\",\"colorbar\":{\"outlinewidth\":0,\"ticks\":\"\"}}],\"contour\":[{\"type\":\"contour\",\"colorbar\":{\"outlinewidth\":0,\"ticks\":\"\"},\"colorscale\":[[0.0,\"#0d0887\"],[0.1111111111111111,\"#46039f\"],[0.2222222222222222,\"#7201a8\"],[0.3333333333333333,\"#9c179e\"],[0.4444444444444444,\"#bd3786\"],[0.5555555555555556,\"#d8576b\"],[0.6666666666666666,\"#ed7953\"],[0.7777777777777778,\"#fb9f3a\"],[0.8888888888888888,\"#fdca26\"],[1.0,\"#f0f921\"]]}],\"surface\":[{\"type\":\"surface\",\"colorbar\":{\"outlinewidth\":0,\"ticks\":\"\"},\"colorscale\":[[0.0,\"#0d0887\"],[0.1111111111111111,\"#46039f\"],[0.2222222222222222,\"#7201a8\"],[0.3333333333333333,\"#9c179e\"],[0.4444444444444444,\"#bd3786\"],[0.5555555555555556,\"#d8576b\"],[0.6666666666666666,\"#ed7953\"],[0.7777777777777778,\"#fb9f3a\"],[0.8888888888888888,\"#fdca26\"],[1.0,\"#f0f921\"]]}],\"mesh3d\":[{\"type\":\"mesh3d\",\"colorbar\":{\"outlinewidth\":0,\"ticks\":\"\"}}],\"scatter\":[{\"fillpattern\":{\"fillmode\":\"overlay\",\"size\":10,\"solidity\":0.2},\"type\":\"scatter\"}],\"parcoords\":[{\"type\":\"parcoords\",\"line\":{\"colorbar\":{\"outlinewidth\":0,\"ticks\":\"\"}}}],\"scatterpolargl\":[{\"type\":\"scatterpolargl\",\"marker\":{\"colorbar\":{\"outlinewidth\":0,\"ticks\":\"\"}}}],\"bar\":[{\"error_x\":{\"color\":\"#2a3f5f\"},\"error_y\":{\"color\":\"#2a3f5f\"},\"marker\":{\"line\":{\"color\":\"#E5ECF6\",\"width\":0.5},\"pattern\":{\"fillmode\":\"overlay\",\"size\":10,\"solidity\":0.2}},\"type\":\"bar\"}],\"scattergeo\":[{\"type\":\"scattergeo\",\"marker\":{\"colorbar\":{\"outlinewidth\":0,\"ticks\":\"\"}}}],\"scatterpolar\":[{\"type\":\"scatterpolar\",\"marker\":{\"colorbar\":{\"outlinewidth\":0,\"ticks\":\"\"}}}],\"histogram\":[{\"marker\":{\"pattern\":{\"fillmode\":\"overlay\",\"size\":10,\"solidity\":0.2}},\"type\":\"histogram\"}],\"scattergl\":[{\"type\":\"scattergl\",\"marker\":{\"colorbar\":{\"outlinewidth\":0,\"ticks\":\"\"}}}],\"scatter3d\":[{\"type\":\"scatter3d\",\"line\":{\"colorbar\":{\"outlinewidth\":0,\"ticks\":\"\"}},\"marker\":{\"colorbar\":{\"outlinewidth\":0,\"ticks\":\"\"}}}],\"scattermapbox\":[{\"type\":\"scattermapbox\",\"marker\":{\"colorbar\":{\"outlinewidth\":0,\"ticks\":\"\"}}}],\"scatterternary\":[{\"type\":\"scatterternary\",\"marker\":{\"colorbar\":{\"outlinewidth\":0,\"ticks\":\"\"}}}],\"scattercarpet\":[{\"type\":\"scattercarpet\",\"marker\":{\"colorbar\":{\"outlinewidth\":0,\"ticks\":\"\"}}}],\"carpet\":[{\"aaxis\":{\"endlinecolor\":\"#2a3f5f\",\"gridcolor\":\"white\",\"linecolor\":\"white\",\"minorgridcolor\":\"white\",\"startlinecolor\":\"#2a3f5f\"},\"baxis\":{\"endlinecolor\":\"#2a3f5f\",\"gridcolor\":\"white\",\"linecolor\":\"white\",\"minorgridcolor\":\"white\",\"startlinecolor\":\"#2a3f5f\"},\"type\":\"carpet\"}],\"table\":[{\"cells\":{\"fill\":{\"color\":\"#EBF0F8\"},\"line\":{\"color\":\"white\"}},\"header\":{\"fill\":{\"color\":\"#C8D4E3\"},\"line\":{\"color\":\"white\"}},\"type\":\"table\"}],\"barpolar\":[{\"marker\":{\"line\":{\"color\":\"#E5ECF6\",\"width\":0.5},\"pattern\":{\"fillmode\":\"overlay\",\"size\":10,\"solidity\":0.2}},\"type\":\"barpolar\"}],\"pie\":[{\"automargin\":true,\"type\":\"pie\"}]},\"layout\":{\"autotypenumbers\":\"strict\",\"colorway\":[\"#636efa\",\"#EF553B\",\"#00cc96\",\"#ab63fa\",\"#FFA15A\",\"#19d3f3\",\"#FF6692\",\"#B6E880\",\"#FF97FF\",\"#FECB52\"],\"font\":{\"color\":\"#2a3f5f\"},\"hovermode\":\"closest\",\"hoverlabel\":{\"align\":\"left\"},\"paper_bgcolor\":\"white\",\"plot_bgcolor\":\"#E5ECF6\",\"polar\":{\"bgcolor\":\"#E5ECF6\",\"angularaxis\":{\"gridcolor\":\"white\",\"linecolor\":\"white\",\"ticks\":\"\"},\"radialaxis\":{\"gridcolor\":\"white\",\"linecolor\":\"white\",\"ticks\":\"\"}},\"ternary\":{\"bgcolor\":\"#E5ECF6\",\"aaxis\":{\"gridcolor\":\"white\",\"linecolor\":\"white\",\"ticks\":\"\"},\"baxis\":{\"gridcolor\":\"white\",\"linecolor\":\"white\",\"ticks\":\"\"},\"caxis\":{\"gridcolor\":\"white\",\"linecolor\":\"white\",\"ticks\":\"\"}},\"coloraxis\":{\"colorbar\":{\"outlinewidth\":0,\"ticks\":\"\"}},\"colorscale\":{\"sequential\":[[0.0,\"#0d0887\"],[0.1111111111111111,\"#46039f\"],[0.2222222222222222,\"#7201a8\"],[0.3333333333333333,\"#9c179e\"],[0.4444444444444444,\"#bd3786\"],[0.5555555555555556,\"#d8576b\"],[0.6666666666666666,\"#ed7953\"],[0.7777777777777778,\"#fb9f3a\"],[0.8888888888888888,\"#fdca26\"],[1.0,\"#f0f921\"]],\"sequentialminus\":[[0.0,\"#0d0887\"],[0.1111111111111111,\"#46039f\"],[0.2222222222222222,\"#7201a8\"],[0.3333333333333333,\"#9c179e\"],[0.4444444444444444,\"#bd3786\"],[0.5555555555555556,\"#d8576b\"],[0.6666666666666666,\"#ed7953\"],[0.7777777777777778,\"#fb9f3a\"],[0.8888888888888888,\"#fdca26\"],[1.0,\"#f0f921\"]],\"diverging\":[[0,\"#8e0152\"],[0.1,\"#c51b7d\"],[0.2,\"#de77ae\"],[0.3,\"#f1b6da\"],[0.4,\"#fde0ef\"],[0.5,\"#f7f7f7\"],[0.6,\"#e6f5d0\"],[0.7,\"#b8e186\"],[0.8,\"#7fbc41\"],[0.9,\"#4d9221\"],[1,\"#276419\"]]},\"xaxis\":{\"gridcolor\":\"white\",\"linecolor\":\"white\",\"ticks\":\"\",\"title\":{\"standoff\":15},\"zerolinecolor\":\"white\",\"automargin\":true,\"zerolinewidth\":2},\"yaxis\":{\"gridcolor\":\"white\",\"linecolor\":\"white\",\"ticks\":\"\",\"title\":{\"standoff\":15},\"zerolinecolor\":\"white\",\"automargin\":true,\"zerolinewidth\":2},\"scene\":{\"xaxis\":{\"backgroundcolor\":\"#E5ECF6\",\"gridcolor\":\"white\",\"linecolor\":\"white\",\"showbackground\":true,\"ticks\":\"\",\"zerolinecolor\":\"white\",\"gridwidth\":2},\"yaxis\":{\"backgroundcolor\":\"#E5ECF6\",\"gridcolor\":\"white\",\"linecolor\":\"white\",\"showbackground\":true,\"ticks\":\"\",\"zerolinecolor\":\"white\",\"gridwidth\":2},\"zaxis\":{\"backgroundcolor\":\"#E5ECF6\",\"gridcolor\":\"white\",\"linecolor\":\"white\",\"showbackground\":true,\"ticks\":\"\",\"zerolinecolor\":\"white\",\"gridwidth\":2}},\"shapedefaults\":{\"line\":{\"color\":\"#2a3f5f\"}},\"annotationdefaults\":{\"arrowcolor\":\"#2a3f5f\",\"arrowhead\":0,\"arrowwidth\":1},\"geo\":{\"bgcolor\":\"white\",\"landcolor\":\"#E5ECF6\",\"subunitcolor\":\"white\",\"showland\":true,\"showlakes\":true,\"lakecolor\":\"white\"},\"title\":{\"x\":0.05},\"mapbox\":{\"style\":\"light\"}}},\"xaxis\":{\"anchor\":\"y\",\"domain\":[0.0,1.0],\"title\":{\"text\":\"year\"}},\"yaxis\":{\"anchor\":\"x\",\"domain\":[0.0,1.0],\"title\":{\"text\":\"value\"}},\"legend\":{\"title\":{\"text\":\"variable\"},\"tracegroupgap\":0},\"title\":{\"text\":\"num_subscribers by year\"},\"height\":400,\"width\":600},                        {\"responsive\": true}                    ).then(function(){\n",
       "                            \n",
       "var gd = document.getElementById('0fab7c88-2a1f-4bbd-86fa-b2389ec2c811');\n",
       "var x = new MutationObserver(function (mutations, observer) {{\n",
       "        var display = window.getComputedStyle(gd).display;\n",
       "        if (!display || display === 'none') {{\n",
       "            console.log([gd, 'removed!']);\n",
       "            Plotly.purge(gd);\n",
       "            observer.disconnect();\n",
       "        }}\n",
       "}});\n",
       "\n",
       "// Listen for the removal of the full notebook cells\n",
       "var notebookContainer = gd.closest('#notebook-container');\n",
       "if (notebookContainer) {{\n",
       "    x.observe(notebookContainer, {childList: true});\n",
       "}}\n",
       "\n",
       "// Listen for the clearing of the current output cell\n",
       "var outputEl = gd.closest('.output');\n",
       "if (outputEl) {{\n",
       "    x.observe(outputEl, {childList: true});\n",
       "}}\n",
       "\n",
       "                        })                };                });            </script>        </div>"
      ]
     },
     "metadata": {},
     "output_type": "display_data"
    }
   ],
   "source": [
    "# visualizing data result\n",
    "\n",
    "chart_title= 'num_subscribers by year'\n",
    "px.line(df[['year', 'num_subscribers']].groupby('year').sum(), markers= True, title= chart_title, height= 400, width= 600)"
   ]
  },
  {
   "cell_type": "markdown",
   "id": "6e30374d",
   "metadata": {
    "id": "6uvI6Hze8GZm",
    "papermill": {
     "duration": 0.050631,
     "end_time": "2023-07-24T06:44:59.693745",
     "exception": false,
     "start_time": "2023-07-24T06:44:59.643114",
     "status": "completed"
    },
    "tags": []
   },
   "source": [
    "- num_subscribers effect directly to profit when it ups profit ups and same for reverse status."
   ]
  },
  {
   "cell_type": "markdown",
   "id": "cb255c09",
   "metadata": {
    "id": "56jrrSZ81mxV",
    "papermill": {
     "duration": 0.051085,
     "end_time": "2023-07-24T06:44:59.795780",
     "exception": false,
     "start_time": "2023-07-24T06:44:59.744695",
     "status": "completed"
    },
    "tags": []
   },
   "source": [
    "# ***Q: How many reviews by years ?***"
   ]
  },
  {
   "cell_type": "code",
   "execution_count": 52,
   "id": "86aead89",
   "metadata": {
    "execution": {
     "iopub.execute_input": "2023-07-24T06:44:59.905181Z",
     "iopub.status.busy": "2023-07-24T06:44:59.904775Z",
     "iopub.status.idle": "2023-07-24T06:44:59.917088Z",
     "shell.execute_reply": "2023-07-24T06:44:59.916312Z"
    },
    "id": "z1iQfb_Wzz81",
    "outputId": "55f3d464-59bb-4e50-8489-18b18324ef2e",
    "papermill": {
     "duration": 0.067622,
     "end_time": "2023-07-24T06:44:59.919135",
     "exception": false,
     "start_time": "2023-07-24T06:44:59.851513",
     "status": "completed"
    },
    "tags": []
   },
   "outputs": [
    {
     "data": {
      "text/html": [
       "<div>\n",
       "<style scoped>\n",
       "    .dataframe tbody tr th:only-of-type {\n",
       "        vertical-align: middle;\n",
       "    }\n",
       "\n",
       "    .dataframe tbody tr th {\n",
       "        vertical-align: top;\n",
       "    }\n",
       "\n",
       "    .dataframe thead th {\n",
       "        text-align: right;\n",
       "    }\n",
       "</style>\n",
       "<table border=\"1\" class=\"dataframe\">\n",
       "  <thead>\n",
       "    <tr style=\"text-align: right;\">\n",
       "      <th></th>\n",
       "      <th>num_reviews</th>\n",
       "    </tr>\n",
       "    <tr>\n",
       "      <th>year</th>\n",
       "      <th></th>\n",
       "    </tr>\n",
       "  </thead>\n",
       "  <tbody>\n",
       "    <tr>\n",
       "      <th>2011</th>\n",
       "      <td>4041</td>\n",
       "    </tr>\n",
       "    <tr>\n",
       "      <th>2012</th>\n",
       "      <td>9230</td>\n",
       "    </tr>\n",
       "    <tr>\n",
       "      <th>2013</th>\n",
       "      <td>36350</td>\n",
       "    </tr>\n",
       "    <tr>\n",
       "      <th>2014</th>\n",
       "      <td>56889</td>\n",
       "    </tr>\n",
       "    <tr>\n",
       "      <th>2015</th>\n",
       "      <td>106871</td>\n",
       "    </tr>\n",
       "    <tr>\n",
       "      <th>2016</th>\n",
       "      <td>133080</td>\n",
       "    </tr>\n",
       "    <tr>\n",
       "      <th>2017</th>\n",
       "      <td>32917</td>\n",
       "    </tr>\n",
       "  </tbody>\n",
       "</table>\n",
       "</div>"
      ],
      "text/plain": [
       "      num_reviews\n",
       "year             \n",
       "2011         4041\n",
       "2012         9230\n",
       "2013        36350\n",
       "2014        56889\n",
       "2015       106871\n",
       "2016       133080\n",
       "2017        32917"
      ]
     },
     "execution_count": 52,
     "metadata": {},
     "output_type": "execute_result"
    }
   ],
   "source": [
    "# select data from dataset\n",
    "\n",
    "df[['year', 'num_reviews']].groupby('year').sum()"
   ]
  },
  {
   "cell_type": "code",
   "execution_count": 53,
   "id": "651c8cdd",
   "metadata": {
    "execution": {
     "iopub.execute_input": "2023-07-24T06:45:00.023997Z",
     "iopub.status.busy": "2023-07-24T06:45:00.023600Z",
     "iopub.status.idle": "2023-07-24T06:45:00.100692Z",
     "shell.execute_reply": "2023-07-24T06:45:00.099591Z"
    },
    "id": "w2gLeR4mz8l8",
    "outputId": "5336a727-1830-4a49-ebdb-15e2d6a683bc",
    "papermill": {
     "duration": 0.132824,
     "end_time": "2023-07-24T06:45:00.103238",
     "exception": false,
     "start_time": "2023-07-24T06:44:59.970414",
     "status": "completed"
    },
    "tags": []
   },
   "outputs": [
    {
     "data": {
      "text/html": [
       "<div>                            <div id=\"dcdfd9af-6cae-42cc-8759-ee435e4ea3de\" class=\"plotly-graph-div\" style=\"height:400px; width:600px;\"></div>            <script type=\"text/javascript\">                require([\"plotly\"], function(Plotly) {                    window.PLOTLYENV=window.PLOTLYENV || {};                                    if (document.getElementById(\"dcdfd9af-6cae-42cc-8759-ee435e4ea3de\")) {                    Plotly.newPlot(                        \"dcdfd9af-6cae-42cc-8759-ee435e4ea3de\",                        [{\"hovertemplate\":\"variable=num_reviews\\u003cbr\\u003eyear=%{x}\\u003cbr\\u003evalue=%{y}\\u003cextra\\u003e\\u003c\\u002fextra\\u003e\",\"legendgroup\":\"num_reviews\",\"line\":{\"color\":\"#636efa\",\"dash\":\"solid\"},\"marker\":{\"symbol\":\"circle\"},\"mode\":\"lines+markers\",\"name\":\"num_reviews\",\"orientation\":\"v\",\"showlegend\":true,\"x\":[2011,2012,2013,2014,2015,2016,2017],\"xaxis\":\"x\",\"y\":[4041,9230,36350,56889,106871,133080,32917],\"yaxis\":\"y\",\"type\":\"scatter\"}],                        {\"template\":{\"data\":{\"histogram2dcontour\":[{\"type\":\"histogram2dcontour\",\"colorbar\":{\"outlinewidth\":0,\"ticks\":\"\"},\"colorscale\":[[0.0,\"#0d0887\"],[0.1111111111111111,\"#46039f\"],[0.2222222222222222,\"#7201a8\"],[0.3333333333333333,\"#9c179e\"],[0.4444444444444444,\"#bd3786\"],[0.5555555555555556,\"#d8576b\"],[0.6666666666666666,\"#ed7953\"],[0.7777777777777778,\"#fb9f3a\"],[0.8888888888888888,\"#fdca26\"],[1.0,\"#f0f921\"]]}],\"choropleth\":[{\"type\":\"choropleth\",\"colorbar\":{\"outlinewidth\":0,\"ticks\":\"\"}}],\"histogram2d\":[{\"type\":\"histogram2d\",\"colorbar\":{\"outlinewidth\":0,\"ticks\":\"\"},\"colorscale\":[[0.0,\"#0d0887\"],[0.1111111111111111,\"#46039f\"],[0.2222222222222222,\"#7201a8\"],[0.3333333333333333,\"#9c179e\"],[0.4444444444444444,\"#bd3786\"],[0.5555555555555556,\"#d8576b\"],[0.6666666666666666,\"#ed7953\"],[0.7777777777777778,\"#fb9f3a\"],[0.8888888888888888,\"#fdca26\"],[1.0,\"#f0f921\"]]}],\"heatmap\":[{\"type\":\"heatmap\",\"colorbar\":{\"outlinewidth\":0,\"ticks\":\"\"},\"colorscale\":[[0.0,\"#0d0887\"],[0.1111111111111111,\"#46039f\"],[0.2222222222222222,\"#7201a8\"],[0.3333333333333333,\"#9c179e\"],[0.4444444444444444,\"#bd3786\"],[0.5555555555555556,\"#d8576b\"],[0.6666666666666666,\"#ed7953\"],[0.7777777777777778,\"#fb9f3a\"],[0.8888888888888888,\"#fdca26\"],[1.0,\"#f0f921\"]]}],\"heatmapgl\":[{\"type\":\"heatmapgl\",\"colorbar\":{\"outlinewidth\":0,\"ticks\":\"\"},\"colorscale\":[[0.0,\"#0d0887\"],[0.1111111111111111,\"#46039f\"],[0.2222222222222222,\"#7201a8\"],[0.3333333333333333,\"#9c179e\"],[0.4444444444444444,\"#bd3786\"],[0.5555555555555556,\"#d8576b\"],[0.6666666666666666,\"#ed7953\"],[0.7777777777777778,\"#fb9f3a\"],[0.8888888888888888,\"#fdca26\"],[1.0,\"#f0f921\"]]}],\"contourcarpet\":[{\"type\":\"contourcarpet\",\"colorbar\":{\"outlinewidth\":0,\"ticks\":\"\"}}],\"contour\":[{\"type\":\"contour\",\"colorbar\":{\"outlinewidth\":0,\"ticks\":\"\"},\"colorscale\":[[0.0,\"#0d0887\"],[0.1111111111111111,\"#46039f\"],[0.2222222222222222,\"#7201a8\"],[0.3333333333333333,\"#9c179e\"],[0.4444444444444444,\"#bd3786\"],[0.5555555555555556,\"#d8576b\"],[0.6666666666666666,\"#ed7953\"],[0.7777777777777778,\"#fb9f3a\"],[0.8888888888888888,\"#fdca26\"],[1.0,\"#f0f921\"]]}],\"surface\":[{\"type\":\"surface\",\"colorbar\":{\"outlinewidth\":0,\"ticks\":\"\"},\"colorscale\":[[0.0,\"#0d0887\"],[0.1111111111111111,\"#46039f\"],[0.2222222222222222,\"#7201a8\"],[0.3333333333333333,\"#9c179e\"],[0.4444444444444444,\"#bd3786\"],[0.5555555555555556,\"#d8576b\"],[0.6666666666666666,\"#ed7953\"],[0.7777777777777778,\"#fb9f3a\"],[0.8888888888888888,\"#fdca26\"],[1.0,\"#f0f921\"]]}],\"mesh3d\":[{\"type\":\"mesh3d\",\"colorbar\":{\"outlinewidth\":0,\"ticks\":\"\"}}],\"scatter\":[{\"fillpattern\":{\"fillmode\":\"overlay\",\"size\":10,\"solidity\":0.2},\"type\":\"scatter\"}],\"parcoords\":[{\"type\":\"parcoords\",\"line\":{\"colorbar\":{\"outlinewidth\":0,\"ticks\":\"\"}}}],\"scatterpolargl\":[{\"type\":\"scatterpolargl\",\"marker\":{\"colorbar\":{\"outlinewidth\":0,\"ticks\":\"\"}}}],\"bar\":[{\"error_x\":{\"color\":\"#2a3f5f\"},\"error_y\":{\"color\":\"#2a3f5f\"},\"marker\":{\"line\":{\"color\":\"#E5ECF6\",\"width\":0.5},\"pattern\":{\"fillmode\":\"overlay\",\"size\":10,\"solidity\":0.2}},\"type\":\"bar\"}],\"scattergeo\":[{\"type\":\"scattergeo\",\"marker\":{\"colorbar\":{\"outlinewidth\":0,\"ticks\":\"\"}}}],\"scatterpolar\":[{\"type\":\"scatterpolar\",\"marker\":{\"colorbar\":{\"outlinewidth\":0,\"ticks\":\"\"}}}],\"histogram\":[{\"marker\":{\"pattern\":{\"fillmode\":\"overlay\",\"size\":10,\"solidity\":0.2}},\"type\":\"histogram\"}],\"scattergl\":[{\"type\":\"scattergl\",\"marker\":{\"colorbar\":{\"outlinewidth\":0,\"ticks\":\"\"}}}],\"scatter3d\":[{\"type\":\"scatter3d\",\"line\":{\"colorbar\":{\"outlinewidth\":0,\"ticks\":\"\"}},\"marker\":{\"colorbar\":{\"outlinewidth\":0,\"ticks\":\"\"}}}],\"scattermapbox\":[{\"type\":\"scattermapbox\",\"marker\":{\"colorbar\":{\"outlinewidth\":0,\"ticks\":\"\"}}}],\"scatterternary\":[{\"type\":\"scatterternary\",\"marker\":{\"colorbar\":{\"outlinewidth\":0,\"ticks\":\"\"}}}],\"scattercarpet\":[{\"type\":\"scattercarpet\",\"marker\":{\"colorbar\":{\"outlinewidth\":0,\"ticks\":\"\"}}}],\"carpet\":[{\"aaxis\":{\"endlinecolor\":\"#2a3f5f\",\"gridcolor\":\"white\",\"linecolor\":\"white\",\"minorgridcolor\":\"white\",\"startlinecolor\":\"#2a3f5f\"},\"baxis\":{\"endlinecolor\":\"#2a3f5f\",\"gridcolor\":\"white\",\"linecolor\":\"white\",\"minorgridcolor\":\"white\",\"startlinecolor\":\"#2a3f5f\"},\"type\":\"carpet\"}],\"table\":[{\"cells\":{\"fill\":{\"color\":\"#EBF0F8\"},\"line\":{\"color\":\"white\"}},\"header\":{\"fill\":{\"color\":\"#C8D4E3\"},\"line\":{\"color\":\"white\"}},\"type\":\"table\"}],\"barpolar\":[{\"marker\":{\"line\":{\"color\":\"#E5ECF6\",\"width\":0.5},\"pattern\":{\"fillmode\":\"overlay\",\"size\":10,\"solidity\":0.2}},\"type\":\"barpolar\"}],\"pie\":[{\"automargin\":true,\"type\":\"pie\"}]},\"layout\":{\"autotypenumbers\":\"strict\",\"colorway\":[\"#636efa\",\"#EF553B\",\"#00cc96\",\"#ab63fa\",\"#FFA15A\",\"#19d3f3\",\"#FF6692\",\"#B6E880\",\"#FF97FF\",\"#FECB52\"],\"font\":{\"color\":\"#2a3f5f\"},\"hovermode\":\"closest\",\"hoverlabel\":{\"align\":\"left\"},\"paper_bgcolor\":\"white\",\"plot_bgcolor\":\"#E5ECF6\",\"polar\":{\"bgcolor\":\"#E5ECF6\",\"angularaxis\":{\"gridcolor\":\"white\",\"linecolor\":\"white\",\"ticks\":\"\"},\"radialaxis\":{\"gridcolor\":\"white\",\"linecolor\":\"white\",\"ticks\":\"\"}},\"ternary\":{\"bgcolor\":\"#E5ECF6\",\"aaxis\":{\"gridcolor\":\"white\",\"linecolor\":\"white\",\"ticks\":\"\"},\"baxis\":{\"gridcolor\":\"white\",\"linecolor\":\"white\",\"ticks\":\"\"},\"caxis\":{\"gridcolor\":\"white\",\"linecolor\":\"white\",\"ticks\":\"\"}},\"coloraxis\":{\"colorbar\":{\"outlinewidth\":0,\"ticks\":\"\"}},\"colorscale\":{\"sequential\":[[0.0,\"#0d0887\"],[0.1111111111111111,\"#46039f\"],[0.2222222222222222,\"#7201a8\"],[0.3333333333333333,\"#9c179e\"],[0.4444444444444444,\"#bd3786\"],[0.5555555555555556,\"#d8576b\"],[0.6666666666666666,\"#ed7953\"],[0.7777777777777778,\"#fb9f3a\"],[0.8888888888888888,\"#fdca26\"],[1.0,\"#f0f921\"]],\"sequentialminus\":[[0.0,\"#0d0887\"],[0.1111111111111111,\"#46039f\"],[0.2222222222222222,\"#7201a8\"],[0.3333333333333333,\"#9c179e\"],[0.4444444444444444,\"#bd3786\"],[0.5555555555555556,\"#d8576b\"],[0.6666666666666666,\"#ed7953\"],[0.7777777777777778,\"#fb9f3a\"],[0.8888888888888888,\"#fdca26\"],[1.0,\"#f0f921\"]],\"diverging\":[[0,\"#8e0152\"],[0.1,\"#c51b7d\"],[0.2,\"#de77ae\"],[0.3,\"#f1b6da\"],[0.4,\"#fde0ef\"],[0.5,\"#f7f7f7\"],[0.6,\"#e6f5d0\"],[0.7,\"#b8e186\"],[0.8,\"#7fbc41\"],[0.9,\"#4d9221\"],[1,\"#276419\"]]},\"xaxis\":{\"gridcolor\":\"white\",\"linecolor\":\"white\",\"ticks\":\"\",\"title\":{\"standoff\":15},\"zerolinecolor\":\"white\",\"automargin\":true,\"zerolinewidth\":2},\"yaxis\":{\"gridcolor\":\"white\",\"linecolor\":\"white\",\"ticks\":\"\",\"title\":{\"standoff\":15},\"zerolinecolor\":\"white\",\"automargin\":true,\"zerolinewidth\":2},\"scene\":{\"xaxis\":{\"backgroundcolor\":\"#E5ECF6\",\"gridcolor\":\"white\",\"linecolor\":\"white\",\"showbackground\":true,\"ticks\":\"\",\"zerolinecolor\":\"white\",\"gridwidth\":2},\"yaxis\":{\"backgroundcolor\":\"#E5ECF6\",\"gridcolor\":\"white\",\"linecolor\":\"white\",\"showbackground\":true,\"ticks\":\"\",\"zerolinecolor\":\"white\",\"gridwidth\":2},\"zaxis\":{\"backgroundcolor\":\"#E5ECF6\",\"gridcolor\":\"white\",\"linecolor\":\"white\",\"showbackground\":true,\"ticks\":\"\",\"zerolinecolor\":\"white\",\"gridwidth\":2}},\"shapedefaults\":{\"line\":{\"color\":\"#2a3f5f\"}},\"annotationdefaults\":{\"arrowcolor\":\"#2a3f5f\",\"arrowhead\":0,\"arrowwidth\":1},\"geo\":{\"bgcolor\":\"white\",\"landcolor\":\"#E5ECF6\",\"subunitcolor\":\"white\",\"showland\":true,\"showlakes\":true,\"lakecolor\":\"white\"},\"title\":{\"x\":0.05},\"mapbox\":{\"style\":\"light\"}}},\"xaxis\":{\"anchor\":\"y\",\"domain\":[0.0,1.0],\"title\":{\"text\":\"year\"}},\"yaxis\":{\"anchor\":\"x\",\"domain\":[0.0,1.0],\"title\":{\"text\":\"value\"}},\"legend\":{\"title\":{\"text\":\"variable\"},\"tracegroupgap\":0},\"title\":{\"text\":\"num_reviews by year\"},\"height\":400,\"width\":600},                        {\"responsive\": true}                    ).then(function(){\n",
       "                            \n",
       "var gd = document.getElementById('dcdfd9af-6cae-42cc-8759-ee435e4ea3de');\n",
       "var x = new MutationObserver(function (mutations, observer) {{\n",
       "        var display = window.getComputedStyle(gd).display;\n",
       "        if (!display || display === 'none') {{\n",
       "            console.log([gd, 'removed!']);\n",
       "            Plotly.purge(gd);\n",
       "            observer.disconnect();\n",
       "        }}\n",
       "}});\n",
       "\n",
       "// Listen for the removal of the full notebook cells\n",
       "var notebookContainer = gd.closest('#notebook-container');\n",
       "if (notebookContainer) {{\n",
       "    x.observe(notebookContainer, {childList: true});\n",
       "}}\n",
       "\n",
       "// Listen for the clearing of the current output cell\n",
       "var outputEl = gd.closest('.output');\n",
       "if (outputEl) {{\n",
       "    x.observe(outputEl, {childList: true});\n",
       "}}\n",
       "\n",
       "                        })                };                });            </script>        </div>"
      ]
     },
     "metadata": {},
     "output_type": "display_data"
    }
   ],
   "source": [
    "# visualizing data result\n",
    "\n",
    "chart_title= 'num_reviews by year'\n",
    "px.line(df[['year', 'num_reviews']].groupby('year').sum(), markers= True, title= chart_title, height= 400, width= 600)"
   ]
  },
  {
   "cell_type": "markdown",
   "id": "75cc7057",
   "metadata": {
    "id": "GFcjebCI8kSF",
    "papermill": {
     "duration": 0.051155,
     "end_time": "2023-07-24T06:45:00.206037",
     "exception": false,
     "start_time": "2023-07-24T06:45:00.154882",
     "status": "completed"
    },
    "tags": []
   },
   "source": [
    "- num_reviews increased in (2015-2016) but num_subscribers down maybe that indicate the most of reviews at this time period are negative"
   ]
  },
  {
   "cell_type": "markdown",
   "id": "0db51b0a",
   "metadata": {
    "id": "4TbJjO436xtc",
    "papermill": {
     "duration": 0.052029,
     "end_time": "2023-07-24T06:45:00.310761",
     "exception": false,
     "start_time": "2023-07-24T06:45:00.258732",
     "status": "completed"
    },
    "tags": []
   },
   "source": [
    "# ***Q: How many courses by years ?***"
   ]
  },
  {
   "cell_type": "code",
   "execution_count": 54,
   "id": "bf35f7f1",
   "metadata": {
    "execution": {
     "iopub.execute_input": "2023-07-24T06:45:00.415288Z",
     "iopub.status.busy": "2023-07-24T06:45:00.414873Z",
     "iopub.status.idle": "2023-07-24T06:45:00.428675Z",
     "shell.execute_reply": "2023-07-24T06:45:00.427567Z"
    },
    "id": "QcOQSgZ79XTF",
    "outputId": "6073db4a-ff00-427b-acee-bf021f03f0fc",
    "papermill": {
     "duration": 0.068756,
     "end_time": "2023-07-24T06:45:00.431026",
     "exception": false,
     "start_time": "2023-07-24T06:45:00.362270",
     "status": "completed"
    },
    "tags": []
   },
   "outputs": [
    {
     "data": {
      "text/html": [
       "<div>\n",
       "<style scoped>\n",
       "    .dataframe tbody tr th:only-of-type {\n",
       "        vertical-align: middle;\n",
       "    }\n",
       "\n",
       "    .dataframe tbody tr th {\n",
       "        vertical-align: top;\n",
       "    }\n",
       "\n",
       "    .dataframe thead th {\n",
       "        text-align: right;\n",
       "    }\n",
       "</style>\n",
       "<table border=\"1\" class=\"dataframe\">\n",
       "  <thead>\n",
       "    <tr style=\"text-align: right;\">\n",
       "      <th></th>\n",
       "      <th>course_id</th>\n",
       "    </tr>\n",
       "    <tr>\n",
       "      <th>year</th>\n",
       "      <th></th>\n",
       "    </tr>\n",
       "  </thead>\n",
       "  <tbody>\n",
       "    <tr>\n",
       "      <th>2011</th>\n",
       "      <td>5</td>\n",
       "    </tr>\n",
       "    <tr>\n",
       "      <th>2012</th>\n",
       "      <td>44</td>\n",
       "    </tr>\n",
       "    <tr>\n",
       "      <th>2013</th>\n",
       "      <td>197</td>\n",
       "    </tr>\n",
       "    <tr>\n",
       "      <th>2014</th>\n",
       "      <td>486</td>\n",
       "    </tr>\n",
       "    <tr>\n",
       "      <th>2015</th>\n",
       "      <td>1006</td>\n",
       "    </tr>\n",
       "    <tr>\n",
       "      <th>2016</th>\n",
       "      <td>1199</td>\n",
       "    </tr>\n",
       "    <tr>\n",
       "      <th>2017</th>\n",
       "      <td>713</td>\n",
       "    </tr>\n",
       "  </tbody>\n",
       "</table>\n",
       "</div>"
      ],
      "text/plain": [
       "      course_id\n",
       "year           \n",
       "2011          5\n",
       "2012         44\n",
       "2013        197\n",
       "2014        486\n",
       "2015       1006\n",
       "2016       1199\n",
       "2017        713"
      ]
     },
     "execution_count": 54,
     "metadata": {},
     "output_type": "execute_result"
    }
   ],
   "source": [
    "# select data\n",
    "\n",
    "df[['year', 'course_id']].groupby('year').count()"
   ]
  },
  {
   "cell_type": "code",
   "execution_count": 55,
   "id": "74363557",
   "metadata": {
    "execution": {
     "iopub.execute_input": "2023-07-24T06:45:00.536820Z",
     "iopub.status.busy": "2023-07-24T06:45:00.536385Z",
     "iopub.status.idle": "2023-07-24T06:45:00.614747Z",
     "shell.execute_reply": "2023-07-24T06:45:00.613589Z"
    },
    "id": "QGYmpRrB9i-b",
    "outputId": "b4ad6bb2-9c1b-4005-f5af-647a211f790e",
    "papermill": {
     "duration": 0.134414,
     "end_time": "2023-07-24T06:45:00.617290",
     "exception": false,
     "start_time": "2023-07-24T06:45:00.482876",
     "status": "completed"
    },
    "tags": []
   },
   "outputs": [
    {
     "data": {
      "text/html": [
       "<div>                            <div id=\"0e8b7015-4e9c-4729-8c36-d21259dadf77\" class=\"plotly-graph-div\" style=\"height:400px; width:600px;\"></div>            <script type=\"text/javascript\">                require([\"plotly\"], function(Plotly) {                    window.PLOTLYENV=window.PLOTLYENV || {};                                    if (document.getElementById(\"0e8b7015-4e9c-4729-8c36-d21259dadf77\")) {                    Plotly.newPlot(                        \"0e8b7015-4e9c-4729-8c36-d21259dadf77\",                        [{\"hovertemplate\":\"variable=course_id\\u003cbr\\u003eyear=%{x}\\u003cbr\\u003evalue=%{y}\\u003cextra\\u003e\\u003c\\u002fextra\\u003e\",\"legendgroup\":\"course_id\",\"line\":{\"color\":\"#636efa\",\"dash\":\"solid\"},\"marker\":{\"symbol\":\"circle\"},\"mode\":\"lines+markers\",\"name\":\"course_id\",\"orientation\":\"v\",\"showlegend\":true,\"x\":[2011,2012,2013,2014,2015,2016,2017],\"xaxis\":\"x\",\"y\":[5,44,197,486,1006,1199,713],\"yaxis\":\"y\",\"type\":\"scatter\"}],                        {\"template\":{\"data\":{\"histogram2dcontour\":[{\"type\":\"histogram2dcontour\",\"colorbar\":{\"outlinewidth\":0,\"ticks\":\"\"},\"colorscale\":[[0.0,\"#0d0887\"],[0.1111111111111111,\"#46039f\"],[0.2222222222222222,\"#7201a8\"],[0.3333333333333333,\"#9c179e\"],[0.4444444444444444,\"#bd3786\"],[0.5555555555555556,\"#d8576b\"],[0.6666666666666666,\"#ed7953\"],[0.7777777777777778,\"#fb9f3a\"],[0.8888888888888888,\"#fdca26\"],[1.0,\"#f0f921\"]]}],\"choropleth\":[{\"type\":\"choropleth\",\"colorbar\":{\"outlinewidth\":0,\"ticks\":\"\"}}],\"histogram2d\":[{\"type\":\"histogram2d\",\"colorbar\":{\"outlinewidth\":0,\"ticks\":\"\"},\"colorscale\":[[0.0,\"#0d0887\"],[0.1111111111111111,\"#46039f\"],[0.2222222222222222,\"#7201a8\"],[0.3333333333333333,\"#9c179e\"],[0.4444444444444444,\"#bd3786\"],[0.5555555555555556,\"#d8576b\"],[0.6666666666666666,\"#ed7953\"],[0.7777777777777778,\"#fb9f3a\"],[0.8888888888888888,\"#fdca26\"],[1.0,\"#f0f921\"]]}],\"heatmap\":[{\"type\":\"heatmap\",\"colorbar\":{\"outlinewidth\":0,\"ticks\":\"\"},\"colorscale\":[[0.0,\"#0d0887\"],[0.1111111111111111,\"#46039f\"],[0.2222222222222222,\"#7201a8\"],[0.3333333333333333,\"#9c179e\"],[0.4444444444444444,\"#bd3786\"],[0.5555555555555556,\"#d8576b\"],[0.6666666666666666,\"#ed7953\"],[0.7777777777777778,\"#fb9f3a\"],[0.8888888888888888,\"#fdca26\"],[1.0,\"#f0f921\"]]}],\"heatmapgl\":[{\"type\":\"heatmapgl\",\"colorbar\":{\"outlinewidth\":0,\"ticks\":\"\"},\"colorscale\":[[0.0,\"#0d0887\"],[0.1111111111111111,\"#46039f\"],[0.2222222222222222,\"#7201a8\"],[0.3333333333333333,\"#9c179e\"],[0.4444444444444444,\"#bd3786\"],[0.5555555555555556,\"#d8576b\"],[0.6666666666666666,\"#ed7953\"],[0.7777777777777778,\"#fb9f3a\"],[0.8888888888888888,\"#fdca26\"],[1.0,\"#f0f921\"]]}],\"contourcarpet\":[{\"type\":\"contourcarpet\",\"colorbar\":{\"outlinewidth\":0,\"ticks\":\"\"}}],\"contour\":[{\"type\":\"contour\",\"colorbar\":{\"outlinewidth\":0,\"ticks\":\"\"},\"colorscale\":[[0.0,\"#0d0887\"],[0.1111111111111111,\"#46039f\"],[0.2222222222222222,\"#7201a8\"],[0.3333333333333333,\"#9c179e\"],[0.4444444444444444,\"#bd3786\"],[0.5555555555555556,\"#d8576b\"],[0.6666666666666666,\"#ed7953\"],[0.7777777777777778,\"#fb9f3a\"],[0.8888888888888888,\"#fdca26\"],[1.0,\"#f0f921\"]]}],\"surface\":[{\"type\":\"surface\",\"colorbar\":{\"outlinewidth\":0,\"ticks\":\"\"},\"colorscale\":[[0.0,\"#0d0887\"],[0.1111111111111111,\"#46039f\"],[0.2222222222222222,\"#7201a8\"],[0.3333333333333333,\"#9c179e\"],[0.4444444444444444,\"#bd3786\"],[0.5555555555555556,\"#d8576b\"],[0.6666666666666666,\"#ed7953\"],[0.7777777777777778,\"#fb9f3a\"],[0.8888888888888888,\"#fdca26\"],[1.0,\"#f0f921\"]]}],\"mesh3d\":[{\"type\":\"mesh3d\",\"colorbar\":{\"outlinewidth\":0,\"ticks\":\"\"}}],\"scatter\":[{\"fillpattern\":{\"fillmode\":\"overlay\",\"size\":10,\"solidity\":0.2},\"type\":\"scatter\"}],\"parcoords\":[{\"type\":\"parcoords\",\"line\":{\"colorbar\":{\"outlinewidth\":0,\"ticks\":\"\"}}}],\"scatterpolargl\":[{\"type\":\"scatterpolargl\",\"marker\":{\"colorbar\":{\"outlinewidth\":0,\"ticks\":\"\"}}}],\"bar\":[{\"error_x\":{\"color\":\"#2a3f5f\"},\"error_y\":{\"color\":\"#2a3f5f\"},\"marker\":{\"line\":{\"color\":\"#E5ECF6\",\"width\":0.5},\"pattern\":{\"fillmode\":\"overlay\",\"size\":10,\"solidity\":0.2}},\"type\":\"bar\"}],\"scattergeo\":[{\"type\":\"scattergeo\",\"marker\":{\"colorbar\":{\"outlinewidth\":0,\"ticks\":\"\"}}}],\"scatterpolar\":[{\"type\":\"scatterpolar\",\"marker\":{\"colorbar\":{\"outlinewidth\":0,\"ticks\":\"\"}}}],\"histogram\":[{\"marker\":{\"pattern\":{\"fillmode\":\"overlay\",\"size\":10,\"solidity\":0.2}},\"type\":\"histogram\"}],\"scattergl\":[{\"type\":\"scattergl\",\"marker\":{\"colorbar\":{\"outlinewidth\":0,\"ticks\":\"\"}}}],\"scatter3d\":[{\"type\":\"scatter3d\",\"line\":{\"colorbar\":{\"outlinewidth\":0,\"ticks\":\"\"}},\"marker\":{\"colorbar\":{\"outlinewidth\":0,\"ticks\":\"\"}}}],\"scattermapbox\":[{\"type\":\"scattermapbox\",\"marker\":{\"colorbar\":{\"outlinewidth\":0,\"ticks\":\"\"}}}],\"scatterternary\":[{\"type\":\"scatterternary\",\"marker\":{\"colorbar\":{\"outlinewidth\":0,\"ticks\":\"\"}}}],\"scattercarpet\":[{\"type\":\"scattercarpet\",\"marker\":{\"colorbar\":{\"outlinewidth\":0,\"ticks\":\"\"}}}],\"carpet\":[{\"aaxis\":{\"endlinecolor\":\"#2a3f5f\",\"gridcolor\":\"white\",\"linecolor\":\"white\",\"minorgridcolor\":\"white\",\"startlinecolor\":\"#2a3f5f\"},\"baxis\":{\"endlinecolor\":\"#2a3f5f\",\"gridcolor\":\"white\",\"linecolor\":\"white\",\"minorgridcolor\":\"white\",\"startlinecolor\":\"#2a3f5f\"},\"type\":\"carpet\"}],\"table\":[{\"cells\":{\"fill\":{\"color\":\"#EBF0F8\"},\"line\":{\"color\":\"white\"}},\"header\":{\"fill\":{\"color\":\"#C8D4E3\"},\"line\":{\"color\":\"white\"}},\"type\":\"table\"}],\"barpolar\":[{\"marker\":{\"line\":{\"color\":\"#E5ECF6\",\"width\":0.5},\"pattern\":{\"fillmode\":\"overlay\",\"size\":10,\"solidity\":0.2}},\"type\":\"barpolar\"}],\"pie\":[{\"automargin\":true,\"type\":\"pie\"}]},\"layout\":{\"autotypenumbers\":\"strict\",\"colorway\":[\"#636efa\",\"#EF553B\",\"#00cc96\",\"#ab63fa\",\"#FFA15A\",\"#19d3f3\",\"#FF6692\",\"#B6E880\",\"#FF97FF\",\"#FECB52\"],\"font\":{\"color\":\"#2a3f5f\"},\"hovermode\":\"closest\",\"hoverlabel\":{\"align\":\"left\"},\"paper_bgcolor\":\"white\",\"plot_bgcolor\":\"#E5ECF6\",\"polar\":{\"bgcolor\":\"#E5ECF6\",\"angularaxis\":{\"gridcolor\":\"white\",\"linecolor\":\"white\",\"ticks\":\"\"},\"radialaxis\":{\"gridcolor\":\"white\",\"linecolor\":\"white\",\"ticks\":\"\"}},\"ternary\":{\"bgcolor\":\"#E5ECF6\",\"aaxis\":{\"gridcolor\":\"white\",\"linecolor\":\"white\",\"ticks\":\"\"},\"baxis\":{\"gridcolor\":\"white\",\"linecolor\":\"white\",\"ticks\":\"\"},\"caxis\":{\"gridcolor\":\"white\",\"linecolor\":\"white\",\"ticks\":\"\"}},\"coloraxis\":{\"colorbar\":{\"outlinewidth\":0,\"ticks\":\"\"}},\"colorscale\":{\"sequential\":[[0.0,\"#0d0887\"],[0.1111111111111111,\"#46039f\"],[0.2222222222222222,\"#7201a8\"],[0.3333333333333333,\"#9c179e\"],[0.4444444444444444,\"#bd3786\"],[0.5555555555555556,\"#d8576b\"],[0.6666666666666666,\"#ed7953\"],[0.7777777777777778,\"#fb9f3a\"],[0.8888888888888888,\"#fdca26\"],[1.0,\"#f0f921\"]],\"sequentialminus\":[[0.0,\"#0d0887\"],[0.1111111111111111,\"#46039f\"],[0.2222222222222222,\"#7201a8\"],[0.3333333333333333,\"#9c179e\"],[0.4444444444444444,\"#bd3786\"],[0.5555555555555556,\"#d8576b\"],[0.6666666666666666,\"#ed7953\"],[0.7777777777777778,\"#fb9f3a\"],[0.8888888888888888,\"#fdca26\"],[1.0,\"#f0f921\"]],\"diverging\":[[0,\"#8e0152\"],[0.1,\"#c51b7d\"],[0.2,\"#de77ae\"],[0.3,\"#f1b6da\"],[0.4,\"#fde0ef\"],[0.5,\"#f7f7f7\"],[0.6,\"#e6f5d0\"],[0.7,\"#b8e186\"],[0.8,\"#7fbc41\"],[0.9,\"#4d9221\"],[1,\"#276419\"]]},\"xaxis\":{\"gridcolor\":\"white\",\"linecolor\":\"white\",\"ticks\":\"\",\"title\":{\"standoff\":15},\"zerolinecolor\":\"white\",\"automargin\":true,\"zerolinewidth\":2},\"yaxis\":{\"gridcolor\":\"white\",\"linecolor\":\"white\",\"ticks\":\"\",\"title\":{\"standoff\":15},\"zerolinecolor\":\"white\",\"automargin\":true,\"zerolinewidth\":2},\"scene\":{\"xaxis\":{\"backgroundcolor\":\"#E5ECF6\",\"gridcolor\":\"white\",\"linecolor\":\"white\",\"showbackground\":true,\"ticks\":\"\",\"zerolinecolor\":\"white\",\"gridwidth\":2},\"yaxis\":{\"backgroundcolor\":\"#E5ECF6\",\"gridcolor\":\"white\",\"linecolor\":\"white\",\"showbackground\":true,\"ticks\":\"\",\"zerolinecolor\":\"white\",\"gridwidth\":2},\"zaxis\":{\"backgroundcolor\":\"#E5ECF6\",\"gridcolor\":\"white\",\"linecolor\":\"white\",\"showbackground\":true,\"ticks\":\"\",\"zerolinecolor\":\"white\",\"gridwidth\":2}},\"shapedefaults\":{\"line\":{\"color\":\"#2a3f5f\"}},\"annotationdefaults\":{\"arrowcolor\":\"#2a3f5f\",\"arrowhead\":0,\"arrowwidth\":1},\"geo\":{\"bgcolor\":\"white\",\"landcolor\":\"#E5ECF6\",\"subunitcolor\":\"white\",\"showland\":true,\"showlakes\":true,\"lakecolor\":\"white\"},\"title\":{\"x\":0.05},\"mapbox\":{\"style\":\"light\"}}},\"xaxis\":{\"anchor\":\"y\",\"domain\":[0.0,1.0],\"title\":{\"text\":\"year\"}},\"yaxis\":{\"anchor\":\"x\",\"domain\":[0.0,1.0],\"title\":{\"text\":\"value\"}},\"legend\":{\"title\":{\"text\":\"variable\"},\"tracegroupgap\":0},\"title\":{\"text\":\"# courses by year\"},\"height\":400,\"width\":600},                        {\"responsive\": true}                    ).then(function(){\n",
       "                            \n",
       "var gd = document.getElementById('0e8b7015-4e9c-4729-8c36-d21259dadf77');\n",
       "var x = new MutationObserver(function (mutations, observer) {{\n",
       "        var display = window.getComputedStyle(gd).display;\n",
       "        if (!display || display === 'none') {{\n",
       "            console.log([gd, 'removed!']);\n",
       "            Plotly.purge(gd);\n",
       "            observer.disconnect();\n",
       "        }}\n",
       "}});\n",
       "\n",
       "// Listen for the removal of the full notebook cells\n",
       "var notebookContainer = gd.closest('#notebook-container');\n",
       "if (notebookContainer) {{\n",
       "    x.observe(notebookContainer, {childList: true});\n",
       "}}\n",
       "\n",
       "// Listen for the clearing of the current output cell\n",
       "var outputEl = gd.closest('.output');\n",
       "if (outputEl) {{\n",
       "    x.observe(outputEl, {childList: true});\n",
       "}}\n",
       "\n",
       "                        })                };                });            </script>        </div>"
      ]
     },
     "metadata": {},
     "output_type": "display_data"
    }
   ],
   "source": [
    "# visualizing data result\n",
    "\n",
    "chart_title= '# courses by year'\n",
    "px.line(df[['year', 'course_id']].groupby('year').count(), markers= True, title= chart_title, height= 400, width= 600)"
   ]
  },
  {
   "cell_type": "markdown",
   "id": "fba56a61",
   "metadata": {
    "id": "_Te5D6pS913z",
    "papermill": {
     "duration": 0.052115,
     "end_time": "2023-07-24T06:45:00.722121",
     "exception": false,
     "start_time": "2023-07-24T06:45:00.670006",
     "status": "completed"
    },
    "tags": []
   },
   "source": [
    "- num_courses increased (2015-2016) but num_subscribers decreased in (2015-2016) ,maybe this because the AVG price ups (2015-2016) so the courses comes more expensses"
   ]
  },
  {
   "cell_type": "markdown",
   "id": "6f38a5cd",
   "metadata": {
    "id": "GBc5Eu-s7bd_",
    "papermill": {
     "duration": 0.052868,
     "end_time": "2023-07-24T06:45:00.827959",
     "exception": false,
     "start_time": "2023-07-24T06:45:00.775091",
     "status": "completed"
    },
    "tags": []
   },
   "source": [
    "- there is close to be a good relation between num_courses and profit."
   ]
  },
  {
   "cell_type": "markdown",
   "id": "20004363",
   "metadata": {
    "id": "AT8CZ0YH2KoB",
    "papermill": {
     "duration": 0.051893,
     "end_time": "2023-07-24T06:45:00.932998",
     "exception": false,
     "start_time": "2023-07-24T06:45:00.881105",
     "status": "completed"
    },
    "tags": []
   },
   "source": [
    "# ***Q: How much profit for each subject regarding to years ?***"
   ]
  },
  {
   "cell_type": "code",
   "execution_count": 56,
   "id": "09963daf",
   "metadata": {
    "execution": {
     "iopub.execute_input": "2023-07-24T06:45:01.040337Z",
     "iopub.status.busy": "2023-07-24T06:45:01.039938Z",
     "iopub.status.idle": "2023-07-24T06:45:01.057394Z",
     "shell.execute_reply": "2023-07-24T06:45:01.056252Z"
    },
    "id": "_QR4Gd-FwjPH",
    "outputId": "26f66b83-13cf-4051-c5a6-41ec3e7d3d21",
    "papermill": {
     "duration": 0.073892,
     "end_time": "2023-07-24T06:45:01.059960",
     "exception": false,
     "start_time": "2023-07-24T06:45:00.986068",
     "status": "completed"
    },
    "tags": []
   },
   "outputs": [
    {
     "data": {
      "text/html": [
       "<div>\n",
       "<style scoped>\n",
       "    .dataframe tbody tr th:only-of-type {\n",
       "        vertical-align: middle;\n",
       "    }\n",
       "\n",
       "    .dataframe tbody tr th {\n",
       "        vertical-align: top;\n",
       "    }\n",
       "\n",
       "    .dataframe thead th {\n",
       "        text-align: right;\n",
       "    }\n",
       "</style>\n",
       "<table border=\"1\" class=\"dataframe\">\n",
       "  <thead>\n",
       "    <tr style=\"text-align: right;\">\n",
       "      <th></th>\n",
       "      <th></th>\n",
       "      <th>profit</th>\n",
       "    </tr>\n",
       "    <tr>\n",
       "      <th>year</th>\n",
       "      <th>subject</th>\n",
       "      <th></th>\n",
       "    </tr>\n",
       "  </thead>\n",
       "  <tbody>\n",
       "    <tr>\n",
       "      <th>2011</th>\n",
       "      <th>Web Development</th>\n",
       "      <td>11643420</td>\n",
       "    </tr>\n",
       "    <tr>\n",
       "      <th rowspan=\"4\" valign=\"top\">2012</th>\n",
       "      <th>Business Finance</th>\n",
       "      <td>190740</td>\n",
       "    </tr>\n",
       "    <tr>\n",
       "      <th>Graphic Design</th>\n",
       "      <td>1329850</td>\n",
       "    </tr>\n",
       "    <tr>\n",
       "      <th>Musical Instruments</th>\n",
       "      <td>766405</td>\n",
       "    </tr>\n",
       "    <tr>\n",
       "      <th>Web Development</th>\n",
       "      <td>9486475</td>\n",
       "    </tr>\n",
       "    <tr>\n",
       "      <th rowspan=\"4\" valign=\"top\">2013</th>\n",
       "      <th>Business Finance</th>\n",
       "      <td>7298950</td>\n",
       "    </tr>\n",
       "    <tr>\n",
       "      <th>Graphic Design</th>\n",
       "      <td>3085300</td>\n",
       "    </tr>\n",
       "    <tr>\n",
       "      <th>Musical Instruments</th>\n",
       "      <td>7479930</td>\n",
       "    </tr>\n",
       "    <tr>\n",
       "      <th>Web Development</th>\n",
       "      <td>45360730</td>\n",
       "    </tr>\n",
       "    <tr>\n",
       "      <th rowspan=\"4\" valign=\"top\">2014</th>\n",
       "      <th>Business Finance</th>\n",
       "      <td>35870820</td>\n",
       "    </tr>\n",
       "    <tr>\n",
       "      <th>Graphic Design</th>\n",
       "      <td>8364490</td>\n",
       "    </tr>\n",
       "    <tr>\n",
       "      <th>Musical Instruments</th>\n",
       "      <td>5800110</td>\n",
       "    </tr>\n",
       "    <tr>\n",
       "      <th>Web Development</th>\n",
       "      <td>31415650</td>\n",
       "    </tr>\n",
       "    <tr>\n",
       "      <th rowspan=\"4\" valign=\"top\">2015</th>\n",
       "      <th>Business Finance</th>\n",
       "      <td>38702015</td>\n",
       "    </tr>\n",
       "    <tr>\n",
       "      <th>Graphic Design</th>\n",
       "      <td>23273795</td>\n",
       "    </tr>\n",
       "    <tr>\n",
       "      <th>Musical Instruments</th>\n",
       "      <td>12363235</td>\n",
       "    </tr>\n",
       "    <tr>\n",
       "      <th>Web Development</th>\n",
       "      <td>172849675</td>\n",
       "    </tr>\n",
       "    <tr>\n",
       "      <th rowspan=\"4\" valign=\"top\">2016</th>\n",
       "      <th>Business Finance</th>\n",
       "      <td>30727750</td>\n",
       "    </tr>\n",
       "    <tr>\n",
       "      <th>Graphic Design</th>\n",
       "      <td>23538210</td>\n",
       "    </tr>\n",
       "    <tr>\n",
       "      <th>Musical Instruments</th>\n",
       "      <td>7458615</td>\n",
       "    </tr>\n",
       "    <tr>\n",
       "      <th>Web Development</th>\n",
       "      <td>168053065</td>\n",
       "    </tr>\n",
       "    <tr>\n",
       "      <th rowspan=\"4\" valign=\"top\">2017</th>\n",
       "      <th>Business Finance</th>\n",
       "      <td>10945040</td>\n",
       "    </tr>\n",
       "    <tr>\n",
       "      <th>Graphic Design</th>\n",
       "      <td>17391525</td>\n",
       "    </tr>\n",
       "    <tr>\n",
       "      <th>Musical Instruments</th>\n",
       "      <td>4390960</td>\n",
       "    </tr>\n",
       "    <tr>\n",
       "      <th>Web Development</th>\n",
       "      <td>58042075</td>\n",
       "    </tr>\n",
       "  </tbody>\n",
       "</table>\n",
       "</div>"
      ],
      "text/plain": [
       "                             profit\n",
       "year subject                       \n",
       "2011 Web Development       11643420\n",
       "2012 Business Finance        190740\n",
       "     Graphic Design         1329850\n",
       "     Musical Instruments     766405\n",
       "     Web Development        9486475\n",
       "2013 Business Finance       7298950\n",
       "     Graphic Design         3085300\n",
       "     Musical Instruments    7479930\n",
       "     Web Development       45360730\n",
       "2014 Business Finance      35870820\n",
       "     Graphic Design         8364490\n",
       "     Musical Instruments    5800110\n",
       "     Web Development       31415650\n",
       "2015 Business Finance      38702015\n",
       "     Graphic Design        23273795\n",
       "     Musical Instruments   12363235\n",
       "     Web Development      172849675\n",
       "2016 Business Finance      30727750\n",
       "     Graphic Design        23538210\n",
       "     Musical Instruments    7458615\n",
       "     Web Development      168053065\n",
       "2017 Business Finance      10945040\n",
       "     Graphic Design        17391525\n",
       "     Musical Instruments    4390960\n",
       "     Web Development       58042075"
      ]
     },
     "execution_count": 56,
     "metadata": {},
     "output_type": "execute_result"
    }
   ],
   "source": [
    "# select data from dataset\n",
    "\n",
    "df[['year', 'subject', 'profit']].groupby(['year', 'subject']).sum()"
   ]
  },
  {
   "cell_type": "code",
   "execution_count": 57,
   "id": "5dbdd59a",
   "metadata": {
    "execution": {
     "iopub.execute_input": "2023-07-24T06:45:01.169603Z",
     "iopub.status.busy": "2023-07-24T06:45:01.169210Z",
     "iopub.status.idle": "2023-07-24T06:45:01.194346Z",
     "shell.execute_reply": "2023-07-24T06:45:01.193234Z"
    },
    "id": "byfHyBCawuYw",
    "outputId": "cf733cb1-a865-41b2-9ccb-60aae5a03dea",
    "papermill": {
     "duration": 0.082578,
     "end_time": "2023-07-24T06:45:01.196946",
     "exception": false,
     "start_time": "2023-07-24T06:45:01.114368",
     "status": "completed"
    },
    "tags": []
   },
   "outputs": [
    {
     "data": {
      "text/html": [
       "<div>\n",
       "<style scoped>\n",
       "    .dataframe tbody tr th:only-of-type {\n",
       "        vertical-align: middle;\n",
       "    }\n",
       "\n",
       "    .dataframe tbody tr th {\n",
       "        vertical-align: top;\n",
       "    }\n",
       "\n",
       "    .dataframe thead th {\n",
       "        text-align: right;\n",
       "    }\n",
       "</style>\n",
       "<table border=\"1\" class=\"dataframe\">\n",
       "  <thead>\n",
       "    <tr style=\"text-align: right;\">\n",
       "      <th>subject</th>\n",
       "      <th>Business Finance</th>\n",
       "      <th>Graphic Design</th>\n",
       "      <th>Musical Instruments</th>\n",
       "      <th>Web Development</th>\n",
       "    </tr>\n",
       "    <tr>\n",
       "      <th>year</th>\n",
       "      <th></th>\n",
       "      <th></th>\n",
       "      <th></th>\n",
       "      <th></th>\n",
       "    </tr>\n",
       "  </thead>\n",
       "  <tbody>\n",
       "    <tr>\n",
       "      <th>2011</th>\n",
       "      <td>NaN</td>\n",
       "      <td>NaN</td>\n",
       "      <td>NaN</td>\n",
       "      <td>11643420.0</td>\n",
       "    </tr>\n",
       "    <tr>\n",
       "      <th>2012</th>\n",
       "      <td>190740.0</td>\n",
       "      <td>1329850.0</td>\n",
       "      <td>766405.0</td>\n",
       "      <td>9486475.0</td>\n",
       "    </tr>\n",
       "    <tr>\n",
       "      <th>2013</th>\n",
       "      <td>7298950.0</td>\n",
       "      <td>3085300.0</td>\n",
       "      <td>7479930.0</td>\n",
       "      <td>45360730.0</td>\n",
       "    </tr>\n",
       "    <tr>\n",
       "      <th>2014</th>\n",
       "      <td>35870820.0</td>\n",
       "      <td>8364490.0</td>\n",
       "      <td>5800110.0</td>\n",
       "      <td>31415650.0</td>\n",
       "    </tr>\n",
       "    <tr>\n",
       "      <th>2015</th>\n",
       "      <td>38702015.0</td>\n",
       "      <td>23273795.0</td>\n",
       "      <td>12363235.0</td>\n",
       "      <td>172849675.0</td>\n",
       "    </tr>\n",
       "    <tr>\n",
       "      <th>2016</th>\n",
       "      <td>30727750.0</td>\n",
       "      <td>23538210.0</td>\n",
       "      <td>7458615.0</td>\n",
       "      <td>168053065.0</td>\n",
       "    </tr>\n",
       "    <tr>\n",
       "      <th>2017</th>\n",
       "      <td>10945040.0</td>\n",
       "      <td>17391525.0</td>\n",
       "      <td>4390960.0</td>\n",
       "      <td>58042075.0</td>\n",
       "    </tr>\n",
       "  </tbody>\n",
       "</table>\n",
       "</div>"
      ],
      "text/plain": [
       "subject  Business Finance  Graphic Design  Musical Instruments  \\\n",
       "year                                                             \n",
       "2011                  NaN             NaN                  NaN   \n",
       "2012             190740.0       1329850.0             766405.0   \n",
       "2013            7298950.0       3085300.0            7479930.0   \n",
       "2014           35870820.0       8364490.0            5800110.0   \n",
       "2015           38702015.0      23273795.0           12363235.0   \n",
       "2016           30727750.0      23538210.0            7458615.0   \n",
       "2017           10945040.0      17391525.0            4390960.0   \n",
       "\n",
       "subject  Web Development  \n",
       "year                      \n",
       "2011          11643420.0  \n",
       "2012           9486475.0  \n",
       "2013          45360730.0  \n",
       "2014          31415650.0  \n",
       "2015         172849675.0  \n",
       "2016         168053065.0  \n",
       "2017          58042075.0  "
      ]
     },
     "execution_count": 57,
     "metadata": {},
     "output_type": "execute_result"
    }
   ],
   "source": [
    "# pivot table for result\n",
    "\n",
    "df.pivot_table(index= 'year', columns= 'subject', values= 'profit', aggfunc= 'sum')"
   ]
  },
  {
   "cell_type": "code",
   "execution_count": 58,
   "id": "6b35b360",
   "metadata": {
    "execution": {
     "iopub.execute_input": "2023-07-24T06:45:01.304646Z",
     "iopub.status.busy": "2023-07-24T06:45:01.304267Z",
     "iopub.status.idle": "2023-07-24T06:45:01.432334Z",
     "shell.execute_reply": "2023-07-24T06:45:01.431250Z"
    },
    "id": "jGDAii-Gw7pd",
    "outputId": "6ff6a2c0-092a-4de4-ad1f-5db56e941403",
    "papermill": {
     "duration": 0.18472,
     "end_time": "2023-07-24T06:45:01.434852",
     "exception": false,
     "start_time": "2023-07-24T06:45:01.250132",
     "status": "completed"
    },
    "tags": []
   },
   "outputs": [
    {
     "data": {
      "text/html": [
       "<div>                            <div id=\"af7dda63-57f1-494e-9500-07dda8b018de\" class=\"plotly-graph-div\" style=\"height:400px; width:100%;\"></div>            <script type=\"text/javascript\">                require([\"plotly\"], function(Plotly) {                    window.PLOTLYENV=window.PLOTLYENV || {};                                    if (document.getElementById(\"af7dda63-57f1-494e-9500-07dda8b018de\")) {                    Plotly.newPlot(                        \"af7dda63-57f1-494e-9500-07dda8b018de\",                        [{\"hovertemplate\":\"subject=Business Finance\\u003cbr\\u003eyear=%{x}\\u003cbr\\u003evalue=%{y}\\u003cextra\\u003e\\u003c\\u002fextra\\u003e\",\"legendgroup\":\"Business Finance\",\"line\":{\"color\":\"#636efa\",\"dash\":\"solid\"},\"marker\":{\"symbol\":\"circle\"},\"mode\":\"lines+markers\",\"name\":\"Business Finance\",\"orientation\":\"v\",\"showlegend\":true,\"x\":[2011,2012,2013,2014,2015,2016,2017],\"xaxis\":\"x\",\"y\":[null,190740.0,7298950.0,35870820.0,38702015.0,30727750.0,10945040.0],\"yaxis\":\"y\",\"type\":\"scatter\"},{\"hovertemplate\":\"subject=Graphic Design\\u003cbr\\u003eyear=%{x}\\u003cbr\\u003evalue=%{y}\\u003cextra\\u003e\\u003c\\u002fextra\\u003e\",\"legendgroup\":\"Graphic Design\",\"line\":{\"color\":\"#EF553B\",\"dash\":\"solid\"},\"marker\":{\"symbol\":\"circle\"},\"mode\":\"lines+markers\",\"name\":\"Graphic Design\",\"orientation\":\"v\",\"showlegend\":true,\"x\":[2011,2012,2013,2014,2015,2016,2017],\"xaxis\":\"x2\",\"y\":[null,1329850.0,3085300.0,8364490.0,23273795.0,23538210.0,17391525.0],\"yaxis\":\"y2\",\"type\":\"scatter\"},{\"hovertemplate\":\"subject=Musical Instruments\\u003cbr\\u003eyear=%{x}\\u003cbr\\u003evalue=%{y}\\u003cextra\\u003e\\u003c\\u002fextra\\u003e\",\"legendgroup\":\"Musical Instruments\",\"line\":{\"color\":\"#00cc96\",\"dash\":\"solid\"},\"marker\":{\"symbol\":\"circle\"},\"mode\":\"lines+markers\",\"name\":\"Musical Instruments\",\"orientation\":\"v\",\"showlegend\":true,\"x\":[2011,2012,2013,2014,2015,2016,2017],\"xaxis\":\"x3\",\"y\":[null,766405.0,7479930.0,5800110.0,12363235.0,7458615.0,4390960.0],\"yaxis\":\"y3\",\"type\":\"scatter\"},{\"hovertemplate\":\"subject=Web Development\\u003cbr\\u003eyear=%{x}\\u003cbr\\u003evalue=%{y}\\u003cextra\\u003e\\u003c\\u002fextra\\u003e\",\"legendgroup\":\"Web Development\",\"line\":{\"color\":\"#ab63fa\",\"dash\":\"solid\"},\"marker\":{\"symbol\":\"circle\"},\"mode\":\"lines+markers\",\"name\":\"Web Development\",\"orientation\":\"v\",\"showlegend\":true,\"x\":[2011,2012,2013,2014,2015,2016,2017],\"xaxis\":\"x4\",\"y\":[11643420.0,9486475.0,45360730.0,31415650.0,172849675.0,168053065.0,58042075.0],\"yaxis\":\"y4\",\"type\":\"scatter\"}],                        {\"template\":{\"data\":{\"histogram2dcontour\":[{\"type\":\"histogram2dcontour\",\"colorbar\":{\"outlinewidth\":0,\"ticks\":\"\"},\"colorscale\":[[0.0,\"#0d0887\"],[0.1111111111111111,\"#46039f\"],[0.2222222222222222,\"#7201a8\"],[0.3333333333333333,\"#9c179e\"],[0.4444444444444444,\"#bd3786\"],[0.5555555555555556,\"#d8576b\"],[0.6666666666666666,\"#ed7953\"],[0.7777777777777778,\"#fb9f3a\"],[0.8888888888888888,\"#fdca26\"],[1.0,\"#f0f921\"]]}],\"choropleth\":[{\"type\":\"choropleth\",\"colorbar\":{\"outlinewidth\":0,\"ticks\":\"\"}}],\"histogram2d\":[{\"type\":\"histogram2d\",\"colorbar\":{\"outlinewidth\":0,\"ticks\":\"\"},\"colorscale\":[[0.0,\"#0d0887\"],[0.1111111111111111,\"#46039f\"],[0.2222222222222222,\"#7201a8\"],[0.3333333333333333,\"#9c179e\"],[0.4444444444444444,\"#bd3786\"],[0.5555555555555556,\"#d8576b\"],[0.6666666666666666,\"#ed7953\"],[0.7777777777777778,\"#fb9f3a\"],[0.8888888888888888,\"#fdca26\"],[1.0,\"#f0f921\"]]}],\"heatmap\":[{\"type\":\"heatmap\",\"colorbar\":{\"outlinewidth\":0,\"ticks\":\"\"},\"colorscale\":[[0.0,\"#0d0887\"],[0.1111111111111111,\"#46039f\"],[0.2222222222222222,\"#7201a8\"],[0.3333333333333333,\"#9c179e\"],[0.4444444444444444,\"#bd3786\"],[0.5555555555555556,\"#d8576b\"],[0.6666666666666666,\"#ed7953\"],[0.7777777777777778,\"#fb9f3a\"],[0.8888888888888888,\"#fdca26\"],[1.0,\"#f0f921\"]]}],\"heatmapgl\":[{\"type\":\"heatmapgl\",\"colorbar\":{\"outlinewidth\":0,\"ticks\":\"\"},\"colorscale\":[[0.0,\"#0d0887\"],[0.1111111111111111,\"#46039f\"],[0.2222222222222222,\"#7201a8\"],[0.3333333333333333,\"#9c179e\"],[0.4444444444444444,\"#bd3786\"],[0.5555555555555556,\"#d8576b\"],[0.6666666666666666,\"#ed7953\"],[0.7777777777777778,\"#fb9f3a\"],[0.8888888888888888,\"#fdca26\"],[1.0,\"#f0f921\"]]}],\"contourcarpet\":[{\"type\":\"contourcarpet\",\"colorbar\":{\"outlinewidth\":0,\"ticks\":\"\"}}],\"contour\":[{\"type\":\"contour\",\"colorbar\":{\"outlinewidth\":0,\"ticks\":\"\"},\"colorscale\":[[0.0,\"#0d0887\"],[0.1111111111111111,\"#46039f\"],[0.2222222222222222,\"#7201a8\"],[0.3333333333333333,\"#9c179e\"],[0.4444444444444444,\"#bd3786\"],[0.5555555555555556,\"#d8576b\"],[0.6666666666666666,\"#ed7953\"],[0.7777777777777778,\"#fb9f3a\"],[0.8888888888888888,\"#fdca26\"],[1.0,\"#f0f921\"]]}],\"surface\":[{\"type\":\"surface\",\"colorbar\":{\"outlinewidth\":0,\"ticks\":\"\"},\"colorscale\":[[0.0,\"#0d0887\"],[0.1111111111111111,\"#46039f\"],[0.2222222222222222,\"#7201a8\"],[0.3333333333333333,\"#9c179e\"],[0.4444444444444444,\"#bd3786\"],[0.5555555555555556,\"#d8576b\"],[0.6666666666666666,\"#ed7953\"],[0.7777777777777778,\"#fb9f3a\"],[0.8888888888888888,\"#fdca26\"],[1.0,\"#f0f921\"]]}],\"mesh3d\":[{\"type\":\"mesh3d\",\"colorbar\":{\"outlinewidth\":0,\"ticks\":\"\"}}],\"scatter\":[{\"fillpattern\":{\"fillmode\":\"overlay\",\"size\":10,\"solidity\":0.2},\"type\":\"scatter\"}],\"parcoords\":[{\"type\":\"parcoords\",\"line\":{\"colorbar\":{\"outlinewidth\":0,\"ticks\":\"\"}}}],\"scatterpolargl\":[{\"type\":\"scatterpolargl\",\"marker\":{\"colorbar\":{\"outlinewidth\":0,\"ticks\":\"\"}}}],\"bar\":[{\"error_x\":{\"color\":\"#2a3f5f\"},\"error_y\":{\"color\":\"#2a3f5f\"},\"marker\":{\"line\":{\"color\":\"#E5ECF6\",\"width\":0.5},\"pattern\":{\"fillmode\":\"overlay\",\"size\":10,\"solidity\":0.2}},\"type\":\"bar\"}],\"scattergeo\":[{\"type\":\"scattergeo\",\"marker\":{\"colorbar\":{\"outlinewidth\":0,\"ticks\":\"\"}}}],\"scatterpolar\":[{\"type\":\"scatterpolar\",\"marker\":{\"colorbar\":{\"outlinewidth\":0,\"ticks\":\"\"}}}],\"histogram\":[{\"marker\":{\"pattern\":{\"fillmode\":\"overlay\",\"size\":10,\"solidity\":0.2}},\"type\":\"histogram\"}],\"scattergl\":[{\"type\":\"scattergl\",\"marker\":{\"colorbar\":{\"outlinewidth\":0,\"ticks\":\"\"}}}],\"scatter3d\":[{\"type\":\"scatter3d\",\"line\":{\"colorbar\":{\"outlinewidth\":0,\"ticks\":\"\"}},\"marker\":{\"colorbar\":{\"outlinewidth\":0,\"ticks\":\"\"}}}],\"scattermapbox\":[{\"type\":\"scattermapbox\",\"marker\":{\"colorbar\":{\"outlinewidth\":0,\"ticks\":\"\"}}}],\"scatterternary\":[{\"type\":\"scatterternary\",\"marker\":{\"colorbar\":{\"outlinewidth\":0,\"ticks\":\"\"}}}],\"scattercarpet\":[{\"type\":\"scattercarpet\",\"marker\":{\"colorbar\":{\"outlinewidth\":0,\"ticks\":\"\"}}}],\"carpet\":[{\"aaxis\":{\"endlinecolor\":\"#2a3f5f\",\"gridcolor\":\"white\",\"linecolor\":\"white\",\"minorgridcolor\":\"white\",\"startlinecolor\":\"#2a3f5f\"},\"baxis\":{\"endlinecolor\":\"#2a3f5f\",\"gridcolor\":\"white\",\"linecolor\":\"white\",\"minorgridcolor\":\"white\",\"startlinecolor\":\"#2a3f5f\"},\"type\":\"carpet\"}],\"table\":[{\"cells\":{\"fill\":{\"color\":\"#EBF0F8\"},\"line\":{\"color\":\"white\"}},\"header\":{\"fill\":{\"color\":\"#C8D4E3\"},\"line\":{\"color\":\"white\"}},\"type\":\"table\"}],\"barpolar\":[{\"marker\":{\"line\":{\"color\":\"#E5ECF6\",\"width\":0.5},\"pattern\":{\"fillmode\":\"overlay\",\"size\":10,\"solidity\":0.2}},\"type\":\"barpolar\"}],\"pie\":[{\"automargin\":true,\"type\":\"pie\"}]},\"layout\":{\"autotypenumbers\":\"strict\",\"colorway\":[\"#636efa\",\"#EF553B\",\"#00cc96\",\"#ab63fa\",\"#FFA15A\",\"#19d3f3\",\"#FF6692\",\"#B6E880\",\"#FF97FF\",\"#FECB52\"],\"font\":{\"color\":\"#2a3f5f\"},\"hovermode\":\"closest\",\"hoverlabel\":{\"align\":\"left\"},\"paper_bgcolor\":\"white\",\"plot_bgcolor\":\"#E5ECF6\",\"polar\":{\"bgcolor\":\"#E5ECF6\",\"angularaxis\":{\"gridcolor\":\"white\",\"linecolor\":\"white\",\"ticks\":\"\"},\"radialaxis\":{\"gridcolor\":\"white\",\"linecolor\":\"white\",\"ticks\":\"\"}},\"ternary\":{\"bgcolor\":\"#E5ECF6\",\"aaxis\":{\"gridcolor\":\"white\",\"linecolor\":\"white\",\"ticks\":\"\"},\"baxis\":{\"gridcolor\":\"white\",\"linecolor\":\"white\",\"ticks\":\"\"},\"caxis\":{\"gridcolor\":\"white\",\"linecolor\":\"white\",\"ticks\":\"\"}},\"coloraxis\":{\"colorbar\":{\"outlinewidth\":0,\"ticks\":\"\"}},\"colorscale\":{\"sequential\":[[0.0,\"#0d0887\"],[0.1111111111111111,\"#46039f\"],[0.2222222222222222,\"#7201a8\"],[0.3333333333333333,\"#9c179e\"],[0.4444444444444444,\"#bd3786\"],[0.5555555555555556,\"#d8576b\"],[0.6666666666666666,\"#ed7953\"],[0.7777777777777778,\"#fb9f3a\"],[0.8888888888888888,\"#fdca26\"],[1.0,\"#f0f921\"]],\"sequentialminus\":[[0.0,\"#0d0887\"],[0.1111111111111111,\"#46039f\"],[0.2222222222222222,\"#7201a8\"],[0.3333333333333333,\"#9c179e\"],[0.4444444444444444,\"#bd3786\"],[0.5555555555555556,\"#d8576b\"],[0.6666666666666666,\"#ed7953\"],[0.7777777777777778,\"#fb9f3a\"],[0.8888888888888888,\"#fdca26\"],[1.0,\"#f0f921\"]],\"diverging\":[[0,\"#8e0152\"],[0.1,\"#c51b7d\"],[0.2,\"#de77ae\"],[0.3,\"#f1b6da\"],[0.4,\"#fde0ef\"],[0.5,\"#f7f7f7\"],[0.6,\"#e6f5d0\"],[0.7,\"#b8e186\"],[0.8,\"#7fbc41\"],[0.9,\"#4d9221\"],[1,\"#276419\"]]},\"xaxis\":{\"gridcolor\":\"white\",\"linecolor\":\"white\",\"ticks\":\"\",\"title\":{\"standoff\":15},\"zerolinecolor\":\"white\",\"automargin\":true,\"zerolinewidth\":2},\"yaxis\":{\"gridcolor\":\"white\",\"linecolor\":\"white\",\"ticks\":\"\",\"title\":{\"standoff\":15},\"zerolinecolor\":\"white\",\"automargin\":true,\"zerolinewidth\":2},\"scene\":{\"xaxis\":{\"backgroundcolor\":\"#E5ECF6\",\"gridcolor\":\"white\",\"linecolor\":\"white\",\"showbackground\":true,\"ticks\":\"\",\"zerolinecolor\":\"white\",\"gridwidth\":2},\"yaxis\":{\"backgroundcolor\":\"#E5ECF6\",\"gridcolor\":\"white\",\"linecolor\":\"white\",\"showbackground\":true,\"ticks\":\"\",\"zerolinecolor\":\"white\",\"gridwidth\":2},\"zaxis\":{\"backgroundcolor\":\"#E5ECF6\",\"gridcolor\":\"white\",\"linecolor\":\"white\",\"showbackground\":true,\"ticks\":\"\",\"zerolinecolor\":\"white\",\"gridwidth\":2}},\"shapedefaults\":{\"line\":{\"color\":\"#2a3f5f\"}},\"annotationdefaults\":{\"arrowcolor\":\"#2a3f5f\",\"arrowhead\":0,\"arrowwidth\":1},\"geo\":{\"bgcolor\":\"white\",\"landcolor\":\"#E5ECF6\",\"subunitcolor\":\"white\",\"showland\":true,\"showlakes\":true,\"lakecolor\":\"white\"},\"title\":{\"x\":0.05},\"mapbox\":{\"style\":\"light\"}}},\"xaxis\":{\"anchor\":\"y\",\"domain\":[0.0,0.235],\"title\":{\"text\":\"year\"}},\"yaxis\":{\"anchor\":\"x\",\"domain\":[0.0,1.0],\"title\":{\"text\":\"value\"}},\"xaxis2\":{\"anchor\":\"y2\",\"domain\":[0.255,0.49],\"matches\":\"x\",\"title\":{\"text\":\"year\"}},\"yaxis2\":{\"anchor\":\"x2\",\"domain\":[0.0,1.0],\"matches\":\"y\",\"showticklabels\":false},\"xaxis3\":{\"anchor\":\"y3\",\"domain\":[0.51,0.745],\"matches\":\"x\",\"title\":{\"text\":\"year\"}},\"yaxis3\":{\"anchor\":\"x3\",\"domain\":[0.0,1.0],\"matches\":\"y\",\"showticklabels\":false},\"xaxis4\":{\"anchor\":\"y4\",\"domain\":[0.7649999999999999,0.9999999999999999],\"matches\":\"x\",\"title\":{\"text\":\"year\"}},\"yaxis4\":{\"anchor\":\"x4\",\"domain\":[0.0,1.0],\"matches\":\"y\",\"showticklabels\":false},\"annotations\":[{\"font\":{},\"showarrow\":false,\"text\":\"subject=Business Finance\",\"x\":0.1175,\"xanchor\":\"center\",\"xref\":\"paper\",\"y\":1.0,\"yanchor\":\"bottom\",\"yref\":\"paper\"},{\"font\":{},\"showarrow\":false,\"text\":\"subject=Graphic Design\",\"x\":0.3725,\"xanchor\":\"center\",\"xref\":\"paper\",\"y\":1.0,\"yanchor\":\"bottom\",\"yref\":\"paper\"},{\"font\":{},\"showarrow\":false,\"text\":\"subject=Musical Instruments\",\"x\":0.6275,\"xanchor\":\"center\",\"xref\":\"paper\",\"y\":1.0,\"yanchor\":\"bottom\",\"yref\":\"paper\"},{\"font\":{},\"showarrow\":false,\"text\":\"subject=Web Development\",\"x\":0.8824999999999998,\"xanchor\":\"center\",\"xref\":\"paper\",\"y\":1.0,\"yanchor\":\"bottom\",\"yref\":\"paper\"}],\"legend\":{\"title\":{\"text\":\"subject\"},\"tracegroupgap\":0},\"title\":{\"text\":\"profit for each subject regarding to year\"},\"height\":400},                        {\"responsive\": true}                    ).then(function(){\n",
       "                            \n",
       "var gd = document.getElementById('af7dda63-57f1-494e-9500-07dda8b018de');\n",
       "var x = new MutationObserver(function (mutations, observer) {{\n",
       "        var display = window.getComputedStyle(gd).display;\n",
       "        if (!display || display === 'none') {{\n",
       "            console.log([gd, 'removed!']);\n",
       "            Plotly.purge(gd);\n",
       "            observer.disconnect();\n",
       "        }}\n",
       "}});\n",
       "\n",
       "// Listen for the removal of the full notebook cells\n",
       "var notebookContainer = gd.closest('#notebook-container');\n",
       "if (notebookContainer) {{\n",
       "    x.observe(notebookContainer, {childList: true});\n",
       "}}\n",
       "\n",
       "// Listen for the clearing of the current output cell\n",
       "var outputEl = gd.closest('.output');\n",
       "if (outputEl) {{\n",
       "    x.observe(outputEl, {childList: true});\n",
       "}}\n",
       "\n",
       "                        })                };                });            </script>        </div>"
      ]
     },
     "metadata": {},
     "output_type": "display_data"
    }
   ],
   "source": [
    "# visualizing result\n",
    "\n",
    "chart_title= 'profit for each subject regarding to year'\n",
    "px.line(df.pivot_table(index= 'year', columns= 'subject', values= 'profit', aggfunc= 'sum'), markers= True, title= chart_title, facet_col= 'subject', height= 400)"
   ]
  },
  {
   "cell_type": "markdown",
   "id": "5133173d",
   "metadata": {
    "id": "75ljq9OU-lEB",
    "papermill": {
     "duration": 0.052716,
     "end_time": "2023-07-24T06:45:01.542594",
     "exception": false,
     "start_time": "2023-07-24T06:45:01.489878",
     "status": "completed"
    },
    "tags": []
   },
   "source": [
    "# ***Q: How many subscribers for each subject regarding to years ?***"
   ]
  },
  {
   "cell_type": "code",
   "execution_count": 59,
   "id": "2f93f9c1",
   "metadata": {
    "execution": {
     "iopub.execute_input": "2023-07-24T06:45:01.651457Z",
     "iopub.status.busy": "2023-07-24T06:45:01.651062Z",
     "iopub.status.idle": "2023-07-24T06:45:01.668589Z",
     "shell.execute_reply": "2023-07-24T06:45:01.667400Z"
    },
    "id": "BW3B-7B1-uCR",
    "outputId": "6aabed8b-553b-49aa-eac7-db95a14b2286",
    "papermill": {
     "duration": 0.075535,
     "end_time": "2023-07-24T06:45:01.671164",
     "exception": false,
     "start_time": "2023-07-24T06:45:01.595629",
     "status": "completed"
    },
    "tags": []
   },
   "outputs": [
    {
     "data": {
      "text/html": [
       "<div>\n",
       "<style scoped>\n",
       "    .dataframe tbody tr th:only-of-type {\n",
       "        vertical-align: middle;\n",
       "    }\n",
       "\n",
       "    .dataframe tbody tr th {\n",
       "        vertical-align: top;\n",
       "    }\n",
       "\n",
       "    .dataframe thead th {\n",
       "        text-align: right;\n",
       "    }\n",
       "</style>\n",
       "<table border=\"1\" class=\"dataframe\">\n",
       "  <thead>\n",
       "    <tr style=\"text-align: right;\">\n",
       "      <th></th>\n",
       "      <th></th>\n",
       "      <th>num_subscribers</th>\n",
       "    </tr>\n",
       "    <tr>\n",
       "      <th>year</th>\n",
       "      <th>subject</th>\n",
       "      <th></th>\n",
       "    </tr>\n",
       "  </thead>\n",
       "  <tbody>\n",
       "    <tr>\n",
       "      <th>2011</th>\n",
       "      <th>Web Development</th>\n",
       "      <td>119028</td>\n",
       "    </tr>\n",
       "    <tr>\n",
       "      <th rowspan=\"4\" valign=\"top\">2012</th>\n",
       "      <th>Business Finance</th>\n",
       "      <td>3620</td>\n",
       "    </tr>\n",
       "    <tr>\n",
       "      <th>Graphic Design</th>\n",
       "      <td>100649</td>\n",
       "    </tr>\n",
       "    <tr>\n",
       "      <th>Musical Instruments</th>\n",
       "      <td>32481</td>\n",
       "    </tr>\n",
       "    <tr>\n",
       "      <th>Web Development</th>\n",
       "      <td>317435</td>\n",
       "    </tr>\n",
       "    <tr>\n",
       "      <th rowspan=\"4\" valign=\"top\">2013</th>\n",
       "      <th>Business Finance</th>\n",
       "      <td>311664</td>\n",
       "    </tr>\n",
       "    <tr>\n",
       "      <th>Graphic Design</th>\n",
       "      <td>50133</td>\n",
       "    </tr>\n",
       "    <tr>\n",
       "      <th>Musical Instruments</th>\n",
       "      <td>150224</td>\n",
       "    </tr>\n",
       "    <tr>\n",
       "      <th>Web Development</th>\n",
       "      <td>635113</td>\n",
       "    </tr>\n",
       "    <tr>\n",
       "      <th rowspan=\"4\" valign=\"top\">2014</th>\n",
       "      <th>Business Finance</th>\n",
       "      <td>494623</td>\n",
       "    </tr>\n",
       "    <tr>\n",
       "      <th>Graphic Design</th>\n",
       "      <td>174582</td>\n",
       "    </tr>\n",
       "    <tr>\n",
       "      <th>Musical Instruments</th>\n",
       "      <td>80653</td>\n",
       "    </tr>\n",
       "    <tr>\n",
       "      <th>Web Development</th>\n",
       "      <td>841660</td>\n",
       "    </tr>\n",
       "    <tr>\n",
       "      <th rowspan=\"4\" valign=\"top\">2015</th>\n",
       "      <th>Business Finance</th>\n",
       "      <td>501858</td>\n",
       "    </tr>\n",
       "    <tr>\n",
       "      <th>Graphic Design</th>\n",
       "      <td>352856</td>\n",
       "    </tr>\n",
       "    <tr>\n",
       "      <th>Musical Instruments</th>\n",
       "      <td>190368</td>\n",
       "    </tr>\n",
       "    <tr>\n",
       "      <th>Web Development</th>\n",
       "      <td>1906406</td>\n",
       "    </tr>\n",
       "    <tr>\n",
       "      <th rowspan=\"4\" valign=\"top\">2016</th>\n",
       "      <th>Business Finance</th>\n",
       "      <td>426647</td>\n",
       "    </tr>\n",
       "    <tr>\n",
       "      <th>Graphic Design</th>\n",
       "      <td>229587</td>\n",
       "    </tr>\n",
       "    <tr>\n",
       "      <th>Musical Instruments</th>\n",
       "      <td>148748</td>\n",
       "    </tr>\n",
       "    <tr>\n",
       "      <th>Web Development</th>\n",
       "      <td>1865583</td>\n",
       "    </tr>\n",
       "    <tr>\n",
       "      <th rowspan=\"4\" valign=\"top\">2017</th>\n",
       "      <th>Business Finance</th>\n",
       "      <td>130299</td>\n",
       "    </tr>\n",
       "    <tr>\n",
       "      <th>Graphic Design</th>\n",
       "      <td>155341</td>\n",
       "    </tr>\n",
       "    <tr>\n",
       "      <th>Musical Instruments</th>\n",
       "      <td>67562</td>\n",
       "    </tr>\n",
       "    <tr>\n",
       "      <th>Web Development</th>\n",
       "      <td>635739</td>\n",
       "    </tr>\n",
       "  </tbody>\n",
       "</table>\n",
       "</div>"
      ],
      "text/plain": [
       "                          num_subscribers\n",
       "year subject                             \n",
       "2011 Web Development               119028\n",
       "2012 Business Finance                3620\n",
       "     Graphic Design                100649\n",
       "     Musical Instruments            32481\n",
       "     Web Development               317435\n",
       "2013 Business Finance              311664\n",
       "     Graphic Design                 50133\n",
       "     Musical Instruments           150224\n",
       "     Web Development               635113\n",
       "2014 Business Finance              494623\n",
       "     Graphic Design                174582\n",
       "     Musical Instruments            80653\n",
       "     Web Development               841660\n",
       "2015 Business Finance              501858\n",
       "     Graphic Design                352856\n",
       "     Musical Instruments           190368\n",
       "     Web Development              1906406\n",
       "2016 Business Finance              426647\n",
       "     Graphic Design                229587\n",
       "     Musical Instruments           148748\n",
       "     Web Development              1865583\n",
       "2017 Business Finance              130299\n",
       "     Graphic Design                155341\n",
       "     Musical Instruments            67562\n",
       "     Web Development               635739"
      ]
     },
     "execution_count": 59,
     "metadata": {},
     "output_type": "execute_result"
    }
   ],
   "source": [
    "# select data\n",
    "\n",
    "df[['year', 'subject', 'num_subscribers']].groupby(['year', 'subject']).sum()"
   ]
  },
  {
   "cell_type": "code",
   "execution_count": 60,
   "id": "cc33c948",
   "metadata": {
    "execution": {
     "iopub.execute_input": "2023-07-24T06:45:01.780608Z",
     "iopub.status.busy": "2023-07-24T06:45:01.780170Z",
     "iopub.status.idle": "2023-07-24T06:45:01.806003Z",
     "shell.execute_reply": "2023-07-24T06:45:01.805008Z"
    },
    "id": "Ixtv0nyT-_fp",
    "outputId": "4f044367-0a50-4c6d-99e5-99718a4e3260",
    "papermill": {
     "duration": 0.083277,
     "end_time": "2023-07-24T06:45:01.808374",
     "exception": false,
     "start_time": "2023-07-24T06:45:01.725097",
     "status": "completed"
    },
    "tags": []
   },
   "outputs": [
    {
     "data": {
      "text/html": [
       "<div>\n",
       "<style scoped>\n",
       "    .dataframe tbody tr th:only-of-type {\n",
       "        vertical-align: middle;\n",
       "    }\n",
       "\n",
       "    .dataframe tbody tr th {\n",
       "        vertical-align: top;\n",
       "    }\n",
       "\n",
       "    .dataframe thead th {\n",
       "        text-align: right;\n",
       "    }\n",
       "</style>\n",
       "<table border=\"1\" class=\"dataframe\">\n",
       "  <thead>\n",
       "    <tr style=\"text-align: right;\">\n",
       "      <th>subject</th>\n",
       "      <th>Business Finance</th>\n",
       "      <th>Graphic Design</th>\n",
       "      <th>Musical Instruments</th>\n",
       "      <th>Web Development</th>\n",
       "    </tr>\n",
       "    <tr>\n",
       "      <th>year</th>\n",
       "      <th></th>\n",
       "      <th></th>\n",
       "      <th></th>\n",
       "      <th></th>\n",
       "    </tr>\n",
       "  </thead>\n",
       "  <tbody>\n",
       "    <tr>\n",
       "      <th>2011</th>\n",
       "      <td>NaN</td>\n",
       "      <td>NaN</td>\n",
       "      <td>NaN</td>\n",
       "      <td>119028.0</td>\n",
       "    </tr>\n",
       "    <tr>\n",
       "      <th>2012</th>\n",
       "      <td>3620.0</td>\n",
       "      <td>100649.0</td>\n",
       "      <td>32481.0</td>\n",
       "      <td>317435.0</td>\n",
       "    </tr>\n",
       "    <tr>\n",
       "      <th>2013</th>\n",
       "      <td>311664.0</td>\n",
       "      <td>50133.0</td>\n",
       "      <td>150224.0</td>\n",
       "      <td>635113.0</td>\n",
       "    </tr>\n",
       "    <tr>\n",
       "      <th>2014</th>\n",
       "      <td>494623.0</td>\n",
       "      <td>174582.0</td>\n",
       "      <td>80653.0</td>\n",
       "      <td>841660.0</td>\n",
       "    </tr>\n",
       "    <tr>\n",
       "      <th>2015</th>\n",
       "      <td>501858.0</td>\n",
       "      <td>352856.0</td>\n",
       "      <td>190368.0</td>\n",
       "      <td>1906406.0</td>\n",
       "    </tr>\n",
       "    <tr>\n",
       "      <th>2016</th>\n",
       "      <td>426647.0</td>\n",
       "      <td>229587.0</td>\n",
       "      <td>148748.0</td>\n",
       "      <td>1865583.0</td>\n",
       "    </tr>\n",
       "    <tr>\n",
       "      <th>2017</th>\n",
       "      <td>130299.0</td>\n",
       "      <td>155341.0</td>\n",
       "      <td>67562.0</td>\n",
       "      <td>635739.0</td>\n",
       "    </tr>\n",
       "  </tbody>\n",
       "</table>\n",
       "</div>"
      ],
      "text/plain": [
       "subject  Business Finance  Graphic Design  Musical Instruments  \\\n",
       "year                                                             \n",
       "2011                  NaN             NaN                  NaN   \n",
       "2012               3620.0        100649.0              32481.0   \n",
       "2013             311664.0         50133.0             150224.0   \n",
       "2014             494623.0        174582.0              80653.0   \n",
       "2015             501858.0        352856.0             190368.0   \n",
       "2016             426647.0        229587.0             148748.0   \n",
       "2017             130299.0        155341.0              67562.0   \n",
       "\n",
       "subject  Web Development  \n",
       "year                      \n",
       "2011            119028.0  \n",
       "2012            317435.0  \n",
       "2013            635113.0  \n",
       "2014            841660.0  \n",
       "2015           1906406.0  \n",
       "2016           1865583.0  \n",
       "2017            635739.0  "
      ]
     },
     "execution_count": 60,
     "metadata": {},
     "output_type": "execute_result"
    }
   ],
   "source": [
    "# pivot table for results\n",
    "\n",
    "df.pivot_table(index= 'year', columns= 'subject', values= 'num_subscribers', aggfunc= 'sum')"
   ]
  },
  {
   "cell_type": "code",
   "execution_count": 61,
   "id": "ac85a5ba",
   "metadata": {
    "execution": {
     "iopub.execute_input": "2023-07-24T06:45:01.921034Z",
     "iopub.status.busy": "2023-07-24T06:45:01.920313Z",
     "iopub.status.idle": "2023-07-24T06:45:02.050513Z",
     "shell.execute_reply": "2023-07-24T06:45:02.049197Z"
    },
    "id": "3BEwh_bl_TZJ",
    "outputId": "c770d8e0-6e59-427d-fdc8-e0cfb94e53f4",
    "papermill": {
     "duration": 0.18861,
     "end_time": "2023-07-24T06:45:02.053077",
     "exception": false,
     "start_time": "2023-07-24T06:45:01.864467",
     "status": "completed"
    },
    "tags": []
   },
   "outputs": [
    {
     "data": {
      "text/html": [
       "<div>                            <div id=\"874bf442-0ea3-48e3-8eb9-0fa03e01267f\" class=\"plotly-graph-div\" style=\"height:400px; width:100%;\"></div>            <script type=\"text/javascript\">                require([\"plotly\"], function(Plotly) {                    window.PLOTLYENV=window.PLOTLYENV || {};                                    if (document.getElementById(\"874bf442-0ea3-48e3-8eb9-0fa03e01267f\")) {                    Plotly.newPlot(                        \"874bf442-0ea3-48e3-8eb9-0fa03e01267f\",                        [{\"hovertemplate\":\"subject=Business Finance\\u003cbr\\u003eyear=%{x}\\u003cbr\\u003evalue=%{y}\\u003cextra\\u003e\\u003c\\u002fextra\\u003e\",\"legendgroup\":\"Business Finance\",\"line\":{\"color\":\"#636efa\",\"dash\":\"solid\"},\"marker\":{\"symbol\":\"circle\"},\"mode\":\"lines+markers\",\"name\":\"Business Finance\",\"orientation\":\"v\",\"showlegend\":true,\"x\":[2011,2012,2013,2014,2015,2016,2017],\"xaxis\":\"x\",\"y\":[null,3620.0,311664.0,494623.0,501858.0,426647.0,130299.0],\"yaxis\":\"y\",\"type\":\"scatter\"},{\"hovertemplate\":\"subject=Graphic Design\\u003cbr\\u003eyear=%{x}\\u003cbr\\u003evalue=%{y}\\u003cextra\\u003e\\u003c\\u002fextra\\u003e\",\"legendgroup\":\"Graphic Design\",\"line\":{\"color\":\"#EF553B\",\"dash\":\"solid\"},\"marker\":{\"symbol\":\"circle\"},\"mode\":\"lines+markers\",\"name\":\"Graphic Design\",\"orientation\":\"v\",\"showlegend\":true,\"x\":[2011,2012,2013,2014,2015,2016,2017],\"xaxis\":\"x2\",\"y\":[null,100649.0,50133.0,174582.0,352856.0,229587.0,155341.0],\"yaxis\":\"y2\",\"type\":\"scatter\"},{\"hovertemplate\":\"subject=Musical Instruments\\u003cbr\\u003eyear=%{x}\\u003cbr\\u003evalue=%{y}\\u003cextra\\u003e\\u003c\\u002fextra\\u003e\",\"legendgroup\":\"Musical Instruments\",\"line\":{\"color\":\"#00cc96\",\"dash\":\"solid\"},\"marker\":{\"symbol\":\"circle\"},\"mode\":\"lines+markers\",\"name\":\"Musical Instruments\",\"orientation\":\"v\",\"showlegend\":true,\"x\":[2011,2012,2013,2014,2015,2016,2017],\"xaxis\":\"x3\",\"y\":[null,32481.0,150224.0,80653.0,190368.0,148748.0,67562.0],\"yaxis\":\"y3\",\"type\":\"scatter\"},{\"hovertemplate\":\"subject=Web Development\\u003cbr\\u003eyear=%{x}\\u003cbr\\u003evalue=%{y}\\u003cextra\\u003e\\u003c\\u002fextra\\u003e\",\"legendgroup\":\"Web Development\",\"line\":{\"color\":\"#ab63fa\",\"dash\":\"solid\"},\"marker\":{\"symbol\":\"circle\"},\"mode\":\"lines+markers\",\"name\":\"Web Development\",\"orientation\":\"v\",\"showlegend\":true,\"x\":[2011,2012,2013,2014,2015,2016,2017],\"xaxis\":\"x4\",\"y\":[119028.0,317435.0,635113.0,841660.0,1906406.0,1865583.0,635739.0],\"yaxis\":\"y4\",\"type\":\"scatter\"}],                        {\"template\":{\"data\":{\"histogram2dcontour\":[{\"type\":\"histogram2dcontour\",\"colorbar\":{\"outlinewidth\":0,\"ticks\":\"\"},\"colorscale\":[[0.0,\"#0d0887\"],[0.1111111111111111,\"#46039f\"],[0.2222222222222222,\"#7201a8\"],[0.3333333333333333,\"#9c179e\"],[0.4444444444444444,\"#bd3786\"],[0.5555555555555556,\"#d8576b\"],[0.6666666666666666,\"#ed7953\"],[0.7777777777777778,\"#fb9f3a\"],[0.8888888888888888,\"#fdca26\"],[1.0,\"#f0f921\"]]}],\"choropleth\":[{\"type\":\"choropleth\",\"colorbar\":{\"outlinewidth\":0,\"ticks\":\"\"}}],\"histogram2d\":[{\"type\":\"histogram2d\",\"colorbar\":{\"outlinewidth\":0,\"ticks\":\"\"},\"colorscale\":[[0.0,\"#0d0887\"],[0.1111111111111111,\"#46039f\"],[0.2222222222222222,\"#7201a8\"],[0.3333333333333333,\"#9c179e\"],[0.4444444444444444,\"#bd3786\"],[0.5555555555555556,\"#d8576b\"],[0.6666666666666666,\"#ed7953\"],[0.7777777777777778,\"#fb9f3a\"],[0.8888888888888888,\"#fdca26\"],[1.0,\"#f0f921\"]]}],\"heatmap\":[{\"type\":\"heatmap\",\"colorbar\":{\"outlinewidth\":0,\"ticks\":\"\"},\"colorscale\":[[0.0,\"#0d0887\"],[0.1111111111111111,\"#46039f\"],[0.2222222222222222,\"#7201a8\"],[0.3333333333333333,\"#9c179e\"],[0.4444444444444444,\"#bd3786\"],[0.5555555555555556,\"#d8576b\"],[0.6666666666666666,\"#ed7953\"],[0.7777777777777778,\"#fb9f3a\"],[0.8888888888888888,\"#fdca26\"],[1.0,\"#f0f921\"]]}],\"heatmapgl\":[{\"type\":\"heatmapgl\",\"colorbar\":{\"outlinewidth\":0,\"ticks\":\"\"},\"colorscale\":[[0.0,\"#0d0887\"],[0.1111111111111111,\"#46039f\"],[0.2222222222222222,\"#7201a8\"],[0.3333333333333333,\"#9c179e\"],[0.4444444444444444,\"#bd3786\"],[0.5555555555555556,\"#d8576b\"],[0.6666666666666666,\"#ed7953\"],[0.7777777777777778,\"#fb9f3a\"],[0.8888888888888888,\"#fdca26\"],[1.0,\"#f0f921\"]]}],\"contourcarpet\":[{\"type\":\"contourcarpet\",\"colorbar\":{\"outlinewidth\":0,\"ticks\":\"\"}}],\"contour\":[{\"type\":\"contour\",\"colorbar\":{\"outlinewidth\":0,\"ticks\":\"\"},\"colorscale\":[[0.0,\"#0d0887\"],[0.1111111111111111,\"#46039f\"],[0.2222222222222222,\"#7201a8\"],[0.3333333333333333,\"#9c179e\"],[0.4444444444444444,\"#bd3786\"],[0.5555555555555556,\"#d8576b\"],[0.6666666666666666,\"#ed7953\"],[0.7777777777777778,\"#fb9f3a\"],[0.8888888888888888,\"#fdca26\"],[1.0,\"#f0f921\"]]}],\"surface\":[{\"type\":\"surface\",\"colorbar\":{\"outlinewidth\":0,\"ticks\":\"\"},\"colorscale\":[[0.0,\"#0d0887\"],[0.1111111111111111,\"#46039f\"],[0.2222222222222222,\"#7201a8\"],[0.3333333333333333,\"#9c179e\"],[0.4444444444444444,\"#bd3786\"],[0.5555555555555556,\"#d8576b\"],[0.6666666666666666,\"#ed7953\"],[0.7777777777777778,\"#fb9f3a\"],[0.8888888888888888,\"#fdca26\"],[1.0,\"#f0f921\"]]}],\"mesh3d\":[{\"type\":\"mesh3d\",\"colorbar\":{\"outlinewidth\":0,\"ticks\":\"\"}}],\"scatter\":[{\"fillpattern\":{\"fillmode\":\"overlay\",\"size\":10,\"solidity\":0.2},\"type\":\"scatter\"}],\"parcoords\":[{\"type\":\"parcoords\",\"line\":{\"colorbar\":{\"outlinewidth\":0,\"ticks\":\"\"}}}],\"scatterpolargl\":[{\"type\":\"scatterpolargl\",\"marker\":{\"colorbar\":{\"outlinewidth\":0,\"ticks\":\"\"}}}],\"bar\":[{\"error_x\":{\"color\":\"#2a3f5f\"},\"error_y\":{\"color\":\"#2a3f5f\"},\"marker\":{\"line\":{\"color\":\"#E5ECF6\",\"width\":0.5},\"pattern\":{\"fillmode\":\"overlay\",\"size\":10,\"solidity\":0.2}},\"type\":\"bar\"}],\"scattergeo\":[{\"type\":\"scattergeo\",\"marker\":{\"colorbar\":{\"outlinewidth\":0,\"ticks\":\"\"}}}],\"scatterpolar\":[{\"type\":\"scatterpolar\",\"marker\":{\"colorbar\":{\"outlinewidth\":0,\"ticks\":\"\"}}}],\"histogram\":[{\"marker\":{\"pattern\":{\"fillmode\":\"overlay\",\"size\":10,\"solidity\":0.2}},\"type\":\"histogram\"}],\"scattergl\":[{\"type\":\"scattergl\",\"marker\":{\"colorbar\":{\"outlinewidth\":0,\"ticks\":\"\"}}}],\"scatter3d\":[{\"type\":\"scatter3d\",\"line\":{\"colorbar\":{\"outlinewidth\":0,\"ticks\":\"\"}},\"marker\":{\"colorbar\":{\"outlinewidth\":0,\"ticks\":\"\"}}}],\"scattermapbox\":[{\"type\":\"scattermapbox\",\"marker\":{\"colorbar\":{\"outlinewidth\":0,\"ticks\":\"\"}}}],\"scatterternary\":[{\"type\":\"scatterternary\",\"marker\":{\"colorbar\":{\"outlinewidth\":0,\"ticks\":\"\"}}}],\"scattercarpet\":[{\"type\":\"scattercarpet\",\"marker\":{\"colorbar\":{\"outlinewidth\":0,\"ticks\":\"\"}}}],\"carpet\":[{\"aaxis\":{\"endlinecolor\":\"#2a3f5f\",\"gridcolor\":\"white\",\"linecolor\":\"white\",\"minorgridcolor\":\"white\",\"startlinecolor\":\"#2a3f5f\"},\"baxis\":{\"endlinecolor\":\"#2a3f5f\",\"gridcolor\":\"white\",\"linecolor\":\"white\",\"minorgridcolor\":\"white\",\"startlinecolor\":\"#2a3f5f\"},\"type\":\"carpet\"}],\"table\":[{\"cells\":{\"fill\":{\"color\":\"#EBF0F8\"},\"line\":{\"color\":\"white\"}},\"header\":{\"fill\":{\"color\":\"#C8D4E3\"},\"line\":{\"color\":\"white\"}},\"type\":\"table\"}],\"barpolar\":[{\"marker\":{\"line\":{\"color\":\"#E5ECF6\",\"width\":0.5},\"pattern\":{\"fillmode\":\"overlay\",\"size\":10,\"solidity\":0.2}},\"type\":\"barpolar\"}],\"pie\":[{\"automargin\":true,\"type\":\"pie\"}]},\"layout\":{\"autotypenumbers\":\"strict\",\"colorway\":[\"#636efa\",\"#EF553B\",\"#00cc96\",\"#ab63fa\",\"#FFA15A\",\"#19d3f3\",\"#FF6692\",\"#B6E880\",\"#FF97FF\",\"#FECB52\"],\"font\":{\"color\":\"#2a3f5f\"},\"hovermode\":\"closest\",\"hoverlabel\":{\"align\":\"left\"},\"paper_bgcolor\":\"white\",\"plot_bgcolor\":\"#E5ECF6\",\"polar\":{\"bgcolor\":\"#E5ECF6\",\"angularaxis\":{\"gridcolor\":\"white\",\"linecolor\":\"white\",\"ticks\":\"\"},\"radialaxis\":{\"gridcolor\":\"white\",\"linecolor\":\"white\",\"ticks\":\"\"}},\"ternary\":{\"bgcolor\":\"#E5ECF6\",\"aaxis\":{\"gridcolor\":\"white\",\"linecolor\":\"white\",\"ticks\":\"\"},\"baxis\":{\"gridcolor\":\"white\",\"linecolor\":\"white\",\"ticks\":\"\"},\"caxis\":{\"gridcolor\":\"white\",\"linecolor\":\"white\",\"ticks\":\"\"}},\"coloraxis\":{\"colorbar\":{\"outlinewidth\":0,\"ticks\":\"\"}},\"colorscale\":{\"sequential\":[[0.0,\"#0d0887\"],[0.1111111111111111,\"#46039f\"],[0.2222222222222222,\"#7201a8\"],[0.3333333333333333,\"#9c179e\"],[0.4444444444444444,\"#bd3786\"],[0.5555555555555556,\"#d8576b\"],[0.6666666666666666,\"#ed7953\"],[0.7777777777777778,\"#fb9f3a\"],[0.8888888888888888,\"#fdca26\"],[1.0,\"#f0f921\"]],\"sequentialminus\":[[0.0,\"#0d0887\"],[0.1111111111111111,\"#46039f\"],[0.2222222222222222,\"#7201a8\"],[0.3333333333333333,\"#9c179e\"],[0.4444444444444444,\"#bd3786\"],[0.5555555555555556,\"#d8576b\"],[0.6666666666666666,\"#ed7953\"],[0.7777777777777778,\"#fb9f3a\"],[0.8888888888888888,\"#fdca26\"],[1.0,\"#f0f921\"]],\"diverging\":[[0,\"#8e0152\"],[0.1,\"#c51b7d\"],[0.2,\"#de77ae\"],[0.3,\"#f1b6da\"],[0.4,\"#fde0ef\"],[0.5,\"#f7f7f7\"],[0.6,\"#e6f5d0\"],[0.7,\"#b8e186\"],[0.8,\"#7fbc41\"],[0.9,\"#4d9221\"],[1,\"#276419\"]]},\"xaxis\":{\"gridcolor\":\"white\",\"linecolor\":\"white\",\"ticks\":\"\",\"title\":{\"standoff\":15},\"zerolinecolor\":\"white\",\"automargin\":true,\"zerolinewidth\":2},\"yaxis\":{\"gridcolor\":\"white\",\"linecolor\":\"white\",\"ticks\":\"\",\"title\":{\"standoff\":15},\"zerolinecolor\":\"white\",\"automargin\":true,\"zerolinewidth\":2},\"scene\":{\"xaxis\":{\"backgroundcolor\":\"#E5ECF6\",\"gridcolor\":\"white\",\"linecolor\":\"white\",\"showbackground\":true,\"ticks\":\"\",\"zerolinecolor\":\"white\",\"gridwidth\":2},\"yaxis\":{\"backgroundcolor\":\"#E5ECF6\",\"gridcolor\":\"white\",\"linecolor\":\"white\",\"showbackground\":true,\"ticks\":\"\",\"zerolinecolor\":\"white\",\"gridwidth\":2},\"zaxis\":{\"backgroundcolor\":\"#E5ECF6\",\"gridcolor\":\"white\",\"linecolor\":\"white\",\"showbackground\":true,\"ticks\":\"\",\"zerolinecolor\":\"white\",\"gridwidth\":2}},\"shapedefaults\":{\"line\":{\"color\":\"#2a3f5f\"}},\"annotationdefaults\":{\"arrowcolor\":\"#2a3f5f\",\"arrowhead\":0,\"arrowwidth\":1},\"geo\":{\"bgcolor\":\"white\",\"landcolor\":\"#E5ECF6\",\"subunitcolor\":\"white\",\"showland\":true,\"showlakes\":true,\"lakecolor\":\"white\"},\"title\":{\"x\":0.05},\"mapbox\":{\"style\":\"light\"}}},\"xaxis\":{\"anchor\":\"y\",\"domain\":[0.0,0.235],\"title\":{\"text\":\"year\"}},\"yaxis\":{\"anchor\":\"x\",\"domain\":[0.0,1.0],\"title\":{\"text\":\"value\"}},\"xaxis2\":{\"anchor\":\"y2\",\"domain\":[0.255,0.49],\"matches\":\"x\",\"title\":{\"text\":\"year\"}},\"yaxis2\":{\"anchor\":\"x2\",\"domain\":[0.0,1.0],\"matches\":\"y\",\"showticklabels\":false},\"xaxis3\":{\"anchor\":\"y3\",\"domain\":[0.51,0.745],\"matches\":\"x\",\"title\":{\"text\":\"year\"}},\"yaxis3\":{\"anchor\":\"x3\",\"domain\":[0.0,1.0],\"matches\":\"y\",\"showticklabels\":false},\"xaxis4\":{\"anchor\":\"y4\",\"domain\":[0.7649999999999999,0.9999999999999999],\"matches\":\"x\",\"title\":{\"text\":\"year\"}},\"yaxis4\":{\"anchor\":\"x4\",\"domain\":[0.0,1.0],\"matches\":\"y\",\"showticklabels\":false},\"annotations\":[{\"font\":{},\"showarrow\":false,\"text\":\"subject=Business Finance\",\"x\":0.1175,\"xanchor\":\"center\",\"xref\":\"paper\",\"y\":1.0,\"yanchor\":\"bottom\",\"yref\":\"paper\"},{\"font\":{},\"showarrow\":false,\"text\":\"subject=Graphic Design\",\"x\":0.3725,\"xanchor\":\"center\",\"xref\":\"paper\",\"y\":1.0,\"yanchor\":\"bottom\",\"yref\":\"paper\"},{\"font\":{},\"showarrow\":false,\"text\":\"subject=Musical Instruments\",\"x\":0.6275,\"xanchor\":\"center\",\"xref\":\"paper\",\"y\":1.0,\"yanchor\":\"bottom\",\"yref\":\"paper\"},{\"font\":{},\"showarrow\":false,\"text\":\"subject=Web Development\",\"x\":0.8824999999999998,\"xanchor\":\"center\",\"xref\":\"paper\",\"y\":1.0,\"yanchor\":\"bottom\",\"yref\":\"paper\"}],\"legend\":{\"title\":{\"text\":\"subject\"},\"tracegroupgap\":0},\"title\":{\"text\":\"num_subscribers for each subject regarding to year\"},\"height\":400},                        {\"responsive\": true}                    ).then(function(){\n",
       "                            \n",
       "var gd = document.getElementById('874bf442-0ea3-48e3-8eb9-0fa03e01267f');\n",
       "var x = new MutationObserver(function (mutations, observer) {{\n",
       "        var display = window.getComputedStyle(gd).display;\n",
       "        if (!display || display === 'none') {{\n",
       "            console.log([gd, 'removed!']);\n",
       "            Plotly.purge(gd);\n",
       "            observer.disconnect();\n",
       "        }}\n",
       "}});\n",
       "\n",
       "// Listen for the removal of the full notebook cells\n",
       "var notebookContainer = gd.closest('#notebook-container');\n",
       "if (notebookContainer) {{\n",
       "    x.observe(notebookContainer, {childList: true});\n",
       "}}\n",
       "\n",
       "// Listen for the clearing of the current output cell\n",
       "var outputEl = gd.closest('.output');\n",
       "if (outputEl) {{\n",
       "    x.observe(outputEl, {childList: true});\n",
       "}}\n",
       "\n",
       "                        })                };                });            </script>        </div>"
      ]
     },
     "metadata": {},
     "output_type": "display_data"
    }
   ],
   "source": [
    "# visualizing data\n",
    "\n",
    "chart_title= 'num_subscribers for each subject regarding to year'\n",
    "px.line(df.pivot_table(index= 'year', columns= 'subject', values= 'num_subscribers', aggfunc= 'sum'), markers= True, title= chart_title, facet_col= 'subject', height= 400)"
   ]
  },
  {
   "cell_type": "markdown",
   "id": "a95198b1",
   "metadata": {
    "id": "UNFA49-eKnTr",
    "papermill": {
     "duration": 0.062114,
     "end_time": "2023-07-24T06:45:02.169631",
     "exception": false,
     "start_time": "2023-07-24T06:45:02.107517",
     "status": "completed"
    },
    "tags": []
   },
   "source": [
    "# ***Q: Why num_subscribers of web development in (2013-2014) up but profit down in the same time ?***"
   ]
  },
  {
   "cell_type": "markdown",
   "id": "aa098ab0",
   "metadata": {
    "id": "Zxy8v3lkLB2y",
    "papermill": {
     "duration": 0.054546,
     "end_time": "2023-07-24T06:45:02.280271",
     "exception": false,
     "start_time": "2023-07-24T06:45:02.225725",
     "status": "completed"
    },
    "tags": []
   },
   "source": [
    "- check if the num of courses was the reason."
   ]
  },
  {
   "cell_type": "code",
   "execution_count": 62,
   "id": "24d6e720",
   "metadata": {
    "execution": {
     "iopub.execute_input": "2023-07-24T06:45:02.392753Z",
     "iopub.status.busy": "2023-07-24T06:45:02.391510Z",
     "iopub.status.idle": "2023-07-24T06:45:02.407649Z",
     "shell.execute_reply": "2023-07-24T06:45:02.406605Z"
    },
    "id": "7sNo5xVzKLV6",
    "outputId": "f51185ae-3323-4226-acee-9236e2e081c5",
    "papermill": {
     "duration": 0.074128,
     "end_time": "2023-07-24T06:45:02.410061",
     "exception": false,
     "start_time": "2023-07-24T06:45:02.335933",
     "status": "completed"
    },
    "tags": []
   },
   "outputs": [
    {
     "data": {
      "text/html": [
       "<div>\n",
       "<style scoped>\n",
       "    .dataframe tbody tr th:only-of-type {\n",
       "        vertical-align: middle;\n",
       "    }\n",
       "\n",
       "    .dataframe tbody tr th {\n",
       "        vertical-align: top;\n",
       "    }\n",
       "\n",
       "    .dataframe thead th {\n",
       "        text-align: right;\n",
       "    }\n",
       "</style>\n",
       "<table border=\"1\" class=\"dataframe\">\n",
       "  <thead>\n",
       "    <tr style=\"text-align: right;\">\n",
       "      <th></th>\n",
       "      <th></th>\n",
       "      <th>course_id</th>\n",
       "    </tr>\n",
       "    <tr>\n",
       "      <th>year</th>\n",
       "      <th>subject</th>\n",
       "      <th></th>\n",
       "    </tr>\n",
       "  </thead>\n",
       "  <tbody>\n",
       "    <tr>\n",
       "      <th>2011</th>\n",
       "      <th>Web Development</th>\n",
       "      <td>5</td>\n",
       "    </tr>\n",
       "    <tr>\n",
       "      <th rowspan=\"4\" valign=\"top\">2012</th>\n",
       "      <th>Business Finance</th>\n",
       "      <td>6</td>\n",
       "    </tr>\n",
       "    <tr>\n",
       "      <th>Graphic Design</th>\n",
       "      <td>10</td>\n",
       "    </tr>\n",
       "    <tr>\n",
       "      <th>Musical Instruments</th>\n",
       "      <td>9</td>\n",
       "    </tr>\n",
       "    <tr>\n",
       "      <th>Web Development</th>\n",
       "      <td>19</td>\n",
       "    </tr>\n",
       "    <tr>\n",
       "      <th rowspan=\"4\" valign=\"top\">2013</th>\n",
       "      <th>Business Finance</th>\n",
       "      <td>84</td>\n",
       "    </tr>\n",
       "    <tr>\n",
       "      <th>Graphic Design</th>\n",
       "      <td>23</td>\n",
       "    </tr>\n",
       "    <tr>\n",
       "      <th>Musical Instruments</th>\n",
       "      <td>39</td>\n",
       "    </tr>\n",
       "    <tr>\n",
       "      <th>Web Development</th>\n",
       "      <td>51</td>\n",
       "    </tr>\n",
       "    <tr>\n",
       "      <th rowspan=\"4\" valign=\"top\">2014</th>\n",
       "      <th>Business Finance</th>\n",
       "      <td>192</td>\n",
       "    </tr>\n",
       "    <tr>\n",
       "      <th>Graphic Design</th>\n",
       "      <td>65</td>\n",
       "    </tr>\n",
       "    <tr>\n",
       "      <th>Musical Instruments</th>\n",
       "      <td>119</td>\n",
       "    </tr>\n",
       "    <tr>\n",
       "      <th>Web Development</th>\n",
       "      <td>110</td>\n",
       "    </tr>\n",
       "    <tr>\n",
       "      <th rowspan=\"4\" valign=\"top\">2015</th>\n",
       "      <th>Business Finance</th>\n",
       "      <td>338</td>\n",
       "    </tr>\n",
       "    <tr>\n",
       "      <th>Graphic Design</th>\n",
       "      <td>168</td>\n",
       "    </tr>\n",
       "    <tr>\n",
       "      <th>Musical Instruments</th>\n",
       "      <td>171</td>\n",
       "    </tr>\n",
       "    <tr>\n",
       "      <th>Web Development</th>\n",
       "      <td>329</td>\n",
       "    </tr>\n",
       "    <tr>\n",
       "      <th rowspan=\"4\" valign=\"top\">2016</th>\n",
       "      <th>Business Finance</th>\n",
       "      <td>347</td>\n",
       "    </tr>\n",
       "    <tr>\n",
       "      <th>Graphic Design</th>\n",
       "      <td>181</td>\n",
       "    </tr>\n",
       "    <tr>\n",
       "      <th>Musical Instruments</th>\n",
       "      <td>228</td>\n",
       "    </tr>\n",
       "    <tr>\n",
       "      <th>Web Development</th>\n",
       "      <td>443</td>\n",
       "    </tr>\n",
       "    <tr>\n",
       "      <th rowspan=\"4\" valign=\"top\">2017</th>\n",
       "      <th>Business Finance</th>\n",
       "      <td>223</td>\n",
       "    </tr>\n",
       "    <tr>\n",
       "      <th>Graphic Design</th>\n",
       "      <td>155</td>\n",
       "    </tr>\n",
       "    <tr>\n",
       "      <th>Musical Instruments</th>\n",
       "      <td>112</td>\n",
       "    </tr>\n",
       "    <tr>\n",
       "      <th>Web Development</th>\n",
       "      <td>223</td>\n",
       "    </tr>\n",
       "  </tbody>\n",
       "</table>\n",
       "</div>"
      ],
      "text/plain": [
       "                          course_id\n",
       "year subject                       \n",
       "2011 Web Development              5\n",
       "2012 Business Finance             6\n",
       "     Graphic Design              10\n",
       "     Musical Instruments          9\n",
       "     Web Development             19\n",
       "2013 Business Finance            84\n",
       "     Graphic Design              23\n",
       "     Musical Instruments         39\n",
       "     Web Development             51\n",
       "2014 Business Finance           192\n",
       "     Graphic Design              65\n",
       "     Musical Instruments        119\n",
       "     Web Development            110\n",
       "2015 Business Finance           338\n",
       "     Graphic Design             168\n",
       "     Musical Instruments        171\n",
       "     Web Development            329\n",
       "2016 Business Finance           347\n",
       "     Graphic Design             181\n",
       "     Musical Instruments        228\n",
       "     Web Development            443\n",
       "2017 Business Finance           223\n",
       "     Graphic Design             155\n",
       "     Musical Instruments        112\n",
       "     Web Development            223"
      ]
     },
     "execution_count": 62,
     "metadata": {},
     "output_type": "execute_result"
    }
   ],
   "source": [
    "# select data\n",
    "\n",
    "df[['year', 'subject', 'course_id']].groupby(['year', 'subject']).count()"
   ]
  },
  {
   "cell_type": "code",
   "execution_count": 63,
   "id": "2ae7696d",
   "metadata": {
    "execution": {
     "iopub.execute_input": "2023-07-24T06:45:02.529965Z",
     "iopub.status.busy": "2023-07-24T06:45:02.529260Z",
     "iopub.status.idle": "2023-07-24T06:45:02.557336Z",
     "shell.execute_reply": "2023-07-24T06:45:02.556221Z"
    },
    "id": "muqYy1KOMQIZ",
    "outputId": "3c80547c-f64d-4cea-fd2c-7a8903765f35",
    "papermill": {
     "duration": 0.094738,
     "end_time": "2023-07-24T06:45:02.560274",
     "exception": false,
     "start_time": "2023-07-24T06:45:02.465536",
     "status": "completed"
    },
    "tags": []
   },
   "outputs": [
    {
     "data": {
      "text/html": [
       "<div>\n",
       "<style scoped>\n",
       "    .dataframe tbody tr th:only-of-type {\n",
       "        vertical-align: middle;\n",
       "    }\n",
       "\n",
       "    .dataframe tbody tr th {\n",
       "        vertical-align: top;\n",
       "    }\n",
       "\n",
       "    .dataframe thead th {\n",
       "        text-align: right;\n",
       "    }\n",
       "</style>\n",
       "<table border=\"1\" class=\"dataframe\">\n",
       "  <thead>\n",
       "    <tr style=\"text-align: right;\">\n",
       "      <th>subject</th>\n",
       "      <th>Business Finance</th>\n",
       "      <th>Graphic Design</th>\n",
       "      <th>Musical Instruments</th>\n",
       "      <th>Web Development</th>\n",
       "    </tr>\n",
       "    <tr>\n",
       "      <th>year</th>\n",
       "      <th></th>\n",
       "      <th></th>\n",
       "      <th></th>\n",
       "      <th></th>\n",
       "    </tr>\n",
       "  </thead>\n",
       "  <tbody>\n",
       "    <tr>\n",
       "      <th>2011</th>\n",
       "      <td>NaN</td>\n",
       "      <td>NaN</td>\n",
       "      <td>NaN</td>\n",
       "      <td>5.0</td>\n",
       "    </tr>\n",
       "    <tr>\n",
       "      <th>2012</th>\n",
       "      <td>6.0</td>\n",
       "      <td>10.0</td>\n",
       "      <td>9.0</td>\n",
       "      <td>19.0</td>\n",
       "    </tr>\n",
       "    <tr>\n",
       "      <th>2013</th>\n",
       "      <td>84.0</td>\n",
       "      <td>23.0</td>\n",
       "      <td>39.0</td>\n",
       "      <td>51.0</td>\n",
       "    </tr>\n",
       "    <tr>\n",
       "      <th>2014</th>\n",
       "      <td>192.0</td>\n",
       "      <td>65.0</td>\n",
       "      <td>119.0</td>\n",
       "      <td>110.0</td>\n",
       "    </tr>\n",
       "    <tr>\n",
       "      <th>2015</th>\n",
       "      <td>338.0</td>\n",
       "      <td>168.0</td>\n",
       "      <td>171.0</td>\n",
       "      <td>329.0</td>\n",
       "    </tr>\n",
       "    <tr>\n",
       "      <th>2016</th>\n",
       "      <td>347.0</td>\n",
       "      <td>181.0</td>\n",
       "      <td>228.0</td>\n",
       "      <td>443.0</td>\n",
       "    </tr>\n",
       "    <tr>\n",
       "      <th>2017</th>\n",
       "      <td>223.0</td>\n",
       "      <td>155.0</td>\n",
       "      <td>112.0</td>\n",
       "      <td>223.0</td>\n",
       "    </tr>\n",
       "  </tbody>\n",
       "</table>\n",
       "</div>"
      ],
      "text/plain": [
       "subject  Business Finance  Graphic Design  Musical Instruments  \\\n",
       "year                                                             \n",
       "2011                  NaN             NaN                  NaN   \n",
       "2012                  6.0            10.0                  9.0   \n",
       "2013                 84.0            23.0                 39.0   \n",
       "2014                192.0            65.0                119.0   \n",
       "2015                338.0           168.0                171.0   \n",
       "2016                347.0           181.0                228.0   \n",
       "2017                223.0           155.0                112.0   \n",
       "\n",
       "subject  Web Development  \n",
       "year                      \n",
       "2011                 5.0  \n",
       "2012                19.0  \n",
       "2013                51.0  \n",
       "2014               110.0  \n",
       "2015               329.0  \n",
       "2016               443.0  \n",
       "2017               223.0  "
      ]
     },
     "execution_count": 63,
     "metadata": {},
     "output_type": "execute_result"
    }
   ],
   "source": [
    "# pivot table for results\n",
    "\n",
    "df.pivot_table(index= 'year', columns= 'subject', values= 'course_id', aggfunc= 'count')"
   ]
  },
  {
   "cell_type": "code",
   "execution_count": 64,
   "id": "921bade9",
   "metadata": {
    "execution": {
     "iopub.execute_input": "2023-07-24T06:45:02.685532Z",
     "iopub.status.busy": "2023-07-24T06:45:02.684744Z",
     "iopub.status.idle": "2023-07-24T06:45:02.820291Z",
     "shell.execute_reply": "2023-07-24T06:45:02.819206Z"
    },
    "id": "zSMgAfI4MinP",
    "outputId": "03e1ed60-6553-47f8-ed54-f48c4d441894",
    "papermill": {
     "duration": 0.197402,
     "end_time": "2023-07-24T06:45:02.822751",
     "exception": false,
     "start_time": "2023-07-24T06:45:02.625349",
     "status": "completed"
    },
    "tags": []
   },
   "outputs": [
    {
     "data": {
      "text/html": [
       "<div>                            <div id=\"a5dc0b4f-3ea3-43d0-9f10-5fd4ae690d21\" class=\"plotly-graph-div\" style=\"height:400px; width:100%;\"></div>            <script type=\"text/javascript\">                require([\"plotly\"], function(Plotly) {                    window.PLOTLYENV=window.PLOTLYENV || {};                                    if (document.getElementById(\"a5dc0b4f-3ea3-43d0-9f10-5fd4ae690d21\")) {                    Plotly.newPlot(                        \"a5dc0b4f-3ea3-43d0-9f10-5fd4ae690d21\",                        [{\"hovertemplate\":\"subject=Business Finance\\u003cbr\\u003eyear=%{x}\\u003cbr\\u003evalue=%{y}\\u003cextra\\u003e\\u003c\\u002fextra\\u003e\",\"legendgroup\":\"Business Finance\",\"line\":{\"color\":\"#636efa\",\"dash\":\"solid\"},\"marker\":{\"symbol\":\"circle\"},\"mode\":\"lines+markers\",\"name\":\"Business Finance\",\"orientation\":\"v\",\"showlegend\":true,\"x\":[2011,2012,2013,2014,2015,2016,2017],\"xaxis\":\"x\",\"y\":[null,6.0,84.0,192.0,338.0,347.0,223.0],\"yaxis\":\"y\",\"type\":\"scatter\"},{\"hovertemplate\":\"subject=Graphic Design\\u003cbr\\u003eyear=%{x}\\u003cbr\\u003evalue=%{y}\\u003cextra\\u003e\\u003c\\u002fextra\\u003e\",\"legendgroup\":\"Graphic Design\",\"line\":{\"color\":\"#EF553B\",\"dash\":\"solid\"},\"marker\":{\"symbol\":\"circle\"},\"mode\":\"lines+markers\",\"name\":\"Graphic Design\",\"orientation\":\"v\",\"showlegend\":true,\"x\":[2011,2012,2013,2014,2015,2016,2017],\"xaxis\":\"x2\",\"y\":[null,10.0,23.0,65.0,168.0,181.0,155.0],\"yaxis\":\"y2\",\"type\":\"scatter\"},{\"hovertemplate\":\"subject=Musical Instruments\\u003cbr\\u003eyear=%{x}\\u003cbr\\u003evalue=%{y}\\u003cextra\\u003e\\u003c\\u002fextra\\u003e\",\"legendgroup\":\"Musical Instruments\",\"line\":{\"color\":\"#00cc96\",\"dash\":\"solid\"},\"marker\":{\"symbol\":\"circle\"},\"mode\":\"lines+markers\",\"name\":\"Musical Instruments\",\"orientation\":\"v\",\"showlegend\":true,\"x\":[2011,2012,2013,2014,2015,2016,2017],\"xaxis\":\"x3\",\"y\":[null,9.0,39.0,119.0,171.0,228.0,112.0],\"yaxis\":\"y3\",\"type\":\"scatter\"},{\"hovertemplate\":\"subject=Web Development\\u003cbr\\u003eyear=%{x}\\u003cbr\\u003evalue=%{y}\\u003cextra\\u003e\\u003c\\u002fextra\\u003e\",\"legendgroup\":\"Web Development\",\"line\":{\"color\":\"#ab63fa\",\"dash\":\"solid\"},\"marker\":{\"symbol\":\"circle\"},\"mode\":\"lines+markers\",\"name\":\"Web Development\",\"orientation\":\"v\",\"showlegend\":true,\"x\":[2011,2012,2013,2014,2015,2016,2017],\"xaxis\":\"x4\",\"y\":[5.0,19.0,51.0,110.0,329.0,443.0,223.0],\"yaxis\":\"y4\",\"type\":\"scatter\"}],                        {\"template\":{\"data\":{\"histogram2dcontour\":[{\"type\":\"histogram2dcontour\",\"colorbar\":{\"outlinewidth\":0,\"ticks\":\"\"},\"colorscale\":[[0.0,\"#0d0887\"],[0.1111111111111111,\"#46039f\"],[0.2222222222222222,\"#7201a8\"],[0.3333333333333333,\"#9c179e\"],[0.4444444444444444,\"#bd3786\"],[0.5555555555555556,\"#d8576b\"],[0.6666666666666666,\"#ed7953\"],[0.7777777777777778,\"#fb9f3a\"],[0.8888888888888888,\"#fdca26\"],[1.0,\"#f0f921\"]]}],\"choropleth\":[{\"type\":\"choropleth\",\"colorbar\":{\"outlinewidth\":0,\"ticks\":\"\"}}],\"histogram2d\":[{\"type\":\"histogram2d\",\"colorbar\":{\"outlinewidth\":0,\"ticks\":\"\"},\"colorscale\":[[0.0,\"#0d0887\"],[0.1111111111111111,\"#46039f\"],[0.2222222222222222,\"#7201a8\"],[0.3333333333333333,\"#9c179e\"],[0.4444444444444444,\"#bd3786\"],[0.5555555555555556,\"#d8576b\"],[0.6666666666666666,\"#ed7953\"],[0.7777777777777778,\"#fb9f3a\"],[0.8888888888888888,\"#fdca26\"],[1.0,\"#f0f921\"]]}],\"heatmap\":[{\"type\":\"heatmap\",\"colorbar\":{\"outlinewidth\":0,\"ticks\":\"\"},\"colorscale\":[[0.0,\"#0d0887\"],[0.1111111111111111,\"#46039f\"],[0.2222222222222222,\"#7201a8\"],[0.3333333333333333,\"#9c179e\"],[0.4444444444444444,\"#bd3786\"],[0.5555555555555556,\"#d8576b\"],[0.6666666666666666,\"#ed7953\"],[0.7777777777777778,\"#fb9f3a\"],[0.8888888888888888,\"#fdca26\"],[1.0,\"#f0f921\"]]}],\"heatmapgl\":[{\"type\":\"heatmapgl\",\"colorbar\":{\"outlinewidth\":0,\"ticks\":\"\"},\"colorscale\":[[0.0,\"#0d0887\"],[0.1111111111111111,\"#46039f\"],[0.2222222222222222,\"#7201a8\"],[0.3333333333333333,\"#9c179e\"],[0.4444444444444444,\"#bd3786\"],[0.5555555555555556,\"#d8576b\"],[0.6666666666666666,\"#ed7953\"],[0.7777777777777778,\"#fb9f3a\"],[0.8888888888888888,\"#fdca26\"],[1.0,\"#f0f921\"]]}],\"contourcarpet\":[{\"type\":\"contourcarpet\",\"colorbar\":{\"outlinewidth\":0,\"ticks\":\"\"}}],\"contour\":[{\"type\":\"contour\",\"colorbar\":{\"outlinewidth\":0,\"ticks\":\"\"},\"colorscale\":[[0.0,\"#0d0887\"],[0.1111111111111111,\"#46039f\"],[0.2222222222222222,\"#7201a8\"],[0.3333333333333333,\"#9c179e\"],[0.4444444444444444,\"#bd3786\"],[0.5555555555555556,\"#d8576b\"],[0.6666666666666666,\"#ed7953\"],[0.7777777777777778,\"#fb9f3a\"],[0.8888888888888888,\"#fdca26\"],[1.0,\"#f0f921\"]]}],\"surface\":[{\"type\":\"surface\",\"colorbar\":{\"outlinewidth\":0,\"ticks\":\"\"},\"colorscale\":[[0.0,\"#0d0887\"],[0.1111111111111111,\"#46039f\"],[0.2222222222222222,\"#7201a8\"],[0.3333333333333333,\"#9c179e\"],[0.4444444444444444,\"#bd3786\"],[0.5555555555555556,\"#d8576b\"],[0.6666666666666666,\"#ed7953\"],[0.7777777777777778,\"#fb9f3a\"],[0.8888888888888888,\"#fdca26\"],[1.0,\"#f0f921\"]]}],\"mesh3d\":[{\"type\":\"mesh3d\",\"colorbar\":{\"outlinewidth\":0,\"ticks\":\"\"}}],\"scatter\":[{\"fillpattern\":{\"fillmode\":\"overlay\",\"size\":10,\"solidity\":0.2},\"type\":\"scatter\"}],\"parcoords\":[{\"type\":\"parcoords\",\"line\":{\"colorbar\":{\"outlinewidth\":0,\"ticks\":\"\"}}}],\"scatterpolargl\":[{\"type\":\"scatterpolargl\",\"marker\":{\"colorbar\":{\"outlinewidth\":0,\"ticks\":\"\"}}}],\"bar\":[{\"error_x\":{\"color\":\"#2a3f5f\"},\"error_y\":{\"color\":\"#2a3f5f\"},\"marker\":{\"line\":{\"color\":\"#E5ECF6\",\"width\":0.5},\"pattern\":{\"fillmode\":\"overlay\",\"size\":10,\"solidity\":0.2}},\"type\":\"bar\"}],\"scattergeo\":[{\"type\":\"scattergeo\",\"marker\":{\"colorbar\":{\"outlinewidth\":0,\"ticks\":\"\"}}}],\"scatterpolar\":[{\"type\":\"scatterpolar\",\"marker\":{\"colorbar\":{\"outlinewidth\":0,\"ticks\":\"\"}}}],\"histogram\":[{\"marker\":{\"pattern\":{\"fillmode\":\"overlay\",\"size\":10,\"solidity\":0.2}},\"type\":\"histogram\"}],\"scattergl\":[{\"type\":\"scattergl\",\"marker\":{\"colorbar\":{\"outlinewidth\":0,\"ticks\":\"\"}}}],\"scatter3d\":[{\"type\":\"scatter3d\",\"line\":{\"colorbar\":{\"outlinewidth\":0,\"ticks\":\"\"}},\"marker\":{\"colorbar\":{\"outlinewidth\":0,\"ticks\":\"\"}}}],\"scattermapbox\":[{\"type\":\"scattermapbox\",\"marker\":{\"colorbar\":{\"outlinewidth\":0,\"ticks\":\"\"}}}],\"scatterternary\":[{\"type\":\"scatterternary\",\"marker\":{\"colorbar\":{\"outlinewidth\":0,\"ticks\":\"\"}}}],\"scattercarpet\":[{\"type\":\"scattercarpet\",\"marker\":{\"colorbar\":{\"outlinewidth\":0,\"ticks\":\"\"}}}],\"carpet\":[{\"aaxis\":{\"endlinecolor\":\"#2a3f5f\",\"gridcolor\":\"white\",\"linecolor\":\"white\",\"minorgridcolor\":\"white\",\"startlinecolor\":\"#2a3f5f\"},\"baxis\":{\"endlinecolor\":\"#2a3f5f\",\"gridcolor\":\"white\",\"linecolor\":\"white\",\"minorgridcolor\":\"white\",\"startlinecolor\":\"#2a3f5f\"},\"type\":\"carpet\"}],\"table\":[{\"cells\":{\"fill\":{\"color\":\"#EBF0F8\"},\"line\":{\"color\":\"white\"}},\"header\":{\"fill\":{\"color\":\"#C8D4E3\"},\"line\":{\"color\":\"white\"}},\"type\":\"table\"}],\"barpolar\":[{\"marker\":{\"line\":{\"color\":\"#E5ECF6\",\"width\":0.5},\"pattern\":{\"fillmode\":\"overlay\",\"size\":10,\"solidity\":0.2}},\"type\":\"barpolar\"}],\"pie\":[{\"automargin\":true,\"type\":\"pie\"}]},\"layout\":{\"autotypenumbers\":\"strict\",\"colorway\":[\"#636efa\",\"#EF553B\",\"#00cc96\",\"#ab63fa\",\"#FFA15A\",\"#19d3f3\",\"#FF6692\",\"#B6E880\",\"#FF97FF\",\"#FECB52\"],\"font\":{\"color\":\"#2a3f5f\"},\"hovermode\":\"closest\",\"hoverlabel\":{\"align\":\"left\"},\"paper_bgcolor\":\"white\",\"plot_bgcolor\":\"#E5ECF6\",\"polar\":{\"bgcolor\":\"#E5ECF6\",\"angularaxis\":{\"gridcolor\":\"white\",\"linecolor\":\"white\",\"ticks\":\"\"},\"radialaxis\":{\"gridcolor\":\"white\",\"linecolor\":\"white\",\"ticks\":\"\"}},\"ternary\":{\"bgcolor\":\"#E5ECF6\",\"aaxis\":{\"gridcolor\":\"white\",\"linecolor\":\"white\",\"ticks\":\"\"},\"baxis\":{\"gridcolor\":\"white\",\"linecolor\":\"white\",\"ticks\":\"\"},\"caxis\":{\"gridcolor\":\"white\",\"linecolor\":\"white\",\"ticks\":\"\"}},\"coloraxis\":{\"colorbar\":{\"outlinewidth\":0,\"ticks\":\"\"}},\"colorscale\":{\"sequential\":[[0.0,\"#0d0887\"],[0.1111111111111111,\"#46039f\"],[0.2222222222222222,\"#7201a8\"],[0.3333333333333333,\"#9c179e\"],[0.4444444444444444,\"#bd3786\"],[0.5555555555555556,\"#d8576b\"],[0.6666666666666666,\"#ed7953\"],[0.7777777777777778,\"#fb9f3a\"],[0.8888888888888888,\"#fdca26\"],[1.0,\"#f0f921\"]],\"sequentialminus\":[[0.0,\"#0d0887\"],[0.1111111111111111,\"#46039f\"],[0.2222222222222222,\"#7201a8\"],[0.3333333333333333,\"#9c179e\"],[0.4444444444444444,\"#bd3786\"],[0.5555555555555556,\"#d8576b\"],[0.6666666666666666,\"#ed7953\"],[0.7777777777777778,\"#fb9f3a\"],[0.8888888888888888,\"#fdca26\"],[1.0,\"#f0f921\"]],\"diverging\":[[0,\"#8e0152\"],[0.1,\"#c51b7d\"],[0.2,\"#de77ae\"],[0.3,\"#f1b6da\"],[0.4,\"#fde0ef\"],[0.5,\"#f7f7f7\"],[0.6,\"#e6f5d0\"],[0.7,\"#b8e186\"],[0.8,\"#7fbc41\"],[0.9,\"#4d9221\"],[1,\"#276419\"]]},\"xaxis\":{\"gridcolor\":\"white\",\"linecolor\":\"white\",\"ticks\":\"\",\"title\":{\"standoff\":15},\"zerolinecolor\":\"white\",\"automargin\":true,\"zerolinewidth\":2},\"yaxis\":{\"gridcolor\":\"white\",\"linecolor\":\"white\",\"ticks\":\"\",\"title\":{\"standoff\":15},\"zerolinecolor\":\"white\",\"automargin\":true,\"zerolinewidth\":2},\"scene\":{\"xaxis\":{\"backgroundcolor\":\"#E5ECF6\",\"gridcolor\":\"white\",\"linecolor\":\"white\",\"showbackground\":true,\"ticks\":\"\",\"zerolinecolor\":\"white\",\"gridwidth\":2},\"yaxis\":{\"backgroundcolor\":\"#E5ECF6\",\"gridcolor\":\"white\",\"linecolor\":\"white\",\"showbackground\":true,\"ticks\":\"\",\"zerolinecolor\":\"white\",\"gridwidth\":2},\"zaxis\":{\"backgroundcolor\":\"#E5ECF6\",\"gridcolor\":\"white\",\"linecolor\":\"white\",\"showbackground\":true,\"ticks\":\"\",\"zerolinecolor\":\"white\",\"gridwidth\":2}},\"shapedefaults\":{\"line\":{\"color\":\"#2a3f5f\"}},\"annotationdefaults\":{\"arrowcolor\":\"#2a3f5f\",\"arrowhead\":0,\"arrowwidth\":1},\"geo\":{\"bgcolor\":\"white\",\"landcolor\":\"#E5ECF6\",\"subunitcolor\":\"white\",\"showland\":true,\"showlakes\":true,\"lakecolor\":\"white\"},\"title\":{\"x\":0.05},\"mapbox\":{\"style\":\"light\"}}},\"xaxis\":{\"anchor\":\"y\",\"domain\":[0.0,0.235],\"title\":{\"text\":\"year\"}},\"yaxis\":{\"anchor\":\"x\",\"domain\":[0.0,1.0],\"title\":{\"text\":\"value\"}},\"xaxis2\":{\"anchor\":\"y2\",\"domain\":[0.255,0.49],\"matches\":\"x\",\"title\":{\"text\":\"year\"}},\"yaxis2\":{\"anchor\":\"x2\",\"domain\":[0.0,1.0],\"matches\":\"y\",\"showticklabels\":false},\"xaxis3\":{\"anchor\":\"y3\",\"domain\":[0.51,0.745],\"matches\":\"x\",\"title\":{\"text\":\"year\"}},\"yaxis3\":{\"anchor\":\"x3\",\"domain\":[0.0,1.0],\"matches\":\"y\",\"showticklabels\":false},\"xaxis4\":{\"anchor\":\"y4\",\"domain\":[0.7649999999999999,0.9999999999999999],\"matches\":\"x\",\"title\":{\"text\":\"year\"}},\"yaxis4\":{\"anchor\":\"x4\",\"domain\":[0.0,1.0],\"matches\":\"y\",\"showticklabels\":false},\"annotations\":[{\"font\":{},\"showarrow\":false,\"text\":\"subject=Business Finance\",\"x\":0.1175,\"xanchor\":\"center\",\"xref\":\"paper\",\"y\":1.0,\"yanchor\":\"bottom\",\"yref\":\"paper\"},{\"font\":{},\"showarrow\":false,\"text\":\"subject=Graphic Design\",\"x\":0.3725,\"xanchor\":\"center\",\"xref\":\"paper\",\"y\":1.0,\"yanchor\":\"bottom\",\"yref\":\"paper\"},{\"font\":{},\"showarrow\":false,\"text\":\"subject=Musical Instruments\",\"x\":0.6275,\"xanchor\":\"center\",\"xref\":\"paper\",\"y\":1.0,\"yanchor\":\"bottom\",\"yref\":\"paper\"},{\"font\":{},\"showarrow\":false,\"text\":\"subject=Web Development\",\"x\":0.8824999999999998,\"xanchor\":\"center\",\"xref\":\"paper\",\"y\":1.0,\"yanchor\":\"bottom\",\"yref\":\"paper\"}],\"legend\":{\"title\":{\"text\":\"subject\"},\"tracegroupgap\":0},\"title\":{\"text\":\"# courses for each subject regarding to year\"},\"height\":400},                        {\"responsive\": true}                    ).then(function(){\n",
       "                            \n",
       "var gd = document.getElementById('a5dc0b4f-3ea3-43d0-9f10-5fd4ae690d21');\n",
       "var x = new MutationObserver(function (mutations, observer) {{\n",
       "        var display = window.getComputedStyle(gd).display;\n",
       "        if (!display || display === 'none') {{\n",
       "            console.log([gd, 'removed!']);\n",
       "            Plotly.purge(gd);\n",
       "            observer.disconnect();\n",
       "        }}\n",
       "}});\n",
       "\n",
       "// Listen for the removal of the full notebook cells\n",
       "var notebookContainer = gd.closest('#notebook-container');\n",
       "if (notebookContainer) {{\n",
       "    x.observe(notebookContainer, {childList: true});\n",
       "}}\n",
       "\n",
       "// Listen for the clearing of the current output cell\n",
       "var outputEl = gd.closest('.output');\n",
       "if (outputEl) {{\n",
       "    x.observe(outputEl, {childList: true});\n",
       "}}\n",
       "\n",
       "                        })                };                });            </script>        </div>"
      ]
     },
     "metadata": {},
     "output_type": "display_data"
    }
   ],
   "source": [
    "# visualizing data results\n",
    "\n",
    "chart_title= '# courses for each subject regarding to year'\n",
    "px.line(df.pivot_table(index= 'year', columns= 'subject', values= 'course_id', aggfunc= 'count'), markers= True, title= chart_title, facet_col= 'subject', height= 400)"
   ]
  },
  {
   "cell_type": "markdown",
   "id": "3408a804",
   "metadata": {
    "id": "t03U8XFsLREp",
    "papermill": {
     "duration": 0.06531,
     "end_time": "2023-07-24T06:45:02.943920",
     "exception": false,
     "start_time": "2023-07-24T06:45:02.878610",
     "status": "completed"
    },
    "tags": []
   },
   "source": [
    "- check if AVG price was the reason"
   ]
  },
  {
   "cell_type": "code",
   "execution_count": 65,
   "id": "91831c9a",
   "metadata": {
    "execution": {
     "iopub.execute_input": "2023-07-24T06:45:03.065876Z",
     "iopub.status.busy": "2023-07-24T06:45:03.064942Z",
     "iopub.status.idle": "2023-07-24T06:45:03.086314Z",
     "shell.execute_reply": "2023-07-24T06:45:03.085234Z"
    },
    "id": "C2l41iKILYSZ",
    "outputId": "a20c3334-5490-4967-a9f3-6bcdc919b684",
    "papermill": {
     "duration": 0.081929,
     "end_time": "2023-07-24T06:45:03.088691",
     "exception": false,
     "start_time": "2023-07-24T06:45:03.006762",
     "status": "completed"
    },
    "tags": []
   },
   "outputs": [
    {
     "data": {
      "text/html": [
       "<div>\n",
       "<style scoped>\n",
       "    .dataframe tbody tr th:only-of-type {\n",
       "        vertical-align: middle;\n",
       "    }\n",
       "\n",
       "    .dataframe tbody tr th {\n",
       "        vertical-align: top;\n",
       "    }\n",
       "\n",
       "    .dataframe thead th {\n",
       "        text-align: right;\n",
       "    }\n",
       "</style>\n",
       "<table border=\"1\" class=\"dataframe\">\n",
       "  <thead>\n",
       "    <tr style=\"text-align: right;\">\n",
       "      <th></th>\n",
       "      <th></th>\n",
       "      <th>price</th>\n",
       "    </tr>\n",
       "    <tr>\n",
       "      <th>year</th>\n",
       "      <th>subject</th>\n",
       "      <th></th>\n",
       "    </tr>\n",
       "  </thead>\n",
       "  <tbody>\n",
       "    <tr>\n",
       "      <th>2011</th>\n",
       "      <th>Web Development</th>\n",
       "      <td>62.000000</td>\n",
       "    </tr>\n",
       "    <tr>\n",
       "      <th rowspan=\"4\" valign=\"top\">2012</th>\n",
       "      <th>Business Finance</th>\n",
       "      <td>42.500000</td>\n",
       "    </tr>\n",
       "    <tr>\n",
       "      <th>Graphic Design</th>\n",
       "      <td>35.000000</td>\n",
       "    </tr>\n",
       "    <tr>\n",
       "      <th>Musical Instruments</th>\n",
       "      <td>46.111111</td>\n",
       "    </tr>\n",
       "    <tr>\n",
       "      <th>Web Development</th>\n",
       "      <td>42.894737</td>\n",
       "    </tr>\n",
       "    <tr>\n",
       "      <th rowspan=\"4\" valign=\"top\">2013</th>\n",
       "      <th>Business Finance</th>\n",
       "      <td>45.535714</td>\n",
       "    </tr>\n",
       "    <tr>\n",
       "      <th>Graphic Design</th>\n",
       "      <td>38.043478</td>\n",
       "    </tr>\n",
       "    <tr>\n",
       "      <th>Musical Instruments</th>\n",
       "      <td>41.666667</td>\n",
       "    </tr>\n",
       "    <tr>\n",
       "      <th>Web Development</th>\n",
       "      <td>82.941176</td>\n",
       "    </tr>\n",
       "    <tr>\n",
       "      <th rowspan=\"4\" valign=\"top\">2014</th>\n",
       "      <th>Business Finance</th>\n",
       "      <td>53.151042</td>\n",
       "    </tr>\n",
       "    <tr>\n",
       "      <th>Graphic Design</th>\n",
       "      <td>35.769231</td>\n",
       "    </tr>\n",
       "    <tr>\n",
       "      <th>Musical Instruments</th>\n",
       "      <td>44.915966</td>\n",
       "    </tr>\n",
       "    <tr>\n",
       "      <th>Web Development</th>\n",
       "      <td>50.272727</td>\n",
       "    </tr>\n",
       "    <tr>\n",
       "      <th rowspan=\"4\" valign=\"top\">2015</th>\n",
       "      <th>Business Finance</th>\n",
       "      <td>68.284024</td>\n",
       "    </tr>\n",
       "    <tr>\n",
       "      <th>Graphic Design</th>\n",
       "      <td>62.529762</td>\n",
       "    </tr>\n",
       "    <tr>\n",
       "      <th>Musical Instruments</th>\n",
       "      <td>50.467836</td>\n",
       "    </tr>\n",
       "    <tr>\n",
       "      <th>Web Development</th>\n",
       "      <td>74.924012</td>\n",
       "    </tr>\n",
       "    <tr>\n",
       "      <th rowspan=\"4\" valign=\"top\">2016</th>\n",
       "      <th>Business Finance</th>\n",
       "      <td>73.213256</td>\n",
       "    </tr>\n",
       "    <tr>\n",
       "      <th>Graphic Design</th>\n",
       "      <td>58.977901</td>\n",
       "    </tr>\n",
       "    <tr>\n",
       "      <th>Musical Instruments</th>\n",
       "      <td>51.469298</td>\n",
       "    </tr>\n",
       "    <tr>\n",
       "      <th>Web Development</th>\n",
       "      <td>80.406321</td>\n",
       "    </tr>\n",
       "    <tr>\n",
       "      <th rowspan=\"4\" valign=\"top\">2017</th>\n",
       "      <th>Business Finance</th>\n",
       "      <td>85.313901</td>\n",
       "    </tr>\n",
       "    <tr>\n",
       "      <th>Graphic Design</th>\n",
       "      <td>65.290323</td>\n",
       "    </tr>\n",
       "    <tr>\n",
       "      <th>Musical Instruments</th>\n",
       "      <td>51.339286</td>\n",
       "    </tr>\n",
       "    <tr>\n",
       "      <th>Web Development</th>\n",
       "      <td>85.784753</td>\n",
       "    </tr>\n",
       "  </tbody>\n",
       "</table>\n",
       "</div>"
      ],
      "text/plain": [
       "                              price\n",
       "year subject                       \n",
       "2011 Web Development      62.000000\n",
       "2012 Business Finance     42.500000\n",
       "     Graphic Design       35.000000\n",
       "     Musical Instruments  46.111111\n",
       "     Web Development      42.894737\n",
       "2013 Business Finance     45.535714\n",
       "     Graphic Design       38.043478\n",
       "     Musical Instruments  41.666667\n",
       "     Web Development      82.941176\n",
       "2014 Business Finance     53.151042\n",
       "     Graphic Design       35.769231\n",
       "     Musical Instruments  44.915966\n",
       "     Web Development      50.272727\n",
       "2015 Business Finance     68.284024\n",
       "     Graphic Design       62.529762\n",
       "     Musical Instruments  50.467836\n",
       "     Web Development      74.924012\n",
       "2016 Business Finance     73.213256\n",
       "     Graphic Design       58.977901\n",
       "     Musical Instruments  51.469298\n",
       "     Web Development      80.406321\n",
       "2017 Business Finance     85.313901\n",
       "     Graphic Design       65.290323\n",
       "     Musical Instruments  51.339286\n",
       "     Web Development      85.784753"
      ]
     },
     "execution_count": 65,
     "metadata": {},
     "output_type": "execute_result"
    }
   ],
   "source": [
    "# select data\n",
    "\n",
    "df[['year', 'subject', 'price']].groupby(['year', 'subject']).mean()"
   ]
  },
  {
   "cell_type": "code",
   "execution_count": 66,
   "id": "2c19d00b",
   "metadata": {
    "execution": {
     "iopub.execute_input": "2023-07-24T06:45:03.204365Z",
     "iopub.status.busy": "2023-07-24T06:45:03.203366Z",
     "iopub.status.idle": "2023-07-24T06:45:03.228362Z",
     "shell.execute_reply": "2023-07-24T06:45:03.226850Z"
    },
    "id": "HwYPAzbULqHR",
    "outputId": "a3adb251-db0d-42f0-ab2d-8e7d7b596dbb",
    "papermill": {
     "duration": 0.086494,
     "end_time": "2023-07-24T06:45:03.231602",
     "exception": false,
     "start_time": "2023-07-24T06:45:03.145108",
     "status": "completed"
    },
    "tags": []
   },
   "outputs": [
    {
     "data": {
      "text/html": [
       "<div>\n",
       "<style scoped>\n",
       "    .dataframe tbody tr th:only-of-type {\n",
       "        vertical-align: middle;\n",
       "    }\n",
       "\n",
       "    .dataframe tbody tr th {\n",
       "        vertical-align: top;\n",
       "    }\n",
       "\n",
       "    .dataframe thead th {\n",
       "        text-align: right;\n",
       "    }\n",
       "</style>\n",
       "<table border=\"1\" class=\"dataframe\">\n",
       "  <thead>\n",
       "    <tr style=\"text-align: right;\">\n",
       "      <th>subject</th>\n",
       "      <th>Business Finance</th>\n",
       "      <th>Graphic Design</th>\n",
       "      <th>Musical Instruments</th>\n",
       "      <th>Web Development</th>\n",
       "    </tr>\n",
       "    <tr>\n",
       "      <th>year</th>\n",
       "      <th></th>\n",
       "      <th></th>\n",
       "      <th></th>\n",
       "      <th></th>\n",
       "    </tr>\n",
       "  </thead>\n",
       "  <tbody>\n",
       "    <tr>\n",
       "      <th>2011</th>\n",
       "      <td>NaN</td>\n",
       "      <td>NaN</td>\n",
       "      <td>NaN</td>\n",
       "      <td>62.000000</td>\n",
       "    </tr>\n",
       "    <tr>\n",
       "      <th>2012</th>\n",
       "      <td>42.500000</td>\n",
       "      <td>35.000000</td>\n",
       "      <td>46.111111</td>\n",
       "      <td>42.894737</td>\n",
       "    </tr>\n",
       "    <tr>\n",
       "      <th>2013</th>\n",
       "      <td>45.535714</td>\n",
       "      <td>38.043478</td>\n",
       "      <td>41.666667</td>\n",
       "      <td>82.941176</td>\n",
       "    </tr>\n",
       "    <tr>\n",
       "      <th>2014</th>\n",
       "      <td>53.151042</td>\n",
       "      <td>35.769231</td>\n",
       "      <td>44.915966</td>\n",
       "      <td>50.272727</td>\n",
       "    </tr>\n",
       "    <tr>\n",
       "      <th>2015</th>\n",
       "      <td>68.284024</td>\n",
       "      <td>62.529762</td>\n",
       "      <td>50.467836</td>\n",
       "      <td>74.924012</td>\n",
       "    </tr>\n",
       "    <tr>\n",
       "      <th>2016</th>\n",
       "      <td>73.213256</td>\n",
       "      <td>58.977901</td>\n",
       "      <td>51.469298</td>\n",
       "      <td>80.406321</td>\n",
       "    </tr>\n",
       "    <tr>\n",
       "      <th>2017</th>\n",
       "      <td>85.313901</td>\n",
       "      <td>65.290323</td>\n",
       "      <td>51.339286</td>\n",
       "      <td>85.784753</td>\n",
       "    </tr>\n",
       "  </tbody>\n",
       "</table>\n",
       "</div>"
      ],
      "text/plain": [
       "subject  Business Finance  Graphic Design  Musical Instruments  \\\n",
       "year                                                             \n",
       "2011                  NaN             NaN                  NaN   \n",
       "2012            42.500000       35.000000            46.111111   \n",
       "2013            45.535714       38.043478            41.666667   \n",
       "2014            53.151042       35.769231            44.915966   \n",
       "2015            68.284024       62.529762            50.467836   \n",
       "2016            73.213256       58.977901            51.469298   \n",
       "2017            85.313901       65.290323            51.339286   \n",
       "\n",
       "subject  Web Development  \n",
       "year                      \n",
       "2011           62.000000  \n",
       "2012           42.894737  \n",
       "2013           82.941176  \n",
       "2014           50.272727  \n",
       "2015           74.924012  \n",
       "2016           80.406321  \n",
       "2017           85.784753  "
      ]
     },
     "execution_count": 66,
     "metadata": {},
     "output_type": "execute_result"
    }
   ],
   "source": [
    "# pivot table for results\n",
    "\n",
    "df.pivot_table(index= 'year', columns= 'subject', values= 'price', aggfunc= 'mean')"
   ]
  },
  {
   "cell_type": "code",
   "execution_count": 67,
   "id": "536c85bb",
   "metadata": {
    "execution": {
     "iopub.execute_input": "2023-07-24T06:45:03.356562Z",
     "iopub.status.busy": "2023-07-24T06:45:03.355596Z",
     "iopub.status.idle": "2023-07-24T06:45:03.490606Z",
     "shell.execute_reply": "2023-07-24T06:45:03.489267Z"
    },
    "id": "SvM1vWy1MAKQ",
    "outputId": "905dd967-2f00-4248-99a2-efdd7cbb6111",
    "papermill": {
     "duration": 0.196517,
     "end_time": "2023-07-24T06:45:03.493656",
     "exception": false,
     "start_time": "2023-07-24T06:45:03.297139",
     "status": "completed"
    },
    "tags": []
   },
   "outputs": [
    {
     "data": {
      "text/html": [
       "<div>                            <div id=\"c4ef06e9-4935-45e2-b40d-cfcacd299400\" class=\"plotly-graph-div\" style=\"height:400px; width:100%;\"></div>            <script type=\"text/javascript\">                require([\"plotly\"], function(Plotly) {                    window.PLOTLYENV=window.PLOTLYENV || {};                                    if (document.getElementById(\"c4ef06e9-4935-45e2-b40d-cfcacd299400\")) {                    Plotly.newPlot(                        \"c4ef06e9-4935-45e2-b40d-cfcacd299400\",                        [{\"hovertemplate\":\"subject=Business Finance\\u003cbr\\u003eyear=%{x}\\u003cbr\\u003evalue=%{y}\\u003cextra\\u003e\\u003c\\u002fextra\\u003e\",\"legendgroup\":\"Business Finance\",\"line\":{\"color\":\"#636efa\",\"dash\":\"solid\"},\"marker\":{\"symbol\":\"circle\"},\"mode\":\"lines+markers\",\"name\":\"Business Finance\",\"orientation\":\"v\",\"showlegend\":true,\"x\":[2011,2012,2013,2014,2015,2016,2017],\"xaxis\":\"x\",\"y\":[null,42.5,45.535714285714285,53.151041666666664,68.28402366863905,73.21325648414985,85.31390134529148],\"yaxis\":\"y\",\"type\":\"scatter\"},{\"hovertemplate\":\"subject=Graphic Design\\u003cbr\\u003eyear=%{x}\\u003cbr\\u003evalue=%{y}\\u003cextra\\u003e\\u003c\\u002fextra\\u003e\",\"legendgroup\":\"Graphic Design\",\"line\":{\"color\":\"#EF553B\",\"dash\":\"solid\"},\"marker\":{\"symbol\":\"circle\"},\"mode\":\"lines+markers\",\"name\":\"Graphic Design\",\"orientation\":\"v\",\"showlegend\":true,\"x\":[2011,2012,2013,2014,2015,2016,2017],\"xaxis\":\"x2\",\"y\":[null,35.0,38.04347826086956,35.76923076923077,62.529761904761905,58.97790055248619,65.29032258064517],\"yaxis\":\"y2\",\"type\":\"scatter\"},{\"hovertemplate\":\"subject=Musical Instruments\\u003cbr\\u003eyear=%{x}\\u003cbr\\u003evalue=%{y}\\u003cextra\\u003e\\u003c\\u002fextra\\u003e\",\"legendgroup\":\"Musical Instruments\",\"line\":{\"color\":\"#00cc96\",\"dash\":\"solid\"},\"marker\":{\"symbol\":\"circle\"},\"mode\":\"lines+markers\",\"name\":\"Musical Instruments\",\"orientation\":\"v\",\"showlegend\":true,\"x\":[2011,2012,2013,2014,2015,2016,2017],\"xaxis\":\"x3\",\"y\":[null,46.111111111111114,41.666666666666664,44.91596638655462,50.46783625730994,51.469298245614034,51.339285714285715],\"yaxis\":\"y3\",\"type\":\"scatter\"},{\"hovertemplate\":\"subject=Web Development\\u003cbr\\u003eyear=%{x}\\u003cbr\\u003evalue=%{y}\\u003cextra\\u003e\\u003c\\u002fextra\\u003e\",\"legendgroup\":\"Web Development\",\"line\":{\"color\":\"#ab63fa\",\"dash\":\"solid\"},\"marker\":{\"symbol\":\"circle\"},\"mode\":\"lines+markers\",\"name\":\"Web Development\",\"orientation\":\"v\",\"showlegend\":true,\"x\":[2011,2012,2013,2014,2015,2016,2017],\"xaxis\":\"x4\",\"y\":[62.0,42.89473684210526,82.94117647058823,50.27272727272727,74.92401215805471,80.40632054176072,85.7847533632287],\"yaxis\":\"y4\",\"type\":\"scatter\"}],                        {\"template\":{\"data\":{\"histogram2dcontour\":[{\"type\":\"histogram2dcontour\",\"colorbar\":{\"outlinewidth\":0,\"ticks\":\"\"},\"colorscale\":[[0.0,\"#0d0887\"],[0.1111111111111111,\"#46039f\"],[0.2222222222222222,\"#7201a8\"],[0.3333333333333333,\"#9c179e\"],[0.4444444444444444,\"#bd3786\"],[0.5555555555555556,\"#d8576b\"],[0.6666666666666666,\"#ed7953\"],[0.7777777777777778,\"#fb9f3a\"],[0.8888888888888888,\"#fdca26\"],[1.0,\"#f0f921\"]]}],\"choropleth\":[{\"type\":\"choropleth\",\"colorbar\":{\"outlinewidth\":0,\"ticks\":\"\"}}],\"histogram2d\":[{\"type\":\"histogram2d\",\"colorbar\":{\"outlinewidth\":0,\"ticks\":\"\"},\"colorscale\":[[0.0,\"#0d0887\"],[0.1111111111111111,\"#46039f\"],[0.2222222222222222,\"#7201a8\"],[0.3333333333333333,\"#9c179e\"],[0.4444444444444444,\"#bd3786\"],[0.5555555555555556,\"#d8576b\"],[0.6666666666666666,\"#ed7953\"],[0.7777777777777778,\"#fb9f3a\"],[0.8888888888888888,\"#fdca26\"],[1.0,\"#f0f921\"]]}],\"heatmap\":[{\"type\":\"heatmap\",\"colorbar\":{\"outlinewidth\":0,\"ticks\":\"\"},\"colorscale\":[[0.0,\"#0d0887\"],[0.1111111111111111,\"#46039f\"],[0.2222222222222222,\"#7201a8\"],[0.3333333333333333,\"#9c179e\"],[0.4444444444444444,\"#bd3786\"],[0.5555555555555556,\"#d8576b\"],[0.6666666666666666,\"#ed7953\"],[0.7777777777777778,\"#fb9f3a\"],[0.8888888888888888,\"#fdca26\"],[1.0,\"#f0f921\"]]}],\"heatmapgl\":[{\"type\":\"heatmapgl\",\"colorbar\":{\"outlinewidth\":0,\"ticks\":\"\"},\"colorscale\":[[0.0,\"#0d0887\"],[0.1111111111111111,\"#46039f\"],[0.2222222222222222,\"#7201a8\"],[0.3333333333333333,\"#9c179e\"],[0.4444444444444444,\"#bd3786\"],[0.5555555555555556,\"#d8576b\"],[0.6666666666666666,\"#ed7953\"],[0.7777777777777778,\"#fb9f3a\"],[0.8888888888888888,\"#fdca26\"],[1.0,\"#f0f921\"]]}],\"contourcarpet\":[{\"type\":\"contourcarpet\",\"colorbar\":{\"outlinewidth\":0,\"ticks\":\"\"}}],\"contour\":[{\"type\":\"contour\",\"colorbar\":{\"outlinewidth\":0,\"ticks\":\"\"},\"colorscale\":[[0.0,\"#0d0887\"],[0.1111111111111111,\"#46039f\"],[0.2222222222222222,\"#7201a8\"],[0.3333333333333333,\"#9c179e\"],[0.4444444444444444,\"#bd3786\"],[0.5555555555555556,\"#d8576b\"],[0.6666666666666666,\"#ed7953\"],[0.7777777777777778,\"#fb9f3a\"],[0.8888888888888888,\"#fdca26\"],[1.0,\"#f0f921\"]]}],\"surface\":[{\"type\":\"surface\",\"colorbar\":{\"outlinewidth\":0,\"ticks\":\"\"},\"colorscale\":[[0.0,\"#0d0887\"],[0.1111111111111111,\"#46039f\"],[0.2222222222222222,\"#7201a8\"],[0.3333333333333333,\"#9c179e\"],[0.4444444444444444,\"#bd3786\"],[0.5555555555555556,\"#d8576b\"],[0.6666666666666666,\"#ed7953\"],[0.7777777777777778,\"#fb9f3a\"],[0.8888888888888888,\"#fdca26\"],[1.0,\"#f0f921\"]]}],\"mesh3d\":[{\"type\":\"mesh3d\",\"colorbar\":{\"outlinewidth\":0,\"ticks\":\"\"}}],\"scatter\":[{\"fillpattern\":{\"fillmode\":\"overlay\",\"size\":10,\"solidity\":0.2},\"type\":\"scatter\"}],\"parcoords\":[{\"type\":\"parcoords\",\"line\":{\"colorbar\":{\"outlinewidth\":0,\"ticks\":\"\"}}}],\"scatterpolargl\":[{\"type\":\"scatterpolargl\",\"marker\":{\"colorbar\":{\"outlinewidth\":0,\"ticks\":\"\"}}}],\"bar\":[{\"error_x\":{\"color\":\"#2a3f5f\"},\"error_y\":{\"color\":\"#2a3f5f\"},\"marker\":{\"line\":{\"color\":\"#E5ECF6\",\"width\":0.5},\"pattern\":{\"fillmode\":\"overlay\",\"size\":10,\"solidity\":0.2}},\"type\":\"bar\"}],\"scattergeo\":[{\"type\":\"scattergeo\",\"marker\":{\"colorbar\":{\"outlinewidth\":0,\"ticks\":\"\"}}}],\"scatterpolar\":[{\"type\":\"scatterpolar\",\"marker\":{\"colorbar\":{\"outlinewidth\":0,\"ticks\":\"\"}}}],\"histogram\":[{\"marker\":{\"pattern\":{\"fillmode\":\"overlay\",\"size\":10,\"solidity\":0.2}},\"type\":\"histogram\"}],\"scattergl\":[{\"type\":\"scattergl\",\"marker\":{\"colorbar\":{\"outlinewidth\":0,\"ticks\":\"\"}}}],\"scatter3d\":[{\"type\":\"scatter3d\",\"line\":{\"colorbar\":{\"outlinewidth\":0,\"ticks\":\"\"}},\"marker\":{\"colorbar\":{\"outlinewidth\":0,\"ticks\":\"\"}}}],\"scattermapbox\":[{\"type\":\"scattermapbox\",\"marker\":{\"colorbar\":{\"outlinewidth\":0,\"ticks\":\"\"}}}],\"scatterternary\":[{\"type\":\"scatterternary\",\"marker\":{\"colorbar\":{\"outlinewidth\":0,\"ticks\":\"\"}}}],\"scattercarpet\":[{\"type\":\"scattercarpet\",\"marker\":{\"colorbar\":{\"outlinewidth\":0,\"ticks\":\"\"}}}],\"carpet\":[{\"aaxis\":{\"endlinecolor\":\"#2a3f5f\",\"gridcolor\":\"white\",\"linecolor\":\"white\",\"minorgridcolor\":\"white\",\"startlinecolor\":\"#2a3f5f\"},\"baxis\":{\"endlinecolor\":\"#2a3f5f\",\"gridcolor\":\"white\",\"linecolor\":\"white\",\"minorgridcolor\":\"white\",\"startlinecolor\":\"#2a3f5f\"},\"type\":\"carpet\"}],\"table\":[{\"cells\":{\"fill\":{\"color\":\"#EBF0F8\"},\"line\":{\"color\":\"white\"}},\"header\":{\"fill\":{\"color\":\"#C8D4E3\"},\"line\":{\"color\":\"white\"}},\"type\":\"table\"}],\"barpolar\":[{\"marker\":{\"line\":{\"color\":\"#E5ECF6\",\"width\":0.5},\"pattern\":{\"fillmode\":\"overlay\",\"size\":10,\"solidity\":0.2}},\"type\":\"barpolar\"}],\"pie\":[{\"automargin\":true,\"type\":\"pie\"}]},\"layout\":{\"autotypenumbers\":\"strict\",\"colorway\":[\"#636efa\",\"#EF553B\",\"#00cc96\",\"#ab63fa\",\"#FFA15A\",\"#19d3f3\",\"#FF6692\",\"#B6E880\",\"#FF97FF\",\"#FECB52\"],\"font\":{\"color\":\"#2a3f5f\"},\"hovermode\":\"closest\",\"hoverlabel\":{\"align\":\"left\"},\"paper_bgcolor\":\"white\",\"plot_bgcolor\":\"#E5ECF6\",\"polar\":{\"bgcolor\":\"#E5ECF6\",\"angularaxis\":{\"gridcolor\":\"white\",\"linecolor\":\"white\",\"ticks\":\"\"},\"radialaxis\":{\"gridcolor\":\"white\",\"linecolor\":\"white\",\"ticks\":\"\"}},\"ternary\":{\"bgcolor\":\"#E5ECF6\",\"aaxis\":{\"gridcolor\":\"white\",\"linecolor\":\"white\",\"ticks\":\"\"},\"baxis\":{\"gridcolor\":\"white\",\"linecolor\":\"white\",\"ticks\":\"\"},\"caxis\":{\"gridcolor\":\"white\",\"linecolor\":\"white\",\"ticks\":\"\"}},\"coloraxis\":{\"colorbar\":{\"outlinewidth\":0,\"ticks\":\"\"}},\"colorscale\":{\"sequential\":[[0.0,\"#0d0887\"],[0.1111111111111111,\"#46039f\"],[0.2222222222222222,\"#7201a8\"],[0.3333333333333333,\"#9c179e\"],[0.4444444444444444,\"#bd3786\"],[0.5555555555555556,\"#d8576b\"],[0.6666666666666666,\"#ed7953\"],[0.7777777777777778,\"#fb9f3a\"],[0.8888888888888888,\"#fdca26\"],[1.0,\"#f0f921\"]],\"sequentialminus\":[[0.0,\"#0d0887\"],[0.1111111111111111,\"#46039f\"],[0.2222222222222222,\"#7201a8\"],[0.3333333333333333,\"#9c179e\"],[0.4444444444444444,\"#bd3786\"],[0.5555555555555556,\"#d8576b\"],[0.6666666666666666,\"#ed7953\"],[0.7777777777777778,\"#fb9f3a\"],[0.8888888888888888,\"#fdca26\"],[1.0,\"#f0f921\"]],\"diverging\":[[0,\"#8e0152\"],[0.1,\"#c51b7d\"],[0.2,\"#de77ae\"],[0.3,\"#f1b6da\"],[0.4,\"#fde0ef\"],[0.5,\"#f7f7f7\"],[0.6,\"#e6f5d0\"],[0.7,\"#b8e186\"],[0.8,\"#7fbc41\"],[0.9,\"#4d9221\"],[1,\"#276419\"]]},\"xaxis\":{\"gridcolor\":\"white\",\"linecolor\":\"white\",\"ticks\":\"\",\"title\":{\"standoff\":15},\"zerolinecolor\":\"white\",\"automargin\":true,\"zerolinewidth\":2},\"yaxis\":{\"gridcolor\":\"white\",\"linecolor\":\"white\",\"ticks\":\"\",\"title\":{\"standoff\":15},\"zerolinecolor\":\"white\",\"automargin\":true,\"zerolinewidth\":2},\"scene\":{\"xaxis\":{\"backgroundcolor\":\"#E5ECF6\",\"gridcolor\":\"white\",\"linecolor\":\"white\",\"showbackground\":true,\"ticks\":\"\",\"zerolinecolor\":\"white\",\"gridwidth\":2},\"yaxis\":{\"backgroundcolor\":\"#E5ECF6\",\"gridcolor\":\"white\",\"linecolor\":\"white\",\"showbackground\":true,\"ticks\":\"\",\"zerolinecolor\":\"white\",\"gridwidth\":2},\"zaxis\":{\"backgroundcolor\":\"#E5ECF6\",\"gridcolor\":\"white\",\"linecolor\":\"white\",\"showbackground\":true,\"ticks\":\"\",\"zerolinecolor\":\"white\",\"gridwidth\":2}},\"shapedefaults\":{\"line\":{\"color\":\"#2a3f5f\"}},\"annotationdefaults\":{\"arrowcolor\":\"#2a3f5f\",\"arrowhead\":0,\"arrowwidth\":1},\"geo\":{\"bgcolor\":\"white\",\"landcolor\":\"#E5ECF6\",\"subunitcolor\":\"white\",\"showland\":true,\"showlakes\":true,\"lakecolor\":\"white\"},\"title\":{\"x\":0.05},\"mapbox\":{\"style\":\"light\"}}},\"xaxis\":{\"anchor\":\"y\",\"domain\":[0.0,0.235],\"title\":{\"text\":\"year\"}},\"yaxis\":{\"anchor\":\"x\",\"domain\":[0.0,1.0],\"title\":{\"text\":\"value\"}},\"xaxis2\":{\"anchor\":\"y2\",\"domain\":[0.255,0.49],\"matches\":\"x\",\"title\":{\"text\":\"year\"}},\"yaxis2\":{\"anchor\":\"x2\",\"domain\":[0.0,1.0],\"matches\":\"y\",\"showticklabels\":false},\"xaxis3\":{\"anchor\":\"y3\",\"domain\":[0.51,0.745],\"matches\":\"x\",\"title\":{\"text\":\"year\"}},\"yaxis3\":{\"anchor\":\"x3\",\"domain\":[0.0,1.0],\"matches\":\"y\",\"showticklabels\":false},\"xaxis4\":{\"anchor\":\"y4\",\"domain\":[0.7649999999999999,0.9999999999999999],\"matches\":\"x\",\"title\":{\"text\":\"year\"}},\"yaxis4\":{\"anchor\":\"x4\",\"domain\":[0.0,1.0],\"matches\":\"y\",\"showticklabels\":false},\"annotations\":[{\"font\":{},\"showarrow\":false,\"text\":\"subject=Business Finance\",\"x\":0.1175,\"xanchor\":\"center\",\"xref\":\"paper\",\"y\":1.0,\"yanchor\":\"bottom\",\"yref\":\"paper\"},{\"font\":{},\"showarrow\":false,\"text\":\"subject=Graphic Design\",\"x\":0.3725,\"xanchor\":\"center\",\"xref\":\"paper\",\"y\":1.0,\"yanchor\":\"bottom\",\"yref\":\"paper\"},{\"font\":{},\"showarrow\":false,\"text\":\"subject=Musical Instruments\",\"x\":0.6275,\"xanchor\":\"center\",\"xref\":\"paper\",\"y\":1.0,\"yanchor\":\"bottom\",\"yref\":\"paper\"},{\"font\":{},\"showarrow\":false,\"text\":\"subject=Web Development\",\"x\":0.8824999999999998,\"xanchor\":\"center\",\"xref\":\"paper\",\"y\":1.0,\"yanchor\":\"bottom\",\"yref\":\"paper\"}],\"legend\":{\"title\":{\"text\":\"subject\"},\"tracegroupgap\":0},\"title\":{\"text\":\"AVG price for each subject regarding to year\"},\"height\":400},                        {\"responsive\": true}                    ).then(function(){\n",
       "                            \n",
       "var gd = document.getElementById('c4ef06e9-4935-45e2-b40d-cfcacd299400');\n",
       "var x = new MutationObserver(function (mutations, observer) {{\n",
       "        var display = window.getComputedStyle(gd).display;\n",
       "        if (!display || display === 'none') {{\n",
       "            console.log([gd, 'removed!']);\n",
       "            Plotly.purge(gd);\n",
       "            observer.disconnect();\n",
       "        }}\n",
       "}});\n",
       "\n",
       "// Listen for the removal of the full notebook cells\n",
       "var notebookContainer = gd.closest('#notebook-container');\n",
       "if (notebookContainer) {{\n",
       "    x.observe(notebookContainer, {childList: true});\n",
       "}}\n",
       "\n",
       "// Listen for the clearing of the current output cell\n",
       "var outputEl = gd.closest('.output');\n",
       "if (outputEl) {{\n",
       "    x.observe(outputEl, {childList: true});\n",
       "}}\n",
       "\n",
       "                        })                };                });            </script>        </div>"
      ]
     },
     "metadata": {},
     "output_type": "display_data"
    }
   ],
   "source": [
    "# visualizing the results\n",
    "\n",
    "chart_title= 'AVG price for each subject regarding to year'\n",
    "px.line(df.pivot_table(index= 'year', columns= 'subject', values= 'price', aggfunc= 'mean'), markers= True, title= chart_title, facet_col= 'subject', height= 400)"
   ]
  },
  {
   "cell_type": "markdown",
   "id": "b2857d67",
   "metadata": {
    "id": "-1QlSdNzM8PV",
    "papermill": {
     "duration": 0.058053,
     "end_time": "2023-07-24T06:45:03.614467",
     "exception": false,
     "start_time": "2023-07-24T06:45:03.556414",
     "status": "completed"
    },
    "tags": []
   },
   "source": [
    "- the main reason of web development's profit lose in (2013-2014) was AVG price was less than year ago."
   ]
  },
  {
   "cell_type": "markdown",
   "id": "960df18d",
   "metadata": {
    "id": "4zGa9ACJ_vjZ",
    "papermill": {
     "duration": 0.056152,
     "end_time": "2023-07-24T06:45:03.727696",
     "exception": false,
     "start_time": "2023-07-24T06:45:03.671544",
     "status": "completed"
    },
    "tags": []
   },
   "source": [
    "***searching for Ideal Status for num_subscribers of the year that makes profit going up***"
   ]
  },
  {
   "cell_type": "markdown",
   "id": "b5263b07",
   "metadata": {
    "id": "2eLcf17bAItQ",
    "papermill": {
     "duration": 0.055945,
     "end_time": "2023-07-24T06:45:03.841522",
     "exception": false,
     "start_time": "2023-07-24T06:45:03.785577",
     "status": "completed"
    },
    "tags": []
   },
   "source": [
    "- 1) record all years that profit up and its properties"
   ]
  },
  {
   "cell_type": "code",
   "execution_count": 68,
   "id": "72550c37",
   "metadata": {
    "execution": {
     "iopub.execute_input": "2023-07-24T06:45:03.959042Z",
     "iopub.status.busy": "2023-07-24T06:45:03.958313Z",
     "iopub.status.idle": "2023-07-24T06:45:03.983824Z",
     "shell.execute_reply": "2023-07-24T06:45:03.982495Z"
    },
    "id": "JYmBcEGsAaLx",
    "outputId": "057999c0-d10b-40ca-fa80-9f3f11a53ab9",
    "papermill": {
     "duration": 0.088379,
     "end_time": "2023-07-24T06:45:03.986306",
     "exception": false,
     "start_time": "2023-07-24T06:45:03.897927",
     "status": "completed"
    },
    "tags": []
   },
   "outputs": [
    {
     "data": {
      "text/html": [
       "<div>\n",
       "<style scoped>\n",
       "    .dataframe tbody tr th:only-of-type {\n",
       "        vertical-align: middle;\n",
       "    }\n",
       "\n",
       "    .dataframe tbody tr th {\n",
       "        vertical-align: top;\n",
       "    }\n",
       "\n",
       "    .dataframe thead th {\n",
       "        text-align: right;\n",
       "    }\n",
       "</style>\n",
       "<table border=\"1\" class=\"dataframe\">\n",
       "  <thead>\n",
       "    <tr style=\"text-align: right;\">\n",
       "      <th>subject</th>\n",
       "      <th>Business Finance</th>\n",
       "      <th>Graphic Design</th>\n",
       "      <th>Musical Instruments</th>\n",
       "      <th>Web Development</th>\n",
       "    </tr>\n",
       "    <tr>\n",
       "      <th>year</th>\n",
       "      <th></th>\n",
       "      <th></th>\n",
       "      <th></th>\n",
       "      <th></th>\n",
       "    </tr>\n",
       "  </thead>\n",
       "  <tbody>\n",
       "    <tr>\n",
       "      <th>2011</th>\n",
       "      <td>NaN</td>\n",
       "      <td>NaN</td>\n",
       "      <td>NaN</td>\n",
       "      <td>11643420.0</td>\n",
       "    </tr>\n",
       "    <tr>\n",
       "      <th>2012</th>\n",
       "      <td>190740.0</td>\n",
       "      <td>1329850.0</td>\n",
       "      <td>766405.0</td>\n",
       "      <td>9486475.0</td>\n",
       "    </tr>\n",
       "    <tr>\n",
       "      <th>2013</th>\n",
       "      <td>7298950.0</td>\n",
       "      <td>3085300.0</td>\n",
       "      <td>7479930.0</td>\n",
       "      <td>45360730.0</td>\n",
       "    </tr>\n",
       "    <tr>\n",
       "      <th>2014</th>\n",
       "      <td>35870820.0</td>\n",
       "      <td>8364490.0</td>\n",
       "      <td>5800110.0</td>\n",
       "      <td>31415650.0</td>\n",
       "    </tr>\n",
       "    <tr>\n",
       "      <th>2015</th>\n",
       "      <td>38702015.0</td>\n",
       "      <td>23273795.0</td>\n",
       "      <td>12363235.0</td>\n",
       "      <td>172849675.0</td>\n",
       "    </tr>\n",
       "    <tr>\n",
       "      <th>2016</th>\n",
       "      <td>30727750.0</td>\n",
       "      <td>23538210.0</td>\n",
       "      <td>7458615.0</td>\n",
       "      <td>168053065.0</td>\n",
       "    </tr>\n",
       "    <tr>\n",
       "      <th>2017</th>\n",
       "      <td>10945040.0</td>\n",
       "      <td>17391525.0</td>\n",
       "      <td>4390960.0</td>\n",
       "      <td>58042075.0</td>\n",
       "    </tr>\n",
       "  </tbody>\n",
       "</table>\n",
       "</div>"
      ],
      "text/plain": [
       "subject  Business Finance  Graphic Design  Musical Instruments  \\\n",
       "year                                                             \n",
       "2011                  NaN             NaN                  NaN   \n",
       "2012             190740.0       1329850.0             766405.0   \n",
       "2013            7298950.0       3085300.0            7479930.0   \n",
       "2014           35870820.0       8364490.0            5800110.0   \n",
       "2015           38702015.0      23273795.0           12363235.0   \n",
       "2016           30727750.0      23538210.0            7458615.0   \n",
       "2017           10945040.0      17391525.0            4390960.0   \n",
       "\n",
       "subject  Web Development  \n",
       "year                      \n",
       "2011          11643420.0  \n",
       "2012           9486475.0  \n",
       "2013          45360730.0  \n",
       "2014          31415650.0  \n",
       "2015         172849675.0  \n",
       "2016         168053065.0  \n",
       "2017          58042075.0  "
      ]
     },
     "execution_count": 68,
     "metadata": {},
     "output_type": "execute_result"
    }
   ],
   "source": [
    "# select data\n",
    "\n",
    "df.pivot_table(index= 'year', columns= 'subject', values= 'profit', aggfunc= 'sum')"
   ]
  },
  {
   "cell_type": "code",
   "execution_count": 69,
   "id": "e7189709",
   "metadata": {
    "execution": {
     "iopub.execute_input": "2023-07-24T06:45:04.106899Z",
     "iopub.status.busy": "2023-07-24T06:45:04.106134Z",
     "iopub.status.idle": "2023-07-24T06:45:04.256112Z",
     "shell.execute_reply": "2023-07-24T06:45:04.255029Z"
    },
    "id": "0dajCoPZA_H4",
    "outputId": "ab9fa5c8-84dc-4fdf-8e25-fe012890d8ac",
    "papermill": {
     "duration": 0.216032,
     "end_time": "2023-07-24T06:45:04.259024",
     "exception": false,
     "start_time": "2023-07-24T06:45:04.042992",
     "status": "completed"
    },
    "tags": []
   },
   "outputs": [
    {
     "data": {
      "text/html": [
       "<div>                            <div id=\"4b60df8b-eb88-42bf-959c-90720b511fb0\" class=\"plotly-graph-div\" style=\"height:400px; width:100%;\"></div>            <script type=\"text/javascript\">                require([\"plotly\"], function(Plotly) {                    window.PLOTLYENV=window.PLOTLYENV || {};                                    if (document.getElementById(\"4b60df8b-eb88-42bf-959c-90720b511fb0\")) {                    Plotly.newPlot(                        \"4b60df8b-eb88-42bf-959c-90720b511fb0\",                        [{\"alignmentgroup\":\"True\",\"hovertemplate\":\"subject=Business Finance\\u003cbr\\u003eyear=%{x}\\u003cbr\\u003evalue=%{y}\\u003cextra\\u003e\\u003c\\u002fextra\\u003e\",\"legendgroup\":\"Business Finance\",\"marker\":{\"color\":\"#636efa\",\"pattern\":{\"shape\":\"\"}},\"name\":\"Business Finance\",\"offsetgroup\":\"Business Finance\",\"orientation\":\"v\",\"showlegend\":true,\"textposition\":\"auto\",\"x\":[2011,2012,2013,2014,2015,2016,2017],\"xaxis\":\"x\",\"y\":[null,190740.0,7298950.0,35870820.0,38702015.0,30727750.0,10945040.0],\"yaxis\":\"y\",\"type\":\"bar\"},{\"alignmentgroup\":\"True\",\"hovertemplate\":\"subject=Graphic Design\\u003cbr\\u003eyear=%{x}\\u003cbr\\u003evalue=%{y}\\u003cextra\\u003e\\u003c\\u002fextra\\u003e\",\"legendgroup\":\"Graphic Design\",\"marker\":{\"color\":\"#EF553B\",\"pattern\":{\"shape\":\"\"}},\"name\":\"Graphic Design\",\"offsetgroup\":\"Graphic Design\",\"orientation\":\"v\",\"showlegend\":true,\"textposition\":\"auto\",\"x\":[2011,2012,2013,2014,2015,2016,2017],\"xaxis\":\"x2\",\"y\":[null,1329850.0,3085300.0,8364490.0,23273795.0,23538210.0,17391525.0],\"yaxis\":\"y2\",\"type\":\"bar\"},{\"alignmentgroup\":\"True\",\"hovertemplate\":\"subject=Musical Instruments\\u003cbr\\u003eyear=%{x}\\u003cbr\\u003evalue=%{y}\\u003cextra\\u003e\\u003c\\u002fextra\\u003e\",\"legendgroup\":\"Musical Instruments\",\"marker\":{\"color\":\"#00cc96\",\"pattern\":{\"shape\":\"\"}},\"name\":\"Musical Instruments\",\"offsetgroup\":\"Musical Instruments\",\"orientation\":\"v\",\"showlegend\":true,\"textposition\":\"auto\",\"x\":[2011,2012,2013,2014,2015,2016,2017],\"xaxis\":\"x3\",\"y\":[null,766405.0,7479930.0,5800110.0,12363235.0,7458615.0,4390960.0],\"yaxis\":\"y3\",\"type\":\"bar\"},{\"alignmentgroup\":\"True\",\"hovertemplate\":\"subject=Web Development\\u003cbr\\u003eyear=%{x}\\u003cbr\\u003evalue=%{y}\\u003cextra\\u003e\\u003c\\u002fextra\\u003e\",\"legendgroup\":\"Web Development\",\"marker\":{\"color\":\"#ab63fa\",\"pattern\":{\"shape\":\"\"}},\"name\":\"Web Development\",\"offsetgroup\":\"Web Development\",\"orientation\":\"v\",\"showlegend\":true,\"textposition\":\"auto\",\"x\":[2011,2012,2013,2014,2015,2016,2017],\"xaxis\":\"x4\",\"y\":[11643420.0,9486475.0,45360730.0,31415650.0,172849675.0,168053065.0,58042075.0],\"yaxis\":\"y4\",\"type\":\"bar\"}],                        {\"template\":{\"data\":{\"histogram2dcontour\":[{\"type\":\"histogram2dcontour\",\"colorbar\":{\"outlinewidth\":0,\"ticks\":\"\"},\"colorscale\":[[0.0,\"#0d0887\"],[0.1111111111111111,\"#46039f\"],[0.2222222222222222,\"#7201a8\"],[0.3333333333333333,\"#9c179e\"],[0.4444444444444444,\"#bd3786\"],[0.5555555555555556,\"#d8576b\"],[0.6666666666666666,\"#ed7953\"],[0.7777777777777778,\"#fb9f3a\"],[0.8888888888888888,\"#fdca26\"],[1.0,\"#f0f921\"]]}],\"choropleth\":[{\"type\":\"choropleth\",\"colorbar\":{\"outlinewidth\":0,\"ticks\":\"\"}}],\"histogram2d\":[{\"type\":\"histogram2d\",\"colorbar\":{\"outlinewidth\":0,\"ticks\":\"\"},\"colorscale\":[[0.0,\"#0d0887\"],[0.1111111111111111,\"#46039f\"],[0.2222222222222222,\"#7201a8\"],[0.3333333333333333,\"#9c179e\"],[0.4444444444444444,\"#bd3786\"],[0.5555555555555556,\"#d8576b\"],[0.6666666666666666,\"#ed7953\"],[0.7777777777777778,\"#fb9f3a\"],[0.8888888888888888,\"#fdca26\"],[1.0,\"#f0f921\"]]}],\"heatmap\":[{\"type\":\"heatmap\",\"colorbar\":{\"outlinewidth\":0,\"ticks\":\"\"},\"colorscale\":[[0.0,\"#0d0887\"],[0.1111111111111111,\"#46039f\"],[0.2222222222222222,\"#7201a8\"],[0.3333333333333333,\"#9c179e\"],[0.4444444444444444,\"#bd3786\"],[0.5555555555555556,\"#d8576b\"],[0.6666666666666666,\"#ed7953\"],[0.7777777777777778,\"#fb9f3a\"],[0.8888888888888888,\"#fdca26\"],[1.0,\"#f0f921\"]]}],\"heatmapgl\":[{\"type\":\"heatmapgl\",\"colorbar\":{\"outlinewidth\":0,\"ticks\":\"\"},\"colorscale\":[[0.0,\"#0d0887\"],[0.1111111111111111,\"#46039f\"],[0.2222222222222222,\"#7201a8\"],[0.3333333333333333,\"#9c179e\"],[0.4444444444444444,\"#bd3786\"],[0.5555555555555556,\"#d8576b\"],[0.6666666666666666,\"#ed7953\"],[0.7777777777777778,\"#fb9f3a\"],[0.8888888888888888,\"#fdca26\"],[1.0,\"#f0f921\"]]}],\"contourcarpet\":[{\"type\":\"contourcarpet\",\"colorbar\":{\"outlinewidth\":0,\"ticks\":\"\"}}],\"contour\":[{\"type\":\"contour\",\"colorbar\":{\"outlinewidth\":0,\"ticks\":\"\"},\"colorscale\":[[0.0,\"#0d0887\"],[0.1111111111111111,\"#46039f\"],[0.2222222222222222,\"#7201a8\"],[0.3333333333333333,\"#9c179e\"],[0.4444444444444444,\"#bd3786\"],[0.5555555555555556,\"#d8576b\"],[0.6666666666666666,\"#ed7953\"],[0.7777777777777778,\"#fb9f3a\"],[0.8888888888888888,\"#fdca26\"],[1.0,\"#f0f921\"]]}],\"surface\":[{\"type\":\"surface\",\"colorbar\":{\"outlinewidth\":0,\"ticks\":\"\"},\"colorscale\":[[0.0,\"#0d0887\"],[0.1111111111111111,\"#46039f\"],[0.2222222222222222,\"#7201a8\"],[0.3333333333333333,\"#9c179e\"],[0.4444444444444444,\"#bd3786\"],[0.5555555555555556,\"#d8576b\"],[0.6666666666666666,\"#ed7953\"],[0.7777777777777778,\"#fb9f3a\"],[0.8888888888888888,\"#fdca26\"],[1.0,\"#f0f921\"]]}],\"mesh3d\":[{\"type\":\"mesh3d\",\"colorbar\":{\"outlinewidth\":0,\"ticks\":\"\"}}],\"scatter\":[{\"fillpattern\":{\"fillmode\":\"overlay\",\"size\":10,\"solidity\":0.2},\"type\":\"scatter\"}],\"parcoords\":[{\"type\":\"parcoords\",\"line\":{\"colorbar\":{\"outlinewidth\":0,\"ticks\":\"\"}}}],\"scatterpolargl\":[{\"type\":\"scatterpolargl\",\"marker\":{\"colorbar\":{\"outlinewidth\":0,\"ticks\":\"\"}}}],\"bar\":[{\"error_x\":{\"color\":\"#2a3f5f\"},\"error_y\":{\"color\":\"#2a3f5f\"},\"marker\":{\"line\":{\"color\":\"#E5ECF6\",\"width\":0.5},\"pattern\":{\"fillmode\":\"overlay\",\"size\":10,\"solidity\":0.2}},\"type\":\"bar\"}],\"scattergeo\":[{\"type\":\"scattergeo\",\"marker\":{\"colorbar\":{\"outlinewidth\":0,\"ticks\":\"\"}}}],\"scatterpolar\":[{\"type\":\"scatterpolar\",\"marker\":{\"colorbar\":{\"outlinewidth\":0,\"ticks\":\"\"}}}],\"histogram\":[{\"marker\":{\"pattern\":{\"fillmode\":\"overlay\",\"size\":10,\"solidity\":0.2}},\"type\":\"histogram\"}],\"scattergl\":[{\"type\":\"scattergl\",\"marker\":{\"colorbar\":{\"outlinewidth\":0,\"ticks\":\"\"}}}],\"scatter3d\":[{\"type\":\"scatter3d\",\"line\":{\"colorbar\":{\"outlinewidth\":0,\"ticks\":\"\"}},\"marker\":{\"colorbar\":{\"outlinewidth\":0,\"ticks\":\"\"}}}],\"scattermapbox\":[{\"type\":\"scattermapbox\",\"marker\":{\"colorbar\":{\"outlinewidth\":0,\"ticks\":\"\"}}}],\"scatterternary\":[{\"type\":\"scatterternary\",\"marker\":{\"colorbar\":{\"outlinewidth\":0,\"ticks\":\"\"}}}],\"scattercarpet\":[{\"type\":\"scattercarpet\",\"marker\":{\"colorbar\":{\"outlinewidth\":0,\"ticks\":\"\"}}}],\"carpet\":[{\"aaxis\":{\"endlinecolor\":\"#2a3f5f\",\"gridcolor\":\"white\",\"linecolor\":\"white\",\"minorgridcolor\":\"white\",\"startlinecolor\":\"#2a3f5f\"},\"baxis\":{\"endlinecolor\":\"#2a3f5f\",\"gridcolor\":\"white\",\"linecolor\":\"white\",\"minorgridcolor\":\"white\",\"startlinecolor\":\"#2a3f5f\"},\"type\":\"carpet\"}],\"table\":[{\"cells\":{\"fill\":{\"color\":\"#EBF0F8\"},\"line\":{\"color\":\"white\"}},\"header\":{\"fill\":{\"color\":\"#C8D4E3\"},\"line\":{\"color\":\"white\"}},\"type\":\"table\"}],\"barpolar\":[{\"marker\":{\"line\":{\"color\":\"#E5ECF6\",\"width\":0.5},\"pattern\":{\"fillmode\":\"overlay\",\"size\":10,\"solidity\":0.2}},\"type\":\"barpolar\"}],\"pie\":[{\"automargin\":true,\"type\":\"pie\"}]},\"layout\":{\"autotypenumbers\":\"strict\",\"colorway\":[\"#636efa\",\"#EF553B\",\"#00cc96\",\"#ab63fa\",\"#FFA15A\",\"#19d3f3\",\"#FF6692\",\"#B6E880\",\"#FF97FF\",\"#FECB52\"],\"font\":{\"color\":\"#2a3f5f\"},\"hovermode\":\"closest\",\"hoverlabel\":{\"align\":\"left\"},\"paper_bgcolor\":\"white\",\"plot_bgcolor\":\"#E5ECF6\",\"polar\":{\"bgcolor\":\"#E5ECF6\",\"angularaxis\":{\"gridcolor\":\"white\",\"linecolor\":\"white\",\"ticks\":\"\"},\"radialaxis\":{\"gridcolor\":\"white\",\"linecolor\":\"white\",\"ticks\":\"\"}},\"ternary\":{\"bgcolor\":\"#E5ECF6\",\"aaxis\":{\"gridcolor\":\"white\",\"linecolor\":\"white\",\"ticks\":\"\"},\"baxis\":{\"gridcolor\":\"white\",\"linecolor\":\"white\",\"ticks\":\"\"},\"caxis\":{\"gridcolor\":\"white\",\"linecolor\":\"white\",\"ticks\":\"\"}},\"coloraxis\":{\"colorbar\":{\"outlinewidth\":0,\"ticks\":\"\"}},\"colorscale\":{\"sequential\":[[0.0,\"#0d0887\"],[0.1111111111111111,\"#46039f\"],[0.2222222222222222,\"#7201a8\"],[0.3333333333333333,\"#9c179e\"],[0.4444444444444444,\"#bd3786\"],[0.5555555555555556,\"#d8576b\"],[0.6666666666666666,\"#ed7953\"],[0.7777777777777778,\"#fb9f3a\"],[0.8888888888888888,\"#fdca26\"],[1.0,\"#f0f921\"]],\"sequentialminus\":[[0.0,\"#0d0887\"],[0.1111111111111111,\"#46039f\"],[0.2222222222222222,\"#7201a8\"],[0.3333333333333333,\"#9c179e\"],[0.4444444444444444,\"#bd3786\"],[0.5555555555555556,\"#d8576b\"],[0.6666666666666666,\"#ed7953\"],[0.7777777777777778,\"#fb9f3a\"],[0.8888888888888888,\"#fdca26\"],[1.0,\"#f0f921\"]],\"diverging\":[[0,\"#8e0152\"],[0.1,\"#c51b7d\"],[0.2,\"#de77ae\"],[0.3,\"#f1b6da\"],[0.4,\"#fde0ef\"],[0.5,\"#f7f7f7\"],[0.6,\"#e6f5d0\"],[0.7,\"#b8e186\"],[0.8,\"#7fbc41\"],[0.9,\"#4d9221\"],[1,\"#276419\"]]},\"xaxis\":{\"gridcolor\":\"white\",\"linecolor\":\"white\",\"ticks\":\"\",\"title\":{\"standoff\":15},\"zerolinecolor\":\"white\",\"automargin\":true,\"zerolinewidth\":2},\"yaxis\":{\"gridcolor\":\"white\",\"linecolor\":\"white\",\"ticks\":\"\",\"title\":{\"standoff\":15},\"zerolinecolor\":\"white\",\"automargin\":true,\"zerolinewidth\":2},\"scene\":{\"xaxis\":{\"backgroundcolor\":\"#E5ECF6\",\"gridcolor\":\"white\",\"linecolor\":\"white\",\"showbackground\":true,\"ticks\":\"\",\"zerolinecolor\":\"white\",\"gridwidth\":2},\"yaxis\":{\"backgroundcolor\":\"#E5ECF6\",\"gridcolor\":\"white\",\"linecolor\":\"white\",\"showbackground\":true,\"ticks\":\"\",\"zerolinecolor\":\"white\",\"gridwidth\":2},\"zaxis\":{\"backgroundcolor\":\"#E5ECF6\",\"gridcolor\":\"white\",\"linecolor\":\"white\",\"showbackground\":true,\"ticks\":\"\",\"zerolinecolor\":\"white\",\"gridwidth\":2}},\"shapedefaults\":{\"line\":{\"color\":\"#2a3f5f\"}},\"annotationdefaults\":{\"arrowcolor\":\"#2a3f5f\",\"arrowhead\":0,\"arrowwidth\":1},\"geo\":{\"bgcolor\":\"white\",\"landcolor\":\"#E5ECF6\",\"subunitcolor\":\"white\",\"showland\":true,\"showlakes\":true,\"lakecolor\":\"white\"},\"title\":{\"x\":0.05},\"mapbox\":{\"style\":\"light\"}}},\"xaxis\":{\"anchor\":\"y\",\"domain\":[0.0,0.235],\"title\":{\"text\":\"year\"}},\"yaxis\":{\"anchor\":\"x\",\"domain\":[0.0,1.0],\"title\":{\"text\":\"value\"}},\"xaxis2\":{\"anchor\":\"y2\",\"domain\":[0.255,0.49],\"matches\":\"x\",\"title\":{\"text\":\"year\"}},\"yaxis2\":{\"anchor\":\"x2\",\"domain\":[0.0,1.0],\"matches\":\"y\",\"showticklabels\":false},\"xaxis3\":{\"anchor\":\"y3\",\"domain\":[0.51,0.745],\"matches\":\"x\",\"title\":{\"text\":\"year\"}},\"yaxis3\":{\"anchor\":\"x3\",\"domain\":[0.0,1.0],\"matches\":\"y\",\"showticklabels\":false},\"xaxis4\":{\"anchor\":\"y4\",\"domain\":[0.7649999999999999,0.9999999999999999],\"matches\":\"x\",\"title\":{\"text\":\"year\"}},\"yaxis4\":{\"anchor\":\"x4\",\"domain\":[0.0,1.0],\"matches\":\"y\",\"showticklabels\":false},\"annotations\":[{\"font\":{},\"showarrow\":false,\"text\":\"subject=Business Finance\",\"x\":0.1175,\"xanchor\":\"center\",\"xref\":\"paper\",\"y\":1.0,\"yanchor\":\"bottom\",\"yref\":\"paper\"},{\"font\":{},\"showarrow\":false,\"text\":\"subject=Graphic Design\",\"x\":0.3725,\"xanchor\":\"center\",\"xref\":\"paper\",\"y\":1.0,\"yanchor\":\"bottom\",\"yref\":\"paper\"},{\"font\":{},\"showarrow\":false,\"text\":\"subject=Musical Instruments\",\"x\":0.6275,\"xanchor\":\"center\",\"xref\":\"paper\",\"y\":1.0,\"yanchor\":\"bottom\",\"yref\":\"paper\"},{\"font\":{},\"showarrow\":false,\"text\":\"subject=Web Development\",\"x\":0.8824999999999998,\"xanchor\":\"center\",\"xref\":\"paper\",\"y\":1.0,\"yanchor\":\"bottom\",\"yref\":\"paper\"}],\"legend\":{\"title\":{\"text\":\"subject\"},\"tracegroupgap\":0},\"margin\":{\"t\":60},\"barmode\":\"relative\",\"height\":400},                        {\"responsive\": true}                    ).then(function(){\n",
       "                            \n",
       "var gd = document.getElementById('4b60df8b-eb88-42bf-959c-90720b511fb0');\n",
       "var x = new MutationObserver(function (mutations, observer) {{\n",
       "        var display = window.getComputedStyle(gd).display;\n",
       "        if (!display || display === 'none') {{\n",
       "            console.log([gd, 'removed!']);\n",
       "            Plotly.purge(gd);\n",
       "            observer.disconnect();\n",
       "        }}\n",
       "}});\n",
       "\n",
       "// Listen for the removal of the full notebook cells\n",
       "var notebookContainer = gd.closest('#notebook-container');\n",
       "if (notebookContainer) {{\n",
       "    x.observe(notebookContainer, {childList: true});\n",
       "}}\n",
       "\n",
       "// Listen for the clearing of the current output cell\n",
       "var outputEl = gd.closest('.output');\n",
       "if (outputEl) {{\n",
       "    x.observe(outputEl, {childList: true});\n",
       "}}\n",
       "\n",
       "                        })                };                });            </script>        </div>"
      ]
     },
     "metadata": {},
     "output_type": "display_data"
    }
   ],
   "source": [
    "# visualizing data\n",
    "\n",
    "px.bar(df.pivot_table(index= 'year', columns= 'subject', values= 'profit', aggfunc= 'sum'), facet_col= 'subject', height= 400)"
   ]
  },
  {
   "cell_type": "markdown",
   "id": "1c40e1e1",
   "metadata": {
    "id": "jH_vxl26I0Es",
    "papermill": {
     "duration": 0.057377,
     "end_time": "2023-07-24T06:45:04.379156",
     "exception": false,
     "start_time": "2023-07-24T06:45:04.321779",
     "status": "completed"
    },
    "tags": []
   },
   "source": [
    "- 2) collect data for each subject in DataFrame"
   ]
  },
  {
   "cell_type": "code",
   "execution_count": 70,
   "id": "98d96830",
   "metadata": {
    "execution": {
     "iopub.execute_input": "2023-07-24T06:45:04.496344Z",
     "iopub.status.busy": "2023-07-24T06:45:04.495934Z",
     "iopub.status.idle": "2023-07-24T06:45:04.505861Z",
     "shell.execute_reply": "2023-07-24T06:45:04.504739Z"
    },
    "id": "yW8wWQ6JBz1X",
    "papermill": {
     "duration": 0.071136,
     "end_time": "2023-07-24T06:45:04.508350",
     "exception": false,
     "start_time": "2023-07-24T06:45:04.437214",
     "status": "completed"
    },
    "tags": []
   },
   "outputs": [],
   "source": [
    "df_BF = df[(df['subject'] == 'Business Finance') & (df['year'].isin([2013, 2014, 2015]))]"
   ]
  },
  {
   "cell_type": "code",
   "execution_count": 71,
   "id": "3c0d7cbf",
   "metadata": {
    "execution": {
     "iopub.execute_input": "2023-07-24T06:45:04.626175Z",
     "iopub.status.busy": "2023-07-24T06:45:04.625740Z",
     "iopub.status.idle": "2023-07-24T06:45:04.633780Z",
     "shell.execute_reply": "2023-07-24T06:45:04.632798Z"
    },
    "id": "MB-JCDv1Egx-",
    "papermill": {
     "duration": 0.069484,
     "end_time": "2023-07-24T06:45:04.636100",
     "exception": false,
     "start_time": "2023-07-24T06:45:04.566616",
     "status": "completed"
    },
    "tags": []
   },
   "outputs": [],
   "source": [
    "df_GD = df[(df['subject'] == 'Graphic Design') & (df['year'].isin([2013, 2014, 2015, 2016]))]"
   ]
  },
  {
   "cell_type": "code",
   "execution_count": 72,
   "id": "fef3efc9",
   "metadata": {
    "execution": {
     "iopub.execute_input": "2023-07-24T06:45:04.754385Z",
     "iopub.status.busy": "2023-07-24T06:45:04.753337Z",
     "iopub.status.idle": "2023-07-24T06:45:04.760342Z",
     "shell.execute_reply": "2023-07-24T06:45:04.759547Z"
    },
    "id": "NJ9yl_5FFBJs",
    "papermill": {
     "duration": 0.06814,
     "end_time": "2023-07-24T06:45:04.762653",
     "exception": false,
     "start_time": "2023-07-24T06:45:04.694513",
     "status": "completed"
    },
    "tags": []
   },
   "outputs": [],
   "source": [
    "df_MI = df[(df['subject'] == 'Musical Instruments') & (df['year'].isin([2013, 2014]))]"
   ]
  },
  {
   "cell_type": "code",
   "execution_count": 73,
   "id": "02138e34",
   "metadata": {
    "execution": {
     "iopub.execute_input": "2023-07-24T06:45:04.879380Z",
     "iopub.status.busy": "2023-07-24T06:45:04.878779Z",
     "iopub.status.idle": "2023-07-24T06:45:04.885279Z",
     "shell.execute_reply": "2023-07-24T06:45:04.884474Z"
    },
    "id": "s036oINcFfHH",
    "papermill": {
     "duration": 0.066705,
     "end_time": "2023-07-24T06:45:04.887468",
     "exception": false,
     "start_time": "2023-07-24T06:45:04.820763",
     "status": "completed"
    },
    "tags": []
   },
   "outputs": [],
   "source": [
    "df_WD = df[(df['subject'] == 'Web Development') & (df['year'].isin([2013, 2015]))]"
   ]
  },
  {
   "cell_type": "markdown",
   "id": "5cb61074",
   "metadata": {
    "id": "scHvvc9CI_MX",
    "papermill": {
     "duration": 0.057939,
     "end_time": "2023-07-24T06:45:05.003935",
     "exception": false,
     "start_time": "2023-07-24T06:45:04.945996",
     "status": "completed"
    },
    "tags": []
   },
   "source": [
    "- 3) Concate all DataFrame in One DataFrame"
   ]
  },
  {
   "cell_type": "code",
   "execution_count": 74,
   "id": "2881d39a",
   "metadata": {
    "execution": {
     "iopub.execute_input": "2023-07-24T06:45:05.119337Z",
     "iopub.status.busy": "2023-07-24T06:45:05.118617Z",
     "iopub.status.idle": "2023-07-24T06:45:05.126413Z",
     "shell.execute_reply": "2023-07-24T06:45:05.125516Z"
    },
    "id": "7UgPeCYWGF0r",
    "papermill": {
     "duration": 0.068227,
     "end_time": "2023-07-24T06:45:05.128693",
     "exception": false,
     "start_time": "2023-07-24T06:45:05.060466",
     "status": "completed"
    },
    "tags": []
   },
   "outputs": [],
   "source": [
    "profit_up_df = pd.concat([df_BF, df_GD, df_MI, df_WD], axis= 0)"
   ]
  },
  {
   "cell_type": "code",
   "execution_count": 75,
   "id": "18f05149",
   "metadata": {
    "execution": {
     "iopub.execute_input": "2023-07-24T06:45:05.244976Z",
     "iopub.status.busy": "2023-07-24T06:45:05.244252Z",
     "iopub.status.idle": "2023-07-24T06:45:05.288503Z",
     "shell.execute_reply": "2023-07-24T06:45:05.287544Z"
    },
    "id": "97x_TdJFGphM",
    "outputId": "af983c5c-44f7-474b-c68a-a4427e66afe7",
    "papermill": {
     "duration": 0.105565,
     "end_time": "2023-07-24T06:45:05.290966",
     "exception": false,
     "start_time": "2023-07-24T06:45:05.185401",
     "status": "completed"
    },
    "tags": []
   },
   "outputs": [
    {
     "data": {
      "text/html": [
       "<div>\n",
       "<style scoped>\n",
       "    .dataframe tbody tr th:only-of-type {\n",
       "        vertical-align: middle;\n",
       "    }\n",
       "\n",
       "    .dataframe tbody tr th {\n",
       "        vertical-align: top;\n",
       "    }\n",
       "\n",
       "    .dataframe thead th {\n",
       "        text-align: right;\n",
       "    }\n",
       "</style>\n",
       "<table border=\"1\" class=\"dataframe\">\n",
       "  <thead>\n",
       "    <tr style=\"text-align: right;\">\n",
       "      <th></th>\n",
       "      <th>course_id</th>\n",
       "      <th>price</th>\n",
       "      <th>num_subscribers</th>\n",
       "      <th>num_reviews</th>\n",
       "      <th>num_lectures</th>\n",
       "      <th>content_duration</th>\n",
       "      <th>profit</th>\n",
       "      <th>year</th>\n",
       "    </tr>\n",
       "  </thead>\n",
       "  <tbody>\n",
       "    <tr>\n",
       "      <th>count</th>\n",
       "      <td>1589.0</td>\n",
       "      <td>1589.00</td>\n",
       "      <td>1589.00</td>\n",
       "      <td>1589.00</td>\n",
       "      <td>1589.00</td>\n",
       "      <td>1589.00</td>\n",
       "      <td>1589.00</td>\n",
       "      <td>1589.00</td>\n",
       "    </tr>\n",
       "    <tr>\n",
       "      <th>mean</th>\n",
       "      <td>437634.2</td>\n",
       "      <td>61.26</td>\n",
       "      <td>3075.96</td>\n",
       "      <td>108.28</td>\n",
       "      <td>37.93</td>\n",
       "      <td>4.10</td>\n",
       "      <td>233872.89</td>\n",
       "      <td>2014.63</td>\n",
       "    </tr>\n",
       "    <tr>\n",
       "      <th>std</th>\n",
       "      <td>239094.2</td>\n",
       "      <td>57.83</td>\n",
       "      <td>6714.40</td>\n",
       "      <td>338.75</td>\n",
       "      <td>47.39</td>\n",
       "      <td>6.23</td>\n",
       "      <td>760899.90</td>\n",
       "      <td>0.84</td>\n",
       "    </tr>\n",
       "    <tr>\n",
       "      <th>min</th>\n",
       "      <td>12214.0</td>\n",
       "      <td>0.00</td>\n",
       "      <td>0.00</td>\n",
       "      <td>0.00</td>\n",
       "      <td>5.00</td>\n",
       "      <td>0.45</td>\n",
       "      <td>0.00</td>\n",
       "      <td>2013.00</td>\n",
       "    </tr>\n",
       "    <tr>\n",
       "      <th>25%</th>\n",
       "      <td>235112.0</td>\n",
       "      <td>20.00</td>\n",
       "      <td>164.00</td>\n",
       "      <td>5.00</td>\n",
       "      <td>14.00</td>\n",
       "      <td>1.50</td>\n",
       "      <td>2700.00</td>\n",
       "      <td>2014.00</td>\n",
       "    </tr>\n",
       "    <tr>\n",
       "      <th>50%</th>\n",
       "      <td>447210.0</td>\n",
       "      <td>40.00</td>\n",
       "      <td>1013.00</td>\n",
       "      <td>20.00</td>\n",
       "      <td>24.00</td>\n",
       "      <td>2.50</td>\n",
       "      <td>27540.00</td>\n",
       "      <td>2015.00</td>\n",
       "    </tr>\n",
       "    <tr>\n",
       "      <th>75%</th>\n",
       "      <td>599684.0</td>\n",
       "      <td>90.00</td>\n",
       "      <td>2736.00</td>\n",
       "      <td>68.00</td>\n",
       "      <td>43.00</td>\n",
       "      <td>4.50</td>\n",
       "      <td>131250.00</td>\n",
       "      <td>2015.00</td>\n",
       "    </tr>\n",
       "    <tr>\n",
       "      <th>max</th>\n",
       "      <td>1052180.0</td>\n",
       "      <td>200.00</td>\n",
       "      <td>72932.00</td>\n",
       "      <td>4434.00</td>\n",
       "      <td>544.00</td>\n",
       "      <td>78.50</td>\n",
       "      <td>11197290.00</td>\n",
       "      <td>2016.00</td>\n",
       "    </tr>\n",
       "  </tbody>\n",
       "</table>\n",
       "</div>"
      ],
      "text/plain": [
       "       course_id    price  num_subscribers  num_reviews  num_lectures  \\\n",
       "count     1589.0  1589.00          1589.00      1589.00       1589.00   \n",
       "mean    437634.2    61.26          3075.96       108.28         37.93   \n",
       "std     239094.2    57.83          6714.40       338.75         47.39   \n",
       "min      12214.0     0.00             0.00         0.00          5.00   \n",
       "25%     235112.0    20.00           164.00         5.00         14.00   \n",
       "50%     447210.0    40.00          1013.00        20.00         24.00   \n",
       "75%     599684.0    90.00          2736.00        68.00         43.00   \n",
       "max    1052180.0   200.00         72932.00      4434.00        544.00   \n",
       "\n",
       "       content_duration       profit     year  \n",
       "count           1589.00      1589.00  1589.00  \n",
       "mean               4.10    233872.89  2014.63  \n",
       "std                6.23    760899.90     0.84  \n",
       "min                0.45         0.00  2013.00  \n",
       "25%                1.50      2700.00  2014.00  \n",
       "50%                2.50     27540.00  2015.00  \n",
       "75%                4.50    131250.00  2015.00  \n",
       "max               78.50  11197290.00  2016.00  "
      ]
     },
     "execution_count": 75,
     "metadata": {},
     "output_type": "execute_result"
    }
   ],
   "source": [
    "profit_up_df.describe().round(2)"
   ]
  },
  {
   "cell_type": "code",
   "execution_count": 76,
   "id": "3774912a",
   "metadata": {
    "execution": {
     "iopub.execute_input": "2023-07-24T06:45:05.407615Z",
     "iopub.status.busy": "2023-07-24T06:45:05.406941Z",
     "iopub.status.idle": "2023-07-24T06:45:05.412894Z",
     "shell.execute_reply": "2023-07-24T06:45:05.412064Z"
    },
    "id": "PTqbUu_eHBUL",
    "papermill": {
     "duration": 0.06643,
     "end_time": "2023-07-24T06:45:05.415106",
     "exception": false,
     "start_time": "2023-07-24T06:45:05.348676",
     "status": "completed"
    },
    "tags": []
   },
   "outputs": [],
   "source": [
    "# drop columns that not need\n",
    "\n",
    "profit_up_df.drop(columns= ['profit', 'year'], axis= 1, inplace= True)"
   ]
  },
  {
   "cell_type": "markdown",
   "id": "b1a535b8",
   "metadata": {
    "id": "QNYTMSa_JRu8",
    "papermill": {
     "duration": 0.056521,
     "end_time": "2023-07-24T06:45:05.528783",
     "exception": false,
     "start_time": "2023-07-24T06:45:05.472262",
     "status": "completed"
    },
    "tags": []
   },
   "source": [
    "# Recommendation For Ideal Status For Udemy and Each Subject of Courses"
   ]
  },
  {
   "cell_type": "markdown",
   "id": "dc4fe49c",
   "metadata": {
    "id": "yDg459TdJjif",
    "papermill": {
     "duration": 0.05663,
     "end_time": "2023-07-24T06:45:05.642359",
     "exception": false,
     "start_time": "2023-07-24T06:45:05.585729",
     "status": "completed"
    },
    "tags": []
   },
   "source": [
    "# For Udemy"
   ]
  },
  {
   "cell_type": "code",
   "execution_count": 77,
   "id": "45d7d5d0",
   "metadata": {
    "execution": {
     "iopub.execute_input": "2023-07-24T06:45:05.775113Z",
     "iopub.status.busy": "2023-07-24T06:45:05.774389Z",
     "iopub.status.idle": "2023-07-24T06:45:05.809396Z",
     "shell.execute_reply": "2023-07-24T06:45:05.808556Z"
    },
    "id": "WXl243lNHRcR",
    "outputId": "6f666f6e-5915-4dd6-a5d7-c56a3bbf5909",
    "papermill": {
     "duration": 0.112488,
     "end_time": "2023-07-24T06:45:05.811533",
     "exception": false,
     "start_time": "2023-07-24T06:45:05.699045",
     "status": "completed"
    },
    "tags": []
   },
   "outputs": [
    {
     "data": {
      "text/html": [
       "<div>\n",
       "<style scoped>\n",
       "    .dataframe tbody tr th:only-of-type {\n",
       "        vertical-align: middle;\n",
       "    }\n",
       "\n",
       "    .dataframe tbody tr th {\n",
       "        vertical-align: top;\n",
       "    }\n",
       "\n",
       "    .dataframe thead th {\n",
       "        text-align: right;\n",
       "    }\n",
       "</style>\n",
       "<table border=\"1\" class=\"dataframe\">\n",
       "  <thead>\n",
       "    <tr style=\"text-align: right;\">\n",
       "      <th></th>\n",
       "      <th>course_id</th>\n",
       "      <th>price</th>\n",
       "      <th>num_subscribers</th>\n",
       "      <th>num_reviews</th>\n",
       "      <th>num_lectures</th>\n",
       "      <th>content_duration</th>\n",
       "    </tr>\n",
       "  </thead>\n",
       "  <tbody>\n",
       "    <tr>\n",
       "      <th>count</th>\n",
       "      <td>1589.0</td>\n",
       "      <td>1589.00</td>\n",
       "      <td>1589.00</td>\n",
       "      <td>1589.00</td>\n",
       "      <td>1589.00</td>\n",
       "      <td>1589.00</td>\n",
       "    </tr>\n",
       "    <tr>\n",
       "      <th>mean</th>\n",
       "      <td>437634.2</td>\n",
       "      <td>61.26</td>\n",
       "      <td>3075.96</td>\n",
       "      <td>108.28</td>\n",
       "      <td>37.93</td>\n",
       "      <td>4.10</td>\n",
       "    </tr>\n",
       "    <tr>\n",
       "      <th>std</th>\n",
       "      <td>239094.2</td>\n",
       "      <td>57.83</td>\n",
       "      <td>6714.40</td>\n",
       "      <td>338.75</td>\n",
       "      <td>47.39</td>\n",
       "      <td>6.23</td>\n",
       "    </tr>\n",
       "    <tr>\n",
       "      <th>min</th>\n",
       "      <td>12214.0</td>\n",
       "      <td>0.00</td>\n",
       "      <td>0.00</td>\n",
       "      <td>0.00</td>\n",
       "      <td>5.00</td>\n",
       "      <td>0.45</td>\n",
       "    </tr>\n",
       "    <tr>\n",
       "      <th>25%</th>\n",
       "      <td>235112.0</td>\n",
       "      <td>20.00</td>\n",
       "      <td>164.00</td>\n",
       "      <td>5.00</td>\n",
       "      <td>14.00</td>\n",
       "      <td>1.50</td>\n",
       "    </tr>\n",
       "    <tr>\n",
       "      <th>50%</th>\n",
       "      <td>447210.0</td>\n",
       "      <td>40.00</td>\n",
       "      <td>1013.00</td>\n",
       "      <td>20.00</td>\n",
       "      <td>24.00</td>\n",
       "      <td>2.50</td>\n",
       "    </tr>\n",
       "    <tr>\n",
       "      <th>75%</th>\n",
       "      <td>599684.0</td>\n",
       "      <td>90.00</td>\n",
       "      <td>2736.00</td>\n",
       "      <td>68.00</td>\n",
       "      <td>43.00</td>\n",
       "      <td>4.50</td>\n",
       "    </tr>\n",
       "    <tr>\n",
       "      <th>max</th>\n",
       "      <td>1052180.0</td>\n",
       "      <td>200.00</td>\n",
       "      <td>72932.00</td>\n",
       "      <td>4434.00</td>\n",
       "      <td>544.00</td>\n",
       "      <td>78.50</td>\n",
       "    </tr>\n",
       "  </tbody>\n",
       "</table>\n",
       "</div>"
      ],
      "text/plain": [
       "       course_id    price  num_subscribers  num_reviews  num_lectures  \\\n",
       "count     1589.0  1589.00          1589.00      1589.00       1589.00   \n",
       "mean    437634.2    61.26          3075.96       108.28         37.93   \n",
       "std     239094.2    57.83          6714.40       338.75         47.39   \n",
       "min      12214.0     0.00             0.00         0.00          5.00   \n",
       "25%     235112.0    20.00           164.00         5.00         14.00   \n",
       "50%     447210.0    40.00          1013.00        20.00         24.00   \n",
       "75%     599684.0    90.00          2736.00        68.00         43.00   \n",
       "max    1052180.0   200.00         72932.00      4434.00        544.00   \n",
       "\n",
       "       content_duration  \n",
       "count           1589.00  \n",
       "mean               4.10  \n",
       "std                6.23  \n",
       "min                0.45  \n",
       "25%                1.50  \n",
       "50%                2.50  \n",
       "75%                4.50  \n",
       "max               78.50  "
      ]
     },
     "execution_count": 77,
     "metadata": {},
     "output_type": "execute_result"
    }
   ],
   "source": [
    "profit_up_df.describe().round(2)"
   ]
  },
  {
   "cell_type": "code",
   "execution_count": 78,
   "id": "014eac4c",
   "metadata": {
    "execution": {
     "iopub.execute_input": "2023-07-24T06:45:05.930494Z",
     "iopub.status.busy": "2023-07-24T06:45:05.929428Z",
     "iopub.status.idle": "2023-07-24T06:45:05.936605Z",
     "shell.execute_reply": "2023-07-24T06:45:05.935721Z"
    },
    "id": "durq9x8uZBjY",
    "papermill": {
     "duration": 0.070259,
     "end_time": "2023-07-24T06:45:05.939108",
     "exception": false,
     "start_time": "2023-07-24T06:45:05.868849",
     "status": "completed"
    },
    "tags": []
   },
   "outputs": [],
   "source": [
    "# drop columns not need\n",
    "\n",
    "profit_up_df.drop(columns= 'course_id', axis= 1, inplace= True)"
   ]
  },
  {
   "cell_type": "code",
   "execution_count": 79,
   "id": "12b867d4",
   "metadata": {
    "execution": {
     "iopub.execute_input": "2023-07-24T06:45:06.057450Z",
     "iopub.status.busy": "2023-07-24T06:45:06.056772Z",
     "iopub.status.idle": "2023-07-24T06:45:06.062645Z",
     "shell.execute_reply": "2023-07-24T06:45:06.061870Z"
    },
    "id": "2SwaZNSqexft",
    "papermill": {
     "duration": 0.067236,
     "end_time": "2023-07-24T06:45:06.064871",
     "exception": false,
     "start_time": "2023-07-24T06:45:05.997635",
     "status": "completed"
    },
    "tags": []
   },
   "outputs": [],
   "source": [
    "# choose numerical values only\n",
    "\n",
    "profit_up_df_num = profit_up_df[['price', 'num_subscribers', 'num_reviews', 'num_lectures', 'content_duration']]"
   ]
  },
  {
   "cell_type": "code",
   "execution_count": 80,
   "id": "9e9d3785",
   "metadata": {
    "execution": {
     "iopub.execute_input": "2023-07-24T06:45:06.181805Z",
     "iopub.status.busy": "2023-07-24T06:45:06.181108Z",
     "iopub.status.idle": "2023-07-24T06:45:06.310597Z",
     "shell.execute_reply": "2023-07-24T06:45:06.309444Z"
    },
    "id": "cdqMjn1vWtH7",
    "outputId": "95f98ae3-a35f-4862-f720-e34ff3211902",
    "papermill": {
     "duration": 0.191069,
     "end_time": "2023-07-24T06:45:06.313231",
     "exception": false,
     "start_time": "2023-07-24T06:45:06.122162",
     "status": "completed"
    },
    "tags": []
   },
   "outputs": [
    {
     "data": {
      "text/html": [
       "<div>                            <div id=\"72c74b99-d530-453a-aad0-60234188699f\" class=\"plotly-graph-div\" style=\"height:525px; width:100%;\"></div>            <script type=\"text/javascript\">                require([\"plotly\"], function(Plotly) {                    window.PLOTLYENV=window.PLOTLYENV || {};                                    if (document.getElementById(\"72c74b99-d530-453a-aad0-60234188699f\")) {                    Plotly.newPlot(                        \"72c74b99-d530-453a-aad0-60234188699f\",                        [{\"alignmentgroup\":\"True\",\"hovertemplate\":\"variable=price\\u003cbr\\u003evalue=%{y}\\u003cextra\\u003e\\u003c\\u002fextra\\u003e\",\"legendgroup\":\"price\",\"marker\":{\"color\":\"#636efa\"},\"name\":\"price\",\"notched\":false,\"offsetgroup\":\"price\",\"orientation\":\"v\",\"showlegend\":true,\"x0\":\" \",\"xaxis\":\"x\",\"y\":[150.0,95.0,195.0,200.0,75.0,200.0,50.0,95.0,75.0,150.0,200.0,175.0,45.0,195.0,195.0,195.0,115.0,200.0,150.0,200.0,95.0,125.0,60.0,200.0,155.0,185.0,180.0,125.0,185.0,125.0,95.0,60.0,120.0,160.0,20.0,95.0,200.0,95.0,150.0,40.0,75.0,40.0,25.0,0.0,50.0,0.0,195.0,150.0,95.0,0.0,20.0,150.0,50.0,0.0,180.0,25.0,200.0,20.0,20.0,100.0,150.0,20.0,0.0,60.0,30.0,95.0,200.0,200.0,35.0,200.0,200.0,120.0,25.0,20.0,120.0,200.0,45.0,50.0,20.0,50.0,200.0,120.0,145.0,195.0,200.0,45.0,20.0,200.0,20.0,20.0,20.0,60.0,20.0,20.0,50.0,50.0,50.0,0.0,60.0,40.0,45.0,95.0,50.0,95.0,40.0,20.0,20.0,20.0,20.0,60.0,75.0,20.0,20.0,200.0,20.0,20.0,30.0,95.0,50.0,65.0,50.0,95.0,50.0,105.0,40.0,20.0,50.0,20.0,0.0,125.0,35.0,50.0,50.0,200.0,95.0,30.0,30.0,50.0,35.0,20.0,125.0,0.0,20.0,60.0,0.0,50.0,0.0,60.0,25.0,0.0,150.0,35.0,20.0,200.0,20.0,20.0,70.0,50.0,20.0,75.0,20.0,20.0,50.0,20.0,20.0,25.0,20.0,200.0,60.0,180.0,30.0,40.0,20.0,150.0,95.0,0.0,20.0,20.0,195.0,0.0,100.0,20.0,200.0,180.0,75.0,25.0,50.0,95.0,40.0,145.0,30.0,50.0,20.0,90.0,20.0,75.0,50.0,20.0,145.0,45.0,20.0,50.0,20.0,20.0,20.0,30.0,40.0,200.0,100.0,50.0,30.0,20.0,45.0,25.0,20.0,20.0,20.0,20.0,20.0,30.0,35.0,20.0,0.0,30.0,200.0,50.0,190.0,95.0,35.0,30.0,195.0,0.0,20.0,50.0,50.0,25.0,50.0,55.0,20.0,95.0,55.0,50.0,25.0,20.0,20.0,95.0,55.0,20.0,20.0,0.0,200.0,20.0,0.0,95.0,0.0,20.0,25.0,195.0,200.0,0.0,20.0,195.0,20.0,105.0,20.0,30.0,20.0,20.0,20.0,20.0,20.0,180.0,150.0,25.0,95.0,20.0,50.0,50.0,20.0,20.0,50.0,75.0,50.0,50.0,20.0,195.0,50.0,55.0,40.0,30.0,50.0,190.0,50.0,40.0,20.0,200.0,95.0,0.0,50.0,50.0,50.0,20.0,20.0,20.0,200.0,20.0,50.0,40.0,20.0,20.0,20.0,100.0,20.0,25.0,20.0,95.0,20.0,40.0,20.0,20.0,20.0,50.0,20.0,20.0,20.0,195.0,0.0,0.0,50.0,95.0,50.0,0.0,200.0,60.0,50.0,25.0,30.0,40.0,20.0,30.0,95.0,45.0,200.0,180.0,50.0,40.0,20.0,50.0,20.0,40.0,30.0,200.0,0.0,35.0,95.0,20.0,145.0,150.0,20.0,20.0,20.0,20.0,35.0,180.0,50.0,40.0,0.0,20.0,125.0,75.0,95.0,50.0,95.0,200.0,20.0,40.0,20.0,50.0,25.0,20.0,20.0,40.0,0.0,50.0,30.0,50.0,50.0,0.0,50.0,0.0,30.0,20.0,20.0,50.0,90.0,0.0,100.0,20.0,20.0,50.0,40.0,30.0,50.0,20.0,20.0,200.0,50.0,40.0,20.0,20.0,0.0,20.0,95.0,40.0,50.0,85.0,60.0,200.0,145.0,60.0,20.0,200.0,60.0,20.0,20.0,140.0,120.0,170.0,50.0,150.0,60.0,20.0,20.0,50.0,0.0,50.0,25.0,150.0,0.0,50.0,50.0,0.0,20.0,25.0,20.0,50.0,25.0,0.0,50.0,20.0,50.0,20.0,50.0,95.0,20.0,20.0,50.0,50.0,50.0,40.0,30.0,0.0,20.0,20.0,30.0,20.0,90.0,20.0,50.0,60.0,60.0,20.0,20.0,25.0,50.0,20.0,200.0,20.0,30.0,145.0,30.0,20.0,20.0,20.0,20.0,20.0,35.0,30.0,35.0,50.0,30.0,20.0,20.0,0.0,20.0,180.0,95.0,20.0,20.0,20.0,50.0,50.0,20.0,50.0,100.0,20.0,20.0,20.0,0.0,45.0,30.0,50.0,20.0,20.0,40.0,20.0,50.0,50.0,0.0,20.0,50.0,50.0,20.0,95.0,35.0,40.0,110.0,20.0,95.0,30.0,40.0,50.0,50.0,20.0,50.0,0.0,25.0,50.0,20.0,20.0,40.0,20.0,20.0,45.0,20.0,20.0,30.0,30.0,0.0,20.0,85.0,45.0,20.0,20.0,30.0,200.0,30.0,140.0,20.0,25.0,40.0,20.0,40.0,25.0,20.0,20.0,30.0,125.0,25.0,20.0,0.0,0.0,195.0,20.0,30.0,40.0,50.0,40.0,50.0,195.0,20.0,200.0,50.0,20.0,50.0,50.0,35.0,40.0,20.0,20.0,180.0,40.0,50.0,95.0,40.0,50.0,20.0,20.0,25.0,20.0,20.0,50.0,65.0,50.0,50.0,195.0,20.0,30.0,100.0,55.0,35.0,20.0,180.0,20.0,150.0,200.0,25.0,20.0,0.0,200.0,200.0,95.0,75.0,200.0,95.0,200.0,195.0,20.0,30.0,20.0,20.0,25.0,50.0,150.0,30.0,25.0,20.0,20.0,20.0,20.0,0.0,0.0,0.0,200.0,25.0,20.0,200.0,20.0,150.0,150.0,45.0,60.0,190.0,20.0,95.0,200.0,75.0,45.0,120.0,20.0,25.0,0.0,30.0,0.0,0.0,50.0,20.0,100.0,40.0,0.0,105.0,30.0,25.0,95.0,95.0,95.0,0.0,20.0,20.0,20.0,70.0,50.0,30.0,20.0,200.0,200.0,20.0,40.0,0.0,75.0,50.0,50.0,20.0,30.0,20.0,20.0,20.0,80.0,125.0,20.0,20.0,50.0,45.0,20.0,40.0,20.0,20.0,45.0,0.0,100.0,20.0,25.0,150.0,70.0,30.0,20.0,60.0,30.0,30.0,20.0,0.0,200.0,20.0,80.0,195.0,20.0,20.0,50.0,25.0,95.0,30.0,0.0,200.0,145.0,95.0,40.0,20.0,100.0,165.0,30.0,0.0,25.0,120.0,20.0,20.0,70.0,0.0,145.0,25.0,195.0,0.0,0.0,20.0,30.0,30.0,30.0,135.0,75.0,20.0,20.0,95.0,20.0,0.0,25.0,95.0,50.0,70.0,100.0,50.0,95.0,30.0,20.0,195.0,20.0,45.0,20.0,20.0,20.0,115.0,20.0,20.0,20.0,50.0,150.0,25.0,45.0,20.0,35.0,20.0,185.0,20.0,30.0,20.0,20.0,95.0,20.0,25.0,200.0,100.0,30.0,20.0,200.0,95.0,0.0,95.0,20.0,0.0,25.0,20.0,20.0,20.0,40.0,20.0,20.0,20.0,20.0,40.0,20.0,35.0,20.0,20.0,20.0,20.0,20.0,50.0,90.0,195.0,100.0,50.0,20.0,155.0,20.0,45.0,45.0,20.0,75.0,40.0,20.0,40.0,40.0,150.0,20.0,20.0,150.0,20.0,20.0,50.0,20.0,20.0,50.0,20.0,85.0,20.0,20.0,40.0,200.0,200.0,200.0,195.0,25.0,20.0,25.0,20.0,20.0,20.0,20.0,20.0,100.0,35.0,200.0,25.0,25.0,50.0,20.0,20.0,40.0,20.0,80.0,50.0,25.0,20.0,45.0,30.0,30.0,20.0,20.0,25.0,180.0,75.0,95.0,195.0,175.0,100.0,125.0,195.0,135.0,20.0,100.0,20.0,20.0,30.0,60.0,20.0,20.0,20.0,20.0,50.0,20.0,20.0,50.0,50.0,20.0,20.0,20.0,50.0,100.0,50.0,45.0,20.0,25.0,20.0,20.0,20.0,100.0,50.0,150.0,35.0,55.0,25.0,35.0,40.0,20.0,20.0,200.0,195.0,200.0,100.0,50.0,200.0,20.0,35.0,165.0,20.0,20.0,50.0,105.0,35.0,120.0,20.0,0.0,95.0,20.0,30.0,20.0,20.0,50.0,20.0,45.0,35.0,20.0,40.0,20.0,30.0,25.0,100.0,25.0,20.0,50.0,20.0,20.0,20.0,50.0,40.0,20.0,100.0,150.0,195.0,105.0,25.0,195.0,50.0,20.0,30.0,20.0,95.0,20.0,40.0,50.0,50.0,20.0,50.0,20.0,30.0,85.0,25.0,20.0,35.0,0.0,30.0,20.0,35.0,20.0,120.0,20.0,20.0,25.0,20.0,20.0,45.0,100.0,20.0,20.0,40.0,40.0,20.0,20.0,20.0,20.0,25.0,50.0,25.0,20.0,200.0,35.0,20.0,20.0,85.0,40.0,25.0,195.0,35.0,20.0,200.0,20.0,195.0,35.0,20.0,20.0,20.0,20.0,20.0,20.0,40.0,20.0,20.0,30.0,20.0,20.0,20.0,20.0,20.0,50.0,25.0,20.0,30.0,40.0,20.0,50.0,95.0,50.0,50.0,20.0,50.0,20.0,55.0,75.0,50.0,50.0,20.0,50.0,0.0,50.0,0.0,200.0,85.0,20.0,35.0,20.0,45.0,35.0,120.0,30.0,30.0,0.0,145.0,200.0,200.0,50.0,0.0,200.0,20.0,50.0,100.0,20.0,20.0,20.0,0.0,85.0,125.0,75.0,20.0,20.0,35.0,20.0,35.0,35.0,50.0,50.0,50.0,20.0,50.0,50.0,50.0,20.0,20.0,50.0,195.0,20.0,20.0,20.0,100.0,50.0,30.0,20.0,50.0,25.0,20.0,0.0,0.0,20.0,75.0,35.0,85.0,25.0,20.0,50.0,50.0,50.0,50.0,35.0,20.0,20.0,35.0,50.0,20.0,25.0,25.0,50.0,50.0,30.0,50.0,50.0,50.0,30.0,50.0,50.0,50.0,25.0,20.0,20.0,20.0,20.0,25.0,35.0,50.0,50.0,20.0,50.0,50.0,35.0,20.0,50.0,40.0,20.0,35.0,20.0,20.0,40.0,20.0,35.0,50.0,35.0,20.0,20.0,20.0,30.0,20.0,20.0,20.0,85.0,20.0,20.0,50.0,195.0,35.0,25.0,25.0,45.0,30.0,20.0,20.0,50.0,50.0,50.0,50.0,50.0,50.0,50.0,20.0,75.0,20.0,195.0,40.0,100.0,60.0,200.0,195.0,100.0,150.0,120.0,70.0,20.0,100.0,100.0,125.0,75.0,25.0,195.0,100.0,50.0,0.0,0.0,100.0,30.0,50.0,75.0,40.0,20.0,95.0,0.0,50.0,200.0,50.0,195.0,200.0,40.0,200.0,195.0,85.0,20.0,150.0,195.0,95.0,150.0,95.0,75.0,195.0,150.0,190.0,50.0,100.0,30.0,45.0,0.0,200.0,35.0,20.0,30.0,45.0,100.0,200.0,200.0,75.0,40.0,100.0,100.0,20.0,20.0,45.0,195.0,20.0,25.0,0.0,20.0,20.0,20.0,25.0,35.0,100.0,100.0,100.0,100.0,50.0,195.0,20.0,100.0,75.0,25.0,60.0,115.0,0.0,75.0,20.0,70.0,200.0,0.0,50.0,20.0,50.0,0.0,25.0,40.0,95.0,95.0,35.0,20.0,65.0,50.0,40.0,95.0,30.0,20.0,195.0,20.0,200.0,75.0,200.0,125.0,65.0,75.0,170.0,20.0,45.0,200.0,0.0,20.0,100.0,20.0,75.0,20.0,20.0,195.0,75.0,0.0,120.0,75.0,0.0,20.0,100.0,175.0,95.0,40.0,20.0,40.0,65.0,95.0,20.0,20.0,145.0,20.0,50.0,195.0,50.0,20.0,20.0,20.0,20.0,145.0,100.0,100.0,40.0,20.0,150.0,20.0,40.0,0.0,95.0,100.0,200.0,100.0,75.0,75.0,20.0,95.0,80.0,100.0,200.0,75.0,195.0,20.0,50.0,115.0,55.0,20.0,50.0,25.0,40.0,20.0,0.0,20.0,20.0,75.0,200.0,100.0,95.0,20.0,75.0,75.0,20.0,20.0,35.0,110.0,200.0,75.0,150.0,20.0,100.0,175.0,120.0,95.0,195.0,25.0,50.0,35.0,40.0,20.0,50.0,0.0,195.0,75.0,50.0,20.0,145.0,200.0,100.0,195.0,35.0,95.0,45.0,0.0,200.0,100.0,145.0,0.0,20.0,195.0,95.0,50.0,30.0,120.0,20.0,60.0,200.0,20.0,20.0,0.0,0.0,75.0,100.0,0.0,30.0,30.0,20.0,0.0,200.0,0.0,0.0,75.0,0.0,80.0,100.0,85.0,195.0,30.0,25.0,50.0,200.0,0.0,95.0,200.0,30.0,0.0,120.0,0.0,20.0,195.0,35.0,95.0,90.0,90.0,200.0,55.0,85.0,55.0,40.0,0.0,85.0,25.0,20.0,125.0,50.0,45.0,25.0,50.0,150.0,45.0,200.0,200.0,40.0,35.0,20.0,200.0,60.0,0.0,0.0,200.0,200.0,20.0,95.0,35.0,20.0,200.0,50.0,100.0,195.0,75.0,95.0,75.0,40.0,0.0,100.0,50.0,30.0,200.0,20.0,50.0,50.0,120.0,20.0,40.0,75.0,100.0,50.0,20.0,200.0,105.0,20.0,50.0,20.0,40.0,95.0,200.0,200.0,200.0,40.0,50.0,50.0,95.0,65.0,200.0,20.0,20.0,50.0,20.0,50.0,20.0,40.0,20.0,85.0,0.0,95.0,50.0,120.0,20.0,25.0,40.0,90.0,200.0,75.0,95.0,50.0,25.0,45.0,20.0,25.0,30.0,50.0,20.0,40.0],\"y0\":\" \",\"yaxis\":\"y\",\"type\":\"box\"},{\"alignmentgroup\":\"True\",\"hovertemplate\":\"variable=num_subscribers\\u003cbr\\u003evalue=%{y}\\u003cextra\\u003e\\u003c\\u002fextra\\u003e\",\"legendgroup\":\"num_subscribers\",\"marker\":{\"color\":\"#EF553B\"},\"name\":\"num_subscribers\",\"notched\":false,\"offsetgroup\":\"num_subscribers\",\"orientation\":\"v\",\"showlegend\":true,\"x0\":\" \",\"xaxis\":\"x2\",\"y\":[9221.0,2917.0,5172.0,4284.0,2276.0,2666.0,5354.0,8095.0,10149.0,5786.0,5334.0,4005.0,8797.0,7884.0,16900.0,22257.0,7489.0,20195.0,10042.0,10603.0,10605.0,2996.0,8314.0,5572.0,9445.0,7941.0,10100.0,5050.0,5528.0,6451.0,12394.0,16385.0,2697.0,4252.0,11958.0,7743.0,2146.0,2493.0,2602.0,2000.0,1513.0,2103.0,2516.0,50855.0,1971.0,17160.0,1723.0,2318.0,2153.0,19339.0,3177.0,2096.0,1315.0,29167.0,2212.0,3771.0,3143.0,1951.0,2283.0,4661.0,9015.0,6050.0,56659.0,2900.0,5057.0,4530.0,3050.0,2988.0,2623.0,1924.0,3804.0,4133.0,4086.0,3125.0,3348.0,2115.0,2230.0,2053.0,2222.0,1097.0,2506.0,975.0,1398.0,1096.0,1703.0,1446.0,2736.0,2000.0,3094.0,4117.0,3870.0,1338.0,1589.0,1189.0,701.0,1105.0,123.0,5874.0,727.0,627.0,650.0,739.0,2474.0,1580.0,617.0,2235.0,2293.0,1449.0,3251.0,607.0,1218.0,1132.0,3339.0,1271.0,1574.0,1393.0,843.0,1730.0,1182.0,1160.0,1260.0,871.0,1566.0,2987.0,2177.0,1850.0,12.0,13.0,2571.0,8.0,7.0,131.0,116.0,2092.0,2240.0,4601.0,4855.0,4034.0,26.0,11.0,106.0,2079.0,135.0,611.0,5007.0,1168.0,4653.0,454.0,562.0,10540.0,912.0,1135.0,2101.0,1048.0,1740.0,1749.0,1263.0,115.0,153.0,47.0,120.0,68.0,844.0,2045.0,1168.0,2342.0,2268.0,631.0,968.0,1132.0,1548.0,1169.0,690.0,1340.0,274.0,4863.0,1923.0,721.0,1276.0,8985.0,2591.0,2239.0,1882.0,3056.0,1303.0,2924.0,1405.0,1776.0,1643.0,951.0,1278.0,1184.0,3730.0,2338.0,3403.0,4695.0,2692.0,6374.0,2305.0,2490.0,2769.0,2187.0,1609.0,2895.0,4497.0,10338.0,3555.0,7159.0,11517.0,41.0,23.0,25.0,12.0,132.0,126.0,480.0,167.0,131.0,37.0,751.0,49.0,45.0,4269.0,124.0,811.0,956.0,126.0,26.0,91.0,30.0,226.0,4770.0,2046.0,472.0,388.0,1888.0,495.0,375.0,283.0,136.0,683.0,618.0,188.0,911.0,512.0,302.0,72.0,79.0,139.0,2247.0,1498.0,2317.0,65576.0,1202.0,22344.0,2189.0,5685.0,1512.0,1806.0,3757.0,828.0,613.0,246.0,367.0,3.0,3.0,2.0,3.0,2.0,1.0,731.0,507.0,375.0,1184.0,638.0,64.0,814.0,211.0,768.0,29.0,376.0,214.0,406.0,394.0,56.0,58.0,1047.0,166.0,217.0,35.0,80.0,1941.0,1519.0,2025.0,5099.0,869.0,1741.0,19614.0,8.0,8.0,11.0,18.0,16.0,210.0,273.0,237.0,86.0,204.0,570.0,225.0,37.0,218.0,50.0,148.0,260.0,299.0,65.0,92.0,21.0,49.0,168.0,16.0,20.0,28.0,11.0,360.0,9995.0,3426.0,592.0,1222.0,1532.0,5768.0,343.0,540.0,2031.0,29.0,6.0,70.0,110.0,632.0,4103.0,1489.0,1079.0,3667.0,2222.0,225.0,373.0,306.0,51.0,347.0,274.0,359.0,6024.0,280.0,401.0,701.0,789.0,17.0,16.0,117.0,147.0,247.0,143.0,621.0,6.0,5.0,2674.0,227.0,4480.0,1750.0,3360.0,3425.0,2688.0,1699.0,1037.0,653.0,2281.0,4702.0,521.0,135.0,23.0,112.0,2122.0,152.0,267.0,155.0,87.0,2146.0,154.0,4248.0,517.0,6050.0,5108.0,7750.0,564.0,2075.0,45.0,44.0,308.0,55.0,294.0,27.0,1732.0,3372.0,2185.0,1173.0,49.0,124.0,105.0,117.0,6533.0,30.0,91.0,28.0,83.0,623.0,737.0,554.0,807.0,779.0,1777.0,1909.0,775.0,1255.0,1193.0,1309.0,623.0,1942.0,885.0,461.0,1017.0,1074.0,74.0,37.0,2166.0,78.0,168.0,2801.0,12217.0,1334.0,1032.0,8236.0,2383.0,2650.0,1551.0,545.0,663.0,3519.0,397.0,1254.0,18.0,103.0,7.0,104.0,507.0,241.0,226.0,100.0,99.0,99.0,1192.0,5529.0,646.0,520.0,1440.0,209.0,16.0,25.0,10.0,459.0,266.0,1509.0,212.0,462.0,1055.0,157.0,103.0,27.0,27.0,335.0,16.0,12.0,10.0,12.0,5.0,9.0,42.0,110.0,420.0,206.0,69.0,28.0,31.0,2119.0,797.0,503.0,1150.0,1403.0,916.0,627.0,217.0,397.0,44.0,30.0,94.0,578.0,393.0,116.0,1888.0,412.0,831.0,485.0,232.0,135.0,61.0,61.0,874.0,22.0,5597.0,261.0,83.0,152.0,327.0,264.0,104.0,71.0,26.0,1294.0,32.0,1311.0,1102.0,694.0,137.0,170.0,119.0,2058.0,35.0,40.0,71.0,71.0,5.0,4.0,10.0,6.0,313.0,193.0,66.0,270.0,4876.0,244.0,31.0,40.0,45.0,6.0,5983.0,1673.0,1798.0,813.0,28.0,122.0,149.0,205.0,108.0,9.0,27.0,132.0,112.0,285.0,91.0,59.0,1362.0,1168.0,483.0,1542.0,384.0,454.0,312.0,315.0,1175.0,1013.0,1044.0,358.0,80.0,207.0,426.0,1280.0,142.0,188.0,718.0,293.0,894.0,829.0,1195.0,335.0,500.0,739.0,87.0,576.0,1046.0,486.0,106.0,38.0,32.0,171.0,79.0,397.0,85.0,1235.0,1573.0,952.0,551.0,788.0,944.0,323.0,2252.0,4297.0,4235.0,14440.0,381.0,15276.0,36288.0,15500.0,7282.0,8196.0,6858.0,18303.0,293.0,662.0,1279.0,1080.0,1085.0,447.0,721.0,736.0,114.0,331.0,0.0,0.0,0.0,0.0,334.0,817.0,637.0,6975.0,9464.0,25277.0,6028.0,5104.0,2476.0,3000.0,431.0,720.0,1552.0,1076.0,1016.0,919.0,1224.0,774.0,715.0,1768.0,426.0,3108.0,276.0,6754.0,5086.0,1146.0,1564.0,739.0,1029.0,2665.0,1079.0,1440.0,1401.0,1046.0,505.0,827.0,8786.0,1933.0,1504.0,1332.0,1150.0,1056.0,1350.0,1586.0,821.0,1150.0,1557.0,246.0,3103.0,1090.0,1235.0,1500.0,1452.0,24.0,20.0,33.0,97.0,8.0,10.0,5.0,3.0,311.0,447.0,616.0,797.0,549.0,274.0,709.0,3812.0,1373.0,441.0,661.0,300.0,211.0,65.0,43.0,190.0,129.0,123.0,38.0,3251.0,2091.0,1002.0,806.0,389.0,500.0,651.0,341.0,867.0,1825.0,2266.0,5175.0,797.0,2745.0,2361.0,1530.0,1873.0,1338.0,1479.0,934.0,6429.0,422.0,410.0,272.0,280.0,354.0,44044.0,1367.0,1754.0,2067.0,5301.0,4294.0,1679.0,740.0,1348.0,1249.0,1275.0,3117.0,4208.0,3903.0,1710.0,1606.0,23229.0,1456.0,1534.0,2199.0,1202.0,1526.0,1468.0,798.0,2044.0,1145.0,2228.0,2420.0,387.0,421.0,987.0,319.0,1087.0,270.0,124.0,371.0,1098.0,107.0,507.0,646.0,1738.0,2354.0,238.0,165.0,1080.0,706.0,507.0,770.0,1028.0,545.0,690.0,2911.0,734.0,4353.0,3481.0,711.0,1123.0,12103.0,1418.0,3390.0,53851.0,3.0,1.0,3.0,1.0,2.0,1.0,1.0,2.0,1.0,0.0,0.0,3.0,25.0,1.0,108.0,13.0,11.0,18.0,1905.0,3360.0,4927.0,2087.0,2938.0,2911.0,1797.0,3192.0,5072.0,1086.0,213.0,135.0,164.0,290.0,183.0,96.0,353.0,172.0,155.0,27.0,7.0,18.0,4.0,139.0,18.0,5.0,167.0,311.0,34.0,1522.0,6039.0,4449.0,24857.0,5840.0,6215.0,33205.0,41.0,314.0,239.0,507.0,228.0,21.0,92.0,177.0,668.0,92.0,8.0,22.0,11.0,9.0,9.0,6.0,4.0,1.0,2.0,4.0,4.0,1.0,1.0,1.0,0.0,885.0,2863.0,3525.0,2035.0,2267.0,1197.0,1043.0,1657.0,1282.0,220.0,481.0,1013.0,593.0,679.0,140.0,528.0,297.0,1207.0,36.0,13.0,5.0,3.0,970.0,342.0,229.0,437.0,500.0,725.0,142.0,317.0,50.0,115.0,780.0,0.0,0.0,0.0,9847.0,2416.0,11893.0,3381.0,3618.0,4080.0,57.0,91.0,6.0,5.0,34.0,5471.0,3599.0,4961.0,3377.0,1323.0,2599.0,6612.0,5850.0,2325.0,86.0,11.0,42.0,28.0,74.0,13.0,27.0,1433.0,110.0,19.0,87.0,802.0,14.0,1132.0,347.0,219.0,130.0,509.0,342.0,87.0,259.0,72.0,23.0,78.0,99.0,14.0,282.0,113.0,66.0,52.0,116.0,5000.0,972.0,2427.0,3131.0,5950.0,4550.0,2081.0,2424.0,57.0,50.0,262.0,45.0,272.0,10.0,12.0,43.0,165.0,17.0,34.0,293.0,113.0,72.0,155.0,48.0,1447.0,86.0,13.0,15.0,62.0,125.0,33.0,51.0,361.0,4.0,134.0,36.0,32.0,30.0,22.0,452.0,67.0,1081.0,189.0,775.0,88.0,598.0,145.0,445.0,237.0,1005.0,485.0,238.0,1116.0,105.0,23.0,82.0,13.0,19.0,94.0,98.0,91.0,121.0,494.0,518.0,214.0,33.0,817.0,286.0,774.0,41.0,30.0,837.0,11.0,254.0,40.0,84.0,23.0,32.0,1167.0,1589.0,1297.0,414.0,250.0,709.0,707.0,1199.0,966.0,1504.0,922.0,1213.0,257.0,1818.0,321.0,460.0,1720.0,1249.0,5830.0,14495.0,181.0,8240.0,582.0,1235.0,1842.0,3137.0,1582.0,2346.0,2543.0,1424.0,545.0,668.0,462.0,32935.0,8857.0,7178.0,1976.0,47652.0,4133.0,14560.0,7140.0,6271.0,228.0,65.0,83.0,8217.0,2357.0,1284.0,3122.0,32.0,12.0,73.0,276.0,29.0,17.0,22.0,17.0,11.0,8.0,6.0,14.0,11.0,377.0,273.0,406.0,556.0,736.0,365.0,146.0,92.0,288.0,594.0,13.0,103.0,261.0,45.0,3167.0,4452.0,332.0,158.0,480.0,228.0,66.0,10.0,10.0,13.0,10.0,78.0,162.0,261.0,44.0,98.0,92.0,12.0,238.0,512.0,115.0,147.0,5.0,7.0,4.0,4.0,4.0,3.0,3.0,3.0,17.0,11.0,78.0,119.0,297.0,333.0,209.0,184.0,376.0,169.0,265.0,292.0,114.0,245.0,68.0,57.0,17.0,79.0,21.0,12.0,353.0,137.0,71.0,215.0,80.0,56.0,59.0,7.0,151.0,75.0,31.0,237.0,384.0,30.0,75.0,70.0,200.0,73.0,192.0,57.0,181.0,438.0,244.0,10.0,10.0,9.0,7.0,7.0,6.0,6.0,5.0,5.0,43285.0,23764.0,24978.0,14074.0,2607.0,14813.0,6601.0,9421.0,9668.0,9384.0,6162.0,17714.0,9554.0,22213.0,18324.0,7852.0,7380.0,8234.0,23412.0,8691.0,10150.0,14026.0,21147.0,1385.0,1772.0,4123.0,2697.0,2472.0,5795.0,1811.0,26697.0,3011.0,24861.0,11262.0,17895.0,6497.0,7146.0,2353.0,3015.0,8711.0,18143.0,13882.0,57422.0,10179.0,18101.0,2789.0,14254.0,10518.0,6153.0,14103.0,9881.0,5089.0,2596.0,1783.0,12974.0,16212.0,12105.0,3877.0,2919.0,2409.0,7130.0,21730.0,3887.0,10890.0,5387.0,4563.0,3757.0,4193.0,3694.0,1905.0,2875.0,2382.0,3249.0,72932.0,2520.0,3150.0,4011.0,6937.0,4839.0,5715.0,4537.0,5117.0,6890.0,4628.0,31499.0,18777.0,13406.0,16731.0,1780.0,1157.0,2039.0,26541.0,16590.0,8320.0,4183.0,1266.0,5004.0,342.0,130.0,1018.0,4830.0,1087.0,245.0,353.0,464.0,298.0,2238.0,3380.0,4732.0,2626.0,5065.0,6413.0,7017.0,6510.0,3299.0,11574.0,22355.0,8577.0,5484.0,6293.0,8067.0,9332.0,3271.0,5077.0,6508.0,11758.0,1428.0,1518.0,1169.0,4743.0,1731.0,2749.0,3831.0,2071.0,8770.0,2837.0,2721.0,9786.0,1904.0,5456.0,2134.0,4675.0,1433.0,3461.0,2650.0,1640.0,1815.0,5318.0,7018.0,4020.0,6628.0,1248.0,4587.0,2351.0,3898.0,3185.0,17554.0,7368.0,10576.0,11643.0,2971.0,1355.0,2335.0,2051.0,1948.0,841.0,9364.0,694.0,1606.0,1215.0,11892.0,15106.0,21653.0,9028.0,5177.0,28125.0,14260.0,12873.0,12882.0,12368.0,7416.0,4407.0,1407.0,1186.0,1421.0,1550.0,1309.0,723.0,1318.0,12293.0,1447.0,948.0,2023.0,22999.0,3701.0,1388.0,2002.0,876.0,973.0,2177.0,1063.0,1309.0,7489.0,7501.0,4820.0,24575.0,14551.0,5800.0,2706.0,3420.0,7130.0,918.0,1520.0,461.0,333.0,305.0,644.0,415.0,4290.0,55332.0,4128.0,1949.0,6760.0,51257.0,28880.0,17334.0,33677.0,3485.0,2185.0,2573.0,59639.0,33788.0,2760.0,1628.0,6474.0,2388.0,1494.0,2073.0,1116.0,1154.0,885.0,1867.0,586.0,1448.0,1769.0,2281.0,20890.0,48650.0,1945.0,1193.0,11812.0,746.0,1551.0,954.0,15462.0,2421.0,41478.0,5533.0,533.0,8592.0,1236.0,1020.0,1142.0,1766.0,912.0,1305.0,3411.0,3397.0,30531.0,494.0,1586.0,1550.0,5421.0,707.0,12952.0,2299.0,4198.0,2470.0,2888.0,7789.0,10394.0,4714.0,11339.0,1156.0,1534.0,627.0,7484.0,876.0,1143.0,1442.0,1318.0,1553.0,1540.0,1655.0,869.0,1414.0,604.0,549.0,1220.0,1588.0,5368.0,5228.0,4529.0,2267.0,17463.0,23669.0,4040.0,1284.0,1098.0,481.0,1061.0,1312.0,11011.0,2784.0,2912.0,9687.0,12629.0,1659.0,651.0,1926.0,10917.0,1701.0,636.0,1478.0,2698.0,1062.0,613.0,2152.0,1566.0,2306.0,633.0,631.0,1853.0,1658.0,976.0,1276.0,1262.0,1780.0,1266.0,2389.0,1468.0,6000.0,7449.0,3399.0,9355.0,325.0,203.0,1096.0,424.0,4797.0,5129.0,5272.0,6008.0,3770.0,722.0,788.0,359.0,395.0,385.0,666.0,5014.0,458.0,586.0,735.0,1299.0,1316.0,1275.0,1526.0,442.0,1322.0,557.0,540.0,1557.0,2472.0,2650.0,2753.0,1454.0,555.0,436.0,513.0],\"y0\":\" \",\"yaxis\":\"y2\",\"type\":\"box\"},{\"alignmentgroup\":\"True\",\"hovertemplate\":\"variable=num_reviews\\u003cbr\\u003evalue=%{y}\\u003cextra\\u003e\\u003c\\u002fextra\\u003e\",\"legendgroup\":\"num_reviews\",\"marker\":{\"color\":\"#00cc96\"},\"name\":\"num_reviews\",\"notched\":false,\"offsetgroup\":\"num_reviews\",\"orientation\":\"v\",\"showlegend\":true,\"x0\":\" \",\"xaxis\":\"x3\",\"y\":[138.0,148.0,34.0,93.0,106.0,115.0,24.0,249.0,83.0,518.0,373.0,237.0,449.0,118.0,2476.0,2697.0,1190.0,1113.0,594.0,872.0,71.0,200.0,83.0,123.0,497.0,713.0,985.0,461.0,506.0,237.0,218.0,273.0,331.0,225.0,370.0,340.0,212.0,276.0,402.0,30.0,31.0,15.0,12.0,2698.0,13.0,620.0,38.0,19.0,14.0,794.0,8.0,48.0,48.0,1463.0,194.0,10.0,11.0,30.0,54.0,187.0,65.0,140.0,4397.0,424.0,142.0,13.0,86.0,21.0,158.0,351.0,267.0,15.0,31.0,54.0,352.0,59.0,102.0,234.0,9.0,252.0,21.0,23.0,15.0,24.0,59.0,23.0,3.0,31.0,2.0,54.0,12.0,139.0,26.0,12.0,12.0,3.0,16.0,207.0,64.0,15.0,107.0,28.0,6.0,26.0,44.0,3.0,9.0,29.0,10.0,55.0,30.0,33.0,4.0,23.0,24.0,27.0,54.0,12.0,110.0,117.0,80.0,79.0,48.0,23.0,31.0,40.0,1.0,1.0,32.0,1.0,1.0,2.0,10.0,77.0,185.0,38.0,64.0,8.0,9.0,2.0,11.0,258.0,5.0,57.0,41.0,5.0,395.0,52.0,11.0,799.0,27.0,10.0,51.0,11.0,5.0,41.0,21.0,6.0,8.0,5.0,18.0,10.0,33.0,3.0,38.0,9.0,4.0,49.0,81.0,70.0,24.0,7.0,17.0,4.0,41.0,202.0,4.0,12.0,46.0,584.0,44.0,4.0,51.0,9.0,21.0,6.0,14.0,14.0,18.0,25.0,33.0,15.0,11.0,224.0,29.0,7.0,25.0,21.0,19.0,95.0,54.0,218.0,137.0,56.0,281.0,52.0,89.0,61.0,92.0,1.0,1.0,1.0,1.0,3.0,2.0,3.0,6.0,3.0,2.0,1.0,10.0,4.0,60.0,7.0,5.0,4.0,20.0,4.0,6.0,5.0,26.0,64.0,9.0,34.0,56.0,6.0,47.0,10.0,13.0,14.0,16.0,10.0,10.0,2.0,13.0,6.0,9.0,1.0,3.0,53.0,30.0,44.0,936.0,76.0,712.0,4.0,5.0,23.0,38.0,70.0,1.0,33.0,8.0,11.0,0.0,0.0,0.0,0.0,0.0,1.0,2.0,36.0,15.0,2.0,25.0,15.0,9.0,9.0,23.0,9.0,29.0,20.0,13.0,25.0,8.0,8.0,3.0,17.0,7.0,4.0,10.0,128.0,40.0,34.0,2.0,135.0,85.0,635.0,1.0,2.0,0.0,0.0,0.0,1.0,4.0,1.0,7.0,1.0,2.0,1.0,7.0,5.0,18.0,3.0,18.0,5.0,3.0,15.0,1.0,10.0,2.0,1.0,1.0,1.0,1.0,24.0,96.0,27.0,109.0,14.0,7.0,109.0,84.0,44.0,15.0,2.0,2.0,3.0,1.0,49.0,19.0,32.0,34.0,4.0,24.0,2.0,3.0,0.0,2.0,0.0,1.0,86.0,890.0,40.0,67.0,55.0,68.0,2.0,2.0,15.0,4.0,2.0,15.0,1.0,2.0,2.0,81.0,3.0,12.0,71.0,12.0,10.0,61.0,40.0,3.0,55.0,12.0,17.0,60.0,2.0,7.0,1.0,30.0,2.0,9.0,4.0,25.0,35.0,7.0,66.0,5.0,34.0,9.0,58.0,9.0,69.0,4.0,5.0,4.0,5.0,5.0,4.0,11.0,12.0,3.0,22.0,8.0,2.0,9.0,3.0,32.0,5.0,5.0,5.0,10.0,7.0,41.0,63.0,19.0,56.0,11.0,8.0,54.0,8.0,24.0,4.0,43.0,5.0,69.0,45.0,74.0,6.0,1.0,3.0,38.0,6.0,9.0,6.0,351.0,86.0,60.0,144.0,6.0,5.0,5.0,48.0,10.0,102.0,24.0,2.0,4.0,3.0,3.0,1.0,5.0,5.0,5.0,23.0,12.0,17.0,12.0,90.0,6.0,10.0,0.0,33.0,4.0,1.0,1.0,25.0,20.0,0.0,25.0,18.0,21.0,13.0,25.0,5.0,5.0,16.0,0.0,1.0,1.0,1.0,2.0,0.0,2.0,6.0,2.0,13.0,2.0,2.0,2.0,111.0,15.0,43.0,6.0,6.0,6.0,5.0,19.0,4.0,3.0,3.0,15.0,7.0,5.0,6.0,42.0,19.0,1.0,24.0,7.0,20.0,16.0,3.0,2.0,5.0,76.0,2.0,4.0,6.0,1.0,0.0,2.0,3.0,6.0,7.0,7.0,2.0,3.0,35.0,14.0,0.0,0.0,22.0,2.0,1.0,1.0,1.0,0.0,1.0,0.0,0.0,14.0,19.0,16.0,22.0,210.0,13.0,5.0,6.0,2.0,2.0,135.0,547.0,40.0,94.0,3.0,2.0,0.0,1.0,2.0,3.0,2.0,9.0,16.0,6.0,11.0,11.0,7.0,9.0,10.0,1.0,40.0,52.0,24.0,28.0,92.0,128.0,8.0,8.0,10.0,8.0,17.0,1.0,4.0,7.0,5.0,14.0,62.0,78.0,3.0,25.0,45.0,54.0,22.0,1.0,5.0,3.0,14.0,7.0,6.0,8.0,5.0,4.0,5.0,31.0,122.0,77.0,22.0,3.0,44.0,30.0,240.0,337.0,427.0,182.0,24.0,1740.0,737.0,754.0,1629.0,479.0,382.0,202.0,5.0,5.0,3.0,6.0,76.0,2.0,7.0,50.0,24.0,24.0,0.0,0.0,0.0,0.0,26.0,42.0,21.0,122.0,329.0,311.0,205.0,437.0,466.0,470.0,99.0,220.0,11.0,11.0,5.0,57.0,10.0,39.0,16.0,20.0,63.0,27.0,54.0,109.0,197.0,41.0,103.0,12.0,52.0,20.0,172.0,16.0,30.0,12.0,88.0,50.0,245.0,25.0,10.0,31.0,68.0,15.0,29.0,8.0,15.0,10.0,11.0,30.0,42.0,14.0,15.0,11.0,21.0,5.0,3.0,3.0,9.0,1.0,3.0,2.0,1.0,49.0,6.0,3.0,13.0,10.0,10.0,14.0,68.0,5.0,53.0,4.0,40.0,34.0,8.0,12.0,25.0,27.0,12.0,3.0,158.0,11.0,29.0,53.0,20.0,29.0,5.0,57.0,203.0,24.0,26.0,470.0,30.0,61.0,74.0,49.0,121.0,38.0,49.0,143.0,654.0,120.0,15.0,11.0,46.0,27.0,1563.0,61.0,52.0,8.0,125.0,143.0,24.0,20.0,6.0,44.0,26.0,30.0,25.0,51.0,13.0,8.0,2215.0,62.0,24.0,28.0,68.0,3.0,190.0,198.0,108.0,42.0,96.0,27.0,24.0,10.0,2.0,11.0,6.0,28.0,8.0,5.0,3.0,16.0,2.0,30.0,8.0,12.0,25.0,17.0,15.0,10.0,42.0,8.0,2.0,13.0,162.0,17.0,9.0,23.0,37.0,48.0,31.0,576.0,57.0,49.0,1779.0,3.0,0.0,0.0,0.0,0.0,0.0,0.0,0.0,0.0,0.0,0.0,1.0,5.0,1.0,3.0,3.0,4.0,1.0,12.0,26.0,15.0,95.0,26.0,29.0,40.0,11.0,38.0,17.0,10.0,33.0,43.0,49.0,18.0,10.0,79.0,24.0,40.0,2.0,1.0,1.0,1.0,14.0,2.0,2.0,14.0,0.0,4.0,145.0,128.0,100.0,35.0,57.0,86.0,481.0,11.0,11.0,7.0,9.0,11.0,4.0,10.0,8.0,5.0,3.0,0.0,1.0,1.0,0.0,0.0,0.0,0.0,0.0,1.0,0.0,0.0,0.0,0.0,0.0,0.0,176.0,11.0,109.0,19.0,28.0,55.0,27.0,46.0,17.0,13.0,15.0,0.0,3.0,5.0,6.0,9.0,27.0,5.0,0.0,0.0,0.0,0.0,9.0,20.0,23.0,7.0,16.0,1.0,23.0,15.0,12.0,12.0,5.0,0.0,0.0,0.0,24.0,19.0,69.0,388.0,345.0,522.0,0.0,3.0,2.0,2.0,0.0,72.0,43.0,38.0,20.0,136.0,24.0,44.0,19.0,155.0,10.0,2.0,10.0,6.0,1.0,9.0,3.0,57.0,9.0,6.0,7.0,10.0,5.0,1.0,31.0,11.0,6.0,4.0,2.0,8.0,3.0,5.0,2.0,6.0,10.0,2.0,8.0,9.0,13.0,2.0,1.0,7.0,44.0,99.0,131.0,25.0,74.0,35.0,29.0,3.0,7.0,0.0,1.0,0.0,1.0,1.0,3.0,4.0,1.0,4.0,32.0,5.0,13.0,36.0,15.0,121.0,18.0,6.0,5.0,9.0,5.0,2.0,2.0,2.0,3.0,4.0,5.0,4.0,3.0,3.0,3.0,8.0,11.0,13.0,5.0,8.0,22.0,35.0,4.0,25.0,4.0,9.0,9.0,3.0,4.0,5.0,5.0,5.0,2.0,3.0,3.0,5.0,9.0,6.0,2.0,0.0,5.0,14.0,7.0,3.0,9.0,3.0,4.0,3.0,5.0,2.0,8.0,4.0,10.0,66.0,52.0,12.0,18.0,24.0,12.0,116.0,58.0,157.0,15.0,57.0,158.0,6.0,4.0,24.0,27.0,9.0,37.0,29.0,224.0,34.0,31.0,49.0,46.0,21.0,18.0,11.0,11.0,44.0,71.0,5.0,39.0,6.0,2713.0,718.0,260.0,252.0,1141.0,173.0,20.0,72.0,68.0,2.0,5.0,4.0,109.0,15.0,136.0,6.0,3.0,1.0,3.0,2.0,0.0,0.0,4.0,1.0,1.0,1.0,2.0,2.0,0.0,8.0,4.0,10.0,11.0,6.0,10.0,5.0,5.0,15.0,3.0,3.0,33.0,4.0,4.0,161.0,263.0,23.0,17.0,12.0,26.0,6.0,1.0,4.0,2.0,2.0,6.0,3.0,1.0,2.0,1.0,3.0,3.0,3.0,3.0,6.0,4.0,1.0,1.0,0.0,0.0,0.0,1.0,0.0,0.0,1.0,1.0,0.0,8.0,7.0,5.0,5.0,4.0,9.0,3.0,23.0,18.0,8.0,8.0,8.0,7.0,3.0,3.0,2.0,2.0,1.0,12.0,3.0,5.0,2.0,3.0,3.0,0.0,1.0,0.0,0.0,12.0,25.0,1.0,2.0,2.0,11.0,2.0,21.0,2.0,17.0,10.0,25.0,1.0,0.0,0.0,0.0,0.0,2.0,0.0,0.0,0.0,525.0,490.0,540.0,106.0,317.0,1358.0,1304.0,73.0,38.0,21.0,324.0,198.0,368.0,142.0,333.0,46.0,43.0,1111.0,799.0,836.0,997.0,232.0,1220.0,89.0,13.0,23.0,64.0,139.0,79.0,118.0,1097.0,57.0,423.0,142.0,212.0,901.0,629.0,47.0,30.0,44.0,159.0,63.0,874.0,68.0,88.0,243.0,27.0,129.0,125.0,1548.0,329.0,685.0,11.0,16.0,120.0,514.0,144.0,92.0,136.0,90.0,30.0,61.0,81.0,212.0,38.0,49.0,28.0,92.0,48.0,228.0,20.0,22.0,27.0,2575.0,183.0,69.0,24.0,22.0,129.0,52.0,415.0,463.0,99.0,247.0,450.0,1112.0,78.0,137.0,69.0,105.0,7.0,750.0,51.0,73.0,292.0,16.0,52.0,53.0,14.0,33.0,38.0,7.0,23.0,34.0,26.0,20.0,65.0,50.0,5.0,95.0,40.0,107.0,37.0,45.0,166.0,78.0,54.0,69.0,439.0,165.0,30.0,172.0,278.0,126.0,137.0,242.0,91.0,55.0,110.0,393.0,90.0,62.0,15.0,57.0,261.0,68.0,96.0,989.0,25.0,133.0,215.0,15.0,145.0,11.0,19.0,22.0,249.0,56.0,28.0,95.0,53.0,171.0,46.0,302.0,95.0,102.0,94.0,216.0,154.0,169.0,285.0,45.0,13.0,99.0,72.0,99.0,311.0,39.0,28.0,58.0,50.0,31.0,138.0,87.0,318.0,115.0,44.0,106.0,95.0,89.0,65.0,17.0,137.0,14.0,17.0,25.0,60.0,130.0,81.0,235.0,35.0,48.0,8.0,602.0,508.0,11.0,41.0,48.0,50.0,13.0,72.0,74.0,941.0,1213.0,983.0,525.0,169.0,185.0,179.0,489.0,39.0,8.0,21.0,67.0,15.0,40.0,42.0,67.0,150.0,1225.0,434.0,149.0,84.0,1955.0,4316.0,676.0,3809.0,22.0,283.0,103.0,2692.0,4434.0,76.0,162.0,86.0,139.0,23.0,24.0,62.0,89.0,3.0,19.0,65.0,173.0,49.0,32.0,945.0,1236.0,58.0,87.0,152.0,93.0,42.0,183.0,689.0,6.0,2104.0,137.0,54.0,336.0,18.0,46.0,148.0,38.0,128.0,38.0,84.0,12.0,1948.0,46.0,87.0,15.0,93.0,59.0,163.0,11.0,145.0,24.0,26.0,59.0,33.0,149.0,43.0,13.0,33.0,126.0,304.0,59.0,34.0,9.0,78.0,35.0,19.0,10.0,125.0,14.0,47.0,49.0,16.0,8.0,78.0,180.0,54.0,17.0,283.0,521.0,72.0,173.0,15.0,75.0,8.0,19.0,13.0,221.0,309.0,59.0,88.0,73.0,52.0,9.0,319.0,125.0,33.0,18.0,29.0,20.0,135.0,19.0,29.0,3.0,104.0,103.0,34.0,72.0,93.0,245.0,36.0,15.0,90.0,7.0,54.0,21.0,91.0,85.0,390.0,37.0,33.0,33.0,45.0,97.0,183.0,111.0,203.0,108.0,53.0,21.0,45.0,26.0,39.0,89.0,196.0,28.0,10.0,16.0,15.0,22.0,11.0,72.0,48.0,14.0,39.0,13.0,13.0,41.0,61.0,10.0,14.0,89.0,36.0,169.0],\"y0\":\" \",\"yaxis\":\"y3\",\"type\":\"box\"},{\"alignmentgroup\":\"True\",\"hovertemplate\":\"variable=num_lectures\\u003cbr\\u003evalue=%{y}\\u003cextra\\u003e\\u003c\\u002fextra\\u003e\",\"legendgroup\":\"num_lectures\",\"marker\":{\"color\":\"#ab63fa\"},\"name\":\"num_lectures\",\"notched\":false,\"offsetgroup\":\"num_lectures\",\"orientation\":\"v\",\"showlegend\":true,\"x0\":\" \",\"xaxis\":\"x4\",\"y\":[25.0,23.0,38.0,76.0,19.0,52.0,23.0,12.0,16.0,50.0,42.0,25.0,80.0,68.0,52.0,138.0,25.0,227.0,43.0,42.0,77.0,23.0,47.0,33.0,38.0,40.0,45.0,26.0,32.0,28.0,30.0,45.0,15.0,24.0,134.0,33.0,49.0,108.0,57.0,9.0,60.0,6.0,20.0,15.0,20.0,23.0,24.0,16.0,13.0,9.0,8.0,29.0,59.0,8.0,24.0,35.0,39.0,20.0,16.0,20.0,23.0,17.0,16.0,36.0,13.0,31.0,22.0,43.0,20.0,544.0,66.0,36.0,14.0,13.0,13.0,88.0,10.0,44.0,12.0,10.0,76.0,23.0,26.0,24.0,25.0,27.0,8.0,34.0,22.0,5.0,90.0,7.0,42.0,15.0,37.0,54.0,35.0,9.0,9.0,15.0,97.0,45.0,128.0,14.0,55.0,9.0,28.0,23.0,59.0,16.0,63.0,18.0,11.0,7.0,46.0,21.0,34.0,12.0,22.0,24.0,38.0,59.0,25.0,19.0,38.0,20.0,38.0,9.0,23.0,19.0,19.0,38.0,51.0,52.0,44.0,14.0,24.0,40.0,42.0,10.0,100.0,25.0,12.0,13.0,19.0,26.0,5.0,15.0,15.0,14.0,81.0,16.0,11.0,16.0,8.0,21.0,18.0,31.0,14.0,27.0,21.0,23.0,40.0,10.0,11.0,33.0,47.0,21.0,10.0,332.0,34.0,15.0,21.0,272.0,18.0,6.0,31.0,29.0,61.0,12.0,69.0,7.0,129.0,316.0,44.0,11.0,27.0,29.0,19.0,62.0,23.0,37.0,17.0,5.0,70.0,20.0,25.0,14.0,30.0,13.0,32.0,91.0,18.0,14.0,11.0,41.0,11.0,18.0,21.0,55.0,19.0,108.0,9.0,14.0,5.0,21.0,29.0,28.0,43.0,61.0,42.0,6.0,17.0,12.0,29.0,21.0,47.0,5.0,36.0,9.0,26.0,31.0,72.0,23.0,35.0,11.0,21.0,19.0,35.0,25.0,58.0,19.0,20.0,18.0,15.0,19.0,15.0,58.0,6.0,29.0,23.0,22.0,24.0,64.0,26.0,16.0,12.0,19.0,211.0,14.0,20.0,142.0,24.0,24.0,8.0,12.0,12.0,6.0,28.0,12.0,8.0,395.0,194.0,7.0,36.0,14.0,5.0,27.0,54.0,32.0,21.0,88.0,15.0,18.0,18.0,14.0,20.0,16.0,27.0,35.0,13.0,527.0,46.0,9.0,15.0,11.0,84.0,14.0,8.0,14.0,57.0,33.0,22.0,12.0,15.0,17.0,87.0,18.0,21.0,5.0,15.0,66.0,13.0,15.0,17.0,65.0,15.0,19.0,28.0,13.0,21.0,48.0,9.0,8.0,6.0,12.0,10.0,14.0,24.0,61.0,24.0,12.0,37.0,6.0,29.0,42.0,19.0,15.0,5.0,22.0,15.0,27.0,16.0,460.0,11.0,17.0,14.0,5.0,10.0,24.0,21.0,50.0,18.0,54.0,20.0,16.0,95.0,51.0,10.0,6.0,5.0,17.0,42.0,107.0,32.0,16.0,8.0,5.0,50.0,29.0,34.0,50.0,50.0,28.0,12.0,20.0,24.0,6.0,27.0,25.0,6.0,14.0,15.0,102.0,10.0,11.0,113.0,8.0,39.0,6.0,17.0,25.0,13.0,15.0,41.0,11.0,31.0,8.0,10.0,22.0,25.0,10.0,12.0,12.0,13.0,15.0,27.0,10.0,5.0,71.0,9.0,19.0,28.0,14.0,15.0,22.0,10.0,44.0,23.0,6.0,23.0,19.0,11.0,38.0,27.0,20.0,8.0,24.0,14.0,44.0,20.0,13.0,14.0,22.0,20.0,57.0,75.0,25.0,17.0,54.0,55.0,25.0,19.0,17.0,55.0,42.0,79.0,6.0,19.0,64.0,5.0,27.0,28.0,11.0,15.0,26.0,13.0,25.0,26.0,27.0,38.0,5.0,17.0,9.0,21.0,33.0,24.0,25.0,5.0,14.0,14.0,9.0,14.0,34.0,64.0,9.0,12.0,6.0,12.0,26.0,23.0,6.0,12.0,11.0,59.0,13.0,13.0,25.0,14.0,50.0,16.0,26.0,5.0,54.0,16.0,286.0,27.0,14.0,23.0,27.0,9.0,36.0,8.0,6.0,9.0,34.0,34.0,12.0,25.0,74.0,13.0,20.0,17.0,24.0,22.0,27.0,120.0,60.0,11.0,35.0,19.0,14.0,12.0,79.0,16.0,19.0,49.0,58.0,7.0,12.0,14.0,27.0,21.0,16.0,27.0,6.0,28.0,27.0,5.0,5.0,48.0,6.0,7.0,12.0,25.0,14.0,11.0,24.0,36.0,21.0,40.0,18.0,49.0,13.0,7.0,40.0,15.0,52.0,14.0,36.0,49.0,5.0,37.0,13.0,10.0,9.0,42.0,18.0,35.0,7.0,13.0,5.0,40.0,24.0,44.0,39.0,37.0,19.0,75.0,32.0,16.0,21.0,27.0,30.0,16.0,27.0,18.0,48.0,28.0,59.0,241.0,50.0,7.0,29.0,34.0,24.0,86.0,14.0,26.0,14.0,24.0,17.0,30.0,21.0,36.0,54.0,17.0,15.0,43.0,53.0,34.0,15.0,187.0,11.0,111.0,110.0,20.0,26.0,7.0,65.0,63.0,65.0,42.0,85.0,41.0,54.0,18.0,21.0,33.0,35.0,10.0,10.0,35.0,44.0,50.0,9.0,9.0,8.0,10.0,12.0,27.0,18.0,22.0,29.0,43.0,16.0,20.0,26.0,96.0,134.0,80.0,82.0,27.0,15.0,25.0,56.0,15.0,35.0,20.0,14.0,28.0,28.0,27.0,20.0,12.0,5.0,9.0,15.0,26.0,8.0,35.0,14.0,12.0,28.0,78.0,39.0,11.0,13.0,9.0,24.0,25.0,8.0,11.0,5.0,5.0,13.0,12.0,12.0,11.0,45.0,10.0,9.0,27.0,122.0,5.0,19.0,124.0,43.0,55.0,9.0,9.0,163.0,23.0,19.0,70.0,8.0,49.0,31.0,11.0,63.0,34.0,10.0,77.0,66.0,20.0,46.0,36.0,43.0,48.0,25.0,13.0,26.0,44.0,28.0,43.0,17.0,12.0,35.0,22.0,33.0,10.0,7.0,37.0,67.0,40.0,25.0,14.0,35.0,82.0,41.0,31.0,31.0,62.0,12.0,33.0,98.0,45.0,31.0,79.0,18.0,77.0,15.0,15.0,12.0,14.0,19.0,42.0,62.0,19.0,13.0,16.0,9.0,12.0,77.0,23.0,16.0,36.0,24.0,141.0,25.0,25.0,20.0,51.0,21.0,24.0,18.0,29.0,35.0,24.0,118.0,16.0,26.0,34.0,82.0,7.0,25.0,166.0,37.0,8.0,11.0,13.0,24.0,36.0,8.0,26.0,23.0,19.0,35.0,36.0,57.0,6.0,105.0,13.0,18.0,19.0,29.0,45.0,12.0,6.0,7.0,27.0,34.0,13.0,14.0,7.0,8.0,13.0,5.0,21.0,30.0,5.0,44.0,22.0,59.0,38.0,14.0,16.0,22.0,6.0,45.0,37.0,39.0,18.0,44.0,8.0,16.0,14.0,62.0,88.0,19.0,50.0,154.0,15.0,158.0,18.0,5.0,7.0,8.0,9.0,30.0,17.0,30.0,9.0,11.0,37.0,111.0,9.0,11.0,30.0,17.0,12.0,6.0,19.0,26.0,9.0,21.0,17.0,57.0,24.0,16.0,15.0,11.0,20.0,13.0,56.0,23.0,5.0,8.0,8.0,11.0,8.0,9.0,55.0,34.0,6.0,8.0,29.0,27.0,33.0,23.0,81.0,98.0,30.0,41.0,19.0,33.0,66.0,25.0,13.0,9.0,21.0,20.0,19.0,19.0,5.0,14.0,35.0,46.0,34.0,81.0,26.0,76.0,31.0,12.0,88.0,76.0,28.0,24.0,5.0,9.0,8.0,5.0,35.0,14.0,40.0,57.0,207.0,26.0,12.0,34.0,46.0,20.0,18.0,39.0,72.0,29.0,15.0,225.0,77.0,20.0,34.0,61.0,78.0,15.0,32.0,103.0,11.0,7.0,54.0,8.0,22.0,10.0,23.0,30.0,13.0,29.0,11.0,25.0,13.0,15.0,8.0,8.0,11.0,17.0,9.0,16.0,9.0,26.0,28.0,48.0,13.0,19.0,18.0,21.0,24.0,97.0,56.0,29.0,15.0,61.0,15.0,16.0,45.0,12.0,26.0,11.0,18.0,15.0,57.0,41.0,12.0,38.0,44.0,39.0,40.0,90.0,74.0,13.0,52.0,12.0,32.0,41.0,56.0,7.0,20.0,9.0,7.0,13.0,20.0,21.0,22.0,57.0,37.0,25.0,47.0,55.0,6.0,14.0,13.0,55.0,14.0,32.0,46.0,21.0,22.0,21.0,41.0,10.0,40.0,26.0,9.0,69.0,33.0,13.0,77.0,16.0,17.0,15.0,12.0,13.0,7.0,17.0,86.0,14.0,26.0,8.0,81.0,8.0,13.0,83.0,5.0,44.0,39.0,9.0,19.0,39.0,38.0,108.0,31.0,145.0,14.0,90.0,77.0,5.0,90.0,27.0,131.0,26.0,21.0,12.0,21.0,32.0,6.0,51.0,131.0,28.0,68.0,6.0,14.0,17.0,16.0,10.0,46.0,23.0,310.0,131.0,144.0,16.0,26.0,224.0,32.0,26.0,75.0,64.0,13.0,9.0,10.0,53.0,40.0,80.0,22.0,13.0,15.0,62.0,14.0,7.0,21.0,22.0,37.0,26.0,23.0,71.0,27.0,14.0,6.0,25.0,27.0,46.0,12.0,15.0,71.0,100.0,33.0,9.0,309.0,17.0,48.0,34.0,14.0,42.0,59.0,123.0,215.0,38.0,9.0,22.0,23.0,17.0,45.0,14.0,18.0,7.0,15.0,71.0,12.0,22.0,151.0,53.0,39.0,16.0,25.0,16.0,26.0,9.0,20.0,39.0,19.0,7.0,48.0,18.0,26.0,7.0,40.0,19.0,82.0,86.0,16.0,65.0,130.0,59.0,34.0,126.0,16.0,13.0,15.0,11.0,12.0,30.0,17.0,16.0,80.0,16.0,10.0,6.0,17.0,5.0,11.0,10.0,6.0,98.0,15.0,27.0,17.0,19.0,16.0,17.0,16.0,25.0,12.0,33.0,12.0,23.0,33.0,17.0,31.0,30.0,17.0,23.0,23.0,24.0,58.0,67.0,46.0,49.0,74.0,26.0,36.0,52.0,16.0,43.0,23.0,16.0,16.0,16.0,31.0,59.0,110.0,251.0,63.0,90.0,25.0,16.0,97.0,48.0,34.0,82.0,31.0,29.0,36.0,20.0,10.0,281.0,18.0,30.0,221.0,77.0,91.0,19.0,22.0,15.0,47.0,84.0,17.0,68.0,26.0,20.0,57.0,84.0,197.0,136.0,29.0,39.0,15.0,13.0,20.0,54.0,15.0,70.0,19.0,17.0,35.0,94.0,33.0,15.0,13.0,20.0,44.0,39.0,57.0,36.0,16.0,60.0,21.0,34.0,49.0,17.0,7.0,84.0,31.0,49.0,138.0,90.0,93.0,46.0,21.0,44.0,10.0,21.0,31.0,19.0,38.0,27.0,11.0,38.0,21.0,21.0,60.0,20.0,41.0,7.0,24.0,36.0,41.0,22.0,24.0,12.0,16.0,14.0,135.0,12.0,123.0,28.0,22.0,34.0,15.0,26.0,31.0,92.0,8.0,44.0,33.0,54.0,66.0,90.0,8.0,32.0,122.0,64.0,28.0,74.0,7.0,25.0,14.0,13.0,49.0,44.0,7.0,17.0,25.0,55.0,56.0,34.0,23.0,39.0,29.0,42.0,13.0,38.0,52.0,19.0,18.0,49.0,16.0,32.0,94.0,16.0,52.0,23.0,21.0,28.0,27.0,18.0,76.0,45.0,29.0,10.0,39.0,73.0,33.0,28.0,16.0,35.0,12.0,70.0,21.0,43.0,38.0,20.0,26.0,14.0,29.0,69.0,9.0,36.0,27.0,14.0,37.0,55.0,18.0,7.0,8.0,25.0,18.0,125.0,58.0,31.0,29.0,46.0,43.0,84.0,43.0,173.0,384.0,53.0,98.0,14.0,32.0,103.0,102.0,24.0,39.0,52.0,46.0,14.0,9.0,28.0,53.0,15.0,144.0,61.0,102.0,27.0,77.0,286.0,96.0,283.0,19.0,45.0,46.0,24.0,246.0,26.0,129.0,15.0,12.0,62.0,16.0,51.0,9.0,13.0,8.0,98.0,48.0,7.0,21.0,21.0,9.0,10.0,58.0,19.0,39.0,78.0,123.0,60.0,28.0,13.0,11.0,23.0,35.0,14.0,60.0,90.0,118.0,81.0,16.0,22.0,85.0,53.0,37.0,124.0,23.0,20.0,103.0,22.0,22.0,161.0,19.0,24.0,23.0,34.0,28.0,26.0,28.0,18.0,31.0,5.0,28.0,13.0,25.0,51.0,43.0,39.0,44.0,78.0,22.0,35.0,18.0,16.0,15.0,20.0,27.0,29.0,29.0,30.0,9.0,20.0,301.0,54.0,77.0,17.0,11.0,36.0,79.0,85.0,59.0,36.0,38.0,20.0,458.0,25.0,88.0,54.0,83.0,57.0,32.0,116.0,15.0,36.0,24.0,31.0,65.0,39.0,68.0,46.0,271.0,40.0,6.0,50.0,20.0,18.0,25.0,32.0,15.0,177.0,27.0,15.0,10.0,60.0,11.0,35.0,24.0,35.0,72.0,18.0,25.0,73.0,36.0,32.0,115.0,32.0,40.0,17.0,30.0,23.0,45.0,18.0,86.0,80.0,27.0,28.0,15.0,74.0,8.0,304.0,18.0,12.0,16.0,22.0,48.0],\"y0\":\" \",\"yaxis\":\"y4\",\"type\":\"box\"},{\"alignmentgroup\":\"True\",\"hovertemplate\":\"variable=content_duration\\u003cbr\\u003evalue=%{y}\\u003cextra\\u003e\\u003c\\u002fextra\\u003e\",\"legendgroup\":\"content_duration\",\"marker\":{\"color\":\"#FFA15A\"},\"name\":\"content_duration\",\"notched\":false,\"offsetgroup\":\"content_duration\",\"orientation\":\"v\",\"showlegend\":true,\"x0\":\" \",\"xaxis\":\"x5\",\"y\":[3.0,2.5,2.5,5.0,1.5,4.0,1.5,0.5833333333333334,2.0,5.0,4.5,2.0,6.5,10.0,5.5,7.5,1.0,16.0,3.0,5.5,3.0,2.0,4.0,5.5,4.5,6.5,11.0,1.5,3.0,5.0,2.5,3.0,1.0,2.0,11.5,1.5,4.5,9.5,5.0,1.0,5.5,1.5,1.5,1.5,1.5,1.0,1.0,5.0,1.5,2.0,1.0,0.6833333333333333,2.5,1.5,4.5,2.5,3.0,0.55,2.0,1.0,2.5,1.5,1.5,2.5,1.0,1.5,2.0,4.5,1.0,46.5,5.0,4.0,1.5,2.0,3.0,5.5,1.5,5.5,0.7,1.0,6.0,1.0,1.5,1.5,2.0,5.0,1.5,4.5,3.5,1.0,9.0,1.0,1.5,1.5,5.5,6.0,2.0,2.0,1.0,1.5,10.0,2.0,17.5,1.0,4.5,1.0,2.0,1.5,12.0,2.0,3.5,1.0,1.5,1.5,2.0,2.0,3.0,1.5,4.0,2.5,4.0,2.0,2.5,2.0,5.0,1.0,4.0,1.0,4.5,2.5,1.0,3.0,24.0,3.5,2.5,4.0,4.0,3.0,2.0,0.5,20.5,2.0,1.5,1.5,3.0,5.5,0.5166666666666666,2.0,1.0,1.5,2.5,1.5,2.0,1.5,1.0,1.0,1.5,4.0,1.5,2.5,2.0,0.5,2.0,2.0,0.6833333333333333,3.5,5.5,2.0,2.0,29.0,3.0,3.0,1.0,26.0,1.5,1.5,2.5,3.0,6.0,1.0,10.0,1.0,11.0,24.5,3.0,1.5,2.0,2.5,2.0,6.0,0.7166666666666667,6.0,2.5,1.5,8.0,1.0,1.5,1.0,1.5,3.0,1.5,13.0,1.0,1.0,1.0,2.5,1.5,2.0,1.5,7.5,1.0,3.5,0.7166666666666667,1.5,1.0,1.0,1.5,1.5,2.5,3.0,2.0,1.0,4.5,1.0,1.5,5.5,12.5,1.0,2.0,1.0,3.5,6.5,5.5,5.5,11.5,1.0,4.0,1.0,2.5,4.5,4.5,2.0,1.5,1.5,0.6666666666666666,2.0,3.5,6.0,1.5,4.0,2.0,2.0,8.0,3.5,3.5,1.5,3.5,1.5,19.5,0.6166666666666667,1.0,24.5,1.5,7.5,1.5,1.5,1.0,0.5666666666666667,2.5,0.5666666666666667,1.0,33.0,24.5,1.5,5.0,1.0,1.0,5.0,10.5,2.0,3.5,9.0,2.5,3.0,2.0,1.0,4.5,1.5,1.5,1.5,2.5,71.5,3.5,1.0,3.0,2.0,7.0,1.5,1.0,2.0,3.0,0.6166666666666667,1.5,1.5,0.5166666666666666,1.5,47.0,3.0,2.0,1.0,1.0,14.5,1.5,1.5,1.5,2.5,1.5,1.5,3.0,2.0,3.0,3.5,1.0,1.0,1.0,2.5,2.0,1.0,5.5,6.0,6.0,1.5,5.5,1.0,14.5,3.0,0.55,2.0,1.0,2.0,1.0,3.5,2.5,43.5,0.6,2.5,1.5,0.6333333333333333,2.0,4.5,3.5,5.5,1.0,4.0,1.5,1.5,14.0,6.5,1.0,1.5,1.0,1.5,3.5,14.5,1.0,1.5,1.0,1.0,7.0,3.0,3.0,4.0,2.0,3.5,2.0,2.5,5.5,1.0,2.5,7.5,0.4666666666666667,1.5,2.5,10.0,2.0,5.0,24.0,1.0,9.0,1.0,14.5,1.5,1.0,1.5,3.5,0.7333333333333333,1.5,0.5166666666666666,1.0,12.5,2.0,1.5,0.6833333333333333,2.0,2.0,2.5,3.5,2.0,1.0,3.5,2.0,1.5,5.0,1.0,2.5,6.0,2.0,4.0,6.0,1.0,1.0,2.0,1.5,3.0,1.5,1.5,2.5,1.5,0.7166666666666667,5.0,3.0,1.0,1.0,4.0,3.0,3.5,3.5,1.5,1.0,6.0,7.0,5.0,2.5,1.0,7.5,7.5,5.5,1.0,3.0,7.0,1.0,4.5,2.5,1.0,1.0,2.5,5.5,2.0,3.0,1.0,12.0,2.0,1.0,0.5333333333333333,1.0,70.0,4.0,6.0,1.0,3.0,3.0,0.7166666666666667,1.5,1.0,3.5,2.5,2.5,1.0,2.0,1.5,3.0,0.5333333333333333,1.5,1.5,2.0,1.5,1.5,4.0,1.0,10.0,1.0,2.5,1.0,2.0,3.0,29.5,2.5,2.0,6.5,1.0,2.0,3.0,1.0,1.0,1.0,6.0,5.0,3.0,2.0,13.0,2.0,3.5,1.0,4.0,2.5,5.0,13.5,2.5,1.0,2.5,0.6833333333333333,3.5,0.45,3.0,1.5,1.5,4.0,5.5,0.5166666666666666,1.5,0.5666666666666667,4.5,3.0,1.5,5.0,0.6,4.0,2.5,1.0,1.0,5.5,1.0,5.5,2.0,1.0,1.0,1.0,3.5,4.5,2.5,10.5,1.0,8.5,1.5,0.6166666666666667,5.5,1.5,5.0,1.0,7.5,4.5,1.0,3.5,1.5,1.0,1.0,4.0,1.5,8.5,1.5,3.0,0.6666666666666666,3.5,2.0,10.5,2.0,5.5,2.0,12.5,14.0,2.0,2.5,5.5,3.5,2.5,8.5,1.0,6.5,2.0,8.0,17.5,8.5,2.0,1.5,4.0,4.5,4.0,1.0,3.0,3.0,0.5666666666666667,8.0,4.0,3.0,1.0,3.5,1.5,2.5,5.5,3.0,1.5,0.6333333333333333,13.0,0.6166666666666667,21.0,7.5,1.5,3.0,0.6,8.0,5.0,68.5,3.5,6.5,3.5,3.5,1.0,1.0,1.5,3.0,1.0,1.0,5.0,7.5,3.5,1.0,0.6166666666666667,2.0,1.0,0.5666666666666667,1.0,5.0,2.5,2.5,2.0,1.0,2.5,1.0,11.0,12.0,7.5,12.5,2.5,2.5,1.5,5.5,1.5,2.5,1.0,0.6833333333333333,3.0,2.5,1.5,1.0,1.0,0.55,2.0,1.5,4.0,0.5666666666666667,5.0,1.5,0.7,1.0,11.5,2.5,1.0,1.0,1.5,2.0,3.5,0.5666666666666667,0.6333333333333333,0.5166666666666666,0.5333333333333333,1.0,1.5,0.6833333333333333,0.6666666666666666,4.5,1.0,0.6833333333333333,2.0,12.0,0.6833333333333333,3.0,13.5,5.5,2.5,0.6,1.5,10.5,3.5,1.5,14.0,1.0,3.5,2.5,1.5,2.5,6.5,1.5,4.5,6.5,1.5,9.5,2.0,9.0,3.0,1.0,0.5166666666666666,2.5,6.5,2.5,3.0,2.0,0.6666666666666666,7.0,3.0,2.5,1.0,0.5,2.0,8.5,5.5,4.0,1.0,3.0,6.5,12.0,2.5,3.5,7.5,2.0,5.0,13.0,7.5,3.0,12.5,1.5,6.5,1.0,1.0,0.5833333333333334,1.0,3.0,3.5,4.5,1.0,1.5,1.0,0.7333333333333333,1.0,6.5,1.5,1.0,3.5,2.0,8.0,0.6666666666666666,4.0,0.6333333333333333,4.5,1.5,2.0,1.0,1.5,2.0,2.0,8.0,1.5,3.5,1.5,8.0,0.6166666666666667,2.0,10.5,3.0,1.5,1.5,2.0,5.5,3.0,1.0,2.0,2.0,1.0,5.0,1.0,3.5,1.5,12.5,0.6333333333333333,1.0,1.5,4.5,4.5,0.6666666666666666,1.5,1.0,1.0,1.5,3.5,3.5,0.5666666666666667,1.0,2.5,1.0,2.5,9.5,0.6166666666666667,5.5,2.0,7.0,8.5,0.7333333333333333,2.0,2.5,0.6333333333333333,6.0,2.0,2.5,1.0,5.0,1.0,1.5,1.5,12.0,7.5,2.5,4.5,14.5,1.0,30.0,2.0,0.6166666666666667,1.0,0.6166666666666667,1.5,1.0,2.0,2.5,1.0,2.0,5.0,17.0,1.5,1.5,4.0,2.0,0.7,0.5833333333333334,1.5,4.0,1.0,4.0,0.7333333333333333,5.5,1.5,2.5,3.5,1.5,4.0,1.5,5.0,2.5,0.55,1.0,1.0,1.0,0.6833333333333333,2.0,4.5,3.5,1.0,0.6166666666666667,2.5,2.5,20.0,1.5,5.0,16.5,2.0,4.0,2.5,2.5,5.5,2.5,0.7,1.0,2.5,1.5,1.5,2.0,0.5666666666666667,1.5,5.0,4.0,2.0,5.0,7.5,5.0,2.0,0.6333333333333333,10.5,6.0,3.0,5.5,0.7166666666666667,0.5833333333333334,0.6,0.6166666666666667,4.0,1.0,3.0,15.0,20.5,2.0,2.0,2.0,4.5,1.5,1.0,6.5,5.0,2.0,2.0,78.5,7.5,1.0,1.0,8.0,6.0,3.0,4.5,12.0,1.5,1.0,3.0,1.0,2.5,1.0,2.0,2.0,1.0,2.0,4.0,2.0,1.0,0.5333333333333333,0.7166666666666667,1.0,1.5,1.0,0.6166666666666667,1.5,1.5,2.0,3.0,9.0,2.0,2.5,2.5,1.0,1.0,11.0,5.5,2.5,1.0,4.5,1.5,2.0,4.0,1.0,5.0,0.5,2.5,1.5,6.5,3.0,1.0,2.0,7.0,4.5,4.0,5.0,8.0,1.0,5.5,1.0,2.0,4.0,8.5,1.0,2.0,1.0,0.5166666666666666,0.5166666666666666,1.5,5.0,1.0,2.0,1.0,1.0,8.0,6.0,1.0,1.0,1.5,6.0,0.5333333333333333,6.0,9.5,2.5,2.5,2.5,2.0,0.6166666666666667,8.0,1.0,1.5,3.0,2.0,1.5,7.5,1.0,1.0,1.0,0.65,0.6333333333333333,1.0,3.0,8.0,1.5,2.0,0.5333333333333333,4.5,1.5,2.0,7.5,0.7,3.0,2.0,2.5,1.0,3.0,2.0,7.0,2.0,7.5,0.6833333333333333,10.5,5.0,1.0,2.5,2.5,8.0,2.5,3.0,1.0,2.0,5.0,1.5,5.5,7.5,1.5,1.5,0.4833333333333333,0.65,2.0,1.5,1.0,11.5,3.5,34.0,15.5,8.5,1.0,4.0,28.5,2.0,1.5,5.0,8.0,4.0,0.6666666666666666,1.0,5.0,12.5,4.0,1.5,1.5,2.0,5.5,1.0,1.5,3.5,2.5,2.5,3.5,3.0,3.5,3.0,1.5,1.5,2.0,4.0,5.0,0.5333333333333333,1.0,3.5,6.0,2.0,1.0,38.0,1.5,1.5,0.6166666666666667,1.0,2.0,2.5,7.0,10.5,2.5,0.7166666666666667,2.5,3.5,3.0,7.0,2.0,1.5,1.0,2.0,1.5,1.5,1.0,2.5,2.5,1.0,2.0,1.5,4.0,3.0,1.5,3.0,5.5,3.0,2.0,1.0,1.5,3.5,2.5,3.0,1.5,4.0,5.5,2.0,3.0,7.0,2.0,1.5,7.5,4.0,1.0,1.5,1.0,1.0,3.5,2.5,2.0,4.0,2.0,0.6333333333333333,2.0,0.5333333333333333,0.55,1.0,1.0,1.5,10.5,0.6166666666666667,0.7333333333333333,1.5,2.0,2.0,1.5,4.5,2.5,0.5666666666666667,6.0,1.0,4.0,3.5,3.0,3.5,3.0,3.0,3.0,3.0,4.0,5.5,7.0,12.0,5.0,13.5,3.5,3.5,4.0,1.5,4.0,3.5,1.5,1.0,1.0,3.5,2.5,7.5,45.0,11.0,16.0,1.0,1.5,11.0,2.5,3.5,11.5,4.0,2.5,3.5,1.0,1.0,22.5,2.0,4.0,18.0,14.5,10.0,2.5,1.5,2.0,3.0,7.5,1.5,5.5,3.5,1.5,4.5,5.0,21.5,12.0,3.5,4.0,0.6,1.0,1.0,7.5,1.5,7.0,2.5,1.0,2.5,8.5,5.0,1.0,1.5,1.0,2.5,4.0,6.0,4.5,1.5,6.5,1.0,1.5,3.5,1.5,1.0,4.0,3.0,9.0,14.5,10.5,12.0,4.0,1.5,1.5,1.0,1.5,3.0,1.0,3.0,2.5,0.7166666666666667,3.5,2.0,3.0,3.5,0.6166666666666667,3.0,0.5333333333333333,1.0,1.0,3.0,1.5,1.5,1.0,2.0,2.0,6.0,0.5333333333333333,9.0,3.5,2.0,4.0,1.0,1.5,1.5,12.5,1.0,3.5,3.5,2.5,3.5,6.5,1.0,3.0,19.0,7.5,3.0,4.0,0.6833333333333333,1.5,1.5,0.5333333333333333,7.0,5.5,0.7,0.7,1.0,7.0,6.0,5.5,1.5,2.0,2.0,5.0,1.5,3.0,3.5,1.0,1.5,4.0,2.5,3.0,8.0,1.5,2.0,2.5,1.0,3.0,3.5,1.0,13.0,5.0,3.5,0.5333333333333333,4.0,9.0,2.5,2.5,1.5,7.0,1.5,13.5,2.0,3.0,2.5,1.5,3.5,0.65,2.5,7.0,0.6666666666666666,4.0,1.5,1.5,6.5,7.0,3.0,0.6666666666666666,0.6,2.0,1.0,10.5,7.0,0.6666666666666666,3.0,4.5,4.0,5.5,5.0,16.0,76.5,11.5,19.5,1.5,3.5,13.0,14.5,2.0,2.5,10.5,3.5,1.0,2.0,1.5,7.0,0.6166666666666667,20.0,6.0,15.5,3.0,8.0,30.5,17.0,31.5,2.0,3.5,5.5,4.5,32.5,3.5,18.5,1.0,1.0,7.5,2.0,7.5,3.0,1.5,0.6166666666666667,5.5,7.5,0.5833333333333334,1.5,3.0,2.0,1.0,10.5,2.0,6.5,7.5,16.0,4.5,3.0,3.0,1.0,3.0,2.5,0.5,6.0,5.0,18.5,7.0,1.5,1.0,8.0,3.0,3.0,22.0,3.0,1.5,6.5,1.0,2.0,26.0,2.5,2.5,1.5,3.5,4.0,3.5,2.5,1.5,4.5,1.0,2.0,1.0,2.0,4.5,5.5,3.0,3.0,14.0,2.5,4.0,2.0,0.5666666666666667,0.5666666666666667,2.0,2.5,2.0,1.5,1.5,1.0,1.5,25.5,2.5,6.0,1.0,1.0,2.5,15.0,6.0,5.0,1.5,5.5,2.5,22.5,2.0,7.0,10.0,5.0,8.0,3.5,16.0,2.5,4.0,1.0,5.0,4.5,2.0,5.0,2.5,22.5,2.5,0.6,3.0,2.0,2.5,1.5,4.0,1.5,16.5,3.5,3.0,1.0,3.5,1.0,1.5,2.0,4.0,7.0,1.5,2.0,6.5,6.5,2.5,6.5,3.0,4.5,0.6333333333333333,1.5,1.0,5.0,1.0,6.5,6.5,3.0,2.5,0.6,14.0,1.0,15.5,2.0,0.5,2.5,1.5,3.5],\"y0\":\" \",\"yaxis\":\"y5\",\"type\":\"box\"}],                        {\"template\":{\"data\":{\"histogram2dcontour\":[{\"type\":\"histogram2dcontour\",\"colorbar\":{\"outlinewidth\":0,\"ticks\":\"\"},\"colorscale\":[[0.0,\"#0d0887\"],[0.1111111111111111,\"#46039f\"],[0.2222222222222222,\"#7201a8\"],[0.3333333333333333,\"#9c179e\"],[0.4444444444444444,\"#bd3786\"],[0.5555555555555556,\"#d8576b\"],[0.6666666666666666,\"#ed7953\"],[0.7777777777777778,\"#fb9f3a\"],[0.8888888888888888,\"#fdca26\"],[1.0,\"#f0f921\"]]}],\"choropleth\":[{\"type\":\"choropleth\",\"colorbar\":{\"outlinewidth\":0,\"ticks\":\"\"}}],\"histogram2d\":[{\"type\":\"histogram2d\",\"colorbar\":{\"outlinewidth\":0,\"ticks\":\"\"},\"colorscale\":[[0.0,\"#0d0887\"],[0.1111111111111111,\"#46039f\"],[0.2222222222222222,\"#7201a8\"],[0.3333333333333333,\"#9c179e\"],[0.4444444444444444,\"#bd3786\"],[0.5555555555555556,\"#d8576b\"],[0.6666666666666666,\"#ed7953\"],[0.7777777777777778,\"#fb9f3a\"],[0.8888888888888888,\"#fdca26\"],[1.0,\"#f0f921\"]]}],\"heatmap\":[{\"type\":\"heatmap\",\"colorbar\":{\"outlinewidth\":0,\"ticks\":\"\"},\"colorscale\":[[0.0,\"#0d0887\"],[0.1111111111111111,\"#46039f\"],[0.2222222222222222,\"#7201a8\"],[0.3333333333333333,\"#9c179e\"],[0.4444444444444444,\"#bd3786\"],[0.5555555555555556,\"#d8576b\"],[0.6666666666666666,\"#ed7953\"],[0.7777777777777778,\"#fb9f3a\"],[0.8888888888888888,\"#fdca26\"],[1.0,\"#f0f921\"]]}],\"heatmapgl\":[{\"type\":\"heatmapgl\",\"colorbar\":{\"outlinewidth\":0,\"ticks\":\"\"},\"colorscale\":[[0.0,\"#0d0887\"],[0.1111111111111111,\"#46039f\"],[0.2222222222222222,\"#7201a8\"],[0.3333333333333333,\"#9c179e\"],[0.4444444444444444,\"#bd3786\"],[0.5555555555555556,\"#d8576b\"],[0.6666666666666666,\"#ed7953\"],[0.7777777777777778,\"#fb9f3a\"],[0.8888888888888888,\"#fdca26\"],[1.0,\"#f0f921\"]]}],\"contourcarpet\":[{\"type\":\"contourcarpet\",\"colorbar\":{\"outlinewidth\":0,\"ticks\":\"\"}}],\"contour\":[{\"type\":\"contour\",\"colorbar\":{\"outlinewidth\":0,\"ticks\":\"\"},\"colorscale\":[[0.0,\"#0d0887\"],[0.1111111111111111,\"#46039f\"],[0.2222222222222222,\"#7201a8\"],[0.3333333333333333,\"#9c179e\"],[0.4444444444444444,\"#bd3786\"],[0.5555555555555556,\"#d8576b\"],[0.6666666666666666,\"#ed7953\"],[0.7777777777777778,\"#fb9f3a\"],[0.8888888888888888,\"#fdca26\"],[1.0,\"#f0f921\"]]}],\"surface\":[{\"type\":\"surface\",\"colorbar\":{\"outlinewidth\":0,\"ticks\":\"\"},\"colorscale\":[[0.0,\"#0d0887\"],[0.1111111111111111,\"#46039f\"],[0.2222222222222222,\"#7201a8\"],[0.3333333333333333,\"#9c179e\"],[0.4444444444444444,\"#bd3786\"],[0.5555555555555556,\"#d8576b\"],[0.6666666666666666,\"#ed7953\"],[0.7777777777777778,\"#fb9f3a\"],[0.8888888888888888,\"#fdca26\"],[1.0,\"#f0f921\"]]}],\"mesh3d\":[{\"type\":\"mesh3d\",\"colorbar\":{\"outlinewidth\":0,\"ticks\":\"\"}}],\"scatter\":[{\"fillpattern\":{\"fillmode\":\"overlay\",\"size\":10,\"solidity\":0.2},\"type\":\"scatter\"}],\"parcoords\":[{\"type\":\"parcoords\",\"line\":{\"colorbar\":{\"outlinewidth\":0,\"ticks\":\"\"}}}],\"scatterpolargl\":[{\"type\":\"scatterpolargl\",\"marker\":{\"colorbar\":{\"outlinewidth\":0,\"ticks\":\"\"}}}],\"bar\":[{\"error_x\":{\"color\":\"#2a3f5f\"},\"error_y\":{\"color\":\"#2a3f5f\"},\"marker\":{\"line\":{\"color\":\"#E5ECF6\",\"width\":0.5},\"pattern\":{\"fillmode\":\"overlay\",\"size\":10,\"solidity\":0.2}},\"type\":\"bar\"}],\"scattergeo\":[{\"type\":\"scattergeo\",\"marker\":{\"colorbar\":{\"outlinewidth\":0,\"ticks\":\"\"}}}],\"scatterpolar\":[{\"type\":\"scatterpolar\",\"marker\":{\"colorbar\":{\"outlinewidth\":0,\"ticks\":\"\"}}}],\"histogram\":[{\"marker\":{\"pattern\":{\"fillmode\":\"overlay\",\"size\":10,\"solidity\":0.2}},\"type\":\"histogram\"}],\"scattergl\":[{\"type\":\"scattergl\",\"marker\":{\"colorbar\":{\"outlinewidth\":0,\"ticks\":\"\"}}}],\"scatter3d\":[{\"type\":\"scatter3d\",\"line\":{\"colorbar\":{\"outlinewidth\":0,\"ticks\":\"\"}},\"marker\":{\"colorbar\":{\"outlinewidth\":0,\"ticks\":\"\"}}}],\"scattermapbox\":[{\"type\":\"scattermapbox\",\"marker\":{\"colorbar\":{\"outlinewidth\":0,\"ticks\":\"\"}}}],\"scatterternary\":[{\"type\":\"scatterternary\",\"marker\":{\"colorbar\":{\"outlinewidth\":0,\"ticks\":\"\"}}}],\"scattercarpet\":[{\"type\":\"scattercarpet\",\"marker\":{\"colorbar\":{\"outlinewidth\":0,\"ticks\":\"\"}}}],\"carpet\":[{\"aaxis\":{\"endlinecolor\":\"#2a3f5f\",\"gridcolor\":\"white\",\"linecolor\":\"white\",\"minorgridcolor\":\"white\",\"startlinecolor\":\"#2a3f5f\"},\"baxis\":{\"endlinecolor\":\"#2a3f5f\",\"gridcolor\":\"white\",\"linecolor\":\"white\",\"minorgridcolor\":\"white\",\"startlinecolor\":\"#2a3f5f\"},\"type\":\"carpet\"}],\"table\":[{\"cells\":{\"fill\":{\"color\":\"#EBF0F8\"},\"line\":{\"color\":\"white\"}},\"header\":{\"fill\":{\"color\":\"#C8D4E3\"},\"line\":{\"color\":\"white\"}},\"type\":\"table\"}],\"barpolar\":[{\"marker\":{\"line\":{\"color\":\"#E5ECF6\",\"width\":0.5},\"pattern\":{\"fillmode\":\"overlay\",\"size\":10,\"solidity\":0.2}},\"type\":\"barpolar\"}],\"pie\":[{\"automargin\":true,\"type\":\"pie\"}]},\"layout\":{\"autotypenumbers\":\"strict\",\"colorway\":[\"#636efa\",\"#EF553B\",\"#00cc96\",\"#ab63fa\",\"#FFA15A\",\"#19d3f3\",\"#FF6692\",\"#B6E880\",\"#FF97FF\",\"#FECB52\"],\"font\":{\"color\":\"#2a3f5f\"},\"hovermode\":\"closest\",\"hoverlabel\":{\"align\":\"left\"},\"paper_bgcolor\":\"white\",\"plot_bgcolor\":\"#E5ECF6\",\"polar\":{\"bgcolor\":\"#E5ECF6\",\"angularaxis\":{\"gridcolor\":\"white\",\"linecolor\":\"white\",\"ticks\":\"\"},\"radialaxis\":{\"gridcolor\":\"white\",\"linecolor\":\"white\",\"ticks\":\"\"}},\"ternary\":{\"bgcolor\":\"#E5ECF6\",\"aaxis\":{\"gridcolor\":\"white\",\"linecolor\":\"white\",\"ticks\":\"\"},\"baxis\":{\"gridcolor\":\"white\",\"linecolor\":\"white\",\"ticks\":\"\"},\"caxis\":{\"gridcolor\":\"white\",\"linecolor\":\"white\",\"ticks\":\"\"}},\"coloraxis\":{\"colorbar\":{\"outlinewidth\":0,\"ticks\":\"\"}},\"colorscale\":{\"sequential\":[[0.0,\"#0d0887\"],[0.1111111111111111,\"#46039f\"],[0.2222222222222222,\"#7201a8\"],[0.3333333333333333,\"#9c179e\"],[0.4444444444444444,\"#bd3786\"],[0.5555555555555556,\"#d8576b\"],[0.6666666666666666,\"#ed7953\"],[0.7777777777777778,\"#fb9f3a\"],[0.8888888888888888,\"#fdca26\"],[1.0,\"#f0f921\"]],\"sequentialminus\":[[0.0,\"#0d0887\"],[0.1111111111111111,\"#46039f\"],[0.2222222222222222,\"#7201a8\"],[0.3333333333333333,\"#9c179e\"],[0.4444444444444444,\"#bd3786\"],[0.5555555555555556,\"#d8576b\"],[0.6666666666666666,\"#ed7953\"],[0.7777777777777778,\"#fb9f3a\"],[0.8888888888888888,\"#fdca26\"],[1.0,\"#f0f921\"]],\"diverging\":[[0,\"#8e0152\"],[0.1,\"#c51b7d\"],[0.2,\"#de77ae\"],[0.3,\"#f1b6da\"],[0.4,\"#fde0ef\"],[0.5,\"#f7f7f7\"],[0.6,\"#e6f5d0\"],[0.7,\"#b8e186\"],[0.8,\"#7fbc41\"],[0.9,\"#4d9221\"],[1,\"#276419\"]]},\"xaxis\":{\"gridcolor\":\"white\",\"linecolor\":\"white\",\"ticks\":\"\",\"title\":{\"standoff\":15},\"zerolinecolor\":\"white\",\"automargin\":true,\"zerolinewidth\":2},\"yaxis\":{\"gridcolor\":\"white\",\"linecolor\":\"white\",\"ticks\":\"\",\"title\":{\"standoff\":15},\"zerolinecolor\":\"white\",\"automargin\":true,\"zerolinewidth\":2},\"scene\":{\"xaxis\":{\"backgroundcolor\":\"#E5ECF6\",\"gridcolor\":\"white\",\"linecolor\":\"white\",\"showbackground\":true,\"ticks\":\"\",\"zerolinecolor\":\"white\",\"gridwidth\":2},\"yaxis\":{\"backgroundcolor\":\"#E5ECF6\",\"gridcolor\":\"white\",\"linecolor\":\"white\",\"showbackground\":true,\"ticks\":\"\",\"zerolinecolor\":\"white\",\"gridwidth\":2},\"zaxis\":{\"backgroundcolor\":\"#E5ECF6\",\"gridcolor\":\"white\",\"linecolor\":\"white\",\"showbackground\":true,\"ticks\":\"\",\"zerolinecolor\":\"white\",\"gridwidth\":2}},\"shapedefaults\":{\"line\":{\"color\":\"#2a3f5f\"}},\"annotationdefaults\":{\"arrowcolor\":\"#2a3f5f\",\"arrowhead\":0,\"arrowwidth\":1},\"geo\":{\"bgcolor\":\"white\",\"landcolor\":\"#E5ECF6\",\"subunitcolor\":\"white\",\"showland\":true,\"showlakes\":true,\"lakecolor\":\"white\"},\"title\":{\"x\":0.05},\"mapbox\":{\"style\":\"light\"}}},\"xaxis\":{\"anchor\":\"y\",\"domain\":[0.0,0.18400000000000002]},\"yaxis\":{\"anchor\":\"x\",\"domain\":[0.0,1.0],\"title\":{\"text\":\"value\"}},\"xaxis2\":{\"anchor\":\"y2\",\"domain\":[0.20400000000000001,0.388],\"matches\":\"x\"},\"yaxis2\":{\"anchor\":\"x2\",\"domain\":[0.0,1.0],\"showticklabels\":false},\"xaxis3\":{\"anchor\":\"y3\",\"domain\":[0.40800000000000003,0.5920000000000001],\"matches\":\"x\"},\"yaxis3\":{\"anchor\":\"x3\",\"domain\":[0.0,1.0],\"showticklabels\":false},\"xaxis4\":{\"anchor\":\"y4\",\"domain\":[0.6120000000000001,0.7960000000000002],\"matches\":\"x\"},\"yaxis4\":{\"anchor\":\"x4\",\"domain\":[0.0,1.0],\"showticklabels\":false},\"xaxis5\":{\"anchor\":\"y5\",\"domain\":[0.8160000000000001,1.0],\"matches\":\"x\"},\"yaxis5\":{\"anchor\":\"x5\",\"domain\":[0.0,1.0],\"showticklabels\":false},\"annotations\":[{\"font\":{},\"showarrow\":false,\"text\":\"variable=price\",\"x\":0.09200000000000001,\"xanchor\":\"center\",\"xref\":\"paper\",\"y\":1.0,\"yanchor\":\"bottom\",\"yref\":\"paper\"},{\"font\":{},\"showarrow\":false,\"text\":\"variable=num_subscribers\",\"x\":0.29600000000000004,\"xanchor\":\"center\",\"xref\":\"paper\",\"y\":1.0,\"yanchor\":\"bottom\",\"yref\":\"paper\"},{\"font\":{},\"showarrow\":false,\"text\":\"variable=num_reviews\",\"x\":0.5,\"xanchor\":\"center\",\"xref\":\"paper\",\"y\":1.0,\"yanchor\":\"bottom\",\"yref\":\"paper\"},{\"font\":{},\"showarrow\":false,\"text\":\"variable=num_lectures\",\"x\":0.7040000000000002,\"xanchor\":\"center\",\"xref\":\"paper\",\"y\":1.0,\"yanchor\":\"bottom\",\"yref\":\"paper\"},{\"font\":{},\"showarrow\":false,\"text\":\"variable=content_duration\",\"x\":0.908,\"xanchor\":\"center\",\"xref\":\"paper\",\"y\":1.0,\"yanchor\":\"bottom\",\"yref\":\"paper\"}],\"legend\":{\"title\":{\"text\":\"variable\"},\"tracegroupgap\":0},\"margin\":{\"t\":60},\"boxmode\":\"overlay\"},                        {\"responsive\": true}                    ).then(function(){\n",
       "                            \n",
       "var gd = document.getElementById('72c74b99-d530-453a-aad0-60234188699f');\n",
       "var x = new MutationObserver(function (mutations, observer) {{\n",
       "        var display = window.getComputedStyle(gd).display;\n",
       "        if (!display || display === 'none') {{\n",
       "            console.log([gd, 'removed!']);\n",
       "            Plotly.purge(gd);\n",
       "            observer.disconnect();\n",
       "        }}\n",
       "}});\n",
       "\n",
       "// Listen for the removal of the full notebook cells\n",
       "var notebookContainer = gd.closest('#notebook-container');\n",
       "if (notebookContainer) {{\n",
       "    x.observe(notebookContainer, {childList: true});\n",
       "}}\n",
       "\n",
       "// Listen for the clearing of the current output cell\n",
       "var outputEl = gd.closest('.output');\n",
       "if (outputEl) {{\n",
       "    x.observe(outputEl, {childList: true});\n",
       "}}\n",
       "\n",
       "                        })                };                });            </script>        </div>"
      ]
     },
     "metadata": {},
     "output_type": "display_data"
    }
   ],
   "source": [
    "# check outliers\n",
    "\n",
    "px.box(profit_up_df_num.melt(),y= 'value', boxmode= 'overlay', color= 'variable', facet_col= 'variable').update_yaxes(matches= None)"
   ]
  },
  {
   "cell_type": "code",
   "execution_count": 81,
   "id": "8715dc28",
   "metadata": {
    "execution": {
     "iopub.execute_input": "2023-07-24T06:45:06.433079Z",
     "iopub.status.busy": "2023-07-24T06:45:06.432280Z",
     "iopub.status.idle": "2023-07-24T06:45:06.439050Z",
     "shell.execute_reply": "2023-07-24T06:45:06.437879Z"
    },
    "id": "KT8oAwRyb85p",
    "papermill": {
     "duration": 0.068398,
     "end_time": "2023-07-24T06:45:06.441486",
     "exception": false,
     "start_time": "2023-07-24T06:45:06.373088",
     "status": "completed"
    },
    "tags": []
   },
   "outputs": [],
   "source": [
    "# remove outliers\n",
    "\n",
    "profit_up_df= profit_up_df[profit_up_df['num_subscribers'] < 41000]"
   ]
  },
  {
   "cell_type": "code",
   "execution_count": 82,
   "id": "385b22da",
   "metadata": {
    "execution": {
     "iopub.execute_input": "2023-07-24T06:45:06.562495Z",
     "iopub.status.busy": "2023-07-24T06:45:06.561312Z",
     "iopub.status.idle": "2023-07-24T06:45:06.568719Z",
     "shell.execute_reply": "2023-07-24T06:45:06.567857Z"
    },
    "id": "HNXHs-DYcYYB",
    "papermill": {
     "duration": 0.069884,
     "end_time": "2023-07-24T06:45:06.570939",
     "exception": false,
     "start_time": "2023-07-24T06:45:06.501055",
     "status": "completed"
    },
    "tags": []
   },
   "outputs": [],
   "source": [
    "profit_up_df= profit_up_df[profit_up_df['num_reviews'] < 3809]"
   ]
  },
  {
   "cell_type": "code",
   "execution_count": 83,
   "id": "6e7a566f",
   "metadata": {
    "execution": {
     "iopub.execute_input": "2023-07-24T06:45:06.689899Z",
     "iopub.status.busy": "2023-07-24T06:45:06.689230Z",
     "iopub.status.idle": "2023-07-24T06:45:06.695041Z",
     "shell.execute_reply": "2023-07-24T06:45:06.694238Z"
    },
    "id": "0MFASpC_cot6",
    "papermill": {
     "duration": 0.067263,
     "end_time": "2023-07-24T06:45:06.697223",
     "exception": false,
     "start_time": "2023-07-24T06:45:06.629960",
     "status": "completed"
    },
    "tags": []
   },
   "outputs": [],
   "source": [
    "profit_up_df= profit_up_df[profit_up_df['num_lectures'] < 384]"
   ]
  },
  {
   "cell_type": "code",
   "execution_count": 84,
   "id": "fd5445b8",
   "metadata": {
    "execution": {
     "iopub.execute_input": "2023-07-24T06:45:06.816408Z",
     "iopub.status.busy": "2023-07-24T06:45:06.815636Z",
     "iopub.status.idle": "2023-07-24T06:45:06.821457Z",
     "shell.execute_reply": "2023-07-24T06:45:06.820628Z"
    },
    "id": "FqggIYpZcz1O",
    "papermill": {
     "duration": 0.06819,
     "end_time": "2023-07-24T06:45:06.823774",
     "exception": false,
     "start_time": "2023-07-24T06:45:06.755584",
     "status": "completed"
    },
    "tags": []
   },
   "outputs": [],
   "source": [
    "profit_up_df= profit_up_df[profit_up_df['content_duration'] < 68]"
   ]
  },
  {
   "cell_type": "code",
   "execution_count": 85,
   "id": "7b5e9a3c",
   "metadata": {
    "execution": {
     "iopub.execute_input": "2023-07-24T06:45:06.944407Z",
     "iopub.status.busy": "2023-07-24T06:45:06.943618Z",
     "iopub.status.idle": "2023-07-24T06:45:06.977586Z",
     "shell.execute_reply": "2023-07-24T06:45:06.976229Z"
    },
    "id": "EWxD_x3ydBPC",
    "outputId": "514cab61-f427-4648-c6f9-04311e2c115c",
    "papermill": {
     "duration": 0.096736,
     "end_time": "2023-07-24T06:45:06.980167",
     "exception": false,
     "start_time": "2023-07-24T06:45:06.883431",
     "status": "completed"
    },
    "tags": []
   },
   "outputs": [
    {
     "data": {
      "text/html": [
       "<div>\n",
       "<style scoped>\n",
       "    .dataframe tbody tr th:only-of-type {\n",
       "        vertical-align: middle;\n",
       "    }\n",
       "\n",
       "    .dataframe tbody tr th {\n",
       "        vertical-align: top;\n",
       "    }\n",
       "\n",
       "    .dataframe thead th {\n",
       "        text-align: right;\n",
       "    }\n",
       "</style>\n",
       "<table border=\"1\" class=\"dataframe\">\n",
       "  <thead>\n",
       "    <tr style=\"text-align: right;\">\n",
       "      <th></th>\n",
       "      <th>price</th>\n",
       "      <th>num_subscribers</th>\n",
       "      <th>num_reviews</th>\n",
       "      <th>num_lectures</th>\n",
       "      <th>content_duration</th>\n",
       "    </tr>\n",
       "  </thead>\n",
       "  <tbody>\n",
       "    <tr>\n",
       "      <th>count</th>\n",
       "      <td>1563.00</td>\n",
       "      <td>1563.00</td>\n",
       "      <td>1563.00</td>\n",
       "      <td>1563.00</td>\n",
       "      <td>1563.00</td>\n",
       "    </tr>\n",
       "    <tr>\n",
       "      <th>mean</th>\n",
       "      <td>60.77</td>\n",
       "      <td>2564.44</td>\n",
       "      <td>83.90</td>\n",
       "      <td>35.70</td>\n",
       "      <td>3.73</td>\n",
       "    </tr>\n",
       "    <tr>\n",
       "      <th>std</th>\n",
       "      <td>57.07</td>\n",
       "      <td>4518.02</td>\n",
       "      <td>218.05</td>\n",
       "      <td>37.89</td>\n",
       "      <td>4.42</td>\n",
       "    </tr>\n",
       "    <tr>\n",
       "      <th>min</th>\n",
       "      <td>0.00</td>\n",
       "      <td>0.00</td>\n",
       "      <td>0.00</td>\n",
       "      <td>5.00</td>\n",
       "      <td>0.45</td>\n",
       "    </tr>\n",
       "    <tr>\n",
       "      <th>25%</th>\n",
       "      <td>20.00</td>\n",
       "      <td>154.50</td>\n",
       "      <td>5.00</td>\n",
       "      <td>14.00</td>\n",
       "      <td>1.50</td>\n",
       "    </tr>\n",
       "    <tr>\n",
       "      <th>50%</th>\n",
       "      <td>40.00</td>\n",
       "      <td>956.00</td>\n",
       "      <td>19.00</td>\n",
       "      <td>24.00</td>\n",
       "      <td>2.50</td>\n",
       "    </tr>\n",
       "    <tr>\n",
       "      <th>75%</th>\n",
       "      <td>85.00</td>\n",
       "      <td>2638.00</td>\n",
       "      <td>64.00</td>\n",
       "      <td>42.00</td>\n",
       "      <td>4.50</td>\n",
       "    </tr>\n",
       "    <tr>\n",
       "      <th>max</th>\n",
       "      <td>200.00</td>\n",
       "      <td>36288.00</td>\n",
       "      <td>2713.00</td>\n",
       "      <td>332.00</td>\n",
       "      <td>47.00</td>\n",
       "    </tr>\n",
       "  </tbody>\n",
       "</table>\n",
       "</div>"
      ],
      "text/plain": [
       "         price  num_subscribers  num_reviews  num_lectures  content_duration\n",
       "count  1563.00          1563.00      1563.00       1563.00           1563.00\n",
       "mean     60.77          2564.44        83.90         35.70              3.73\n",
       "std      57.07          4518.02       218.05         37.89              4.42\n",
       "min       0.00             0.00         0.00          5.00              0.45\n",
       "25%      20.00           154.50         5.00         14.00              1.50\n",
       "50%      40.00           956.00        19.00         24.00              2.50\n",
       "75%      85.00          2638.00        64.00         42.00              4.50\n",
       "max     200.00         36288.00      2713.00        332.00             47.00"
      ]
     },
     "execution_count": 85,
     "metadata": {},
     "output_type": "execute_result"
    }
   ],
   "source": [
    "profit_up_df.describe().round(2)"
   ]
  },
  {
   "cell_type": "code",
   "execution_count": 86,
   "id": "a6f4c1ed",
   "metadata": {
    "execution": {
     "iopub.execute_input": "2023-07-24T06:45:07.099329Z",
     "iopub.status.busy": "2023-07-24T06:45:07.098566Z",
     "iopub.status.idle": "2023-07-24T06:45:07.104377Z",
     "shell.execute_reply": "2023-07-24T06:45:07.103505Z"
    },
    "id": "V3ZWhReqdsEm",
    "papermill": {
     "duration": 0.068088,
     "end_time": "2023-07-24T06:45:07.106741",
     "exception": false,
     "start_time": "2023-07-24T06:45:07.038653",
     "status": "completed"
    },
    "tags": []
   },
   "outputs": [],
   "source": [
    "# choose numerical values only\n",
    "\n",
    "profit_up_df_num= profit_up_df[['price', 'num_subscribers', 'num_reviews', 'num_lectures', 'content_duration']]"
   ]
  },
  {
   "cell_type": "code",
   "execution_count": 87,
   "id": "023b7ac6",
   "metadata": {
    "execution": {
     "iopub.execute_input": "2023-07-24T06:45:07.226012Z",
     "iopub.status.busy": "2023-07-24T06:45:07.225255Z",
     "iopub.status.idle": "2023-07-24T06:45:07.358205Z",
     "shell.execute_reply": "2023-07-24T06:45:07.357169Z"
    },
    "id": "O1E2sL1_dHr0",
    "outputId": "4b081d48-96c2-47e7-a07c-8058e1082ee2",
    "papermill": {
     "duration": 0.196199,
     "end_time": "2023-07-24T06:45:07.361514",
     "exception": false,
     "start_time": "2023-07-24T06:45:07.165315",
     "status": "completed"
    },
    "tags": []
   },
   "outputs": [
    {
     "data": {
      "text/html": [
       "<div>                            <div id=\"d3e5ad79-a7ef-4e7a-9757-f2cd625b8020\" class=\"plotly-graph-div\" style=\"height:525px; width:100%;\"></div>            <script type=\"text/javascript\">                require([\"plotly\"], function(Plotly) {                    window.PLOTLYENV=window.PLOTLYENV || {};                                    if (document.getElementById(\"d3e5ad79-a7ef-4e7a-9757-f2cd625b8020\")) {                    Plotly.newPlot(                        \"d3e5ad79-a7ef-4e7a-9757-f2cd625b8020\",                        [{\"alignmentgroup\":\"True\",\"hovertemplate\":\"variable=price\\u003cbr\\u003evalue=%{y}\\u003cextra\\u003e\\u003c\\u002fextra\\u003e\",\"legendgroup\":\"price\",\"marker\":{\"color\":\"#636efa\"},\"name\":\"price\",\"notched\":false,\"offsetgroup\":\"price\",\"orientation\":\"v\",\"showlegend\":true,\"x0\":\" \",\"xaxis\":\"x\",\"y\":[150.0,95.0,195.0,200.0,75.0,200.0,50.0,95.0,75.0,150.0,200.0,175.0,45.0,195.0,195.0,195.0,115.0,200.0,150.0,200.0,95.0,125.0,60.0,200.0,155.0,185.0,180.0,125.0,185.0,125.0,95.0,60.0,120.0,160.0,20.0,95.0,200.0,95.0,150.0,40.0,75.0,40.0,25.0,50.0,0.0,195.0,150.0,95.0,0.0,20.0,150.0,50.0,0.0,180.0,25.0,200.0,20.0,20.0,100.0,150.0,20.0,60.0,30.0,95.0,200.0,200.0,35.0,200.0,120.0,25.0,20.0,120.0,200.0,45.0,50.0,20.0,50.0,200.0,120.0,145.0,195.0,200.0,45.0,20.0,200.0,20.0,20.0,20.0,60.0,20.0,20.0,50.0,50.0,50.0,0.0,60.0,40.0,45.0,95.0,50.0,95.0,40.0,20.0,20.0,20.0,20.0,60.0,75.0,20.0,20.0,200.0,20.0,20.0,30.0,95.0,50.0,65.0,50.0,95.0,50.0,105.0,40.0,20.0,50.0,20.0,0.0,125.0,35.0,50.0,50.0,200.0,95.0,30.0,30.0,50.0,35.0,20.0,125.0,0.0,20.0,60.0,0.0,50.0,0.0,60.0,25.0,0.0,150.0,35.0,20.0,200.0,20.0,20.0,70.0,50.0,20.0,75.0,20.0,20.0,50.0,20.0,20.0,25.0,20.0,200.0,60.0,180.0,30.0,40.0,20.0,150.0,95.0,0.0,20.0,20.0,195.0,0.0,100.0,20.0,200.0,180.0,75.0,25.0,50.0,95.0,40.0,145.0,30.0,50.0,20.0,90.0,20.0,75.0,50.0,20.0,145.0,45.0,20.0,50.0,20.0,20.0,20.0,30.0,40.0,200.0,100.0,50.0,30.0,20.0,45.0,25.0,20.0,20.0,20.0,20.0,20.0,30.0,35.0,20.0,0.0,30.0,200.0,50.0,190.0,95.0,35.0,30.0,195.0,0.0,20.0,50.0,50.0,25.0,50.0,55.0,20.0,95.0,55.0,50.0,25.0,20.0,20.0,95.0,55.0,20.0,20.0,0.0,200.0,20.0,95.0,0.0,20.0,25.0,195.0,200.0,0.0,20.0,195.0,20.0,105.0,20.0,30.0,20.0,20.0,20.0,20.0,20.0,150.0,25.0,95.0,20.0,50.0,50.0,20.0,20.0,50.0,75.0,50.0,50.0,20.0,195.0,50.0,55.0,40.0,30.0,50.0,50.0,40.0,20.0,200.0,95.0,0.0,50.0,50.0,50.0,20.0,20.0,20.0,200.0,20.0,50.0,40.0,20.0,20.0,20.0,100.0,20.0,25.0,20.0,95.0,20.0,40.0,20.0,20.0,20.0,50.0,20.0,20.0,20.0,195.0,0.0,0.0,50.0,95.0,50.0,0.0,200.0,60.0,50.0,25.0,30.0,40.0,20.0,30.0,95.0,45.0,200.0,50.0,40.0,20.0,50.0,20.0,40.0,30.0,200.0,0.0,35.0,95.0,20.0,145.0,150.0,20.0,20.0,20.0,20.0,35.0,180.0,50.0,40.0,0.0,20.0,125.0,75.0,95.0,50.0,95.0,200.0,20.0,40.0,20.0,50.0,25.0,20.0,20.0,40.0,0.0,50.0,30.0,50.0,50.0,0.0,50.0,0.0,30.0,20.0,20.0,50.0,90.0,0.0,100.0,20.0,20.0,50.0,40.0,30.0,50.0,20.0,20.0,200.0,50.0,40.0,20.0,20.0,0.0,20.0,95.0,40.0,50.0,85.0,60.0,200.0,145.0,60.0,20.0,200.0,60.0,20.0,20.0,140.0,120.0,170.0,50.0,150.0,60.0,20.0,20.0,50.0,0.0,50.0,25.0,150.0,0.0,50.0,50.0,0.0,20.0,25.0,20.0,50.0,25.0,0.0,50.0,20.0,50.0,20.0,50.0,95.0,20.0,20.0,50.0,50.0,50.0,40.0,30.0,0.0,20.0,20.0,30.0,90.0,20.0,50.0,60.0,60.0,20.0,20.0,25.0,50.0,20.0,200.0,20.0,30.0,145.0,30.0,20.0,20.0,20.0,20.0,20.0,35.0,30.0,35.0,50.0,30.0,20.0,20.0,0.0,20.0,180.0,95.0,20.0,20.0,20.0,50.0,50.0,20.0,50.0,100.0,20.0,20.0,20.0,0.0,45.0,30.0,50.0,20.0,20.0,40.0,20.0,50.0,50.0,0.0,20.0,50.0,50.0,20.0,95.0,35.0,40.0,110.0,20.0,95.0,30.0,40.0,50.0,50.0,20.0,50.0,0.0,25.0,50.0,20.0,20.0,40.0,20.0,20.0,45.0,20.0,20.0,30.0,30.0,0.0,20.0,85.0,45.0,20.0,20.0,30.0,200.0,30.0,140.0,20.0,25.0,40.0,20.0,40.0,25.0,20.0,20.0,30.0,125.0,25.0,20.0,0.0,0.0,195.0,20.0,30.0,40.0,50.0,40.0,50.0,195.0,20.0,200.0,50.0,20.0,50.0,50.0,35.0,40.0,20.0,20.0,180.0,40.0,50.0,95.0,40.0,50.0,20.0,20.0,25.0,20.0,20.0,50.0,65.0,50.0,50.0,195.0,20.0,30.0,100.0,55.0,35.0,20.0,180.0,20.0,150.0,200.0,25.0,20.0,0.0,200.0,200.0,75.0,200.0,95.0,200.0,195.0,20.0,30.0,20.0,20.0,25.0,50.0,150.0,30.0,25.0,20.0,20.0,20.0,20.0,0.0,0.0,0.0,200.0,25.0,20.0,200.0,20.0,150.0,150.0,45.0,60.0,190.0,20.0,95.0,200.0,75.0,45.0,120.0,20.0,25.0,0.0,30.0,0.0,0.0,50.0,20.0,100.0,40.0,0.0,105.0,30.0,25.0,95.0,95.0,95.0,0.0,20.0,20.0,20.0,70.0,50.0,30.0,20.0,200.0,200.0,20.0,40.0,0.0,75.0,50.0,50.0,20.0,30.0,20.0,20.0,20.0,80.0,125.0,20.0,20.0,50.0,45.0,20.0,40.0,20.0,20.0,45.0,0.0,100.0,20.0,25.0,150.0,70.0,30.0,20.0,60.0,30.0,30.0,20.0,0.0,200.0,20.0,80.0,195.0,20.0,20.0,50.0,25.0,95.0,30.0,0.0,200.0,145.0,95.0,40.0,20.0,100.0,165.0,30.0,0.0,25.0,120.0,20.0,20.0,70.0,145.0,25.0,195.0,0.0,0.0,20.0,30.0,30.0,30.0,135.0,75.0,20.0,20.0,95.0,20.0,0.0,25.0,95.0,50.0,70.0,100.0,50.0,95.0,30.0,20.0,195.0,20.0,45.0,20.0,20.0,20.0,115.0,20.0,20.0,20.0,50.0,150.0,25.0,45.0,20.0,35.0,20.0,185.0,20.0,30.0,20.0,20.0,95.0,20.0,25.0,200.0,100.0,30.0,20.0,200.0,95.0,0.0,95.0,20.0,25.0,20.0,20.0,20.0,40.0,20.0,20.0,20.0,20.0,40.0,20.0,35.0,20.0,20.0,20.0,20.0,20.0,50.0,90.0,195.0,100.0,50.0,20.0,155.0,20.0,45.0,45.0,20.0,75.0,40.0,20.0,40.0,40.0,150.0,20.0,20.0,150.0,20.0,20.0,50.0,20.0,20.0,50.0,20.0,85.0,20.0,20.0,40.0,200.0,200.0,200.0,195.0,25.0,20.0,25.0,20.0,20.0,20.0,20.0,20.0,100.0,35.0,200.0,25.0,25.0,50.0,20.0,20.0,40.0,20.0,80.0,50.0,25.0,20.0,45.0,30.0,30.0,20.0,20.0,25.0,180.0,75.0,95.0,195.0,175.0,100.0,125.0,195.0,135.0,20.0,100.0,20.0,20.0,30.0,60.0,20.0,20.0,20.0,20.0,50.0,20.0,20.0,50.0,50.0,20.0,20.0,20.0,50.0,100.0,50.0,45.0,20.0,25.0,20.0,20.0,20.0,100.0,50.0,150.0,35.0,55.0,25.0,35.0,40.0,20.0,20.0,200.0,195.0,200.0,100.0,200.0,20.0,35.0,165.0,20.0,20.0,50.0,105.0,35.0,120.0,20.0,0.0,95.0,20.0,30.0,20.0,20.0,50.0,20.0,45.0,35.0,20.0,40.0,20.0,30.0,25.0,100.0,25.0,20.0,50.0,20.0,20.0,20.0,50.0,40.0,20.0,100.0,150.0,195.0,105.0,25.0,195.0,50.0,20.0,30.0,20.0,95.0,20.0,40.0,50.0,50.0,20.0,50.0,20.0,30.0,85.0,25.0,20.0,35.0,0.0,30.0,20.0,35.0,20.0,120.0,20.0,20.0,25.0,20.0,20.0,45.0,100.0,20.0,20.0,40.0,40.0,20.0,20.0,20.0,20.0,25.0,50.0,25.0,20.0,200.0,35.0,20.0,20.0,85.0,40.0,25.0,195.0,35.0,20.0,200.0,20.0,195.0,35.0,20.0,20.0,20.0,20.0,20.0,20.0,40.0,20.0,20.0,30.0,20.0,20.0,20.0,20.0,20.0,50.0,25.0,20.0,30.0,40.0,20.0,50.0,95.0,50.0,50.0,20.0,50.0,20.0,55.0,75.0,50.0,50.0,20.0,50.0,0.0,50.0,0.0,200.0,85.0,20.0,35.0,20.0,45.0,35.0,120.0,30.0,30.0,0.0,145.0,200.0,200.0,50.0,200.0,20.0,50.0,100.0,20.0,20.0,20.0,0.0,85.0,125.0,75.0,20.0,20.0,35.0,20.0,35.0,35.0,50.0,50.0,50.0,20.0,50.0,50.0,50.0,20.0,20.0,50.0,195.0,20.0,20.0,20.0,100.0,50.0,30.0,20.0,50.0,25.0,20.0,0.0,0.0,20.0,75.0,35.0,85.0,25.0,20.0,50.0,50.0,50.0,50.0,35.0,20.0,20.0,35.0,50.0,20.0,25.0,25.0,50.0,50.0,30.0,50.0,50.0,50.0,30.0,50.0,50.0,50.0,25.0,20.0,20.0,20.0,20.0,25.0,35.0,50.0,50.0,20.0,50.0,50.0,35.0,20.0,50.0,40.0,20.0,35.0,20.0,20.0,40.0,20.0,35.0,50.0,35.0,20.0,20.0,20.0,30.0,20.0,20.0,20.0,85.0,20.0,20.0,50.0,195.0,35.0,25.0,25.0,45.0,30.0,20.0,20.0,50.0,50.0,50.0,50.0,50.0,50.0,50.0,20.0,20.0,195.0,40.0,100.0,60.0,200.0,195.0,100.0,150.0,120.0,70.0,20.0,100.0,100.0,125.0,75.0,25.0,195.0,100.0,50.0,0.0,0.0,100.0,30.0,50.0,75.0,40.0,20.0,95.0,0.0,50.0,200.0,50.0,195.0,200.0,40.0,200.0,195.0,85.0,20.0,150.0,95.0,150.0,95.0,75.0,195.0,150.0,190.0,50.0,100.0,30.0,45.0,0.0,200.0,35.0,20.0,30.0,45.0,100.0,200.0,200.0,75.0,40.0,100.0,100.0,20.0,20.0,45.0,195.0,20.0,25.0,20.0,20.0,20.0,25.0,35.0,100.0,100.0,100.0,100.0,50.0,195.0,20.0,100.0,75.0,25.0,60.0,115.0,0.0,75.0,20.0,70.0,200.0,0.0,50.0,20.0,50.0,0.0,25.0,40.0,95.0,95.0,35.0,20.0,65.0,50.0,40.0,95.0,30.0,20.0,195.0,20.0,200.0,75.0,200.0,125.0,65.0,75.0,170.0,20.0,45.0,200.0,0.0,20.0,100.0,20.0,75.0,20.0,20.0,195.0,75.0,0.0,120.0,75.0,0.0,20.0,100.0,175.0,95.0,40.0,20.0,40.0,65.0,95.0,20.0,20.0,145.0,20.0,50.0,195.0,50.0,20.0,20.0,20.0,20.0,145.0,100.0,100.0,40.0,20.0,150.0,20.0,40.0,0.0,95.0,100.0,200.0,100.0,75.0,75.0,20.0,95.0,80.0,100.0,200.0,75.0,195.0,20.0,50.0,115.0,55.0,20.0,50.0,25.0,40.0,20.0,0.0,20.0,20.0,75.0,200.0,100.0,95.0,20.0,75.0,75.0,20.0,20.0,35.0,110.0,75.0,150.0,20.0,100.0,175.0,120.0,95.0,195.0,25.0,50.0,35.0,40.0,20.0,50.0,0.0,75.0,50.0,20.0,100.0,35.0,95.0,45.0,100.0,145.0,0.0,20.0,195.0,95.0,50.0,30.0,120.0,20.0,60.0,200.0,20.0,20.0,0.0,75.0,100.0,0.0,30.0,30.0,20.0,0.0,200.0,0.0,75.0,0.0,80.0,100.0,85.0,195.0,30.0,25.0,50.0,200.0,0.0,95.0,200.0,30.0,0.0,120.0,0.0,20.0,195.0,35.0,95.0,90.0,90.0,200.0,55.0,85.0,55.0,40.0,0.0,85.0,25.0,20.0,125.0,50.0,45.0,25.0,50.0,150.0,45.0,200.0,200.0,40.0,35.0,20.0,200.0,60.0,0.0,0.0,200.0,200.0,20.0,95.0,35.0,20.0,200.0,50.0,100.0,195.0,75.0,95.0,75.0,0.0,100.0,50.0,30.0,200.0,20.0,50.0,50.0,120.0,20.0,40.0,75.0,100.0,50.0,20.0,200.0,105.0,20.0,50.0,20.0,40.0,95.0,200.0,200.0,200.0,40.0,50.0,50.0,95.0,65.0,200.0,20.0,20.0,50.0,20.0,50.0,20.0,40.0,20.0,85.0,0.0,95.0,50.0,120.0,20.0,25.0,40.0,90.0,200.0,75.0,95.0,50.0,25.0,45.0,20.0,25.0,30.0,50.0,20.0,40.0],\"y0\":\" \",\"yaxis\":\"y\",\"type\":\"box\"},{\"alignmentgroup\":\"True\",\"hovertemplate\":\"variable=num_subscribers\\u003cbr\\u003evalue=%{y}\\u003cextra\\u003e\\u003c\\u002fextra\\u003e\",\"legendgroup\":\"num_subscribers\",\"marker\":{\"color\":\"#EF553B\"},\"name\":\"num_subscribers\",\"notched\":false,\"offsetgroup\":\"num_subscribers\",\"orientation\":\"v\",\"showlegend\":true,\"x0\":\" \",\"xaxis\":\"x2\",\"y\":[9221.0,2917.0,5172.0,4284.0,2276.0,2666.0,5354.0,8095.0,10149.0,5786.0,5334.0,4005.0,8797.0,7884.0,16900.0,22257.0,7489.0,20195.0,10042.0,10603.0,10605.0,2996.0,8314.0,5572.0,9445.0,7941.0,10100.0,5050.0,5528.0,6451.0,12394.0,16385.0,2697.0,4252.0,11958.0,7743.0,2146.0,2493.0,2602.0,2000.0,1513.0,2103.0,2516.0,1971.0,17160.0,1723.0,2318.0,2153.0,19339.0,3177.0,2096.0,1315.0,29167.0,2212.0,3771.0,3143.0,1951.0,2283.0,4661.0,9015.0,6050.0,2900.0,5057.0,4530.0,3050.0,2988.0,2623.0,3804.0,4133.0,4086.0,3125.0,3348.0,2115.0,2230.0,2053.0,2222.0,1097.0,2506.0,975.0,1398.0,1096.0,1703.0,1446.0,2736.0,2000.0,3094.0,4117.0,3870.0,1338.0,1589.0,1189.0,701.0,1105.0,123.0,5874.0,727.0,627.0,650.0,739.0,2474.0,1580.0,617.0,2235.0,2293.0,1449.0,3251.0,607.0,1218.0,1132.0,3339.0,1271.0,1574.0,1393.0,843.0,1730.0,1182.0,1160.0,1260.0,871.0,1566.0,2987.0,2177.0,1850.0,12.0,13.0,2571.0,8.0,7.0,131.0,116.0,2092.0,2240.0,4601.0,4855.0,4034.0,26.0,11.0,106.0,2079.0,135.0,611.0,5007.0,1168.0,4653.0,454.0,562.0,10540.0,912.0,1135.0,2101.0,1048.0,1740.0,1749.0,1263.0,115.0,153.0,47.0,120.0,68.0,844.0,2045.0,1168.0,2342.0,2268.0,631.0,968.0,1132.0,1548.0,1169.0,690.0,1340.0,274.0,4863.0,1923.0,721.0,1276.0,8985.0,2591.0,2239.0,1882.0,3056.0,1303.0,2924.0,1405.0,1776.0,1643.0,951.0,1278.0,1184.0,3730.0,2338.0,3403.0,4695.0,2692.0,6374.0,2305.0,2490.0,2769.0,2187.0,1609.0,2895.0,4497.0,10338.0,3555.0,7159.0,11517.0,41.0,23.0,25.0,12.0,132.0,126.0,480.0,167.0,131.0,37.0,751.0,49.0,45.0,4269.0,124.0,811.0,956.0,126.0,26.0,91.0,30.0,226.0,4770.0,2046.0,472.0,388.0,1888.0,495.0,375.0,283.0,136.0,683.0,618.0,188.0,911.0,512.0,302.0,72.0,79.0,139.0,2247.0,1498.0,2317.0,1202.0,22344.0,2189.0,5685.0,1512.0,1806.0,3757.0,828.0,613.0,246.0,367.0,3.0,3.0,2.0,3.0,2.0,1.0,731.0,375.0,1184.0,638.0,64.0,814.0,211.0,768.0,29.0,376.0,214.0,406.0,394.0,56.0,58.0,1047.0,166.0,217.0,35.0,80.0,1519.0,2025.0,5099.0,869.0,1741.0,19614.0,8.0,8.0,11.0,18.0,16.0,210.0,273.0,237.0,86.0,204.0,570.0,225.0,37.0,218.0,50.0,148.0,260.0,299.0,65.0,92.0,21.0,49.0,168.0,16.0,20.0,28.0,11.0,360.0,9995.0,3426.0,592.0,1222.0,1532.0,5768.0,343.0,540.0,2031.0,29.0,6.0,70.0,110.0,632.0,4103.0,1489.0,1079.0,2222.0,225.0,373.0,306.0,51.0,347.0,274.0,359.0,6024.0,280.0,401.0,701.0,789.0,17.0,16.0,117.0,147.0,247.0,143.0,621.0,6.0,5.0,2674.0,227.0,4480.0,1750.0,3360.0,3425.0,2688.0,1699.0,1037.0,653.0,2281.0,4702.0,521.0,135.0,23.0,112.0,2122.0,152.0,267.0,155.0,87.0,2146.0,154.0,4248.0,517.0,6050.0,5108.0,7750.0,564.0,2075.0,45.0,44.0,308.0,55.0,294.0,27.0,1732.0,3372.0,2185.0,1173.0,49.0,124.0,105.0,117.0,6533.0,30.0,91.0,28.0,83.0,623.0,737.0,554.0,807.0,779.0,1777.0,1909.0,775.0,1255.0,1193.0,1309.0,623.0,1942.0,885.0,461.0,1017.0,1074.0,74.0,37.0,2166.0,78.0,168.0,2801.0,12217.0,1334.0,1032.0,8236.0,2383.0,2650.0,1551.0,545.0,663.0,3519.0,397.0,1254.0,18.0,103.0,7.0,104.0,507.0,241.0,226.0,100.0,99.0,99.0,1192.0,5529.0,646.0,520.0,1440.0,16.0,25.0,10.0,459.0,266.0,1509.0,212.0,462.0,1055.0,157.0,103.0,27.0,27.0,335.0,16.0,12.0,10.0,12.0,5.0,9.0,42.0,110.0,420.0,206.0,69.0,28.0,31.0,2119.0,797.0,503.0,1150.0,1403.0,916.0,627.0,217.0,397.0,44.0,30.0,94.0,578.0,393.0,116.0,1888.0,412.0,831.0,485.0,232.0,135.0,61.0,61.0,874.0,22.0,5597.0,261.0,83.0,152.0,327.0,264.0,104.0,71.0,26.0,1294.0,32.0,1311.0,1102.0,694.0,137.0,170.0,119.0,2058.0,35.0,40.0,71.0,71.0,5.0,4.0,10.0,6.0,313.0,193.0,66.0,270.0,4876.0,244.0,31.0,40.0,45.0,6.0,5983.0,1673.0,1798.0,813.0,28.0,122.0,149.0,205.0,108.0,9.0,27.0,132.0,112.0,285.0,91.0,59.0,1362.0,1168.0,483.0,1542.0,384.0,454.0,312.0,315.0,1175.0,1013.0,1044.0,358.0,80.0,207.0,426.0,1280.0,142.0,188.0,718.0,293.0,894.0,829.0,1195.0,335.0,500.0,739.0,87.0,576.0,1046.0,486.0,106.0,38.0,32.0,171.0,79.0,397.0,85.0,1235.0,1573.0,952.0,551.0,788.0,944.0,323.0,2252.0,4297.0,4235.0,14440.0,381.0,15276.0,36288.0,7282.0,8196.0,6858.0,18303.0,293.0,662.0,1279.0,1080.0,1085.0,447.0,721.0,736.0,114.0,331.0,0.0,0.0,0.0,0.0,334.0,817.0,637.0,6975.0,9464.0,25277.0,6028.0,5104.0,2476.0,3000.0,431.0,720.0,1552.0,1076.0,1016.0,919.0,1224.0,774.0,715.0,1768.0,426.0,3108.0,276.0,6754.0,5086.0,1146.0,1564.0,739.0,1029.0,2665.0,1079.0,1440.0,1401.0,1046.0,505.0,827.0,8786.0,1933.0,1504.0,1332.0,1150.0,1056.0,1350.0,1586.0,821.0,1150.0,1557.0,246.0,3103.0,1090.0,1235.0,1500.0,1452.0,24.0,20.0,33.0,97.0,8.0,10.0,5.0,3.0,311.0,447.0,616.0,797.0,549.0,274.0,709.0,3812.0,1373.0,441.0,661.0,300.0,211.0,65.0,43.0,190.0,129.0,123.0,38.0,3251.0,2091.0,1002.0,806.0,389.0,500.0,651.0,341.0,867.0,1825.0,2266.0,5175.0,797.0,2745.0,2361.0,1530.0,1873.0,1338.0,1479.0,934.0,6429.0,422.0,410.0,272.0,280.0,354.0,1367.0,1754.0,2067.0,5301.0,4294.0,1679.0,740.0,1348.0,1249.0,1275.0,3117.0,4208.0,3903.0,1710.0,1606.0,23229.0,1456.0,1534.0,2199.0,1202.0,1526.0,1468.0,798.0,2044.0,1145.0,2228.0,2420.0,387.0,421.0,987.0,319.0,1087.0,270.0,124.0,371.0,1098.0,107.0,507.0,646.0,1738.0,2354.0,238.0,165.0,1080.0,706.0,507.0,770.0,1028.0,545.0,690.0,2911.0,734.0,4353.0,3481.0,711.0,1123.0,12103.0,1418.0,3390.0,3.0,1.0,3.0,1.0,2.0,1.0,1.0,2.0,1.0,0.0,0.0,3.0,25.0,1.0,108.0,13.0,11.0,18.0,1905.0,3360.0,4927.0,2087.0,2938.0,2911.0,1797.0,3192.0,5072.0,1086.0,213.0,135.0,164.0,290.0,183.0,96.0,353.0,172.0,155.0,27.0,7.0,18.0,4.0,139.0,18.0,5.0,167.0,311.0,34.0,1522.0,6039.0,4449.0,24857.0,5840.0,6215.0,33205.0,41.0,314.0,239.0,507.0,228.0,21.0,92.0,177.0,668.0,92.0,8.0,22.0,11.0,9.0,9.0,6.0,4.0,1.0,2.0,4.0,4.0,1.0,1.0,1.0,0.0,885.0,2863.0,3525.0,2035.0,2267.0,1197.0,1043.0,1657.0,1282.0,220.0,481.0,1013.0,593.0,679.0,140.0,528.0,297.0,1207.0,36.0,13.0,5.0,3.0,970.0,342.0,229.0,437.0,500.0,725.0,142.0,317.0,50.0,115.0,780.0,0.0,0.0,0.0,9847.0,2416.0,11893.0,3381.0,3618.0,4080.0,57.0,91.0,6.0,5.0,34.0,5471.0,3599.0,4961.0,3377.0,2599.0,6612.0,5850.0,2325.0,86.0,11.0,42.0,28.0,74.0,13.0,27.0,1433.0,110.0,19.0,87.0,802.0,14.0,1132.0,347.0,219.0,130.0,509.0,342.0,87.0,259.0,72.0,23.0,78.0,99.0,14.0,282.0,113.0,66.0,52.0,116.0,5000.0,972.0,2427.0,3131.0,5950.0,4550.0,2081.0,2424.0,57.0,50.0,262.0,45.0,272.0,10.0,12.0,43.0,165.0,17.0,34.0,293.0,113.0,72.0,155.0,48.0,1447.0,86.0,13.0,15.0,62.0,125.0,33.0,51.0,361.0,4.0,134.0,36.0,32.0,30.0,22.0,452.0,67.0,1081.0,189.0,775.0,88.0,598.0,145.0,445.0,237.0,1005.0,485.0,238.0,1116.0,105.0,23.0,82.0,13.0,19.0,94.0,98.0,91.0,121.0,494.0,518.0,214.0,33.0,817.0,286.0,774.0,41.0,30.0,837.0,11.0,254.0,40.0,84.0,23.0,32.0,1167.0,1589.0,1297.0,414.0,250.0,709.0,707.0,1199.0,966.0,1504.0,922.0,1213.0,257.0,1818.0,321.0,460.0,1720.0,1249.0,5830.0,14495.0,181.0,8240.0,582.0,1235.0,1842.0,3137.0,1582.0,2346.0,2543.0,1424.0,545.0,668.0,462.0,32935.0,8857.0,7178.0,1976.0,4133.0,14560.0,7140.0,6271.0,228.0,65.0,83.0,8217.0,2357.0,1284.0,3122.0,32.0,12.0,73.0,276.0,29.0,17.0,22.0,17.0,11.0,8.0,6.0,14.0,11.0,377.0,273.0,406.0,556.0,736.0,365.0,146.0,92.0,288.0,594.0,13.0,103.0,261.0,45.0,3167.0,4452.0,332.0,158.0,480.0,228.0,66.0,10.0,10.0,13.0,10.0,78.0,162.0,261.0,44.0,98.0,92.0,12.0,238.0,512.0,115.0,147.0,5.0,7.0,4.0,4.0,4.0,3.0,3.0,3.0,17.0,11.0,78.0,119.0,297.0,333.0,209.0,184.0,376.0,169.0,265.0,292.0,114.0,245.0,68.0,57.0,17.0,79.0,21.0,12.0,353.0,137.0,71.0,215.0,80.0,56.0,59.0,7.0,151.0,75.0,31.0,237.0,384.0,30.0,75.0,70.0,200.0,73.0,192.0,57.0,181.0,438.0,244.0,10.0,10.0,9.0,7.0,7.0,6.0,6.0,5.0,5.0,23764.0,24978.0,14074.0,2607.0,14813.0,6601.0,9421.0,9668.0,9384.0,6162.0,17714.0,9554.0,22213.0,18324.0,7852.0,7380.0,8234.0,23412.0,8691.0,10150.0,14026.0,21147.0,1385.0,1772.0,4123.0,2697.0,2472.0,5795.0,1811.0,26697.0,3011.0,24861.0,11262.0,17895.0,6497.0,7146.0,2353.0,3015.0,8711.0,18143.0,13882.0,10179.0,18101.0,2789.0,14254.0,10518.0,6153.0,14103.0,9881.0,5089.0,2596.0,1783.0,12974.0,16212.0,12105.0,3877.0,2919.0,2409.0,7130.0,21730.0,3887.0,10890.0,5387.0,4563.0,3757.0,4193.0,3694.0,1905.0,2875.0,2382.0,3249.0,2520.0,3150.0,4011.0,6937.0,4839.0,5715.0,4537.0,5117.0,6890.0,4628.0,31499.0,18777.0,13406.0,16731.0,1780.0,1157.0,2039.0,26541.0,16590.0,8320.0,4183.0,1266.0,5004.0,342.0,130.0,1018.0,4830.0,1087.0,245.0,353.0,464.0,298.0,2238.0,3380.0,4732.0,2626.0,5065.0,6413.0,7017.0,6510.0,3299.0,11574.0,22355.0,8577.0,5484.0,6293.0,8067.0,9332.0,3271.0,5077.0,6508.0,11758.0,1428.0,1518.0,1169.0,4743.0,1731.0,2749.0,3831.0,2071.0,8770.0,2837.0,2721.0,9786.0,1904.0,5456.0,2134.0,4675.0,1433.0,3461.0,2650.0,1640.0,1815.0,5318.0,7018.0,4020.0,6628.0,1248.0,4587.0,2351.0,3898.0,3185.0,17554.0,7368.0,10576.0,11643.0,2971.0,1355.0,2335.0,2051.0,1948.0,841.0,9364.0,694.0,1606.0,1215.0,11892.0,15106.0,21653.0,9028.0,5177.0,28125.0,14260.0,12873.0,12882.0,12368.0,7416.0,4407.0,1407.0,1186.0,1421.0,1550.0,1309.0,723.0,1318.0,12293.0,1447.0,948.0,2023.0,22999.0,3701.0,1388.0,2002.0,876.0,973.0,2177.0,1063.0,1309.0,7489.0,4820.0,24575.0,14551.0,5800.0,2706.0,3420.0,7130.0,918.0,1520.0,461.0,333.0,305.0,644.0,415.0,4290.0,4128.0,1949.0,6760.0,17334.0,3485.0,2185.0,2573.0,2760.0,1628.0,6474.0,2388.0,1494.0,2073.0,1116.0,1154.0,885.0,1867.0,586.0,1448.0,1769.0,2281.0,20890.0,1945.0,1193.0,11812.0,746.0,1551.0,954.0,15462.0,2421.0,5533.0,533.0,8592.0,1236.0,1020.0,1142.0,1766.0,912.0,1305.0,3411.0,3397.0,30531.0,494.0,1586.0,1550.0,5421.0,707.0,12952.0,2299.0,4198.0,2470.0,2888.0,7789.0,10394.0,4714.0,11339.0,1156.0,1534.0,627.0,7484.0,876.0,1143.0,1442.0,1318.0,1553.0,1540.0,1655.0,869.0,1414.0,604.0,549.0,1220.0,1588.0,5368.0,5228.0,4529.0,2267.0,17463.0,23669.0,4040.0,1284.0,1098.0,481.0,1061.0,1312.0,11011.0,2784.0,2912.0,9687.0,12629.0,1659.0,651.0,10917.0,1701.0,636.0,1478.0,2698.0,1062.0,613.0,2152.0,1566.0,2306.0,633.0,631.0,1853.0,1658.0,976.0,1276.0,1262.0,1780.0,1266.0,2389.0,1468.0,6000.0,7449.0,3399.0,9355.0,325.0,203.0,1096.0,424.0,4797.0,5129.0,5272.0,6008.0,3770.0,722.0,788.0,359.0,395.0,385.0,666.0,5014.0,458.0,586.0,735.0,1299.0,1316.0,1275.0,1526.0,442.0,1322.0,557.0,540.0,1557.0,2472.0,2650.0,2753.0,1454.0,555.0,436.0,513.0],\"y0\":\" \",\"yaxis\":\"y2\",\"type\":\"box\"},{\"alignmentgroup\":\"True\",\"hovertemplate\":\"variable=num_reviews\\u003cbr\\u003evalue=%{y}\\u003cextra\\u003e\\u003c\\u002fextra\\u003e\",\"legendgroup\":\"num_reviews\",\"marker\":{\"color\":\"#00cc96\"},\"name\":\"num_reviews\",\"notched\":false,\"offsetgroup\":\"num_reviews\",\"orientation\":\"v\",\"showlegend\":true,\"x0\":\" \",\"xaxis\":\"x3\",\"y\":[138.0,148.0,34.0,93.0,106.0,115.0,24.0,249.0,83.0,518.0,373.0,237.0,449.0,118.0,2476.0,2697.0,1190.0,1113.0,594.0,872.0,71.0,200.0,83.0,123.0,497.0,713.0,985.0,461.0,506.0,237.0,218.0,273.0,331.0,225.0,370.0,340.0,212.0,276.0,402.0,30.0,31.0,15.0,12.0,13.0,620.0,38.0,19.0,14.0,794.0,8.0,48.0,48.0,1463.0,194.0,10.0,11.0,30.0,54.0,187.0,65.0,140.0,424.0,142.0,13.0,86.0,21.0,158.0,267.0,15.0,31.0,54.0,352.0,59.0,102.0,234.0,9.0,252.0,21.0,23.0,15.0,24.0,59.0,23.0,3.0,31.0,2.0,54.0,12.0,139.0,26.0,12.0,12.0,3.0,16.0,207.0,64.0,15.0,107.0,28.0,6.0,26.0,44.0,3.0,9.0,29.0,10.0,55.0,30.0,33.0,4.0,23.0,24.0,27.0,54.0,12.0,110.0,117.0,80.0,79.0,48.0,23.0,31.0,40.0,1.0,1.0,32.0,1.0,1.0,2.0,10.0,77.0,185.0,38.0,64.0,8.0,9.0,2.0,11.0,258.0,5.0,57.0,41.0,5.0,395.0,52.0,11.0,799.0,27.0,10.0,51.0,11.0,5.0,41.0,21.0,6.0,8.0,5.0,18.0,10.0,33.0,3.0,38.0,9.0,4.0,49.0,81.0,70.0,24.0,7.0,17.0,4.0,41.0,202.0,4.0,12.0,46.0,584.0,44.0,4.0,51.0,9.0,21.0,6.0,14.0,14.0,18.0,25.0,33.0,15.0,11.0,224.0,29.0,7.0,25.0,21.0,19.0,95.0,54.0,218.0,137.0,56.0,281.0,52.0,89.0,61.0,92.0,1.0,1.0,1.0,1.0,3.0,2.0,3.0,6.0,3.0,2.0,1.0,10.0,4.0,60.0,7.0,5.0,4.0,20.0,4.0,6.0,5.0,26.0,64.0,9.0,34.0,56.0,6.0,47.0,10.0,13.0,14.0,16.0,10.0,10.0,2.0,13.0,6.0,9.0,1.0,3.0,53.0,30.0,44.0,76.0,712.0,4.0,5.0,23.0,38.0,70.0,1.0,33.0,8.0,11.0,0.0,0.0,0.0,0.0,0.0,1.0,2.0,15.0,2.0,25.0,15.0,9.0,9.0,23.0,9.0,29.0,20.0,13.0,25.0,8.0,8.0,3.0,17.0,7.0,4.0,10.0,40.0,34.0,2.0,135.0,85.0,635.0,1.0,2.0,0.0,0.0,0.0,1.0,4.0,1.0,7.0,1.0,2.0,1.0,7.0,5.0,18.0,3.0,18.0,5.0,3.0,15.0,1.0,10.0,2.0,1.0,1.0,1.0,1.0,24.0,96.0,27.0,109.0,14.0,7.0,109.0,84.0,44.0,15.0,2.0,2.0,3.0,1.0,49.0,19.0,32.0,34.0,24.0,2.0,3.0,0.0,2.0,0.0,1.0,86.0,890.0,40.0,67.0,55.0,68.0,2.0,2.0,15.0,4.0,2.0,15.0,1.0,2.0,2.0,81.0,3.0,12.0,71.0,12.0,10.0,61.0,40.0,3.0,55.0,12.0,17.0,60.0,2.0,7.0,1.0,30.0,2.0,9.0,4.0,25.0,35.0,7.0,66.0,5.0,34.0,9.0,58.0,9.0,69.0,4.0,5.0,4.0,5.0,5.0,4.0,11.0,12.0,3.0,22.0,8.0,2.0,9.0,3.0,32.0,5.0,5.0,5.0,10.0,7.0,41.0,63.0,19.0,56.0,11.0,8.0,54.0,8.0,24.0,4.0,43.0,5.0,69.0,45.0,74.0,6.0,1.0,3.0,38.0,6.0,9.0,6.0,351.0,86.0,60.0,144.0,6.0,5.0,5.0,48.0,10.0,102.0,24.0,2.0,4.0,3.0,3.0,1.0,5.0,5.0,5.0,23.0,12.0,17.0,12.0,90.0,6.0,10.0,0.0,4.0,1.0,1.0,25.0,20.0,0.0,25.0,18.0,21.0,13.0,25.0,5.0,5.0,16.0,0.0,1.0,1.0,1.0,2.0,0.0,2.0,6.0,2.0,13.0,2.0,2.0,2.0,111.0,15.0,43.0,6.0,6.0,6.0,5.0,19.0,4.0,3.0,3.0,15.0,7.0,5.0,6.0,42.0,19.0,1.0,24.0,7.0,20.0,16.0,3.0,2.0,5.0,76.0,2.0,4.0,6.0,1.0,0.0,2.0,3.0,6.0,7.0,7.0,2.0,3.0,35.0,14.0,0.0,0.0,22.0,2.0,1.0,1.0,1.0,0.0,1.0,0.0,0.0,14.0,19.0,16.0,22.0,210.0,13.0,5.0,6.0,2.0,2.0,135.0,547.0,40.0,94.0,3.0,2.0,0.0,1.0,2.0,3.0,2.0,9.0,16.0,6.0,11.0,11.0,7.0,9.0,10.0,1.0,40.0,52.0,24.0,28.0,92.0,128.0,8.0,8.0,10.0,8.0,17.0,1.0,4.0,7.0,5.0,14.0,62.0,78.0,3.0,25.0,45.0,54.0,22.0,1.0,5.0,3.0,14.0,7.0,6.0,8.0,5.0,4.0,5.0,31.0,122.0,77.0,22.0,3.0,44.0,30.0,240.0,337.0,427.0,182.0,24.0,1740.0,737.0,1629.0,479.0,382.0,202.0,5.0,5.0,3.0,6.0,76.0,2.0,7.0,50.0,24.0,24.0,0.0,0.0,0.0,0.0,26.0,42.0,21.0,122.0,329.0,311.0,205.0,437.0,466.0,470.0,99.0,220.0,11.0,11.0,5.0,57.0,10.0,39.0,16.0,20.0,63.0,27.0,54.0,109.0,197.0,41.0,103.0,12.0,52.0,20.0,172.0,16.0,30.0,12.0,88.0,50.0,245.0,25.0,10.0,31.0,68.0,15.0,29.0,8.0,15.0,10.0,11.0,30.0,42.0,14.0,15.0,11.0,21.0,5.0,3.0,3.0,9.0,1.0,3.0,2.0,1.0,49.0,6.0,3.0,13.0,10.0,10.0,14.0,68.0,5.0,53.0,4.0,40.0,34.0,8.0,12.0,25.0,27.0,12.0,3.0,158.0,11.0,29.0,53.0,20.0,29.0,5.0,57.0,203.0,24.0,26.0,470.0,30.0,61.0,74.0,49.0,121.0,38.0,49.0,143.0,654.0,120.0,15.0,11.0,46.0,27.0,61.0,52.0,8.0,125.0,143.0,24.0,20.0,6.0,44.0,26.0,30.0,25.0,51.0,13.0,8.0,2215.0,62.0,24.0,28.0,68.0,3.0,190.0,198.0,108.0,42.0,96.0,27.0,24.0,10.0,2.0,11.0,6.0,28.0,8.0,5.0,3.0,16.0,2.0,30.0,8.0,12.0,25.0,17.0,15.0,10.0,42.0,8.0,2.0,13.0,162.0,17.0,9.0,23.0,37.0,48.0,31.0,576.0,57.0,49.0,3.0,0.0,0.0,0.0,0.0,0.0,0.0,0.0,0.0,0.0,0.0,1.0,5.0,1.0,3.0,3.0,4.0,1.0,12.0,26.0,15.0,95.0,26.0,29.0,40.0,11.0,38.0,17.0,10.0,33.0,43.0,49.0,18.0,10.0,79.0,24.0,40.0,2.0,1.0,1.0,1.0,14.0,2.0,2.0,14.0,0.0,4.0,145.0,128.0,100.0,35.0,57.0,86.0,481.0,11.0,11.0,7.0,9.0,11.0,4.0,10.0,8.0,5.0,3.0,0.0,1.0,1.0,0.0,0.0,0.0,0.0,0.0,1.0,0.0,0.0,0.0,0.0,0.0,0.0,176.0,11.0,109.0,19.0,28.0,55.0,27.0,46.0,17.0,13.0,15.0,0.0,3.0,5.0,6.0,9.0,27.0,5.0,0.0,0.0,0.0,0.0,9.0,20.0,23.0,7.0,16.0,1.0,23.0,15.0,12.0,12.0,5.0,0.0,0.0,0.0,24.0,19.0,69.0,388.0,345.0,522.0,0.0,3.0,2.0,2.0,0.0,72.0,43.0,38.0,20.0,24.0,44.0,19.0,155.0,10.0,2.0,10.0,6.0,1.0,9.0,3.0,57.0,9.0,6.0,7.0,10.0,5.0,1.0,31.0,11.0,6.0,4.0,2.0,8.0,3.0,5.0,2.0,6.0,10.0,2.0,8.0,9.0,13.0,2.0,1.0,7.0,44.0,99.0,131.0,25.0,74.0,35.0,29.0,3.0,7.0,0.0,1.0,0.0,1.0,1.0,3.0,4.0,1.0,4.0,32.0,5.0,13.0,36.0,15.0,121.0,18.0,6.0,5.0,9.0,5.0,2.0,2.0,2.0,3.0,4.0,5.0,4.0,3.0,3.0,3.0,8.0,11.0,13.0,5.0,8.0,22.0,35.0,4.0,25.0,4.0,9.0,9.0,3.0,4.0,5.0,5.0,5.0,2.0,3.0,3.0,5.0,9.0,6.0,2.0,0.0,5.0,14.0,7.0,3.0,9.0,3.0,4.0,3.0,5.0,2.0,8.0,4.0,10.0,66.0,52.0,12.0,18.0,24.0,12.0,116.0,58.0,157.0,15.0,57.0,158.0,6.0,4.0,24.0,27.0,9.0,37.0,29.0,224.0,34.0,31.0,49.0,46.0,21.0,18.0,11.0,11.0,44.0,71.0,5.0,39.0,6.0,2713.0,718.0,260.0,252.0,173.0,20.0,72.0,68.0,2.0,5.0,4.0,109.0,15.0,136.0,6.0,3.0,1.0,3.0,2.0,0.0,0.0,4.0,1.0,1.0,1.0,2.0,2.0,0.0,8.0,4.0,10.0,11.0,6.0,10.0,5.0,5.0,15.0,3.0,3.0,33.0,4.0,4.0,161.0,263.0,23.0,17.0,12.0,26.0,6.0,1.0,4.0,2.0,2.0,6.0,3.0,1.0,2.0,1.0,3.0,3.0,3.0,3.0,6.0,4.0,1.0,1.0,0.0,0.0,0.0,1.0,0.0,0.0,1.0,1.0,0.0,8.0,7.0,5.0,5.0,4.0,9.0,3.0,23.0,18.0,8.0,8.0,8.0,7.0,3.0,3.0,2.0,2.0,1.0,12.0,3.0,5.0,2.0,3.0,3.0,0.0,1.0,0.0,0.0,12.0,25.0,1.0,2.0,2.0,11.0,2.0,21.0,2.0,17.0,10.0,25.0,1.0,0.0,0.0,0.0,0.0,2.0,0.0,0.0,0.0,490.0,540.0,106.0,317.0,1358.0,1304.0,73.0,38.0,21.0,324.0,198.0,368.0,142.0,333.0,46.0,43.0,1111.0,799.0,836.0,997.0,232.0,1220.0,89.0,13.0,23.0,64.0,139.0,79.0,118.0,1097.0,57.0,423.0,142.0,212.0,901.0,629.0,47.0,30.0,44.0,159.0,63.0,68.0,88.0,243.0,27.0,129.0,125.0,1548.0,329.0,685.0,11.0,16.0,120.0,514.0,144.0,92.0,136.0,90.0,30.0,61.0,81.0,212.0,38.0,49.0,28.0,92.0,48.0,228.0,20.0,22.0,27.0,183.0,69.0,24.0,22.0,129.0,52.0,415.0,463.0,99.0,247.0,450.0,1112.0,78.0,137.0,69.0,105.0,7.0,750.0,51.0,73.0,292.0,16.0,52.0,53.0,14.0,33.0,38.0,7.0,23.0,34.0,26.0,20.0,65.0,50.0,5.0,95.0,40.0,107.0,37.0,45.0,166.0,78.0,54.0,69.0,439.0,165.0,30.0,172.0,278.0,126.0,137.0,242.0,91.0,55.0,110.0,393.0,90.0,62.0,15.0,57.0,261.0,68.0,96.0,989.0,25.0,133.0,215.0,15.0,145.0,11.0,19.0,22.0,249.0,56.0,28.0,95.0,53.0,171.0,46.0,302.0,95.0,102.0,94.0,216.0,154.0,169.0,285.0,45.0,13.0,99.0,72.0,99.0,311.0,39.0,28.0,58.0,50.0,31.0,138.0,87.0,318.0,115.0,44.0,106.0,95.0,89.0,65.0,17.0,137.0,14.0,17.0,25.0,60.0,130.0,81.0,235.0,35.0,48.0,8.0,602.0,508.0,11.0,41.0,48.0,50.0,13.0,72.0,74.0,941.0,983.0,525.0,169.0,185.0,179.0,489.0,39.0,8.0,21.0,67.0,15.0,40.0,42.0,67.0,150.0,434.0,149.0,84.0,676.0,22.0,283.0,103.0,76.0,162.0,86.0,139.0,23.0,24.0,62.0,89.0,3.0,19.0,65.0,173.0,49.0,32.0,945.0,58.0,87.0,152.0,93.0,42.0,183.0,689.0,6.0,137.0,54.0,336.0,18.0,46.0,148.0,38.0,128.0,38.0,84.0,12.0,1948.0,46.0,87.0,15.0,93.0,59.0,163.0,11.0,145.0,24.0,26.0,59.0,33.0,149.0,43.0,13.0,33.0,126.0,304.0,59.0,34.0,9.0,78.0,35.0,19.0,10.0,125.0,14.0,47.0,49.0,16.0,8.0,78.0,180.0,54.0,17.0,283.0,521.0,72.0,173.0,15.0,75.0,8.0,19.0,13.0,221.0,309.0,59.0,88.0,73.0,52.0,319.0,125.0,33.0,18.0,29.0,20.0,135.0,19.0,29.0,3.0,104.0,103.0,34.0,72.0,93.0,245.0,36.0,15.0,90.0,7.0,54.0,21.0,91.0,85.0,390.0,37.0,33.0,33.0,45.0,97.0,183.0,111.0,203.0,108.0,53.0,21.0,45.0,26.0,39.0,89.0,196.0,28.0,10.0,16.0,15.0,22.0,11.0,72.0,48.0,14.0,39.0,13.0,13.0,41.0,61.0,10.0,14.0,89.0,36.0,169.0],\"y0\":\" \",\"yaxis\":\"y3\",\"type\":\"box\"},{\"alignmentgroup\":\"True\",\"hovertemplate\":\"variable=num_lectures\\u003cbr\\u003evalue=%{y}\\u003cextra\\u003e\\u003c\\u002fextra\\u003e\",\"legendgroup\":\"num_lectures\",\"marker\":{\"color\":\"#ab63fa\"},\"name\":\"num_lectures\",\"notched\":false,\"offsetgroup\":\"num_lectures\",\"orientation\":\"v\",\"showlegend\":true,\"x0\":\" \",\"xaxis\":\"x4\",\"y\":[25.0,23.0,38.0,76.0,19.0,52.0,23.0,12.0,16.0,50.0,42.0,25.0,80.0,68.0,52.0,138.0,25.0,227.0,43.0,42.0,77.0,23.0,47.0,33.0,38.0,40.0,45.0,26.0,32.0,28.0,30.0,45.0,15.0,24.0,134.0,33.0,49.0,108.0,57.0,9.0,60.0,6.0,20.0,20.0,23.0,24.0,16.0,13.0,9.0,8.0,29.0,59.0,8.0,24.0,35.0,39.0,20.0,16.0,20.0,23.0,17.0,36.0,13.0,31.0,22.0,43.0,20.0,66.0,36.0,14.0,13.0,13.0,88.0,10.0,44.0,12.0,10.0,76.0,23.0,26.0,24.0,25.0,27.0,8.0,34.0,22.0,5.0,90.0,7.0,42.0,15.0,37.0,54.0,35.0,9.0,9.0,15.0,97.0,45.0,128.0,14.0,55.0,9.0,28.0,23.0,59.0,16.0,63.0,18.0,11.0,7.0,46.0,21.0,34.0,12.0,22.0,24.0,38.0,59.0,25.0,19.0,38.0,20.0,38.0,9.0,23.0,19.0,19.0,38.0,51.0,52.0,44.0,14.0,24.0,40.0,42.0,10.0,100.0,25.0,12.0,13.0,19.0,26.0,5.0,15.0,15.0,14.0,81.0,16.0,11.0,16.0,8.0,21.0,18.0,31.0,14.0,27.0,21.0,23.0,40.0,10.0,11.0,33.0,47.0,21.0,10.0,332.0,34.0,15.0,21.0,272.0,18.0,6.0,31.0,29.0,61.0,12.0,69.0,7.0,129.0,316.0,44.0,11.0,27.0,29.0,19.0,62.0,23.0,37.0,17.0,5.0,70.0,20.0,25.0,14.0,30.0,13.0,32.0,91.0,18.0,14.0,11.0,41.0,11.0,18.0,21.0,55.0,19.0,108.0,9.0,14.0,5.0,21.0,29.0,28.0,43.0,61.0,42.0,6.0,17.0,12.0,29.0,21.0,47.0,5.0,36.0,9.0,26.0,31.0,72.0,23.0,35.0,11.0,21.0,19.0,35.0,25.0,58.0,19.0,20.0,18.0,15.0,19.0,15.0,58.0,6.0,29.0,23.0,22.0,64.0,26.0,16.0,12.0,19.0,211.0,14.0,20.0,142.0,24.0,24.0,8.0,12.0,12.0,6.0,28.0,12.0,8.0,194.0,7.0,36.0,14.0,5.0,27.0,54.0,32.0,21.0,88.0,15.0,18.0,18.0,14.0,20.0,16.0,27.0,35.0,13.0,46.0,9.0,15.0,11.0,84.0,14.0,8.0,14.0,57.0,33.0,22.0,12.0,15.0,17.0,87.0,18.0,21.0,5.0,15.0,66.0,13.0,15.0,17.0,65.0,15.0,19.0,28.0,13.0,21.0,48.0,9.0,8.0,6.0,12.0,10.0,14.0,24.0,61.0,24.0,12.0,37.0,6.0,29.0,42.0,19.0,15.0,5.0,22.0,15.0,27.0,16.0,11.0,17.0,14.0,5.0,10.0,24.0,21.0,50.0,18.0,54.0,20.0,16.0,95.0,51.0,10.0,6.0,5.0,17.0,42.0,107.0,32.0,16.0,8.0,5.0,50.0,29.0,34.0,50.0,50.0,28.0,12.0,20.0,24.0,6.0,27.0,25.0,6.0,14.0,15.0,102.0,10.0,11.0,113.0,8.0,39.0,6.0,17.0,25.0,13.0,15.0,41.0,11.0,31.0,8.0,10.0,22.0,25.0,10.0,12.0,12.0,13.0,15.0,27.0,10.0,5.0,71.0,9.0,19.0,28.0,14.0,15.0,22.0,10.0,44.0,23.0,6.0,23.0,19.0,11.0,38.0,27.0,20.0,8.0,24.0,14.0,44.0,20.0,13.0,14.0,22.0,20.0,57.0,75.0,25.0,17.0,54.0,55.0,25.0,19.0,17.0,55.0,42.0,79.0,6.0,19.0,64.0,5.0,27.0,28.0,11.0,15.0,26.0,13.0,25.0,26.0,27.0,38.0,5.0,17.0,9.0,21.0,24.0,25.0,5.0,14.0,14.0,9.0,14.0,34.0,64.0,9.0,12.0,6.0,12.0,26.0,23.0,6.0,12.0,11.0,59.0,13.0,13.0,25.0,14.0,50.0,16.0,26.0,5.0,54.0,16.0,286.0,27.0,14.0,23.0,27.0,9.0,36.0,8.0,6.0,9.0,34.0,34.0,12.0,25.0,74.0,13.0,20.0,17.0,24.0,22.0,27.0,120.0,60.0,11.0,35.0,19.0,14.0,12.0,79.0,16.0,19.0,49.0,58.0,7.0,12.0,14.0,27.0,21.0,16.0,27.0,6.0,28.0,27.0,5.0,5.0,48.0,6.0,7.0,12.0,25.0,14.0,11.0,24.0,36.0,21.0,40.0,18.0,49.0,13.0,7.0,40.0,15.0,52.0,14.0,36.0,49.0,5.0,37.0,13.0,10.0,9.0,42.0,18.0,35.0,7.0,13.0,5.0,40.0,24.0,44.0,39.0,37.0,19.0,75.0,32.0,16.0,21.0,27.0,30.0,16.0,27.0,18.0,48.0,28.0,59.0,241.0,50.0,7.0,29.0,34.0,24.0,86.0,14.0,26.0,14.0,24.0,17.0,30.0,21.0,36.0,54.0,17.0,15.0,43.0,53.0,34.0,15.0,187.0,11.0,111.0,110.0,20.0,26.0,7.0,65.0,63.0,42.0,85.0,41.0,54.0,18.0,21.0,33.0,35.0,10.0,10.0,35.0,44.0,50.0,9.0,9.0,8.0,10.0,12.0,27.0,18.0,22.0,29.0,43.0,16.0,20.0,26.0,96.0,134.0,80.0,82.0,27.0,15.0,25.0,56.0,15.0,35.0,20.0,14.0,28.0,28.0,27.0,20.0,12.0,5.0,9.0,15.0,26.0,8.0,35.0,14.0,12.0,28.0,78.0,39.0,11.0,13.0,9.0,24.0,25.0,8.0,11.0,5.0,5.0,13.0,12.0,12.0,11.0,45.0,10.0,9.0,27.0,122.0,5.0,19.0,124.0,43.0,55.0,9.0,9.0,163.0,23.0,19.0,70.0,8.0,49.0,31.0,11.0,63.0,34.0,10.0,77.0,66.0,20.0,46.0,36.0,43.0,48.0,25.0,13.0,26.0,44.0,28.0,43.0,17.0,12.0,35.0,22.0,33.0,10.0,7.0,37.0,67.0,40.0,25.0,14.0,35.0,82.0,41.0,31.0,31.0,62.0,12.0,33.0,98.0,31.0,79.0,18.0,77.0,15.0,15.0,12.0,14.0,19.0,42.0,62.0,19.0,13.0,16.0,9.0,12.0,77.0,23.0,16.0,36.0,24.0,141.0,25.0,25.0,20.0,51.0,21.0,24.0,18.0,29.0,35.0,24.0,118.0,16.0,26.0,34.0,82.0,7.0,25.0,166.0,37.0,8.0,11.0,13.0,24.0,36.0,8.0,26.0,23.0,19.0,35.0,36.0,57.0,6.0,105.0,13.0,18.0,19.0,29.0,12.0,6.0,7.0,27.0,34.0,13.0,14.0,7.0,8.0,13.0,5.0,21.0,30.0,5.0,44.0,22.0,59.0,38.0,14.0,16.0,22.0,6.0,45.0,37.0,39.0,18.0,44.0,8.0,16.0,14.0,62.0,88.0,19.0,50.0,154.0,15.0,158.0,18.0,5.0,7.0,8.0,9.0,30.0,17.0,30.0,9.0,11.0,37.0,111.0,9.0,11.0,30.0,17.0,12.0,6.0,19.0,26.0,9.0,21.0,17.0,57.0,24.0,16.0,15.0,11.0,20.0,13.0,56.0,23.0,5.0,8.0,8.0,11.0,8.0,9.0,55.0,34.0,6.0,8.0,29.0,27.0,33.0,23.0,81.0,98.0,30.0,41.0,19.0,33.0,66.0,25.0,13.0,9.0,21.0,20.0,19.0,19.0,5.0,14.0,35.0,46.0,34.0,81.0,26.0,76.0,31.0,12.0,88.0,76.0,28.0,24.0,5.0,9.0,8.0,5.0,35.0,14.0,40.0,57.0,207.0,26.0,12.0,34.0,46.0,20.0,18.0,39.0,72.0,29.0,15.0,77.0,20.0,34.0,61.0,78.0,15.0,32.0,103.0,11.0,7.0,54.0,8.0,22.0,10.0,23.0,30.0,13.0,29.0,11.0,25.0,13.0,15.0,8.0,8.0,11.0,17.0,9.0,16.0,9.0,26.0,28.0,48.0,13.0,19.0,18.0,21.0,24.0,97.0,56.0,29.0,15.0,61.0,15.0,16.0,45.0,12.0,26.0,11.0,18.0,15.0,57.0,41.0,12.0,38.0,44.0,39.0,40.0,90.0,74.0,13.0,52.0,12.0,32.0,41.0,56.0,7.0,20.0,9.0,7.0,13.0,20.0,21.0,22.0,57.0,37.0,25.0,47.0,55.0,6.0,14.0,13.0,55.0,14.0,32.0,46.0,21.0,22.0,21.0,41.0,10.0,40.0,26.0,9.0,69.0,33.0,13.0,77.0,16.0,17.0,15.0,12.0,13.0,7.0,17.0,86.0,14.0,26.0,8.0,81.0,8.0,13.0,83.0,5.0,44.0,39.0,9.0,19.0,39.0,38.0,108.0,31.0,145.0,14.0,90.0,77.0,5.0,90.0,27.0,131.0,26.0,21.0,12.0,21.0,32.0,6.0,51.0,131.0,28.0,68.0,6.0,14.0,17.0,16.0,10.0,46.0,23.0,310.0,131.0,144.0,16.0,224.0,32.0,26.0,75.0,64.0,13.0,9.0,10.0,53.0,40.0,80.0,22.0,13.0,15.0,62.0,14.0,7.0,21.0,22.0,37.0,26.0,23.0,71.0,27.0,14.0,6.0,25.0,27.0,46.0,12.0,15.0,71.0,100.0,33.0,9.0,309.0,17.0,48.0,34.0,14.0,42.0,59.0,123.0,215.0,38.0,9.0,22.0,23.0,17.0,45.0,14.0,18.0,7.0,15.0,71.0,12.0,22.0,151.0,53.0,39.0,16.0,25.0,16.0,26.0,9.0,20.0,39.0,19.0,7.0,48.0,18.0,26.0,7.0,40.0,19.0,82.0,86.0,16.0,65.0,130.0,59.0,34.0,126.0,16.0,13.0,15.0,11.0,12.0,30.0,17.0,16.0,80.0,16.0,10.0,6.0,17.0,5.0,11.0,10.0,6.0,98.0,15.0,27.0,17.0,19.0,16.0,17.0,16.0,25.0,12.0,33.0,12.0,23.0,33.0,17.0,31.0,30.0,17.0,23.0,23.0,58.0,67.0,46.0,49.0,74.0,26.0,36.0,52.0,16.0,43.0,23.0,16.0,16.0,16.0,31.0,59.0,110.0,251.0,63.0,90.0,25.0,16.0,97.0,48.0,34.0,82.0,31.0,29.0,36.0,20.0,10.0,281.0,18.0,30.0,221.0,77.0,91.0,19.0,22.0,15.0,47.0,17.0,68.0,26.0,20.0,57.0,84.0,197.0,136.0,29.0,39.0,15.0,13.0,20.0,54.0,15.0,70.0,19.0,17.0,35.0,94.0,33.0,15.0,13.0,20.0,44.0,39.0,57.0,36.0,16.0,60.0,34.0,49.0,17.0,7.0,84.0,31.0,49.0,138.0,90.0,93.0,46.0,21.0,44.0,10.0,21.0,31.0,19.0,38.0,27.0,11.0,38.0,21.0,21.0,60.0,20.0,41.0,7.0,24.0,36.0,41.0,22.0,24.0,12.0,16.0,14.0,135.0,12.0,123.0,28.0,22.0,34.0,15.0,26.0,31.0,92.0,8.0,44.0,33.0,54.0,66.0,90.0,8.0,32.0,122.0,64.0,28.0,74.0,7.0,25.0,14.0,13.0,49.0,44.0,7.0,17.0,25.0,55.0,56.0,34.0,23.0,39.0,29.0,42.0,13.0,38.0,52.0,19.0,18.0,49.0,16.0,32.0,94.0,16.0,52.0,23.0,21.0,28.0,27.0,18.0,76.0,45.0,29.0,10.0,39.0,73.0,33.0,28.0,16.0,35.0,12.0,70.0,21.0,43.0,38.0,20.0,26.0,14.0,29.0,69.0,9.0,36.0,27.0,14.0,37.0,55.0,18.0,7.0,8.0,25.0,18.0,125.0,58.0,31.0,29.0,46.0,43.0,84.0,43.0,173.0,53.0,98.0,14.0,32.0,103.0,102.0,24.0,39.0,52.0,46.0,14.0,9.0,28.0,53.0,15.0,61.0,102.0,27.0,96.0,19.0,45.0,46.0,26.0,129.0,15.0,12.0,62.0,16.0,51.0,9.0,13.0,8.0,98.0,48.0,7.0,21.0,21.0,10.0,58.0,19.0,39.0,78.0,123.0,60.0,28.0,11.0,23.0,35.0,14.0,60.0,90.0,118.0,81.0,16.0,22.0,85.0,53.0,37.0,124.0,23.0,20.0,103.0,22.0,22.0,161.0,19.0,24.0,23.0,34.0,28.0,26.0,28.0,18.0,31.0,5.0,28.0,13.0,25.0,51.0,43.0,39.0,44.0,78.0,22.0,35.0,18.0,16.0,15.0,20.0,27.0,29.0,29.0,30.0,9.0,20.0,301.0,54.0,77.0,17.0,11.0,36.0,79.0,85.0,59.0,36.0,38.0,20.0,25.0,88.0,54.0,83.0,57.0,32.0,116.0,15.0,36.0,24.0,31.0,65.0,39.0,68.0,46.0,271.0,40.0,6.0,50.0,20.0,18.0,25.0,32.0,15.0,177.0,27.0,15.0,10.0,60.0,11.0,35.0,24.0,35.0,72.0,18.0,25.0,73.0,36.0,32.0,115.0,32.0,40.0,17.0,30.0,23.0,45.0,18.0,86.0,80.0,27.0,28.0,15.0,74.0,8.0,304.0,18.0,12.0,16.0,22.0,48.0],\"y0\":\" \",\"yaxis\":\"y4\",\"type\":\"box\"},{\"alignmentgroup\":\"True\",\"hovertemplate\":\"variable=content_duration\\u003cbr\\u003evalue=%{y}\\u003cextra\\u003e\\u003c\\u002fextra\\u003e\",\"legendgroup\":\"content_duration\",\"marker\":{\"color\":\"#FFA15A\"},\"name\":\"content_duration\",\"notched\":false,\"offsetgroup\":\"content_duration\",\"orientation\":\"v\",\"showlegend\":true,\"x0\":\" \",\"xaxis\":\"x5\",\"y\":[3.0,2.5,2.5,5.0,1.5,4.0,1.5,0.5833333333333334,2.0,5.0,4.5,2.0,6.5,10.0,5.5,7.5,1.0,16.0,3.0,5.5,3.0,2.0,4.0,5.5,4.5,6.5,11.0,1.5,3.0,5.0,2.5,3.0,1.0,2.0,11.5,1.5,4.5,9.5,5.0,1.0,5.5,1.5,1.5,1.5,1.0,1.0,5.0,1.5,2.0,1.0,0.6833333333333333,2.5,1.5,4.5,2.5,3.0,0.55,2.0,1.0,2.5,1.5,2.5,1.0,1.5,2.0,4.5,1.0,5.0,4.0,1.5,2.0,3.0,5.5,1.5,5.5,0.7,1.0,6.0,1.0,1.5,1.5,2.0,5.0,1.5,4.5,3.5,1.0,9.0,1.0,1.5,1.5,5.5,6.0,2.0,2.0,1.0,1.5,10.0,2.0,17.5,1.0,4.5,1.0,2.0,1.5,12.0,2.0,3.5,1.0,1.5,1.5,2.0,2.0,3.0,1.5,4.0,2.5,4.0,2.0,2.5,2.0,5.0,1.0,4.0,1.0,4.5,2.5,1.0,3.0,24.0,3.5,2.5,4.0,4.0,3.0,2.0,0.5,20.5,2.0,1.5,1.5,3.0,5.5,0.5166666666666666,2.0,1.0,1.5,2.5,1.5,2.0,1.5,1.0,1.0,1.5,4.0,1.5,2.5,2.0,0.5,2.0,2.0,0.6833333333333333,3.5,5.5,2.0,2.0,29.0,3.0,3.0,1.0,26.0,1.5,1.5,2.5,3.0,6.0,1.0,10.0,1.0,11.0,24.5,3.0,1.5,2.0,2.5,2.0,6.0,0.7166666666666667,6.0,2.5,1.5,8.0,1.0,1.5,1.0,1.5,3.0,1.5,13.0,1.0,1.0,1.0,2.5,1.5,2.0,1.5,7.5,1.0,3.5,0.7166666666666667,1.5,1.0,1.0,1.5,1.5,2.5,3.0,2.0,1.0,4.5,1.0,1.5,5.5,12.5,1.0,2.0,1.0,3.5,6.5,5.5,5.5,11.5,1.0,4.0,1.0,2.5,4.5,4.5,2.0,1.5,1.5,0.6666666666666666,2.0,3.5,6.0,1.5,4.0,2.0,2.0,3.5,3.5,1.5,3.5,1.5,19.5,0.6166666666666667,1.0,24.5,1.5,7.5,1.5,1.5,1.0,0.5666666666666667,2.5,0.5666666666666667,1.0,24.5,1.5,5.0,1.0,1.0,5.0,10.5,2.0,3.5,9.0,2.5,3.0,2.0,1.0,4.5,1.5,1.5,1.5,2.5,3.5,1.0,3.0,2.0,7.0,1.5,1.0,2.0,3.0,0.6166666666666667,1.5,1.5,0.5166666666666666,1.5,47.0,3.0,2.0,1.0,1.0,14.5,1.5,1.5,1.5,2.5,1.5,1.5,3.0,2.0,3.0,3.5,1.0,1.0,1.0,2.5,2.0,1.0,5.5,6.0,6.0,1.5,5.5,1.0,14.5,3.0,0.55,2.0,1.0,2.0,1.0,3.5,2.5,0.6,2.5,1.5,0.6333333333333333,2.0,4.5,3.5,5.5,1.0,4.0,1.5,1.5,14.0,6.5,1.0,1.5,1.0,1.5,3.5,14.5,1.0,1.5,1.0,1.0,7.0,3.0,3.0,4.0,2.0,3.5,2.0,2.5,5.5,1.0,2.5,7.5,0.4666666666666667,1.5,2.5,10.0,2.0,5.0,24.0,1.0,9.0,1.0,14.5,1.5,1.0,1.5,3.5,0.7333333333333333,1.5,0.5166666666666666,1.0,12.5,2.0,1.5,0.6833333333333333,2.0,2.0,2.5,3.5,2.0,1.0,3.5,2.0,1.5,5.0,1.0,2.5,6.0,2.0,4.0,6.0,1.0,1.0,2.0,1.5,3.0,1.5,1.5,2.5,1.5,0.7166666666666667,5.0,3.0,1.0,1.0,4.0,3.0,3.5,3.5,1.5,1.0,6.0,7.0,5.0,2.5,1.0,7.5,7.5,5.5,1.0,3.0,7.0,1.0,4.5,2.5,1.0,1.0,2.5,5.5,2.0,3.0,1.0,12.0,2.0,1.0,0.5333333333333333,1.0,4.0,6.0,1.0,3.0,3.0,0.7166666666666667,1.5,1.0,3.5,2.5,2.5,1.0,2.0,1.5,3.0,0.5333333333333333,1.5,1.5,2.0,1.5,1.5,4.0,1.0,10.0,1.0,2.5,1.0,2.0,3.0,29.5,2.5,2.0,6.5,1.0,2.0,3.0,1.0,1.0,1.0,6.0,5.0,3.0,2.0,13.0,2.0,3.5,1.0,4.0,2.5,5.0,13.5,2.5,1.0,2.5,0.6833333333333333,3.5,0.45,3.0,1.5,1.5,4.0,5.5,0.5166666666666666,1.5,0.5666666666666667,4.5,3.0,1.5,5.0,0.6,4.0,2.5,1.0,1.0,5.5,1.0,5.5,2.0,1.0,1.0,1.0,3.5,4.5,2.5,10.5,1.0,8.5,1.5,0.6166666666666667,5.5,1.5,5.0,1.0,7.5,4.5,1.0,3.5,1.5,1.0,1.0,4.0,1.5,8.5,1.5,3.0,0.6666666666666666,3.5,2.0,10.5,2.0,5.5,2.0,12.5,14.0,2.0,2.5,5.5,3.5,2.5,8.5,1.0,6.5,2.0,8.0,17.5,8.5,2.0,1.5,4.0,4.5,4.0,1.0,3.0,3.0,0.5666666666666667,8.0,4.0,3.0,1.0,3.5,1.5,2.5,5.5,3.0,1.5,0.6333333333333333,13.0,0.6166666666666667,21.0,7.5,1.5,3.0,0.6,8.0,5.0,3.5,6.5,3.5,3.5,1.0,1.0,1.5,3.0,1.0,1.0,5.0,7.5,3.5,1.0,0.6166666666666667,2.0,1.0,0.5666666666666667,1.0,5.0,2.5,2.5,2.0,1.0,2.5,1.0,11.0,12.0,7.5,12.5,2.5,2.5,1.5,5.5,1.5,2.5,1.0,0.6833333333333333,3.0,2.5,1.5,1.0,1.0,0.55,2.0,1.5,4.0,0.5666666666666667,5.0,1.5,0.7,1.0,11.5,2.5,1.0,1.0,1.5,2.0,3.5,0.5666666666666667,0.6333333333333333,0.5166666666666666,0.5333333333333333,1.0,1.5,0.6833333333333333,0.6666666666666666,4.5,1.0,0.6833333333333333,2.0,12.0,0.6833333333333333,3.0,13.5,5.5,2.5,0.6,1.5,10.5,3.5,1.5,14.0,1.0,3.5,2.5,1.5,2.5,6.5,1.5,4.5,6.5,1.5,9.5,2.0,9.0,3.0,1.0,0.5166666666666666,2.5,6.5,2.5,3.0,2.0,0.6666666666666666,7.0,3.0,2.5,1.0,0.5,2.0,8.5,5.5,4.0,1.0,3.0,6.5,12.0,2.5,3.5,7.5,2.0,5.0,13.0,3.0,12.5,1.5,6.5,1.0,1.0,0.5833333333333334,1.0,3.0,3.5,4.5,1.0,1.5,1.0,0.7333333333333333,1.0,6.5,1.5,1.0,3.5,2.0,8.0,0.6666666666666666,4.0,0.6333333333333333,4.5,1.5,2.0,1.0,1.5,2.0,2.0,8.0,1.5,3.5,1.5,8.0,0.6166666666666667,2.0,10.5,3.0,1.5,1.5,2.0,5.5,3.0,1.0,2.0,2.0,1.0,5.0,1.0,3.5,1.5,12.5,0.6333333333333333,1.0,1.5,4.5,0.6666666666666666,1.5,1.0,1.0,1.5,3.5,3.5,0.5666666666666667,1.0,2.5,1.0,2.5,9.5,0.6166666666666667,5.5,2.0,7.0,8.5,0.7333333333333333,2.0,2.5,0.6333333333333333,6.0,2.0,2.5,1.0,5.0,1.0,1.5,1.5,12.0,7.5,2.5,4.5,14.5,1.0,30.0,2.0,0.6166666666666667,1.0,0.6166666666666667,1.5,1.0,2.0,2.5,1.0,2.0,5.0,17.0,1.5,1.5,4.0,2.0,0.7,0.5833333333333334,1.5,4.0,1.0,4.0,0.7333333333333333,5.5,1.5,2.5,3.5,1.5,4.0,1.5,5.0,2.5,0.55,1.0,1.0,1.0,0.6833333333333333,2.0,4.5,3.5,1.0,0.6166666666666667,2.5,2.5,20.0,1.5,5.0,16.5,2.0,4.0,2.5,2.5,5.5,2.5,0.7,1.0,2.5,1.5,1.5,2.0,0.5666666666666667,1.5,5.0,4.0,2.0,5.0,7.5,5.0,2.0,0.6333333333333333,10.5,6.0,3.0,5.5,0.7166666666666667,0.5833333333333334,0.6,0.6166666666666667,4.0,1.0,3.0,15.0,20.5,2.0,2.0,2.0,4.5,1.5,1.0,6.5,5.0,2.0,2.0,7.5,1.0,1.0,8.0,6.0,3.0,4.5,12.0,1.5,1.0,3.0,1.0,2.5,1.0,2.0,2.0,1.0,2.0,4.0,2.0,1.0,0.5333333333333333,0.7166666666666667,1.0,1.5,1.0,0.6166666666666667,1.5,1.5,2.0,3.0,9.0,2.0,2.5,2.5,1.0,1.0,11.0,5.5,2.5,1.0,4.5,1.5,2.0,4.0,1.0,5.0,0.5,2.5,1.5,6.5,3.0,1.0,2.0,7.0,4.5,4.0,5.0,8.0,1.0,5.5,1.0,2.0,4.0,8.5,1.0,2.0,1.0,0.5166666666666666,0.5166666666666666,1.5,5.0,1.0,2.0,1.0,1.0,8.0,6.0,1.0,1.0,1.5,6.0,0.5333333333333333,6.0,9.5,2.5,2.5,2.5,2.0,0.6166666666666667,8.0,1.0,1.5,3.0,2.0,1.5,7.5,1.0,1.0,1.0,0.65,0.6333333333333333,1.0,3.0,8.0,1.5,2.0,0.5333333333333333,4.5,1.5,2.0,7.5,0.7,3.0,2.0,2.5,1.0,3.0,2.0,7.0,2.0,7.5,0.6833333333333333,10.5,5.0,1.0,2.5,2.5,8.0,2.5,3.0,1.0,2.0,5.0,1.5,5.5,7.5,1.5,1.5,0.4833333333333333,0.65,2.0,1.5,1.0,11.5,3.5,34.0,15.5,8.5,1.0,28.5,2.0,1.5,5.0,8.0,4.0,0.6666666666666666,1.0,5.0,12.5,4.0,1.5,1.5,2.0,5.5,1.0,1.5,3.5,2.5,2.5,3.5,3.0,3.5,3.0,1.5,1.5,2.0,4.0,5.0,0.5333333333333333,1.0,3.5,6.0,2.0,1.0,38.0,1.5,1.5,0.6166666666666667,1.0,2.0,2.5,7.0,10.5,2.5,0.7166666666666667,2.5,3.5,3.0,7.0,2.0,1.5,1.0,2.0,1.5,1.5,1.0,2.5,2.5,1.0,2.0,1.5,4.0,3.0,1.5,3.0,5.5,3.0,2.0,1.0,1.5,3.5,2.5,3.0,1.5,4.0,5.5,2.0,3.0,7.0,2.0,1.5,7.5,4.0,1.0,1.5,1.0,1.0,3.5,2.5,2.0,4.0,2.0,0.6333333333333333,2.0,0.5333333333333333,0.55,1.0,1.0,1.5,10.5,0.6166666666666667,0.7333333333333333,1.5,2.0,2.0,1.5,4.5,2.5,0.5666666666666667,6.0,1.0,4.0,3.5,3.0,3.5,3.0,3.0,3.0,3.0,5.5,7.0,12.0,5.0,13.5,3.5,3.5,4.0,1.5,4.0,3.5,1.5,1.0,1.0,3.5,2.5,7.5,45.0,11.0,16.0,1.0,1.5,11.0,2.5,3.5,11.5,4.0,2.5,3.5,1.0,1.0,22.5,2.0,4.0,18.0,14.5,10.0,2.5,1.5,2.0,3.0,1.5,5.5,3.5,1.5,4.5,5.0,21.5,12.0,3.5,4.0,0.6,1.0,1.0,7.5,1.5,7.0,2.5,1.0,2.5,8.5,5.0,1.0,1.5,1.0,2.5,4.0,6.0,4.5,1.5,6.5,1.5,3.5,1.5,1.0,4.0,3.0,9.0,14.5,10.5,12.0,4.0,1.5,1.5,1.0,1.5,3.0,1.0,3.0,2.5,0.7166666666666667,3.5,2.0,3.0,3.5,0.6166666666666667,3.0,0.5333333333333333,1.0,1.0,3.0,1.5,1.5,1.0,2.0,2.0,6.0,0.5333333333333333,9.0,3.5,2.0,4.0,1.0,1.5,1.5,12.5,1.0,3.5,3.5,2.5,3.5,6.5,1.0,3.0,19.0,7.5,3.0,4.0,0.6833333333333333,1.5,1.5,0.5333333333333333,7.0,5.5,0.7,0.7,1.0,7.0,6.0,5.5,1.5,2.0,2.0,5.0,1.5,3.0,3.5,1.0,1.5,4.0,2.5,3.0,8.0,1.5,2.0,2.5,1.0,3.0,3.5,1.0,13.0,5.0,3.5,0.5333333333333333,4.0,9.0,2.5,2.5,1.5,7.0,1.5,13.5,2.0,3.0,2.5,1.5,3.5,0.65,2.5,7.0,0.6666666666666666,4.0,1.5,1.5,6.5,7.0,3.0,0.6666666666666666,0.6,2.0,1.0,10.5,7.0,0.6666666666666666,3.0,4.5,4.0,5.5,5.0,16.0,11.5,19.5,1.5,3.5,13.0,14.5,2.0,2.5,10.5,3.5,1.0,2.0,1.5,7.0,0.6166666666666667,6.0,15.5,3.0,17.0,2.0,3.5,5.5,3.5,18.5,1.0,1.0,7.5,2.0,7.5,3.0,1.5,0.6166666666666667,5.5,7.5,0.5833333333333334,1.5,3.0,1.0,10.5,2.0,6.5,7.5,16.0,4.5,3.0,1.0,3.0,2.5,0.5,6.0,5.0,18.5,7.0,1.5,1.0,8.0,3.0,3.0,22.0,3.0,1.5,6.5,1.0,2.0,26.0,2.5,2.5,1.5,3.5,4.0,3.5,2.5,1.5,4.5,1.0,2.0,1.0,2.0,4.5,5.5,3.0,3.0,14.0,2.5,4.0,2.0,0.5666666666666667,0.5666666666666667,2.0,2.5,2.0,1.5,1.5,1.0,1.5,25.5,2.5,6.0,1.0,1.0,2.5,15.0,6.0,5.0,1.5,5.5,2.5,2.0,7.0,10.0,5.0,8.0,3.5,16.0,2.5,4.0,1.0,5.0,4.5,2.0,5.0,2.5,22.5,2.5,0.6,3.0,2.0,2.5,1.5,4.0,1.5,16.5,3.5,3.0,1.0,3.5,1.0,1.5,2.0,4.0,7.0,1.5,2.0,6.5,6.5,2.5,6.5,3.0,4.5,0.6333333333333333,1.5,1.0,5.0,1.0,6.5,6.5,3.0,2.5,0.6,14.0,1.0,15.5,2.0,0.5,2.5,1.5,3.5],\"y0\":\" \",\"yaxis\":\"y5\",\"type\":\"box\"}],                        {\"template\":{\"data\":{\"histogram2dcontour\":[{\"type\":\"histogram2dcontour\",\"colorbar\":{\"outlinewidth\":0,\"ticks\":\"\"},\"colorscale\":[[0.0,\"#0d0887\"],[0.1111111111111111,\"#46039f\"],[0.2222222222222222,\"#7201a8\"],[0.3333333333333333,\"#9c179e\"],[0.4444444444444444,\"#bd3786\"],[0.5555555555555556,\"#d8576b\"],[0.6666666666666666,\"#ed7953\"],[0.7777777777777778,\"#fb9f3a\"],[0.8888888888888888,\"#fdca26\"],[1.0,\"#f0f921\"]]}],\"choropleth\":[{\"type\":\"choropleth\",\"colorbar\":{\"outlinewidth\":0,\"ticks\":\"\"}}],\"histogram2d\":[{\"type\":\"histogram2d\",\"colorbar\":{\"outlinewidth\":0,\"ticks\":\"\"},\"colorscale\":[[0.0,\"#0d0887\"],[0.1111111111111111,\"#46039f\"],[0.2222222222222222,\"#7201a8\"],[0.3333333333333333,\"#9c179e\"],[0.4444444444444444,\"#bd3786\"],[0.5555555555555556,\"#d8576b\"],[0.6666666666666666,\"#ed7953\"],[0.7777777777777778,\"#fb9f3a\"],[0.8888888888888888,\"#fdca26\"],[1.0,\"#f0f921\"]]}],\"heatmap\":[{\"type\":\"heatmap\",\"colorbar\":{\"outlinewidth\":0,\"ticks\":\"\"},\"colorscale\":[[0.0,\"#0d0887\"],[0.1111111111111111,\"#46039f\"],[0.2222222222222222,\"#7201a8\"],[0.3333333333333333,\"#9c179e\"],[0.4444444444444444,\"#bd3786\"],[0.5555555555555556,\"#d8576b\"],[0.6666666666666666,\"#ed7953\"],[0.7777777777777778,\"#fb9f3a\"],[0.8888888888888888,\"#fdca26\"],[1.0,\"#f0f921\"]]}],\"heatmapgl\":[{\"type\":\"heatmapgl\",\"colorbar\":{\"outlinewidth\":0,\"ticks\":\"\"},\"colorscale\":[[0.0,\"#0d0887\"],[0.1111111111111111,\"#46039f\"],[0.2222222222222222,\"#7201a8\"],[0.3333333333333333,\"#9c179e\"],[0.4444444444444444,\"#bd3786\"],[0.5555555555555556,\"#d8576b\"],[0.6666666666666666,\"#ed7953\"],[0.7777777777777778,\"#fb9f3a\"],[0.8888888888888888,\"#fdca26\"],[1.0,\"#f0f921\"]]}],\"contourcarpet\":[{\"type\":\"contourcarpet\",\"colorbar\":{\"outlinewidth\":0,\"ticks\":\"\"}}],\"contour\":[{\"type\":\"contour\",\"colorbar\":{\"outlinewidth\":0,\"ticks\":\"\"},\"colorscale\":[[0.0,\"#0d0887\"],[0.1111111111111111,\"#46039f\"],[0.2222222222222222,\"#7201a8\"],[0.3333333333333333,\"#9c179e\"],[0.4444444444444444,\"#bd3786\"],[0.5555555555555556,\"#d8576b\"],[0.6666666666666666,\"#ed7953\"],[0.7777777777777778,\"#fb9f3a\"],[0.8888888888888888,\"#fdca26\"],[1.0,\"#f0f921\"]]}],\"surface\":[{\"type\":\"surface\",\"colorbar\":{\"outlinewidth\":0,\"ticks\":\"\"},\"colorscale\":[[0.0,\"#0d0887\"],[0.1111111111111111,\"#46039f\"],[0.2222222222222222,\"#7201a8\"],[0.3333333333333333,\"#9c179e\"],[0.4444444444444444,\"#bd3786\"],[0.5555555555555556,\"#d8576b\"],[0.6666666666666666,\"#ed7953\"],[0.7777777777777778,\"#fb9f3a\"],[0.8888888888888888,\"#fdca26\"],[1.0,\"#f0f921\"]]}],\"mesh3d\":[{\"type\":\"mesh3d\",\"colorbar\":{\"outlinewidth\":0,\"ticks\":\"\"}}],\"scatter\":[{\"fillpattern\":{\"fillmode\":\"overlay\",\"size\":10,\"solidity\":0.2},\"type\":\"scatter\"}],\"parcoords\":[{\"type\":\"parcoords\",\"line\":{\"colorbar\":{\"outlinewidth\":0,\"ticks\":\"\"}}}],\"scatterpolargl\":[{\"type\":\"scatterpolargl\",\"marker\":{\"colorbar\":{\"outlinewidth\":0,\"ticks\":\"\"}}}],\"bar\":[{\"error_x\":{\"color\":\"#2a3f5f\"},\"error_y\":{\"color\":\"#2a3f5f\"},\"marker\":{\"line\":{\"color\":\"#E5ECF6\",\"width\":0.5},\"pattern\":{\"fillmode\":\"overlay\",\"size\":10,\"solidity\":0.2}},\"type\":\"bar\"}],\"scattergeo\":[{\"type\":\"scattergeo\",\"marker\":{\"colorbar\":{\"outlinewidth\":0,\"ticks\":\"\"}}}],\"scatterpolar\":[{\"type\":\"scatterpolar\",\"marker\":{\"colorbar\":{\"outlinewidth\":0,\"ticks\":\"\"}}}],\"histogram\":[{\"marker\":{\"pattern\":{\"fillmode\":\"overlay\",\"size\":10,\"solidity\":0.2}},\"type\":\"histogram\"}],\"scattergl\":[{\"type\":\"scattergl\",\"marker\":{\"colorbar\":{\"outlinewidth\":0,\"ticks\":\"\"}}}],\"scatter3d\":[{\"type\":\"scatter3d\",\"line\":{\"colorbar\":{\"outlinewidth\":0,\"ticks\":\"\"}},\"marker\":{\"colorbar\":{\"outlinewidth\":0,\"ticks\":\"\"}}}],\"scattermapbox\":[{\"type\":\"scattermapbox\",\"marker\":{\"colorbar\":{\"outlinewidth\":0,\"ticks\":\"\"}}}],\"scatterternary\":[{\"type\":\"scatterternary\",\"marker\":{\"colorbar\":{\"outlinewidth\":0,\"ticks\":\"\"}}}],\"scattercarpet\":[{\"type\":\"scattercarpet\",\"marker\":{\"colorbar\":{\"outlinewidth\":0,\"ticks\":\"\"}}}],\"carpet\":[{\"aaxis\":{\"endlinecolor\":\"#2a3f5f\",\"gridcolor\":\"white\",\"linecolor\":\"white\",\"minorgridcolor\":\"white\",\"startlinecolor\":\"#2a3f5f\"},\"baxis\":{\"endlinecolor\":\"#2a3f5f\",\"gridcolor\":\"white\",\"linecolor\":\"white\",\"minorgridcolor\":\"white\",\"startlinecolor\":\"#2a3f5f\"},\"type\":\"carpet\"}],\"table\":[{\"cells\":{\"fill\":{\"color\":\"#EBF0F8\"},\"line\":{\"color\":\"white\"}},\"header\":{\"fill\":{\"color\":\"#C8D4E3\"},\"line\":{\"color\":\"white\"}},\"type\":\"table\"}],\"barpolar\":[{\"marker\":{\"line\":{\"color\":\"#E5ECF6\",\"width\":0.5},\"pattern\":{\"fillmode\":\"overlay\",\"size\":10,\"solidity\":0.2}},\"type\":\"barpolar\"}],\"pie\":[{\"automargin\":true,\"type\":\"pie\"}]},\"layout\":{\"autotypenumbers\":\"strict\",\"colorway\":[\"#636efa\",\"#EF553B\",\"#00cc96\",\"#ab63fa\",\"#FFA15A\",\"#19d3f3\",\"#FF6692\",\"#B6E880\",\"#FF97FF\",\"#FECB52\"],\"font\":{\"color\":\"#2a3f5f\"},\"hovermode\":\"closest\",\"hoverlabel\":{\"align\":\"left\"},\"paper_bgcolor\":\"white\",\"plot_bgcolor\":\"#E5ECF6\",\"polar\":{\"bgcolor\":\"#E5ECF6\",\"angularaxis\":{\"gridcolor\":\"white\",\"linecolor\":\"white\",\"ticks\":\"\"},\"radialaxis\":{\"gridcolor\":\"white\",\"linecolor\":\"white\",\"ticks\":\"\"}},\"ternary\":{\"bgcolor\":\"#E5ECF6\",\"aaxis\":{\"gridcolor\":\"white\",\"linecolor\":\"white\",\"ticks\":\"\"},\"baxis\":{\"gridcolor\":\"white\",\"linecolor\":\"white\",\"ticks\":\"\"},\"caxis\":{\"gridcolor\":\"white\",\"linecolor\":\"white\",\"ticks\":\"\"}},\"coloraxis\":{\"colorbar\":{\"outlinewidth\":0,\"ticks\":\"\"}},\"colorscale\":{\"sequential\":[[0.0,\"#0d0887\"],[0.1111111111111111,\"#46039f\"],[0.2222222222222222,\"#7201a8\"],[0.3333333333333333,\"#9c179e\"],[0.4444444444444444,\"#bd3786\"],[0.5555555555555556,\"#d8576b\"],[0.6666666666666666,\"#ed7953\"],[0.7777777777777778,\"#fb9f3a\"],[0.8888888888888888,\"#fdca26\"],[1.0,\"#f0f921\"]],\"sequentialminus\":[[0.0,\"#0d0887\"],[0.1111111111111111,\"#46039f\"],[0.2222222222222222,\"#7201a8\"],[0.3333333333333333,\"#9c179e\"],[0.4444444444444444,\"#bd3786\"],[0.5555555555555556,\"#d8576b\"],[0.6666666666666666,\"#ed7953\"],[0.7777777777777778,\"#fb9f3a\"],[0.8888888888888888,\"#fdca26\"],[1.0,\"#f0f921\"]],\"diverging\":[[0,\"#8e0152\"],[0.1,\"#c51b7d\"],[0.2,\"#de77ae\"],[0.3,\"#f1b6da\"],[0.4,\"#fde0ef\"],[0.5,\"#f7f7f7\"],[0.6,\"#e6f5d0\"],[0.7,\"#b8e186\"],[0.8,\"#7fbc41\"],[0.9,\"#4d9221\"],[1,\"#276419\"]]},\"xaxis\":{\"gridcolor\":\"white\",\"linecolor\":\"white\",\"ticks\":\"\",\"title\":{\"standoff\":15},\"zerolinecolor\":\"white\",\"automargin\":true,\"zerolinewidth\":2},\"yaxis\":{\"gridcolor\":\"white\",\"linecolor\":\"white\",\"ticks\":\"\",\"title\":{\"standoff\":15},\"zerolinecolor\":\"white\",\"automargin\":true,\"zerolinewidth\":2},\"scene\":{\"xaxis\":{\"backgroundcolor\":\"#E5ECF6\",\"gridcolor\":\"white\",\"linecolor\":\"white\",\"showbackground\":true,\"ticks\":\"\",\"zerolinecolor\":\"white\",\"gridwidth\":2},\"yaxis\":{\"backgroundcolor\":\"#E5ECF6\",\"gridcolor\":\"white\",\"linecolor\":\"white\",\"showbackground\":true,\"ticks\":\"\",\"zerolinecolor\":\"white\",\"gridwidth\":2},\"zaxis\":{\"backgroundcolor\":\"#E5ECF6\",\"gridcolor\":\"white\",\"linecolor\":\"white\",\"showbackground\":true,\"ticks\":\"\",\"zerolinecolor\":\"white\",\"gridwidth\":2}},\"shapedefaults\":{\"line\":{\"color\":\"#2a3f5f\"}},\"annotationdefaults\":{\"arrowcolor\":\"#2a3f5f\",\"arrowhead\":0,\"arrowwidth\":1},\"geo\":{\"bgcolor\":\"white\",\"landcolor\":\"#E5ECF6\",\"subunitcolor\":\"white\",\"showland\":true,\"showlakes\":true,\"lakecolor\":\"white\"},\"title\":{\"x\":0.05},\"mapbox\":{\"style\":\"light\"}}},\"xaxis\":{\"anchor\":\"y\",\"domain\":[0.0,0.18400000000000002]},\"yaxis\":{\"anchor\":\"x\",\"domain\":[0.0,1.0],\"title\":{\"text\":\"value\"}},\"xaxis2\":{\"anchor\":\"y2\",\"domain\":[0.20400000000000001,0.388],\"matches\":\"x\"},\"yaxis2\":{\"anchor\":\"x2\",\"domain\":[0.0,1.0],\"showticklabels\":false},\"xaxis3\":{\"anchor\":\"y3\",\"domain\":[0.40800000000000003,0.5920000000000001],\"matches\":\"x\"},\"yaxis3\":{\"anchor\":\"x3\",\"domain\":[0.0,1.0],\"showticklabels\":false},\"xaxis4\":{\"anchor\":\"y4\",\"domain\":[0.6120000000000001,0.7960000000000002],\"matches\":\"x\"},\"yaxis4\":{\"anchor\":\"x4\",\"domain\":[0.0,1.0],\"showticklabels\":false},\"xaxis5\":{\"anchor\":\"y5\",\"domain\":[0.8160000000000001,1.0],\"matches\":\"x\"},\"yaxis5\":{\"anchor\":\"x5\",\"domain\":[0.0,1.0],\"showticklabels\":false},\"annotations\":[{\"font\":{},\"showarrow\":false,\"text\":\"variable=price\",\"x\":0.09200000000000001,\"xanchor\":\"center\",\"xref\":\"paper\",\"y\":1.0,\"yanchor\":\"bottom\",\"yref\":\"paper\"},{\"font\":{},\"showarrow\":false,\"text\":\"variable=num_subscribers\",\"x\":0.29600000000000004,\"xanchor\":\"center\",\"xref\":\"paper\",\"y\":1.0,\"yanchor\":\"bottom\",\"yref\":\"paper\"},{\"font\":{},\"showarrow\":false,\"text\":\"variable=num_reviews\",\"x\":0.5,\"xanchor\":\"center\",\"xref\":\"paper\",\"y\":1.0,\"yanchor\":\"bottom\",\"yref\":\"paper\"},{\"font\":{},\"showarrow\":false,\"text\":\"variable=num_lectures\",\"x\":0.7040000000000002,\"xanchor\":\"center\",\"xref\":\"paper\",\"y\":1.0,\"yanchor\":\"bottom\",\"yref\":\"paper\"},{\"font\":{},\"showarrow\":false,\"text\":\"variable=content_duration\",\"x\":0.908,\"xanchor\":\"center\",\"xref\":\"paper\",\"y\":1.0,\"yanchor\":\"bottom\",\"yref\":\"paper\"}],\"legend\":{\"title\":{\"text\":\"variable\"},\"tracegroupgap\":0},\"margin\":{\"t\":60},\"boxmode\":\"overlay\"},                        {\"responsive\": true}                    ).then(function(){\n",
       "                            \n",
       "var gd = document.getElementById('d3e5ad79-a7ef-4e7a-9757-f2cd625b8020');\n",
       "var x = new MutationObserver(function (mutations, observer) {{\n",
       "        var display = window.getComputedStyle(gd).display;\n",
       "        if (!display || display === 'none') {{\n",
       "            console.log([gd, 'removed!']);\n",
       "            Plotly.purge(gd);\n",
       "            observer.disconnect();\n",
       "        }}\n",
       "}});\n",
       "\n",
       "// Listen for the removal of the full notebook cells\n",
       "var notebookContainer = gd.closest('#notebook-container');\n",
       "if (notebookContainer) {{\n",
       "    x.observe(notebookContainer, {childList: true});\n",
       "}}\n",
       "\n",
       "// Listen for the clearing of the current output cell\n",
       "var outputEl = gd.closest('.output');\n",
       "if (outputEl) {{\n",
       "    x.observe(outputEl, {childList: true});\n",
       "}}\n",
       "\n",
       "                        })                };                });            </script>        </div>"
      ]
     },
     "metadata": {},
     "output_type": "display_data"
    }
   ],
   "source": [
    "# check outliers again\n",
    "\n",
    "px.box(profit_up_df_num.melt(), y= 'value', facet_col= 'variable', color= 'variable', boxmode= 'overlay').update_yaxes(matches= None)"
   ]
  },
  {
   "cell_type": "code",
   "execution_count": 88,
   "id": "f3e17bab",
   "metadata": {
    "execution": {
     "iopub.execute_input": "2023-07-24T06:45:07.482695Z",
     "iopub.status.busy": "2023-07-24T06:45:07.481609Z",
     "iopub.status.idle": "2023-07-24T06:45:07.589096Z",
     "shell.execute_reply": "2023-07-24T06:45:07.587978Z"
    },
    "id": "xVatwVlGf7Ox",
    "outputId": "126db51b-03b8-4e71-f72e-ef30ea035d32",
    "papermill": {
     "duration": 0.170768,
     "end_time": "2023-07-24T06:45:07.591865",
     "exception": false,
     "start_time": "2023-07-24T06:45:07.421097",
     "status": "completed"
    },
    "tags": []
   },
   "outputs": [
    {
     "data": {
      "text/html": [
       "<div>                            <div id=\"4a0f56bc-94bb-4267-a056-76b41dbe8f2b\" class=\"plotly-graph-div\" style=\"height:400px; width:600px;\"></div>            <script type=\"text/javascript\">                require([\"plotly\"], function(Plotly) {                    window.PLOTLYENV=window.PLOTLYENV || {};                                    if (document.getElementById(\"4a0f56bc-94bb-4267-a056-76b41dbe8f2b\")) {                    Plotly.newPlot(                        \"4a0f56bc-94bb-4267-a056-76b41dbe8f2b\",                        [{\"alignmentgroup\":\"True\",\"bingroup\":\"x\",\"hovertemplate\":\"variable=price\\u003cbr\\u003evalue=%{x}\\u003cbr\\u003ecount=%{y}\\u003cextra\\u003e\\u003c\\u002fextra\\u003e\",\"legendgroup\":\"price\",\"marker\":{\"color\":\"#636efa\",\"pattern\":{\"shape\":\"\"}},\"name\":\"price\",\"offsetgroup\":\"price\",\"orientation\":\"v\",\"showlegend\":true,\"x\":[150,95,195,200,75,200,50,95,75,150,200,175,45,195,195,195,115,200,150,200,95,125,60,200,155,185,180,125,185,125,95,60,120,160,20,95,200,95,150,40,75,40,25,50,0,195,150,95,0,20,150,50,0,180,25,200,20,20,100,150,20,60,30,95,200,200,35,200,120,25,20,120,200,45,50,20,50,200,120,145,195,200,45,20,200,20,20,20,60,20,20,50,50,50,0,60,40,45,95,50,95,40,20,20,20,20,60,75,20,20,200,20,20,30,95,50,65,50,95,50,105,40,20,50,20,0,125,35,50,50,200,95,30,30,50,35,20,125,0,20,60,0,50,0,60,25,0,150,35,20,200,20,20,70,50,20,75,20,20,50,20,20,25,20,200,60,180,30,40,20,150,95,0,20,20,195,0,100,20,200,180,75,25,50,95,40,145,30,50,20,90,20,75,50,20,145,45,20,50,20,20,20,30,40,200,100,50,30,20,45,25,20,20,20,20,20,30,35,20,0,30,200,50,190,95,35,30,195,0,20,50,50,25,50,55,20,95,55,50,25,20,20,95,55,20,20,0,200,20,95,0,20,25,195,200,0,20,195,20,105,20,30,20,20,20,20,20,150,25,95,20,50,50,20,20,50,75,50,50,20,195,50,55,40,30,50,50,40,20,200,95,0,50,50,50,20,20,20,200,20,50,40,20,20,20,100,20,25,20,95,20,40,20,20,20,50,20,20,20,195,0,0,50,95,50,0,200,60,50,25,30,40,20,30,95,45,200,50,40,20,50,20,40,30,200,0,35,95,20,145,150,20,20,20,20,35,180,50,40,0,20,125,75,95,50,95,200,20,40,20,50,25,20,20,40,0,50,30,50,50,0,50,0,30,20,20,50,90,0,100,20,20,50,40,30,50,20,20,200,50,40,20,20,0,20,95,40,50,85,60,200,145,60,20,200,60,20,20,140,120,170,50,150,60,20,20,50,0,50,25,150,0,50,50,0,20,25,20,50,25,0,50,20,50,20,50,95,20,20,50,50,50,40,30,0,20,20,30,90,20,50,60,60,20,20,25,50,20,200,20,30,145,30,20,20,20,20,20,35,30,35,50,30,20,20,0,20,180,95,20,20,20,50,50,20,50,100,20,20,20,0,45,30,50,20,20,40,20,50,50,0,20,50,50,20,95,35,40,110,20,95,30,40,50,50,20,50,0,25,50,20,20,40,20,20,45,20,20,30,30,0,20,85,45,20,20,30,200,30,140,20,25,40,20,40,25,20,20,30,125,25,20,0,0,195,20,30,40,50,40,50,195,20,200,50,20,50,50,35,40,20,20,180,40,50,95,40,50,20,20,25,20,20,50,65,50,50,195,20,30,100,55,35,20,180,20,150,200,25,20,0,200,200,75,200,95,200,195,20,30,20,20,25,50,150,30,25,20,20,20,20,0,0,0,200,25,20,200,20,150,150,45,60,190,20,95,200,75,45,120,20,25,0,30,0,0,50,20,100,40,0,105,30,25,95,95,95,0,20,20,20,70,50,30,20,200,200,20,40,0,75,50,50,20,30,20,20,20,80,125,20,20,50,45,20,40,20,20,45,0,100,20,25,150,70,30,20,60,30,30,20,0,200,20,80,195,20,20,50,25,95,30,0,200,145,95,40,20,100,165,30,0,25,120,20,20,70,145,25,195,0,0,20,30,30,30,135,75,20,20,95,20,0,25,95,50,70,100,50,95,30,20,195,20,45,20,20,20,115,20,20,20,50,150,25,45,20,35,20,185,20,30,20,20,95,20,25,200,100,30,20,200,95,0,95,20,25,20,20,20,40,20,20,20,20,40,20,35,20,20,20,20,20,50,90,195,100,50,20,155,20,45,45,20,75,40,20,40,40,150,20,20,150,20,20,50,20,20,50,20,85,20,20,40,200,200,200,195,25,20,25,20,20,20,20,20,100,35,200,25,25,50,20,20,40,20,80,50,25,20,45,30,30,20,20,25,180,75,95,195,175,100,125,195,135,20,100,20,20,30,60,20,20,20,20,50,20,20,50,50,20,20,20,50,100,50,45,20,25,20,20,20,100,50,150,35,55,25,35,40,20,20,200,195,200,100,200,20,35,165,20,20,50,105,35,120,20,0,95,20,30,20,20,50,20,45,35,20,40,20,30,25,100,25,20,50,20,20,20,50,40,20,100,150,195,105,25,195,50,20,30,20,95,20,40,50,50,20,50,20,30,85,25,20,35,0,30,20,35,20,120,20,20,25,20,20,45,100,20,20,40,40,20,20,20,20,25,50,25,20,200,35,20,20,85,40,25,195,35,20,200,20,195,35,20,20,20,20,20,20,40,20,20,30,20,20,20,20,20,50,25,20,30,40,20,50,95,50,50,20,50,20,55,75,50,50,20,50,0,50,0,200,85,20,35,20,45,35,120,30,30,0,145,200,200,50,200,20,50,100,20,20,20,0,85,125,75,20,20,35,20,35,35,50,50,50,20,50,50,50,20,20,50,195,20,20,20,100,50,30,20,50,25,20,0,0,20,75,35,85,25,20,50,50,50,50,35,20,20,35,50,20,25,25,50,50,30,50,50,50,30,50,50,50,25,20,20,20,20,25,35,50,50,20,50,50,35,20,50,40,20,35,20,20,40,20,35,50,35,20,20,20,30,20,20,20,85,20,20,50,195,35,25,25,45,30,20,20,50,50,50,50,50,50,50,20,20,195,40,100,60,200,195,100,150,120,70,20,100,100,125,75,25,195,100,50,0,0,100,30,50,75,40,20,95,0,50,200,50,195,200,40,200,195,85,20,150,95,150,95,75,195,150,190,50,100,30,45,0,200,35,20,30,45,100,200,200,75,40,100,100,20,20,45,195,20,25,20,20,20,25,35,100,100,100,100,50,195,20,100,75,25,60,115,0,75,20,70,200,0,50,20,50,0,25,40,95,95,35,20,65,50,40,95,30,20,195,20,200,75,200,125,65,75,170,20,45,200,0,20,100,20,75,20,20,195,75,0,120,75,0,20,100,175,95,40,20,40,65,95,20,20,145,20,50,195,50,20,20,20,20,145,100,100,40,20,150,20,40,0,95,100,200,100,75,75,20,95,80,100,200,75,195,20,50,115,55,20,50,25,40,20,0,20,20,75,200,100,95,20,75,75,20,20,35,110,75,150,20,100,175,120,95,195,25,50,35,40,20,50,0,75,50,20,100,35,95,45,100,145,0,20,195,95,50,30,120,20,60,200,20,20,0,75,100,0,30,30,20,0,200,0,75,0,80,100,85,195,30,25,50,200,0,95,200,30,0,120,0,20,195,35,95,90,90,200,55,85,55,40,0,85,25,20,125,50,45,25,50,150,45,200,200,40,35,20,200,60,0,0,200,200,20,95,35,20,200,50,100,195,75,95,75,0,100,50,30,200,20,50,50,120,20,40,75,100,50,20,200,105,20,50,20,40,95,200,200,200,40,50,50,95,65,200,20,20,50,20,50,20,40,20,85,0,95,50,120,20,25,40,90,200,75,95,50,25,45,20,25,30,50,20,40],\"xaxis\":\"x\",\"yaxis\":\"y\",\"type\":\"histogram\"}],                        {\"template\":{\"data\":{\"histogram2dcontour\":[{\"type\":\"histogram2dcontour\",\"colorbar\":{\"outlinewidth\":0,\"ticks\":\"\"},\"colorscale\":[[0.0,\"#0d0887\"],[0.1111111111111111,\"#46039f\"],[0.2222222222222222,\"#7201a8\"],[0.3333333333333333,\"#9c179e\"],[0.4444444444444444,\"#bd3786\"],[0.5555555555555556,\"#d8576b\"],[0.6666666666666666,\"#ed7953\"],[0.7777777777777778,\"#fb9f3a\"],[0.8888888888888888,\"#fdca26\"],[1.0,\"#f0f921\"]]}],\"choropleth\":[{\"type\":\"choropleth\",\"colorbar\":{\"outlinewidth\":0,\"ticks\":\"\"}}],\"histogram2d\":[{\"type\":\"histogram2d\",\"colorbar\":{\"outlinewidth\":0,\"ticks\":\"\"},\"colorscale\":[[0.0,\"#0d0887\"],[0.1111111111111111,\"#46039f\"],[0.2222222222222222,\"#7201a8\"],[0.3333333333333333,\"#9c179e\"],[0.4444444444444444,\"#bd3786\"],[0.5555555555555556,\"#d8576b\"],[0.6666666666666666,\"#ed7953\"],[0.7777777777777778,\"#fb9f3a\"],[0.8888888888888888,\"#fdca26\"],[1.0,\"#f0f921\"]]}],\"heatmap\":[{\"type\":\"heatmap\",\"colorbar\":{\"outlinewidth\":0,\"ticks\":\"\"},\"colorscale\":[[0.0,\"#0d0887\"],[0.1111111111111111,\"#46039f\"],[0.2222222222222222,\"#7201a8\"],[0.3333333333333333,\"#9c179e\"],[0.4444444444444444,\"#bd3786\"],[0.5555555555555556,\"#d8576b\"],[0.6666666666666666,\"#ed7953\"],[0.7777777777777778,\"#fb9f3a\"],[0.8888888888888888,\"#fdca26\"],[1.0,\"#f0f921\"]]}],\"heatmapgl\":[{\"type\":\"heatmapgl\",\"colorbar\":{\"outlinewidth\":0,\"ticks\":\"\"},\"colorscale\":[[0.0,\"#0d0887\"],[0.1111111111111111,\"#46039f\"],[0.2222222222222222,\"#7201a8\"],[0.3333333333333333,\"#9c179e\"],[0.4444444444444444,\"#bd3786\"],[0.5555555555555556,\"#d8576b\"],[0.6666666666666666,\"#ed7953\"],[0.7777777777777778,\"#fb9f3a\"],[0.8888888888888888,\"#fdca26\"],[1.0,\"#f0f921\"]]}],\"contourcarpet\":[{\"type\":\"contourcarpet\",\"colorbar\":{\"outlinewidth\":0,\"ticks\":\"\"}}],\"contour\":[{\"type\":\"contour\",\"colorbar\":{\"outlinewidth\":0,\"ticks\":\"\"},\"colorscale\":[[0.0,\"#0d0887\"],[0.1111111111111111,\"#46039f\"],[0.2222222222222222,\"#7201a8\"],[0.3333333333333333,\"#9c179e\"],[0.4444444444444444,\"#bd3786\"],[0.5555555555555556,\"#d8576b\"],[0.6666666666666666,\"#ed7953\"],[0.7777777777777778,\"#fb9f3a\"],[0.8888888888888888,\"#fdca26\"],[1.0,\"#f0f921\"]]}],\"surface\":[{\"type\":\"surface\",\"colorbar\":{\"outlinewidth\":0,\"ticks\":\"\"},\"colorscale\":[[0.0,\"#0d0887\"],[0.1111111111111111,\"#46039f\"],[0.2222222222222222,\"#7201a8\"],[0.3333333333333333,\"#9c179e\"],[0.4444444444444444,\"#bd3786\"],[0.5555555555555556,\"#d8576b\"],[0.6666666666666666,\"#ed7953\"],[0.7777777777777778,\"#fb9f3a\"],[0.8888888888888888,\"#fdca26\"],[1.0,\"#f0f921\"]]}],\"mesh3d\":[{\"type\":\"mesh3d\",\"colorbar\":{\"outlinewidth\":0,\"ticks\":\"\"}}],\"scatter\":[{\"fillpattern\":{\"fillmode\":\"overlay\",\"size\":10,\"solidity\":0.2},\"type\":\"scatter\"}],\"parcoords\":[{\"type\":\"parcoords\",\"line\":{\"colorbar\":{\"outlinewidth\":0,\"ticks\":\"\"}}}],\"scatterpolargl\":[{\"type\":\"scatterpolargl\",\"marker\":{\"colorbar\":{\"outlinewidth\":0,\"ticks\":\"\"}}}],\"bar\":[{\"error_x\":{\"color\":\"#2a3f5f\"},\"error_y\":{\"color\":\"#2a3f5f\"},\"marker\":{\"line\":{\"color\":\"#E5ECF6\",\"width\":0.5},\"pattern\":{\"fillmode\":\"overlay\",\"size\":10,\"solidity\":0.2}},\"type\":\"bar\"}],\"scattergeo\":[{\"type\":\"scattergeo\",\"marker\":{\"colorbar\":{\"outlinewidth\":0,\"ticks\":\"\"}}}],\"scatterpolar\":[{\"type\":\"scatterpolar\",\"marker\":{\"colorbar\":{\"outlinewidth\":0,\"ticks\":\"\"}}}],\"histogram\":[{\"marker\":{\"pattern\":{\"fillmode\":\"overlay\",\"size\":10,\"solidity\":0.2}},\"type\":\"histogram\"}],\"scattergl\":[{\"type\":\"scattergl\",\"marker\":{\"colorbar\":{\"outlinewidth\":0,\"ticks\":\"\"}}}],\"scatter3d\":[{\"type\":\"scatter3d\",\"line\":{\"colorbar\":{\"outlinewidth\":0,\"ticks\":\"\"}},\"marker\":{\"colorbar\":{\"outlinewidth\":0,\"ticks\":\"\"}}}],\"scattermapbox\":[{\"type\":\"scattermapbox\",\"marker\":{\"colorbar\":{\"outlinewidth\":0,\"ticks\":\"\"}}}],\"scatterternary\":[{\"type\":\"scatterternary\",\"marker\":{\"colorbar\":{\"outlinewidth\":0,\"ticks\":\"\"}}}],\"scattercarpet\":[{\"type\":\"scattercarpet\",\"marker\":{\"colorbar\":{\"outlinewidth\":0,\"ticks\":\"\"}}}],\"carpet\":[{\"aaxis\":{\"endlinecolor\":\"#2a3f5f\",\"gridcolor\":\"white\",\"linecolor\":\"white\",\"minorgridcolor\":\"white\",\"startlinecolor\":\"#2a3f5f\"},\"baxis\":{\"endlinecolor\":\"#2a3f5f\",\"gridcolor\":\"white\",\"linecolor\":\"white\",\"minorgridcolor\":\"white\",\"startlinecolor\":\"#2a3f5f\"},\"type\":\"carpet\"}],\"table\":[{\"cells\":{\"fill\":{\"color\":\"#EBF0F8\"},\"line\":{\"color\":\"white\"}},\"header\":{\"fill\":{\"color\":\"#C8D4E3\"},\"line\":{\"color\":\"white\"}},\"type\":\"table\"}],\"barpolar\":[{\"marker\":{\"line\":{\"color\":\"#E5ECF6\",\"width\":0.5},\"pattern\":{\"fillmode\":\"overlay\",\"size\":10,\"solidity\":0.2}},\"type\":\"barpolar\"}],\"pie\":[{\"automargin\":true,\"type\":\"pie\"}]},\"layout\":{\"autotypenumbers\":\"strict\",\"colorway\":[\"#636efa\",\"#EF553B\",\"#00cc96\",\"#ab63fa\",\"#FFA15A\",\"#19d3f3\",\"#FF6692\",\"#B6E880\",\"#FF97FF\",\"#FECB52\"],\"font\":{\"color\":\"#2a3f5f\"},\"hovermode\":\"closest\",\"hoverlabel\":{\"align\":\"left\"},\"paper_bgcolor\":\"white\",\"plot_bgcolor\":\"#E5ECF6\",\"polar\":{\"bgcolor\":\"#E5ECF6\",\"angularaxis\":{\"gridcolor\":\"white\",\"linecolor\":\"white\",\"ticks\":\"\"},\"radialaxis\":{\"gridcolor\":\"white\",\"linecolor\":\"white\",\"ticks\":\"\"}},\"ternary\":{\"bgcolor\":\"#E5ECF6\",\"aaxis\":{\"gridcolor\":\"white\",\"linecolor\":\"white\",\"ticks\":\"\"},\"baxis\":{\"gridcolor\":\"white\",\"linecolor\":\"white\",\"ticks\":\"\"},\"caxis\":{\"gridcolor\":\"white\",\"linecolor\":\"white\",\"ticks\":\"\"}},\"coloraxis\":{\"colorbar\":{\"outlinewidth\":0,\"ticks\":\"\"}},\"colorscale\":{\"sequential\":[[0.0,\"#0d0887\"],[0.1111111111111111,\"#46039f\"],[0.2222222222222222,\"#7201a8\"],[0.3333333333333333,\"#9c179e\"],[0.4444444444444444,\"#bd3786\"],[0.5555555555555556,\"#d8576b\"],[0.6666666666666666,\"#ed7953\"],[0.7777777777777778,\"#fb9f3a\"],[0.8888888888888888,\"#fdca26\"],[1.0,\"#f0f921\"]],\"sequentialminus\":[[0.0,\"#0d0887\"],[0.1111111111111111,\"#46039f\"],[0.2222222222222222,\"#7201a8\"],[0.3333333333333333,\"#9c179e\"],[0.4444444444444444,\"#bd3786\"],[0.5555555555555556,\"#d8576b\"],[0.6666666666666666,\"#ed7953\"],[0.7777777777777778,\"#fb9f3a\"],[0.8888888888888888,\"#fdca26\"],[1.0,\"#f0f921\"]],\"diverging\":[[0,\"#8e0152\"],[0.1,\"#c51b7d\"],[0.2,\"#de77ae\"],[0.3,\"#f1b6da\"],[0.4,\"#fde0ef\"],[0.5,\"#f7f7f7\"],[0.6,\"#e6f5d0\"],[0.7,\"#b8e186\"],[0.8,\"#7fbc41\"],[0.9,\"#4d9221\"],[1,\"#276419\"]]},\"xaxis\":{\"gridcolor\":\"white\",\"linecolor\":\"white\",\"ticks\":\"\",\"title\":{\"standoff\":15},\"zerolinecolor\":\"white\",\"automargin\":true,\"zerolinewidth\":2},\"yaxis\":{\"gridcolor\":\"white\",\"linecolor\":\"white\",\"ticks\":\"\",\"title\":{\"standoff\":15},\"zerolinecolor\":\"white\",\"automargin\":true,\"zerolinewidth\":2},\"scene\":{\"xaxis\":{\"backgroundcolor\":\"#E5ECF6\",\"gridcolor\":\"white\",\"linecolor\":\"white\",\"showbackground\":true,\"ticks\":\"\",\"zerolinecolor\":\"white\",\"gridwidth\":2},\"yaxis\":{\"backgroundcolor\":\"#E5ECF6\",\"gridcolor\":\"white\",\"linecolor\":\"white\",\"showbackground\":true,\"ticks\":\"\",\"zerolinecolor\":\"white\",\"gridwidth\":2},\"zaxis\":{\"backgroundcolor\":\"#E5ECF6\",\"gridcolor\":\"white\",\"linecolor\":\"white\",\"showbackground\":true,\"ticks\":\"\",\"zerolinecolor\":\"white\",\"gridwidth\":2}},\"shapedefaults\":{\"line\":{\"color\":\"#2a3f5f\"}},\"annotationdefaults\":{\"arrowcolor\":\"#2a3f5f\",\"arrowhead\":0,\"arrowwidth\":1},\"geo\":{\"bgcolor\":\"white\",\"landcolor\":\"#E5ECF6\",\"subunitcolor\":\"white\",\"showland\":true,\"showlakes\":true,\"lakecolor\":\"white\"},\"title\":{\"x\":0.05},\"mapbox\":{\"style\":\"light\"}}},\"xaxis\":{\"anchor\":\"y\",\"domain\":[0.0,1.0],\"title\":{\"text\":\"value\"}},\"yaxis\":{\"anchor\":\"x\",\"domain\":[0.0,1.0],\"title\":{\"text\":\"count\"}},\"legend\":{\"title\":{\"text\":\"variable\"},\"tracegroupgap\":0},\"margin\":{\"t\":60},\"barmode\":\"relative\",\"height\":400,\"width\":600},                        {\"responsive\": true}                    ).then(function(){\n",
       "                            \n",
       "var gd = document.getElementById('4a0f56bc-94bb-4267-a056-76b41dbe8f2b');\n",
       "var x = new MutationObserver(function (mutations, observer) {{\n",
       "        var display = window.getComputedStyle(gd).display;\n",
       "        if (!display || display === 'none') {{\n",
       "            console.log([gd, 'removed!']);\n",
       "            Plotly.purge(gd);\n",
       "            observer.disconnect();\n",
       "        }}\n",
       "}});\n",
       "\n",
       "// Listen for the removal of the full notebook cells\n",
       "var notebookContainer = gd.closest('#notebook-container');\n",
       "if (notebookContainer) {{\n",
       "    x.observe(notebookContainer, {childList: true});\n",
       "}}\n",
       "\n",
       "// Listen for the clearing of the current output cell\n",
       "var outputEl = gd.closest('.output');\n",
       "if (outputEl) {{\n",
       "    x.observe(outputEl, {childList: true});\n",
       "}}\n",
       "\n",
       "                        })                };                });            </script>        </div>"
      ]
     },
     "metadata": {},
     "output_type": "display_data"
    }
   ],
   "source": [
    "px.histogram(data_frame= profit_up_df_num['price'], height= 400, width= 600)"
   ]
  },
  {
   "cell_type": "markdown",
   "id": "c5437bcc",
   "metadata": {
    "id": "XU2qKziIJnZ5",
    "papermill": {
     "duration": 0.059336,
     "end_time": "2023-07-24T06:45:07.712120",
     "exception": false,
     "start_time": "2023-07-24T06:45:07.652784",
     "status": "completed"
    },
    "tags": []
   },
   "source": [
    "# For Web Development"
   ]
  },
  {
   "cell_type": "code",
   "execution_count": 89,
   "id": "1211272b",
   "metadata": {
    "execution": {
     "iopub.execute_input": "2023-07-24T06:45:07.833620Z",
     "iopub.status.busy": "2023-07-24T06:45:07.832992Z",
     "iopub.status.idle": "2023-07-24T06:45:07.864791Z",
     "shell.execute_reply": "2023-07-24T06:45:07.863488Z"
    },
    "id": "HRnma8bZHg7a",
    "outputId": "adb54099-aa86-4231-8fcb-1ac07966dede",
    "papermill": {
     "duration": 0.095338,
     "end_time": "2023-07-24T06:45:07.867163",
     "exception": false,
     "start_time": "2023-07-24T06:45:07.771825",
     "status": "completed"
    },
    "tags": []
   },
   "outputs": [
    {
     "data": {
      "text/html": [
       "<div>\n",
       "<style scoped>\n",
       "    .dataframe tbody tr th:only-of-type {\n",
       "        vertical-align: middle;\n",
       "    }\n",
       "\n",
       "    .dataframe tbody tr th {\n",
       "        vertical-align: top;\n",
       "    }\n",
       "\n",
       "    .dataframe thead th {\n",
       "        text-align: right;\n",
       "    }\n",
       "</style>\n",
       "<table border=\"1\" class=\"dataframe\">\n",
       "  <thead>\n",
       "    <tr style=\"text-align: right;\">\n",
       "      <th></th>\n",
       "      <th>price</th>\n",
       "      <th>num_subscribers</th>\n",
       "      <th>num_reviews</th>\n",
       "      <th>num_lectures</th>\n",
       "      <th>content_duration</th>\n",
       "    </tr>\n",
       "  </thead>\n",
       "  <tbody>\n",
       "    <tr>\n",
       "      <th>count</th>\n",
       "      <td>367.00</td>\n",
       "      <td>367.00</td>\n",
       "      <td>367.00</td>\n",
       "      <td>367.00</td>\n",
       "      <td>367.00</td>\n",
       "    </tr>\n",
       "    <tr>\n",
       "      <th>mean</th>\n",
       "      <td>74.75</td>\n",
       "      <td>5465.26</td>\n",
       "      <td>156.81</td>\n",
       "      <td>44.98</td>\n",
       "      <td>4.57</td>\n",
       "    </tr>\n",
       "    <tr>\n",
       "      <th>std</th>\n",
       "      <td>61.38</td>\n",
       "      <td>6149.59</td>\n",
       "      <td>251.84</td>\n",
       "      <td>43.10</td>\n",
       "      <td>5.07</td>\n",
       "    </tr>\n",
       "    <tr>\n",
       "      <th>min</th>\n",
       "      <td>0.00</td>\n",
       "      <td>130.00</td>\n",
       "      <td>3.00</td>\n",
       "      <td>5.00</td>\n",
       "      <td>0.50</td>\n",
       "    </tr>\n",
       "    <tr>\n",
       "      <th>25%</th>\n",
       "      <td>20.00</td>\n",
       "      <td>1338.50</td>\n",
       "      <td>33.00</td>\n",
       "      <td>19.00</td>\n",
       "      <td>1.50</td>\n",
       "    </tr>\n",
       "    <tr>\n",
       "      <th>50%</th>\n",
       "      <td>50.00</td>\n",
       "      <td>2784.00</td>\n",
       "      <td>72.00</td>\n",
       "      <td>31.00</td>\n",
       "      <td>3.00</td>\n",
       "    </tr>\n",
       "    <tr>\n",
       "      <th>75%</th>\n",
       "      <td>100.00</td>\n",
       "      <td>7138.00</td>\n",
       "      <td>149.50</td>\n",
       "      <td>54.00</td>\n",
       "      <td>5.50</td>\n",
       "    </tr>\n",
       "    <tr>\n",
       "      <th>max</th>\n",
       "      <td>200.00</td>\n",
       "      <td>31499.00</td>\n",
       "      <td>1948.00</td>\n",
       "      <td>304.00</td>\n",
       "      <td>45.00</td>\n",
       "    </tr>\n",
       "  </tbody>\n",
       "</table>\n",
       "</div>"
      ],
      "text/plain": [
       "        price  num_subscribers  num_reviews  num_lectures  content_duration\n",
       "count  367.00           367.00       367.00        367.00            367.00\n",
       "mean    74.75          5465.26       156.81         44.98              4.57\n",
       "std     61.38          6149.59       251.84         43.10              5.07\n",
       "min      0.00           130.00         3.00          5.00              0.50\n",
       "25%     20.00          1338.50        33.00         19.00              1.50\n",
       "50%     50.00          2784.00        72.00         31.00              3.00\n",
       "75%    100.00          7138.00       149.50         54.00              5.50\n",
       "max    200.00         31499.00      1948.00        304.00             45.00"
      ]
     },
     "execution_count": 89,
     "metadata": {},
     "output_type": "execute_result"
    }
   ],
   "source": [
    "profit_up_df[profit_up_df['subject'] == 'Web Development'].describe().round(2)"
   ]
  },
  {
   "cell_type": "markdown",
   "id": "8b39e322",
   "metadata": {
    "id": "tb2RlJK_JsiE",
    "papermill": {
     "duration": 0.059489,
     "end_time": "2023-07-24T06:45:07.986434",
     "exception": false,
     "start_time": "2023-07-24T06:45:07.926945",
     "status": "completed"
    },
    "tags": []
   },
   "source": [
    "# For Business Finance"
   ]
  },
  {
   "cell_type": "code",
   "execution_count": 90,
   "id": "e0751202",
   "metadata": {
    "execution": {
     "iopub.execute_input": "2023-07-24T06:45:08.108559Z",
     "iopub.status.busy": "2023-07-24T06:45:08.107363Z",
     "iopub.status.idle": "2023-07-24T06:45:08.139922Z",
     "shell.execute_reply": "2023-07-24T06:45:08.138732Z"
    },
    "id": "dA2kmNhYIMQI",
    "outputId": "b66a46ed-7164-40a4-e370-b188079c77ef",
    "papermill": {
     "duration": 0.09645,
     "end_time": "2023-07-24T06:45:08.142551",
     "exception": false,
     "start_time": "2023-07-24T06:45:08.046101",
     "status": "completed"
    },
    "tags": []
   },
   "outputs": [
    {
     "data": {
      "text/html": [
       "<div>\n",
       "<style scoped>\n",
       "    .dataframe tbody tr th:only-of-type {\n",
       "        vertical-align: middle;\n",
       "    }\n",
       "\n",
       "    .dataframe tbody tr th {\n",
       "        vertical-align: top;\n",
       "    }\n",
       "\n",
       "    .dataframe thead th {\n",
       "        text-align: right;\n",
       "    }\n",
       "</style>\n",
       "<table border=\"1\" class=\"dataframe\">\n",
       "  <thead>\n",
       "    <tr style=\"text-align: right;\">\n",
       "      <th></th>\n",
       "      <th>price</th>\n",
       "      <th>num_subscribers</th>\n",
       "      <th>num_reviews</th>\n",
       "      <th>num_lectures</th>\n",
       "      <th>content_duration</th>\n",
       "    </tr>\n",
       "  </thead>\n",
       "  <tbody>\n",
       "    <tr>\n",
       "      <th>count</th>\n",
       "      <td>606.00</td>\n",
       "      <td>606.00</td>\n",
       "      <td>606.00</td>\n",
       "      <td>606.00</td>\n",
       "      <td>606.00</td>\n",
       "    </tr>\n",
       "    <tr>\n",
       "      <th>mean</th>\n",
       "      <td>59.97</td>\n",
       "      <td>1859.42</td>\n",
       "      <td>69.07</td>\n",
       "      <td>31.32</td>\n",
       "      <td>3.54</td>\n",
       "    </tr>\n",
       "    <tr>\n",
       "      <th>std</th>\n",
       "      <td>57.19</td>\n",
       "      <td>3209.50</td>\n",
       "      <td>208.72</td>\n",
       "      <td>35.53</td>\n",
       "      <td>4.34</td>\n",
       "    </tr>\n",
       "    <tr>\n",
       "      <th>min</th>\n",
       "      <td>0.00</td>\n",
       "      <td>1.00</td>\n",
       "      <td>0.00</td>\n",
       "      <td>5.00</td>\n",
       "      <td>0.45</td>\n",
       "    </tr>\n",
       "    <tr>\n",
       "      <th>25%</th>\n",
       "      <td>20.00</td>\n",
       "      <td>132.00</td>\n",
       "      <td>4.00</td>\n",
       "      <td>14.00</td>\n",
       "      <td>1.50</td>\n",
       "    </tr>\n",
       "    <tr>\n",
       "      <th>50%</th>\n",
       "      <td>40.00</td>\n",
       "      <td>738.00</td>\n",
       "      <td>13.00</td>\n",
       "      <td>22.00</td>\n",
       "      <td>2.00</td>\n",
       "    </tr>\n",
       "    <tr>\n",
       "      <th>75%</th>\n",
       "      <td>75.00</td>\n",
       "      <td>2146.00</td>\n",
       "      <td>46.75</td>\n",
       "      <td>36.00</td>\n",
       "      <td>4.00</td>\n",
       "    </tr>\n",
       "    <tr>\n",
       "      <th>max</th>\n",
       "      <td>200.00</td>\n",
       "      <td>29167.00</td>\n",
       "      <td>2697.00</td>\n",
       "      <td>332.00</td>\n",
       "      <td>47.00</td>\n",
       "    </tr>\n",
       "  </tbody>\n",
       "</table>\n",
       "</div>"
      ],
      "text/plain": [
       "        price  num_subscribers  num_reviews  num_lectures  content_duration\n",
       "count  606.00           606.00       606.00        606.00            606.00\n",
       "mean    59.97          1859.42        69.07         31.32              3.54\n",
       "std     57.19          3209.50       208.72         35.53              4.34\n",
       "min      0.00             1.00         0.00          5.00              0.45\n",
       "25%     20.00           132.00         4.00         14.00              1.50\n",
       "50%     40.00           738.00        13.00         22.00              2.00\n",
       "75%     75.00          2146.00        46.75         36.00              4.00\n",
       "max    200.00         29167.00      2697.00        332.00             47.00"
      ]
     },
     "execution_count": 90,
     "metadata": {},
     "output_type": "execute_result"
    }
   ],
   "source": [
    "profit_up_df[profit_up_df['subject'] == 'Business Finance'].describe().round(2)"
   ]
  },
  {
   "cell_type": "markdown",
   "id": "322810d0",
   "metadata": {
    "id": "R6Wo4pS6JyGj",
    "papermill": {
     "duration": 0.062635,
     "end_time": "2023-07-24T06:45:08.265705",
     "exception": false,
     "start_time": "2023-07-24T06:45:08.203070",
     "status": "completed"
    },
    "tags": []
   },
   "source": [
    "# For Graphic Design"
   ]
  },
  {
   "cell_type": "code",
   "execution_count": 91,
   "id": "c4968a37",
   "metadata": {
    "execution": {
     "iopub.execute_input": "2023-07-24T06:45:08.389194Z",
     "iopub.status.busy": "2023-07-24T06:45:08.388298Z",
     "iopub.status.idle": "2023-07-24T06:45:08.421433Z",
     "shell.execute_reply": "2023-07-24T06:45:08.420302Z"
    },
    "id": "oavOwwzbIUqY",
    "outputId": "988aa48c-e69e-495b-a421-1eb179a09153",
    "papermill": {
     "duration": 0.097788,
     "end_time": "2023-07-24T06:45:08.423993",
     "exception": false,
     "start_time": "2023-07-24T06:45:08.326205",
     "status": "completed"
    },
    "tags": []
   },
   "outputs": [
    {
     "data": {
      "text/html": [
       "<div>\n",
       "<style scoped>\n",
       "    .dataframe tbody tr th:only-of-type {\n",
       "        vertical-align: middle;\n",
       "    }\n",
       "\n",
       "    .dataframe tbody tr th {\n",
       "        vertical-align: top;\n",
       "    }\n",
       "\n",
       "    .dataframe thead th {\n",
       "        text-align: right;\n",
       "    }\n",
       "</style>\n",
       "<table border=\"1\" class=\"dataframe\">\n",
       "  <thead>\n",
       "    <tr style=\"text-align: right;\">\n",
       "      <th></th>\n",
       "      <th>price</th>\n",
       "      <th>num_subscribers</th>\n",
       "      <th>num_reviews</th>\n",
       "      <th>num_lectures</th>\n",
       "      <th>content_duration</th>\n",
       "    </tr>\n",
       "  </thead>\n",
       "  <tbody>\n",
       "    <tr>\n",
       "      <th>count</th>\n",
       "      <td>433.00</td>\n",
       "      <td>433.00</td>\n",
       "      <td>433.00</td>\n",
       "      <td>433.00</td>\n",
       "      <td>433.00</td>\n",
       "    </tr>\n",
       "    <tr>\n",
       "      <th>mean</th>\n",
       "      <td>55.97</td>\n",
       "      <td>1599.17</td>\n",
       "      <td>57.03</td>\n",
       "      <td>31.85</td>\n",
       "      <td>3.31</td>\n",
       "    </tr>\n",
       "    <tr>\n",
       "      <th>std</th>\n",
       "      <td>56.40</td>\n",
       "      <td>3696.27</td>\n",
       "      <td>180.32</td>\n",
       "      <td>28.95</td>\n",
       "      <td>3.58</td>\n",
       "    </tr>\n",
       "    <tr>\n",
       "      <th>min</th>\n",
       "      <td>0.00</td>\n",
       "      <td>0.00</td>\n",
       "      <td>0.00</td>\n",
       "      <td>5.00</td>\n",
       "      <td>0.50</td>\n",
       "    </tr>\n",
       "    <tr>\n",
       "      <th>25%</th>\n",
       "      <td>20.00</td>\n",
       "      <td>72.00</td>\n",
       "      <td>4.00</td>\n",
       "      <td>13.00</td>\n",
       "      <td>1.00</td>\n",
       "    </tr>\n",
       "    <tr>\n",
       "      <th>50%</th>\n",
       "      <td>30.00</td>\n",
       "      <td>452.00</td>\n",
       "      <td>11.00</td>\n",
       "      <td>23.00</td>\n",
       "      <td>2.00</td>\n",
       "    </tr>\n",
       "    <tr>\n",
       "      <th>75%</th>\n",
       "      <td>75.00</td>\n",
       "      <td>1479.00</td>\n",
       "      <td>37.00</td>\n",
       "      <td>40.00</td>\n",
       "      <td>4.00</td>\n",
       "    </tr>\n",
       "    <tr>\n",
       "      <th>max</th>\n",
       "      <td>200.00</td>\n",
       "      <td>36288.00</td>\n",
       "      <td>2215.00</td>\n",
       "      <td>207.00</td>\n",
       "      <td>30.00</td>\n",
       "    </tr>\n",
       "  </tbody>\n",
       "</table>\n",
       "</div>"
      ],
      "text/plain": [
       "        price  num_subscribers  num_reviews  num_lectures  content_duration\n",
       "count  433.00           433.00       433.00        433.00            433.00\n",
       "mean    55.97          1599.17        57.03         31.85              3.31\n",
       "std     56.40          3696.27       180.32         28.95              3.58\n",
       "min      0.00             0.00         0.00          5.00              0.50\n",
       "25%     20.00            72.00         4.00         13.00              1.00\n",
       "50%     30.00           452.00        11.00         23.00              2.00\n",
       "75%     75.00          1479.00        37.00         40.00              4.00\n",
       "max    200.00         36288.00      2215.00        207.00             30.00"
      ]
     },
     "execution_count": 91,
     "metadata": {},
     "output_type": "execute_result"
    }
   ],
   "source": [
    "profit_up_df[profit_up_df['subject'] == 'Graphic Design'].describe().round(2)"
   ]
  },
  {
   "cell_type": "markdown",
   "id": "6434ff37",
   "metadata": {
    "id": "3Irmbp2cJ4Nv",
    "papermill": {
     "duration": 0.061531,
     "end_time": "2023-07-24T06:45:08.545619",
     "exception": false,
     "start_time": "2023-07-24T06:45:08.484088",
     "status": "completed"
    },
    "tags": []
   },
   "source": [
    "# For Musical Instruments"
   ]
  },
  {
   "cell_type": "code",
   "execution_count": 92,
   "id": "ab046867",
   "metadata": {
    "execution": {
     "iopub.execute_input": "2023-07-24T06:45:08.670057Z",
     "iopub.status.busy": "2023-07-24T06:45:08.669214Z",
     "iopub.status.idle": "2023-07-24T06:45:08.701464Z",
     "shell.execute_reply": "2023-07-24T06:45:08.700296Z"
    },
    "id": "IBhtpYYWIeT4",
    "outputId": "825f5add-e991-4c68-d4f1-f25e7128f1ca",
    "papermill": {
     "duration": 0.097646,
     "end_time": "2023-07-24T06:45:08.703961",
     "exception": false,
     "start_time": "2023-07-24T06:45:08.606315",
     "status": "completed"
    },
    "tags": []
   },
   "outputs": [
    {
     "data": {
      "text/html": [
       "<div>\n",
       "<style scoped>\n",
       "    .dataframe tbody tr th:only-of-type {\n",
       "        vertical-align: middle;\n",
       "    }\n",
       "\n",
       "    .dataframe tbody tr th {\n",
       "        vertical-align: top;\n",
       "    }\n",
       "\n",
       "    .dataframe thead th {\n",
       "        text-align: right;\n",
       "    }\n",
       "</style>\n",
       "<table border=\"1\" class=\"dataframe\">\n",
       "  <thead>\n",
       "    <tr style=\"text-align: right;\">\n",
       "      <th></th>\n",
       "      <th>price</th>\n",
       "      <th>num_subscribers</th>\n",
       "      <th>num_reviews</th>\n",
       "      <th>num_lectures</th>\n",
       "      <th>content_duration</th>\n",
       "    </tr>\n",
       "  </thead>\n",
       "  <tbody>\n",
       "    <tr>\n",
       "      <th>count</th>\n",
       "      <td>157.00</td>\n",
       "      <td>157.00</td>\n",
       "      <td>157.00</td>\n",
       "      <td>157.00</td>\n",
       "      <td>157.00</td>\n",
       "    </tr>\n",
       "    <tr>\n",
       "      <th>mean</th>\n",
       "      <td>44.39</td>\n",
       "      <td>1167.04</td>\n",
       "      <td>44.76</td>\n",
       "      <td>41.55</td>\n",
       "      <td>3.60</td>\n",
       "    </tr>\n",
       "    <tr>\n",
       "      <th>std</th>\n",
       "      <td>38.48</td>\n",
       "      <td>3405.78</td>\n",
       "      <td>226.66</td>\n",
       "      <td>49.45</td>\n",
       "      <td>4.92</td>\n",
       "    </tr>\n",
       "    <tr>\n",
       "      <th>min</th>\n",
       "      <td>0.00</td>\n",
       "      <td>3.00</td>\n",
       "      <td>0.00</td>\n",
       "      <td>5.00</td>\n",
       "      <td>0.48</td>\n",
       "    </tr>\n",
       "    <tr>\n",
       "      <th>25%</th>\n",
       "      <td>20.00</td>\n",
       "      <td>30.00</td>\n",
       "      <td>2.00</td>\n",
       "      <td>15.00</td>\n",
       "      <td>1.50</td>\n",
       "    </tr>\n",
       "    <tr>\n",
       "      <th>50%</th>\n",
       "      <td>35.00</td>\n",
       "      <td>184.00</td>\n",
       "      <td>5.00</td>\n",
       "      <td>23.00</td>\n",
       "      <td>2.50</td>\n",
       "    </tr>\n",
       "    <tr>\n",
       "      <th>75%</th>\n",
       "      <td>50.00</td>\n",
       "      <td>594.00</td>\n",
       "      <td>20.00</td>\n",
       "      <td>46.00</td>\n",
       "      <td>3.50</td>\n",
       "    </tr>\n",
       "    <tr>\n",
       "      <th>max</th>\n",
       "      <td>200.00</td>\n",
       "      <td>32935.00</td>\n",
       "      <td>2713.00</td>\n",
       "      <td>310.00</td>\n",
       "      <td>38.00</td>\n",
       "    </tr>\n",
       "  </tbody>\n",
       "</table>\n",
       "</div>"
      ],
      "text/plain": [
       "        price  num_subscribers  num_reviews  num_lectures  content_duration\n",
       "count  157.00           157.00       157.00        157.00            157.00\n",
       "mean    44.39          1167.04        44.76         41.55              3.60\n",
       "std     38.48          3405.78       226.66         49.45              4.92\n",
       "min      0.00             3.00         0.00          5.00              0.48\n",
       "25%     20.00            30.00         2.00         15.00              1.50\n",
       "50%     35.00           184.00         5.00         23.00              2.50\n",
       "75%     50.00           594.00        20.00         46.00              3.50\n",
       "max    200.00         32935.00      2713.00        310.00             38.00"
      ]
     },
     "execution_count": 92,
     "metadata": {},
     "output_type": "execute_result"
    }
   ],
   "source": [
    "profit_up_df[profit_up_df['subject'] == 'Musical Instruments'].describe().round(2)"
   ]
  }
 ],
 "metadata": {
  "kernelspec": {
   "display_name": "Python 3 (ipykernel)",
   "language": "python",
   "name": "python3"
  },
  "language_info": {
   "codemirror_mode": {
    "name": "ipython",
    "version": 3
   },
   "file_extension": ".py",
   "mimetype": "text/x-python",
   "name": "python",
   "nbconvert_exporter": "python",
   "pygments_lexer": "ipython3",
   "version": "3.11.3"
  },
  "papermill": {
   "default_parameters": {},
   "duration": 35.437725,
   "end_time": "2023-07-24T06:45:09.889049",
   "environment_variables": {},
   "exception": null,
   "input_path": "__notebook__.ipynb",
   "output_path": "__notebook__.ipynb",
   "parameters": {},
   "start_time": "2023-07-24T06:44:34.451324",
   "version": "2.4.0"
  }
 },
 "nbformat": 4,
 "nbformat_minor": 5
}
